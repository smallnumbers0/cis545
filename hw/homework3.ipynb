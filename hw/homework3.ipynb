{
  "cells": [
    {
      "cell_type": "markdown",
      "metadata": {
        "id": "qVMCjEV1IEC7"
      },
      "source": [
        "# CIS 5450 Homework 3: Spark SQL\n",
        "\n",
        "### **Deadline: Tuesday, 15th October, 2024 @ 11:59pm EST**\n",
        "\n",
        "#### **Worth 100 points**\n",
        "\n",
        "Welcome to CIS 5450 Homework 3! In this homework you will gain a mastery of using Spark SQL. By the end, you'll be a star (not that you aren't already one). Over the next few days you will be using an EMR cluster to use Spark to manipulate the datasets about Amazon products and their reviews.\n",
        "\n",
        "## The Necessary Notes and Nags\n",
        "Before we begin here are some important notes to keep in mind,\n",
        "\n",
        "\n",
        "1.   **IMPORTANT!** I said it twice, it's really important. In this homework, we will be using AWS resources. You are given a quota ($100) to use for the entirety of the homework. There is a small chance you will use all this money, however it is important that at the end of every session, you **shut down your EMR cluster**.\n",
        "2.   **Be sure you use Google Colab for this Homework** since we must connect to the EMR cluster and local Jupyter will have issues doing that. Using a Google Colab Notebook with an EMR cluster has two important abnormalities:\n",
        "    * The first line of any cell in which you will use the spark session must be `%%spark`. Notice that all cells below have this.\n",
        "    * You will, unfortunately, not be able to stop a cell while it is running. If you wish to do so, you will need to restart your cluster. See the Setup EMR Document for reference.\n",
        "3.   You are **required** to use Spark SQL queries to handle the data in the assignment. Mastering SQL is more beneficial than being able to use Spark commands (functions) as it will show up in more areas of programming and data science/analytics than just Spark. Use the following [function list](https://spark.apache.org/docs/latest/api/sql/index.html#) to see all the SQL functions avaliable in Spark.\n",
        "4.   Throughout the homework you will be manipulating Spark dataframes (sdfs).\n",
        "5. Based on the challenges you've faced in the previous homework, we are including information on the expected schema of your results.  Apache Spark is very fiddly but we hope this will help.\n",
        "6. There are portions of this homework that are _very_ hard. We urge you start early to come to office hours and get help if you get stuck. But don't worry, I can see the future, and you all got this.\n",
        "\n",
        "With that said, let's dive in.\n",
        "\n",
        "\n"
      ]
    },
    {
      "cell_type": "markdown",
      "metadata": {
        "id": "7XEqGpEGBWs5"
      },
      "source": [
        "## Step 0: Set up EMR\n",
        "\n",
        "Follow the [AWS Academy Getting Started](https://drive.google.com/file/d/18_foEACQJsLobQY5O3VRPA20lL4gpNCf/view?usp=sharing) instructions.\n",
        "\n",
        "Move on to Step 0.1 after you have completed all the steps in the document.\n",
        "\n",
        "![ACME GIANT RUBBER BAND](https://pbs.twimg.com/media/DRqbJh7UMAE2z4o?format=jpg&name=4096x4096)\n"
      ]
    },
    {
      "cell_type": "markdown",
      "metadata": {
        "id": "5iBPXxgAdXkv"
      },
      "source": [
        "### 0.1: The Superfluous Setup\n",
        "\n",
        "Run the following two cells. These will allow your colab notebook to connect to and use your EMR."
      ]
    },
    {
      "cell_type": "code",
      "execution_count": 1,
      "metadata": {
        "id": "pvkEbVaaAQ1e",
        "colab": {
          "base_uri": "https://localhost:8080/"
        },
        "outputId": "4976a8da-8413-47e9-93dc-d9b2d67e0c83"
      },
      "outputs": [
        {
          "output_type": "stream",
          "name": "stdout",
          "text": [
            "Reading package lists... Done\n",
            "Building dependency tree... Done\n",
            "Reading state information... Done\n",
            "libkrb5-dev is already the newest version (1.19.2-2ubuntu0.4).\n",
            "0 upgraded, 0 newly installed, 0 to remove and 49 not upgraded.\n",
            "Requirement already satisfied: sparkmagic in /usr/local/lib/python3.10/dist-packages (0.21.0)\n",
            "Requirement already satisfied: hdijupyterutils>=0.6 in /usr/local/lib/python3.10/dist-packages (from sparkmagic) (0.21.0)\n",
            "Requirement already satisfied: autovizwidget>=0.6 in /usr/local/lib/python3.10/dist-packages (from sparkmagic) (0.21.0)\n",
            "Requirement already satisfied: ipython>=4.0.2 in /usr/local/lib/python3.10/dist-packages (from sparkmagic) (7.34.0)\n",
            "Requirement already satisfied: pandas<2.0.0,>=0.17.1 in /usr/local/lib/python3.10/dist-packages (from sparkmagic) (1.5.3)\n",
            "Requirement already satisfied: numpy in /usr/local/lib/python3.10/dist-packages (from sparkmagic) (1.26.4)\n",
            "Requirement already satisfied: requests in /usr/local/lib/python3.10/dist-packages (from sparkmagic) (2.32.3)\n",
            "Requirement already satisfied: ipykernel>=4.2.2 in /usr/local/lib/python3.10/dist-packages (from sparkmagic) (6.29.5)\n",
            "Requirement already satisfied: ipywidgets>5.0.0 in /usr/local/lib/python3.10/dist-packages (from sparkmagic) (7.7.1)\n",
            "Requirement already satisfied: notebook>=4.2 in /usr/local/lib/python3.10/dist-packages (from sparkmagic) (6.5.5)\n",
            "Requirement already satisfied: tornado>=4 in /usr/local/lib/python3.10/dist-packages (from sparkmagic) (6.3.3)\n",
            "Requirement already satisfied: requests-kerberos>=0.8.0 in /usr/local/lib/python3.10/dist-packages (from sparkmagic) (0.15.0)\n",
            "Requirement already satisfied: nest-asyncio>1.5.5 in /usr/local/lib/python3.10/dist-packages (from sparkmagic) (1.6.0)\n",
            "Requirement already satisfied: plotly>=3 in /usr/local/lib/python3.10/dist-packages (from autovizwidget>=0.6->sparkmagic) (5.24.1)\n",
            "Requirement already satisfied: jupyter>=1 in /usr/local/lib/python3.10/dist-packages (from hdijupyterutils>=0.6->sparkmagic) (1.1.1)\n",
            "Requirement already satisfied: comm>=0.1.1 in /usr/local/lib/python3.10/dist-packages (from ipykernel>=4.2.2->sparkmagic) (0.2.2)\n",
            "Requirement already satisfied: debugpy>=1.6.5 in /usr/local/lib/python3.10/dist-packages (from ipykernel>=4.2.2->sparkmagic) (1.6.6)\n",
            "Requirement already satisfied: jupyter-client>=6.1.12 in /usr/local/lib/python3.10/dist-packages (from ipykernel>=4.2.2->sparkmagic) (7.4.9)\n",
            "Requirement already satisfied: jupyter-core!=5.0.*,>=4.12 in /usr/local/lib/python3.10/dist-packages (from ipykernel>=4.2.2->sparkmagic) (5.7.2)\n",
            "Requirement already satisfied: matplotlib-inline>=0.1 in /usr/local/lib/python3.10/dist-packages (from ipykernel>=4.2.2->sparkmagic) (0.1.7)\n",
            "Requirement already satisfied: packaging in /usr/local/lib/python3.10/dist-packages (from ipykernel>=4.2.2->sparkmagic) (24.1)\n",
            "Requirement already satisfied: psutil in /usr/local/lib/python3.10/dist-packages (from ipykernel>=4.2.2->sparkmagic) (5.9.5)\n",
            "Requirement already satisfied: pyzmq>=24 in /usr/local/lib/python3.10/dist-packages (from ipykernel>=4.2.2->sparkmagic) (24.0.1)\n",
            "Requirement already satisfied: traitlets>=5.4.0 in /usr/local/lib/python3.10/dist-packages (from ipykernel>=4.2.2->sparkmagic) (5.7.1)\n",
            "Requirement already satisfied: setuptools>=18.5 in /usr/local/lib/python3.10/dist-packages (from ipython>=4.0.2->sparkmagic) (71.0.4)\n",
            "Requirement already satisfied: jedi>=0.16 in /usr/local/lib/python3.10/dist-packages (from ipython>=4.0.2->sparkmagic) (0.19.1)\n",
            "Requirement already satisfied: decorator in /usr/local/lib/python3.10/dist-packages (from ipython>=4.0.2->sparkmagic) (4.4.2)\n",
            "Requirement already satisfied: pickleshare in /usr/local/lib/python3.10/dist-packages (from ipython>=4.0.2->sparkmagic) (0.7.5)\n",
            "Requirement already satisfied: prompt-toolkit!=3.0.0,!=3.0.1,<3.1.0,>=2.0.0 in /usr/local/lib/python3.10/dist-packages (from ipython>=4.0.2->sparkmagic) (3.0.48)\n",
            "Requirement already satisfied: pygments in /usr/local/lib/python3.10/dist-packages (from ipython>=4.0.2->sparkmagic) (2.18.0)\n",
            "Requirement already satisfied: backcall in /usr/local/lib/python3.10/dist-packages (from ipython>=4.0.2->sparkmagic) (0.2.0)\n",
            "Requirement already satisfied: pexpect>4.3 in /usr/local/lib/python3.10/dist-packages (from ipython>=4.0.2->sparkmagic) (4.9.0)\n",
            "Requirement already satisfied: ipython-genutils~=0.2.0 in /usr/local/lib/python3.10/dist-packages (from ipywidgets>5.0.0->sparkmagic) (0.2.0)\n",
            "Requirement already satisfied: widgetsnbextension~=3.6.0 in /usr/local/lib/python3.10/dist-packages (from ipywidgets>5.0.0->sparkmagic) (3.6.9)\n",
            "Requirement already satisfied: jupyterlab-widgets>=1.0.0 in /usr/local/lib/python3.10/dist-packages (from ipywidgets>5.0.0->sparkmagic) (3.0.13)\n",
            "Requirement already satisfied: jinja2 in /usr/local/lib/python3.10/dist-packages (from notebook>=4.2->sparkmagic) (3.1.4)\n",
            "Requirement already satisfied: argon2-cffi in /usr/local/lib/python3.10/dist-packages (from notebook>=4.2->sparkmagic) (23.1.0)\n",
            "Requirement already satisfied: nbformat in /usr/local/lib/python3.10/dist-packages (from notebook>=4.2->sparkmagic) (5.10.4)\n",
            "Requirement already satisfied: nbconvert>=5 in /usr/local/lib/python3.10/dist-packages (from notebook>=4.2->sparkmagic) (6.5.4)\n",
            "Requirement already satisfied: Send2Trash>=1.8.0 in /usr/local/lib/python3.10/dist-packages (from notebook>=4.2->sparkmagic) (1.8.3)\n",
            "Requirement already satisfied: terminado>=0.8.3 in /usr/local/lib/python3.10/dist-packages (from notebook>=4.2->sparkmagic) (0.18.1)\n",
            "Requirement already satisfied: prometheus-client in /usr/local/lib/python3.10/dist-packages (from notebook>=4.2->sparkmagic) (0.21.0)\n",
            "Requirement already satisfied: nbclassic>=0.4.7 in /usr/local/lib/python3.10/dist-packages (from notebook>=4.2->sparkmagic) (1.1.0)\n",
            "Requirement already satisfied: python-dateutil>=2.8.1 in /usr/local/lib/python3.10/dist-packages (from pandas<2.0.0,>=0.17.1->sparkmagic) (2.8.2)\n",
            "Requirement already satisfied: pytz>=2020.1 in /usr/local/lib/python3.10/dist-packages (from pandas<2.0.0,>=0.17.1->sparkmagic) (2024.2)\n",
            "Requirement already satisfied: cryptography>=1.3 in /usr/local/lib/python3.10/dist-packages (from requests-kerberos>=0.8.0->sparkmagic) (43.0.1)\n",
            "Requirement already satisfied: pyspnego[kerberos] in /usr/local/lib/python3.10/dist-packages (from requests-kerberos>=0.8.0->sparkmagic) (0.11.1)\n",
            "Requirement already satisfied: charset-normalizer<4,>=2 in /usr/local/lib/python3.10/dist-packages (from requests->sparkmagic) (3.4.0)\n",
            "Requirement already satisfied: idna<4,>=2.5 in /usr/local/lib/python3.10/dist-packages (from requests->sparkmagic) (3.10)\n",
            "Requirement already satisfied: urllib3<3,>=1.21.1 in /usr/local/lib/python3.10/dist-packages (from requests->sparkmagic) (2.2.3)\n",
            "Requirement already satisfied: certifi>=2017.4.17 in /usr/local/lib/python3.10/dist-packages (from requests->sparkmagic) (2024.8.30)\n",
            "Requirement already satisfied: cffi>=1.12 in /usr/local/lib/python3.10/dist-packages (from cryptography>=1.3->requests-kerberos>=0.8.0->sparkmagic) (1.17.1)\n",
            "Requirement already satisfied: parso<0.9.0,>=0.8.3 in /usr/local/lib/python3.10/dist-packages (from jedi>=0.16->ipython>=4.0.2->sparkmagic) (0.8.4)\n",
            "Requirement already satisfied: jupyter-console in /usr/local/lib/python3.10/dist-packages (from jupyter>=1->hdijupyterutils>=0.6->sparkmagic) (6.1.0)\n",
            "Requirement already satisfied: jupyterlab in /usr/local/lib/python3.10/dist-packages (from jupyter>=1->hdijupyterutils>=0.6->sparkmagic) (4.2.5)\n",
            "Requirement already satisfied: entrypoints in /usr/local/lib/python3.10/dist-packages (from jupyter-client>=6.1.12->ipykernel>=4.2.2->sparkmagic) (0.4)\n",
            "Requirement already satisfied: platformdirs>=2.5 in /usr/local/lib/python3.10/dist-packages (from jupyter-core!=5.0.*,>=4.12->ipykernel>=4.2.2->sparkmagic) (4.3.6)\n",
            "Requirement already satisfied: notebook-shim>=0.2.3 in /usr/local/lib/python3.10/dist-packages (from nbclassic>=0.4.7->notebook>=4.2->sparkmagic) (0.2.4)\n",
            "Requirement already satisfied: lxml in /usr/local/lib/python3.10/dist-packages (from nbconvert>=5->notebook>=4.2->sparkmagic) (4.9.4)\n",
            "Requirement already satisfied: beautifulsoup4 in /usr/local/lib/python3.10/dist-packages (from nbconvert>=5->notebook>=4.2->sparkmagic) (4.12.3)\n",
            "Requirement already satisfied: bleach in /usr/local/lib/python3.10/dist-packages (from nbconvert>=5->notebook>=4.2->sparkmagic) (6.1.0)\n",
            "Requirement already satisfied: defusedxml in /usr/local/lib/python3.10/dist-packages (from nbconvert>=5->notebook>=4.2->sparkmagic) (0.7.1)\n",
            "Requirement already satisfied: jupyterlab-pygments in /usr/local/lib/python3.10/dist-packages (from nbconvert>=5->notebook>=4.2->sparkmagic) (0.3.0)\n",
            "Requirement already satisfied: MarkupSafe>=2.0 in /usr/local/lib/python3.10/dist-packages (from nbconvert>=5->notebook>=4.2->sparkmagic) (3.0.1)\n",
            "Requirement already satisfied: mistune<2,>=0.8.1 in /usr/local/lib/python3.10/dist-packages (from nbconvert>=5->notebook>=4.2->sparkmagic) (0.8.4)\n",
            "Requirement already satisfied: nbclient>=0.5.0 in /usr/local/lib/python3.10/dist-packages (from nbconvert>=5->notebook>=4.2->sparkmagic) (0.10.0)\n",
            "Requirement already satisfied: pandocfilters>=1.4.1 in /usr/local/lib/python3.10/dist-packages (from nbconvert>=5->notebook>=4.2->sparkmagic) (1.5.1)\n",
            "Requirement already satisfied: tinycss2 in /usr/local/lib/python3.10/dist-packages (from nbconvert>=5->notebook>=4.2->sparkmagic) (1.3.0)\n",
            "Requirement already satisfied: fastjsonschema>=2.15 in /usr/local/lib/python3.10/dist-packages (from nbformat->notebook>=4.2->sparkmagic) (2.20.0)\n",
            "Requirement already satisfied: jsonschema>=2.6 in /usr/local/lib/python3.10/dist-packages (from nbformat->notebook>=4.2->sparkmagic) (4.23.0)\n",
            "Requirement already satisfied: ptyprocess>=0.5 in /usr/local/lib/python3.10/dist-packages (from pexpect>4.3->ipython>=4.0.2->sparkmagic) (0.7.0)\n",
            "Requirement already satisfied: tenacity>=6.2.0 in /usr/local/lib/python3.10/dist-packages (from plotly>=3->autovizwidget>=0.6->sparkmagic) (9.0.0)\n",
            "Requirement already satisfied: wcwidth in /usr/local/lib/python3.10/dist-packages (from prompt-toolkit!=3.0.0,!=3.0.1,<3.1.0,>=2.0.0->ipython>=4.0.2->sparkmagic) (0.2.13)\n",
            "Requirement already satisfied: six>=1.5 in /usr/local/lib/python3.10/dist-packages (from python-dateutil>=2.8.1->pandas<2.0.0,>=0.17.1->sparkmagic) (1.16.0)\n",
            "Requirement already satisfied: argon2-cffi-bindings in /usr/local/lib/python3.10/dist-packages (from argon2-cffi->notebook>=4.2->sparkmagic) (21.2.0)\n",
            "Requirement already satisfied: gssapi>=1.6.0 in /usr/local/lib/python3.10/dist-packages (from pyspnego[kerberos]->requests-kerberos>=0.8.0->sparkmagic) (1.9.0)\n",
            "Requirement already satisfied: krb5>=0.3.0 in /usr/local/lib/python3.10/dist-packages (from pyspnego[kerberos]->requests-kerberos>=0.8.0->sparkmagic) (0.7.0)\n",
            "Requirement already satisfied: pycparser in /usr/local/lib/python3.10/dist-packages (from cffi>=1.12->cryptography>=1.3->requests-kerberos>=0.8.0->sparkmagic) (2.22)\n",
            "Requirement already satisfied: attrs>=22.2.0 in /usr/local/lib/python3.10/dist-packages (from jsonschema>=2.6->nbformat->notebook>=4.2->sparkmagic) (24.2.0)\n",
            "Requirement already satisfied: jsonschema-specifications>=2023.03.6 in /usr/local/lib/python3.10/dist-packages (from jsonschema>=2.6->nbformat->notebook>=4.2->sparkmagic) (2024.10.1)\n",
            "Requirement already satisfied: referencing>=0.28.4 in /usr/local/lib/python3.10/dist-packages (from jsonschema>=2.6->nbformat->notebook>=4.2->sparkmagic) (0.35.1)\n",
            "Requirement already satisfied: rpds-py>=0.7.1 in /usr/local/lib/python3.10/dist-packages (from jsonschema>=2.6->nbformat->notebook>=4.2->sparkmagic) (0.20.0)\n",
            "Requirement already satisfied: jupyter-server<3,>=1.8 in /usr/local/lib/python3.10/dist-packages (from notebook-shim>=0.2.3->nbclassic>=0.4.7->notebook>=4.2->sparkmagic) (2.14.2)\n",
            "Requirement already satisfied: soupsieve>1.2 in /usr/local/lib/python3.10/dist-packages (from beautifulsoup4->nbconvert>=5->notebook>=4.2->sparkmagic) (2.6)\n",
            "Requirement already satisfied: webencodings in /usr/local/lib/python3.10/dist-packages (from bleach->nbconvert>=5->notebook>=4.2->sparkmagic) (0.5.1)\n",
            "Requirement already satisfied: async-lru>=1.0.0 in /usr/local/lib/python3.10/dist-packages (from jupyterlab->jupyter>=1->hdijupyterutils>=0.6->sparkmagic) (2.0.4)\n",
            "Requirement already satisfied: httpx>=0.25.0 in /usr/local/lib/python3.10/dist-packages (from jupyterlab->jupyter>=1->hdijupyterutils>=0.6->sparkmagic) (0.27.2)\n",
            "Requirement already satisfied: jupyter-lsp>=2.0.0 in /usr/local/lib/python3.10/dist-packages (from jupyterlab->jupyter>=1->hdijupyterutils>=0.6->sparkmagic) (2.2.5)\n",
            "Requirement already satisfied: jupyterlab-server<3,>=2.27.1 in /usr/local/lib/python3.10/dist-packages (from jupyterlab->jupyter>=1->hdijupyterutils>=0.6->sparkmagic) (2.27.3)\n",
            "Requirement already satisfied: tomli>=1.2.2 in /usr/local/lib/python3.10/dist-packages (from jupyterlab->jupyter>=1->hdijupyterutils>=0.6->sparkmagic) (2.0.2)\n",
            "Requirement already satisfied: typing-extensions>=4.0.0 in /usr/local/lib/python3.10/dist-packages (from async-lru>=1.0.0->jupyterlab->jupyter>=1->hdijupyterutils>=0.6->sparkmagic) (4.12.2)\n",
            "Requirement already satisfied: anyio in /usr/local/lib/python3.10/dist-packages (from httpx>=0.25.0->jupyterlab->jupyter>=1->hdijupyterutils>=0.6->sparkmagic) (3.7.1)\n",
            "Requirement already satisfied: httpcore==1.* in /usr/local/lib/python3.10/dist-packages (from httpx>=0.25.0->jupyterlab->jupyter>=1->hdijupyterutils>=0.6->sparkmagic) (1.0.6)\n",
            "Requirement already satisfied: sniffio in /usr/local/lib/python3.10/dist-packages (from httpx>=0.25.0->jupyterlab->jupyter>=1->hdijupyterutils>=0.6->sparkmagic) (1.3.1)\n",
            "Requirement already satisfied: h11<0.15,>=0.13 in /usr/local/lib/python3.10/dist-packages (from httpcore==1.*->httpx>=0.25.0->jupyterlab->jupyter>=1->hdijupyterutils>=0.6->sparkmagic) (0.14.0)\n",
            "Requirement already satisfied: jupyter-events>=0.9.0 in /usr/local/lib/python3.10/dist-packages (from jupyter-server<3,>=1.8->notebook-shim>=0.2.3->nbclassic>=0.4.7->notebook>=4.2->sparkmagic) (0.10.0)\n",
            "Requirement already satisfied: jupyter-server-terminals>=0.4.4 in /usr/local/lib/python3.10/dist-packages (from jupyter-server<3,>=1.8->notebook-shim>=0.2.3->nbclassic>=0.4.7->notebook>=4.2->sparkmagic) (0.5.3)\n",
            "Requirement already satisfied: overrides>=5.0 in /usr/local/lib/python3.10/dist-packages (from jupyter-server<3,>=1.8->notebook-shim>=0.2.3->nbclassic>=0.4.7->notebook>=4.2->sparkmagic) (7.7.0)\n",
            "Requirement already satisfied: websocket-client>=1.7 in /usr/local/lib/python3.10/dist-packages (from jupyter-server<3,>=1.8->notebook-shim>=0.2.3->nbclassic>=0.4.7->notebook>=4.2->sparkmagic) (1.8.0)\n",
            "Requirement already satisfied: babel>=2.10 in /usr/local/lib/python3.10/dist-packages (from jupyterlab-server<3,>=2.27.1->jupyterlab->jupyter>=1->hdijupyterutils>=0.6->sparkmagic) (2.16.0)\n",
            "Requirement already satisfied: json5>=0.9.0 in /usr/local/lib/python3.10/dist-packages (from jupyterlab-server<3,>=2.27.1->jupyterlab->jupyter>=1->hdijupyterutils>=0.6->sparkmagic) (0.9.25)\n",
            "Requirement already satisfied: exceptiongroup in /usr/local/lib/python3.10/dist-packages (from anyio->httpx>=0.25.0->jupyterlab->jupyter>=1->hdijupyterutils>=0.6->sparkmagic) (1.2.2)\n",
            "Requirement already satisfied: python-json-logger>=2.0.4 in /usr/local/lib/python3.10/dist-packages (from jupyter-events>=0.9.0->jupyter-server<3,>=1.8->notebook-shim>=0.2.3->nbclassic>=0.4.7->notebook>=4.2->sparkmagic) (2.0.7)\n",
            "Requirement already satisfied: pyyaml>=5.3 in /usr/local/lib/python3.10/dist-packages (from jupyter-events>=0.9.0->jupyter-server<3,>=1.8->notebook-shim>=0.2.3->nbclassic>=0.4.7->notebook>=4.2->sparkmagic) (6.0.2)\n",
            "Requirement already satisfied: rfc3339-validator in /usr/local/lib/python3.10/dist-packages (from jupyter-events>=0.9.0->jupyter-server<3,>=1.8->notebook-shim>=0.2.3->nbclassic>=0.4.7->notebook>=4.2->sparkmagic) (0.1.4)\n",
            "Requirement already satisfied: rfc3986-validator>=0.1.1 in /usr/local/lib/python3.10/dist-packages (from jupyter-events>=0.9.0->jupyter-server<3,>=1.8->notebook-shim>=0.2.3->nbclassic>=0.4.7->notebook>=4.2->sparkmagic) (0.1.1)\n",
            "Requirement already satisfied: fqdn in /usr/local/lib/python3.10/dist-packages (from jsonschema[format-nongpl]>=4.18.0->jupyter-events>=0.9.0->jupyter-server<3,>=1.8->notebook-shim>=0.2.3->nbclassic>=0.4.7->notebook>=4.2->sparkmagic) (1.5.1)\n",
            "Requirement already satisfied: isoduration in /usr/local/lib/python3.10/dist-packages (from jsonschema[format-nongpl]>=4.18.0->jupyter-events>=0.9.0->jupyter-server<3,>=1.8->notebook-shim>=0.2.3->nbclassic>=0.4.7->notebook>=4.2->sparkmagic) (20.11.0)\n",
            "Requirement already satisfied: jsonpointer>1.13 in /usr/local/lib/python3.10/dist-packages (from jsonschema[format-nongpl]>=4.18.0->jupyter-events>=0.9.0->jupyter-server<3,>=1.8->notebook-shim>=0.2.3->nbclassic>=0.4.7->notebook>=4.2->sparkmagic) (3.0.0)\n",
            "Requirement already satisfied: uri-template in /usr/local/lib/python3.10/dist-packages (from jsonschema[format-nongpl]>=4.18.0->jupyter-events>=0.9.0->jupyter-server<3,>=1.8->notebook-shim>=0.2.3->nbclassic>=0.4.7->notebook>=4.2->sparkmagic) (1.3.0)\n",
            "Requirement already satisfied: webcolors>=24.6.0 in /usr/local/lib/python3.10/dist-packages (from jsonschema[format-nongpl]>=4.18.0->jupyter-events>=0.9.0->jupyter-server<3,>=1.8->notebook-shim>=0.2.3->nbclassic>=0.4.7->notebook>=4.2->sparkmagic) (24.8.0)\n",
            "Requirement already satisfied: arrow>=0.15.0 in /usr/local/lib/python3.10/dist-packages (from isoduration->jsonschema[format-nongpl]>=4.18.0->jupyter-events>=0.9.0->jupyter-server<3,>=1.8->notebook-shim>=0.2.3->nbclassic>=0.4.7->notebook>=4.2->sparkmagic) (1.3.0)\n",
            "Requirement already satisfied: types-python-dateutil>=2.8.10 in /usr/local/lib/python3.10/dist-packages (from arrow>=0.15.0->isoduration->jsonschema[format-nongpl]>=4.18.0->jupyter-events>=0.9.0->jupyter-server<3,>=1.8->notebook-shim>=0.2.3->nbclassic>=0.4.7->notebook>=4.2->sparkmagic) (2.9.0.20241003)\n",
            "Requirement already satisfied: penngrader-client in /usr/local/lib/python3.10/dist-packages (0.5.2)\n",
            "Requirement already satisfied: dill in /usr/local/lib/python3.10/dist-packages (from penngrader-client) (0.3.9)\n",
            "Requirement already satisfied: pyyaml in /usr/local/lib/python3.10/dist-packages (from penngrader-client) (6.0.2)\n"
          ]
        }
      ],
      "source": [
        "#%%capture\n",
        "!apt install libkrb5-dev\n",
        "!pip install sparkmagic\n",
        "!pip install penngrader-client"
      ]
    },
    {
      "cell_type": "code",
      "execution_count": 2,
      "metadata": {
        "id": "6WAJmQ8IAbRs"
      },
      "outputs": [],
      "source": [
        "%load_ext sparkmagic.magics"
      ]
    },
    {
      "cell_type": "markdown",
      "metadata": {
        "id": "CL6n768EPt9E"
      },
      "source": [
        "### 0.2: The Sharp Spark\n",
        "\n",
        "Now, connect your notebook to the EMR cluster you created. In the first cell, copy the link to the Master Public DNS specified in the setup document. You will need to add `http://` to the beginning of the address and the auth details to the end.\n",
        "\n",
        "For example, if my DNS (directly from the AWS EMR console) is `ec2-3-15-237-211.us-east-2.compute.amazonaws.com` my address would be,\n",
        "\n",
        "`http://ec2-3-15-237-211.us-east-2.compute.amazonaws.com -a cis545-livy -p password1 -t Basic_Access`\n",
        "\n",
        "Insert this in the `# TODO # below`. For our example, the cell would read,\n",
        "\n",
        "```\n",
        "%spark add -s spark_session -l python -u http://ec2-3-15-237-211.us-east-2.compute.amazonaws.com -a cis545-livy -p password1 -t Basic_Access\n",
        "```"
      ]
    },
    {
      "cell_type": "code",
      "execution_count": 3,
      "metadata": {
        "id": "G9QbylT-jqX9",
        "colab": {
          "base_uri": "https://localhost:8080/",
          "height": 97,
          "referenced_widgets": [
            "3afe6c113f944ee2902b29a7f089d860",
            "318dc86d6c7545cbaf157d154b4fc6ff",
            "a1b37bec7ae542c0b73f7350e194b21e"
          ]
        },
        "outputId": "bd7d55fb-cfde-4764-a138-b14fe4a21423"
      },
      "outputs": [
        {
          "output_type": "stream",
          "name": "stdout",
          "text": [
            "Starting Spark application\n"
          ]
        },
        {
          "output_type": "display_data",
          "data": {
            "text/plain": [
              "<IPython.core.display.HTML object>"
            ],
            "text/html": [
              "<table>\n",
              "<tr><th>ID</th><th>YARN Application ID</th><th>Kind</th><th>State</th><th>Spark UI</th><th>Driver log</th><th>User</th><th>Current session?</th></tr><tr><td>1</td><td>application_1729011579632_0002</td><td>pyspark</td><td>idle</td><td><a target=\"_blank\" href=\"http://ip-172-31-95-207.ec2.internal:20888/proxy/application_1729011579632_0002/\">Link</a></td><td><a target=\"_blank\" href=\"http://ip-172-31-89-74.ec2.internal:8042/node/containerlogs/container_1729011579632_0002_01_000001/livy\">Link</a></td><td>None</td><td>✔</td></tr></table>"
            ]
          },
          "metadata": {}
        },
        {
          "output_type": "display_data",
          "data": {
            "text/plain": [
              "FloatProgress(value=0.0, bar_style='info', description='Progress:', layout=Layout(height='25px', width='50%'),…"
            ],
            "application/vnd.jupyter.widget-view+json": {
              "version_major": 2,
              "version_minor": 0,
              "model_id": "3afe6c113f944ee2902b29a7f089d860"
            }
          },
          "metadata": {}
        },
        {
          "output_type": "stream",
          "name": "stdout",
          "text": [
            "SparkSession available as 'spark'.\n"
          ]
        }
      ],
      "source": [
        "# TODO: Copy the line above, enter your Master Public DNS with the proper formatting and host, and update the password\n",
        "\n",
        "%spark add -s spark_session -l python -u http://ec2-44-211-70-89.compute-1.amazonaws.com -a cis545-livy -p pass123 -t Basic_Access"
      ]
    },
    {
      "cell_type": "code",
      "execution_count": 4,
      "metadata": {
        "id": "QwKAHhQL0lf7"
      },
      "outputs": [],
      "source": [
        "# If you ever need to restart, you may need to...\n",
        "#%spark delete -s spark_session\n",
        "#OR just factory reset runtime under the runtime tab\n",
        "#"
      ]
    },
    {
      "cell_type": "markdown",
      "metadata": {
        "id": "v1IQjUwNObb8"
      },
      "source": [
        "Enter your 8-digit Penn Key as an integer in the cell\n",
        "below. This will be used in the autograder.  **Please also update the cell below, with the same ID!**"
      ]
    },
    {
      "cell_type": "code",
      "execution_count": 5,
      "metadata": {
        "id": "7zM20juwqqQF"
      },
      "outputs": [],
      "source": [
        "from penngrader.grader import *\n",
        "STUDENT_ID = 56803282"
      ]
    },
    {
      "cell_type": "code",
      "execution_count": 6,
      "metadata": {
        "colab": {
          "base_uri": "https://localhost:8080/"
        },
        "id": "HMgOBR-7cpHe",
        "outputId": "b4c74c10-4d3c-42f8-8e1f-7211edccf1d0"
      },
      "outputs": [
        {
          "output_type": "stream",
          "name": "stdout",
          "text": [
            "Overwriting config.yaml\n"
          ]
        }
      ],
      "source": [
        "%%writefile config.yaml\n",
        "\n",
        "grader_api_url: 'https://23whrwph9h.execute-api.us-east-1.amazonaws.com/default/Grader23'\n",
        "grader_api_key: 'flfkE736fA6Z8GxMDJe2q8Kfk8UDqjsG3GVqOFOa'"
      ]
    },
    {
      "cell_type": "code",
      "execution_count": 7,
      "metadata": {
        "colab": {
          "base_uri": "https://localhost:8080/"
        },
        "id": "V8Oo_5D7qoWp",
        "outputId": "d13743c6-1bb8-40ab-f8f2-d4491d22f68e"
      },
      "outputs": [
        {
          "output_type": "stream",
          "name": "stdout",
          "text": [
            "PennGrader initialized with Student ID: 56803282\n",
            "\n",
            "Make sure this correct or we will not be able to store your grade\n"
          ]
        }
      ],
      "source": [
        "grader = PennGrader('config.yaml', 'cis5450o_fall24_HW3', STUDENT_ID, STUDENT_ID)"
      ]
    },
    {
      "cell_type": "markdown",
      "metadata": {
        "id": "Bfs-EQZUzF4j"
      },
      "source": [
        "Run the above cells to setup the autograder. Make sure to have set your 8 digit Penn ID in the cell above. It will also import all the modules you need for the homework.\n"
      ]
    },
    {
      "cell_type": "markdown",
      "metadata": {
        "id": "4nyAa0wn1XCD"
      },
      "source": [
        "## Step 1: Data Wrangling, Cleaning, and Shaping [32 pts]\n",
        "\n",
        "In this homework we will be working with two datasets - (1) LinkedIn data containing information on their users like education, experience, industry etc. (2) Stock price information of companies over a 10 year period (2000-2011) where these users have worked at.  \n",
        "\n",
        "\n",
        "The data you will use is stored in an S3 bucket, a cloud storage service. Below, with our help, you will download it onto the nodes of your [EMR cluster](https://docs.aws.amazon.com/emr/latest/ManagementGuide/emr-what-is-emr.html)."
      ]
    },
    {
      "cell_type": "markdown",
      "metadata": {
        "id": "Nf_ADEXnIK0b"
      },
      "source": [
        "### 1.1: The Stupendous Schema\n",
        "\n",
        "When loading data, Spark will try to infer its structure on its own. This process is faulty because Spark will sometimes infer the type incorrectly. Spark's ability to determine types is not reliable, thus you will need to define a schema for both the LinkedIn and Stock Prices Datasets.\n",
        "\n",
        "A schema is a description of the structure of data. In Spark, schemas are defined using a `StructType` object. This is a collection of data types, termed `StructField`'s, that specify the structure and variable type of each component of the dataset. For example, suppose we have the following simple JSON object,\n",
        "\n",
        "\n",
        "```\n",
        "{\n",
        " \"student_name\": \"Alpha Beta\",\n",
        " \"GPA\": 3.6,\n",
        " \"courses\": [\n",
        "    {\"department\": \"Computer and Information Science\",\n",
        "     \"course_id\": \"CIS 5450\",\n",
        "     \"semester\": \"Fall 2021\"},\n",
        "    {\"department\": \"Computer and Information Science\",\n",
        "     \"course_id\": \"CIS 5550\",\n",
        "     \"semester\": \"Fall 2021\"}\n",
        " ],\n",
        " \"grad_year\": 2023\n",
        " }\n",
        "```\n",
        "\n",
        "We would define its schema as follows,\n",
        "\n",
        "```       \n",
        "schema = StructType([\n",
        "           StructField(\"student_name\", StringType(), nullable=True),\n",
        "           StructField(\"GPA\", FloatType(), nullable=True),\n",
        "           StructField(\"courses\", ArrayType(\n",
        "                StructType([\n",
        "                  StructField(\"department\", StringType(), nullable=True),\n",
        "                  StructField(\"course_id\", StringType(), nullable=True),\n",
        "                  StructField(\"semester\", StringType(), nullable=True)\n",
        "                ])\n",
        "           ), nullable=True),\n",
        "           StructField(\"grad_year\", IntegerType(), nullable=True)\n",
        "         ])\n",
        "```\n",
        "\n",
        "\n",
        "Each `StructField` has the following structure: `(name, type, nullable)`. The `nullable` flag defines that the specified field may be empty. Your first task is to define the `schema` of `linkedin_small_real.json`. A smaller version of the JSON dataset can be found [here](https://drive.google.com/a/seas.upenn.edu/file/d/1yZ_0xz6uSJ8lAxhGzn2BVjCpDOjagcqb/view?usp=sharing). Look at how this json dataset looks, the fields and their types.\n",
        "\n",
        "\n",
        "\n",
        "You will now be defining an explicit schema for the `linkedin_small_real.json` dataset. We have defined most of the fields so you can compare how the schema looks with the JSON dataset. Your Task will be to define the schema for the following 3 fields - `name, experience, events`.\n",
        "\n",
        "Make sure to use `nullable=True` for all the fields as well as **store dates as a StringType()**.\n",
        "\n",
        "Note: There is also no grading cell for this step. But your JSON file won't load if it's wrong, so you have a way of testing.\n",
        "\n"
      ]
    },
    {
      "cell_type": "code",
      "execution_count": 8,
      "metadata": {
        "colab": {
          "base_uri": "https://localhost:8080/",
          "height": 17,
          "referenced_widgets": [
            "ee850ec2cd9f41c6be1690eef18179f9",
            "15f3bc5ce5064631a1ab5754bb76d176",
            "9f7c2a6ff8a74e2ba36d3622c737ee20"
          ]
        },
        "id": "pL-Ps4KWIJ9e",
        "outputId": "41abda8c-4c2e-4b6a-ffc9-7dc61a4eea32"
      },
      "outputs": [
        {
          "output_type": "display_data",
          "data": {
            "text/plain": [
              "FloatProgress(value=0.0, bar_style='info', description='Progress:', layout=Layout(height='25px', width='50%'),…"
            ],
            "application/vnd.jupyter.widget-view+json": {
              "version_major": 2,
              "version_minor": 0,
              "model_id": "ee850ec2cd9f41c6be1690eef18179f9"
            }
          },
          "metadata": {}
        }
      ],
      "source": [
        "%%spark\n",
        "\n",
        "from pyspark.sql.types import *\n",
        "\n",
        "# TODO: Finish defining the linkedin_small_real.json schema\n",
        "# We've provided most of the fiddly details, but you'll\n",
        "# need to fill in **name**, ** experience ** and **events** fields!\n",
        "\n",
        "schema = StructType([\n",
        "    StructField(\"_id\", StringType(), nullable=True),\n",
        "\n",
        "    StructField(\"education\", ArrayType(\n",
        "        StructType([\n",
        "          StructField(\"start\", StringType(), nullable=True),\n",
        "          StructField(\"major\", StringType(), nullable=True),\n",
        "          StructField(\"end\", StringType(), nullable=True),\n",
        "          StructField(\"name\", StringType(), nullable=True),\n",
        "          StructField(\"degree\", StringType(), nullable=True),\n",
        "          StructField(\"desc\", StringType(), nullable=True)\n",
        "    ])), nullable=True),\n",
        "\n",
        "    StructField(\"group\", StructType([\n",
        "          StructField(\"affilition\", ArrayType(StringType()), nullable=True),\n",
        "          StructField(\"member\", StringType(), nullable=True)\n",
        "    ]), nullable=True),\n",
        "\n",
        "    StructField(\"locality\", StringType(), nullable=True),\n",
        "    StructField(\"skills\", ArrayType(StringType()), nullable=True),\n",
        "    StructField(\"industry\", StringType(), nullable=True),\n",
        "    StructField(\"interval\", IntegerType(), nullable=True),\n",
        "\n",
        "    StructField(\"summary\", StringType(), nullable=True),\n",
        "    StructField(\"interests\", StringType(), nullable=True),\n",
        "    StructField(\"overview_html\", StringType(), nullable=True),\n",
        "    StructField(\"specilities\", StringType(), nullable=True),\n",
        "    StructField(\"homepage\", ArrayType(StringType()), nullable=True),\n",
        "    StructField(\"honors\", ArrayType(StringType()), nullable=True),\n",
        "    StructField(\"url\", StringType(), nullable=True),\n",
        "    StructField(\"also_view\", ArrayType(\n",
        "        StructType([\n",
        "            StructField(\"id\", StringType(), nullable=True),\n",
        "            StructField(\"url\", StringType(), nullable=True)\n",
        "        ])\n",
        "    ), nullable=True),\n",
        "\n",
        "\n",
        "    # TODO: fill in the necessary structure for name\n",
        "    StructField(\"name\", StructType(\n",
        "        StructType([\n",
        "            StructField(\"family_name\", StringType(), nullable = True),\n",
        "            StructField(\"given_name\", StringType(), nullable= True)\n",
        "        ])\n",
        "    ), nullable=True),\n",
        "    # TODO: fill in the necessary structure for experience\n",
        "    StructField(\"experience\", ArrayType(\n",
        "        StructType([\n",
        "            StructField(\"org\", StringType(), nullable = True),\n",
        "            StructField(\"title\", StringType(), nullable = True),\n",
        "            StructField(\"end\", StringType(), nullable = True),\n",
        "            StructField(\"start\", StringType(), nullable = True),\n",
        "            StructField(\"desc\", StringType(), nullable = True)\n",
        "        ])\n",
        "    ), nullable = True),\n",
        "    # TODO: fill in the necessary structure for events\n",
        "    #from, to , title1, start, title2, end\n",
        "    StructField(\"events\", ArrayType(\n",
        "        StructType([\n",
        "            StructField(\"from\", StringType(), nullable = True),\n",
        "            StructField(\"to\", StringType(), nullable = True),\n",
        "            StructField(\"title1\", StringType(), nullable = True),\n",
        "            StructField(\"start\", IntegerType(), nullable = True),\n",
        "            StructField(\"title2\", StringType(), nullable = True),\n",
        "            StructField(\"end\", IntegerType(), nullable = True)\n",
        "        ])\n",
        "    ), nullable = True)\n",
        "])"
      ]
    },
    {
      "cell_type": "markdown",
      "metadata": {
        "id": "2Su604X9ggc2"
      },
      "source": [
        "### 1.2: The Langorous Load [4 Pts]"
      ]
    },
    {
      "cell_type": "markdown",
      "metadata": {
        "id": "7HKduWNmkxt0"
      },
      "source": [
        "#### 1.2.1: Load LinkedIn Dataset [4 Pts]\n",
        "\n",
        "In the following cell, you will load the `linkedin_small_real.json` dataset from your S3 bucket into a Spark dataframe (sdf) called `linkedin_data_sdf`. If you have constructed `schema` correctly then `spark.read.json()` will read in the dataset. ***You do not need to edit this cell***.\n",
        "\n",
        "If this doesn't work, go back to the prior cell and update your `schema`!\n",
        "\n",
        "Note that the cell below will load data even if your schema is incomplete and has left out some columns of the data, so be sure to check that you have included all of the fields from the JSON."
      ]
    },
    {
      "cell_type": "code",
      "execution_count": 9,
      "metadata": {
        "colab": {
          "base_uri": "https://localhost:8080/",
          "height": 17,
          "referenced_widgets": [
            "4da05470f42644cfa1ceaae59d205200",
            "6509ad3b9fe949cd8dc644416a0919c8",
            "67f6510f41a646a89b71572618575e2f"
          ]
        },
        "id": "Tcpx-SExfyJa",
        "outputId": "4df76566-90ca-43bb-9e44-44465d3f826d"
      },
      "outputs": [
        {
          "output_type": "display_data",
          "data": {
            "text/plain": [
              "FloatProgress(value=0.0, bar_style='info', description='Progress:', layout=Layout(height='25px', width='50%'),…"
            ],
            "application/vnd.jupyter.widget-view+json": {
              "version_major": 2,
              "version_minor": 0,
              "model_id": "4da05470f42644cfa1ceaae59d205200"
            }
          },
          "metadata": {}
        }
      ],
      "source": [
        "%%spark\n",
        "\n",
        "linkedin_data_sdf = spark.read.json(\"s3a://penn-cis545-files/linkedin_small_real.json\", schema=schema)"
      ]
    },
    {
      "cell_type": "code",
      "execution_count": 10,
      "metadata": {
        "id": "eAgWjMU3ikD_",
        "colab": {
          "base_uri": "https://localhost:8080/",
          "height": 305,
          "referenced_widgets": [
            "c81c869ae51d4f878863016e80e031f8",
            "e1e96a50b2ff4eb4a19a55a50e7f66b3",
            "bccbacb9da4943468fefdd9497665248"
          ]
        },
        "outputId": "167df89a-6b6e-4b48-e756-bca152008f01"
      },
      "outputs": [
        {
          "output_type": "display_data",
          "data": {
            "text/plain": [
              "FloatProgress(value=0.0, bar_style='info', description='Progress:', layout=Layout(height='25px', width='50%'),…"
            ],
            "application/vnd.jupyter.widget-view+json": {
              "version_major": 2,
              "version_minor": 0,
              "model_id": "c81c869ae51d4f878863016e80e031f8"
            }
          },
          "metadata": {}
        },
        {
          "output_type": "stream",
          "name": "stdout",
          "text": [
            "+------------------+--------------------+--------------------+--------------------+--------------------+--------------------+--------+--------------------+--------------------+--------------------+--------------------+--------+------+--------------------+--------------------+--------------------+--------------------+--------------------+\n",
            "|               _id|           education|               group|            locality|              skills|            industry|interval|             summary|           interests|       overview_html|         specilities|homepage|honors|                 url|           also_view|                name|          experience|              events|\n",
            "+------------------+--------------------+--------------------+--------------------+--------------------+--------------------+--------+--------------------+--------------------+--------------------+--------------------+--------+------+--------------------+--------------------+--------------------+--------------------+--------------------+\n",
            "|              null|                null|                null|                null|                null|                null|    null|                null|                null|                null|                null|    null|  null|                null|                null|                null|                null|                null|\n",
            "|       in-00000001|                null|                null|       United States|[Key Account Deve...|     Medical Devices|    null|SALES MANAGEMENT ...|                null|                null|                null|    null|  null|http://www.linked...|[{pub-krisa-drost...|{Mazalu MBA, Dr C...|                null|                null|\n",
            "|          in-00001|[{2008, Economics...|{[ASMALLWORLD.net...|Antwerp Area, Bel...|[Molecular Biolog...|     Pharmaceuticals|      20|Ph.D. scientist w...|                null|<dl id=\"overview\"...|Biomarkers in Onc...|    null|  null|http://be.linkedi...|[{pub-peter-king-...|     {Forslund, Ann}|[{Johnson and Joh...|[{Sahlgrenska Uni...|\n",
            "|          in-00006|[{2004, Biophysic...|                null|San Francisco, Ca...|[DNA, Nanotechnol...|            Research|       0|I am interested i...|personal genomics...|<dl id=\"overview\"...|                null|    null|  null|http://www.linked...|[{pub-george-chur...|    {Douglas, Shawn}|[{UCSF, Assistant...|[{Wyss Institute ...|\n",
            "|  in-000montgomery|                null|{[Big Data, Low L...|San Francisco Bay...|                null|Information Techn...|       5|OBJECTIVE<Primary...|                null|                null|                null|    null|  null|http://www.linked...|[{pub-david-brigh...|   {Kilimann, Edric}|[{<Online Recruit...|[{<Employee Benef...|\n",
            "|in-000vijaychauhan|[{1988, null, 198...|{[AeSI Alumni Ass...| Chennai Area, India|[Program Manageme...|Aviation & Aerospace|    null|Experience in Avi...|Literature, Philo...|                null|                null|    null|  null|http://in.linkedi...|[{in-sandeepraghu...|{Chauhan, PMP, Vi...|                null|                null|\n",
            "|  in-001adambutler|[{1991, Product D...|                null|Brighton, United ...|[Digital Strategy...|Marketing and Adv...|      16|Integrating creat...|travelling,the se...|                null|A passion for Bra...|    null|  null|http://uk.linkedi...|[{in-paulbeier, h...|     {Adam, Butler,}|[{Brand New Music...|[{Tigerprint, WHS...|\n",
            "|      in-001monica|[{2000, Economics...|{[Canadian Market...|Toronto, Canada Area|                null|Nonprofit Organiz...|      20|                null|                null|                null|                null|    null|  null|http://ca.linkedi...|                  []|    {Andrus, Monica}|[{Canadian MedicA...|[{CMAF, CMAF, Bus...|\n",
            "| in-001neilpeacock|                null|                null|      United Kingdom|[DLP, Managed Ser...|Computer & Networ...|      31|Currently Trainin...|                null|                null|                null|    null|  null|http://uk.linkedi...|[{pub-dilan-hindo...|     {Peacock, Neil}|[{Complete IT Sys...|[{Dawson Rentals ...|\n",
            "|          in-00666|                null|                null|              Turkey|[Project Manageme...|    Telekomünikasyon|    null|                null|                null|                null|                null|    null|  null|http://tr.linkedi...|[{pub-dilek-karap...|{BOLUKBAS, PMP, M...|                null|                null|\n",
            "+------------------+--------------------+--------------------+--------------------+--------------------+--------------------+--------+--------------------+--------------------+--------------------+--------------------+--------+------+--------------------+--------------------+--------------------+--------------------+--------------------+\n",
            "only showing top 10 rows"
          ]
        }
      ],
      "source": [
        "%%spark\n",
        "# Let's print out the first few rows to see how the data looks like in tabular form\n",
        "linkedin_data_sdf.show(10)"
      ]
    },
    {
      "cell_type": "code",
      "execution_count": 11,
      "metadata": {
        "colab": {
          "base_uri": "https://localhost:8080/",
          "height": 17,
          "referenced_widgets": [
            "812ff73d62ed41a2bb9a70695afa56d3",
            "1c6a6153eece4d3eae1d7b5c841e0a88",
            "15e82014925a4ee89bb61edfb09c311d",
            "735be3571ebe46a29b88b51e75988e23",
            "ce98f231d0e14eaaa3567d5934c52114",
            "eb66691906104f699f78676739a5b4c4"
          ]
        },
        "id": "3BZy-GrQSJ17",
        "outputId": "53581be3-0c61-4ee9-b99b-6957a2b666e6"
      },
      "outputs": [
        {
          "output_type": "display_data",
          "data": {
            "text/plain": [
              "FloatProgress(value=0.0, bar_style='info', description='Progress:', layout=Layout(height='25px', width='50%'),…"
            ],
            "application/vnd.jupyter.widget-view+json": {
              "version_major": 2,
              "version_minor": 0,
              "model_id": "812ff73d62ed41a2bb9a70695afa56d3"
            }
          },
          "metadata": {}
        },
        {
          "output_type": "display_data",
          "data": {
            "text/plain": [
              "FloatProgress(value=0.0, bar_style='info', description='Progress:', layout=Layout(height='25px', width='50%'),…"
            ],
            "application/vnd.jupyter.widget-view+json": {
              "version_major": 2,
              "version_minor": 0,
              "model_id": "735be3571ebe46a29b88b51e75988e23"
            }
          },
          "metadata": {}
        }
      ],
      "source": [
        "%spark -o linkedin_data_sdf"
      ]
    },
    {
      "cell_type": "code",
      "execution_count": 12,
      "metadata": {
        "colab": {
          "base_uri": "https://localhost:8080/"
        },
        "id": "pZBRzS0XSd05",
        "outputId": "3529aca5-b4d3-4b1e-954c-31da45c2285b"
      },
      "outputs": [
        {
          "output_type": "execute_result",
          "data": {
            "text/plain": [
              "2500"
            ]
          },
          "metadata": {},
          "execution_count": 12
        }
      ],
      "source": [
        "len(linkedin_data_sdf)"
      ]
    },
    {
      "cell_type": "code",
      "execution_count": 13,
      "metadata": {
        "id": "-jM-J264Sjn_"
      },
      "outputs": [],
      "source": [
        "linkedin_data_sdf.to_csv(\"linkedin_data.csv\")"
      ]
    },
    {
      "cell_type": "code",
      "execution_count": 14,
      "metadata": {
        "id": "bInSBNq6Qvcp"
      },
      "outputs": [],
      "source": [
        "import pandas as pd"
      ]
    },
    {
      "cell_type": "markdown",
      "metadata": {
        "id": "jMVCVotcE1wv"
      },
      "source": [
        "The cell below shows how to run SQL commands on Spark tables. **Use this as a template for all your SQL queries in this notebook.**\n",
        "\n",
        "For almost all the questions you will need to create a temporary view using `createOrReplaceTempView`, then write your sql `query` as a string and then run the query on spark using `spark.sql(query)`. To see what your query resulted use `.show()`.\n",
        "\n",
        "***You do not need to edit this cell***."
      ]
    },
    {
      "cell_type": "code",
      "execution_count": 15,
      "metadata": {
        "id": "7CnbKKqtnicU",
        "colab": {
          "base_uri": "https://localhost:8080/",
          "height": 287,
          "referenced_widgets": [
            "b33e406a09f24b08b3e3792f3a0fdf7e",
            "018b29c315a54cdeac8c3f3e28817430",
            "af1d72a6a45946c9ad50ce6cda497242"
          ]
        },
        "outputId": "e4618db3-da55-4dba-fd44-48d9443c9c91"
      },
      "outputs": [
        {
          "output_type": "display_data",
          "data": {
            "text/plain": [
              "FloatProgress(value=0.0, bar_style='info', description='Progress:', layout=Layout(height='25px', width='50%'),…"
            ],
            "application/vnd.jupyter.widget-view+json": {
              "version_major": 2,
              "version_minor": 0,
              "model_id": "b33e406a09f24b08b3e3792f3a0fdf7e"
            }
          },
          "metadata": {}
        },
        {
          "output_type": "stream",
          "name": "stdout",
          "text": [
            "+------------------+--------------------+--------------------+--------------------+--------------------+--------------------+--------+--------------------+--------------------+--------------------+--------------------+--------+------+--------------------+--------------------+--------------------+--------------------+--------------------+\n",
            "|               _id|           education|               group|            locality|              skills|            industry|interval|             summary|           interests|       overview_html|         specilities|homepage|honors|                 url|           also_view|                name|          experience|              events|\n",
            "+------------------+--------------------+--------------------+--------------------+--------------------+--------------------+--------+--------------------+--------------------+--------------------+--------------------+--------+------+--------------------+--------------------+--------------------+--------------------+--------------------+\n",
            "|              null|                null|                null|                null|                null|                null|    null|                null|                null|                null|                null|    null|  null|                null|                null|                null|                null|                null|\n",
            "|              null|                null|                null|                null|                null|                null|    null|                null|                null|                null|                null|    null|  null|                null|                null|                null|                null|                null|\n",
            "|       in-00000001|                null|                null|       United States|[Key Account Deve...|     Medical Devices|    null|SALES MANAGEMENT ...|                null|                null|                null|    null|  null|http://www.linked...|[{pub-krisa-drost...|{Mazalu MBA, Dr C...|                null|                null|\n",
            "|          in-00001|[{2008, Economics...|{[ASMALLWORLD.net...|Antwerp Area, Bel...|[Molecular Biolog...|     Pharmaceuticals|      20|Ph.D. scientist w...|                null|<dl id=\"overview\"...|Biomarkers in Onc...|    null|  null|http://be.linkedi...|[{pub-peter-king-...|     {Forslund, Ann}|[{Johnson and Joh...|[{Sahlgrenska Uni...|\n",
            "|          in-00006|[{2004, Biophysic...|                null|San Francisco, Ca...|[DNA, Nanotechnol...|            Research|       0|I am interested i...|personal genomics...|<dl id=\"overview\"...|                null|    null|  null|http://www.linked...|[{pub-george-chur...|    {Douglas, Shawn}|[{UCSF, Assistant...|[{Wyss Institute ...|\n",
            "|  in-000montgomery|                null|{[Big Data, Low L...|San Francisco Bay...|                null|Information Techn...|       5|OBJECTIVE<Primary...|                null|                null|                null|    null|  null|http://www.linked...|[{pub-david-brigh...|   {Kilimann, Edric}|[{<Online Recruit...|[{<Employee Benef...|\n",
            "|in-000vijaychauhan|[{1988, null, 198...|{[AeSI Alumni Ass...| Chennai Area, India|[Program Manageme...|Aviation & Aerospace|    null|Experience in Avi...|Literature, Philo...|                null|                null|    null|  null|http://in.linkedi...|[{in-sandeepraghu...|{Chauhan, PMP, Vi...|                null|                null|\n",
            "|  in-001adambutler|[{1991, Product D...|                null|Brighton, United ...|[Digital Strategy...|Marketing and Adv...|      16|Integrating creat...|travelling,the se...|                null|A passion for Bra...|    null|  null|http://uk.linkedi...|[{in-paulbeier, h...|     {Adam, Butler,}|[{Brand New Music...|[{Tigerprint, WHS...|\n",
            "|      in-001monica|[{2000, Economics...|{[Canadian Market...|Toronto, Canada Area|                null|Nonprofit Organiz...|      20|                null|                null|                null|                null|    null|  null|http://ca.linkedi...|                  []|    {Andrus, Monica}|[{Canadian MedicA...|[{CMAF, CMAF, Bus...|\n",
            "| in-001neilpeacock|                null|                null|      United Kingdom|[DLP, Managed Ser...|Computer & Networ...|      31|Currently Trainin...|                null|                null|                null|    null|  null|http://uk.linkedi...|[{pub-dilan-hindo...|     {Peacock, Neil}|[{Complete IT Sys...|[{Dawson Rentals ...|\n",
            "+------------------+--------------------+--------------------+--------------------+--------------------+--------------------+--------+--------------------+--------------------+--------------------+--------------------+--------+------+--------------------+--------------------+--------------------+--------------------+--------------------+"
          ]
        }
      ],
      "source": [
        "%%spark\n",
        "\n",
        "\n",
        "# Create SQL-accesible table\n",
        "linkedin_data_sdf.createOrReplaceTempView(\"linkedin_data\")\n",
        "\n",
        "# Declare SQL query to be excecuted\n",
        "query = '''SELECT *\n",
        "           FROM linkedin_data\n",
        "           ORDER BY _id\n",
        "           LIMIT 10'''\n",
        "\n",
        "# Save the output sdf of spark.sql() as answer_sdf\n",
        "answer_sdf = spark.sql(query)\n",
        "answer_sdf.show()\n"
      ]
    },
    {
      "cell_type": "markdown",
      "metadata": {
        "id": "MLF-swRBTuZG"
      },
      "source": [
        "We can then copy the `answer_sdf` to Colab to submit to PennGrader...\n",
        "\n",
        "**Note:** double check all the data types of the fields defined for your schema in 1.1. Do not just assume that everything is a string!"
      ]
    },
    {
      "cell_type": "code",
      "execution_count": 16,
      "metadata": {
        "id": "2z-mDBTorcX6",
        "colab": {
          "base_uri": "https://localhost:8080/",
          "height": 17,
          "referenced_widgets": [
            "4fd8f1f002154c2bbefd83e8ae974ff4",
            "a60258c5b44b4579b5a3ab55f5f9d49a",
            "86b78dfd61e34357b72f69f6691ae750",
            "cfaabe02f53745828d4d2998438a74cd",
            "1e7267f4368d4da492fe347d8cdd2f8e",
            "2a62453c639143f7a85420d15186ad06"
          ]
        },
        "outputId": "89668f36-7bda-44df-9286-6ed2a1eca087"
      },
      "outputs": [
        {
          "output_type": "display_data",
          "data": {
            "text/plain": [
              "FloatProgress(value=0.0, bar_style='info', description='Progress:', layout=Layout(height='25px', width='50%'),…"
            ],
            "application/vnd.jupyter.widget-view+json": {
              "version_major": 2,
              "version_minor": 0,
              "model_id": "4fd8f1f002154c2bbefd83e8ae974ff4"
            }
          },
          "metadata": {}
        },
        {
          "output_type": "display_data",
          "data": {
            "text/plain": [
              "FloatProgress(value=0.0, bar_style='info', description='Progress:', layout=Layout(height='25px', width='50%'),…"
            ],
            "application/vnd.jupyter.widget-view+json": {
              "version_major": 2,
              "version_minor": 0,
              "model_id": "cfaabe02f53745828d4d2998438a74cd"
            }
          },
          "metadata": {}
        }
      ],
      "source": [
        "#Convert to Pandas\n",
        "%spark -o answer_sdf"
      ]
    },
    {
      "cell_type": "code",
      "execution_count": 17,
      "metadata": {
        "id": "z5T4kv0jpPLU",
        "colab": {
          "base_uri": "https://localhost:8080/"
        },
        "outputId": "cd0fe323-a497-4d64-d93a-f0df1c9d9af9"
      },
      "outputs": [
        {
          "output_type": "stream",
          "name": "stdout",
          "text": [
            "Correct! You earned 4/4 points. You are a star!\n",
            "\n",
            "Your submission has been successfully recorded in the gradebook.\n"
          ]
        }
      ],
      "source": [
        "## AUTOGRADER\n",
        "grader.grade(test_case_id = 'test_schema_linkedin', answer = answer_sdf)"
      ]
    },
    {
      "cell_type": "markdown",
      "metadata": {
        "id": "2mklaTWekqqX"
      },
      "source": [
        "#### 1.2.2: SQL refresher [3 Pts]\n"
      ]
    },
    {
      "cell_type": "markdown",
      "metadata": {
        "id": "8YHQMRRUQ7IN"
      },
      "source": [
        "In the next cell, we want you to create `industry_family_name_df` to fetch the data from the `linkedin_data` table created above, returning rows with schema `(_id, industry, family_name)`. Remove all NULLs from the `family_name` and `industry` columns. Sort the columns by `_id, industry, family_name`, all ascending order.  Limit your sdf to 100 rows. Make sure to use the SQL template provided above.\n",
        "\n",
        "Hint: To access a field inside a json object in SQL you can use the following syntax: `parent_variable.child_variable`"
      ]
    },
    {
      "cell_type": "code",
      "execution_count": 18,
      "metadata": {
        "id": "GfFqnST3f92P",
        "colab": {
          "base_uri": "https://localhost:8080/",
          "height": 463,
          "referenced_widgets": [
            "8174370d8ac24e909d9f302e5bf12761",
            "62647a054a5a470e9ff8030b07e37c00",
            "94ae63be9f65432eb25cc34172acbb00"
          ]
        },
        "outputId": "8d4d8ca8-b1e2-47bf-8dbc-e7009d3bfc45"
      },
      "outputs": [
        {
          "output_type": "display_data",
          "data": {
            "text/plain": [
              "FloatProgress(value=0.0, bar_style='info', description='Progress:', layout=Layout(height='25px', width='50%'),…"
            ],
            "application/vnd.jupyter.widget-view+json": {
              "version_major": 2,
              "version_minor": 0,
              "model_id": "8174370d8ac24e909d9f302e5bf12761"
            }
          },
          "metadata": {}
        },
        {
          "output_type": "stream",
          "name": "stdout",
          "text": [
            "+-------------------+--------------------+-------------+\n",
            "|                _id|            industry|  family_name|\n",
            "+-------------------+--------------------+-------------+\n",
            "|        in-00000001|     Medical Devices|   Mazalu MBA|\n",
            "|           in-00001|     Pharmaceuticals|     Forslund|\n",
            "|           in-00006|            Research|      Douglas|\n",
            "|   in-000montgomery|Information Techn...|     Kilimann|\n",
            "| in-000vijaychauhan|Aviation & Aerospace| Chauhan, PMP|\n",
            "|   in-001adambutler|Marketing and Adv...|         Adam|\n",
            "|       in-001monica|Nonprofit Organiz...|       Andrus|\n",
            "|  in-001neilpeacock|Computer & Networ...|      Peacock|\n",
            "|           in-00666|    Telekomünikasyon|BOLUKBAS, PMP|\n",
            "|        in-00789123|  Telecommunications|     Hoffmann|\n",
            "|in-007katarzynagola|Zarządzanie dział...|         Gola|\n",
            "|           in-00911|     Human Resources|      Smekens|\n",
            "|in-00danielnewman00|   Computer Software|       Newman|\n",
            "|   in-00jenmiller00|            Internet|       Miller|\n",
            "|in-00stevensaunders|              Retail|     Saunders|\n",
            "|   in-01011966sabha|             Banking|          T K|\n",
            "|        in-01011985|       Biotechnology|  Subramanian|\n",
            "|      in-01022008aa|              Retail|    Chowdhury|\n",
            "|          in-010581|        Oil & Energy|     Swarnkar|\n",
            "|          in-010774|          Automotive|       Pandey|\n",
            "+-------------------+--------------------+-------------+\n",
            "only showing top 20 rows"
          ]
        }
      ],
      "source": [
        "%%spark\n",
        "linkedin_data_sdf.createOrReplaceTempView(\"industry_family_name_df\")\n",
        "\n",
        "#TODO\n",
        "query = \"\"\"\n",
        "    SELECT _id, industry, name.family_name\n",
        "    FROM linkedin_data\n",
        "    WHERE name.family_name IS NOT NULL\n",
        "    AND industry IS NOT NULL\n",
        "    ORDER BY _id ASC, industry ASC, name.family_name ASC\n",
        "    LIMIT 100\n",
        "\"\"\"\n",
        "industry_family_name_df = spark.sql(query)\n",
        "industry_family_name_df.show()\n",
        "\n"
      ]
    },
    {
      "cell_type": "code",
      "execution_count": 19,
      "metadata": {
        "id": "YihUzsBVhv4Y",
        "colab": {
          "base_uri": "https://localhost:8080/",
          "height": 17,
          "referenced_widgets": [
            "e85b464d54a9461eacb45111732d9ddc",
            "782d603d7dbe4a30b2009c38cd122105",
            "85075a7f628f4c07b121ee5bf430decc",
            "10b4af9172bd47f2a69b6aa1423dc396",
            "a9a2c36d81cf47268e4c7fffb34845ee",
            "b4427348948b4973a4e5e4f9e983ca61"
          ]
        },
        "outputId": "c7d76cb8-4980-48af-9b29-01d0271c2db3"
      },
      "outputs": [
        {
          "output_type": "display_data",
          "data": {
            "text/plain": [
              "FloatProgress(value=0.0, bar_style='info', description='Progress:', layout=Layout(height='25px', width='50%'),…"
            ],
            "application/vnd.jupyter.widget-view+json": {
              "version_major": 2,
              "version_minor": 0,
              "model_id": "e85b464d54a9461eacb45111732d9ddc"
            }
          },
          "metadata": {}
        },
        {
          "output_type": "display_data",
          "data": {
            "text/plain": [
              "FloatProgress(value=0.0, bar_style='info', description='Progress:', layout=Layout(height='25px', width='50%'),…"
            ],
            "application/vnd.jupyter.widget-view+json": {
              "version_major": 2,
              "version_minor": 0,
              "model_id": "10b4af9172bd47f2a69b6aa1423dc396"
            }
          },
          "metadata": {}
        }
      ],
      "source": [
        "#Convert to Pandas\n",
        "%spark -o industry_family_name_df\n",
        "# industry_family_name_df = industry_family_name_df.toPandas()"
      ]
    },
    {
      "cell_type": "code",
      "execution_count": 20,
      "metadata": {
        "id": "NxoITZQkjUHi",
        "colab": {
          "base_uri": "https://localhost:8080/"
        },
        "outputId": "382529b7-a99b-4557-8111-6ccd891017de"
      },
      "outputs": [
        {
          "output_type": "stream",
          "name": "stdout",
          "text": [
            "Correct! You earned 3/3 points. You are a star!\n",
            "\n",
            "Your submission has been successfully recorded in the gradebook.\n"
          ]
        }
      ],
      "source": [
        "## AUTOGRADER\n",
        "grader.grade(test_case_id = 'test_industry_family_name_df', answer = industry_family_name_df)"
      ]
    },
    {
      "cell_type": "markdown",
      "metadata": {
        "id": "fZr-aE6mk1gJ"
      },
      "source": [
        "#### 1.2.3: Load Stock Prices Data [3 Pts]\n",
        "\n",
        "Just the way you created a schema for the LinkedIn dataset, now create a schema for the Stock Prices data. The schema should be relatively simple, compared to the LinkedIn schema. A tiny version of the data is [here](https://docs.google.com/spreadsheets/d/1TStiS-bwkCJR1w5rJ18QPlNe3SIK2Z8QS9gK6ltnjJQ/edit?usp=sharing) in csv format, so you can see what the types should be for the different fields (columns in the csv). Store the `Date` field as a String.\n"
      ]
    },
    {
      "cell_type": "code",
      "execution_count": 21,
      "metadata": {
        "colab": {
          "base_uri": "https://localhost:8080/",
          "height": 17,
          "referenced_widgets": [
            "c5e7fef7d0b64d828815c1f8a26e31b7",
            "b1e4e71632824f358fa92fe0e71b92fe",
            "91e96653fa644dbcb8f3c09d0d4e95bd"
          ]
        },
        "id": "ur87js8m-fxh",
        "outputId": "ce198a59-df62-456b-8751-8b7d733a1ce3"
      },
      "outputs": [
        {
          "output_type": "display_data",
          "data": {
            "text/plain": [
              "FloatProgress(value=0.0, bar_style='info', description='Progress:', layout=Layout(height='25px', width='50%'),…"
            ],
            "application/vnd.jupyter.widget-view+json": {
              "version_major": 2,
              "version_minor": 0,
              "model_id": "c5e7fef7d0b64d828815c1f8a26e31b7"
            }
          },
          "metadata": {}
        }
      ],
      "source": [
        "%%spark\n",
        "\n",
        "from pyspark.sql.types import *\n",
        "\n",
        "# TODO\n",
        "\n",
        "stocks_schema = StructType([\n",
        "\n",
        "    StructField(\"Date\", StringType(), nullable=True),\n",
        "    StructField(\"Open\", DoubleType(), nullable=True),\n",
        "    StructField(\"High\", DoubleType(), nullable=True),\n",
        "    StructField(\"Low\", DoubleType(), nullable=True),\n",
        "    StructField(\"Close\", DoubleType(), nullable=True),\n",
        "    StructField(\"Volume\", IntegerType(), nullable=True),\n",
        "    StructField(\"OpenInt\", IntegerType(), nullable=True),\n",
        "    StructField(\"org\", StringType(), nullable=True),\n",
        "\n",
        "])\n"
      ]
    },
    {
      "cell_type": "markdown",
      "metadata": {
        "id": "V2K9lTJmBIQL"
      },
      "source": [
        "In the following cell, you will load the entire `stocks.csv` dataset from your S3 bucket into a Spark dataframe (sdf) called `stocks_sdf`. If you have constructed `schema` correctly then `spark.read.format(\"csv\")` will read in the dataset. **You do not need to edit this cell.**\n",
        "\n",
        "If this doesn't work, go back to the prior cell and update your schema!"
      ]
    },
    {
      "cell_type": "code",
      "execution_count": 22,
      "metadata": {
        "colab": {
          "base_uri": "https://localhost:8080/",
          "height": 285,
          "referenced_widgets": [
            "d32ade01d7ae47a68ebe9046a488b138",
            "d5eb745a63b74bd7afccd075a5f3dc76",
            "ac13dec6282b4df0aa36bc41525c1033"
          ]
        },
        "id": "9EujXqNi4JBA",
        "outputId": "4a9b4098-c4d0-4d80-ce0a-faf87dbdf703"
      },
      "outputs": [
        {
          "output_type": "display_data",
          "data": {
            "text/plain": [
              "FloatProgress(value=0.0, bar_style='info', description='Progress:', layout=Layout(height='25px', width='50%'),…"
            ],
            "application/vnd.jupyter.widget-view+json": {
              "version_major": 2,
              "version_minor": 0,
              "model_id": "d32ade01d7ae47a68ebe9046a488b138"
            }
          },
          "metadata": {}
        },
        {
          "output_type": "stream",
          "name": "stdout",
          "text": [
            "+----------+------------------+------------------+------------------+------------------+--------+-------+---+\n",
            "|      Date|              Open|              High|               Low|             Close|  Volume|OpenInt|org|\n",
            "+----------+------------------+------------------+------------------+------------------+--------+-------+---+\n",
            "|1999-11-18|            30.713|            33.754|            27.002|29.701999999999998|66277506|      0|  A|\n",
            "|1999-11-19|            28.986|29.026999999999997|            26.872|27.256999999999998|16142920|      0|  A|\n",
            "|1999-11-22|            27.886|29.701999999999998|            27.044|29.701999999999998| 6970266|      0|  A|\n",
            "|1999-11-23|28.688000000000002|29.445999999999998|            27.002|            27.002| 6332082|      0|  A|\n",
            "|1999-11-24|27.083000000000002|            28.309|            27.002|            27.717| 5132147|      0|  A|\n",
            "|1999-11-26|            27.594|28.011999999999997|            27.509|            27.807| 1832635|      0|  A|\n",
            "|1999-11-29|            27.676|             28.65|             27.38|            28.432| 4317826|      0|  A|\n",
            "|1999-11-30|             28.35|            28.986|            27.634|             28.48| 4567146|      0|  A|\n",
            "|1999-12-01|             28.48|            29.324|28.273000000000003|            28.986| 3133746|      0|  A|\n",
            "|1999-12-02|29.531999999999996|            30.375|            29.155|29.785999999999998| 3252997|      0|  A|\n",
            "+----------+------------------+------------------+------------------+------------------+--------+-------+---+\n",
            "only showing top 10 rows"
          ]
        }
      ],
      "source": [
        "#Do not edit\n",
        "%%spark\n",
        "\n",
        "# Load stock data\n",
        "\n",
        "stocks_sdf = spark.read.format(\"csv\") \\\n",
        "              .option(\"header\", \"true\") \\\n",
        "              .schema(stocks_schema) \\\n",
        "              .load(\"s3a://penn-cis545-files/stocks.csv\")\n",
        "\n",
        "# Creates SQL-accesible table\n",
        "stocks_sdf.createOrReplaceTempView('stocks')\n",
        "\n",
        "# Display the first 10 rows\n",
        "query = '''SELECT *\n",
        "           FROM stocks'''\n",
        "answer_stocks_sdf = spark.sql(query)\n",
        "answer_stocks_sdf.show(10)"
      ]
    },
    {
      "cell_type": "code",
      "execution_count": 23,
      "metadata": {
        "colab": {
          "base_uri": "https://localhost:8080/",
          "height": 17,
          "referenced_widgets": [
            "fa97b1163727472399cadce9f7224f97",
            "1618af02e27c4d5fb5288b9673ea17c1",
            "d5cd58f54a9a4d1f9de0bc99b97bdef2",
            "4eac5a57c3b54294999203457ca02ff4",
            "3d652048812d4231837f0fa1ff01dcca",
            "edc1ff37f18949a8a4ef771f43d38ee2"
          ]
        },
        "id": "asw-MCygEomh",
        "outputId": "2e7c9794-5482-43a3-99ed-8ed8836aa140"
      },
      "outputs": [
        {
          "output_type": "display_data",
          "data": {
            "text/plain": [
              "FloatProgress(value=0.0, bar_style='info', description='Progress:', layout=Layout(height='25px', width='50%'),…"
            ],
            "application/vnd.jupyter.widget-view+json": {
              "version_major": 2,
              "version_minor": 0,
              "model_id": "fa97b1163727472399cadce9f7224f97"
            }
          },
          "metadata": {}
        },
        {
          "output_type": "display_data",
          "data": {
            "text/plain": [
              "FloatProgress(value=0.0, bar_style='info', description='Progress:', layout=Layout(height='25px', width='50%'),…"
            ],
            "application/vnd.jupyter.widget-view+json": {
              "version_major": 2,
              "version_minor": 0,
              "model_id": "4eac5a57c3b54294999203457ca02ff4"
            }
          },
          "metadata": {}
        }
      ],
      "source": [
        "#Convert to Pandas\n",
        "%spark -o answer_stocks_sdf\n",
        "# answer_stocks_sdf = answer_stocks_sdf.toPandas()"
      ]
    },
    {
      "cell_type": "code",
      "execution_count": 24,
      "metadata": {
        "id": "oiuqarXbl6W_",
        "colab": {
          "base_uri": "https://localhost:8080/"
        },
        "outputId": "f59007d0-c6a7-4f74-c5ce-5f8b58d94e67"
      },
      "outputs": [
        {
          "output_type": "stream",
          "name": "stdout",
          "text": [
            "Correct! You earned 3/3 points. You are a star!\n",
            "\n",
            "Your submission has been successfully recorded in the gradebook.\n"
          ]
        }
      ],
      "source": [
        "## AUTOGRADER\n",
        "grader.grade(test_case_id = 'test_schema_stocks', answer = answer_stocks_sdf)"
      ]
    },
    {
      "cell_type": "markdown",
      "metadata": {
        "id": "RHgctGpdmq-w"
      },
      "source": [
        "#### 1.2.4: Calculate Percentage Change [4 Pts]"
      ]
    },
    {
      "cell_type": "markdown",
      "metadata": {
        "id": "28apymFC3kM5"
      },
      "source": [
        "In the next cell, we want you to display the percentage change in the daily stock prices for each organization. In order to do so, we will need the data from the `stocks_sdf` table created above. Create a new column called `percentage_change` that uses the opening and closing stock prices for each organization, for each day, and calculates the percentage change in the stock price as follows:\n",
        "\n",
        "\\begin{align}\n",
        "percentage\\_change = \\frac{close-open}{open}*100.0\n",
        "\\end{align}\n",
        "\n",
        "In order to avoid nulls, calculate the percentage change for only for those organizations and days where the **opening price is NOT 0.0**. The percentage_change value is a float.\n",
        "\n",
        "Your final dataframe should include all columns of the original `stocks_sdf`, as well as the new column you create called `percentage_change`. Sort the rows by **Date and org** ascending, in that order."
      ]
    },
    {
      "cell_type": "code",
      "execution_count": 25,
      "metadata": {
        "id": "0KiqR0K54Lvx",
        "colab": {
          "base_uri": "https://localhost:8080/",
          "height": 196,
          "referenced_widgets": [
            "cfe8590e39ea41349393b0a285016462",
            "d5fe18f6d1d64738a4d6e77534c5ccf1",
            "b2caea75628646aa88544996f3c0e770"
          ]
        },
        "outputId": "91bafb64-52a2-44e4-f8f7-ab66997cbaf1"
      },
      "outputs": [
        {
          "output_type": "display_data",
          "data": {
            "text/plain": [
              "FloatProgress(value=0.0, bar_style='info', description='Progress:', layout=Layout(height='25px', width='50%'),…"
            ],
            "application/vnd.jupyter.widget-view+json": {
              "version_major": 2,
              "version_minor": 0,
              "model_id": "cfe8590e39ea41349393b0a285016462"
            }
          },
          "metadata": {}
        },
        {
          "output_type": "stream",
          "name": "stdout",
          "text": [
            "+----------+------------------+------------------+------+------------------+--------+-------+---+\n",
            "|      Date|              Open|              High|   Low|             Close|  Volume|OpenInt|org|\n",
            "+----------+------------------+------------------+------+------------------+--------+-------+---+\n",
            "|1999-11-18|            30.713|            33.754|27.002|29.701999999999998|66277506|      0|  A|\n",
            "|1999-11-19|            28.986|29.026999999999997|26.872|27.256999999999998|16142920|      0|  A|\n",
            "|1999-11-22|            27.886|29.701999999999998|27.044|29.701999999999998| 6970266|      0|  A|\n",
            "|1999-11-23|28.688000000000002|29.445999999999998|27.002|            27.002| 6332082|      0|  A|\n",
            "|1999-11-24|27.083000000000002|            28.309|27.002|            27.717| 5132147|      0|  A|\n",
            "+----------+------------------+------------------+------+------------------+--------+-------+---+\n",
            "only showing top 5 rows"
          ]
        }
      ],
      "source": [
        "%%spark\n",
        "\n",
        "#ToDo\n",
        "answer_sdf = stocks_sdf.withColumn(\"percentage_change\", (stocks_sdf.Close - stocks_sdf.Open) / stocks_sdf.Open * 100.0) \\\n",
        "    .filter(stocks_sdf.Open != 0.0) \\\n",
        "    .select(\"*\", \"percentage_change\") \\\n",
        "    .orderBy(\"Date\", \"org\")\n",
        "\n",
        "stocks_sdf.show(5)"
      ]
    },
    {
      "cell_type": "code",
      "execution_count": 26,
      "metadata": {
        "id": "L3BaoCHRPDTB",
        "colab": {
          "base_uri": "https://localhost:8080/",
          "height": 17,
          "referenced_widgets": [
            "3c10fbebff8e4a9fb2a361cb41bdc360",
            "27abc43aa8f14b2db236035ec326b95a",
            "1e977bedf79c453db269c9481c64c1ec"
          ]
        },
        "outputId": "d6b517a3-d335-4576-faa9-fbeb16914d65"
      },
      "outputs": [
        {
          "output_type": "display_data",
          "data": {
            "text/plain": [
              "FloatProgress(value=0.0, bar_style='info', description='Progress:', layout=Layout(height='25px', width='50%'),…"
            ],
            "application/vnd.jupyter.widget-view+json": {
              "version_major": 2,
              "version_minor": 0,
              "model_id": "3c10fbebff8e4a9fb2a361cb41bdc360"
            }
          },
          "metadata": {}
        }
      ],
      "source": [
        "#################     DO NOT EDIT      ##################\n",
        "%%spark\n",
        "answer_sdf.createOrReplaceTempView(\"test_1_2_4\")\n",
        "test_1_2_4_sdf = spark.sql(\"SELECT * FROM test_1_2_4 LIMIT 10\")"
      ]
    },
    {
      "cell_type": "code",
      "execution_count": 27,
      "metadata": {
        "id": "L2H_mmMsPtB8",
        "colab": {
          "base_uri": "https://localhost:8080/",
          "height": 17,
          "referenced_widgets": [
            "cf90ff62e57a45c8af21f09ee1535897",
            "d223fabba69b4710ad6af442eb0a198a",
            "0b03fad02cd045e388c48b52ec065f12",
            "5c19e0afef964c57b3b2454b17366c72",
            "36b463be7ed44b83a8f4b9c3a51f4ef1",
            "899c676e7e384e3ea7ca7f6e55f7c1bf"
          ]
        },
        "outputId": "a8ddc10e-c5f3-4781-9586-e6b7424fac7c"
      },
      "outputs": [
        {
          "output_type": "display_data",
          "data": {
            "text/plain": [
              "FloatProgress(value=0.0, bar_style='info', description='Progress:', layout=Layout(height='25px', width='50%'),…"
            ],
            "application/vnd.jupyter.widget-view+json": {
              "version_major": 2,
              "version_minor": 0,
              "model_id": "cf90ff62e57a45c8af21f09ee1535897"
            }
          },
          "metadata": {}
        },
        {
          "output_type": "display_data",
          "data": {
            "text/plain": [
              "FloatProgress(value=0.0, bar_style='info', description='Progress:', layout=Layout(height='25px', width='50%'),…"
            ],
            "application/vnd.jupyter.widget-view+json": {
              "version_major": 2,
              "version_minor": 0,
              "model_id": "5c19e0afef964c57b3b2454b17366c72"
            }
          },
          "metadata": {}
        }
      ],
      "source": [
        "#Convert to Pandas\n",
        "%spark -o test_1_2_4_sdf"
      ]
    },
    {
      "cell_type": "code",
      "execution_count": 28,
      "metadata": {
        "id": "8GSFJnXTPjvf",
        "colab": {
          "base_uri": "https://localhost:8080/"
        },
        "outputId": "a1f266f1-ca44-417b-bc45-52f56d0c056c"
      },
      "outputs": [
        {
          "output_type": "stream",
          "name": "stdout",
          "text": [
            "Correct! You earned 4/4 points. You are a star!\n",
            "\n",
            "Your submission has been successfully recorded in the gradebook.\n"
          ]
        }
      ],
      "source": [
        "## AUTOGRADER\n",
        "grader.grade(test_case_id = 'test_perc_change', answer = test_1_2_4_sdf)"
      ]
    },
    {
      "cell_type": "markdown",
      "metadata": {
        "id": "Rh7UHTdnB-NJ"
      },
      "source": [
        "### 1.3: Cleaning LinkedIn Data"
      ]
    },
    {
      "cell_type": "markdown",
      "metadata": {
        "id": "zuiIGkuACIXy"
      },
      "source": [
        "#### 1.3.1: Adding Experience [6 Pts]"
      ]
    },
    {
      "cell_type": "markdown",
      "metadata": {
        "id": "Y0dWu9IRRXVq"
      },
      "source": [
        "In this part, we are interested in when individuals began working at a particular company.  When you created the schema, you might have noticed that the collection of companies an invidual worked at are contained in the `experience` field as an **array of dictionaries**. The company name is stored in the `org` field, and the start date is in the `start` field. Here is an example of an `experience` field:\n",
        "\n",
        "```\n",
        "{\n",
        "   \"experience\": [\n",
        "     {\n",
        "        \"org\": \"The Walt Disney Company\",\n",
        "        \"title\" : \"Mickey Mouse\",\n",
        "        \"end\" : \"Present\",\n",
        "        \"start\": \"November 1928\",\n",
        "        \"desc\": \"Sailed a boat.\"\n",
        "     },\n",
        "     {\n",
        "        \"org\": \"Walt Disney World Resort\",\n",
        "        \"title\": \"Mickey Mouse Mascot\",\n",
        "        \"start\": \"January 2005\",\n",
        "        \"desc\": \"Took pictures with kids.\"\n",
        "     }\n",
        "   ]\n",
        "}\n",
        "```\n",
        "\n",
        "Your task is to extract each pair of company and start date from these arrays. This is known as \"exploding\" a row in Spark. If you think about how we used relational data to model a nested list in a separate table -- that's basically what an explode does to the nested data within `linkedin`.\n",
        "\n",
        "Create an sdf called `raw_start_dates_sdf` that contains the company and start date for every experience of every individual in `linkedin_data_sdf`. Drop any row that contains a `null` in either column.\n",
        "\n",
        "```\n",
        "+--------------------------+---------------+\n",
        "|org                       |start_date     |\n",
        "+--------------------------+---------------+\n",
        "|Walt Disney World Resort  |January 2005   |\n",
        "|The Walt Disney Company   |November 1928  |\n",
        "|...                       |...            |\n",
        "+--------------------------+---------------+\n",
        "```\n",
        "\n",
        "_Hint_: Reference the [function list](https://spark.apache.org/docs/2.3.0/api/sql/index.html).\n",
        "\n",
        "_Note_: Some of the entires in `org` are \"weird\", i.e. made up of non-english letters and characters. Keep them. **DO NOT** edit any name in the original dataframe unless we specify. **DO NOT** drop any row unless there is a `null` value as stated before. This goes for the rest of the homework as well, unless otherwise specified."
      ]
    },
    {
      "cell_type": "code",
      "execution_count": 29,
      "metadata": {
        "id": "QbBet-PeoKVQ",
        "colab": {
          "base_uri": "https://localhost:8080/",
          "height": 463,
          "referenced_widgets": [
            "f411c463ed77488b8d66620e1bcd07ba",
            "fa8703752c3c41098fcafc1f785381c7",
            "d61049e013a14acb979c40be1750beb5"
          ]
        },
        "outputId": "bff75310-ac30-4d24-f78f-01f22e0e4114"
      },
      "outputs": [
        {
          "output_type": "display_data",
          "data": {
            "text/plain": [
              "FloatProgress(value=0.0, bar_style='info', description='Progress:', layout=Layout(height='25px', width='50%'),…"
            ],
            "application/vnd.jupyter.widget-view+json": {
              "version_major": 2,
              "version_minor": 0,
              "model_id": "f411c463ed77488b8d66620e1bcd07ba"
            }
          },
          "metadata": {}
        },
        {
          "output_type": "stream",
          "name": "stdout",
          "text": [
            "+----------------------------------------------------+--------------+\n",
            "|org                                                 |start_date    |\n",
            "+----------------------------------------------------+--------------+\n",
            "|Johnson and Johnson                                 |November 2009 |\n",
            "|Albert Einstein Medical Center                      |September 2008|\n",
            "|Columbia University                                 |August 2006   |\n",
            "|Memorial Sloan Kettering Cancer Center              |January 2003  |\n",
            "|Sahlgrenska University Hospital                     |November 2001 |\n",
            "|UCSF                                                |September 2012|\n",
            "|Wyss Institute for Biologically Inspired Engineering|May 2009      |\n",
            "|<Online Recruiting Company>                         |December 2009 |\n",
            "|<Medical Testing Company>                           |December 2009 |\n",
            "|000Montgomery.Com                                   |January 2005  |\n",
            "|<Software Consulting Company>                       |August 2000   |\n",
            "|<Software Consulting Company>                       |December 2008 |\n",
            "|<Temperature Sensor Manufacturer>                   |February 2009 |\n",
            "|<Advertising Company>                               |May 2007      |\n",
            "|<Advertising Company>                               |March 2007    |\n",
            "|<Psychology Organization>                           |January 2007  |\n",
            "|<Advertising Company>                               |February 2007 |\n",
            "|<National Recruitment Network>                      |February 2006 |\n",
            "|<Employment Agency>                                 |October 2005  |\n",
            "|<Biometrics Hardware Company>                       |July 2006     |\n",
            "+----------------------------------------------------+--------------+\n",
            "only showing top 20 rows"
          ]
        }
      ],
      "source": [
        "%%spark\n",
        "\n",
        "#ToDo\n",
        "\n",
        "raw_start_dates_sdf = spark.sql(\"\"\"\n",
        "    SELECT exp.org, exp.start AS start_date\n",
        "    FROM linkedin_data\n",
        "    LATERAL VIEW explode(experience) AS exp\n",
        "    WHERE exp.org IS NOT NULL AND exp.start IS NOT NULL\n",
        "\"\"\")\n",
        "\n",
        "# Show the result\n",
        "raw_start_dates_sdf.show(truncate=False)\n"
      ]
    },
    {
      "cell_type": "code",
      "execution_count": 30,
      "metadata": {
        "id": "TQ4z5YNRJszs",
        "colab": {
          "base_uri": "https://localhost:8080/",
          "height": 17,
          "referenced_widgets": [
            "833822e32715413d8afc54fecdb1ee82",
            "97553f3297fc4c05a460abf70c82f730",
            "eee701f1b4a74521a132e50ced64ec90"
          ]
        },
        "outputId": "f908e626-d01c-4470-a18f-b4a404d3c8c7"
      },
      "outputs": [
        {
          "output_type": "display_data",
          "data": {
            "text/plain": [
              "FloatProgress(value=0.0, bar_style='info', description='Progress:', layout=Layout(height='25px', width='50%'),…"
            ],
            "application/vnd.jupyter.widget-view+json": {
              "version_major": 2,
              "version_minor": 0,
              "model_id": "833822e32715413d8afc54fecdb1ee82"
            }
          },
          "metadata": {}
        }
      ],
      "source": [
        "#################     DO NOT EDIT      ##################\n",
        "%%spark\n",
        "raw_start_dates_sdf.createOrReplaceTempView(\"test_1_3_1\")\n",
        "test_1_3_1_sdf = spark.sql(\"SELECT * FROM test_1_3_1 ORDER BY org ASC, start_date DESC LIMIT 20\")"
      ]
    },
    {
      "cell_type": "code",
      "execution_count": 31,
      "metadata": {
        "id": "nurW7BLKIUOO",
        "colab": {
          "base_uri": "https://localhost:8080/",
          "height": 17,
          "referenced_widgets": [
            "a09411b3514248c4812d6ec05b9b2ef3",
            "d0f977e371254515bb8f9f0049b973e4",
            "94a2608228aa45afb762b6143e5c19ce",
            "f3d4e3aee9dc4692a3df2cf40819e9c1",
            "f9652f60d0f143da95173ca12b8a5db2",
            "0db3bf8f80b240789c5b8890c1d8e70e"
          ]
        },
        "outputId": "bbe2d0de-7ad5-4e33-a37d-8ba912718174"
      },
      "outputs": [
        {
          "output_type": "display_data",
          "data": {
            "text/plain": [
              "FloatProgress(value=0.0, bar_style='info', description='Progress:', layout=Layout(height='25px', width='50%'),…"
            ],
            "application/vnd.jupyter.widget-view+json": {
              "version_major": 2,
              "version_minor": 0,
              "model_id": "a09411b3514248c4812d6ec05b9b2ef3"
            }
          },
          "metadata": {}
        },
        {
          "output_type": "display_data",
          "data": {
            "text/plain": [
              "FloatProgress(value=0.0, bar_style='info', description='Progress:', layout=Layout(height='25px', width='50%'),…"
            ],
            "application/vnd.jupyter.widget-view+json": {
              "version_major": 2,
              "version_minor": 0,
              "model_id": "f3d4e3aee9dc4692a3df2cf40819e9c1"
            }
          },
          "metadata": {}
        }
      ],
      "source": [
        "#Convert to Pandas\n",
        "%spark -o test_1_3_1_sdf"
      ]
    },
    {
      "cell_type": "code",
      "execution_count": 32,
      "metadata": {
        "id": "LEDWWnGTs25a",
        "colab": {
          "base_uri": "https://localhost:8080/"
        },
        "outputId": "826659de-d079-492a-b014-bc36910d2875"
      },
      "outputs": [
        {
          "output_type": "stream",
          "name": "stdout",
          "text": [
            "Correct! You earned 6/6 points. You are a star!\n",
            "\n",
            "Your submission has been successfully recorded in the gradebook.\n"
          ]
        }
      ],
      "source": [
        "## AUTOGRADER\n",
        "grader.grade(test_case_id = 'test_pos_explode', answer = test_1_3_1_sdf)"
      ]
    },
    {
      "cell_type": "markdown",
      "metadata": {
        "id": "5EO58odiDCmf"
      },
      "source": [
        "#### 1.3.2: Filtering on Date [5 Pts]"
      ]
    },
    {
      "cell_type": "markdown",
      "metadata": {
        "id": "UhEm87LUSgEg"
      },
      "source": [
        "There are two issues with the values in our `start_date` column. First, the values are saved as strings, not datetime types. This halts us from running functions such as `ORDER BY` or `GROUP BY` on common months or years. Second, some values do not have both month and year information or are in other languages. Your task is to filter out and clean the `start_date` column. We are interested in only those rows that have date in the following format `\"(month_name) (year)\"`, e.g. \"October 2010\".\n",
        "\n",
        "Using `raw_start_dates_sdf`, create an sdf called `filtered_start_dates_sdf` with the `start_date` column filtered in the manner above. **Keep only those rows with a start date between January 2000 ('2000-01-01') to December 2011 ('2011-12-01'), inclusive**.  Ensure that any dates that are not in our desired format are omitted. Drop any row that contains a `null` in either column. The format of the sdf is shown below:\n",
        "```\n",
        "+--------------------------+---------------+\n",
        "|org                       |start_date     |\n",
        "+--------------------------+---------------+\n",
        "|Walt Disney World Resort  |2005-01-01     |\n",
        "|...                       |...            |\n",
        "+--------------------------+---------------+\n",
        "```\n",
        "_Hint_: Refer to the [function list](https://spark.apache.org/docs/latest/api/python/reference/pyspark.sql/functions.html) to format the `start_date` column. In Spark SQL the date format we are interested in is `\"MMM y\"`.\n",
        "\n",
        "_Note_: Spark will return the date in the format above, with the day as `01`. This is ok, since we are interested in the month and year each individual began working and all dates will have `01` as their day."
      ]
    },
    {
      "cell_type": "code",
      "execution_count": 33,
      "metadata": {
        "id": "zUVzwaQNShj_",
        "colab": {
          "base_uri": "https://localhost:8080/",
          "height": 463,
          "referenced_widgets": [
            "3f1d26fc87e3461ea79184eb5250ae0f",
            "6d3110e1d53348a6b8b6973b073bd576",
            "a7e7fba664ad43cbb6f86354bbde8a8b"
          ]
        },
        "outputId": "7140547a-b69c-4601-fa16-db944ac0009d"
      },
      "outputs": [
        {
          "output_type": "display_data",
          "data": {
            "text/plain": [
              "FloatProgress(value=0.0, bar_style='info', description='Progress:', layout=Layout(height='25px', width='50%'),…"
            ],
            "application/vnd.jupyter.widget-view+json": {
              "version_major": 2,
              "version_minor": 0,
              "model_id": "3f1d26fc87e3461ea79184eb5250ae0f"
            }
          },
          "metadata": {}
        },
        {
          "output_type": "stream",
          "name": "stdout",
          "text": [
            "+----------------------------------------------------+----------+\n",
            "|org                                                 |start_date|\n",
            "+----------------------------------------------------+----------+\n",
            "|Johnson and Johnson                                 |2009-11-01|\n",
            "|Albert Einstein Medical Center                      |2008-09-01|\n",
            "|Columbia University                                 |2006-08-01|\n",
            "|Memorial Sloan Kettering Cancer Center              |2003-01-01|\n",
            "|Sahlgrenska University Hospital                     |2001-11-01|\n",
            "|Wyss Institute for Biologically Inspired Engineering|2009-05-01|\n",
            "|<Online Recruiting Company>                         |2009-12-01|\n",
            "|<Medical Testing Company>                           |2009-12-01|\n",
            "|000Montgomery.Com                                   |2005-01-01|\n",
            "|<Software Consulting Company>                       |2000-08-01|\n",
            "|<Software Consulting Company>                       |2008-12-01|\n",
            "|<Temperature Sensor Manufacturer>                   |2009-02-01|\n",
            "|<Advertising Company>                               |2007-05-01|\n",
            "|<Advertising Company>                               |2007-03-01|\n",
            "|<Psychology Organization>                           |2007-01-01|\n",
            "|<Advertising Company>                               |2007-02-01|\n",
            "|<National Recruitment Network>                      |2006-02-01|\n",
            "|<Employment Agency>                                 |2005-10-01|\n",
            "|<Biometrics Hardware Company>                       |2006-07-01|\n",
            "|<Product Manufacturing Company>                     |2001-08-01|\n",
            "+----------------------------------------------------+----------+\n",
            "only showing top 20 rows"
          ]
        }
      ],
      "source": [
        "%%spark\n",
        "\n",
        "#Do not remove the line below\n",
        "spark.sql(\"set spark.sql.legacy.timeParserPolicy=LEGACY\")\n",
        "\n",
        "#ToDo\n",
        "\n",
        "raw_start_dates_sdf.createOrReplaceTempView(\"raw_start_dates\")\n",
        "start_dates_sdf = spark.sql('''\n",
        "    SELECT org, TO_DATE(start_date, 'MMM y') AS start_date\n",
        "    FROM raw_start_dates''').dropna()\n",
        "\n",
        "start_dates_sdf.createOrReplaceTempView(\"start_dates\")\n",
        "filtered_start_dates_sdf = spark.sql('''\n",
        "    SELECT *\n",
        "    FROM start_dates\n",
        "    WHERE start_date <= '2011-12-01' AND start_date >= '2000-01-01'\n",
        "''')\n",
        "\n",
        "# Show the final filtered result\n",
        "filtered_start_dates_sdf.show(truncate=False)"
      ]
    },
    {
      "cell_type": "code",
      "execution_count": 34,
      "metadata": {
        "id": "R_uu7DgpORH-",
        "colab": {
          "base_uri": "https://localhost:8080/",
          "height": 17,
          "referenced_widgets": [
            "3c968e76cd1d4c8883481b20e2afd2da",
            "d9363984c6d6405da8c9d82f7f17cb0b",
            "3a03d9d5c1be4f3f8c9bfa9fa825dad2"
          ]
        },
        "outputId": "ef698ae7-c261-47f6-f4fd-5fddd4ebb380"
      },
      "outputs": [
        {
          "output_type": "display_data",
          "data": {
            "text/plain": [
              "FloatProgress(value=0.0, bar_style='info', description='Progress:', layout=Layout(height='25px', width='50%'),…"
            ],
            "application/vnd.jupyter.widget-view+json": {
              "version_major": 2,
              "version_minor": 0,
              "model_id": "3c968e76cd1d4c8883481b20e2afd2da"
            }
          },
          "metadata": {}
        }
      ],
      "source": [
        "#################     DO NOT EDIT      ##################\n",
        "%%spark\n",
        "filtered_start_dates_sdf.createOrReplaceTempView(\"test_1_3_2\")\n",
        "test_1_3_2_sdf = spark.sql(\"SELECT * FROM ((SELECT org, DATE_FORMAT(start_date, 'yyyy-MM-dd') AS start_date FROM test_1_3_2 ORDER BY start_date DESC, org DESC LIMIT 10) UNION (SELECT org, DATE_FORMAT(start_date, 'yyyy-MM-dd') AS start_date FROM test_1_3_2 ORDER BY start_date ASC, org ASC LIMIT 10)) ORDER BY start_date ASC, org ASC\")"
      ]
    },
    {
      "cell_type": "code",
      "execution_count": 35,
      "metadata": {
        "id": "Xdlr-ScTtuMg",
        "colab": {
          "base_uri": "https://localhost:8080/",
          "height": 17,
          "referenced_widgets": [
            "1e5e8853d86245759f4d72ac7e724524",
            "8222e88291764f39a8fc91a0a6706a97",
            "e4ee2e9f6a3940be8f708fe511d1dc6a",
            "34477ecde3d547aba31b901c6756e14b",
            "bca68ccad6e640589ffb542ecc54cb62",
            "bd338178f14a4e5993a4f65af2cbbf77"
          ]
        },
        "outputId": "f48da9c0-56bf-462b-a2fd-14bceb4b36a0"
      },
      "outputs": [
        {
          "output_type": "display_data",
          "data": {
            "text/plain": [
              "FloatProgress(value=0.0, bar_style='info', description='Progress:', layout=Layout(height='25px', width='50%'),…"
            ],
            "application/vnd.jupyter.widget-view+json": {
              "version_major": 2,
              "version_minor": 0,
              "model_id": "1e5e8853d86245759f4d72ac7e724524"
            }
          },
          "metadata": {}
        },
        {
          "output_type": "display_data",
          "data": {
            "text/plain": [
              "FloatProgress(value=0.0, bar_style='info', description='Progress:', layout=Layout(height='25px', width='50%'),…"
            ],
            "application/vnd.jupyter.widget-view+json": {
              "version_major": 2,
              "version_minor": 0,
              "model_id": "34477ecde3d547aba31b901c6756e14b"
            }
          },
          "metadata": {}
        }
      ],
      "source": [
        "#Convert to Pandas\n",
        "%spark -o test_1_3_2_sdf"
      ]
    },
    {
      "cell_type": "code",
      "execution_count": 36,
      "metadata": {
        "id": "RDor1THwspT2",
        "colab": {
          "base_uri": "https://localhost:8080/"
        },
        "outputId": "9f70eab0-3d10-43d0-cad6-a541a051fbc4"
      },
      "outputs": [
        {
          "output_type": "stream",
          "name": "stdout",
          "text": [
            "Correct! You earned 5/5 points. You are a star!\n",
            "\n",
            "Your submission has been successfully recorded in the gradebook.\n"
          ]
        }
      ],
      "source": [
        "## AUTOGRADER\n",
        "grader.grade(test_case_id = 'test_linkedin_date', answer = test_1_3_2_sdf)"
      ]
    },
    {
      "cell_type": "markdown",
      "metadata": {
        "id": "FrBN2Np7GWdW"
      },
      "source": [
        "### 1.4: Cleaning Stock Data"
      ]
    },
    {
      "cell_type": "markdown",
      "metadata": {
        "id": "m3o0JjdzaEkG"
      },
      "source": [
        "#### 1.4.1: Adding Company Names [2 Pts]"
      ]
    },
    {
      "cell_type": "markdown",
      "metadata": {
        "id": "oJnNlV4FGkF2"
      },
      "source": [
        "In part 4 of this homework, we have to merge the stocks and linkedin dataframes. This would be difficult to do directly, as the companies in our stock dataset are defined by their stock tickers instead of the full names. Thus, we would not be able to merge it with the `org` field in `hire_train_sdf`. We must convert them to that format. For this purpose, we can create a user-defined function (udf) to achieve the mentioned conversion.\n",
        "\n",
        "A udf is defined as a normal Python function and then registered to be used as a Spark SQL function. Your task is to create a udf, `TICKER_TO_NAME()` that will convert the ticker field in `raw_stocks` to the company's name. This will be done using the provided `ticker_to_name_dict` dictionary. We are only interested in the companies in that dictionary. If the ticker value isn't in the table, set it to a string equal to \"None\". Do not hardcode this.\n",
        "\n",
        "Fill out the function `ticker_to_name()` below. Then use `spark.udf.register()` to register it as a SQL function. The command is provided. ***You do not need to edit it***. Note, we have defined the udf as returning `StringType()`. Ensure that your function returns this. You must also deal with any potential `null` cases.\n",
        "\n"
      ]
    },
    {
      "cell_type": "code",
      "execution_count": 37,
      "metadata": {
        "id": "12YNSVD2GwcM",
        "colab": {
          "base_uri": "https://localhost:8080/",
          "height": 53,
          "referenced_widgets": [
            "0a3433e40a844a8b89f5b836f4f94fee",
            "6a912ce7873e4681b6e7ea4d6c908a46",
            "dfa1dd24f6774070b6e7fe3aa1d3b9b1"
          ]
        },
        "outputId": "0f2d0a46-b558-4db7-9a05-7dd1a58271f2"
      },
      "outputs": [
        {
          "output_type": "display_data",
          "data": {
            "text/plain": [
              "FloatProgress(value=0.0, bar_style='info', description='Progress:', layout=Layout(height='25px', width='50%'),…"
            ],
            "application/vnd.jupyter.widget-view+json": {
              "version_major": 2,
              "version_minor": 0,
              "model_id": "0a3433e40a844a8b89f5b836f4f94fee"
            }
          },
          "metadata": {}
        },
        {
          "output_type": "stream",
          "name": "stdout",
          "text": [
            "Nokia\n",
            "<function ticker_to_name at 0x7fd5d93d78c0>"
          ]
        }
      ],
      "source": [
        "%%spark\n",
        "\n",
        "# Dictionary linking stock ticker symbols to their names\n",
        "ticker_to_name_dict = {'NOK': 'Nokia',\n",
        "                       'UN': 'Unilever',\n",
        "                       'BP': 'BP',\n",
        "                       'JNJ': 'Johnson & Johnson',\n",
        "                       'TCS': 'Tata Consultancy Services',\n",
        "                       'SLB': 'Schlumberger',\n",
        "                       'NVS': 'Novartis',\n",
        "                       'CNY': 'Huawei',\n",
        "                       'PFE': 'Pfizer',\n",
        "                       'ACN': 'Accenture',\n",
        "                       'DELL': 'Dell',\n",
        "                       'MS': 'Morgan Stanley',\n",
        "                       'ORCL': 'Oracle',\n",
        "                       'BAC': 'Bank of America',\n",
        "                       'PG': 'Procter & Gamble',\n",
        "                       'CGEMY': 'Capgemini',\n",
        "                       'GS': 'Goldman Sachs',\n",
        "                       'C': 'Citi',\n",
        "                       'IBM': 'IBM',\n",
        "                       'CS': 'Credit Suisse',\n",
        "                       'MDLZ': 'Kraft Foods',\n",
        "                       'WIT': 'Wipro Technologies',\n",
        "                       'CSCO': 'Cisco Systems',\n",
        "                       'PWC': 'PwC',\n",
        "                       'GOOGL': 'Google',\n",
        "                       'CTSH': 'Cognizant Technology Solutions',\n",
        "                       'HSBC': 'HSBC',\n",
        "                       'DB': 'Deutsche Bank',\n",
        "                       'MSFT': 'Microsoft',\n",
        "                       'HPE': 'Hewlett-Packard',\n",
        "                       'ERIC': 'Ericsson',\n",
        "                       'BCS': 'Barclays Capital',\n",
        "                       'GSK': 'GlaxoSmithKline'}\n",
        "\n",
        "# TODO: Fill out [ticker_to_name()] and register it as a udf.\n",
        "\n",
        "\n",
        "def ticker_to_name(ticker):\n",
        "    try:\n",
        "        if ticker in ticker_to_name_dict:\n",
        "            return ticker_to_name_dict[ticker]\n",
        "    except:\n",
        "        return None\n",
        "\n",
        "print(ticker_to_name(\"NOK\"))\n",
        "\n",
        "# Register udf as a SQL function. DO NOT EDIT\n",
        "spark.udf.register(\"TICKER_TO_NAME\", ticker_to_name, StringType())\n"
      ]
    },
    {
      "cell_type": "code",
      "execution_count": 38,
      "metadata": {
        "id": "eL5VjvlqRcu7",
        "colab": {
          "base_uri": "https://localhost:8080/",
          "height": 17,
          "referenced_widgets": [
            "8afd46938e8c4250b922952ed0152323",
            "8e74588c1262414585a85beeeeb7b642",
            "c3f09c5dc27143e3a6d6e6aa59f5f222"
          ]
        },
        "outputId": "b793d9e8-ebcf-42ef-a985-87120c4954e5"
      },
      "outputs": [
        {
          "output_type": "display_data",
          "data": {
            "text/plain": [
              "FloatProgress(value=0.0, bar_style='info', description='Progress:', layout=Layout(height='25px', width='50%'),…"
            ],
            "application/vnd.jupyter.widget-view+json": {
              "version_major": 2,
              "version_minor": 0,
              "model_id": "8afd46938e8c4250b922952ed0152323"
            }
          },
          "metadata": {}
        }
      ],
      "source": [
        "#################     DO NOT EDIT      ##################\n",
        "%%spark\n",
        "\n",
        "ticker_to_name = [((str(ticker_to_name(\"GOOGL\")),str(ticker_to_name(\"TSLA\"))))]\n",
        "columns = ['A', 'B']\n",
        "dataframe = spark.createDataFrame(ticker_to_name, columns)"
      ]
    },
    {
      "cell_type": "code",
      "execution_count": 39,
      "metadata": {
        "id": "hv4l324Lv0mD",
        "colab": {
          "base_uri": "https://localhost:8080/",
          "height": 17,
          "referenced_widgets": [
            "f0fec270617444d39f9cc065e72806b3",
            "262939adc7094b2e9ed3e5da415d72e4",
            "e081706a96ac4b3d846b719d33eaf949",
            "d5f1bc89b2654a5fb29193af9f5c8e15",
            "2f9a6a8d3fe2482e954a91261b1a908a",
            "c396ecdd03ec418cb2649a1902e14e69"
          ]
        },
        "outputId": "a50c67ce-59b2-44a8-8daf-6b8bea8d9fe2"
      },
      "outputs": [
        {
          "output_type": "display_data",
          "data": {
            "text/plain": [
              "FloatProgress(value=0.0, bar_style='info', description='Progress:', layout=Layout(height='25px', width='50%'),…"
            ],
            "application/vnd.jupyter.widget-view+json": {
              "version_major": 2,
              "version_minor": 0,
              "model_id": "f0fec270617444d39f9cc065e72806b3"
            }
          },
          "metadata": {}
        },
        {
          "output_type": "display_data",
          "data": {
            "text/plain": [
              "FloatProgress(value=0.0, bar_style='info', description='Progress:', layout=Layout(height='25px', width='50%'),…"
            ],
            "application/vnd.jupyter.widget-view+json": {
              "version_major": 2,
              "version_minor": 0,
              "model_id": "d5f1bc89b2654a5fb29193af9f5c8e15"
            }
          },
          "metadata": {}
        }
      ],
      "source": [
        "#Convert to Pandas\n",
        "%spark -o dataframe"
      ]
    },
    {
      "cell_type": "code",
      "execution_count": 40,
      "metadata": {
        "id": "v8DiBMTLuhkq",
        "colab": {
          "base_uri": "https://localhost:8080/"
        },
        "outputId": "48fbd6c5-f354-448d-e619-74cb6a548ba3"
      },
      "outputs": [
        {
          "output_type": "stream",
          "name": "stdout",
          "text": [
            "Correct! You earned 2/2 points. You are a star!\n",
            "\n",
            "Your submission has been successfully recorded in the gradebook.\n"
          ]
        }
      ],
      "source": [
        "## AUTOGRADER\n",
        "grader.grade(test_case_id = 'test_ticker_name', answer = dataframe)"
      ]
    },
    {
      "cell_type": "markdown",
      "metadata": {
        "id": "ppX3QrfbHh5T"
      },
      "source": [
        "#### 1.4.2: Wrangling stocks data [5 Pts]"
      ]
    },
    {
      "cell_type": "markdown",
      "metadata": {
        "id": "vmYUW763Hjt-"
      },
      "source": [
        "We can now begin to wrangle `stocks_sdf` with our new `TICKER_TO_NAME()` function.\n",
        "\n",
        "Create an sdf called `filter_1_stocks_sdf` as follows. Convert all the ticker names in `stocks_sdf` to the company names and save it as `org`. Next, convert the `date` field to a datetime type. As explained before this will help order and group the rows in future steps.\n",
        "\n",
        "Drop any company names that do not appear in `ticker_to_name_dict`. **Keep any date between January 1st 2001 ('2001-01-01') and December 4th 2012 ('2012-12-04') inclusive**, in the format shown below (note this is a datetime object not a string):\n",
        "\n",
        "```\n",
        "+----+------------+--------------+\n",
        "|org |date        |Close         |\n",
        "+----+------------+--------------+\n",
        "|IBM |2000-01-03  |...           |\n",
        "|... |...         |...           |\n",
        "+----+------------+--------------+\n",
        "```\n",
        "_Hint_: You will use a similar function to filter the dates as in Step 1.3.2. In Spark SQL the format for the `date` field in `stocks_sdf` is `\"yyyy-MM-dd\"`."
      ]
    },
    {
      "cell_type": "markdown",
      "metadata": {
        "id": "-Hwl2JcvupCa"
      },
      "source": []
    },
    {
      "cell_type": "code",
      "execution_count": 41,
      "metadata": {
        "id": "5NUYUs0tHzqf",
        "colab": {
          "base_uri": "https://localhost:8080/",
          "height": 196,
          "referenced_widgets": [
            "c6d1d220924d4a6288b206a88dbafa1d",
            "8a9e3e542b8047e2a8912ff527205aef",
            "a29a5ea4eb8c4221bd29523486a4a7cc"
          ]
        },
        "outputId": "daa6daed-8b2b-44f9-bf94-fd98979a943d"
      },
      "outputs": [
        {
          "output_type": "display_data",
          "data": {
            "text/plain": [
              "FloatProgress(value=0.0, bar_style='info', description='Progress:', layout=Layout(height='25px', width='50%'),…"
            ],
            "application/vnd.jupyter.widget-view+json": {
              "version_major": 2,
              "version_minor": 0,
              "model_id": "c6d1d220924d4a6288b206a88dbafa1d"
            }
          },
          "metadata": {}
        },
        {
          "output_type": "stream",
          "name": "stdout",
          "text": [
            "+---------+----------+------------------+\n",
            "|      org|      date|             Close|\n",
            "+---------+----------+------------------+\n",
            "|Accenture|2005-02-25|21.363000000000003|\n",
            "|Accenture|2005-02-28|            21.704|\n",
            "|Accenture|2005-03-01|            21.735|\n",
            "|Accenture|2005-03-02|21.593000000000004|\n",
            "|Accenture|2005-03-03|            21.329|\n",
            "+---------+----------+------------------+\n",
            "only showing top 5 rows"
          ]
        }
      ],
      "source": [
        "%%spark\n",
        "\n",
        "# TODO\n",
        "\n",
        "filter_1_stocks_sdf = spark.sql('''\n",
        "    SELECT TICKER_TO_NAME(org) AS org, TO_DATE(Date, 'yyyy-MM-dd') AS date, Close\n",
        "    FROM stocks\n",
        "    WHERE TICKER_TO_NAME(org) IS NOT NULL AND date <='2012-12-04' AND date >= '2001-01-01' ''')\n",
        "filter_1_stocks_sdf.show(5)"
      ]
    },
    {
      "cell_type": "code",
      "execution_count": 42,
      "metadata": {
        "id": "6eMbPVPKOk8l",
        "colab": {
          "base_uri": "https://localhost:8080/",
          "height": 17,
          "referenced_widgets": [
            "a7792a889ae94e7b85a46e4b27f1440e",
            "d1681b3b7a244f6f8cd57255f9a4e03f",
            "a1290005529a497ab3fb4832b6001881"
          ]
        },
        "outputId": "fe6405e0-a305-4ae1-f15b-29d2c38de8b9"
      },
      "outputs": [
        {
          "output_type": "display_data",
          "data": {
            "text/plain": [
              "FloatProgress(value=0.0, bar_style='info', description='Progress:', layout=Layout(height='25px', width='50%'),…"
            ],
            "application/vnd.jupyter.widget-view+json": {
              "version_major": 2,
              "version_minor": 0,
              "model_id": "a7792a889ae94e7b85a46e4b27f1440e"
            }
          },
          "metadata": {}
        }
      ],
      "source": [
        "#################     DO NOT EDIT      ##################\n",
        "%%spark\n",
        "filter_1_stocks_sdf.createOrReplaceTempView(\"test_1_4_2\")\n",
        "test_1_4_2_sdf = spark.sql(\"SELECT * FROM ((SELECT org, DATE_FORMAT(date, 'yyyy-MM-dd') as date, Close FROM test_1_4_2 ORDER BY date DESC, org DESC LIMIT 10) UNION (SELECT org, DATE_FORMAT(date, 'yyyy-MM-dd') as date, Close FROM test_1_4_2 ORDER BY date ASC, org ASC LIMIT 10)) ORDER BY date ASC, org DESC\")"
      ]
    },
    {
      "cell_type": "code",
      "execution_count": 43,
      "metadata": {
        "id": "GxINfYn_Tg6s",
        "colab": {
          "base_uri": "https://localhost:8080/",
          "height": 17,
          "referenced_widgets": [
            "e207ad6c2b354d4d89c0673ee8a68642",
            "5da4d65d61e24f49a6cdfae3b978f201",
            "34dcc92be2474682814f81d9cddbf69b",
            "21a32e076a0e44328430ce9a9b70aba5",
            "b5761ff5e1d540ba9268135e31dcf929",
            "d7dc46cc91024bb3a86589b5d1d16444"
          ]
        },
        "outputId": "66d7b494-64ec-4b7a-b90f-3839a8631d6b"
      },
      "outputs": [
        {
          "output_type": "display_data",
          "data": {
            "text/plain": [
              "FloatProgress(value=0.0, bar_style='info', description='Progress:', layout=Layout(height='25px', width='50%'),…"
            ],
            "application/vnd.jupyter.widget-view+json": {
              "version_major": 2,
              "version_minor": 0,
              "model_id": "e207ad6c2b354d4d89c0673ee8a68642"
            }
          },
          "metadata": {}
        },
        {
          "output_type": "display_data",
          "data": {
            "text/plain": [
              "FloatProgress(value=0.0, bar_style='info', description='Progress:', layout=Layout(height='25px', width='50%'),…"
            ],
            "application/vnd.jupyter.widget-view+json": {
              "version_major": 2,
              "version_minor": 0,
              "model_id": "21a32e076a0e44328430ce9a9b70aba5"
            }
          },
          "metadata": {}
        }
      ],
      "source": [
        "#Convert to Pandas\n",
        "%spark -o test_1_4_2_sdf"
      ]
    },
    {
      "cell_type": "code",
      "execution_count": 44,
      "metadata": {
        "id": "YBaX4eB_1wct",
        "colab": {
          "base_uri": "https://localhost:8080/"
        },
        "outputId": "9d85ddd2-e175-4957-aa5d-80375635c94a"
      },
      "outputs": [
        {
          "output_type": "stream",
          "name": "stdout",
          "text": [
            "Correct! You earned 5/5 points. You are a star!\n",
            "\n",
            "Your submission has been successfully recorded in the gradebook.\n"
          ]
        }
      ],
      "source": [
        "## AUTOGRADER\n",
        "grader.grade(test_case_id = 'test_stock_date', answer = test_1_4_2_sdf)"
      ]
    },
    {
      "cell_type": "markdown",
      "metadata": {
        "id": "FjugB9CnImV1"
      },
      "source": [
        "## Step 2: Analysis on LinkedIn Data [12 pts]"
      ]
    },
    {
      "cell_type": "markdown",
      "metadata": {
        "id": "76Z2GuCsJj13"
      },
      "source": [
        "### 2.1: Counting Employees [2 Pts]"
      ]
    },
    {
      "cell_type": "markdown",
      "metadata": {
        "id": "niXSeOqAJ6Vc"
      },
      "source": [
        "Now we would like to find for each company, the number of individuals who started in the same month and year. Use `filtered_start_dates_sdf` and create a new sdf called `start_dates_sdf` which will contain the total number of employees who began working at the same company on the same start date (name the new column as `num_employees`). The format of the sdf is shown below:\n",
        "\n",
        "```\n",
        "+--------------------------+---------------+---------------+\n",
        "|org                       |start_date     |num_employees  |\n",
        "+--------------------------+---------------+---------------+\n",
        "|Walt Disney World Resort  |2005-01-01     |1              |\n",
        "|...                       |...            |...            |\n",
        "+--------------------------+---------------+---------------+\n",
        "```"
      ]
    },
    {
      "cell_type": "code",
      "execution_count": 45,
      "metadata": {
        "id": "VZyAqiO9JlZZ",
        "colab": {
          "base_uri": "https://localhost:8080/",
          "height": 196,
          "referenced_widgets": [
            "95adbfb944ce438b9c3c9cec1987eefd",
            "86e979a2cc1f4339aa6026e5b8ca6850",
            "7a2706a493954a1aa761009eff05dc32"
          ]
        },
        "outputId": "263342ca-432c-46e6-9f29-e655fed39b3d"
      },
      "outputs": [
        {
          "output_type": "display_data",
          "data": {
            "text/plain": [
              "FloatProgress(value=0.0, bar_style='info', description='Progress:', layout=Layout(height='25px', width='50%'),…"
            ],
            "application/vnd.jupyter.widget-view+json": {
              "version_major": 2,
              "version_minor": 0,
              "model_id": "95adbfb944ce438b9c3c9cec1987eefd"
            }
          },
          "metadata": {}
        },
        {
          "output_type": "stream",
          "name": "stdout",
          "text": [
            "+------------------+----------+-------------+\n",
            "|               org|start_date|num_employees|\n",
            "+------------------+----------+-------------+\n",
            "|   Electronic Arts|2006-01-01|            2|\n",
            "|            Toyota|2004-07-01|            1|\n",
            "|Financiële Fabriek|2002-02-01|            1|\n",
            "|       Eatops Sarl|2008-05-01|            1|\n",
            "|   Barry Callebaut|2006-09-01|            1|\n",
            "+------------------+----------+-------------+\n",
            "only showing top 5 rows"
          ]
        }
      ],
      "source": [
        "%%spark\n",
        "\n",
        "# TODO:\n",
        "filtered_start_dates_sdf.createOrReplaceTempView(\"filtered_start_dates\")\n",
        "start_dates_sdf = spark.sql('''\n",
        "    SELECT org, start_date, COUNT(start_date) AS num_employees\n",
        "    FROM filtered_start_dates\n",
        "    GROUP BY org, start_date\n",
        "''')\n",
        "start_dates_sdf.show(5)\n",
        "\n"
      ]
    },
    {
      "cell_type": "code",
      "execution_count": 46,
      "metadata": {
        "id": "ESjsTaKLWS-6",
        "colab": {
          "base_uri": "https://localhost:8080/",
          "height": 17,
          "referenced_widgets": [
            "c240d918bcf24364b459f4bec5a6f199",
            "8f02e5f39ff04422a92b5024f355bafc",
            "51b60e51ee2a4d699b1f50ce26c196ba"
          ]
        },
        "outputId": "c66cd649-a9f8-43b2-f20b-3097a849ccf5"
      },
      "outputs": [
        {
          "output_type": "display_data",
          "data": {
            "text/plain": [
              "FloatProgress(value=0.0, bar_style='info', description='Progress:', layout=Layout(height='25px', width='50%'),…"
            ],
            "application/vnd.jupyter.widget-view+json": {
              "version_major": 2,
              "version_minor": 0,
              "model_id": "c240d918bcf24364b459f4bec5a6f199"
            }
          },
          "metadata": {}
        }
      ],
      "source": [
        "#################     DO NOT EDIT      ##################\n",
        "%%spark\n",
        "\n",
        "start_dates_sdf.createOrReplaceTempView(\"test_2_1\")\n",
        "test_2_1_sdf = spark.sql(\"SELECT org, DATE_FORMAT(start_date, 'yyyy-MM-dd') as start_date, num_employees FROM test_2_1 ORDER BY num_employees DESC, org DESC, start_date ASC LIMIT 10\")"
      ]
    },
    {
      "cell_type": "code",
      "execution_count": 47,
      "metadata": {
        "id": "xP5l8ztdWhhv",
        "colab": {
          "base_uri": "https://localhost:8080/",
          "height": 17,
          "referenced_widgets": [
            "fd50abaae4534259958a42e7142961d2",
            "18a40375b795437e9fe6808c6ca639ea",
            "dc170e29ea3c4faab56bbae1c913f4cc",
            "d7435bfbd5cf4f2fa1b6c7dc6458e06d",
            "dbc75fddb7354ad98c319c19496fe833",
            "b42b05704cad4b59a89fc160190f9ac2"
          ]
        },
        "outputId": "0961cd40-d71a-485d-a617-c15df2b0d248"
      },
      "outputs": [
        {
          "output_type": "display_data",
          "data": {
            "text/plain": [
              "FloatProgress(value=0.0, bar_style='info', description='Progress:', layout=Layout(height='25px', width='50%'),…"
            ],
            "application/vnd.jupyter.widget-view+json": {
              "version_major": 2,
              "version_minor": 0,
              "model_id": "fd50abaae4534259958a42e7142961d2"
            }
          },
          "metadata": {}
        },
        {
          "output_type": "display_data",
          "data": {
            "text/plain": [
              "FloatProgress(value=0.0, bar_style='info', description='Progress:', layout=Layout(height='25px', width='50%'),…"
            ],
            "application/vnd.jupyter.widget-view+json": {
              "version_major": 2,
              "version_minor": 0,
              "model_id": "d7435bfbd5cf4f2fa1b6c7dc6458e06d"
            }
          },
          "metadata": {}
        }
      ],
      "source": [
        "#Convert to Pandas\n",
        "%spark -o test_2_1_sdf"
      ]
    },
    {
      "cell_type": "code",
      "execution_count": 48,
      "metadata": {
        "id": "B4HKNoWdLgUm",
        "colab": {
          "base_uri": "https://localhost:8080/"
        },
        "outputId": "d7d24749-862a-482e-e777-3f036c5e58dd"
      },
      "outputs": [
        {
          "output_type": "stream",
          "name": "stdout",
          "text": [
            "Correct! You earned 2/2 points. You are a star!\n",
            "\n",
            "Your submission has been successfully recorded in the gradebook.\n"
          ]
        }
      ],
      "source": [
        "## AUTOGRADER\n",
        "grader.grade(test_case_id = 'test_num_employees', answer = test_2_1_sdf)"
      ]
    },
    {
      "cell_type": "markdown",
      "metadata": {
        "id": "yBhHq0gRKEiX"
      },
      "source": [
        "### 2.2: Reshape DataFrame [7 Pts]"
      ]
    },
    {
      "cell_type": "markdown",
      "metadata": {
        "id": "DwQGo8a2KWEK"
      },
      "source": [
        "Our next step is to use `start_dates_sdf` and create a new sdf called `raw_hire_train_sdf` that has for a single company and a single year, the number of hires in Jan through Dec, as well as the total number of hires that year (name it `total_num`). Note that for each company you will have several rows corresponding to years between 2000 and 2011. It is alright if for a given company you don't have a given year. However, ensure that for a given company and given year, each month column has an entry, i.e. if no one was hired the value should be `0`.  \n",
        "\n",
        "_Note_: We will use the first three letters of each month in naming, i.e. `jan, feb, mar, apr, may, jun, jul, aug, sep, oct, nov, dec`.\n",
        "\n",
        "The format of the `raw_hire_train_sdf` is shown below:\n",
        "\n",
        "```\n",
        "+----+-----+----------+---------+----------+----------+\n",
        "|org |year |jan_hired |   ...   |dec_hired |total_num |\n",
        "+----+-----+----------+---------+----------+----------+\n",
        "|IBM |2008 |...       |   ...   |...       |...       |\n",
        "|IBM |2009 |...       |   ...   |...       |...       |\n",
        "|... |...  |...       |   ...   |...       |...       |\n",
        "+----+-----+----------+---------+----------+----------+\n",
        "```\n"
      ]
    },
    {
      "cell_type": "code",
      "execution_count": 49,
      "metadata": {
        "id": "8bdXbMWWI9MF",
        "colab": {
          "base_uri": "https://localhost:8080/",
          "height": 17,
          "referenced_widgets": [
            "8a99ce60c15b46e5a0efa169a7a01680",
            "43914eedc5304ce4b4ee773a17ab4069",
            "c62eb81079294e32abf81d0ca7036a9e"
          ]
        },
        "outputId": "6cec5cfa-762d-4d25-abcc-2df4899bdfa6"
      },
      "outputs": [
        {
          "output_type": "display_data",
          "data": {
            "text/plain": [
              "FloatProgress(value=0.0, bar_style='info', description='Progress:', layout=Layout(height='25px', width='50%'),…"
            ],
            "application/vnd.jupyter.widget-view+json": {
              "version_major": 2,
              "version_minor": 0,
              "model_id": "8a99ce60c15b46e5a0efa169a7a01680"
            }
          },
          "metadata": {}
        }
      ],
      "source": [
        "%%spark\n",
        "\n",
        "# TODO:\n",
        "start_dates_sdf.createOrReplaceTempView(\"start_dates\")\n",
        "\n",
        "raw_hire_train_sdf = spark.sql(''' SELECT org, YEAR(start_date) AS year,\n",
        "        SUM(CASE WHEN (MONTH(start_date)==1) THEN num_employees ELSE 0 END) AS jan_hired,\n",
        "        SUM(CASE WHEN (MONTH(start_date)==2) THEN num_employees ELSE 0 END) AS feb_hired,\n",
        "        SUM(CASE WHEN (MONTH(start_date)==3) THEN num_employees ELSE 0 END) AS mar_hired,\n",
        "        SUM(CASE WHEN (MONTH(start_date)==4) THEN num_employees ELSE 0 END) AS apr_hired,\n",
        "        SUM(CASE WHEN (MONTH(start_date)==5) THEN num_employees ELSE 0 END) AS may_hired,\n",
        "        SUM(CASE WHEN (MONTH(start_date)==6) THEN num_employees ELSE 0 END) AS jun_hired,\n",
        "        SUM(CASE WHEN (MONTH(start_date)==7) THEN num_employees ELSE 0 END) AS jul_hired,\n",
        "        SUM(CASE WHEN (MONTH(start_date)==8) THEN num_employees ELSE 0 END) AS aug_hired,\n",
        "        SUM(CASE WHEN (MONTH(start_date)==9) THEN num_employees ELSE 0 END) AS sep_hired,\n",
        "        SUM(CASE WHEN (MONTH(start_date)==10) THEN num_employees ELSE 0 END) AS oct_hired,\n",
        "        SUM(CASE WHEN (MONTH(start_date)==11) THEN num_employees ELSE 0 END) AS nov_hired,\n",
        "        SUM(CASE WHEN (MONTH(start_date)==12) THEN num_employees ELSE 0 END) AS dec_hired,\n",
        "        SUM(num_employees) AS total_num\n",
        "        FROM start_dates GROUP BY org, year ''')\n",
        "\n",
        "\n",
        "\n"
      ]
    },
    {
      "cell_type": "code",
      "execution_count": 50,
      "metadata": {
        "id": "1X0W1uuZXnPW",
        "colab": {
          "base_uri": "https://localhost:8080/",
          "height": 17,
          "referenced_widgets": [
            "2a9ce600a08e447697c89f6aaf59b818",
            "67ccefe636974a66ae8fb8e28aaf3f9d",
            "f552848d6cdb432b9e31bce14872a32d"
          ]
        },
        "outputId": "88ac264e-acca-4dda-801f-2967e1548df7"
      },
      "outputs": [
        {
          "output_type": "display_data",
          "data": {
            "text/plain": [
              "FloatProgress(value=0.0, bar_style='info', description='Progress:', layout=Layout(height='25px', width='50%'),…"
            ],
            "application/vnd.jupyter.widget-view+json": {
              "version_major": 2,
              "version_minor": 0,
              "model_id": "2a9ce600a08e447697c89f6aaf59b818"
            }
          },
          "metadata": {}
        }
      ],
      "source": [
        "#################     DO NOT EDIT      ##################\n",
        "%%spark\n",
        "raw_hire_train_sdf.createOrReplaceTempView(\"test_2_2\")\n",
        "test_2_2_sdf = spark.sql(\"SELECT * FROM test_2_2 ORDER BY total_num DESC, org DESC, year ASC LIMIT 20\")"
      ]
    },
    {
      "cell_type": "code",
      "execution_count": 51,
      "metadata": {
        "id": "2eZv6t05X22n",
        "colab": {
          "base_uri": "https://localhost:8080/",
          "height": 17,
          "referenced_widgets": [
            "bfa5dbcc56014bec8194b64b13209074",
            "04deaba10e2040b6bba143af28c3c57b",
            "2f2972f496534eb883b875acb54542a3",
            "96389c6e0d054832ac2161e6b14e5896",
            "7c8ff097047e4b2ea53e2f3165ab3251",
            "efa94c88c1914ce7ba7b9cf57b31ea30"
          ]
        },
        "outputId": "4b6ab5d4-5ae0-44b4-86c1-80e0e039e3f9"
      },
      "outputs": [
        {
          "output_type": "display_data",
          "data": {
            "text/plain": [
              "FloatProgress(value=0.0, bar_style='info', description='Progress:', layout=Layout(height='25px', width='50%'),…"
            ],
            "application/vnd.jupyter.widget-view+json": {
              "version_major": 2,
              "version_minor": 0,
              "model_id": "bfa5dbcc56014bec8194b64b13209074"
            }
          },
          "metadata": {}
        },
        {
          "output_type": "display_data",
          "data": {
            "text/plain": [
              "FloatProgress(value=0.0, bar_style='info', description='Progress:', layout=Layout(height='25px', width='50%'),…"
            ],
            "application/vnd.jupyter.widget-view+json": {
              "version_major": 2,
              "version_minor": 0,
              "model_id": "96389c6e0d054832ac2161e6b14e5896"
            }
          },
          "metadata": {}
        }
      ],
      "source": [
        "#Convert to Pandas\n",
        "%spark -o test_2_2_sdf"
      ]
    },
    {
      "cell_type": "code",
      "execution_count": 52,
      "metadata": {
        "id": "8qVILDHeNG7v",
        "colab": {
          "base_uri": "https://localhost:8080/"
        },
        "outputId": "6ad7b834-c672-4866-bb2b-d3a5c1a26c49"
      },
      "outputs": [
        {
          "output_type": "stream",
          "name": "stdout",
          "text": [
            "Correct! You earned 7/7 points. You are a star!\n",
            "\n",
            "Your submission has been successfully recorded in the gradebook.\n"
          ]
        }
      ],
      "source": [
        "## AUTOGRADER\n",
        "grader.grade(test_case_id = 'test_full_hired', answer = test_2_2_sdf)"
      ]
    },
    {
      "cell_type": "markdown",
      "metadata": {
        "id": "0UTtf0lBKsEE"
      },
      "source": [
        "### 2.3: Filtering on Company Size [3 Pts]"
      ]
    },
    {
      "cell_type": "markdown",
      "metadata": {
        "id": "KyS1QMJ9K2Xg"
      },
      "source": [
        "Create an sdf called `hire_train_sdf` that contains all the observations in `raw_hire_train_sdf` with `total_num` greater than or equal to 20."
      ]
    },
    {
      "cell_type": "code",
      "execution_count": 53,
      "metadata": {
        "id": "4N_H11ETLNe2",
        "colab": {
          "base_uri": "https://localhost:8080/",
          "height": 196,
          "referenced_widgets": [
            "8206f9350b1a4ceb82bcfad26896a8a0",
            "efe0e00b310a454e9845c7728d6282ca",
            "0cddcf6ac81743da9d2b79e15ac4e072"
          ]
        },
        "outputId": "b4106134-3981-433e-fdc6-7e3812cd2c76"
      },
      "outputs": [
        {
          "output_type": "display_data",
          "data": {
            "text/plain": [
              "FloatProgress(value=0.0, bar_style='info', description='Progress:', layout=Layout(height='25px', width='50%'),…"
            ],
            "application/vnd.jupyter.widget-view+json": {
              "version_major": 2,
              "version_minor": 0,
              "model_id": "8206f9350b1a4ceb82bcfad26896a8a0"
            }
          },
          "metadata": {}
        },
        {
          "output_type": "stream",
          "name": "stdout",
          "text": [
            "+--------------------+----+---------+---------+---------+---------+---------+---------+---------+---------+---------+---------+---------+---------+---------+\n",
            "|                 org|year|jan_hired|feb_hired|mar_hired|apr_hired|may_hired|jun_hired|jul_hired|aug_hired|sep_hired|oct_hired|nov_hired|dec_hired|total_num|\n",
            "+--------------------+----+---------+---------+---------+---------+---------+---------+---------+---------+---------+---------+---------+---------+---------+\n",
            "|     Thomson Reuters|2009|        2|        2|        3|        3|        4|        2|        3|        3|        2|        2|        2|        1|       29|\n",
            "|                KPMG|2011|        2|        4|        2|        1|        6|        7|        5|        4|        2|        8|        0|        3|       44|\n",
            "|      JPMorgan Chase|2011|        3|        1|        1|        0|        1|        7|        6|        1|        1|        2|        1|        4|       28|\n",
            "|            Deloitte|2008|        6|        4|        1|        3|        1|        9|        4|        3|       11|        4|        2|        0|       48|\n",
            "|Microsoft Corpora...|2010|        6|        1|        3|        1|        6|        2|        7|        2|        1|        5|        2|        1|       37|\n",
            "+--------------------+----+---------+---------+---------+---------+---------+---------+---------+---------+---------+---------+---------+---------+---------+\n",
            "only showing top 5 rows"
          ]
        }
      ],
      "source": [
        "%%spark\n",
        "\n",
        "# TODO\n",
        "# Keep all rows where total_num >= 20\n",
        "raw_hire_train_sdf.createOrReplaceTempView(\"raw_hire_train\")\n",
        "hire_train_sdf = spark.sql(''' SELECT * FROM raw_hire_train WHERE total_num >= 20 ''')\n",
        "hire_train_sdf.show(5)"
      ]
    },
    {
      "cell_type": "code",
      "execution_count": 54,
      "metadata": {
        "id": "S7WT5TJY2Cl2",
        "colab": {
          "base_uri": "https://localhost:8080/",
          "height": 17,
          "referenced_widgets": [
            "ae58ebc15b9a484a82f4079f52bbdd77",
            "fc58685a0e34405b84f68fe89743dd5d",
            "210ea620b8b44803a45ef43a363f4596"
          ]
        },
        "outputId": "190e19aa-0b4c-45ff-f71d-00e327806b8c"
      },
      "outputs": [
        {
          "output_type": "display_data",
          "data": {
            "text/plain": [
              "FloatProgress(value=0.0, bar_style='info', description='Progress:', layout=Layout(height='25px', width='50%'),…"
            ],
            "application/vnd.jupyter.widget-view+json": {
              "version_major": 2,
              "version_minor": 0,
              "model_id": "ae58ebc15b9a484a82f4079f52bbdd77"
            }
          },
          "metadata": {}
        }
      ],
      "source": [
        "#################     DO NOT EDIT      ##################\n",
        "%%spark\n",
        "hire_train_sdf.createOrReplaceTempView(\"test_2_3\")\n",
        "test_2_3_sdf = spark.sql(\"SELECT * FROM test_2_3 ORDER BY org ASC, year ASC LIMIT 10\")"
      ]
    },
    {
      "cell_type": "code",
      "execution_count": 55,
      "metadata": {
        "id": "SHWFkECW2CrX",
        "colab": {
          "base_uri": "https://localhost:8080/",
          "height": 17,
          "referenced_widgets": [
            "1e11d3c49fb742c990593f5f2035c4c8",
            "d3070936ecd74c16b284b53a15a09648",
            "a94b38c572f94c09b88ad6e0e1e08576",
            "5151c55333db4ad7b5c64b10ba2bf083",
            "775e6bb2a8974e50b090e634a95e811e",
            "075e60717365485bba6f73ddaed01489"
          ]
        },
        "outputId": "7fa322b0-9e02-4596-c476-e9b74ce1ee94"
      },
      "outputs": [
        {
          "output_type": "display_data",
          "data": {
            "text/plain": [
              "FloatProgress(value=0.0, bar_style='info', description='Progress:', layout=Layout(height='25px', width='50%'),…"
            ],
            "application/vnd.jupyter.widget-view+json": {
              "version_major": 2,
              "version_minor": 0,
              "model_id": "1e11d3c49fb742c990593f5f2035c4c8"
            }
          },
          "metadata": {}
        },
        {
          "output_type": "display_data",
          "data": {
            "text/plain": [
              "FloatProgress(value=0.0, bar_style='info', description='Progress:', layout=Layout(height='25px', width='50%'),…"
            ],
            "application/vnd.jupyter.widget-view+json": {
              "version_major": 2,
              "version_minor": 0,
              "model_id": "5151c55333db4ad7b5c64b10ba2bf083"
            }
          },
          "metadata": {}
        }
      ],
      "source": [
        "#Convert to Pandas\n",
        "%spark -o test_2_3_sdf"
      ]
    },
    {
      "cell_type": "code",
      "execution_count": 56,
      "metadata": {
        "id": "pQ9-jkP52CvM",
        "colab": {
          "base_uri": "https://localhost:8080/"
        },
        "outputId": "81771a37-b393-45b8-875f-433116448a66"
      },
      "outputs": [
        {
          "output_type": "stream",
          "name": "stdout",
          "text": [
            "Correct! You earned 3/3 points. You are a star!\n",
            "\n",
            "Your submission has been successfully recorded in the gradebook.\n"
          ]
        }
      ],
      "source": [
        "## AUTOGRADER\n",
        "grader.grade(test_case_id = 'test_sampled_hired', answer = test_2_3_sdf)"
      ]
    },
    {
      "cell_type": "markdown",
      "metadata": {
        "id": "Gof2K2iyLPju"
      },
      "source": [
        "## Step 3: Analyzing Stock Data [19 pts]"
      ]
    },
    {
      "cell_type": "markdown",
      "metadata": {
        "id": "2C4dRs7cLdz8"
      },
      "source": [
        "### 3.1: Average Closing Price [5 Pts]"
      ]
    },
    {
      "cell_type": "markdown",
      "metadata": {
        "id": "Il7RPOMuLfzg"
      },
      "source": [
        "The data in `filter_1_stocks_sdf` gives closing prices on a daily basis. Since we are interested in monthly trends, we will only keep the **average of the closing price of each month per year for each org**.\n",
        "\n",
        "Create an sdf `filter_2_stocks_sdf` that contains only the average of closing prices for each month-year pair sorted by the org alphabetically and then month, year from earliest to latest with the closing price rounded off to 3 decimal places. The format of the sdf is shown below:\n",
        "\n",
        "```\n",
        "+----+------------+--------------+--------------+\n",
        "|org |month       |year          |close         |\n",
        "+----+------------+--------------+--------------+\n",
        "|IBM |01          |2000          |...           |\n",
        "|... |...         |...           |...           |\n",
        "+----+------------+--------------+--------------+\n",
        "```\n",
        "\n",
        "**Hint:** Think about what sorting things chronologically from earliest to latest means. Is January 2006, January 2007, ... January 2012, February 2006, February 2007, ... really in chronological order? Does January 2007 actually come before February 2006?"
      ]
    },
    {
      "cell_type": "code",
      "execution_count": 57,
      "metadata": {
        "id": "AezlvyLdPjLz",
        "colab": {
          "base_uri": "https://localhost:8080/",
          "height": 196,
          "referenced_widgets": [
            "66cb6d1bbda54a5bb71adf32383c6dc4",
            "051ed3a3a46245bfa10442a25faa1e69",
            "404128d063fc4a5db9b29bd74eb08073"
          ]
        },
        "outputId": "70a48d84-a9dc-41d6-d77f-1935ec2d8701"
      },
      "outputs": [
        {
          "output_type": "display_data",
          "data": {
            "text/plain": [
              "FloatProgress(value=0.0, bar_style='info', description='Progress:', layout=Layout(height='25px', width='50%'),…"
            ],
            "application/vnd.jupyter.widget-view+json": {
              "version_major": 2,
              "version_minor": 0,
              "model_id": "66cb6d1bbda54a5bb71adf32383c6dc4"
            }
          },
          "metadata": {}
        },
        {
          "output_type": "stream",
          "name": "stdout",
          "text": [
            "+---------+-----+----+------+\n",
            "|      org|month|year| close|\n",
            "+---------+-----+----+------+\n",
            "|Accenture|    2|2005|21.534|\n",
            "|Accenture|    3|2005|20.904|\n",
            "|Accenture|    4|2005|19.467|\n",
            "|Accenture|    5|2005|18.977|\n",
            "|Accenture|    6|2005|19.892|\n",
            "+---------+-----+----+------+\n",
            "only showing top 5 rows"
          ]
        }
      ],
      "source": [
        "%%spark\n",
        "\n",
        "# TODO\n",
        "filter_1_stocks_sdf.createOrReplaceTempView(\"filter_1_stocks\")\n",
        "query = '''SELECT org, MONTH(date) AS month, YEAR(date) AS year, ROUND(AVG(Close), 3) as close\n",
        "          FROM filter_1_stocks\n",
        "          GROUP BY org, year, month\n",
        "          ORDER BY org, year ASC, month ASC'''\n",
        "filter_2_stocks_sdf = spark.sql(query)\n",
        "filter_2_stocks_sdf.show(5)"
      ]
    },
    {
      "cell_type": "code",
      "execution_count": 58,
      "metadata": {
        "id": "L_F2dFPbLunl",
        "colab": {
          "base_uri": "https://localhost:8080/",
          "height": 17,
          "referenced_widgets": [
            "7580699f29c244128746e68575613ae5",
            "b26b2308eeb546828b1a1a52dafb2e91",
            "ded79cf1a22341e9baa43862b3ce6a3d"
          ]
        },
        "outputId": "57668e89-9ea6-4a25-dda1-316644116ed0"
      },
      "outputs": [
        {
          "output_type": "display_data",
          "data": {
            "text/plain": [
              "FloatProgress(value=0.0, bar_style='info', description='Progress:', layout=Layout(height='25px', width='50%'),…"
            ],
            "application/vnd.jupyter.widget-view+json": {
              "version_major": 2,
              "version_minor": 0,
              "model_id": "7580699f29c244128746e68575613ae5"
            }
          },
          "metadata": {}
        }
      ],
      "source": [
        "#################     DO NOT EDIT      ##################\n",
        "%%spark\n",
        "filter_2_stocks_sdf.createOrReplaceTempView(\"test_3_1\")\n",
        "test_3_1_sdf = spark.sql(\"SELECT * FROM test_3_1 LIMIT 10\")"
      ]
    },
    {
      "cell_type": "code",
      "execution_count": 59,
      "metadata": {
        "id": "QuHm860oWrRR",
        "colab": {
          "base_uri": "https://localhost:8080/",
          "height": 17,
          "referenced_widgets": [
            "cbd870a410004b9ca0dbe6face744165",
            "1e49aae501a945c1a7c85812a5fcb771",
            "af9017e37df8491695b6e40910215283",
            "6beb08386b334d188271f95ee4f5acc4",
            "3820c45d2092454193eb49c94ebacd9f",
            "79d7adbf723c4d798c189798042c64bb"
          ]
        },
        "outputId": "98f50a55-73a6-4437-b789-48f26291bc71"
      },
      "outputs": [
        {
          "output_type": "display_data",
          "data": {
            "text/plain": [
              "FloatProgress(value=0.0, bar_style='info', description='Progress:', layout=Layout(height='25px', width='50%'),…"
            ],
            "application/vnd.jupyter.widget-view+json": {
              "version_major": 2,
              "version_minor": 0,
              "model_id": "cbd870a410004b9ca0dbe6face744165"
            }
          },
          "metadata": {}
        },
        {
          "output_type": "display_data",
          "data": {
            "text/plain": [
              "FloatProgress(value=0.0, bar_style='info', description='Progress:', layout=Layout(height='25px', width='50%'),…"
            ],
            "application/vnd.jupyter.widget-view+json": {
              "version_major": 2,
              "version_minor": 0,
              "model_id": "6beb08386b334d188271f95ee4f5acc4"
            }
          },
          "metadata": {}
        }
      ],
      "source": [
        "#Convert to Pandas\n",
        "%spark -o test_3_1_sdf"
      ]
    },
    {
      "cell_type": "code",
      "execution_count": 60,
      "metadata": {
        "id": "PdrOqReHW6Xl",
        "colab": {
          "base_uri": "https://localhost:8080/"
        },
        "outputId": "3a6b02a3-f7da-4240-c9d5-8f08497cfe17"
      },
      "outputs": [
        {
          "output_type": "stream",
          "name": "stdout",
          "text": [
            "Correct! You earned 5/5 points. You are a star!\n",
            "\n",
            "Your submission has been successfully recorded in the gradebook.\n"
          ]
        }
      ],
      "source": [
        "## AUTOGRADER\n",
        "grader.grade(test_case_id = 'test_summary', answer = test_3_1_sdf)"
      ]
    },
    {
      "cell_type": "markdown",
      "metadata": {
        "id": "Jx0pV9aXLteu"
      },
      "source": [
        "### 3.2: Reshape DataFrame Again! [8 Pts]"
      ]
    },
    {
      "cell_type": "markdown",
      "metadata": {
        "id": "wGrz4i0ElrHt"
      },
      "source": [
        "Now, we will begin to shape our dataframe into the format of the final training sdf.\n",
        "\n",
        "Create an sdf `filter_3_stocks_sdf` that has for a single company and a single year, the average stock price for each month in that year. This is similar to the table you created in Step 3.1. If the data is not avaliable, drop any rows containing any `null` values, in any column. The format of the sdf is shown below:\n",
        "\n",
        "```\n",
        "+----+-----+----------+---------+----------+\n",
        "|org |year |jan_stock |   ...   |dec_stock |\n",
        "+----+-----+----------+---------+----------+\n",
        "|IBM |2008 |...       |   ...   |...       |\n",
        "|IBM |2009 |...       |   ...   |...       |\n",
        "|... |...  |...       |   ...   |...       |\n",
        "+----+-----+----------+---------+----------+\n",
        "```\n"
      ]
    },
    {
      "cell_type": "code",
      "execution_count": 61,
      "metadata": {
        "id": "ua1Roj3dMCLn",
        "colab": {
          "base_uri": "https://localhost:8080/",
          "height": 196,
          "referenced_widgets": [
            "8d9964d084a245949e871dab9dbc7cfa",
            "8a7a488e74994849ab96eca81808f030",
            "0aebcaea10654230aafe7917691ab977"
          ]
        },
        "outputId": "aca18e46-190b-49f0-cc26-5eadb519b0aa"
      },
      "outputs": [
        {
          "output_type": "display_data",
          "data": {
            "text/plain": [
              "FloatProgress(value=0.0, bar_style='info', description='Progress:', layout=Layout(height='25px', width='50%'),…"
            ],
            "application/vnd.jupyter.widget-view+json": {
              "version_major": 2,
              "version_minor": 0,
              "model_id": "8d9964d084a245949e871dab9dbc7cfa"
            }
          },
          "metadata": {}
        },
        {
          "output_type": "stream",
          "name": "stdout",
          "text": [
            "+---------------+----+---------+---------+---------+---------+---------+---------+---------+---------+---------+---------+---------+---------+\n",
            "|            org|year|jan_stock|feb_stock|mar_stock|apr_stock|may_stock|jun_stock|jul_stock|aug_stock|sep_stock|oct_stock|nov_stock|dec_stock|\n",
            "+---------------+----+---------+---------+---------+---------+---------+---------+---------+---------+---------+---------+---------+---------+\n",
            "|            IBM|2012|  157.075|  164.599|  172.858|  173.182|  170.101|  165.354|  162.753|  169.054|  174.401|  173.441|  163.985|  162.915|\n",
            "|GlaxoSmithKline|2006|   35.695|   35.537|   37.019|   36.732|   39.283|   37.995|   38.561|   38.104|   38.117|   37.948|    36.38|   36.522|\n",
            "|  Cisco Systems|2006|     15.4|   15.993|   17.564|   17.384|   17.121|   16.376|   15.173|   16.488|   18.727|   19.953|   21.578|   22.486|\n",
            "|           HSBC|2012|   29.095|   32.185|   32.489|   32.358|   31.434|   31.381|   31.665|   32.736|   34.542|   36.313|    37.13|    38.59|\n",
            "|         Pfizer|2008|   18.167|   17.731|   16.526|   16.174|   15.607|   14.016|   14.245|   15.221|   14.356|   13.518|    12.81|   13.196|\n",
            "+---------------+----+---------+---------+---------+---------+---------+---------+---------+---------+---------+---------+---------+---------+\n",
            "only showing top 5 rows"
          ]
        }
      ],
      "source": [
        "%%spark\n",
        "\n",
        "#ToDo\n",
        "filter_2_stocks_sdf.createOrReplaceTempView(\"filter_2_stocks\")\n",
        "filter_3_stocks_sdf = spark.sql('''\n",
        "    SELECT org, year,\n",
        "           AVG(CASE WHEN month == 1 THEN Close ELSE NULL END) AS jan_stock,\n",
        "           AVG(CASE WHEN month == 2 THEN Close ELSE NULL END) AS feb_stock,\n",
        "           AVG(CASE WHEN month == 3 THEN Close ELSE NULL END) AS mar_stock,\n",
        "           AVG(CASE WHEN month == 4 THEN Close ELSE NULL END) AS apr_stock,\n",
        "           AVG(CASE WHEN month == 5 THEN Close ELSE NULL END) AS may_stock,\n",
        "           AVG(CASE WHEN month == 6 THEN Close ELSE NULL END) AS jun_stock,\n",
        "           AVG(CASE WHEN month == 7 THEN Close ELSE NULL END) AS jul_stock,\n",
        "           AVG(CASE WHEN month == 8 THEN Close ELSE NULL END) AS aug_stock,\n",
        "           AVG(CASE WHEN month == 9 THEN Close ELSE NULL END) AS sep_stock,\n",
        "           AVG(CASE WHEN month == 10 THEN Close ELSE NULL END) AS oct_stock,\n",
        "           AVG(CASE WHEN month == 11 THEN Close ELSE NULL END) AS nov_stock,\n",
        "           AVG(CASE WHEN month == 12 THEN Close ELSE NULL END) AS dec_stock\n",
        "    FROM filter_2_stocks\n",
        "    GROUP BY org, year\n",
        "''').dropna()\n",
        "filter_3_stocks_sdf.show(5)\n"
      ]
    },
    {
      "cell_type": "code",
      "execution_count": 62,
      "metadata": {
        "id": "kd94T-uUsO4K",
        "colab": {
          "base_uri": "https://localhost:8080/",
          "height": 17,
          "referenced_widgets": [
            "5a3a42fdb2264207b338ad677b02b48e",
            "d0ca2f82e63541bdb842dfdf566fda3c",
            "e969330deeff424ebd8f7f560012d772"
          ]
        },
        "outputId": "de571c36-b67d-4419-ddf3-db6d426820f8"
      },
      "outputs": [
        {
          "output_type": "display_data",
          "data": {
            "text/plain": [
              "FloatProgress(value=0.0, bar_style='info', description='Progress:', layout=Layout(height='25px', width='50%'),…"
            ],
            "application/vnd.jupyter.widget-view+json": {
              "version_major": 2,
              "version_minor": 0,
              "model_id": "5a3a42fdb2264207b338ad677b02b48e"
            }
          },
          "metadata": {}
        }
      ],
      "source": [
        "#################     DO NOT EDIT      ##################\n",
        "%%spark\n",
        "filter_3_stocks_sdf.createOrReplaceTempView(\"test_3_2\")\n",
        "test_3_2_sdf = spark.sql(\"SELECT * FROM test_3_2 ORDER BY org, year ASC LIMIT 10\")"
      ]
    },
    {
      "cell_type": "code",
      "execution_count": 63,
      "metadata": {
        "id": "BlDHAk_2sO4L",
        "colab": {
          "base_uri": "https://localhost:8080/",
          "height": 17,
          "referenced_widgets": [
            "f51834c6adee451abac0ec8e73580fff",
            "e9ad6ac7bbb547a28a425b9f535877a2",
            "098b099599c34509a042e698c05d1e8d",
            "c2395d87385349e88eee02d1fcb945f5",
            "c82e2001b582458ca023e999692b7e95",
            "d498050f4e574357b6565acb838ba67a"
          ]
        },
        "outputId": "7aecac62-5769-4de1-d7d0-d566f2653f0d"
      },
      "outputs": [
        {
          "output_type": "display_data",
          "data": {
            "text/plain": [
              "FloatProgress(value=0.0, bar_style='info', description='Progress:', layout=Layout(height='25px', width='50%'),…"
            ],
            "application/vnd.jupyter.widget-view+json": {
              "version_major": 2,
              "version_minor": 0,
              "model_id": "f51834c6adee451abac0ec8e73580fff"
            }
          },
          "metadata": {}
        },
        {
          "output_type": "display_data",
          "data": {
            "text/plain": [
              "FloatProgress(value=0.0, bar_style='info', description='Progress:', layout=Layout(height='25px', width='50%'),…"
            ],
            "application/vnd.jupyter.widget-view+json": {
              "version_major": 2,
              "version_minor": 0,
              "model_id": "c2395d87385349e88eee02d1fcb945f5"
            }
          },
          "metadata": {}
        }
      ],
      "source": [
        "#Convert to Pandas\n",
        "%spark -o test_3_2_sdf"
      ]
    },
    {
      "cell_type": "code",
      "execution_count": 64,
      "metadata": {
        "id": "_LdVqomdsO4L",
        "colab": {
          "base_uri": "https://localhost:8080/"
        },
        "outputId": "7cd7f3ae-4f3c-471b-aa67-4e6e0ec164c5"
      },
      "outputs": [
        {
          "output_type": "stream",
          "name": "stdout",
          "text": [
            "Correct! You earned 8/8 points. You are a star!\n",
            "\n",
            "Your submission has been successfully recorded in the gradebook.\n"
          ]
        }
      ],
      "source": [
        "## AUTOGRADER\n",
        "grader.grade(test_case_id = 'test_ravel_sdf', answer = test_3_2_sdf)\n"
      ]
    },
    {
      "cell_type": "markdown",
      "metadata": {
        "id": "cvfNnKKWMPKT"
      },
      "source": [
        "## 3.3: Direction of Change (Optional)\n",
        "\n",
        "\n",
        "\n"
      ]
    },
    {
      "cell_type": "markdown",
      "metadata": {
        "id": "zexvWfC2ML94"
      },
      "source": [
        "\n",
        "\n",
        "\n",
        "*This is an optional section, your final score in this homework will not be affected by your performance here. Sample working code is already provided.*\n",
        "\n",
        "***However, make sure to run it as we will need to use the results later!***\n",
        "\n",
        "The final element in our training set is the binary output for each case, i.e. the `y` label.\n",
        "\n",
        "Create an sdf `stocks_train_sdf` from `filter_3_stocks_sdf` with an additional column `direction`. This should be the direction of percentage change in the closing stock price, i.e. `1` for positive or `-1` for negative, from the first month of a given year to the last month of the given year. Make this an **integer**.  The year begins in January and ends in December, inclusive. The format of the sdf is shown below:\n",
        "\n",
        "```\n",
        "+----+-----+----------+---------+----------+-------------+\n",
        "|org |year |jan_stock |   ...   |dec_stock |direction    |\n",
        "+----+-----+----------+---------+----------+-------------+\n",
        "|IBM |2008 |...       |   ...   |...       |1            |\n",
        "|IBM |2009 |...       |   ...   |...       |-1           |\n",
        "|... |...  |...       |   ...   |...       |...          |\n",
        "+----+-----+----------+---------+----------+-------------+\n",
        "```"
      ]
    },
    {
      "cell_type": "code",
      "execution_count": 65,
      "metadata": {
        "colab": {
          "base_uri": "https://localhost:8080/",
          "height": 463,
          "referenced_widgets": [
            "fefc34a816134c89b19d43dc37f96b97",
            "2df1a0fdfd3e49b5b670bfe3e2fd6a95",
            "b65ba3b6daaa41449df6567fcb606517"
          ]
        },
        "id": "dE1z8nrBtq0t",
        "outputId": "f0b07686-5033-4a5d-f83b-aefa1e2707b6"
      },
      "outputs": [
        {
          "output_type": "display_data",
          "data": {
            "text/plain": [
              "FloatProgress(value=0.0, bar_style='info', description='Progress:', layout=Layout(height='25px', width='50%'),…"
            ],
            "application/vnd.jupyter.widget-view+json": {
              "version_major": 2,
              "version_minor": 0,
              "model_id": "fefc34a816134c89b19d43dc37f96b97"
            }
          },
          "metadata": {}
        },
        {
          "output_type": "stream",
          "name": "stdout",
          "text": [
            "+-----------------+----+---------+---------+---------+---------+---------+---------+---------+---------+---------+---------+---------+---------+---------+\n",
            "|              org|year|jan_stock|feb_stock|mar_stock|apr_stock|may_stock|jun_stock|jul_stock|aug_stock|sep_stock|oct_stock|nov_stock|dec_stock|direction|\n",
            "+-----------------+----+---------+---------+---------+---------+---------+---------+---------+---------+---------+---------+---------+---------+---------+\n",
            "|              IBM|2012|  157.075|  164.599|  172.858|  173.182|  170.101|  165.354|  162.753|  169.054|  174.401|  173.441|  163.985|  162.915|        1|\n",
            "|  GlaxoSmithKline|2006|   35.695|   35.537|   37.019|   36.732|   39.283|   37.995|   38.561|   38.104|   38.117|   37.948|    36.38|   36.522|        1|\n",
            "|    Cisco Systems|2006|     15.4|   15.993|   17.564|   17.384|   17.121|   16.376|   15.173|   16.488|   18.727|   19.953|   21.578|   22.486|        1|\n",
            "|             HSBC|2012|   29.095|   32.185|   32.489|   32.358|   31.434|   31.381|   31.665|   32.736|   34.542|   36.313|    37.13|    38.59|        1|\n",
            "|           Pfizer|2008|   18.167|   17.731|   16.526|   16.174|   15.607|   14.016|   14.245|   15.221|   14.356|   13.518|    12.81|   13.196|       -1|\n",
            "|           Oracle|2004|   13.107|   12.431|   11.142|    11.22|   10.511|   10.483|    9.843|     9.51|    9.947|   11.274|   11.908|   12.527|       -1|\n",
            "|           Pfizer|2010|   14.877|    14.07|   13.542|   13.218|   12.624|   11.679|   11.532|   12.593|   13.289|    13.67|   13.217|    13.42|       -1|\n",
            "| Procter & Gamble|2006|   47.353|   48.628|   47.997|   46.039|   44.821|   44.318|   45.543|    48.55|   49.693|   50.697|   51.168|   51.543|        1|\n",
            "| Barclays Capital|2008|   29.806|   29.443|   27.993|   29.727|   26.613|   20.233|   19.248|   20.818|   20.253|   13.134|    8.101|    7.177|       -1|\n",
            "|         Novartis|2011|   45.921|    45.43|   45.764|   46.738|    50.74|   50.932|   51.366|   47.225|   46.348|   47.591|   45.407|   46.121|        1|\n",
            "|         Unilever|2012|   27.628|   27.936|   28.174|   28.034|   27.652|   26.802|   27.995|   29.392|   30.284|   30.825|   31.244|    32.54|        1|\n",
            "|Johnson & Johnson|2007|   54.292|   53.145|   49.691|    51.34|   51.626|   50.607|   50.459|   50.124|   51.729|   53.145|   54.109|   55.062|        1|\n",
            "|           Oracle|2011|   29.135|     30.3|    29.42|    31.49|   31.808|   29.405|   29.851|    25.24|   26.107|   28.959|   29.003|    26.79|       -1|\n",
            "|     Schlumberger|2004|   24.796|   27.745|   27.947|   27.178|   25.216|   26.483|   28.014|   27.005|    28.69|   29.176|   28.341|   28.567|        1|\n",
            "|             Citi|2009|   47.323|   29.502|   20.104|   30.896|   35.157|   31.741|   27.816|   40.791|   44.099|   43.911|   40.144|   35.291|       -1|\n",
            "|             HSBC|2006|   52.366|   52.368|   53.465|   53.531|    55.78|   54.233|   55.587|   56.704|   56.753|   59.156|   59.787|   57.309|        1|\n",
            "|    Goldman Sachs|2006|  121.253|  130.198|  135.712|  148.246|  140.581|  134.696|  134.109|  138.186|  146.764|  166.149|  175.642|  182.926|        1|\n",
            "|              IBM|2011|  127.908|  136.392|  133.957|  138.594|  142.157|  138.891|  150.123|  142.531|  143.416|   153.57|  155.681|   158.83|        1|\n",
            "|         Ericsson|2009|    6.846|    7.266|    7.337|    7.998|    7.651|    8.298|    8.527|    8.392|    9.003|     9.04|    9.124|     8.28|        1|\n",
            "|    Cisco Systems|2004|   22.193|   19.922|   18.977|   19.176|   17.902|   19.289|   17.932|   15.994|   15.837|   15.504|   15.925|   16.001|       -1|\n",
            "+-----------------+----+---------+---------+---------+---------+---------+---------+---------+---------+---------+---------+---------+---------+---------+\n",
            "only showing top 20 rows"
          ]
        }
      ],
      "source": [
        "#ToDo\n",
        "\n",
        "%%spark\n",
        "\n",
        "#ToDo\n",
        "filter_3_stocks_sdf.createOrReplaceTempView(\"filter_stocks_sdf_3\")\n",
        "query = '''SELECT *,\n",
        "                   CASE WHEN dec_stock>=jan_stock THEN 1 ELSE -1 END AS direction\n",
        "                   FROM filter_stocks_sdf_3\n",
        "'''\n",
        "\n",
        "stocks_train_sdf = spark.sql(query)\n",
        "stocks_train_sdf.show(20)"
      ]
    },
    {
      "cell_type": "code",
      "execution_count": 66,
      "metadata": {
        "colab": {
          "base_uri": "https://localhost:8080/",
          "height": 17,
          "referenced_widgets": [
            "5b57e066cbe9458a87259211ad11d4c3",
            "9184593eb00245ad8cfd2c2ab88a860f",
            "c269ff09a7e042e5b9204d6389d94f09"
          ]
        },
        "id": "xKSknoxMtq0u",
        "outputId": "70f0f8d9-788a-4872-fa48-3adbab6f89c3"
      },
      "outputs": [
        {
          "output_type": "display_data",
          "data": {
            "text/plain": [
              "FloatProgress(value=0.0, bar_style='info', description='Progress:', layout=Layout(height='25px', width='50%'),…"
            ],
            "application/vnd.jupyter.widget-view+json": {
              "version_major": 2,
              "version_minor": 0,
              "model_id": "5b57e066cbe9458a87259211ad11d4c3"
            }
          },
          "metadata": {}
        }
      ],
      "source": [
        "################# Do not edit\n",
        "%%spark\n",
        "stocks_train_sdf.createOrReplaceTempView(\"test_3_3\")\n",
        "test_3_3_sdf = spark.sql(\"SELECT * FROM test_3_3 ORDER BY org, year ASC LIMIT 10\")"
      ]
    },
    {
      "cell_type": "code",
      "execution_count": 67,
      "metadata": {
        "colab": {
          "base_uri": "https://localhost:8080/",
          "height": 17,
          "referenced_widgets": [
            "dfdbef2577644f31be1d3013610bbcfd",
            "943c5133bc38476bb01f433eb1b6a67c",
            "7ba5c23be9c24ac1a510095067bc88d1",
            "80d72c5b37a942e49e277614696d0062",
            "bc650e8228474df7971412985fbfa573",
            "221d953bdab145bcbd9092120cce145b"
          ]
        },
        "id": "7IBswLWQtq0u",
        "outputId": "6f2204af-14fe-4911-d36a-5ff7595611f3"
      },
      "outputs": [
        {
          "output_type": "display_data",
          "data": {
            "text/plain": [
              "FloatProgress(value=0.0, bar_style='info', description='Progress:', layout=Layout(height='25px', width='50%'),…"
            ],
            "application/vnd.jupyter.widget-view+json": {
              "version_major": 2,
              "version_minor": 0,
              "model_id": "dfdbef2577644f31be1d3013610bbcfd"
            }
          },
          "metadata": {}
        },
        {
          "output_type": "display_data",
          "data": {
            "text/plain": [
              "FloatProgress(value=0.0, bar_style='info', description='Progress:', layout=Layout(height='25px', width='50%'),…"
            ],
            "application/vnd.jupyter.widget-view+json": {
              "version_major": 2,
              "version_minor": 0,
              "model_id": "80d72c5b37a942e49e277614696d0062"
            }
          },
          "metadata": {}
        }
      ],
      "source": [
        "#Convert to Pandas\n",
        "%spark -o test_3_3_sdf"
      ]
    },
    {
      "cell_type": "markdown",
      "metadata": {
        "id": "7jlODI-6WhtQ"
      },
      "source": [
        "# 3.4 Debugging PySpark"
      ]
    },
    {
      "cell_type": "markdown",
      "metadata": {
        "id": "W7j5Ke9D-RQB"
      },
      "source": [
        "While just writing code can be fun. PySpark involves the interaction of standard python with spark and may result in huge, hard to parse error logs. The goal of this section is to give you practice in debugging these error logs"
      ]
    },
    {
      "cell_type": "markdown",
      "metadata": {
        "id": "ZpUL0fZON9IF"
      },
      "source": [
        "## 3.4.1"
      ]
    },
    {
      "cell_type": "markdown",
      "metadata": {
        "id": "yuKp8_SZV5Oc"
      },
      "source": [
        "## Exploring Seasonality\n",
        "\n",
        "\n",
        "In this example we use the same stocks_sdf from before and examine Seasonality, an important step done in time series analysis.\n",
        "\n"
      ]
    },
    {
      "cell_type": "markdown",
      "metadata": {
        "id": "B482cMdYm_VA"
      },
      "source": [
        "This section calculates the average closing price and volume for each Month, Year combination, considering seasonality's impact on the data. We will explore various data exploration and transformation techniques, including trend analysis, seasonality identification, lag variables, and differencing. These techniques will be introduced in this section and further explored in subsequent sections using Spark.\n",
        "\n",
        "Some code here will throw errors and your job is to fix them!"
      ]
    },
    {
      "cell_type": "code",
      "execution_count": 68,
      "metadata": {
        "colab": {
          "base_uri": "https://localhost:8080/",
          "height": 463,
          "referenced_widgets": [
            "390f00a2ee75433dad518fb03b16bce6",
            "2b06bd0bc92546afbb30e846c38badde",
            "7ea9d59af49540319d41706ffeb2aca2"
          ]
        },
        "id": "9Zc1dog-zGMS",
        "outputId": "783d8823-8162-498c-dff8-043785efe212"
      },
      "outputs": [
        {
          "output_type": "display_data",
          "data": {
            "text/plain": [
              "FloatProgress(value=0.0, bar_style='info', description='Progress:', layout=Layout(height='25px', width='50%'),…"
            ],
            "application/vnd.jupyter.widget-view+json": {
              "version_major": 2,
              "version_minor": 0,
              "model_id": "390f00a2ee75433dad518fb03b16bce6"
            }
          },
          "metadata": {}
        },
        {
          "output_type": "stream",
          "name": "stdout",
          "text": [
            "+----------+------------------+------------------+------------------+------------------+--------+-------+---+----+-----+\n",
            "|      Date|              Open|              High|               Low|             Close|  Volume|OpenInt|org|Year|Month|\n",
            "+----------+------------------+------------------+------------------+------------------+--------+-------+---+----+-----+\n",
            "|1999-11-18|            30.713|            33.754|            27.002|29.701999999999998|66277506|      0|  A|1999|   11|\n",
            "|1999-11-19|            28.986|29.026999999999997|            26.872|27.256999999999998|16142920|      0|  A|1999|   11|\n",
            "|1999-11-22|            27.886|29.701999999999998|            27.044|29.701999999999998| 6970266|      0|  A|1999|   11|\n",
            "|1999-11-23|28.688000000000002|29.445999999999998|            27.002|            27.002| 6332082|      0|  A|1999|   11|\n",
            "|1999-11-24|27.083000000000002|            28.309|            27.002|            27.717| 5132147|      0|  A|1999|   11|\n",
            "|1999-11-26|            27.594|28.011999999999997|            27.509|            27.807| 1832635|      0|  A|1999|   11|\n",
            "|1999-11-29|            27.676|             28.65|             27.38|            28.432| 4317826|      0|  A|1999|   11|\n",
            "|1999-11-30|             28.35|            28.986|            27.634|             28.48| 4567146|      0|  A|1999|   11|\n",
            "|1999-12-01|             28.48|            29.324|28.273000000000003|            28.986| 3133746|      0|  A|1999|   12|\n",
            "|1999-12-02|29.531999999999996|            30.375|            29.155|29.785999999999998| 3252997|      0|  A|1999|   12|\n",
            "|1999-12-03|            30.336|            30.842|29.909000000000002|            30.039| 3223074|      0|  A|1999|   12|\n",
            "|1999-12-06|30.546999999999997|31.348000000000003|            30.505|30.883000000000003| 2385046|      0|  A|1999|   12|\n",
            "|1999-12-07|30.883000000000003|            31.052|29.909000000000002|30.546999999999997| 2348161|      0|  A|1999|   12|\n",
            "|1999-12-08|30.546999999999997|            30.795|30.249000000000002|            30.505| 2000481|      0|  A|1999|   12|\n",
            "|1999-12-09|30.546999999999997|31.011999999999997|30.546999999999997|            30.924| 2150096|      0|  A|1999|   12|\n",
            "|1999-12-10|            30.842|31.011999999999997|            30.209|            30.209| 1764043|      0|  A|1999|   12|\n",
            "|1999-12-13|            30.713|            31.221|29.958000000000002|            30.713| 4260349|      0|  A|1999|   12|\n",
            "|1999-12-14|            30.635|            30.635|            28.391|29.026999999999997| 2467856|      0|  A|1999|   12|\n",
            "|1999-12-15|             28.35|            28.561|            27.676|            28.142| 3091820|      0|  A|1999|   12|\n",
            "|1999-12-16|             28.35|            31.896|             28.35|            31.896| 2738063|      0|  A|1999|   12|\n",
            "+----------+------------------+------------------+------------------+------------------+--------+-------+---+----+-----+\n",
            "only showing top 20 rows"
          ]
        }
      ],
      "source": [
        "%%spark\n",
        "from pyspark.sql.functions import month, year, avg,date_format,col,lag\n",
        "from pyspark.sql.window import Window\n",
        "\n",
        "stocks_sdf = stocks_sdf.withColumn(\"Year\", year(col(\"Date\")))\n",
        "stocks_sdf = stocks_sdf.withColumn(\"Month\", month(col(\"Date\")))\n",
        "\n",
        "stocks_sdf.show()"
      ]
    },
    {
      "cell_type": "code",
      "execution_count": 69,
      "metadata": {
        "collapsed": true,
        "id": "PVsFGXgzE4hy",
        "colab": {
          "base_uri": "https://localhost:8080/",
          "height": 285,
          "referenced_widgets": [
            "17b9794525ea478599f5193a9c5bfef8",
            "03ecf7071a1943ed85b795dba6c9ec2c",
            "c919bf01354c4ec8a766678afb4f2caf"
          ]
        },
        "outputId": "b5a100fa-fb65-432b-d658-d561a2db2991"
      },
      "outputs": [
        {
          "output_type": "display_data",
          "data": {
            "text/plain": [
              "FloatProgress(value=0.0, bar_style='info', description='Progress:', layout=Layout(height='25px', width='50%'),…"
            ],
            "application/vnd.jupyter.widget-view+json": {
              "version_major": 2,
              "version_minor": 0,
              "model_id": "17b9794525ea478599f5193a9c5bfef8"
            }
          },
          "metadata": {}
        },
        {
          "output_type": "stream",
          "name": "stdout",
          "text": [
            "+-----+----+------------------+------------------+\n",
            "|Month|Year|         Avg_Close|        Avg_Volume|\n",
            "+-----+----+------------------+------------------+\n",
            "|    1|1962| 3.370247727272727|1323994.8181818181|\n",
            "|    1|1963| 2.599727272727272|         1802401.0|\n",
            "|    1|1964|3.3208727272727274|1414340.8863636365|\n",
            "|    1|1965|          3.395505|       1513189.125|\n",
            "|    1|1966|3.9170071428571434|1241147.3333333333|\n",
            "|    1|1967|4.4127833333333335|1985234.7857142857|\n",
            "|    1|1968|6.7309090909090905|1686406.3181818181|\n",
            "|    1|1969| 6.697729545454546|2149623.5454545454|\n",
            "|    1|1970| 8.767976598639454|1386336.7278911564|\n",
            "|    1|1971| 9.912189285714286|1711021.7553571428|\n",
            "+-----+----+------------------+------------------+\n",
            "only showing top 10 rows"
          ]
        }
      ],
      "source": [
        "%%spark\n",
        "\n",
        "monthly_analysis_sdf = stocks_sdf.groupBy(\"Month\", \"Year\").agg(avg(\"Close\").alias(\"Avg_Close\"), avg(\"Volume\").alias(\"Avg_Volume\")) \\\n",
        "    .orderBy(\"Month\",\"Year\").dropna()\n",
        "\n",
        "monthly_analysis_sdf.show(10)"
      ]
    },
    {
      "cell_type": "code",
      "execution_count": 70,
      "metadata": {
        "id": "AJwRzoaDNj0j",
        "colab": {
          "base_uri": "https://localhost:8080/",
          "height": 17,
          "referenced_widgets": [
            "483969ff0f93409585fda71e3901d3d8",
            "1ac6b1c01a274d7a8192a2d4ecd19d12",
            "1d394b21b97d490a83ea5a2e933deb8c",
            "dc5cc5b848f74373bb1d3f13b0769313",
            "aa64f7c3b84547d7aa4cb11197217db1",
            "906d9c7b458449d6b527d19e090ce22d"
          ]
        },
        "outputId": "11c0e1f7-9031-4937-b618-ad60d317c313"
      },
      "outputs": [
        {
          "output_type": "display_data",
          "data": {
            "text/plain": [
              "FloatProgress(value=0.0, bar_style='info', description='Progress:', layout=Layout(height='25px', width='50%'),…"
            ],
            "application/vnd.jupyter.widget-view+json": {
              "version_major": 2,
              "version_minor": 0,
              "model_id": "483969ff0f93409585fda71e3901d3d8"
            }
          },
          "metadata": {}
        },
        {
          "output_type": "display_data",
          "data": {
            "text/plain": [
              "FloatProgress(value=0.0, bar_style='info', description='Progress:', layout=Layout(height='25px', width='50%'),…"
            ],
            "application/vnd.jupyter.widget-view+json": {
              "version_major": 2,
              "version_minor": 0,
              "model_id": "dc5cc5b848f74373bb1d3f13b0769313"
            }
          },
          "metadata": {}
        }
      ],
      "source": [
        "%spark -o  monthly_analysis_sdf"
      ]
    },
    {
      "cell_type": "code",
      "execution_count": 71,
      "metadata": {
        "id": "CL4K4tf_BlO0",
        "colab": {
          "base_uri": "https://localhost:8080/"
        },
        "outputId": "d3c07878-7fcc-4c73-da4a-bdf6e7427e81"
      },
      "outputs": [
        {
          "output_type": "stream",
          "name": "stdout",
          "text": [
            "Correct! You earned 2/2 points. You are a star!\n",
            "\n",
            "Your submission has been successfully recorded in the gradebook.\n"
          ]
        }
      ],
      "source": [
        "## AUTOGRADER\n",
        "grader.grade(test_case_id = 'monthly_analysis', answer = monthly_analysis_sdf)"
      ]
    },
    {
      "cell_type": "markdown",
      "metadata": {
        "id": "xAYfDRYPPr5P"
      },
      "source": [
        "In the code cell below we do further processing for time series processing. You do not need to make any changes. We will use this dataframe in the next section"
      ]
    },
    {
      "cell_type": "code",
      "execution_count": 72,
      "metadata": {
        "id": "0eG6kLExFQTS",
        "colab": {
          "base_uri": "https://localhost:8080/",
          "height": 463,
          "referenced_widgets": [
            "e525e072b8b64a6788313fb4c31945e7",
            "3e675d81811643bb907de5fe994898ff",
            "26923fa16ccf4e4eb8cce793ae51d3a2"
          ]
        },
        "outputId": "28f78177-7a67-4cd5-dbd5-10084583a97e"
      },
      "outputs": [
        {
          "output_type": "display_data",
          "data": {
            "text/plain": [
              "FloatProgress(value=0.0, bar_style='info', description='Progress:', layout=Layout(height='25px', width='50%'),…"
            ],
            "application/vnd.jupyter.widget-view+json": {
              "version_major": 2,
              "version_minor": 0,
              "model_id": "e525e072b8b64a6788313fb4c31945e7"
            }
          },
          "metadata": {}
        },
        {
          "output_type": "stream",
          "name": "stdout",
          "text": [
            "+-----+----+------------------+------------------+------------------+--------------------+\n",
            "|Month|Year|         Avg_Close|        Avg_Volume|    Prev_Avg_Close|          Month_Diff|\n",
            "+-----+----+------------------+------------------+------------------+--------------------+\n",
            "|    1|1962| 3.370247727272727|1323994.8181818181|              null|                null|\n",
            "|    2|1962| 3.340492105263158| 1078031.105263158| 3.370247727272727|-0.02975562200956894|\n",
            "|    3|1962|3.3528136363636363| 931997.9090909091| 3.340492105263158|0.012321531100478289|\n",
            "|    4|1962|           3.14621|         1413846.1|3.3528136363636363|-0.20660363636363632|\n",
            "|    5|1962| 2.727929545454546|2990270.7045454546|           3.14621|-0.41828045454545393|\n",
            "|    6|1962|2.1461138095238095|3382876.8095238097| 2.727929545454546| -0.5818157359307365|\n",
            "|    7|1962| 2.301333333333333| 2163672.880952381|2.1461138095238095| 0.15521952380952353|\n",
            "|    8|1962| 2.437104347826087|1921711.0652173914| 2.301333333333333|  0.1357710144927542|\n",
            "|    9|1962|2.3706473684210523|1906728.6842105263| 2.437104347826087|-0.06645697940503492|\n",
            "|   10|1962| 2.220132608695652|2042945.0217391304|2.3706473684210523|-0.15051475972540018|\n",
            "|   11|1962| 2.427564102564103|2257140.8205128205| 2.220132608695652| 0.20743149386845072|\n",
            "|   12|1962|2.4880249999999995|         1527849.8| 2.427564102564103|0.060460897435896666|\n",
            "|    1|1963| 2.599727272727272|         1802401.0|              null|                null|\n",
            "|    2|1963| 2.620931578947369|1184634.7631578948| 2.599727272727272|0.021204306220096836|\n",
            "|    3|1963|            2.5834|1057063.5238095238| 2.620931578947369|-0.03753157894736869|\n",
            "|    4|1963| 2.797328571428572|1625265.6904761905|            2.5834|  0.2139285714285717|\n",
            "|    5|1963| 2.929227272727272|1351740.4318181819| 2.797328571428572| 0.13189870129870007|\n",
            "|    6|1963|           2.87848|         1092793.6| 2.929227272727272|-0.05074727272727175|\n",
            "|    7|1963|2.7320340909090914|1109353.8181818181|           2.87848| -0.1464459090909087|\n",
            "|    8|1963|2.8045636363636364| 964504.9772727273|2.7320340909090914| 0.07252954545454493|\n",
            "+-----+----+------------------+------------------+------------------+--------------------+\n",
            "only showing top 20 rows"
          ]
        }
      ],
      "source": [
        "%%spark\n",
        "# parition over year and order by month\n",
        "window_spec = Window.partitionBy(\"Year\").orderBy(\"Month\")\n",
        "# Compute the lag\n",
        "#correct\n",
        "monthly_avg_with_lag = monthly_analysis_sdf.withColumn(\"Prev_Avg_Close\", lag(\"Avg_Close\").over(window_spec))\n",
        "# Compute MoM differencing\n",
        "monthly_avg_with_lag_sdf = monthly_avg_with_lag.withColumn(\"Month_Diff\", col(\"Avg_Close\") - col(\"Prev_Avg_Close\"))\n",
        "monthly_avg_with_lag_sdf.show()"
      ]
    },
    {
      "cell_type": "code",
      "execution_count": 73,
      "metadata": {
        "colab": {
          "base_uri": "https://localhost:8080/",
          "height": 17,
          "referenced_widgets": [
            "6a191d1e7fad43c7a5e904d83dc0fbcf",
            "b7d00262b1cc43e097c7171917cd2614",
            "b75d870ba0bc41b699c4dcd410b38acf",
            "5aa84c4bbd21440783dd3994d9197fa7",
            "acabe41a925041159268663f57cfdcb2",
            "25f3c08a5b09473886d4203b10c924d2"
          ]
        },
        "id": "4tDher9rCQDq",
        "outputId": "8b52eb7a-e43b-4228-ea00-fabdd01dfe3a"
      },
      "outputs": [
        {
          "output_type": "display_data",
          "data": {
            "text/plain": [
              "FloatProgress(value=0.0, bar_style='info', description='Progress:', layout=Layout(height='25px', width='50%'),…"
            ],
            "application/vnd.jupyter.widget-view+json": {
              "version_major": 2,
              "version_minor": 0,
              "model_id": "6a191d1e7fad43c7a5e904d83dc0fbcf"
            }
          },
          "metadata": {}
        },
        {
          "output_type": "display_data",
          "data": {
            "text/plain": [
              "FloatProgress(value=0.0, bar_style='info', description='Progress:', layout=Layout(height='25px', width='50%'),…"
            ],
            "application/vnd.jupyter.widget-view+json": {
              "version_major": 2,
              "version_minor": 0,
              "model_id": "5aa84c4bbd21440783dd3994d9197fa7"
            }
          },
          "metadata": {}
        }
      ],
      "source": [
        "%spark -o  monthly_avg_with_lag_sdf"
      ]
    },
    {
      "cell_type": "markdown",
      "metadata": {
        "id": "skjoQJB5Pwop"
      },
      "source": [
        "# 3.4.2"
      ]
    },
    {
      "cell_type": "markdown",
      "metadata": {
        "id": "9o0L0LMCWmaN"
      },
      "source": [
        "## Common Errors with UDFs\n",
        "\n",
        "In this part, we attempt to find the magnitude (absolute value) of the monthly difference column we obtained from the previous section. As we saw in a previous section, a UDF is a good way of doing such operations in spark. Here we have a simple udf where we attempt to use python's well known abs() function to identify the magnitude. However, there are a couple of bugs in this code. Can you find them?"
      ]
    },
    {
      "cell_type": "code",
      "execution_count": 74,
      "metadata": {
        "id": "y4Uv4APNQHZ2",
        "colab": {
          "base_uri": "https://localhost:8080/",
          "height": 17,
          "referenced_widgets": [
            "e2772b3cb84b44e1aa3eb98f2208a81d",
            "0f43780f47a64aa99d32807ddbe7c4ec",
            "d0e4f727ae4d4cf3b89adce77fefc9e6"
          ]
        },
        "outputId": "fd8672bb-e78e-48b8-9710-bdba90d180ea"
      },
      "outputs": [
        {
          "output_type": "display_data",
          "data": {
            "text/plain": [
              "FloatProgress(value=0.0, bar_style='info', description='Progress:', layout=Layout(height='25px', width='50%'),…"
            ],
            "application/vnd.jupyter.widget-view+json": {
              "version_major": 2,
              "version_minor": 0,
              "model_id": "e2772b3cb84b44e1aa3eb98f2208a81d"
            }
          },
          "metadata": {}
        }
      ],
      "source": [
        "%%spark\n",
        "\n",
        "from pyspark.sql.types import *\n",
        "from pyspark.sql.functions import *\n",
        "\n",
        "def absolute_value(df):\n",
        "    return df.withColumn(\"Absolute_Value\", abs(df[\"Month_Diff\"]))\n",
        "monthly_avg_with_lag_sdf.createOrReplaceTempView('monthly_avg_with_lag')\n",
        "absolute_values_sdf = absolute_value(monthly_avg_with_lag_sdf)\n",
        "\n",
        "\n",
        "\n",
        "\n"
      ]
    },
    {
      "cell_type": "code",
      "execution_count": 75,
      "metadata": {
        "id": "mYKUXH5tCLQV",
        "colab": {
          "base_uri": "https://localhost:8080/",
          "height": 17,
          "referenced_widgets": [
            "d15332dfc9b24e9aa311119b7891be57",
            "7211593d870543428feb7db398414ecc",
            "0f071c10cc074012a510ad379cbdf140",
            "78835ff7542d465a9e8de488cc210891",
            "03570d0ec43e465cb2fee379bdfabcb7",
            "a174c985704b4297b358ff9d52f065f3"
          ]
        },
        "outputId": "93b42615-77e7-42aa-f408-37eaf3846291"
      },
      "outputs": [
        {
          "output_type": "display_data",
          "data": {
            "text/plain": [
              "FloatProgress(value=0.0, bar_style='info', description='Progress:', layout=Layout(height='25px', width='50%'),…"
            ],
            "application/vnd.jupyter.widget-view+json": {
              "version_major": 2,
              "version_minor": 0,
              "model_id": "d15332dfc9b24e9aa311119b7891be57"
            }
          },
          "metadata": {}
        },
        {
          "output_type": "display_data",
          "data": {
            "text/plain": [
              "FloatProgress(value=0.0, bar_style='info', description='Progress:', layout=Layout(height='25px', width='50%'),…"
            ],
            "application/vnd.jupyter.widget-view+json": {
              "version_major": 2,
              "version_minor": 0,
              "model_id": "78835ff7542d465a9e8de488cc210891"
            }
          },
          "metadata": {}
        }
      ],
      "source": [
        "%spark -o  absolute_values_sdf"
      ]
    },
    {
      "cell_type": "code",
      "source": [
        "absolute_values_sdf.dropna()\n",
        "absolute_values_sdf = absolute_values_sdf[['Month_Diff', 'Absolute_Value']]"
      ],
      "metadata": {
        "id": "L3Bf-54_L26Y"
      },
      "execution_count": 76,
      "outputs": []
    },
    {
      "cell_type": "code",
      "execution_count": 77,
      "metadata": {
        "id": "T9i_yfhU__11",
        "colab": {
          "base_uri": "https://localhost:8080/"
        },
        "outputId": "73164547-ec9d-4196-f0cb-0745091229a3"
      },
      "outputs": [
        {
          "output_type": "stream",
          "name": "stdout",
          "text": [
            "Correct! You earned 4/4 points. You are a star!\n",
            "\n",
            "Your submission has been successfully recorded in the gradebook.\n"
          ]
        }
      ],
      "source": [
        "## AUTOGRADER\n",
        "grader.grade(test_case_id = 'absolute_values', answer = absolute_values_sdf)"
      ]
    },
    {
      "cell_type": "markdown",
      "metadata": {
        "id": "940sP2rwMd4U"
      },
      "source": [
        "## Step 4: Combining LinkedIn and Stocks Data [10 pts]"
      ]
    },
    {
      "cell_type": "markdown",
      "metadata": {
        "id": "HV_B1aceHd5V"
      },
      "source": [
        "### 4.1: The CRAZY Combination"
      ]
    },
    {
      "cell_type": "markdown",
      "metadata": {
        "id": "oWDGktQ3Ms4b"
      },
      "source": [
        "Now that we have individually created the two halves of our training data we will merge them together to create the combined final training sdf.\n",
        "\n",
        "Create an sdf called `training_sdf` in the format of the one shown at the beginning of Step 3. Note that in our definition for the `stock_result` column, the `stock_result` value for a particular year corresponds to the direction of the stock percentage change in the **following** year. For example, the stock_result in the `2008` row for `IBM` will contain the direction of IBM's stock in the year 2009. For the final training dataframe, we only need the entries for the companies where both hiring and stock data are available for the particular year.\n",
        "The format of the sdf is shown below:\n",
        "```\n",
        "+----+-----+----------+---------+----------+----------+---------+----------+-------------+\n",
        "|org |year |jan_hired |   ...   |dec_hired |jan_stock |   ...   |dec_stock |stock_result |\n",
        "+----+-----+----------+---------+----------+----------+---------+----------+-------------+\n",
        "|IBM |2008 |...       |   ...   |...       |...       |   ...   |...       |-1           |\n",
        "|IBM |2009 |...       |   ...   |...       |...       |   ...   |...       |1            |\n",
        "|... |...  |...       |   ...   |...       |...       |   ...   |...       |...          |\n",
        "+----+-----+----------+---------+----------+----------+---------+----------+-------------+\n",
        "```\n",
        "\n",
        "**Note:** For a given company, if there is no data for a year X, you can omit the year X-1 from the corresponding solution dataframe, as there exists no data for the following year. You should be using `hire_train_sdf`"
      ]
    },
    {
      "cell_type": "code",
      "execution_count": 78,
      "metadata": {
        "id": "eGYVAagkM0KC",
        "colab": {
          "base_uri": "https://localhost:8080/",
          "height": 17,
          "referenced_widgets": [
            "dec0ea9d6f964452baee1844e8314ffa",
            "6785066569c148618a795af46d1352e8",
            "ef7aaf8f26114966886e7bb12788308a"
          ]
        },
        "collapsed": true,
        "outputId": "fdbb2330-c84c-4304-b500-7f22120de3fb"
      },
      "outputs": [
        {
          "output_type": "display_data",
          "data": {
            "text/plain": [
              "FloatProgress(value=0.0, bar_style='info', description='Progress:', layout=Layout(height='25px', width='50%'),…"
            ],
            "application/vnd.jupyter.widget-view+json": {
              "version_major": 2,
              "version_minor": 0,
              "model_id": "dec0ea9d6f964452baee1844e8314ffa"
            }
          },
          "metadata": {}
        }
      ],
      "source": [
        "%%spark\n",
        "\n",
        "#ToDo\n",
        "hire_train_sdf = hire_train_sdf.drop(hire_train_sdf.total_num)\n",
        "stocks_train_sdf = stocks_train_sdf.drop('jan_stock', 'feb_stock','mar_stock','apr_stock','may_stock','jun_stock','jul_stock','aug_stock','sep_stock','oct_stock','nov_stock','dec_stock')\n",
        "intermediate_sdf = hire_train_sdf.join(filter_3_stocks_sdf, ['org', 'year'])\n",
        "intermediate_sdf = intermediate_sdf.withColumnRenamed('org', 'ORG').withColumnRenamed('year', 'YEAR')\n",
        "training_sdf = intermediate_sdf.join(stocks_train_sdf, (intermediate_sdf.ORG == stocks_train_sdf.org) & (intermediate_sdf.YEAR == (stocks_train_sdf.year-1)), 'inner').drop(stocks_train_sdf.org).drop(stocks_train_sdf.year)\n",
        "training_sdf = training_sdf.withColumnRenamed('direction', 'stock_result').withColumnRenamed('ORG', 'org').withColumnRenamed('YEAR', 'year')"
      ]
    },
    {
      "cell_type": "code",
      "execution_count": 79,
      "metadata": {
        "id": "Zq4S0CDDMLNn",
        "colab": {
          "base_uri": "https://localhost:8080/",
          "height": 17,
          "referenced_widgets": [
            "c4f5c0477cae4a4e8b4ee73b7669e638",
            "35a1c91c877748b2972e6cbba630438c",
            "b0fe09c4f34045009b89ab48c79d333a"
          ]
        },
        "outputId": "23785a06-4e95-4529-b97e-2251ec427e4e"
      },
      "outputs": [
        {
          "output_type": "display_data",
          "data": {
            "text/plain": [
              "FloatProgress(value=0.0, bar_style='info', description='Progress:', layout=Layout(height='25px', width='50%'),…"
            ],
            "application/vnd.jupyter.widget-view+json": {
              "version_major": 2,
              "version_minor": 0,
              "model_id": "c4f5c0477cae4a4e8b4ee73b7669e638"
            }
          },
          "metadata": {}
        }
      ],
      "source": [
        "#################     DO NOT EDIT      ##################\n",
        "%%spark\n",
        "training_sdf.createOrReplaceTempView(\"test_4\")\n",
        "test_4_sdf = spark.sql(\"SELECT * FROM test_4 ORDER BY org, year ASC LIMIT 10\")"
      ]
    },
    {
      "cell_type": "code",
      "execution_count": 80,
      "metadata": {
        "id": "mkh67PtMMZXl",
        "colab": {
          "base_uri": "https://localhost:8080/",
          "height": 17,
          "referenced_widgets": [
            "ebb5169c00f9488798d10c5e22791059",
            "69b6c13fee6c49779f6918cc567aa172",
            "73403d7528a845b79dfc5b4b2d8c6815",
            "0e9c549a03b14b6ca772c8c4a4df6373",
            "9354476b8490495eb1e15bb3739f8f70",
            "92942c1a0fe24f05b40b29930efb4638"
          ]
        },
        "outputId": "5a16c453-7d87-43b5-ec30-65d2eddea2ef"
      },
      "outputs": [
        {
          "output_type": "display_data",
          "data": {
            "text/plain": [
              "FloatProgress(value=0.0, bar_style='info', description='Progress:', layout=Layout(height='25px', width='50%'),…"
            ],
            "application/vnd.jupyter.widget-view+json": {
              "version_major": 2,
              "version_minor": 0,
              "model_id": "ebb5169c00f9488798d10c5e22791059"
            }
          },
          "metadata": {}
        },
        {
          "output_type": "display_data",
          "data": {
            "text/plain": [
              "FloatProgress(value=0.0, bar_style='info', description='Progress:', layout=Layout(height='25px', width='50%'),…"
            ],
            "application/vnd.jupyter.widget-view+json": {
              "version_major": 2,
              "version_minor": 0,
              "model_id": "0e9c549a03b14b6ca772c8c4a4df6373"
            }
          },
          "metadata": {}
        }
      ],
      "source": [
        "#Convert to Pandas\n",
        "%spark -o test_4_sdf"
      ]
    },
    {
      "cell_type": "code",
      "execution_count": 81,
      "metadata": {
        "id": "CEJ6XbZfMd9n",
        "colab": {
          "base_uri": "https://localhost:8080/"
        },
        "outputId": "00cb0521-b4f0-4b3d-9fa2-361bbecdb303"
      },
      "outputs": [
        {
          "output_type": "stream",
          "name": "stdout",
          "text": [
            "Correct! You earned 10/10 points. You are a star!\n",
            "\n",
            "Your submission has been successfully recorded in the gradebook.\n"
          ]
        }
      ],
      "source": [
        "## AUTOGRADER\n",
        "grader.grade(test_case_id = 'test_merged_training_sdf', answer = test_4_sdf)"
      ]
    },
    {
      "cell_type": "markdown",
      "metadata": {
        "id": "rGyXyvhBDr0-"
      },
      "source": [
        "## Step 5: Twitter followers [27 Pts]\n",
        "\n",
        "In this section, we will be working with a dummy dataset representing connections on twitter, where each row consists of a person A, and a person B, such that person A follows person B.\n",
        "\n",
        "Let's introduce a fun little concept called the Bacon Number! The Bacon number of an actor or actress is the number of degrees of separation they have from actor Kevin Bacon, as defined by the game known as Six Degrees of Kevin Bacon. For example, Kevin Bacon's Bacon number is 0. If an actor works in a movie with Kevin Bacon, the actor's Bacon number is 1. If an actor works with an actor who worked with Kevin Bacon in a movie, the first actor's Bacon number is 2, and so forth.\n",
        "\n",
        "How do we implement the \"Super Bacon\" for our dataset though? We define this number as follows: if person A follows person B, and person B follows person C, then the super bacon of C with respect to A will be 2.\n",
        "\n",
        "Now to calculate this number, we'll use the concepts of graphs and BFS!"
      ]
    },
    {
      "cell_type": "code",
      "execution_count": 82,
      "metadata": {
        "id": "E_i8gCbAEuHW",
        "colab": {
          "base_uri": "https://localhost:8080/"
        },
        "outputId": "c0e65986-11c5-45a2-b179-c5ad4a4f7cf9"
      },
      "outputs": [
        {
          "output_type": "stream",
          "name": "stdout",
          "text": [
            "Requirement already satisfied: pyspark in /usr/local/lib/python3.10/dist-packages (3.5.3)\n",
            "Requirement already satisfied: py4j==0.10.9.7 in /usr/local/lib/python3.10/dist-packages (from pyspark) (0.10.9.7)\n"
          ]
        }
      ],
      "source": [
        "!pip install pyspark"
      ]
    },
    {
      "cell_type": "code",
      "execution_count": 83,
      "metadata": {
        "id": "s7AlDICWEt7e",
        "colab": {
          "base_uri": "https://localhost:8080/"
        },
        "outputId": "2cd07e6a-794c-450c-c341-dd1ebb74fe2e"
      },
      "outputs": [
        {
          "output_type": "stream",
          "name": "stderr",
          "text": [
            "Setting default log level to \"WARN\".\n",
            "To adjust logging level use sc.setLogLevel(newLevel). For SparkR, use setLogLevel(newLevel).\n",
            "24/10/15 17:34:31 WARN NativeCodeLoader: Unable to load native-hadoop library for your platform... using builtin-java classes where applicable\n"
          ]
        }
      ],
      "source": [
        "from pyspark.sql import SparkSession\n",
        "\n",
        "appName = \"PySpark\"\n",
        "\n",
        "# Create Spark session\n",
        "spark = SparkSession.builder.appName(appName).getOrCreate()"
      ]
    },
    {
      "cell_type": "markdown",
      "metadata": {
        "id": "zkJ2eyNrDtUl"
      },
      "source": [
        "### 5.1: “Traversing” a Graph\n",
        "\n",
        "Let's review how BFS works!"
      ]
    },
    {
      "cell_type": "code",
      "execution_count": 84,
      "metadata": {
        "id": "sH6pKfJJEzpu"
      },
      "outputs": [],
      "source": [
        "import pandas as pd\n",
        "from IPython.display import Image as I\n",
        "\n",
        "bfsgif =\\\n",
        "'https://upload.wikimedia.org/wikipedia/commons/5/5d/Breadth-First-S'+\\\n",
        "'earch-Algorithm.gif'\n",
        "dfsgif=\\\n",
        "'https://upload.wikimedia.org/wikipedia/commons/7/7f/Depth-First-Search.gif'"
      ]
    },
    {
      "cell_type": "markdown",
      "metadata": {
        "id": "Oo3y1k4EDyod"
      },
      "source": [
        "\n",
        "#### 5.1.1 Intro to Distributed Breadth-First Search\n",
        "\n",
        "\n",
        "To start off, we will be implementing a graph traversal algorithm known as Breadth First Search. It works in a way that's equivalent to how a stain spreads on a white t-shirt. Take a look at the graph below:\n",
        "\n",
        "<p align = \"center\">\n",
        "<img src = \"https://imgur.com/WU3AUwg.png\" width= \"600\" align =\"center\"/>\n",
        "\n",
        "* Consider starting BFS from point A (green). This is considered the starting frontier/singular origin node.\n",
        "* The first round of BFS would involve finding all the nodes directly reachable from A, namely B-F (blue circles). These blue nodes make up the next frontier at depth 1 away from our starting node A.\n",
        "* The second round would then be identifying the red nodes which are the neighbors of the blue nodes. Now, the red nodes all belong to a frontier 2 depth away from A. Note that node A is also a neighbor of a blue node. However, since it has already been visited, it does not get added to this frontier.\n",
        "\n",
        "This process continues until all the nodes in the graph have been visited.\n",
        "If you would like to learn more about BFS, we highly suggest looking [here](https://www.tutorialspoint.com/data_structures_algorithms/breadth_first_traversal.htm).\n",
        "\n",
        "\n",
        "We will now be implementing **spark_bfs(G, N, d)**, our spark flavor of BFS that takes a graph **G**, a set of origin nodes **N**, and a max depth **d**.\n",
        "\n",
        "In order to write a successful BFS function, you are going to need to figure out\n",
        "1. how to keep track of nodes that we have visited\n",
        "2. how to properly find all the nodes at the next depth\n",
        "3. how to avoid cycles and ensure that we do not constantly loop through the same edges (take a look at J-K in the graph)"
      ]
    },
    {
      "cell_type": "markdown",
      "metadata": {
        "id": "NYjIiz_0E7Aw"
      },
      "source": [
        "#### [OPTIONAL/ADDITIONAL] BFS vs. DFS Animation\n",
        "Run the code cells below to understand the difference between depth and breadth first search! (Source: Wikimedia Commons)"
      ]
    },
    {
      "cell_type": "code",
      "execution_count": 85,
      "metadata": {
        "id": "1wteWWS7E3KK",
        "colab": {
          "base_uri": "https://localhost:8080/",
          "height": 539
        },
        "outputId": "a7b19c4f-eb28-436c-c451-469f23dee4c7"
      },
      "outputs": [
        {
          "output_type": "stream",
          "name": "stdout",
          "text": [
            "BFS:\n"
          ]
        },
        {
          "output_type": "execute_result",
          "data": {
            "text/html": [
              "<img src=\"https://upload.wikimedia.org/wikipedia/commons/5/5d/Breadth-First-Search-Algorithm.gif\"/>"
            ],
            "text/plain": [
              "<IPython.core.display.Image object>"
            ]
          },
          "metadata": {},
          "execution_count": 85
        }
      ],
      "source": [
        "# NOT GRADED\n",
        "print('BFS:')\n",
        "I(url=bfsgif)"
      ]
    },
    {
      "cell_type": "code",
      "execution_count": 86,
      "metadata": {
        "id": "2-S7vJ9pE40i",
        "colab": {
          "base_uri": "https://localhost:8080/",
          "height": 539
        },
        "outputId": "6b2b5b2f-fc7b-477a-f39e-35151b9a0c40"
      },
      "outputs": [
        {
          "output_type": "stream",
          "name": "stdout",
          "text": [
            "DFS:\n"
          ]
        },
        {
          "output_type": "execute_result",
          "data": {
            "text/html": [
              "<img src=\"https://upload.wikimedia.org/wikipedia/commons/7/7f/Depth-First-Search.gif\"/>"
            ],
            "text/plain": [
              "<IPython.core.display.Image object>"
            ]
          },
          "metadata": {},
          "execution_count": 86
        }
      ],
      "source": [
        "#NOT GRADED\n",
        "print('DFS:')\n",
        "I(url=dfsgif)"
      ]
    },
    {
      "cell_type": "markdown",
      "metadata": {
        "id": "pyuyXzNjEjEp"
      },
      "source": [
        "#### 5.1.2 Implement One Traversal [6 Pts]\n",
        "\n",
        "To break down this process, let's think about how we would implement a single traversal of the graph. That is given the green node in the graph above, how are we going to get the blue nodes?\n",
        "\n",
        "\n",
        "Consider the simple graph below **which is different from the graph in the image above**:"
      ]
    },
    {
      "cell_type": "code",
      "execution_count": 87,
      "metadata": {
        "id": "74yrRK9AE-G5",
        "colab": {
          "base_uri": "https://localhost:8080/",
          "height": 231,
          "referenced_widgets": [
            "534a87a1d1ec427dbff4380eb2de4777",
            "2207eb2e7ae4472e984a452d41b65f80",
            "1eca5095e51b4ce7b0dd40e1d304ccc7"
          ]
        },
        "outputId": "f531d8d4-e330-4099-d043-dd8ff644f3ee"
      },
      "outputs": [
        {
          "output_type": "display_data",
          "data": {
            "text/plain": [
              "FloatProgress(value=0.0, bar_style='info', description='Progress:', layout=Layout(height='25px', width='50%'),…"
            ],
            "application/vnd.jupyter.widget-view+json": {
              "version_major": 2,
              "version_minor": 0,
              "model_id": "534a87a1d1ec427dbff4380eb2de4777"
            }
          },
          "metadata": {}
        },
        {
          "output_type": "stream",
          "name": "stdout",
          "text": [
            "+---------+-------+\n",
            "|from_node|to_node|\n",
            "+---------+-------+\n",
            "|        A|      B|\n",
            "|        A|      C|\n",
            "|        A|      D|\n",
            "|        C|      F|\n",
            "|        F|      A|\n",
            "|        B|      G|\n",
            "|        G|      H|\n",
            "|        D|      E|\n",
            "+---------+-------+"
          ]
        }
      ],
      "source": [
        "%%spark\n",
        "#spark.conf.set(\"spark.sql.execution.arrow.enabled\", \"true\")\n",
        "import pandas as pd\n",
        "\n",
        "simple = [('A', 'B'),\n",
        "         ('A', 'C'),\n",
        "         ('A', 'D'),\n",
        "         ('C', 'F'),\n",
        "         ('F', 'A'),\n",
        "         ('B', 'G'),\n",
        "         ('G', 'H'),\n",
        "         ('D', 'E')]\n",
        "\n",
        "simple_dict = {'from_node': ['A', 'A', 'A', 'C', 'F', 'B', 'G', 'D'],\n",
        "       'to_node': ['B', 'C', 'D', 'F', 'A', 'G', 'H', 'E']}\n",
        "\n",
        "simple_graph_df = pd.DataFrame.from_dict(simple_dict)\n",
        "simple_graph_sdf = spark.createDataFrame(simple_graph_df)\n",
        "simple_graph_sdf.show()"
      ]
    },
    {
      "cell_type": "markdown",
      "metadata": {
        "id": "KTbktZQ9FGox"
      },
      "source": [
        "As you can see, each row of this dataframe represents an edge between two nodes. Here, we are looking at a directed graph, which means that A-->B does not represent the same edge as B-->A.\n",
        "Let's define our starting node as follows:"
      ]
    },
    {
      "cell_type": "code",
      "execution_count": 88,
      "metadata": {
        "id": "POWS1z8hE-ym",
        "colab": {
          "base_uri": "https://localhost:8080/",
          "height": 17,
          "referenced_widgets": [
            "cded4a5ce3fa4b9eb5c503a9d22edd6f",
            "d5fa54b06fee4c1986bb354ca9dbff3d",
            "b96e87a13c994bc596b6ee9d7f5b52c7"
          ]
        },
        "outputId": "ae7ab4f1-e62a-4f14-c104-17272b868d75"
      },
      "outputs": [
        {
          "output_type": "display_data",
          "data": {
            "text/plain": [
              "FloatProgress(value=0.0, bar_style='info', description='Progress:', layout=Layout(height='25px', width='50%'),…"
            ],
            "application/vnd.jupyter.widget-view+json": {
              "version_major": 2,
              "version_minor": 0,
              "model_id": "cded4a5ce3fa4b9eb5c503a9d22edd6f"
            }
          },
          "metadata": {}
        }
      ],
      "source": [
        "%%spark\n",
        "smallOrig = [{'node': 'A'}]"
      ]
    },
    {
      "cell_type": "markdown",
      "metadata": {
        "id": "xwgYZNZ-FHZg"
      },
      "source": [
        "Then, bfs with graph G, starting from smallOrig to depth 1, or spark_bfs(G, smallOrig, 1) would output as follows:"
      ]
    },
    {
      "cell_type": "code",
      "execution_count": 89,
      "metadata": {
        "id": "-hBlW2rPFKig",
        "colab": {
          "base_uri": "https://localhost:8080/",
          "height": 160,
          "referenced_widgets": [
            "faa04e488f5441d58ed9a46f7e793995",
            "fc0cc5ae9702491484a9153bea562d89",
            "103c3c004e36463883151256786de6e4"
          ]
        },
        "outputId": "f8cf339f-1791-4468-d49b-fe49eb5605b8"
      },
      "outputs": [
        {
          "output_type": "display_data",
          "data": {
            "text/plain": [
              "FloatProgress(value=0.0, bar_style='info', description='Progress:', layout=Layout(height='25px', width='50%'),…"
            ],
            "application/vnd.jupyter.widget-view+json": {
              "version_major": 2,
              "version_minor": 0,
              "model_id": "faa04e488f5441d58ed9a46f7e793995"
            }
          },
          "metadata": {}
        },
        {
          "output_type": "stream",
          "name": "stdout",
          "text": [
            "+----+--------+\n",
            "|node|distance|\n",
            "+----+--------+\n",
            "|   B|       1|\n",
            "|   D|       1|\n",
            "|   C|       1|\n",
            "|   A|       0|\n",
            "+----+--------+"
          ]
        }
      ],
      "source": [
        "%%spark\n",
        "simple_1_round_dict = {'node': ['B', 'D', 'C', 'A'],\n",
        "       'distance': [1, 1, 1, 0]}\n",
        "simple_1_round_bfs_df = pd.DataFrame.from_dict(simple_1_round_dict)\n",
        "simple_1_round_bfs_sdf = spark.createDataFrame(simple_1_round_bfs_df)\n",
        "simple_1_round_bfs_sdf.show()"
      ]
    },
    {
      "cell_type": "markdown",
      "metadata": {
        "id": "15Qk24fGFO_U"
      },
      "source": [
        "As you can see, this dataframe logs each node with its corresponding distance away from A. Moreover, we also know that these nodes are **visited**.\n",
        "\n",
        "Hopefully, you can see how we can use our original graph and this new information to find the nodes at depth two.\n",
        "\n",
        "This is exactly what we will try to accomplish with **spark_bfs_1_round(visited_nodes)** which will ultimately be the inner function of **spark_bfs** that we use to perform exactly one traversal of a graph.\n",
        "\n",
        "**TODO**: Write **spark_bfs_1_round(visted_nodes)** that takes the currently dataframe of visited_nodes, performs one round of BFS, and returns an updated visited nodes dataframe. You should assume that a temporary sdf `G` already exists as a global variable that identifies node relationships. In 5.1.2, G will be simple_graph_sdf. “"
      ]
    },
    {
      "cell_type": "code",
      "execution_count": 90,
      "metadata": {
        "id": "OQYlGzw6FSms",
        "colab": {
          "base_uri": "https://localhost:8080/",
          "height": 17,
          "referenced_widgets": [
            "6baf01c270244f10931a8f4e3baecd99",
            "284840ca67064c049d867333f005f6e4",
            "46e487df486e44e598c6bb88007b5415"
          ]
        },
        "outputId": "0c0cf2d9-13a3-4181-cbf0-500af93ab861"
      },
      "outputs": [
        {
          "output_type": "display_data",
          "data": {
            "text/plain": [
              "FloatProgress(value=0.0, bar_style='info', description='Progress:', layout=Layout(height='25px', width='50%'),…"
            ],
            "application/vnd.jupyter.widget-view+json": {
              "version_major": 2,
              "version_minor": 0,
              "model_id": "6baf01c270244f10931a8f4e3baecd99"
            }
          },
          "metadata": {}
        }
      ],
      "source": [
        "%%spark\n",
        "def spark_bfs_1_round(visited_nodes):\n",
        "  \"\"\"\n",
        "  :param visited_nodes: dataframe with columns node and distance\n",
        "  :return: dataframe of updated visited nodes, with columns node and distance\n",
        "  \"\"\"\n",
        "  # TODO: Complete this function to implement 1 round of BFS\n",
        "  visited_nodes.createOrReplaceTempView(\"v\")\n",
        "  G.createOrReplaceTempView(\"g\")\n",
        "  query = '''SELECT g.to_node AS node, (v.distance + 1) AS distance\n",
        "             FROM v\n",
        "             JOIN g\n",
        "               ON v.node = g.from_node\n",
        "             WHERE v.distance = (SELECT max(v.distance) FROM v)\n",
        "               AND g.to_node NOT IN (SELECT v.node FROM v)\n",
        "             UNION\n",
        "               SELECT * FROM v\n",
        "             '''\n",
        "  return spark.sql(query)\n"
      ]
    },
    {
      "cell_type": "markdown",
      "metadata": {
        "id": "za3-poGjFaRy"
      },
      "source": [
        "Now, run the inner function on simple_1_round_bfs_sdf (i.e. result of 1 round of BFS on the simple graph) and store the results in simple_bfs_result. This is ultimately what the output of BFS to depth 2 should look like. Create your temporary sdf `G` and then call the `spark_bfs_1_round` function you created above."
      ]
    },
    {
      "cell_type": "code",
      "execution_count": 91,
      "metadata": {
        "id": "IUTyEdbpFUVG",
        "colab": {
          "base_uri": "https://localhost:8080/",
          "height": 17,
          "referenced_widgets": [
            "1205dc630a5e438b9752421a28d30b02",
            "15eb18de9e2d44f2b8f662279fb63f39",
            "650b4404975343e79b17a645b7fce95e"
          ]
        },
        "outputId": "c9bab8d3-b8cc-4834-a034-3d6a7569f953"
      },
      "outputs": [
        {
          "output_type": "display_data",
          "data": {
            "text/plain": [
              "FloatProgress(value=0.0, bar_style='info', description='Progress:', layout=Layout(height='25px', width='50%'),…"
            ],
            "application/vnd.jupyter.widget-view+json": {
              "version_major": 2,
              "version_minor": 0,
              "model_id": "1205dc630a5e438b9752421a28d30b02"
            }
          },
          "metadata": {}
        }
      ],
      "source": [
        "%%spark\n",
        "# TODO: Run spark_bfs_1_round on simple_1_round_bfs_sdf\n",
        "G=simple_graph_sdf\n",
        "simple_bfs_result = spark_bfs_1_round(simple_1_round_bfs_sdf)"
      ]
    },
    {
      "cell_type": "markdown",
      "metadata": {
        "id": "CgO9ZG6NkRz2"
      },
      "source": [
        "We'll copy to Colab and convert to Pandas"
      ]
    },
    {
      "cell_type": "code",
      "execution_count": 92,
      "metadata": {
        "id": "eovQ5yTokLwj",
        "colab": {
          "base_uri": "https://localhost:8080/",
          "height": 17,
          "referenced_widgets": [
            "0fd033aa4d4b414e947035f9db622dd0",
            "29182d594c0143c6bad95d5ea5de6cb3",
            "2e5fd3cf066341deb20ce2cbb1212da7",
            "5235ab07a5ac4721b390c53561982f70",
            "c2149d7e882249499338d110bcf20a29",
            "d6b8af9b59cd43cd8cadf6fa8a01b558"
          ]
        },
        "outputId": "c1cfe15e-16f3-4ba2-f8db-a11e7e82b94a"
      },
      "outputs": [
        {
          "output_type": "display_data",
          "data": {
            "text/plain": [
              "FloatProgress(value=0.0, bar_style='info', description='Progress:', layout=Layout(height='25px', width='50%'),…"
            ],
            "application/vnd.jupyter.widget-view+json": {
              "version_major": 2,
              "version_minor": 0,
              "model_id": "0fd033aa4d4b414e947035f9db622dd0"
            }
          },
          "metadata": {}
        },
        {
          "output_type": "display_data",
          "data": {
            "text/plain": [
              "FloatProgress(value=0.0, bar_style='info', description='Progress:', layout=Layout(height='25px', width='50%'),…"
            ],
            "application/vnd.jupyter.widget-view+json": {
              "version_major": 2,
              "version_minor": 0,
              "model_id": "5235ab07a5ac4721b390c53561982f70"
            }
          },
          "metadata": {}
        }
      ],
      "source": [
        "%spark -o simple_bfs_result"
      ]
    },
    {
      "cell_type": "code",
      "source": [
        "simple_bfs_result"
      ],
      "metadata": {
        "colab": {
          "base_uri": "https://localhost:8080/",
          "height": 269
        },
        "id": "dIfZM5kVD15D",
        "outputId": "4b348d30-73ac-4c4c-de6a-1c7faa074ea5"
      },
      "execution_count": 93,
      "outputs": [
        {
          "output_type": "execute_result",
          "data": {
            "text/plain": [
              "  node  distance\n",
              "0    G         2\n",
              "1    E         2\n",
              "2    B         1\n",
              "3    C         1\n",
              "4    F         2\n",
              "5    D         1\n",
              "6    A         0"
            ],
            "text/html": [
              "\n",
              "  <div id=\"df-bd2436ee-c650-4c36-b2b0-0fcc04cb1e43\" class=\"colab-df-container\">\n",
              "    <div>\n",
              "<style scoped>\n",
              "    .dataframe tbody tr th:only-of-type {\n",
              "        vertical-align: middle;\n",
              "    }\n",
              "\n",
              "    .dataframe tbody tr th {\n",
              "        vertical-align: top;\n",
              "    }\n",
              "\n",
              "    .dataframe thead th {\n",
              "        text-align: right;\n",
              "    }\n",
              "</style>\n",
              "<table border=\"1\" class=\"dataframe\">\n",
              "  <thead>\n",
              "    <tr style=\"text-align: right;\">\n",
              "      <th></th>\n",
              "      <th>node</th>\n",
              "      <th>distance</th>\n",
              "    </tr>\n",
              "  </thead>\n",
              "  <tbody>\n",
              "    <tr>\n",
              "      <th>0</th>\n",
              "      <td>G</td>\n",
              "      <td>2</td>\n",
              "    </tr>\n",
              "    <tr>\n",
              "      <th>1</th>\n",
              "      <td>E</td>\n",
              "      <td>2</td>\n",
              "    </tr>\n",
              "    <tr>\n",
              "      <th>2</th>\n",
              "      <td>B</td>\n",
              "      <td>1</td>\n",
              "    </tr>\n",
              "    <tr>\n",
              "      <th>3</th>\n",
              "      <td>C</td>\n",
              "      <td>1</td>\n",
              "    </tr>\n",
              "    <tr>\n",
              "      <th>4</th>\n",
              "      <td>F</td>\n",
              "      <td>2</td>\n",
              "    </tr>\n",
              "    <tr>\n",
              "      <th>5</th>\n",
              "      <td>D</td>\n",
              "      <td>1</td>\n",
              "    </tr>\n",
              "    <tr>\n",
              "      <th>6</th>\n",
              "      <td>A</td>\n",
              "      <td>0</td>\n",
              "    </tr>\n",
              "  </tbody>\n",
              "</table>\n",
              "</div>\n",
              "    <div class=\"colab-df-buttons\">\n",
              "\n",
              "  <div class=\"colab-df-container\">\n",
              "    <button class=\"colab-df-convert\" onclick=\"convertToInteractive('df-bd2436ee-c650-4c36-b2b0-0fcc04cb1e43')\"\n",
              "            title=\"Convert this dataframe to an interactive table.\"\n",
              "            style=\"display:none;\">\n",
              "\n",
              "  <svg xmlns=\"http://www.w3.org/2000/svg\" height=\"24px\" viewBox=\"0 -960 960 960\">\n",
              "    <path d=\"M120-120v-720h720v720H120Zm60-500h600v-160H180v160Zm220 220h160v-160H400v160Zm0 220h160v-160H400v160ZM180-400h160v-160H180v160Zm440 0h160v-160H620v160ZM180-180h160v-160H180v160Zm440 0h160v-160H620v160Z\"/>\n",
              "  </svg>\n",
              "    </button>\n",
              "\n",
              "  <style>\n",
              "    .colab-df-container {\n",
              "      display:flex;\n",
              "      gap: 12px;\n",
              "    }\n",
              "\n",
              "    .colab-df-convert {\n",
              "      background-color: #E8F0FE;\n",
              "      border: none;\n",
              "      border-radius: 50%;\n",
              "      cursor: pointer;\n",
              "      display: none;\n",
              "      fill: #1967D2;\n",
              "      height: 32px;\n",
              "      padding: 0 0 0 0;\n",
              "      width: 32px;\n",
              "    }\n",
              "\n",
              "    .colab-df-convert:hover {\n",
              "      background-color: #E2EBFA;\n",
              "      box-shadow: 0px 1px 2px rgba(60, 64, 67, 0.3), 0px 1px 3px 1px rgba(60, 64, 67, 0.15);\n",
              "      fill: #174EA6;\n",
              "    }\n",
              "\n",
              "    .colab-df-buttons div {\n",
              "      margin-bottom: 4px;\n",
              "    }\n",
              "\n",
              "    [theme=dark] .colab-df-convert {\n",
              "      background-color: #3B4455;\n",
              "      fill: #D2E3FC;\n",
              "    }\n",
              "\n",
              "    [theme=dark] .colab-df-convert:hover {\n",
              "      background-color: #434B5C;\n",
              "      box-shadow: 0px 1px 3px 1px rgba(0, 0, 0, 0.15);\n",
              "      filter: drop-shadow(0px 1px 2px rgba(0, 0, 0, 0.3));\n",
              "      fill: #FFFFFF;\n",
              "    }\n",
              "  </style>\n",
              "\n",
              "    <script>\n",
              "      const buttonEl =\n",
              "        document.querySelector('#df-bd2436ee-c650-4c36-b2b0-0fcc04cb1e43 button.colab-df-convert');\n",
              "      buttonEl.style.display =\n",
              "        google.colab.kernel.accessAllowed ? 'block' : 'none';\n",
              "\n",
              "      async function convertToInteractive(key) {\n",
              "        const element = document.querySelector('#df-bd2436ee-c650-4c36-b2b0-0fcc04cb1e43');\n",
              "        const dataTable =\n",
              "          await google.colab.kernel.invokeFunction('convertToInteractive',\n",
              "                                                    [key], {});\n",
              "        if (!dataTable) return;\n",
              "\n",
              "        const docLinkHtml = 'Like what you see? Visit the ' +\n",
              "          '<a target=\"_blank\" href=https://colab.research.google.com/notebooks/data_table.ipynb>data table notebook</a>'\n",
              "          + ' to learn more about interactive tables.';\n",
              "        element.innerHTML = '';\n",
              "        dataTable['output_type'] = 'display_data';\n",
              "        await google.colab.output.renderOutput(dataTable, element);\n",
              "        const docLink = document.createElement('div');\n",
              "        docLink.innerHTML = docLinkHtml;\n",
              "        element.appendChild(docLink);\n",
              "      }\n",
              "    </script>\n",
              "  </div>\n",
              "\n",
              "\n",
              "<div id=\"df-fa284ff8-e025-43a0-9a29-a36d1a7939a6\">\n",
              "  <button class=\"colab-df-quickchart\" onclick=\"quickchart('df-fa284ff8-e025-43a0-9a29-a36d1a7939a6')\"\n",
              "            title=\"Suggest charts\"\n",
              "            style=\"display:none;\">\n",
              "\n",
              "<svg xmlns=\"http://www.w3.org/2000/svg\" height=\"24px\"viewBox=\"0 0 24 24\"\n",
              "     width=\"24px\">\n",
              "    <g>\n",
              "        <path d=\"M19 3H5c-1.1 0-2 .9-2 2v14c0 1.1.9 2 2 2h14c1.1 0 2-.9 2-2V5c0-1.1-.9-2-2-2zM9 17H7v-7h2v7zm4 0h-2V7h2v10zm4 0h-2v-4h2v4z\"/>\n",
              "    </g>\n",
              "</svg>\n",
              "  </button>\n",
              "\n",
              "<style>\n",
              "  .colab-df-quickchart {\n",
              "      --bg-color: #E8F0FE;\n",
              "      --fill-color: #1967D2;\n",
              "      --hover-bg-color: #E2EBFA;\n",
              "      --hover-fill-color: #174EA6;\n",
              "      --disabled-fill-color: #AAA;\n",
              "      --disabled-bg-color: #DDD;\n",
              "  }\n",
              "\n",
              "  [theme=dark] .colab-df-quickchart {\n",
              "      --bg-color: #3B4455;\n",
              "      --fill-color: #D2E3FC;\n",
              "      --hover-bg-color: #434B5C;\n",
              "      --hover-fill-color: #FFFFFF;\n",
              "      --disabled-bg-color: #3B4455;\n",
              "      --disabled-fill-color: #666;\n",
              "  }\n",
              "\n",
              "  .colab-df-quickchart {\n",
              "    background-color: var(--bg-color);\n",
              "    border: none;\n",
              "    border-radius: 50%;\n",
              "    cursor: pointer;\n",
              "    display: none;\n",
              "    fill: var(--fill-color);\n",
              "    height: 32px;\n",
              "    padding: 0;\n",
              "    width: 32px;\n",
              "  }\n",
              "\n",
              "  .colab-df-quickchart:hover {\n",
              "    background-color: var(--hover-bg-color);\n",
              "    box-shadow: 0 1px 2px rgba(60, 64, 67, 0.3), 0 1px 3px 1px rgba(60, 64, 67, 0.15);\n",
              "    fill: var(--button-hover-fill-color);\n",
              "  }\n",
              "\n",
              "  .colab-df-quickchart-complete:disabled,\n",
              "  .colab-df-quickchart-complete:disabled:hover {\n",
              "    background-color: var(--disabled-bg-color);\n",
              "    fill: var(--disabled-fill-color);\n",
              "    box-shadow: none;\n",
              "  }\n",
              "\n",
              "  .colab-df-spinner {\n",
              "    border: 2px solid var(--fill-color);\n",
              "    border-color: transparent;\n",
              "    border-bottom-color: var(--fill-color);\n",
              "    animation:\n",
              "      spin 1s steps(1) infinite;\n",
              "  }\n",
              "\n",
              "  @keyframes spin {\n",
              "    0% {\n",
              "      border-color: transparent;\n",
              "      border-bottom-color: var(--fill-color);\n",
              "      border-left-color: var(--fill-color);\n",
              "    }\n",
              "    20% {\n",
              "      border-color: transparent;\n",
              "      border-left-color: var(--fill-color);\n",
              "      border-top-color: var(--fill-color);\n",
              "    }\n",
              "    30% {\n",
              "      border-color: transparent;\n",
              "      border-left-color: var(--fill-color);\n",
              "      border-top-color: var(--fill-color);\n",
              "      border-right-color: var(--fill-color);\n",
              "    }\n",
              "    40% {\n",
              "      border-color: transparent;\n",
              "      border-right-color: var(--fill-color);\n",
              "      border-top-color: var(--fill-color);\n",
              "    }\n",
              "    60% {\n",
              "      border-color: transparent;\n",
              "      border-right-color: var(--fill-color);\n",
              "    }\n",
              "    80% {\n",
              "      border-color: transparent;\n",
              "      border-right-color: var(--fill-color);\n",
              "      border-bottom-color: var(--fill-color);\n",
              "    }\n",
              "    90% {\n",
              "      border-color: transparent;\n",
              "      border-bottom-color: var(--fill-color);\n",
              "    }\n",
              "  }\n",
              "</style>\n",
              "\n",
              "  <script>\n",
              "    async function quickchart(key) {\n",
              "      const quickchartButtonEl =\n",
              "        document.querySelector('#' + key + ' button');\n",
              "      quickchartButtonEl.disabled = true;  // To prevent multiple clicks.\n",
              "      quickchartButtonEl.classList.add('colab-df-spinner');\n",
              "      try {\n",
              "        const charts = await google.colab.kernel.invokeFunction(\n",
              "            'suggestCharts', [key], {});\n",
              "      } catch (error) {\n",
              "        console.error('Error during call to suggestCharts:', error);\n",
              "      }\n",
              "      quickchartButtonEl.classList.remove('colab-df-spinner');\n",
              "      quickchartButtonEl.classList.add('colab-df-quickchart-complete');\n",
              "    }\n",
              "    (() => {\n",
              "      let quickchartButtonEl =\n",
              "        document.querySelector('#df-fa284ff8-e025-43a0-9a29-a36d1a7939a6 button');\n",
              "      quickchartButtonEl.style.display =\n",
              "        google.colab.kernel.accessAllowed ? 'block' : 'none';\n",
              "    })();\n",
              "  </script>\n",
              "</div>\n",
              "\n",
              "  <div id=\"id_43e5ff5e-5f98-446b-aea7-29cc8898fadd\">\n",
              "    <style>\n",
              "      .colab-df-generate {\n",
              "        background-color: #E8F0FE;\n",
              "        border: none;\n",
              "        border-radius: 50%;\n",
              "        cursor: pointer;\n",
              "        display: none;\n",
              "        fill: #1967D2;\n",
              "        height: 32px;\n",
              "        padding: 0 0 0 0;\n",
              "        width: 32px;\n",
              "      }\n",
              "\n",
              "      .colab-df-generate:hover {\n",
              "        background-color: #E2EBFA;\n",
              "        box-shadow: 0px 1px 2px rgba(60, 64, 67, 0.3), 0px 1px 3px 1px rgba(60, 64, 67, 0.15);\n",
              "        fill: #174EA6;\n",
              "      }\n",
              "\n",
              "      [theme=dark] .colab-df-generate {\n",
              "        background-color: #3B4455;\n",
              "        fill: #D2E3FC;\n",
              "      }\n",
              "\n",
              "      [theme=dark] .colab-df-generate:hover {\n",
              "        background-color: #434B5C;\n",
              "        box-shadow: 0px 1px 3px 1px rgba(0, 0, 0, 0.15);\n",
              "        filter: drop-shadow(0px 1px 2px rgba(0, 0, 0, 0.3));\n",
              "        fill: #FFFFFF;\n",
              "      }\n",
              "    </style>\n",
              "    <button class=\"colab-df-generate\" onclick=\"generateWithVariable('simple_bfs_result')\"\n",
              "            title=\"Generate code using this dataframe.\"\n",
              "            style=\"display:none;\">\n",
              "\n",
              "  <svg xmlns=\"http://www.w3.org/2000/svg\" height=\"24px\"viewBox=\"0 0 24 24\"\n",
              "       width=\"24px\">\n",
              "    <path d=\"M7,19H8.4L18.45,9,17,7.55,7,17.6ZM5,21V16.75L18.45,3.32a2,2,0,0,1,2.83,0l1.4,1.43a1.91,1.91,0,0,1,.58,1.4,1.91,1.91,0,0,1-.58,1.4L9.25,21ZM18.45,9,17,7.55Zm-12,3A5.31,5.31,0,0,0,4.9,8.1,5.31,5.31,0,0,0,1,6.5,5.31,5.31,0,0,0,4.9,4.9,5.31,5.31,0,0,0,6.5,1,5.31,5.31,0,0,0,8.1,4.9,5.31,5.31,0,0,0,12,6.5,5.46,5.46,0,0,0,6.5,12Z\"/>\n",
              "  </svg>\n",
              "    </button>\n",
              "    <script>\n",
              "      (() => {\n",
              "      const buttonEl =\n",
              "        document.querySelector('#id_43e5ff5e-5f98-446b-aea7-29cc8898fadd button.colab-df-generate');\n",
              "      buttonEl.style.display =\n",
              "        google.colab.kernel.accessAllowed ? 'block' : 'none';\n",
              "\n",
              "      buttonEl.onclick = () => {\n",
              "        google.colab.notebook.generateWithVariable('simple_bfs_result');\n",
              "      }\n",
              "      })();\n",
              "    </script>\n",
              "  </div>\n",
              "\n",
              "    </div>\n",
              "  </div>\n"
            ],
            "application/vnd.google.colaboratory.intrinsic+json": {
              "type": "dataframe",
              "variable_name": "simple_bfs_result",
              "summary": "{\n  \"name\": \"simple_bfs_result\",\n  \"rows\": 7,\n  \"fields\": [\n    {\n      \"column\": \"node\",\n      \"properties\": {\n        \"dtype\": \"string\",\n        \"num_unique_values\": 7,\n        \"samples\": [\n          \"G\",\n          \"E\",\n          \"D\"\n        ],\n        \"semantic_type\": \"\",\n        \"description\": \"\"\n      }\n    },\n    {\n      \"column\": \"distance\",\n      \"properties\": {\n        \"dtype\": \"number\",\n        \"std\": 0,\n        \"min\": 0,\n        \"max\": 2,\n        \"num_unique_values\": 3,\n        \"samples\": [\n          2,\n          1,\n          0\n        ],\n        \"semantic_type\": \"\",\n        \"description\": \"\"\n      }\n    }\n  ]\n}"
            }
          },
          "metadata": {},
          "execution_count": 93
        }
      ]
    },
    {
      "cell_type": "markdown",
      "metadata": {
        "id": "evUUcJ0yFdhH"
      },
      "source": [
        "Convert this result to Pandas, sort your dataframe by `node` ascending, and submit it to the autograder."
      ]
    },
    {
      "cell_type": "code",
      "execution_count": 94,
      "metadata": {
        "id": "kH1XA1eWluCD"
      },
      "outputs": [],
      "source": [
        "###DO NOT EDIT\n",
        "simple_bfs_test = simple_bfs_result.sort_values(by=[\"node\"],ascending=True)"
      ]
    },
    {
      "cell_type": "code",
      "execution_count": 95,
      "metadata": {
        "id": "Z0IyMp1dFYEh",
        "colab": {
          "base_uri": "https://localhost:8080/"
        },
        "outputId": "43c3f705-d377-4525-a437-9db12a6bff90"
      },
      "outputs": [
        {
          "output_type": "stream",
          "name": "stdout",
          "text": [
            "Correct! You earned 6/6 points. You are a star!\n",
            "\n",
            "Your submission has been successfully recorded in the gradebook.\n"
          ]
        }
      ],
      "source": [
        "# 6 points\n",
        "grader.grade(test_case_id = 'checksimpleBFS', answer = simple_bfs_test.reset_index())"
      ]
    },
    {
      "cell_type": "markdown",
      "metadata": {
        "id": "Nk2soBT2EoRl"
      },
      "source": [
        "#### 5.1.3 Full BFS Implementation\n",
        "\n",
        "Now, we will fully implement **spark_bfs**. This function should iteratively call your implemented version of **spark_bfs_1_round** and ultimately return the output of this function at **max_depth**.\n",
        "\n",
        "You are also responsible for initializing the starting dataframe, that is converting the list of origin nodes into a spark dataframe with the nodes logged at distance 0.\n",
        "\n",
        "Consider the following:\n",
        "\n",
        "```\n",
        "schema = StructType([\n",
        "            StructField(\"node\", StringType(), True)\n",
        "        ])\n",
        "\n",
        "    my_sdf = spark.createDataFrame(origins, schema)\n",
        "```\n",
        "\n",
        "The schema ultimately specifies the structure of the Spark DataFrame with a string `node` column. It then calls **spark.createDataFrame** to map this schema to the **origins** nodes. Also, you are responsible for ensuring that a view of your graph is available within this function. (Note: you will also need to add in a distance column)\n",
        "\n",
        "**TODO:** implement **spark_bfs(G,origins,max_depth)**. In the coming sections, you will run this function on **twitter_sdf** that you will initialize in 5.2. Note: you may want to run tests on the **simple_graph** example as the `twitter_sdf` will take quite some time to run.\n",
        "\n",
        "Also remember that in section 5.1.2, we had assumed that the temporary view already exists. So you will have to take care of creating that within this function.\n",
        "\n",
        "These imports might be useful:\n",
        "`from pyspark.sql.types import StructType, StructField, StringType, IntegerType`"
      ]
    },
    {
      "cell_type": "code",
      "execution_count": 96,
      "metadata": {
        "id": "tIbkTuSTFhR4",
        "colab": {
          "base_uri": "https://localhost:8080/",
          "height": 17,
          "referenced_widgets": [
            "e284f455f7664fb8ba329149307086cc",
            "83eb05e61c5d47c8a661cd0504e04baa",
            "fd94731d14db47a99e2b0c6ddf43ee69"
          ]
        },
        "outputId": "e238c37c-f590-4d23-de6b-7c1e2cf2dd4a"
      },
      "outputs": [
        {
          "output_type": "display_data",
          "data": {
            "text/plain": [
              "FloatProgress(value=0.0, bar_style='info', description='Progress:', layout=Layout(height='25px', width='50%'),…"
            ],
            "application/vnd.jupyter.widget-view+json": {
              "version_major": 2,
              "version_minor": 0,
              "model_id": "e284f455f7664fb8ba329149307086cc"
            }
          },
          "metadata": {}
        }
      ],
      "source": [
        "%%spark\n",
        "from pyspark.sql.types import StructType, StructField, StringType, IntegerType\n",
        "# TODO: iterative search over undirected graph\n",
        "# Worth 5 points directly, but will be needed later\n",
        "\n",
        "def spark_bfs(G, origins, max_depth):\n",
        "    \"\"\" Runs optimized distributed BFS to a specified max depth\n",
        "\n",
        "    :param G: graph dataframe from 5.1.2\n",
        "    :param origins: list of origin nodes stored as {\"node\": nodeValue}\n",
        "    :param max_depth: integer value of max depth to run BFS to\n",
        "    :return: dataframe with columns node, distance of all visited nodes\n",
        "    \"\"\"\n",
        "    schema = StructType([\n",
        "        StructField(\"node\", StringType(), nullable=True),\n",
        "        StructField(\"distance\", IntegerType(), nullable=True)\n",
        "    ])\n",
        "    G.createOrReplaceTempView(\"g\")\n",
        "    start_sdf = [{\"node\": origin[\"node\"], \"distance\": 0} for origin in origins]\n",
        "    visited_sdf = spark.createDataFrame(start_sdf, schema)\n",
        "\n",
        "    for depth in range(max_depth):\n",
        "        visited_sdf.createOrReplaceTempView(\"v\")\n",
        "        visited_sdf = spark.sql('''\n",
        "            SELECT g.to_node AS node, (v.distance + 1) AS distance\n",
        "            FROM v\n",
        "            JOIN g\n",
        "                ON v.node = g.from_node\n",
        "            WHERE g.to_node NOT IN (SELECT node FROM v)\n",
        "            UNION\n",
        "            SELECT * FROM v\n",
        "        ''')\n",
        "    return visited_sdf"
      ]
    },
    {
      "cell_type": "markdown",
      "metadata": {
        "id": "2LRo1B8HFjs1"
      },
      "source": [
        "Test that this function works on the simple example."
      ]
    },
    {
      "cell_type": "code",
      "execution_count": 97,
      "metadata": {
        "id": "rL9XjwyPFhyy",
        "colab": {
          "base_uri": "https://localhost:8080/",
          "height": 231,
          "referenced_widgets": [
            "084d6903e1e1432e816deb5be83fbd8b",
            "0bcb6586aa5d4ac8a21805bffc87d509",
            "91f91e9d2f944c65ba1760c32723ca7b"
          ]
        },
        "outputId": "30657817-a72b-4161-cc3b-c1ac4d031799"
      },
      "outputs": [
        {
          "output_type": "display_data",
          "data": {
            "text/plain": [
              "FloatProgress(value=0.0, bar_style='info', description='Progress:', layout=Layout(height='25px', width='50%'),…"
            ],
            "application/vnd.jupyter.widget-view+json": {
              "version_major": 2,
              "version_minor": 0,
              "model_id": "084d6903e1e1432e816deb5be83fbd8b"
            }
          },
          "metadata": {}
        },
        {
          "output_type": "stream",
          "name": "stdout",
          "text": [
            "+----+--------+\n",
            "|node|distance|\n",
            "+----+--------+\n",
            "|   H|       3|\n",
            "|   G|       2|\n",
            "|   F|       2|\n",
            "|   E|       2|\n",
            "|   B|       1|\n",
            "|   D|       1|\n",
            "|   C|       1|\n",
            "|   A|       0|\n",
            "+----+--------+"
          ]
        }
      ],
      "source": [
        "%%spark\n",
        "simple_bfs_iterative_result = spark_bfs(simple_graph_sdf, smallOrig, 3)\n",
        "simple_bfs_iterative_result.show()"
      ]
    },
    {
      "cell_type": "markdown",
      "metadata": {
        "id": "FBIXSJQmFqZc"
      },
      "source": [
        "### 5.2: Popular People [6 Pts]"
      ]
    },
    {
      "cell_type": "code",
      "execution_count": 98,
      "metadata": {
        "id": "CPiaJKt8AG-X",
        "colab": {
          "base_uri": "https://localhost:8080/",
          "height": 17,
          "referenced_widgets": [
            "65c3a3eaddeb41d79de6b488016ec47d",
            "c0c64dac6ca04816a45caed275723074",
            "8ea88d24d51d481399c478035549d29c"
          ]
        },
        "outputId": "72d0b140-8654-453d-92a2-4e51a892be40"
      },
      "outputs": [
        {
          "output_type": "display_data",
          "data": {
            "text/plain": [
              "FloatProgress(value=0.0, bar_style='info', description='Progress:', layout=Layout(height='25px', width='50%'),…"
            ],
            "application/vnd.jupyter.widget-view+json": {
              "version_major": 2,
              "version_minor": 0,
              "model_id": "65c3a3eaddeb41d79de6b488016ec47d"
            }
          },
          "metadata": {}
        }
      ],
      "source": [
        "%%spark\n",
        "from pyspark import SparkFiles\n",
        "from pyspark.sql import SparkSession\n",
        "\n",
        "\n",
        "url = \"https://storage.googleapis.com/penn-cis5450/twitter_followers.csv\"\n",
        "#if this does not work try using this url instead : https://drive.google.com/file/d/1MNGXvH2kxanW1iOOp1egz6cMg_cugxE9/view?usp=share_link\n",
        "\n",
        "spark.sparkContext.addFile(url)"
      ]
    },
    {
      "cell_type": "markdown",
      "metadata": {
        "id": "J9tlk9skXegN"
      },
      "source": [
        "It's time to take a look at our dataset. Let's load the data to **twitter_sdf** and see how it looks."
      ]
    },
    {
      "cell_type": "code",
      "execution_count": 99,
      "metadata": {
        "id": "F7EsOfD5NMea",
        "colab": {
          "base_uri": "https://localhost:8080/",
          "height": 17,
          "referenced_widgets": [
            "bd72497b17314925bd4416ba150d09df",
            "36d8afe78644415eb23a11c48b1a43c5",
            "5ff92d27c548435797257273137f9e57"
          ]
        },
        "outputId": "00c83a9f-1d7f-4c08-f57b-8f95372b69f3"
      },
      "outputs": [
        {
          "output_type": "display_data",
          "data": {
            "text/plain": [
              "FloatProgress(value=0.0, bar_style='info', description='Progress:', layout=Layout(height='25px', width='50%'),…"
            ],
            "application/vnd.jupyter.widget-view+json": {
              "version_major": 2,
              "version_minor": 0,
              "model_id": "bd72497b17314925bd4416ba150d09df"
            }
          },
          "metadata": {}
        }
      ],
      "source": [
        "%%spark\n",
        "twitter_sdf = spark.read.csv(\"file://\" + SparkFiles.get(\"twitter_followers.csv\"),header = True)"
      ]
    },
    {
      "cell_type": "code",
      "execution_count": 100,
      "metadata": {
        "id": "bN-1SaYENlD-",
        "colab": {
          "base_uri": "https://localhost:8080/",
          "height": 463,
          "referenced_widgets": [
            "f98d281ca031478291f5c166dbb7d1c6",
            "b18159cb5798494ea690e2d03eb4dbb7",
            "a382ea9cc10e46659df3c997b0a5057b"
          ]
        },
        "outputId": "668e86af-bf06-40ee-8347-1cc410ddcdde"
      },
      "outputs": [
        {
          "output_type": "display_data",
          "data": {
            "text/plain": [
              "FloatProgress(value=0.0, bar_style='info', description='Progress:', layout=Layout(height='25px', width='50%'),…"
            ],
            "application/vnd.jupyter.widget-view+json": {
              "version_major": 2,
              "version_minor": 0,
              "model_id": "f98d281ca031478291f5c166dbb7d1c6"
            }
          },
          "metadata": {}
        },
        {
          "output_type": "stream",
          "name": "stdout",
          "text": [
            "+---+-----------+---------+\n",
            "|_c0|      User1|    User2|\n",
            "+---+-----------+---------+\n",
            "|  0|      James|   Ashley|\n",
            "|  1|      Karen|   Thomas|\n",
            "|  2|     Sandra|    Karen|\n",
            "|  3|      Karen|   Joseph|\n",
            "|  4|   Patricia| Margaret|\n",
            "|  5|      Karen|  Charles|\n",
            "|  6|    Charles| Patricia|\n",
            "|  7|Christopher|   Ashley|\n",
            "|  8|  Elizabeth|    Karen|\n",
            "|  9|    Barbara|  Anthony|\n",
            "| 10|       Mark|  Michael|\n",
            "| 11|    Anthony|  Jessica|\n",
            "| 12|  Elizabeth|    Karen|\n",
            "| 13|    Michael|  Richard|\n",
            "| 14|    Anthony|  Charles|\n",
            "| 15|      Karen|   Sandra|\n",
            "| 16|      Karen| Margaret|\n",
            "| 17|     Robert|   Daniel|\n",
            "| 18|      Karen|    David|\n",
            "| 19|Christopher|Elizabeth|\n",
            "+---+-----------+---------+\n",
            "only showing top 20 rows"
          ]
        }
      ],
      "source": [
        "%%spark\n",
        "twitter_sdf.show()"
      ]
    },
    {
      "cell_type": "markdown",
      "metadata": {
        "id": "D_v7xH6v39Ii"
      },
      "source": [
        "As we can see, the dataframe consists of 2 columns named User1 and User2. These columns indicate an edge in the social network graph formed when people follow each other on twitter. Each row in the dataframe indicates that user1 follows user2. For example, the 0 indexed row has James as User1 and Ashley as User2, which indicates that James follows Ashley."
      ]
    },
    {
      "cell_type": "markdown",
      "metadata": {
        "id": "JPftgXHoXneJ"
      },
      "source": [
        "Let's take a look at which people were the most popular in terms of the number of followers they had. ***TODO***: Count the number of followers each person (Consider only those people who have atleast one follower. i.e. Those whose name exists in the User2 column). Return a dataframe with the schema (Name,Followers). Order your dataframe by Followers in descending order."
      ]
    },
    {
      "cell_type": "code",
      "execution_count": 101,
      "metadata": {
        "id": "idqHrl-BNrH5",
        "colab": {
          "base_uri": "https://localhost:8080/",
          "height": 17,
          "referenced_widgets": [
            "b01ca56bd28d4443b4cba6d5879d372a",
            "7a235039c7014c588455d47f6089975e",
            "1c4de8006aad4cf49353ddd232a756df"
          ]
        },
        "outputId": "7fb9e7e9-4540-4ca6-f04c-d75a600c0aa6"
      },
      "outputs": [
        {
          "output_type": "display_data",
          "data": {
            "text/plain": [
              "FloatProgress(value=0.0, bar_style='info', description='Progress:', layout=Layout(height='25px', width='50%'),…"
            ],
            "application/vnd.jupyter.widget-view+json": {
              "version_major": 2,
              "version_minor": 0,
              "model_id": "b01ca56bd28d4443b4cba6d5879d372a"
            }
          },
          "metadata": {}
        }
      ],
      "source": [
        "%%spark\n",
        "# TODO\n",
        "twitter_sdf.createOrReplaceTempView(\"count_sdf\")"
      ]
    },
    {
      "cell_type": "markdown",
      "metadata": {
        "id": "Qpjvw2j3I9Nt"
      },
      "source": [
        "Convert the dataframe to pandas and pass it to the grader."
      ]
    },
    {
      "cell_type": "code",
      "execution_count": 102,
      "metadata": {
        "id": "-UV5KUtO_RlD",
        "colab": {
          "base_uri": "https://localhost:8080/",
          "height": 17,
          "referenced_widgets": [
            "db2584b3f4284564a891938f42707944",
            "e0a7ad7d534b4f38b721e346607a6b08",
            "bc13ddb3f6174b2cac7dd06386eafb13"
          ]
        },
        "outputId": "e60ce5e2-c71d-47b1-ab07-937926d8fc7f"
      },
      "outputs": [
        {
          "output_type": "display_data",
          "data": {
            "text/plain": [
              "FloatProgress(value=0.0, bar_style='info', description='Progress:', layout=Layout(height='25px', width='50%'),…"
            ],
            "application/vnd.jupyter.widget-view+json": {
              "version_major": 2,
              "version_minor": 0,
              "model_id": "db2584b3f4284564a891938f42707944"
            }
          },
          "metadata": {}
        }
      ],
      "source": [
        "%%spark\n",
        "# TODO\n",
        "count_sdf = spark.sql(\"SELECT User2 AS Name, COUNT(1) AS Followers FROM count_sdf GROUP BY User2 ORDER BY Followers DESC\")"
      ]
    },
    {
      "cell_type": "code",
      "execution_count": 103,
      "metadata": {
        "id": "1LL-GRtFAakO",
        "colab": {
          "base_uri": "https://localhost:8080/",
          "height": 17,
          "referenced_widgets": [
            "886d996e05c7449995c73c97ad962e4c",
            "c7dd75bdaa9741538669308e7ed011b7",
            "eca0dbd350194ddca37b953a846bbd81",
            "4fc28e7ea266475cb6a3244055e8331c",
            "75abc5e0e496441fadecb1159fdc0098",
            "dbc1e8b17bbc4f7aab6ba7c306e8edb1"
          ]
        },
        "outputId": "e0af4978-3dfd-4967-a296-5e6b9815abbd"
      },
      "outputs": [
        {
          "output_type": "display_data",
          "data": {
            "text/plain": [
              "FloatProgress(value=0.0, bar_style='info', description='Progress:', layout=Layout(height='25px', width='50%'),…"
            ],
            "application/vnd.jupyter.widget-view+json": {
              "version_major": 2,
              "version_minor": 0,
              "model_id": "886d996e05c7449995c73c97ad962e4c"
            }
          },
          "metadata": {}
        },
        {
          "output_type": "display_data",
          "data": {
            "text/plain": [
              "FloatProgress(value=0.0, bar_style='info', description='Progress:', layout=Layout(height='25px', width='50%'),…"
            ],
            "application/vnd.jupyter.widget-view+json": {
              "version_major": 2,
              "version_minor": 0,
              "model_id": "4fc28e7ea266475cb6a3244055e8331c"
            }
          },
          "metadata": {}
        }
      ],
      "source": [
        "%spark -o count_sdf"
      ]
    },
    {
      "cell_type": "code",
      "execution_count": 104,
      "metadata": {
        "id": "tF6l4PLF_OKB",
        "colab": {
          "base_uri": "https://localhost:8080/"
        },
        "outputId": "5d269298-c56f-4c93-86aa-44869e706d01"
      },
      "outputs": [
        {
          "output_type": "stream",
          "name": "stdout",
          "text": [
            "Correct! You earned 4/4 points. You are a star!\n",
            "\n",
            "Your submission has been successfully recorded in the gradebook.\n"
          ]
        }
      ],
      "source": [
        "# 4 points\n",
        "grader.grade(test_case_id = 'checkFollowerCount', answer = count_sdf)"
      ]
    },
    {
      "cell_type": "markdown",
      "metadata": {
        "id": "Y7-sQIg9Ydze"
      },
      "source": [
        "Now that we have the Twitter dataset, let's convert it to a graph sdf just like the one we had in section 5.1 (P.S. it's not as hard as it sounds).\n",
        "\n",
        "**TODO:** Create **twitter_graph_sdf** that has the columns *from_node* and *to_node*. from_node has all the entries from the *User1* column and to_node has all the entries from the *User2* column."
      ]
    },
    {
      "cell_type": "code",
      "execution_count": 105,
      "metadata": {
        "id": "pY37jvGkOBeN",
        "colab": {
          "base_uri": "https://localhost:8080/",
          "height": 17,
          "referenced_widgets": [
            "5b92addefd684851a412688aa69b8334",
            "2d3380d51a1944079d5981c0da44edf6",
            "baf7c6f8709b4aca83a2abfcda1652fa"
          ]
        },
        "outputId": "19aff723-db2f-47ab-83e3-7434ffa9b926"
      },
      "outputs": [
        {
          "output_type": "display_data",
          "data": {
            "text/plain": [
              "FloatProgress(value=0.0, bar_style='info', description='Progress:', layout=Layout(height='25px', width='50%'),…"
            ],
            "application/vnd.jupyter.widget-view+json": {
              "version_major": 2,
              "version_minor": 0,
              "model_id": "5b92addefd684851a412688aa69b8334"
            }
          },
          "metadata": {}
        }
      ],
      "source": [
        "%%spark\n",
        "# TODO\n",
        "twitter_sdf.createOrReplaceTempView(\"twitter_sdf\")\n",
        "twitter_graph_sdf = spark.sql(\"SELECT User1 AS from_node, User2 AS to_node FROM twitter_sdf\")"
      ]
    },
    {
      "cell_type": "code",
      "execution_count": 106,
      "metadata": {
        "id": "YzvqVqcPAfZ_",
        "colab": {
          "base_uri": "https://localhost:8080/",
          "height": 17,
          "referenced_widgets": [
            "750f836943c74846b3931617dcf5ec22",
            "16697d4adcb94a6e82c856e1f88b5f70",
            "dd98f2ece4584979ae4293f6696414ad",
            "2983eb7434904b4aa47e14c4473449ca",
            "36f39b20a25b4a90b3a32a948d9bcefa",
            "b8b6f3145a464ca8bf13490e7b9c5bc4"
          ]
        },
        "outputId": "6e343e91-434c-4d65-94e7-8b654e1546f6"
      },
      "outputs": [
        {
          "output_type": "display_data",
          "data": {
            "text/plain": [
              "FloatProgress(value=0.0, bar_style='info', description='Progress:', layout=Layout(height='25px', width='50%'),…"
            ],
            "application/vnd.jupyter.widget-view+json": {
              "version_major": 2,
              "version_minor": 0,
              "model_id": "750f836943c74846b3931617dcf5ec22"
            }
          },
          "metadata": {}
        },
        {
          "output_type": "display_data",
          "data": {
            "text/plain": [
              "FloatProgress(value=0.0, bar_style='info', description='Progress:', layout=Layout(height='25px', width='50%'),…"
            ],
            "application/vnd.jupyter.widget-view+json": {
              "version_major": 2,
              "version_minor": 0,
              "model_id": "2983eb7434904b4aa47e14c4473449ca"
            }
          },
          "metadata": {}
        }
      ],
      "source": [
        "%spark -o twitter_graph_sdf"
      ]
    },
    {
      "cell_type": "code",
      "execution_count": 107,
      "metadata": {
        "id": "_K7U-RF4_eSv",
        "colab": {
          "base_uri": "https://localhost:8080/"
        },
        "outputId": "6fd8e2fc-b8a0-4e10-8581-4198114811a0"
      },
      "outputs": [
        {
          "output_type": "stream",
          "name": "stdout",
          "text": [
            "Correct! You earned 2/2 points. You are a star!\n",
            "\n",
            "Your submission has been successfully recorded in the gradebook.\n"
          ]
        }
      ],
      "source": [
        "grader.grade(test_case_id = 'checkTwitterGraph', answer = twitter_graph_sdf)"
      ]
    },
    {
      "cell_type": "markdown",
      "metadata": {
        "id": "duQ9JsnL_hqh"
      },
      "source": [
        "### 5.3: The Super Bacon Search [15 Pts]"
      ]
    },
    {
      "cell_type": "markdown",
      "metadata": {
        "id": "oQyp_EjeM_16"
      },
      "source": [
        "In the previous section, we found out that Patricia and Karen have been the most popular people for tour dataset. So let's find out the Super Bacons with respect to Karen."
      ]
    },
    {
      "cell_type": "code",
      "execution_count": 108,
      "metadata": {
        "id": "Tqt1cB3FnqZD",
        "colab": {
          "base_uri": "https://localhost:8080/",
          "height": 17,
          "referenced_widgets": [
            "76d25c3bef10418bb4a61fc137bf9bb1",
            "832df1638bac4b3b9497044d5477152e",
            "58c2d42440984ca58091c06a7c9d8fbc"
          ]
        },
        "outputId": "d2de6b4a-6a76-4a14-da8a-05066a427b7a"
      },
      "outputs": [
        {
          "output_type": "display_data",
          "data": {
            "text/plain": [
              "FloatProgress(value=0.0, bar_style='info', description='Progress:', layout=Layout(height='25px', width='50%'),…"
            ],
            "application/vnd.jupyter.widget-view+json": {
              "version_major": 2,
              "version_minor": 0,
              "model_id": "76d25c3bef10418bb4a61fc137bf9bb1"
            }
          },
          "metadata": {}
        }
      ],
      "source": [
        "%%spark\n",
        "orig = [{'node': 'Karen'}]"
      ]
    },
    {
      "cell_type": "code",
      "execution_count": 109,
      "metadata": {
        "id": "fqe1VsbLnuO_",
        "colab": {
          "base_uri": "https://localhost:8080/",
          "height": 410,
          "referenced_widgets": [
            "f92013d001c24162901f5dfdb5dd2b11",
            "7b833c165df84470a12d5e5c4e6dda5e",
            "9c2946ea2b9c4593b9d10e13b92bd76f"
          ]
        },
        "outputId": "5b528acd-e3e3-4f40-e9dd-f21e097e5d73"
      },
      "outputs": [
        {
          "output_type": "display_data",
          "data": {
            "text/plain": [
              "FloatProgress(value=0.0, bar_style='info', description='Progress:', layout=Layout(height='25px', width='50%'),…"
            ],
            "application/vnd.jupyter.widget-view+json": {
              "version_major": 2,
              "version_minor": 0,
              "model_id": "f92013d001c24162901f5dfdb5dd2b11"
            }
          },
          "metadata": {}
        },
        {
          "output_type": "stream",
          "name": "stdout",
          "text": [
            "+--------+--------+\n",
            "|    node|distance|\n",
            "+--------+--------+\n",
            "|  Ashley|       5|\n",
            "|Jennifer|       5|\n",
            "|   Nancy|       5|\n",
            "|   Sarah|       5|\n",
            "| Jessica|       5|\n",
            "|  Daniel|       4|\n",
            "| Anthony|       4|\n",
            "|   James|       4|\n",
            "| Barbara|       3|\n",
            "|    Lisa|       2|\n",
            "|Patricia|       2|\n",
            "| Charles|       1|\n",
            "|  Sandra|       1|\n",
            "|  Joseph|       1|\n",
            "|  Thomas|       1|\n",
            "|Margaret|       1|\n",
            "|   David|       1|\n",
            "|   Karen|       0|\n",
            "+--------+--------+"
          ]
        }
      ],
      "source": [
        "%%spark\n",
        "bfs_5 = spark_bfs(twitter_graph_sdf, orig, 5)\n",
        "bfs_5.show()"
      ]
    },
    {
      "cell_type": "code",
      "execution_count": 110,
      "metadata": {
        "id": "_bFCML1YnYmo",
        "colab": {
          "base_uri": "https://localhost:8080/",
          "height": 17,
          "referenced_widgets": [
            "626fc5b6ae4e42cfb5524b6aeaf63330",
            "044688a01a1b4309a851c9c06e425929",
            "7c2a3700643f4251abf6cce7a703290b",
            "4136a64fe7ac4306b6005b792e48bd30",
            "623669b8d24e4942a58de4accbb88588",
            "0e70ead1c20f4654ac41bccab944f3d2"
          ]
        },
        "outputId": "55af5d84-348c-4f9e-cc25-c24f2317efa9"
      },
      "outputs": [
        {
          "output_type": "display_data",
          "data": {
            "text/plain": [
              "FloatProgress(value=0.0, bar_style='info', description='Progress:', layout=Layout(height='25px', width='50%'),…"
            ],
            "application/vnd.jupyter.widget-view+json": {
              "version_major": 2,
              "version_minor": 0,
              "model_id": "626fc5b6ae4e42cfb5524b6aeaf63330"
            }
          },
          "metadata": {}
        },
        {
          "output_type": "display_data",
          "data": {
            "text/plain": [
              "FloatProgress(value=0.0, bar_style='info', description='Progress:', layout=Layout(height='25px', width='50%'),…"
            ],
            "application/vnd.jupyter.widget-view+json": {
              "version_major": 2,
              "version_minor": 0,
              "model_id": "4136a64fe7ac4306b6005b792e48bd30"
            }
          },
          "metadata": {}
        }
      ],
      "source": [
        "%spark -o bfs_5\n",
        "answer_df = bfs_5"
      ]
    },
    {
      "cell_type": "code",
      "execution_count": 111,
      "metadata": {
        "id": "-1IVMn3Q_rob",
        "colab": {
          "base_uri": "https://localhost:8080/"
        },
        "outputId": "de55e4c9-4bbb-4e63-caa7-4d38faa98139"
      },
      "outputs": [
        {
          "output_type": "stream",
          "name": "stdout",
          "text": [
            "Correct! You earned 15/15 points. You are a star!\n",
            "\n",
            "Your submission has been successfully recorded in the gradebook.\n"
          ]
        }
      ],
      "source": [
        "# 15 points\n",
        "grader.grade(test_case_id = 'checkBFS', answer = answer_df)"
      ]
    },
    {
      "cell_type": "markdown",
      "metadata": {
        "id": "EHVFHPVIrvu1"
      },
      "source": [
        "# HW Submission\n",
        "\n",
        "Before you submit on Gradescope (you must submit your notebook to receive credit):\n",
        "\n",
        "\n",
        "1.   Restart and Run-All to make sure there's nothing wrong with your notebook\n",
        "2.   **Double check that you have the correct PennID (all numbers) in the autograder**.\n",
        "3. Make sure you've run all the PennGrader cells\n",
        "4. Go to the \"File\" tab at the top left, and click \"Download .ipynb\" and then \"Download .py\".  **Rename** the files to \"homework3.ipynb\" and \"homework3.py\" respectively and upload them to Gradescope\n",
        "\n",
        "**Let the course staff know ASAP if you have any issues submitting, but otherwise best of luck!**"
      ]
    }
  ],
  "metadata": {
    "colab": {
      "provenance": []
    },
    "kernelspec": {
      "display_name": "Python 3",
      "name": "python3"
    },
    "language_info": {
      "name": "python"
    },
    "widgets": {
      "application/vnd.jupyter.widget-state+json": {
        "3afe6c113f944ee2902b29a7f089d860": {
          "model_module": "@jupyter-widgets/controls",
          "model_name": "FloatProgressModel",
          "model_module_version": "1.5.0",
          "state": {
            "_dom_classes": [],
            "_model_module": "@jupyter-widgets/controls",
            "_model_module_version": "1.5.0",
            "_model_name": "FloatProgressModel",
            "_view_count": null,
            "_view_module": "@jupyter-widgets/controls",
            "_view_module_version": "1.5.0",
            "_view_name": "ProgressView",
            "bar_style": "info",
            "description": "Progress:",
            "description_tooltip": null,
            "layout": "IPY_MODEL_318dc86d6c7545cbaf157d154b4fc6ff",
            "max": 1,
            "min": 0,
            "orientation": "horizontal",
            "style": "IPY_MODEL_a1b37bec7ae542c0b73f7350e194b21e",
            "value": 0
          }
        },
        "318dc86d6c7545cbaf157d154b4fc6ff": {
          "model_module": "@jupyter-widgets/base",
          "model_name": "LayoutModel",
          "model_module_version": "1.2.0",
          "state": {
            "_model_module": "@jupyter-widgets/base",
            "_model_module_version": "1.2.0",
            "_model_name": "LayoutModel",
            "_view_count": null,
            "_view_module": "@jupyter-widgets/base",
            "_view_module_version": "1.2.0",
            "_view_name": "LayoutView",
            "align_content": null,
            "align_items": null,
            "align_self": null,
            "border": null,
            "bottom": null,
            "display": null,
            "flex": null,
            "flex_flow": null,
            "grid_area": null,
            "grid_auto_columns": null,
            "grid_auto_flow": null,
            "grid_auto_rows": null,
            "grid_column": null,
            "grid_gap": null,
            "grid_row": null,
            "grid_template_areas": null,
            "grid_template_columns": null,
            "grid_template_rows": null,
            "height": "25px",
            "justify_content": null,
            "justify_items": null,
            "left": null,
            "margin": null,
            "max_height": null,
            "max_width": null,
            "min_height": null,
            "min_width": null,
            "object_fit": null,
            "object_position": null,
            "order": null,
            "overflow": null,
            "overflow_x": null,
            "overflow_y": null,
            "padding": null,
            "right": null,
            "top": null,
            "visibility": null,
            "width": "50%"
          }
        },
        "a1b37bec7ae542c0b73f7350e194b21e": {
          "model_module": "@jupyter-widgets/controls",
          "model_name": "ProgressStyleModel",
          "model_module_version": "1.5.0",
          "state": {
            "_model_module": "@jupyter-widgets/controls",
            "_model_module_version": "1.5.0",
            "_model_name": "ProgressStyleModel",
            "_view_count": null,
            "_view_module": "@jupyter-widgets/base",
            "_view_module_version": "1.2.0",
            "_view_name": "StyleView",
            "bar_color": null,
            "description_width": ""
          }
        },
        "ee850ec2cd9f41c6be1690eef18179f9": {
          "model_module": "@jupyter-widgets/controls",
          "model_name": "FloatProgressModel",
          "model_module_version": "1.5.0",
          "state": {
            "_dom_classes": [],
            "_model_module": "@jupyter-widgets/controls",
            "_model_module_version": "1.5.0",
            "_model_name": "FloatProgressModel",
            "_view_count": null,
            "_view_module": "@jupyter-widgets/controls",
            "_view_module_version": "1.5.0",
            "_view_name": "ProgressView",
            "bar_style": "info",
            "description": "Progress:",
            "description_tooltip": null,
            "layout": "IPY_MODEL_15f3bc5ce5064631a1ab5754bb76d176",
            "max": 1,
            "min": 0,
            "orientation": "horizontal",
            "style": "IPY_MODEL_9f7c2a6ff8a74e2ba36d3622c737ee20",
            "value": 0
          }
        },
        "15f3bc5ce5064631a1ab5754bb76d176": {
          "model_module": "@jupyter-widgets/base",
          "model_name": "LayoutModel",
          "model_module_version": "1.2.0",
          "state": {
            "_model_module": "@jupyter-widgets/base",
            "_model_module_version": "1.2.0",
            "_model_name": "LayoutModel",
            "_view_count": null,
            "_view_module": "@jupyter-widgets/base",
            "_view_module_version": "1.2.0",
            "_view_name": "LayoutView",
            "align_content": null,
            "align_items": null,
            "align_self": null,
            "border": null,
            "bottom": null,
            "display": null,
            "flex": null,
            "flex_flow": null,
            "grid_area": null,
            "grid_auto_columns": null,
            "grid_auto_flow": null,
            "grid_auto_rows": null,
            "grid_column": null,
            "grid_gap": null,
            "grid_row": null,
            "grid_template_areas": null,
            "grid_template_columns": null,
            "grid_template_rows": null,
            "height": "25px",
            "justify_content": null,
            "justify_items": null,
            "left": null,
            "margin": null,
            "max_height": null,
            "max_width": null,
            "min_height": null,
            "min_width": null,
            "object_fit": null,
            "object_position": null,
            "order": null,
            "overflow": null,
            "overflow_x": null,
            "overflow_y": null,
            "padding": null,
            "right": null,
            "top": null,
            "visibility": null,
            "width": "50%"
          }
        },
        "9f7c2a6ff8a74e2ba36d3622c737ee20": {
          "model_module": "@jupyter-widgets/controls",
          "model_name": "ProgressStyleModel",
          "model_module_version": "1.5.0",
          "state": {
            "_model_module": "@jupyter-widgets/controls",
            "_model_module_version": "1.5.0",
            "_model_name": "ProgressStyleModel",
            "_view_count": null,
            "_view_module": "@jupyter-widgets/base",
            "_view_module_version": "1.2.0",
            "_view_name": "StyleView",
            "bar_color": null,
            "description_width": ""
          }
        },
        "4da05470f42644cfa1ceaae59d205200": {
          "model_module": "@jupyter-widgets/controls",
          "model_name": "FloatProgressModel",
          "model_module_version": "1.5.0",
          "state": {
            "_dom_classes": [],
            "_model_module": "@jupyter-widgets/controls",
            "_model_module_version": "1.5.0",
            "_model_name": "FloatProgressModel",
            "_view_count": null,
            "_view_module": "@jupyter-widgets/controls",
            "_view_module_version": "1.5.0",
            "_view_name": "ProgressView",
            "bar_style": "info",
            "description": "Progress:",
            "description_tooltip": null,
            "layout": "IPY_MODEL_6509ad3b9fe949cd8dc644416a0919c8",
            "max": 1,
            "min": 0,
            "orientation": "horizontal",
            "style": "IPY_MODEL_67f6510f41a646a89b71572618575e2f",
            "value": 0
          }
        },
        "6509ad3b9fe949cd8dc644416a0919c8": {
          "model_module": "@jupyter-widgets/base",
          "model_name": "LayoutModel",
          "model_module_version": "1.2.0",
          "state": {
            "_model_module": "@jupyter-widgets/base",
            "_model_module_version": "1.2.0",
            "_model_name": "LayoutModel",
            "_view_count": null,
            "_view_module": "@jupyter-widgets/base",
            "_view_module_version": "1.2.0",
            "_view_name": "LayoutView",
            "align_content": null,
            "align_items": null,
            "align_self": null,
            "border": null,
            "bottom": null,
            "display": null,
            "flex": null,
            "flex_flow": null,
            "grid_area": null,
            "grid_auto_columns": null,
            "grid_auto_flow": null,
            "grid_auto_rows": null,
            "grid_column": null,
            "grid_gap": null,
            "grid_row": null,
            "grid_template_areas": null,
            "grid_template_columns": null,
            "grid_template_rows": null,
            "height": "25px",
            "justify_content": null,
            "justify_items": null,
            "left": null,
            "margin": null,
            "max_height": null,
            "max_width": null,
            "min_height": null,
            "min_width": null,
            "object_fit": null,
            "object_position": null,
            "order": null,
            "overflow": null,
            "overflow_x": null,
            "overflow_y": null,
            "padding": null,
            "right": null,
            "top": null,
            "visibility": null,
            "width": "50%"
          }
        },
        "67f6510f41a646a89b71572618575e2f": {
          "model_module": "@jupyter-widgets/controls",
          "model_name": "ProgressStyleModel",
          "model_module_version": "1.5.0",
          "state": {
            "_model_module": "@jupyter-widgets/controls",
            "_model_module_version": "1.5.0",
            "_model_name": "ProgressStyleModel",
            "_view_count": null,
            "_view_module": "@jupyter-widgets/base",
            "_view_module_version": "1.2.0",
            "_view_name": "StyleView",
            "bar_color": null,
            "description_width": ""
          }
        },
        "c81c869ae51d4f878863016e80e031f8": {
          "model_module": "@jupyter-widgets/controls",
          "model_name": "FloatProgressModel",
          "model_module_version": "1.5.0",
          "state": {
            "_dom_classes": [],
            "_model_module": "@jupyter-widgets/controls",
            "_model_module_version": "1.5.0",
            "_model_name": "FloatProgressModel",
            "_view_count": null,
            "_view_module": "@jupyter-widgets/controls",
            "_view_module_version": "1.5.0",
            "_view_name": "ProgressView",
            "bar_style": "info",
            "description": "Progress:",
            "description_tooltip": null,
            "layout": "IPY_MODEL_e1e96a50b2ff4eb4a19a55a50e7f66b3",
            "max": 1,
            "min": 0,
            "orientation": "horizontal",
            "style": "IPY_MODEL_bccbacb9da4943468fefdd9497665248",
            "value": 0
          }
        },
        "e1e96a50b2ff4eb4a19a55a50e7f66b3": {
          "model_module": "@jupyter-widgets/base",
          "model_name": "LayoutModel",
          "model_module_version": "1.2.0",
          "state": {
            "_model_module": "@jupyter-widgets/base",
            "_model_module_version": "1.2.0",
            "_model_name": "LayoutModel",
            "_view_count": null,
            "_view_module": "@jupyter-widgets/base",
            "_view_module_version": "1.2.0",
            "_view_name": "LayoutView",
            "align_content": null,
            "align_items": null,
            "align_self": null,
            "border": null,
            "bottom": null,
            "display": null,
            "flex": null,
            "flex_flow": null,
            "grid_area": null,
            "grid_auto_columns": null,
            "grid_auto_flow": null,
            "grid_auto_rows": null,
            "grid_column": null,
            "grid_gap": null,
            "grid_row": null,
            "grid_template_areas": null,
            "grid_template_columns": null,
            "grid_template_rows": null,
            "height": "25px",
            "justify_content": null,
            "justify_items": null,
            "left": null,
            "margin": null,
            "max_height": null,
            "max_width": null,
            "min_height": null,
            "min_width": null,
            "object_fit": null,
            "object_position": null,
            "order": null,
            "overflow": null,
            "overflow_x": null,
            "overflow_y": null,
            "padding": null,
            "right": null,
            "top": null,
            "visibility": null,
            "width": "50%"
          }
        },
        "bccbacb9da4943468fefdd9497665248": {
          "model_module": "@jupyter-widgets/controls",
          "model_name": "ProgressStyleModel",
          "model_module_version": "1.5.0",
          "state": {
            "_model_module": "@jupyter-widgets/controls",
            "_model_module_version": "1.5.0",
            "_model_name": "ProgressStyleModel",
            "_view_count": null,
            "_view_module": "@jupyter-widgets/base",
            "_view_module_version": "1.2.0",
            "_view_name": "StyleView",
            "bar_color": null,
            "description_width": ""
          }
        },
        "812ff73d62ed41a2bb9a70695afa56d3": {
          "model_module": "@jupyter-widgets/controls",
          "model_name": "FloatProgressModel",
          "model_module_version": "1.5.0",
          "state": {
            "_dom_classes": [],
            "_model_module": "@jupyter-widgets/controls",
            "_model_module_version": "1.5.0",
            "_model_name": "FloatProgressModel",
            "_view_count": null,
            "_view_module": "@jupyter-widgets/controls",
            "_view_module_version": "1.5.0",
            "_view_name": "ProgressView",
            "bar_style": "info",
            "description": "Progress:",
            "description_tooltip": null,
            "layout": "IPY_MODEL_1c6a6153eece4d3eae1d7b5c841e0a88",
            "max": 1,
            "min": 0,
            "orientation": "horizontal",
            "style": "IPY_MODEL_15e82014925a4ee89bb61edfb09c311d",
            "value": 0
          }
        },
        "1c6a6153eece4d3eae1d7b5c841e0a88": {
          "model_module": "@jupyter-widgets/base",
          "model_name": "LayoutModel",
          "model_module_version": "1.2.0",
          "state": {
            "_model_module": "@jupyter-widgets/base",
            "_model_module_version": "1.2.0",
            "_model_name": "LayoutModel",
            "_view_count": null,
            "_view_module": "@jupyter-widgets/base",
            "_view_module_version": "1.2.0",
            "_view_name": "LayoutView",
            "align_content": null,
            "align_items": null,
            "align_self": null,
            "border": null,
            "bottom": null,
            "display": null,
            "flex": null,
            "flex_flow": null,
            "grid_area": null,
            "grid_auto_columns": null,
            "grid_auto_flow": null,
            "grid_auto_rows": null,
            "grid_column": null,
            "grid_gap": null,
            "grid_row": null,
            "grid_template_areas": null,
            "grid_template_columns": null,
            "grid_template_rows": null,
            "height": "25px",
            "justify_content": null,
            "justify_items": null,
            "left": null,
            "margin": null,
            "max_height": null,
            "max_width": null,
            "min_height": null,
            "min_width": null,
            "object_fit": null,
            "object_position": null,
            "order": null,
            "overflow": null,
            "overflow_x": null,
            "overflow_y": null,
            "padding": null,
            "right": null,
            "top": null,
            "visibility": null,
            "width": "50%"
          }
        },
        "15e82014925a4ee89bb61edfb09c311d": {
          "model_module": "@jupyter-widgets/controls",
          "model_name": "ProgressStyleModel",
          "model_module_version": "1.5.0",
          "state": {
            "_model_module": "@jupyter-widgets/controls",
            "_model_module_version": "1.5.0",
            "_model_name": "ProgressStyleModel",
            "_view_count": null,
            "_view_module": "@jupyter-widgets/base",
            "_view_module_version": "1.2.0",
            "_view_name": "StyleView",
            "bar_color": null,
            "description_width": ""
          }
        },
        "735be3571ebe46a29b88b51e75988e23": {
          "model_module": "@jupyter-widgets/controls",
          "model_name": "FloatProgressModel",
          "model_module_version": "1.5.0",
          "state": {
            "_dom_classes": [],
            "_model_module": "@jupyter-widgets/controls",
            "_model_module_version": "1.5.0",
            "_model_name": "FloatProgressModel",
            "_view_count": null,
            "_view_module": "@jupyter-widgets/controls",
            "_view_module_version": "1.5.0",
            "_view_name": "ProgressView",
            "bar_style": "info",
            "description": "Progress:",
            "description_tooltip": null,
            "layout": "IPY_MODEL_ce98f231d0e14eaaa3567d5934c52114",
            "max": 1,
            "min": 0,
            "orientation": "horizontal",
            "style": "IPY_MODEL_eb66691906104f699f78676739a5b4c4",
            "value": 1
          }
        },
        "ce98f231d0e14eaaa3567d5934c52114": {
          "model_module": "@jupyter-widgets/base",
          "model_name": "LayoutModel",
          "model_module_version": "1.2.0",
          "state": {
            "_model_module": "@jupyter-widgets/base",
            "_model_module_version": "1.2.0",
            "_model_name": "LayoutModel",
            "_view_count": null,
            "_view_module": "@jupyter-widgets/base",
            "_view_module_version": "1.2.0",
            "_view_name": "LayoutView",
            "align_content": null,
            "align_items": null,
            "align_self": null,
            "border": null,
            "bottom": null,
            "display": null,
            "flex": null,
            "flex_flow": null,
            "grid_area": null,
            "grid_auto_columns": null,
            "grid_auto_flow": null,
            "grid_auto_rows": null,
            "grid_column": null,
            "grid_gap": null,
            "grid_row": null,
            "grid_template_areas": null,
            "grid_template_columns": null,
            "grid_template_rows": null,
            "height": "25px",
            "justify_content": null,
            "justify_items": null,
            "left": null,
            "margin": null,
            "max_height": null,
            "max_width": null,
            "min_height": null,
            "min_width": null,
            "object_fit": null,
            "object_position": null,
            "order": null,
            "overflow": null,
            "overflow_x": null,
            "overflow_y": null,
            "padding": null,
            "right": null,
            "top": null,
            "visibility": null,
            "width": "50%"
          }
        },
        "eb66691906104f699f78676739a5b4c4": {
          "model_module": "@jupyter-widgets/controls",
          "model_name": "ProgressStyleModel",
          "model_module_version": "1.5.0",
          "state": {
            "_model_module": "@jupyter-widgets/controls",
            "_model_module_version": "1.5.0",
            "_model_name": "ProgressStyleModel",
            "_view_count": null,
            "_view_module": "@jupyter-widgets/base",
            "_view_module_version": "1.2.0",
            "_view_name": "StyleView",
            "bar_color": null,
            "description_width": ""
          }
        },
        "b33e406a09f24b08b3e3792f3a0fdf7e": {
          "model_module": "@jupyter-widgets/controls",
          "model_name": "FloatProgressModel",
          "model_module_version": "1.5.0",
          "state": {
            "_dom_classes": [],
            "_model_module": "@jupyter-widgets/controls",
            "_model_module_version": "1.5.0",
            "_model_name": "FloatProgressModel",
            "_view_count": null,
            "_view_module": "@jupyter-widgets/controls",
            "_view_module_version": "1.5.0",
            "_view_name": "ProgressView",
            "bar_style": "info",
            "description": "Progress:",
            "description_tooltip": null,
            "layout": "IPY_MODEL_018b29c315a54cdeac8c3f3e28817430",
            "max": 1,
            "min": 0,
            "orientation": "horizontal",
            "style": "IPY_MODEL_af1d72a6a45946c9ad50ce6cda497242",
            "value": 0.75
          }
        },
        "018b29c315a54cdeac8c3f3e28817430": {
          "model_module": "@jupyter-widgets/base",
          "model_name": "LayoutModel",
          "model_module_version": "1.2.0",
          "state": {
            "_model_module": "@jupyter-widgets/base",
            "_model_module_version": "1.2.0",
            "_model_name": "LayoutModel",
            "_view_count": null,
            "_view_module": "@jupyter-widgets/base",
            "_view_module_version": "1.2.0",
            "_view_name": "LayoutView",
            "align_content": null,
            "align_items": null,
            "align_self": null,
            "border": null,
            "bottom": null,
            "display": null,
            "flex": null,
            "flex_flow": null,
            "grid_area": null,
            "grid_auto_columns": null,
            "grid_auto_flow": null,
            "grid_auto_rows": null,
            "grid_column": null,
            "grid_gap": null,
            "grid_row": null,
            "grid_template_areas": null,
            "grid_template_columns": null,
            "grid_template_rows": null,
            "height": "25px",
            "justify_content": null,
            "justify_items": null,
            "left": null,
            "margin": null,
            "max_height": null,
            "max_width": null,
            "min_height": null,
            "min_width": null,
            "object_fit": null,
            "object_position": null,
            "order": null,
            "overflow": null,
            "overflow_x": null,
            "overflow_y": null,
            "padding": null,
            "right": null,
            "top": null,
            "visibility": null,
            "width": "50%"
          }
        },
        "af1d72a6a45946c9ad50ce6cda497242": {
          "model_module": "@jupyter-widgets/controls",
          "model_name": "ProgressStyleModel",
          "model_module_version": "1.5.0",
          "state": {
            "_model_module": "@jupyter-widgets/controls",
            "_model_module_version": "1.5.0",
            "_model_name": "ProgressStyleModel",
            "_view_count": null,
            "_view_module": "@jupyter-widgets/base",
            "_view_module_version": "1.2.0",
            "_view_name": "StyleView",
            "bar_color": null,
            "description_width": ""
          }
        },
        "4fd8f1f002154c2bbefd83e8ae974ff4": {
          "model_module": "@jupyter-widgets/controls",
          "model_name": "FloatProgressModel",
          "model_module_version": "1.5.0",
          "state": {
            "_dom_classes": [],
            "_model_module": "@jupyter-widgets/controls",
            "_model_module_version": "1.5.0",
            "_model_name": "FloatProgressModel",
            "_view_count": null,
            "_view_module": "@jupyter-widgets/controls",
            "_view_module_version": "1.5.0",
            "_view_name": "ProgressView",
            "bar_style": "info",
            "description": "Progress:",
            "description_tooltip": null,
            "layout": "IPY_MODEL_a60258c5b44b4579b5a3ab55f5f9d49a",
            "max": 1,
            "min": 0,
            "orientation": "horizontal",
            "style": "IPY_MODEL_86b78dfd61e34357b72f69f6691ae750",
            "value": 0
          }
        },
        "a60258c5b44b4579b5a3ab55f5f9d49a": {
          "model_module": "@jupyter-widgets/base",
          "model_name": "LayoutModel",
          "model_module_version": "1.2.0",
          "state": {
            "_model_module": "@jupyter-widgets/base",
            "_model_module_version": "1.2.0",
            "_model_name": "LayoutModel",
            "_view_count": null,
            "_view_module": "@jupyter-widgets/base",
            "_view_module_version": "1.2.0",
            "_view_name": "LayoutView",
            "align_content": null,
            "align_items": null,
            "align_self": null,
            "border": null,
            "bottom": null,
            "display": null,
            "flex": null,
            "flex_flow": null,
            "grid_area": null,
            "grid_auto_columns": null,
            "grid_auto_flow": null,
            "grid_auto_rows": null,
            "grid_column": null,
            "grid_gap": null,
            "grid_row": null,
            "grid_template_areas": null,
            "grid_template_columns": null,
            "grid_template_rows": null,
            "height": "25px",
            "justify_content": null,
            "justify_items": null,
            "left": null,
            "margin": null,
            "max_height": null,
            "max_width": null,
            "min_height": null,
            "min_width": null,
            "object_fit": null,
            "object_position": null,
            "order": null,
            "overflow": null,
            "overflow_x": null,
            "overflow_y": null,
            "padding": null,
            "right": null,
            "top": null,
            "visibility": null,
            "width": "50%"
          }
        },
        "86b78dfd61e34357b72f69f6691ae750": {
          "model_module": "@jupyter-widgets/controls",
          "model_name": "ProgressStyleModel",
          "model_module_version": "1.5.0",
          "state": {
            "_model_module": "@jupyter-widgets/controls",
            "_model_module_version": "1.5.0",
            "_model_name": "ProgressStyleModel",
            "_view_count": null,
            "_view_module": "@jupyter-widgets/base",
            "_view_module_version": "1.2.0",
            "_view_name": "StyleView",
            "bar_color": null,
            "description_width": ""
          }
        },
        "cfaabe02f53745828d4d2998438a74cd": {
          "model_module": "@jupyter-widgets/controls",
          "model_name": "FloatProgressModel",
          "model_module_version": "1.5.0",
          "state": {
            "_dom_classes": [],
            "_model_module": "@jupyter-widgets/controls",
            "_model_module_version": "1.5.0",
            "_model_name": "FloatProgressModel",
            "_view_count": null,
            "_view_module": "@jupyter-widgets/controls",
            "_view_module_version": "1.5.0",
            "_view_name": "ProgressView",
            "bar_style": "info",
            "description": "Progress:",
            "description_tooltip": null,
            "layout": "IPY_MODEL_1e7267f4368d4da492fe347d8cdd2f8e",
            "max": 1,
            "min": 0,
            "orientation": "horizontal",
            "style": "IPY_MODEL_2a62453c639143f7a85420d15186ad06",
            "value": 0.6
          }
        },
        "1e7267f4368d4da492fe347d8cdd2f8e": {
          "model_module": "@jupyter-widgets/base",
          "model_name": "LayoutModel",
          "model_module_version": "1.2.0",
          "state": {
            "_model_module": "@jupyter-widgets/base",
            "_model_module_version": "1.2.0",
            "_model_name": "LayoutModel",
            "_view_count": null,
            "_view_module": "@jupyter-widgets/base",
            "_view_module_version": "1.2.0",
            "_view_name": "LayoutView",
            "align_content": null,
            "align_items": null,
            "align_self": null,
            "border": null,
            "bottom": null,
            "display": null,
            "flex": null,
            "flex_flow": null,
            "grid_area": null,
            "grid_auto_columns": null,
            "grid_auto_flow": null,
            "grid_auto_rows": null,
            "grid_column": null,
            "grid_gap": null,
            "grid_row": null,
            "grid_template_areas": null,
            "grid_template_columns": null,
            "grid_template_rows": null,
            "height": "25px",
            "justify_content": null,
            "justify_items": null,
            "left": null,
            "margin": null,
            "max_height": null,
            "max_width": null,
            "min_height": null,
            "min_width": null,
            "object_fit": null,
            "object_position": null,
            "order": null,
            "overflow": null,
            "overflow_x": null,
            "overflow_y": null,
            "padding": null,
            "right": null,
            "top": null,
            "visibility": null,
            "width": "50%"
          }
        },
        "2a62453c639143f7a85420d15186ad06": {
          "model_module": "@jupyter-widgets/controls",
          "model_name": "ProgressStyleModel",
          "model_module_version": "1.5.0",
          "state": {
            "_model_module": "@jupyter-widgets/controls",
            "_model_module_version": "1.5.0",
            "_model_name": "ProgressStyleModel",
            "_view_count": null,
            "_view_module": "@jupyter-widgets/base",
            "_view_module_version": "1.2.0",
            "_view_name": "StyleView",
            "bar_color": null,
            "description_width": ""
          }
        },
        "8174370d8ac24e909d9f302e5bf12761": {
          "model_module": "@jupyter-widgets/controls",
          "model_name": "FloatProgressModel",
          "model_module_version": "1.5.0",
          "state": {
            "_dom_classes": [],
            "_model_module": "@jupyter-widgets/controls",
            "_model_module_version": "1.5.0",
            "_model_name": "FloatProgressModel",
            "_view_count": null,
            "_view_module": "@jupyter-widgets/controls",
            "_view_module_version": "1.5.0",
            "_view_name": "ProgressView",
            "bar_style": "info",
            "description": "Progress:",
            "description_tooltip": null,
            "layout": "IPY_MODEL_62647a054a5a470e9ff8030b07e37c00",
            "max": 1,
            "min": 0,
            "orientation": "horizontal",
            "style": "IPY_MODEL_94ae63be9f65432eb25cc34172acbb00",
            "value": 0.25
          }
        },
        "62647a054a5a470e9ff8030b07e37c00": {
          "model_module": "@jupyter-widgets/base",
          "model_name": "LayoutModel",
          "model_module_version": "1.2.0",
          "state": {
            "_model_module": "@jupyter-widgets/base",
            "_model_module_version": "1.2.0",
            "_model_name": "LayoutModel",
            "_view_count": null,
            "_view_module": "@jupyter-widgets/base",
            "_view_module_version": "1.2.0",
            "_view_name": "LayoutView",
            "align_content": null,
            "align_items": null,
            "align_self": null,
            "border": null,
            "bottom": null,
            "display": null,
            "flex": null,
            "flex_flow": null,
            "grid_area": null,
            "grid_auto_columns": null,
            "grid_auto_flow": null,
            "grid_auto_rows": null,
            "grid_column": null,
            "grid_gap": null,
            "grid_row": null,
            "grid_template_areas": null,
            "grid_template_columns": null,
            "grid_template_rows": null,
            "height": "25px",
            "justify_content": null,
            "justify_items": null,
            "left": null,
            "margin": null,
            "max_height": null,
            "max_width": null,
            "min_height": null,
            "min_width": null,
            "object_fit": null,
            "object_position": null,
            "order": null,
            "overflow": null,
            "overflow_x": null,
            "overflow_y": null,
            "padding": null,
            "right": null,
            "top": null,
            "visibility": null,
            "width": "50%"
          }
        },
        "94ae63be9f65432eb25cc34172acbb00": {
          "model_module": "@jupyter-widgets/controls",
          "model_name": "ProgressStyleModel",
          "model_module_version": "1.5.0",
          "state": {
            "_model_module": "@jupyter-widgets/controls",
            "_model_module_version": "1.5.0",
            "_model_name": "ProgressStyleModel",
            "_view_count": null,
            "_view_module": "@jupyter-widgets/base",
            "_view_module_version": "1.2.0",
            "_view_name": "StyleView",
            "bar_color": null,
            "description_width": ""
          }
        },
        "e85b464d54a9461eacb45111732d9ddc": {
          "model_module": "@jupyter-widgets/controls",
          "model_name": "FloatProgressModel",
          "model_module_version": "1.5.0",
          "state": {
            "_dom_classes": [],
            "_model_module": "@jupyter-widgets/controls",
            "_model_module_version": "1.5.0",
            "_model_name": "FloatProgressModel",
            "_view_count": null,
            "_view_module": "@jupyter-widgets/controls",
            "_view_module_version": "1.5.0",
            "_view_name": "ProgressView",
            "bar_style": "info",
            "description": "Progress:",
            "description_tooltip": null,
            "layout": "IPY_MODEL_782d603d7dbe4a30b2009c38cd122105",
            "max": 1,
            "min": 0,
            "orientation": "horizontal",
            "style": "IPY_MODEL_85075a7f628f4c07b121ee5bf430decc",
            "value": 0
          }
        },
        "782d603d7dbe4a30b2009c38cd122105": {
          "model_module": "@jupyter-widgets/base",
          "model_name": "LayoutModel",
          "model_module_version": "1.2.0",
          "state": {
            "_model_module": "@jupyter-widgets/base",
            "_model_module_version": "1.2.0",
            "_model_name": "LayoutModel",
            "_view_count": null,
            "_view_module": "@jupyter-widgets/base",
            "_view_module_version": "1.2.0",
            "_view_name": "LayoutView",
            "align_content": null,
            "align_items": null,
            "align_self": null,
            "border": null,
            "bottom": null,
            "display": null,
            "flex": null,
            "flex_flow": null,
            "grid_area": null,
            "grid_auto_columns": null,
            "grid_auto_flow": null,
            "grid_auto_rows": null,
            "grid_column": null,
            "grid_gap": null,
            "grid_row": null,
            "grid_template_areas": null,
            "grid_template_columns": null,
            "grid_template_rows": null,
            "height": "25px",
            "justify_content": null,
            "justify_items": null,
            "left": null,
            "margin": null,
            "max_height": null,
            "max_width": null,
            "min_height": null,
            "min_width": null,
            "object_fit": null,
            "object_position": null,
            "order": null,
            "overflow": null,
            "overflow_x": null,
            "overflow_y": null,
            "padding": null,
            "right": null,
            "top": null,
            "visibility": null,
            "width": "50%"
          }
        },
        "85075a7f628f4c07b121ee5bf430decc": {
          "model_module": "@jupyter-widgets/controls",
          "model_name": "ProgressStyleModel",
          "model_module_version": "1.5.0",
          "state": {
            "_model_module": "@jupyter-widgets/controls",
            "_model_module_version": "1.5.0",
            "_model_name": "ProgressStyleModel",
            "_view_count": null,
            "_view_module": "@jupyter-widgets/base",
            "_view_module_version": "1.2.0",
            "_view_name": "StyleView",
            "bar_color": null,
            "description_width": ""
          }
        },
        "10b4af9172bd47f2a69b6aa1423dc396": {
          "model_module": "@jupyter-widgets/controls",
          "model_name": "FloatProgressModel",
          "model_module_version": "1.5.0",
          "state": {
            "_dom_classes": [],
            "_model_module": "@jupyter-widgets/controls",
            "_model_module_version": "1.5.0",
            "_model_name": "FloatProgressModel",
            "_view_count": null,
            "_view_module": "@jupyter-widgets/controls",
            "_view_module_version": "1.5.0",
            "_view_name": "ProgressView",
            "bar_style": "info",
            "description": "Progress:",
            "description_tooltip": null,
            "layout": "IPY_MODEL_a9a2c36d81cf47268e4c7fffb34845ee",
            "max": 1,
            "min": 0,
            "orientation": "horizontal",
            "style": "IPY_MODEL_b4427348948b4973a4e5e4f9e983ca61",
            "value": 0.6
          }
        },
        "a9a2c36d81cf47268e4c7fffb34845ee": {
          "model_module": "@jupyter-widgets/base",
          "model_name": "LayoutModel",
          "model_module_version": "1.2.0",
          "state": {
            "_model_module": "@jupyter-widgets/base",
            "_model_module_version": "1.2.0",
            "_model_name": "LayoutModel",
            "_view_count": null,
            "_view_module": "@jupyter-widgets/base",
            "_view_module_version": "1.2.0",
            "_view_name": "LayoutView",
            "align_content": null,
            "align_items": null,
            "align_self": null,
            "border": null,
            "bottom": null,
            "display": null,
            "flex": null,
            "flex_flow": null,
            "grid_area": null,
            "grid_auto_columns": null,
            "grid_auto_flow": null,
            "grid_auto_rows": null,
            "grid_column": null,
            "grid_gap": null,
            "grid_row": null,
            "grid_template_areas": null,
            "grid_template_columns": null,
            "grid_template_rows": null,
            "height": "25px",
            "justify_content": null,
            "justify_items": null,
            "left": null,
            "margin": null,
            "max_height": null,
            "max_width": null,
            "min_height": null,
            "min_width": null,
            "object_fit": null,
            "object_position": null,
            "order": null,
            "overflow": null,
            "overflow_x": null,
            "overflow_y": null,
            "padding": null,
            "right": null,
            "top": null,
            "visibility": null,
            "width": "50%"
          }
        },
        "b4427348948b4973a4e5e4f9e983ca61": {
          "model_module": "@jupyter-widgets/controls",
          "model_name": "ProgressStyleModel",
          "model_module_version": "1.5.0",
          "state": {
            "_model_module": "@jupyter-widgets/controls",
            "_model_module_version": "1.5.0",
            "_model_name": "ProgressStyleModel",
            "_view_count": null,
            "_view_module": "@jupyter-widgets/base",
            "_view_module_version": "1.2.0",
            "_view_name": "StyleView",
            "bar_color": null,
            "description_width": ""
          }
        },
        "c5e7fef7d0b64d828815c1f8a26e31b7": {
          "model_module": "@jupyter-widgets/controls",
          "model_name": "FloatProgressModel",
          "model_module_version": "1.5.0",
          "state": {
            "_dom_classes": [],
            "_model_module": "@jupyter-widgets/controls",
            "_model_module_version": "1.5.0",
            "_model_name": "FloatProgressModel",
            "_view_count": null,
            "_view_module": "@jupyter-widgets/controls",
            "_view_module_version": "1.5.0",
            "_view_name": "ProgressView",
            "bar_style": "info",
            "description": "Progress:",
            "description_tooltip": null,
            "layout": "IPY_MODEL_b1e4e71632824f358fa92fe0e71b92fe",
            "max": 1,
            "min": 0,
            "orientation": "horizontal",
            "style": "IPY_MODEL_91e96653fa644dbcb8f3c09d0d4e95bd",
            "value": 0
          }
        },
        "b1e4e71632824f358fa92fe0e71b92fe": {
          "model_module": "@jupyter-widgets/base",
          "model_name": "LayoutModel",
          "model_module_version": "1.2.0",
          "state": {
            "_model_module": "@jupyter-widgets/base",
            "_model_module_version": "1.2.0",
            "_model_name": "LayoutModel",
            "_view_count": null,
            "_view_module": "@jupyter-widgets/base",
            "_view_module_version": "1.2.0",
            "_view_name": "LayoutView",
            "align_content": null,
            "align_items": null,
            "align_self": null,
            "border": null,
            "bottom": null,
            "display": null,
            "flex": null,
            "flex_flow": null,
            "grid_area": null,
            "grid_auto_columns": null,
            "grid_auto_flow": null,
            "grid_auto_rows": null,
            "grid_column": null,
            "grid_gap": null,
            "grid_row": null,
            "grid_template_areas": null,
            "grid_template_columns": null,
            "grid_template_rows": null,
            "height": "25px",
            "justify_content": null,
            "justify_items": null,
            "left": null,
            "margin": null,
            "max_height": null,
            "max_width": null,
            "min_height": null,
            "min_width": null,
            "object_fit": null,
            "object_position": null,
            "order": null,
            "overflow": null,
            "overflow_x": null,
            "overflow_y": null,
            "padding": null,
            "right": null,
            "top": null,
            "visibility": null,
            "width": "50%"
          }
        },
        "91e96653fa644dbcb8f3c09d0d4e95bd": {
          "model_module": "@jupyter-widgets/controls",
          "model_name": "ProgressStyleModel",
          "model_module_version": "1.5.0",
          "state": {
            "_model_module": "@jupyter-widgets/controls",
            "_model_module_version": "1.5.0",
            "_model_name": "ProgressStyleModel",
            "_view_count": null,
            "_view_module": "@jupyter-widgets/base",
            "_view_module_version": "1.2.0",
            "_view_name": "StyleView",
            "bar_color": null,
            "description_width": ""
          }
        },
        "d32ade01d7ae47a68ebe9046a488b138": {
          "model_module": "@jupyter-widgets/controls",
          "model_name": "FloatProgressModel",
          "model_module_version": "1.5.0",
          "state": {
            "_dom_classes": [],
            "_model_module": "@jupyter-widgets/controls",
            "_model_module_version": "1.5.0",
            "_model_name": "FloatProgressModel",
            "_view_count": null,
            "_view_module": "@jupyter-widgets/controls",
            "_view_module_version": "1.5.0",
            "_view_name": "ProgressView",
            "bar_style": "info",
            "description": "Progress:",
            "description_tooltip": null,
            "layout": "IPY_MODEL_d5eb745a63b74bd7afccd075a5f3dc76",
            "max": 1,
            "min": 0,
            "orientation": "horizontal",
            "style": "IPY_MODEL_ac13dec6282b4df0aa36bc41525c1033",
            "value": 0
          }
        },
        "d5eb745a63b74bd7afccd075a5f3dc76": {
          "model_module": "@jupyter-widgets/base",
          "model_name": "LayoutModel",
          "model_module_version": "1.2.0",
          "state": {
            "_model_module": "@jupyter-widgets/base",
            "_model_module_version": "1.2.0",
            "_model_name": "LayoutModel",
            "_view_count": null,
            "_view_module": "@jupyter-widgets/base",
            "_view_module_version": "1.2.0",
            "_view_name": "LayoutView",
            "align_content": null,
            "align_items": null,
            "align_self": null,
            "border": null,
            "bottom": null,
            "display": null,
            "flex": null,
            "flex_flow": null,
            "grid_area": null,
            "grid_auto_columns": null,
            "grid_auto_flow": null,
            "grid_auto_rows": null,
            "grid_column": null,
            "grid_gap": null,
            "grid_row": null,
            "grid_template_areas": null,
            "grid_template_columns": null,
            "grid_template_rows": null,
            "height": "25px",
            "justify_content": null,
            "justify_items": null,
            "left": null,
            "margin": null,
            "max_height": null,
            "max_width": null,
            "min_height": null,
            "min_width": null,
            "object_fit": null,
            "object_position": null,
            "order": null,
            "overflow": null,
            "overflow_x": null,
            "overflow_y": null,
            "padding": null,
            "right": null,
            "top": null,
            "visibility": null,
            "width": "50%"
          }
        },
        "ac13dec6282b4df0aa36bc41525c1033": {
          "model_module": "@jupyter-widgets/controls",
          "model_name": "ProgressStyleModel",
          "model_module_version": "1.5.0",
          "state": {
            "_model_module": "@jupyter-widgets/controls",
            "_model_module_version": "1.5.0",
            "_model_name": "ProgressStyleModel",
            "_view_count": null,
            "_view_module": "@jupyter-widgets/base",
            "_view_module_version": "1.2.0",
            "_view_name": "StyleView",
            "bar_color": null,
            "description_width": ""
          }
        },
        "fa97b1163727472399cadce9f7224f97": {
          "model_module": "@jupyter-widgets/controls",
          "model_name": "FloatProgressModel",
          "model_module_version": "1.5.0",
          "state": {
            "_dom_classes": [],
            "_model_module": "@jupyter-widgets/controls",
            "_model_module_version": "1.5.0",
            "_model_name": "FloatProgressModel",
            "_view_count": null,
            "_view_module": "@jupyter-widgets/controls",
            "_view_module_version": "1.5.0",
            "_view_name": "ProgressView",
            "bar_style": "info",
            "description": "Progress:",
            "description_tooltip": null,
            "layout": "IPY_MODEL_1618af02e27c4d5fb5288b9673ea17c1",
            "max": 1,
            "min": 0,
            "orientation": "horizontal",
            "style": "IPY_MODEL_d5cd58f54a9a4d1f9de0bc99b97bdef2",
            "value": 0
          }
        },
        "1618af02e27c4d5fb5288b9673ea17c1": {
          "model_module": "@jupyter-widgets/base",
          "model_name": "LayoutModel",
          "model_module_version": "1.2.0",
          "state": {
            "_model_module": "@jupyter-widgets/base",
            "_model_module_version": "1.2.0",
            "_model_name": "LayoutModel",
            "_view_count": null,
            "_view_module": "@jupyter-widgets/base",
            "_view_module_version": "1.2.0",
            "_view_name": "LayoutView",
            "align_content": null,
            "align_items": null,
            "align_self": null,
            "border": null,
            "bottom": null,
            "display": null,
            "flex": null,
            "flex_flow": null,
            "grid_area": null,
            "grid_auto_columns": null,
            "grid_auto_flow": null,
            "grid_auto_rows": null,
            "grid_column": null,
            "grid_gap": null,
            "grid_row": null,
            "grid_template_areas": null,
            "grid_template_columns": null,
            "grid_template_rows": null,
            "height": "25px",
            "justify_content": null,
            "justify_items": null,
            "left": null,
            "margin": null,
            "max_height": null,
            "max_width": null,
            "min_height": null,
            "min_width": null,
            "object_fit": null,
            "object_position": null,
            "order": null,
            "overflow": null,
            "overflow_x": null,
            "overflow_y": null,
            "padding": null,
            "right": null,
            "top": null,
            "visibility": null,
            "width": "50%"
          }
        },
        "d5cd58f54a9a4d1f9de0bc99b97bdef2": {
          "model_module": "@jupyter-widgets/controls",
          "model_name": "ProgressStyleModel",
          "model_module_version": "1.5.0",
          "state": {
            "_model_module": "@jupyter-widgets/controls",
            "_model_module_version": "1.5.0",
            "_model_name": "ProgressStyleModel",
            "_view_count": null,
            "_view_module": "@jupyter-widgets/base",
            "_view_module_version": "1.2.0",
            "_view_name": "StyleView",
            "bar_color": null,
            "description_width": ""
          }
        },
        "4eac5a57c3b54294999203457ca02ff4": {
          "model_module": "@jupyter-widgets/controls",
          "model_name": "FloatProgressModel",
          "model_module_version": "1.5.0",
          "state": {
            "_dom_classes": [],
            "_model_module": "@jupyter-widgets/controls",
            "_model_module_version": "1.5.0",
            "_model_name": "FloatProgressModel",
            "_view_count": null,
            "_view_module": "@jupyter-widgets/controls",
            "_view_module_version": "1.5.0",
            "_view_name": "ProgressView",
            "bar_style": "info",
            "description": "Progress:",
            "description_tooltip": null,
            "layout": "IPY_MODEL_3d652048812d4231837f0fa1ff01dcca",
            "max": 1,
            "min": 0,
            "orientation": "horizontal",
            "style": "IPY_MODEL_edc1ff37f18949a8a4ef771f43d38ee2",
            "value": 0
          }
        },
        "3d652048812d4231837f0fa1ff01dcca": {
          "model_module": "@jupyter-widgets/base",
          "model_name": "LayoutModel",
          "model_module_version": "1.2.0",
          "state": {
            "_model_module": "@jupyter-widgets/base",
            "_model_module_version": "1.2.0",
            "_model_name": "LayoutModel",
            "_view_count": null,
            "_view_module": "@jupyter-widgets/base",
            "_view_module_version": "1.2.0",
            "_view_name": "LayoutView",
            "align_content": null,
            "align_items": null,
            "align_self": null,
            "border": null,
            "bottom": null,
            "display": null,
            "flex": null,
            "flex_flow": null,
            "grid_area": null,
            "grid_auto_columns": null,
            "grid_auto_flow": null,
            "grid_auto_rows": null,
            "grid_column": null,
            "grid_gap": null,
            "grid_row": null,
            "grid_template_areas": null,
            "grid_template_columns": null,
            "grid_template_rows": null,
            "height": "25px",
            "justify_content": null,
            "justify_items": null,
            "left": null,
            "margin": null,
            "max_height": null,
            "max_width": null,
            "min_height": null,
            "min_width": null,
            "object_fit": null,
            "object_position": null,
            "order": null,
            "overflow": null,
            "overflow_x": null,
            "overflow_y": null,
            "padding": null,
            "right": null,
            "top": null,
            "visibility": null,
            "width": "50%"
          }
        },
        "edc1ff37f18949a8a4ef771f43d38ee2": {
          "model_module": "@jupyter-widgets/controls",
          "model_name": "ProgressStyleModel",
          "model_module_version": "1.5.0",
          "state": {
            "_model_module": "@jupyter-widgets/controls",
            "_model_module_version": "1.5.0",
            "_model_name": "ProgressStyleModel",
            "_view_count": null,
            "_view_module": "@jupyter-widgets/base",
            "_view_module_version": "1.2.0",
            "_view_name": "StyleView",
            "bar_color": null,
            "description_width": ""
          }
        },
        "cfe8590e39ea41349393b0a285016462": {
          "model_module": "@jupyter-widgets/controls",
          "model_name": "FloatProgressModel",
          "model_module_version": "1.5.0",
          "state": {
            "_dom_classes": [],
            "_model_module": "@jupyter-widgets/controls",
            "_model_module_version": "1.5.0",
            "_model_name": "FloatProgressModel",
            "_view_count": null,
            "_view_module": "@jupyter-widgets/controls",
            "_view_module_version": "1.5.0",
            "_view_name": "ProgressView",
            "bar_style": "info",
            "description": "Progress:",
            "description_tooltip": null,
            "layout": "IPY_MODEL_d5fe18f6d1d64738a4d6e77534c5ccf1",
            "max": 1,
            "min": 0,
            "orientation": "horizontal",
            "style": "IPY_MODEL_b2caea75628646aa88544996f3c0e770",
            "value": 0
          }
        },
        "d5fe18f6d1d64738a4d6e77534c5ccf1": {
          "model_module": "@jupyter-widgets/base",
          "model_name": "LayoutModel",
          "model_module_version": "1.2.0",
          "state": {
            "_model_module": "@jupyter-widgets/base",
            "_model_module_version": "1.2.0",
            "_model_name": "LayoutModel",
            "_view_count": null,
            "_view_module": "@jupyter-widgets/base",
            "_view_module_version": "1.2.0",
            "_view_name": "LayoutView",
            "align_content": null,
            "align_items": null,
            "align_self": null,
            "border": null,
            "bottom": null,
            "display": null,
            "flex": null,
            "flex_flow": null,
            "grid_area": null,
            "grid_auto_columns": null,
            "grid_auto_flow": null,
            "grid_auto_rows": null,
            "grid_column": null,
            "grid_gap": null,
            "grid_row": null,
            "grid_template_areas": null,
            "grid_template_columns": null,
            "grid_template_rows": null,
            "height": "25px",
            "justify_content": null,
            "justify_items": null,
            "left": null,
            "margin": null,
            "max_height": null,
            "max_width": null,
            "min_height": null,
            "min_width": null,
            "object_fit": null,
            "object_position": null,
            "order": null,
            "overflow": null,
            "overflow_x": null,
            "overflow_y": null,
            "padding": null,
            "right": null,
            "top": null,
            "visibility": null,
            "width": "50%"
          }
        },
        "b2caea75628646aa88544996f3c0e770": {
          "model_module": "@jupyter-widgets/controls",
          "model_name": "ProgressStyleModel",
          "model_module_version": "1.5.0",
          "state": {
            "_model_module": "@jupyter-widgets/controls",
            "_model_module_version": "1.5.0",
            "_model_name": "ProgressStyleModel",
            "_view_count": null,
            "_view_module": "@jupyter-widgets/base",
            "_view_module_version": "1.2.0",
            "_view_name": "StyleView",
            "bar_color": null,
            "description_width": ""
          }
        },
        "3c10fbebff8e4a9fb2a361cb41bdc360": {
          "model_module": "@jupyter-widgets/controls",
          "model_name": "FloatProgressModel",
          "model_module_version": "1.5.0",
          "state": {
            "_dom_classes": [],
            "_model_module": "@jupyter-widgets/controls",
            "_model_module_version": "1.5.0",
            "_model_name": "FloatProgressModel",
            "_view_count": null,
            "_view_module": "@jupyter-widgets/controls",
            "_view_module_version": "1.5.0",
            "_view_name": "ProgressView",
            "bar_style": "info",
            "description": "Progress:",
            "description_tooltip": null,
            "layout": "IPY_MODEL_27abc43aa8f14b2db236035ec326b95a",
            "max": 1,
            "min": 0,
            "orientation": "horizontal",
            "style": "IPY_MODEL_1e977bedf79c453db269c9481c64c1ec",
            "value": 0
          }
        },
        "27abc43aa8f14b2db236035ec326b95a": {
          "model_module": "@jupyter-widgets/base",
          "model_name": "LayoutModel",
          "model_module_version": "1.2.0",
          "state": {
            "_model_module": "@jupyter-widgets/base",
            "_model_module_version": "1.2.0",
            "_model_name": "LayoutModel",
            "_view_count": null,
            "_view_module": "@jupyter-widgets/base",
            "_view_module_version": "1.2.0",
            "_view_name": "LayoutView",
            "align_content": null,
            "align_items": null,
            "align_self": null,
            "border": null,
            "bottom": null,
            "display": null,
            "flex": null,
            "flex_flow": null,
            "grid_area": null,
            "grid_auto_columns": null,
            "grid_auto_flow": null,
            "grid_auto_rows": null,
            "grid_column": null,
            "grid_gap": null,
            "grid_row": null,
            "grid_template_areas": null,
            "grid_template_columns": null,
            "grid_template_rows": null,
            "height": "25px",
            "justify_content": null,
            "justify_items": null,
            "left": null,
            "margin": null,
            "max_height": null,
            "max_width": null,
            "min_height": null,
            "min_width": null,
            "object_fit": null,
            "object_position": null,
            "order": null,
            "overflow": null,
            "overflow_x": null,
            "overflow_y": null,
            "padding": null,
            "right": null,
            "top": null,
            "visibility": null,
            "width": "50%"
          }
        },
        "1e977bedf79c453db269c9481c64c1ec": {
          "model_module": "@jupyter-widgets/controls",
          "model_name": "ProgressStyleModel",
          "model_module_version": "1.5.0",
          "state": {
            "_model_module": "@jupyter-widgets/controls",
            "_model_module_version": "1.5.0",
            "_model_name": "ProgressStyleModel",
            "_view_count": null,
            "_view_module": "@jupyter-widgets/base",
            "_view_module_version": "1.2.0",
            "_view_name": "StyleView",
            "bar_color": null,
            "description_width": ""
          }
        },
        "cf90ff62e57a45c8af21f09ee1535897": {
          "model_module": "@jupyter-widgets/controls",
          "model_name": "FloatProgressModel",
          "model_module_version": "1.5.0",
          "state": {
            "_dom_classes": [],
            "_model_module": "@jupyter-widgets/controls",
            "_model_module_version": "1.5.0",
            "_model_name": "FloatProgressModel",
            "_view_count": null,
            "_view_module": "@jupyter-widgets/controls",
            "_view_module_version": "1.5.0",
            "_view_name": "ProgressView",
            "bar_style": "info",
            "description": "Progress:",
            "description_tooltip": null,
            "layout": "IPY_MODEL_d223fabba69b4710ad6af442eb0a198a",
            "max": 1,
            "min": 0,
            "orientation": "horizontal",
            "style": "IPY_MODEL_0b03fad02cd045e388c48b52ec065f12",
            "value": 0
          }
        },
        "d223fabba69b4710ad6af442eb0a198a": {
          "model_module": "@jupyter-widgets/base",
          "model_name": "LayoutModel",
          "model_module_version": "1.2.0",
          "state": {
            "_model_module": "@jupyter-widgets/base",
            "_model_module_version": "1.2.0",
            "_model_name": "LayoutModel",
            "_view_count": null,
            "_view_module": "@jupyter-widgets/base",
            "_view_module_version": "1.2.0",
            "_view_name": "LayoutView",
            "align_content": null,
            "align_items": null,
            "align_self": null,
            "border": null,
            "bottom": null,
            "display": null,
            "flex": null,
            "flex_flow": null,
            "grid_area": null,
            "grid_auto_columns": null,
            "grid_auto_flow": null,
            "grid_auto_rows": null,
            "grid_column": null,
            "grid_gap": null,
            "grid_row": null,
            "grid_template_areas": null,
            "grid_template_columns": null,
            "grid_template_rows": null,
            "height": "25px",
            "justify_content": null,
            "justify_items": null,
            "left": null,
            "margin": null,
            "max_height": null,
            "max_width": null,
            "min_height": null,
            "min_width": null,
            "object_fit": null,
            "object_position": null,
            "order": null,
            "overflow": null,
            "overflow_x": null,
            "overflow_y": null,
            "padding": null,
            "right": null,
            "top": null,
            "visibility": null,
            "width": "50%"
          }
        },
        "0b03fad02cd045e388c48b52ec065f12": {
          "model_module": "@jupyter-widgets/controls",
          "model_name": "ProgressStyleModel",
          "model_module_version": "1.5.0",
          "state": {
            "_model_module": "@jupyter-widgets/controls",
            "_model_module_version": "1.5.0",
            "_model_name": "ProgressStyleModel",
            "_view_count": null,
            "_view_module": "@jupyter-widgets/base",
            "_view_module_version": "1.2.0",
            "_view_name": "StyleView",
            "bar_color": null,
            "description_width": ""
          }
        },
        "5c19e0afef964c57b3b2454b17366c72": {
          "model_module": "@jupyter-widgets/controls",
          "model_name": "FloatProgressModel",
          "model_module_version": "1.5.0",
          "state": {
            "_dom_classes": [],
            "_model_module": "@jupyter-widgets/controls",
            "_model_module_version": "1.5.0",
            "_model_name": "FloatProgressModel",
            "_view_count": null,
            "_view_module": "@jupyter-widgets/controls",
            "_view_module_version": "1.5.0",
            "_view_name": "ProgressView",
            "bar_style": "info",
            "description": "Progress:",
            "description_tooltip": null,
            "layout": "IPY_MODEL_36b463be7ed44b83a8f4b9c3a51f4ef1",
            "max": 1,
            "min": 0,
            "orientation": "horizontal",
            "style": "IPY_MODEL_899c676e7e384e3ea7ca7f6e55f7c1bf",
            "value": 0.75
          }
        },
        "36b463be7ed44b83a8f4b9c3a51f4ef1": {
          "model_module": "@jupyter-widgets/base",
          "model_name": "LayoutModel",
          "model_module_version": "1.2.0",
          "state": {
            "_model_module": "@jupyter-widgets/base",
            "_model_module_version": "1.2.0",
            "_model_name": "LayoutModel",
            "_view_count": null,
            "_view_module": "@jupyter-widgets/base",
            "_view_module_version": "1.2.0",
            "_view_name": "LayoutView",
            "align_content": null,
            "align_items": null,
            "align_self": null,
            "border": null,
            "bottom": null,
            "display": null,
            "flex": null,
            "flex_flow": null,
            "grid_area": null,
            "grid_auto_columns": null,
            "grid_auto_flow": null,
            "grid_auto_rows": null,
            "grid_column": null,
            "grid_gap": null,
            "grid_row": null,
            "grid_template_areas": null,
            "grid_template_columns": null,
            "grid_template_rows": null,
            "height": "25px",
            "justify_content": null,
            "justify_items": null,
            "left": null,
            "margin": null,
            "max_height": null,
            "max_width": null,
            "min_height": null,
            "min_width": null,
            "object_fit": null,
            "object_position": null,
            "order": null,
            "overflow": null,
            "overflow_x": null,
            "overflow_y": null,
            "padding": null,
            "right": null,
            "top": null,
            "visibility": null,
            "width": "50%"
          }
        },
        "899c676e7e384e3ea7ca7f6e55f7c1bf": {
          "model_module": "@jupyter-widgets/controls",
          "model_name": "ProgressStyleModel",
          "model_module_version": "1.5.0",
          "state": {
            "_model_module": "@jupyter-widgets/controls",
            "_model_module_version": "1.5.0",
            "_model_name": "ProgressStyleModel",
            "_view_count": null,
            "_view_module": "@jupyter-widgets/base",
            "_view_module_version": "1.2.0",
            "_view_name": "StyleView",
            "bar_color": null,
            "description_width": ""
          }
        },
        "f411c463ed77488b8d66620e1bcd07ba": {
          "model_module": "@jupyter-widgets/controls",
          "model_name": "FloatProgressModel",
          "model_module_version": "1.5.0",
          "state": {
            "_dom_classes": [],
            "_model_module": "@jupyter-widgets/controls",
            "_model_module_version": "1.5.0",
            "_model_name": "FloatProgressModel",
            "_view_count": null,
            "_view_module": "@jupyter-widgets/controls",
            "_view_module_version": "1.5.0",
            "_view_name": "ProgressView",
            "bar_style": "info",
            "description": "Progress:",
            "description_tooltip": null,
            "layout": "IPY_MODEL_fa8703752c3c41098fcafc1f785381c7",
            "max": 1,
            "min": 0,
            "orientation": "horizontal",
            "style": "IPY_MODEL_d61049e013a14acb979c40be1750beb5",
            "value": 0
          }
        },
        "fa8703752c3c41098fcafc1f785381c7": {
          "model_module": "@jupyter-widgets/base",
          "model_name": "LayoutModel",
          "model_module_version": "1.2.0",
          "state": {
            "_model_module": "@jupyter-widgets/base",
            "_model_module_version": "1.2.0",
            "_model_name": "LayoutModel",
            "_view_count": null,
            "_view_module": "@jupyter-widgets/base",
            "_view_module_version": "1.2.0",
            "_view_name": "LayoutView",
            "align_content": null,
            "align_items": null,
            "align_self": null,
            "border": null,
            "bottom": null,
            "display": null,
            "flex": null,
            "flex_flow": null,
            "grid_area": null,
            "grid_auto_columns": null,
            "grid_auto_flow": null,
            "grid_auto_rows": null,
            "grid_column": null,
            "grid_gap": null,
            "grid_row": null,
            "grid_template_areas": null,
            "grid_template_columns": null,
            "grid_template_rows": null,
            "height": "25px",
            "justify_content": null,
            "justify_items": null,
            "left": null,
            "margin": null,
            "max_height": null,
            "max_width": null,
            "min_height": null,
            "min_width": null,
            "object_fit": null,
            "object_position": null,
            "order": null,
            "overflow": null,
            "overflow_x": null,
            "overflow_y": null,
            "padding": null,
            "right": null,
            "top": null,
            "visibility": null,
            "width": "50%"
          }
        },
        "d61049e013a14acb979c40be1750beb5": {
          "model_module": "@jupyter-widgets/controls",
          "model_name": "ProgressStyleModel",
          "model_module_version": "1.5.0",
          "state": {
            "_model_module": "@jupyter-widgets/controls",
            "_model_module_version": "1.5.0",
            "_model_name": "ProgressStyleModel",
            "_view_count": null,
            "_view_module": "@jupyter-widgets/base",
            "_view_module_version": "1.2.0",
            "_view_name": "StyleView",
            "bar_color": null,
            "description_width": ""
          }
        },
        "833822e32715413d8afc54fecdb1ee82": {
          "model_module": "@jupyter-widgets/controls",
          "model_name": "FloatProgressModel",
          "model_module_version": "1.5.0",
          "state": {
            "_dom_classes": [],
            "_model_module": "@jupyter-widgets/controls",
            "_model_module_version": "1.5.0",
            "_model_name": "FloatProgressModel",
            "_view_count": null,
            "_view_module": "@jupyter-widgets/controls",
            "_view_module_version": "1.5.0",
            "_view_name": "ProgressView",
            "bar_style": "info",
            "description": "Progress:",
            "description_tooltip": null,
            "layout": "IPY_MODEL_97553f3297fc4c05a460abf70c82f730",
            "max": 1,
            "min": 0,
            "orientation": "horizontal",
            "style": "IPY_MODEL_eee701f1b4a74521a132e50ced64ec90",
            "value": 0
          }
        },
        "97553f3297fc4c05a460abf70c82f730": {
          "model_module": "@jupyter-widgets/base",
          "model_name": "LayoutModel",
          "model_module_version": "1.2.0",
          "state": {
            "_model_module": "@jupyter-widgets/base",
            "_model_module_version": "1.2.0",
            "_model_name": "LayoutModel",
            "_view_count": null,
            "_view_module": "@jupyter-widgets/base",
            "_view_module_version": "1.2.0",
            "_view_name": "LayoutView",
            "align_content": null,
            "align_items": null,
            "align_self": null,
            "border": null,
            "bottom": null,
            "display": null,
            "flex": null,
            "flex_flow": null,
            "grid_area": null,
            "grid_auto_columns": null,
            "grid_auto_flow": null,
            "grid_auto_rows": null,
            "grid_column": null,
            "grid_gap": null,
            "grid_row": null,
            "grid_template_areas": null,
            "grid_template_columns": null,
            "grid_template_rows": null,
            "height": "25px",
            "justify_content": null,
            "justify_items": null,
            "left": null,
            "margin": null,
            "max_height": null,
            "max_width": null,
            "min_height": null,
            "min_width": null,
            "object_fit": null,
            "object_position": null,
            "order": null,
            "overflow": null,
            "overflow_x": null,
            "overflow_y": null,
            "padding": null,
            "right": null,
            "top": null,
            "visibility": null,
            "width": "50%"
          }
        },
        "eee701f1b4a74521a132e50ced64ec90": {
          "model_module": "@jupyter-widgets/controls",
          "model_name": "ProgressStyleModel",
          "model_module_version": "1.5.0",
          "state": {
            "_model_module": "@jupyter-widgets/controls",
            "_model_module_version": "1.5.0",
            "_model_name": "ProgressStyleModel",
            "_view_count": null,
            "_view_module": "@jupyter-widgets/base",
            "_view_module_version": "1.2.0",
            "_view_name": "StyleView",
            "bar_color": null,
            "description_width": ""
          }
        },
        "a09411b3514248c4812d6ec05b9b2ef3": {
          "model_module": "@jupyter-widgets/controls",
          "model_name": "FloatProgressModel",
          "model_module_version": "1.5.0",
          "state": {
            "_dom_classes": [],
            "_model_module": "@jupyter-widgets/controls",
            "_model_module_version": "1.5.0",
            "_model_name": "FloatProgressModel",
            "_view_count": null,
            "_view_module": "@jupyter-widgets/controls",
            "_view_module_version": "1.5.0",
            "_view_name": "ProgressView",
            "bar_style": "info",
            "description": "Progress:",
            "description_tooltip": null,
            "layout": "IPY_MODEL_d0f977e371254515bb8f9f0049b973e4",
            "max": 1,
            "min": 0,
            "orientation": "horizontal",
            "style": "IPY_MODEL_94a2608228aa45afb762b6143e5c19ce",
            "value": 0
          }
        },
        "d0f977e371254515bb8f9f0049b973e4": {
          "model_module": "@jupyter-widgets/base",
          "model_name": "LayoutModel",
          "model_module_version": "1.2.0",
          "state": {
            "_model_module": "@jupyter-widgets/base",
            "_model_module_version": "1.2.0",
            "_model_name": "LayoutModel",
            "_view_count": null,
            "_view_module": "@jupyter-widgets/base",
            "_view_module_version": "1.2.0",
            "_view_name": "LayoutView",
            "align_content": null,
            "align_items": null,
            "align_self": null,
            "border": null,
            "bottom": null,
            "display": null,
            "flex": null,
            "flex_flow": null,
            "grid_area": null,
            "grid_auto_columns": null,
            "grid_auto_flow": null,
            "grid_auto_rows": null,
            "grid_column": null,
            "grid_gap": null,
            "grid_row": null,
            "grid_template_areas": null,
            "grid_template_columns": null,
            "grid_template_rows": null,
            "height": "25px",
            "justify_content": null,
            "justify_items": null,
            "left": null,
            "margin": null,
            "max_height": null,
            "max_width": null,
            "min_height": null,
            "min_width": null,
            "object_fit": null,
            "object_position": null,
            "order": null,
            "overflow": null,
            "overflow_x": null,
            "overflow_y": null,
            "padding": null,
            "right": null,
            "top": null,
            "visibility": null,
            "width": "50%"
          }
        },
        "94a2608228aa45afb762b6143e5c19ce": {
          "model_module": "@jupyter-widgets/controls",
          "model_name": "ProgressStyleModel",
          "model_module_version": "1.5.0",
          "state": {
            "_model_module": "@jupyter-widgets/controls",
            "_model_module_version": "1.5.0",
            "_model_name": "ProgressStyleModel",
            "_view_count": null,
            "_view_module": "@jupyter-widgets/base",
            "_view_module_version": "1.2.0",
            "_view_name": "StyleView",
            "bar_color": null,
            "description_width": ""
          }
        },
        "f3d4e3aee9dc4692a3df2cf40819e9c1": {
          "model_module": "@jupyter-widgets/controls",
          "model_name": "FloatProgressModel",
          "model_module_version": "1.5.0",
          "state": {
            "_dom_classes": [],
            "_model_module": "@jupyter-widgets/controls",
            "_model_module_version": "1.5.0",
            "_model_name": "FloatProgressModel",
            "_view_count": null,
            "_view_module": "@jupyter-widgets/controls",
            "_view_module_version": "1.5.0",
            "_view_name": "ProgressView",
            "bar_style": "info",
            "description": "Progress:",
            "description_tooltip": null,
            "layout": "IPY_MODEL_f9652f60d0f143da95173ca12b8a5db2",
            "max": 1,
            "min": 0,
            "orientation": "horizontal",
            "style": "IPY_MODEL_0db3bf8f80b240789c5b8890c1d8e70e",
            "value": 0.2
          }
        },
        "f9652f60d0f143da95173ca12b8a5db2": {
          "model_module": "@jupyter-widgets/base",
          "model_name": "LayoutModel",
          "model_module_version": "1.2.0",
          "state": {
            "_model_module": "@jupyter-widgets/base",
            "_model_module_version": "1.2.0",
            "_model_name": "LayoutModel",
            "_view_count": null,
            "_view_module": "@jupyter-widgets/base",
            "_view_module_version": "1.2.0",
            "_view_name": "LayoutView",
            "align_content": null,
            "align_items": null,
            "align_self": null,
            "border": null,
            "bottom": null,
            "display": null,
            "flex": null,
            "flex_flow": null,
            "grid_area": null,
            "grid_auto_columns": null,
            "grid_auto_flow": null,
            "grid_auto_rows": null,
            "grid_column": null,
            "grid_gap": null,
            "grid_row": null,
            "grid_template_areas": null,
            "grid_template_columns": null,
            "grid_template_rows": null,
            "height": "25px",
            "justify_content": null,
            "justify_items": null,
            "left": null,
            "margin": null,
            "max_height": null,
            "max_width": null,
            "min_height": null,
            "min_width": null,
            "object_fit": null,
            "object_position": null,
            "order": null,
            "overflow": null,
            "overflow_x": null,
            "overflow_y": null,
            "padding": null,
            "right": null,
            "top": null,
            "visibility": null,
            "width": "50%"
          }
        },
        "0db3bf8f80b240789c5b8890c1d8e70e": {
          "model_module": "@jupyter-widgets/controls",
          "model_name": "ProgressStyleModel",
          "model_module_version": "1.5.0",
          "state": {
            "_model_module": "@jupyter-widgets/controls",
            "_model_module_version": "1.5.0",
            "_model_name": "ProgressStyleModel",
            "_view_count": null,
            "_view_module": "@jupyter-widgets/base",
            "_view_module_version": "1.2.0",
            "_view_name": "StyleView",
            "bar_color": null,
            "description_width": ""
          }
        },
        "3f1d26fc87e3461ea79184eb5250ae0f": {
          "model_module": "@jupyter-widgets/controls",
          "model_name": "FloatProgressModel",
          "model_module_version": "1.5.0",
          "state": {
            "_dom_classes": [],
            "_model_module": "@jupyter-widgets/controls",
            "_model_module_version": "1.5.0",
            "_model_name": "FloatProgressModel",
            "_view_count": null,
            "_view_module": "@jupyter-widgets/controls",
            "_view_module_version": "1.5.0",
            "_view_name": "ProgressView",
            "bar_style": "info",
            "description": "Progress:",
            "description_tooltip": null,
            "layout": "IPY_MODEL_6d3110e1d53348a6b8b6973b073bd576",
            "max": 1,
            "min": 0,
            "orientation": "horizontal",
            "style": "IPY_MODEL_a7e7fba664ad43cbb6f86354bbde8a8b",
            "value": 0
          }
        },
        "6d3110e1d53348a6b8b6973b073bd576": {
          "model_module": "@jupyter-widgets/base",
          "model_name": "LayoutModel",
          "model_module_version": "1.2.0",
          "state": {
            "_model_module": "@jupyter-widgets/base",
            "_model_module_version": "1.2.0",
            "_model_name": "LayoutModel",
            "_view_count": null,
            "_view_module": "@jupyter-widgets/base",
            "_view_module_version": "1.2.0",
            "_view_name": "LayoutView",
            "align_content": null,
            "align_items": null,
            "align_self": null,
            "border": null,
            "bottom": null,
            "display": null,
            "flex": null,
            "flex_flow": null,
            "grid_area": null,
            "grid_auto_columns": null,
            "grid_auto_flow": null,
            "grid_auto_rows": null,
            "grid_column": null,
            "grid_gap": null,
            "grid_row": null,
            "grid_template_areas": null,
            "grid_template_columns": null,
            "grid_template_rows": null,
            "height": "25px",
            "justify_content": null,
            "justify_items": null,
            "left": null,
            "margin": null,
            "max_height": null,
            "max_width": null,
            "min_height": null,
            "min_width": null,
            "object_fit": null,
            "object_position": null,
            "order": null,
            "overflow": null,
            "overflow_x": null,
            "overflow_y": null,
            "padding": null,
            "right": null,
            "top": null,
            "visibility": null,
            "width": "50%"
          }
        },
        "a7e7fba664ad43cbb6f86354bbde8a8b": {
          "model_module": "@jupyter-widgets/controls",
          "model_name": "ProgressStyleModel",
          "model_module_version": "1.5.0",
          "state": {
            "_model_module": "@jupyter-widgets/controls",
            "_model_module_version": "1.5.0",
            "_model_name": "ProgressStyleModel",
            "_view_count": null,
            "_view_module": "@jupyter-widgets/base",
            "_view_module_version": "1.2.0",
            "_view_name": "StyleView",
            "bar_color": null,
            "description_width": ""
          }
        },
        "3c968e76cd1d4c8883481b20e2afd2da": {
          "model_module": "@jupyter-widgets/controls",
          "model_name": "FloatProgressModel",
          "model_module_version": "1.5.0",
          "state": {
            "_dom_classes": [],
            "_model_module": "@jupyter-widgets/controls",
            "_model_module_version": "1.5.0",
            "_model_name": "FloatProgressModel",
            "_view_count": null,
            "_view_module": "@jupyter-widgets/controls",
            "_view_module_version": "1.5.0",
            "_view_name": "ProgressView",
            "bar_style": "info",
            "description": "Progress:",
            "description_tooltip": null,
            "layout": "IPY_MODEL_d9363984c6d6405da8c9d82f7f17cb0b",
            "max": 1,
            "min": 0,
            "orientation": "horizontal",
            "style": "IPY_MODEL_3a03d9d5c1be4f3f8c9bfa9fa825dad2",
            "value": 0
          }
        },
        "d9363984c6d6405da8c9d82f7f17cb0b": {
          "model_module": "@jupyter-widgets/base",
          "model_name": "LayoutModel",
          "model_module_version": "1.2.0",
          "state": {
            "_model_module": "@jupyter-widgets/base",
            "_model_module_version": "1.2.0",
            "_model_name": "LayoutModel",
            "_view_count": null,
            "_view_module": "@jupyter-widgets/base",
            "_view_module_version": "1.2.0",
            "_view_name": "LayoutView",
            "align_content": null,
            "align_items": null,
            "align_self": null,
            "border": null,
            "bottom": null,
            "display": null,
            "flex": null,
            "flex_flow": null,
            "grid_area": null,
            "grid_auto_columns": null,
            "grid_auto_flow": null,
            "grid_auto_rows": null,
            "grid_column": null,
            "grid_gap": null,
            "grid_row": null,
            "grid_template_areas": null,
            "grid_template_columns": null,
            "grid_template_rows": null,
            "height": "25px",
            "justify_content": null,
            "justify_items": null,
            "left": null,
            "margin": null,
            "max_height": null,
            "max_width": null,
            "min_height": null,
            "min_width": null,
            "object_fit": null,
            "object_position": null,
            "order": null,
            "overflow": null,
            "overflow_x": null,
            "overflow_y": null,
            "padding": null,
            "right": null,
            "top": null,
            "visibility": null,
            "width": "50%"
          }
        },
        "3a03d9d5c1be4f3f8c9bfa9fa825dad2": {
          "model_module": "@jupyter-widgets/controls",
          "model_name": "ProgressStyleModel",
          "model_module_version": "1.5.0",
          "state": {
            "_model_module": "@jupyter-widgets/controls",
            "_model_module_version": "1.5.0",
            "_model_name": "ProgressStyleModel",
            "_view_count": null,
            "_view_module": "@jupyter-widgets/base",
            "_view_module_version": "1.2.0",
            "_view_name": "StyleView",
            "bar_color": null,
            "description_width": ""
          }
        },
        "1e5e8853d86245759f4d72ac7e724524": {
          "model_module": "@jupyter-widgets/controls",
          "model_name": "FloatProgressModel",
          "model_module_version": "1.5.0",
          "state": {
            "_dom_classes": [],
            "_model_module": "@jupyter-widgets/controls",
            "_model_module_version": "1.5.0",
            "_model_name": "FloatProgressModel",
            "_view_count": null,
            "_view_module": "@jupyter-widgets/controls",
            "_view_module_version": "1.5.0",
            "_view_name": "ProgressView",
            "bar_style": "info",
            "description": "Progress:",
            "description_tooltip": null,
            "layout": "IPY_MODEL_8222e88291764f39a8fc91a0a6706a97",
            "max": 1,
            "min": 0,
            "orientation": "horizontal",
            "style": "IPY_MODEL_e4ee2e9f6a3940be8f708fe511d1dc6a",
            "value": 0
          }
        },
        "8222e88291764f39a8fc91a0a6706a97": {
          "model_module": "@jupyter-widgets/base",
          "model_name": "LayoutModel",
          "model_module_version": "1.2.0",
          "state": {
            "_model_module": "@jupyter-widgets/base",
            "_model_module_version": "1.2.0",
            "_model_name": "LayoutModel",
            "_view_count": null,
            "_view_module": "@jupyter-widgets/base",
            "_view_module_version": "1.2.0",
            "_view_name": "LayoutView",
            "align_content": null,
            "align_items": null,
            "align_self": null,
            "border": null,
            "bottom": null,
            "display": null,
            "flex": null,
            "flex_flow": null,
            "grid_area": null,
            "grid_auto_columns": null,
            "grid_auto_flow": null,
            "grid_auto_rows": null,
            "grid_column": null,
            "grid_gap": null,
            "grid_row": null,
            "grid_template_areas": null,
            "grid_template_columns": null,
            "grid_template_rows": null,
            "height": "25px",
            "justify_content": null,
            "justify_items": null,
            "left": null,
            "margin": null,
            "max_height": null,
            "max_width": null,
            "min_height": null,
            "min_width": null,
            "object_fit": null,
            "object_position": null,
            "order": null,
            "overflow": null,
            "overflow_x": null,
            "overflow_y": null,
            "padding": null,
            "right": null,
            "top": null,
            "visibility": null,
            "width": "50%"
          }
        },
        "e4ee2e9f6a3940be8f708fe511d1dc6a": {
          "model_module": "@jupyter-widgets/controls",
          "model_name": "ProgressStyleModel",
          "model_module_version": "1.5.0",
          "state": {
            "_model_module": "@jupyter-widgets/controls",
            "_model_module_version": "1.5.0",
            "_model_name": "ProgressStyleModel",
            "_view_count": null,
            "_view_module": "@jupyter-widgets/base",
            "_view_module_version": "1.2.0",
            "_view_name": "StyleView",
            "bar_color": null,
            "description_width": ""
          }
        },
        "34477ecde3d547aba31b901c6756e14b": {
          "model_module": "@jupyter-widgets/controls",
          "model_name": "FloatProgressModel",
          "model_module_version": "1.5.0",
          "state": {
            "_dom_classes": [],
            "_model_module": "@jupyter-widgets/controls",
            "_model_module_version": "1.5.0",
            "_model_name": "FloatProgressModel",
            "_view_count": null,
            "_view_module": "@jupyter-widgets/controls",
            "_view_module_version": "1.5.0",
            "_view_name": "ProgressView",
            "bar_style": "info",
            "description": "Progress:",
            "description_tooltip": null,
            "layout": "IPY_MODEL_bca68ccad6e640589ffb542ecc54cb62",
            "max": 1,
            "min": 0,
            "orientation": "horizontal",
            "style": "IPY_MODEL_bd338178f14a4e5993a4f65af2cbbf77",
            "value": 0.6294536817102138
          }
        },
        "bca68ccad6e640589ffb542ecc54cb62": {
          "model_module": "@jupyter-widgets/base",
          "model_name": "LayoutModel",
          "model_module_version": "1.2.0",
          "state": {
            "_model_module": "@jupyter-widgets/base",
            "_model_module_version": "1.2.0",
            "_model_name": "LayoutModel",
            "_view_count": null,
            "_view_module": "@jupyter-widgets/base",
            "_view_module_version": "1.2.0",
            "_view_name": "LayoutView",
            "align_content": null,
            "align_items": null,
            "align_self": null,
            "border": null,
            "bottom": null,
            "display": null,
            "flex": null,
            "flex_flow": null,
            "grid_area": null,
            "grid_auto_columns": null,
            "grid_auto_flow": null,
            "grid_auto_rows": null,
            "grid_column": null,
            "grid_gap": null,
            "grid_row": null,
            "grid_template_areas": null,
            "grid_template_columns": null,
            "grid_template_rows": null,
            "height": "25px",
            "justify_content": null,
            "justify_items": null,
            "left": null,
            "margin": null,
            "max_height": null,
            "max_width": null,
            "min_height": null,
            "min_width": null,
            "object_fit": null,
            "object_position": null,
            "order": null,
            "overflow": null,
            "overflow_x": null,
            "overflow_y": null,
            "padding": null,
            "right": null,
            "top": null,
            "visibility": null,
            "width": "50%"
          }
        },
        "bd338178f14a4e5993a4f65af2cbbf77": {
          "model_module": "@jupyter-widgets/controls",
          "model_name": "ProgressStyleModel",
          "model_module_version": "1.5.0",
          "state": {
            "_model_module": "@jupyter-widgets/controls",
            "_model_module_version": "1.5.0",
            "_model_name": "ProgressStyleModel",
            "_view_count": null,
            "_view_module": "@jupyter-widgets/base",
            "_view_module_version": "1.2.0",
            "_view_name": "StyleView",
            "bar_color": null,
            "description_width": ""
          }
        },
        "0a3433e40a844a8b89f5b836f4f94fee": {
          "model_module": "@jupyter-widgets/controls",
          "model_name": "FloatProgressModel",
          "model_module_version": "1.5.0",
          "state": {
            "_dom_classes": [],
            "_model_module": "@jupyter-widgets/controls",
            "_model_module_version": "1.5.0",
            "_model_name": "FloatProgressModel",
            "_view_count": null,
            "_view_module": "@jupyter-widgets/controls",
            "_view_module_version": "1.5.0",
            "_view_name": "ProgressView",
            "bar_style": "info",
            "description": "Progress:",
            "description_tooltip": null,
            "layout": "IPY_MODEL_6a912ce7873e4681b6e7ea4d6c908a46",
            "max": 1,
            "min": 0,
            "orientation": "horizontal",
            "style": "IPY_MODEL_dfa1dd24f6774070b6e7fe3aa1d3b9b1",
            "value": 0
          }
        },
        "6a912ce7873e4681b6e7ea4d6c908a46": {
          "model_module": "@jupyter-widgets/base",
          "model_name": "LayoutModel",
          "model_module_version": "1.2.0",
          "state": {
            "_model_module": "@jupyter-widgets/base",
            "_model_module_version": "1.2.0",
            "_model_name": "LayoutModel",
            "_view_count": null,
            "_view_module": "@jupyter-widgets/base",
            "_view_module_version": "1.2.0",
            "_view_name": "LayoutView",
            "align_content": null,
            "align_items": null,
            "align_self": null,
            "border": null,
            "bottom": null,
            "display": null,
            "flex": null,
            "flex_flow": null,
            "grid_area": null,
            "grid_auto_columns": null,
            "grid_auto_flow": null,
            "grid_auto_rows": null,
            "grid_column": null,
            "grid_gap": null,
            "grid_row": null,
            "grid_template_areas": null,
            "grid_template_columns": null,
            "grid_template_rows": null,
            "height": "25px",
            "justify_content": null,
            "justify_items": null,
            "left": null,
            "margin": null,
            "max_height": null,
            "max_width": null,
            "min_height": null,
            "min_width": null,
            "object_fit": null,
            "object_position": null,
            "order": null,
            "overflow": null,
            "overflow_x": null,
            "overflow_y": null,
            "padding": null,
            "right": null,
            "top": null,
            "visibility": null,
            "width": "50%"
          }
        },
        "dfa1dd24f6774070b6e7fe3aa1d3b9b1": {
          "model_module": "@jupyter-widgets/controls",
          "model_name": "ProgressStyleModel",
          "model_module_version": "1.5.0",
          "state": {
            "_model_module": "@jupyter-widgets/controls",
            "_model_module_version": "1.5.0",
            "_model_name": "ProgressStyleModel",
            "_view_count": null,
            "_view_module": "@jupyter-widgets/base",
            "_view_module_version": "1.2.0",
            "_view_name": "StyleView",
            "bar_color": null,
            "description_width": ""
          }
        },
        "8afd46938e8c4250b922952ed0152323": {
          "model_module": "@jupyter-widgets/controls",
          "model_name": "FloatProgressModel",
          "model_module_version": "1.5.0",
          "state": {
            "_dom_classes": [],
            "_model_module": "@jupyter-widgets/controls",
            "_model_module_version": "1.5.0",
            "_model_name": "FloatProgressModel",
            "_view_count": null,
            "_view_module": "@jupyter-widgets/controls",
            "_view_module_version": "1.5.0",
            "_view_name": "ProgressView",
            "bar_style": "info",
            "description": "Progress:",
            "description_tooltip": null,
            "layout": "IPY_MODEL_8e74588c1262414585a85beeeeb7b642",
            "max": 1,
            "min": 0,
            "orientation": "horizontal",
            "style": "IPY_MODEL_c3f09c5dc27143e3a6d6e6aa59f5f222",
            "value": 0
          }
        },
        "8e74588c1262414585a85beeeeb7b642": {
          "model_module": "@jupyter-widgets/base",
          "model_name": "LayoutModel",
          "model_module_version": "1.2.0",
          "state": {
            "_model_module": "@jupyter-widgets/base",
            "_model_module_version": "1.2.0",
            "_model_name": "LayoutModel",
            "_view_count": null,
            "_view_module": "@jupyter-widgets/base",
            "_view_module_version": "1.2.0",
            "_view_name": "LayoutView",
            "align_content": null,
            "align_items": null,
            "align_self": null,
            "border": null,
            "bottom": null,
            "display": null,
            "flex": null,
            "flex_flow": null,
            "grid_area": null,
            "grid_auto_columns": null,
            "grid_auto_flow": null,
            "grid_auto_rows": null,
            "grid_column": null,
            "grid_gap": null,
            "grid_row": null,
            "grid_template_areas": null,
            "grid_template_columns": null,
            "grid_template_rows": null,
            "height": "25px",
            "justify_content": null,
            "justify_items": null,
            "left": null,
            "margin": null,
            "max_height": null,
            "max_width": null,
            "min_height": null,
            "min_width": null,
            "object_fit": null,
            "object_position": null,
            "order": null,
            "overflow": null,
            "overflow_x": null,
            "overflow_y": null,
            "padding": null,
            "right": null,
            "top": null,
            "visibility": null,
            "width": "50%"
          }
        },
        "c3f09c5dc27143e3a6d6e6aa59f5f222": {
          "model_module": "@jupyter-widgets/controls",
          "model_name": "ProgressStyleModel",
          "model_module_version": "1.5.0",
          "state": {
            "_model_module": "@jupyter-widgets/controls",
            "_model_module_version": "1.5.0",
            "_model_name": "ProgressStyleModel",
            "_view_count": null,
            "_view_module": "@jupyter-widgets/base",
            "_view_module_version": "1.2.0",
            "_view_name": "StyleView",
            "bar_color": null,
            "description_width": ""
          }
        },
        "f0fec270617444d39f9cc065e72806b3": {
          "model_module": "@jupyter-widgets/controls",
          "model_name": "FloatProgressModel",
          "model_module_version": "1.5.0",
          "state": {
            "_dom_classes": [],
            "_model_module": "@jupyter-widgets/controls",
            "_model_module_version": "1.5.0",
            "_model_name": "FloatProgressModel",
            "_view_count": null,
            "_view_module": "@jupyter-widgets/controls",
            "_view_module_version": "1.5.0",
            "_view_name": "ProgressView",
            "bar_style": "info",
            "description": "Progress:",
            "description_tooltip": null,
            "layout": "IPY_MODEL_262939adc7094b2e9ed3e5da415d72e4",
            "max": 1,
            "min": 0,
            "orientation": "horizontal",
            "style": "IPY_MODEL_e081706a96ac4b3d846b719d33eaf949",
            "value": 0
          }
        },
        "262939adc7094b2e9ed3e5da415d72e4": {
          "model_module": "@jupyter-widgets/base",
          "model_name": "LayoutModel",
          "model_module_version": "1.2.0",
          "state": {
            "_model_module": "@jupyter-widgets/base",
            "_model_module_version": "1.2.0",
            "_model_name": "LayoutModel",
            "_view_count": null,
            "_view_module": "@jupyter-widgets/base",
            "_view_module_version": "1.2.0",
            "_view_name": "LayoutView",
            "align_content": null,
            "align_items": null,
            "align_self": null,
            "border": null,
            "bottom": null,
            "display": null,
            "flex": null,
            "flex_flow": null,
            "grid_area": null,
            "grid_auto_columns": null,
            "grid_auto_flow": null,
            "grid_auto_rows": null,
            "grid_column": null,
            "grid_gap": null,
            "grid_row": null,
            "grid_template_areas": null,
            "grid_template_columns": null,
            "grid_template_rows": null,
            "height": "25px",
            "justify_content": null,
            "justify_items": null,
            "left": null,
            "margin": null,
            "max_height": null,
            "max_width": null,
            "min_height": null,
            "min_width": null,
            "object_fit": null,
            "object_position": null,
            "order": null,
            "overflow": null,
            "overflow_x": null,
            "overflow_y": null,
            "padding": null,
            "right": null,
            "top": null,
            "visibility": null,
            "width": "50%"
          }
        },
        "e081706a96ac4b3d846b719d33eaf949": {
          "model_module": "@jupyter-widgets/controls",
          "model_name": "ProgressStyleModel",
          "model_module_version": "1.5.0",
          "state": {
            "_model_module": "@jupyter-widgets/controls",
            "_model_module_version": "1.5.0",
            "_model_name": "ProgressStyleModel",
            "_view_count": null,
            "_view_module": "@jupyter-widgets/base",
            "_view_module_version": "1.2.0",
            "_view_name": "StyleView",
            "bar_color": null,
            "description_width": ""
          }
        },
        "d5f1bc89b2654a5fb29193af9f5c8e15": {
          "model_module": "@jupyter-widgets/controls",
          "model_name": "FloatProgressModel",
          "model_module_version": "1.5.0",
          "state": {
            "_dom_classes": [],
            "_model_module": "@jupyter-widgets/controls",
            "_model_module_version": "1.5.0",
            "_model_name": "FloatProgressModel",
            "_view_count": null,
            "_view_module": "@jupyter-widgets/controls",
            "_view_module_version": "1.5.0",
            "_view_name": "ProgressView",
            "bar_style": "info",
            "description": "Progress:",
            "description_tooltip": null,
            "layout": "IPY_MODEL_2f9a6a8d3fe2482e954a91261b1a908a",
            "max": 1,
            "min": 0,
            "orientation": "horizontal",
            "style": "IPY_MODEL_c396ecdd03ec418cb2649a1902e14e69",
            "value": 1
          }
        },
        "2f9a6a8d3fe2482e954a91261b1a908a": {
          "model_module": "@jupyter-widgets/base",
          "model_name": "LayoutModel",
          "model_module_version": "1.2.0",
          "state": {
            "_model_module": "@jupyter-widgets/base",
            "_model_module_version": "1.2.0",
            "_model_name": "LayoutModel",
            "_view_count": null,
            "_view_module": "@jupyter-widgets/base",
            "_view_module_version": "1.2.0",
            "_view_name": "LayoutView",
            "align_content": null,
            "align_items": null,
            "align_self": null,
            "border": null,
            "bottom": null,
            "display": null,
            "flex": null,
            "flex_flow": null,
            "grid_area": null,
            "grid_auto_columns": null,
            "grid_auto_flow": null,
            "grid_auto_rows": null,
            "grid_column": null,
            "grid_gap": null,
            "grid_row": null,
            "grid_template_areas": null,
            "grid_template_columns": null,
            "grid_template_rows": null,
            "height": "25px",
            "justify_content": null,
            "justify_items": null,
            "left": null,
            "margin": null,
            "max_height": null,
            "max_width": null,
            "min_height": null,
            "min_width": null,
            "object_fit": null,
            "object_position": null,
            "order": null,
            "overflow": null,
            "overflow_x": null,
            "overflow_y": null,
            "padding": null,
            "right": null,
            "top": null,
            "visibility": null,
            "width": "50%"
          }
        },
        "c396ecdd03ec418cb2649a1902e14e69": {
          "model_module": "@jupyter-widgets/controls",
          "model_name": "ProgressStyleModel",
          "model_module_version": "1.5.0",
          "state": {
            "_model_module": "@jupyter-widgets/controls",
            "_model_module_version": "1.5.0",
            "_model_name": "ProgressStyleModel",
            "_view_count": null,
            "_view_module": "@jupyter-widgets/base",
            "_view_module_version": "1.2.0",
            "_view_name": "StyleView",
            "bar_color": null,
            "description_width": ""
          }
        },
        "c6d1d220924d4a6288b206a88dbafa1d": {
          "model_module": "@jupyter-widgets/controls",
          "model_name": "FloatProgressModel",
          "model_module_version": "1.5.0",
          "state": {
            "_dom_classes": [],
            "_model_module": "@jupyter-widgets/controls",
            "_model_module_version": "1.5.0",
            "_model_name": "FloatProgressModel",
            "_view_count": null,
            "_view_module": "@jupyter-widgets/controls",
            "_view_module_version": "1.5.0",
            "_view_name": "ProgressView",
            "bar_style": "info",
            "description": "Progress:",
            "description_tooltip": null,
            "layout": "IPY_MODEL_8a9e3e542b8047e2a8912ff527205aef",
            "max": 1,
            "min": 0,
            "orientation": "horizontal",
            "style": "IPY_MODEL_a29a5ea4eb8c4221bd29523486a4a7cc",
            "value": 0
          }
        },
        "8a9e3e542b8047e2a8912ff527205aef": {
          "model_module": "@jupyter-widgets/base",
          "model_name": "LayoutModel",
          "model_module_version": "1.2.0",
          "state": {
            "_model_module": "@jupyter-widgets/base",
            "_model_module_version": "1.2.0",
            "_model_name": "LayoutModel",
            "_view_count": null,
            "_view_module": "@jupyter-widgets/base",
            "_view_module_version": "1.2.0",
            "_view_name": "LayoutView",
            "align_content": null,
            "align_items": null,
            "align_self": null,
            "border": null,
            "bottom": null,
            "display": null,
            "flex": null,
            "flex_flow": null,
            "grid_area": null,
            "grid_auto_columns": null,
            "grid_auto_flow": null,
            "grid_auto_rows": null,
            "grid_column": null,
            "grid_gap": null,
            "grid_row": null,
            "grid_template_areas": null,
            "grid_template_columns": null,
            "grid_template_rows": null,
            "height": "25px",
            "justify_content": null,
            "justify_items": null,
            "left": null,
            "margin": null,
            "max_height": null,
            "max_width": null,
            "min_height": null,
            "min_width": null,
            "object_fit": null,
            "object_position": null,
            "order": null,
            "overflow": null,
            "overflow_x": null,
            "overflow_y": null,
            "padding": null,
            "right": null,
            "top": null,
            "visibility": null,
            "width": "50%"
          }
        },
        "a29a5ea4eb8c4221bd29523486a4a7cc": {
          "model_module": "@jupyter-widgets/controls",
          "model_name": "ProgressStyleModel",
          "model_module_version": "1.5.0",
          "state": {
            "_model_module": "@jupyter-widgets/controls",
            "_model_module_version": "1.5.0",
            "_model_name": "ProgressStyleModel",
            "_view_count": null,
            "_view_module": "@jupyter-widgets/base",
            "_view_module_version": "1.2.0",
            "_view_name": "StyleView",
            "bar_color": null,
            "description_width": ""
          }
        },
        "a7792a889ae94e7b85a46e4b27f1440e": {
          "model_module": "@jupyter-widgets/controls",
          "model_name": "FloatProgressModel",
          "model_module_version": "1.5.0",
          "state": {
            "_dom_classes": [],
            "_model_module": "@jupyter-widgets/controls",
            "_model_module_version": "1.5.0",
            "_model_name": "FloatProgressModel",
            "_view_count": null,
            "_view_module": "@jupyter-widgets/controls",
            "_view_module_version": "1.5.0",
            "_view_name": "ProgressView",
            "bar_style": "info",
            "description": "Progress:",
            "description_tooltip": null,
            "layout": "IPY_MODEL_d1681b3b7a244f6f8cd57255f9a4e03f",
            "max": 1,
            "min": 0,
            "orientation": "horizontal",
            "style": "IPY_MODEL_a1290005529a497ab3fb4832b6001881",
            "value": 0
          }
        },
        "d1681b3b7a244f6f8cd57255f9a4e03f": {
          "model_module": "@jupyter-widgets/base",
          "model_name": "LayoutModel",
          "model_module_version": "1.2.0",
          "state": {
            "_model_module": "@jupyter-widgets/base",
            "_model_module_version": "1.2.0",
            "_model_name": "LayoutModel",
            "_view_count": null,
            "_view_module": "@jupyter-widgets/base",
            "_view_module_version": "1.2.0",
            "_view_name": "LayoutView",
            "align_content": null,
            "align_items": null,
            "align_self": null,
            "border": null,
            "bottom": null,
            "display": null,
            "flex": null,
            "flex_flow": null,
            "grid_area": null,
            "grid_auto_columns": null,
            "grid_auto_flow": null,
            "grid_auto_rows": null,
            "grid_column": null,
            "grid_gap": null,
            "grid_row": null,
            "grid_template_areas": null,
            "grid_template_columns": null,
            "grid_template_rows": null,
            "height": "25px",
            "justify_content": null,
            "justify_items": null,
            "left": null,
            "margin": null,
            "max_height": null,
            "max_width": null,
            "min_height": null,
            "min_width": null,
            "object_fit": null,
            "object_position": null,
            "order": null,
            "overflow": null,
            "overflow_x": null,
            "overflow_y": null,
            "padding": null,
            "right": null,
            "top": null,
            "visibility": null,
            "width": "50%"
          }
        },
        "a1290005529a497ab3fb4832b6001881": {
          "model_module": "@jupyter-widgets/controls",
          "model_name": "ProgressStyleModel",
          "model_module_version": "1.5.0",
          "state": {
            "_model_module": "@jupyter-widgets/controls",
            "_model_module_version": "1.5.0",
            "_model_name": "ProgressStyleModel",
            "_view_count": null,
            "_view_module": "@jupyter-widgets/base",
            "_view_module_version": "1.2.0",
            "_view_name": "StyleView",
            "bar_color": null,
            "description_width": ""
          }
        },
        "e207ad6c2b354d4d89c0673ee8a68642": {
          "model_module": "@jupyter-widgets/controls",
          "model_name": "FloatProgressModel",
          "model_module_version": "1.5.0",
          "state": {
            "_dom_classes": [],
            "_model_module": "@jupyter-widgets/controls",
            "_model_module_version": "1.5.0",
            "_model_name": "FloatProgressModel",
            "_view_count": null,
            "_view_module": "@jupyter-widgets/controls",
            "_view_module_version": "1.5.0",
            "_view_name": "ProgressView",
            "bar_style": "info",
            "description": "Progress:",
            "description_tooltip": null,
            "layout": "IPY_MODEL_5da4d65d61e24f49a6cdfae3b978f201",
            "max": 1,
            "min": 0,
            "orientation": "horizontal",
            "style": "IPY_MODEL_34dcc92be2474682814f81d9cddbf69b",
            "value": 0
          }
        },
        "5da4d65d61e24f49a6cdfae3b978f201": {
          "model_module": "@jupyter-widgets/base",
          "model_name": "LayoutModel",
          "model_module_version": "1.2.0",
          "state": {
            "_model_module": "@jupyter-widgets/base",
            "_model_module_version": "1.2.0",
            "_model_name": "LayoutModel",
            "_view_count": null,
            "_view_module": "@jupyter-widgets/base",
            "_view_module_version": "1.2.0",
            "_view_name": "LayoutView",
            "align_content": null,
            "align_items": null,
            "align_self": null,
            "border": null,
            "bottom": null,
            "display": null,
            "flex": null,
            "flex_flow": null,
            "grid_area": null,
            "grid_auto_columns": null,
            "grid_auto_flow": null,
            "grid_auto_rows": null,
            "grid_column": null,
            "grid_gap": null,
            "grid_row": null,
            "grid_template_areas": null,
            "grid_template_columns": null,
            "grid_template_rows": null,
            "height": "25px",
            "justify_content": null,
            "justify_items": null,
            "left": null,
            "margin": null,
            "max_height": null,
            "max_width": null,
            "min_height": null,
            "min_width": null,
            "object_fit": null,
            "object_position": null,
            "order": null,
            "overflow": null,
            "overflow_x": null,
            "overflow_y": null,
            "padding": null,
            "right": null,
            "top": null,
            "visibility": null,
            "width": "50%"
          }
        },
        "34dcc92be2474682814f81d9cddbf69b": {
          "model_module": "@jupyter-widgets/controls",
          "model_name": "ProgressStyleModel",
          "model_module_version": "1.5.0",
          "state": {
            "_model_module": "@jupyter-widgets/controls",
            "_model_module_version": "1.5.0",
            "_model_name": "ProgressStyleModel",
            "_view_count": null,
            "_view_module": "@jupyter-widgets/base",
            "_view_module_version": "1.2.0",
            "_view_name": "StyleView",
            "bar_color": null,
            "description_width": ""
          }
        },
        "21a32e076a0e44328430ce9a9b70aba5": {
          "model_module": "@jupyter-widgets/controls",
          "model_name": "FloatProgressModel",
          "model_module_version": "1.5.0",
          "state": {
            "_dom_classes": [],
            "_model_module": "@jupyter-widgets/controls",
            "_model_module_version": "1.5.0",
            "_model_name": "FloatProgressModel",
            "_view_count": null,
            "_view_module": "@jupyter-widgets/controls",
            "_view_module_version": "1.5.0",
            "_view_name": "ProgressView",
            "bar_style": "info",
            "description": "Progress:",
            "description_tooltip": null,
            "layout": "IPY_MODEL_b5761ff5e1d540ba9268135e31dcf929",
            "max": 1,
            "min": 0,
            "orientation": "horizontal",
            "style": "IPY_MODEL_d7dc46cc91024bb3a86589b5d1d16444",
            "value": 0.9607390300230947
          }
        },
        "b5761ff5e1d540ba9268135e31dcf929": {
          "model_module": "@jupyter-widgets/base",
          "model_name": "LayoutModel",
          "model_module_version": "1.2.0",
          "state": {
            "_model_module": "@jupyter-widgets/base",
            "_model_module_version": "1.2.0",
            "_model_name": "LayoutModel",
            "_view_count": null,
            "_view_module": "@jupyter-widgets/base",
            "_view_module_version": "1.2.0",
            "_view_name": "LayoutView",
            "align_content": null,
            "align_items": null,
            "align_self": null,
            "border": null,
            "bottom": null,
            "display": null,
            "flex": null,
            "flex_flow": null,
            "grid_area": null,
            "grid_auto_columns": null,
            "grid_auto_flow": null,
            "grid_auto_rows": null,
            "grid_column": null,
            "grid_gap": null,
            "grid_row": null,
            "grid_template_areas": null,
            "grid_template_columns": null,
            "grid_template_rows": null,
            "height": "25px",
            "justify_content": null,
            "justify_items": null,
            "left": null,
            "margin": null,
            "max_height": null,
            "max_width": null,
            "min_height": null,
            "min_width": null,
            "object_fit": null,
            "object_position": null,
            "order": null,
            "overflow": null,
            "overflow_x": null,
            "overflow_y": null,
            "padding": null,
            "right": null,
            "top": null,
            "visibility": null,
            "width": "50%"
          }
        },
        "d7dc46cc91024bb3a86589b5d1d16444": {
          "model_module": "@jupyter-widgets/controls",
          "model_name": "ProgressStyleModel",
          "model_module_version": "1.5.0",
          "state": {
            "_model_module": "@jupyter-widgets/controls",
            "_model_module_version": "1.5.0",
            "_model_name": "ProgressStyleModel",
            "_view_count": null,
            "_view_module": "@jupyter-widgets/base",
            "_view_module_version": "1.2.0",
            "_view_name": "StyleView",
            "bar_color": null,
            "description_width": ""
          }
        },
        "95adbfb944ce438b9c3c9cec1987eefd": {
          "model_module": "@jupyter-widgets/controls",
          "model_name": "FloatProgressModel",
          "model_module_version": "1.5.0",
          "state": {
            "_dom_classes": [],
            "_model_module": "@jupyter-widgets/controls",
            "_model_module_version": "1.5.0",
            "_model_name": "FloatProgressModel",
            "_view_count": null,
            "_view_module": "@jupyter-widgets/controls",
            "_view_module_version": "1.5.0",
            "_view_name": "ProgressView",
            "bar_style": "info",
            "description": "Progress:",
            "description_tooltip": null,
            "layout": "IPY_MODEL_86e979a2cc1f4339aa6026e5b8ca6850",
            "max": 1,
            "min": 0,
            "orientation": "horizontal",
            "style": "IPY_MODEL_7a2706a493954a1aa761009eff05dc32",
            "value": 0.75
          }
        },
        "86e979a2cc1f4339aa6026e5b8ca6850": {
          "model_module": "@jupyter-widgets/base",
          "model_name": "LayoutModel",
          "model_module_version": "1.2.0",
          "state": {
            "_model_module": "@jupyter-widgets/base",
            "_model_module_version": "1.2.0",
            "_model_name": "LayoutModel",
            "_view_count": null,
            "_view_module": "@jupyter-widgets/base",
            "_view_module_version": "1.2.0",
            "_view_name": "LayoutView",
            "align_content": null,
            "align_items": null,
            "align_self": null,
            "border": null,
            "bottom": null,
            "display": null,
            "flex": null,
            "flex_flow": null,
            "grid_area": null,
            "grid_auto_columns": null,
            "grid_auto_flow": null,
            "grid_auto_rows": null,
            "grid_column": null,
            "grid_gap": null,
            "grid_row": null,
            "grid_template_areas": null,
            "grid_template_columns": null,
            "grid_template_rows": null,
            "height": "25px",
            "justify_content": null,
            "justify_items": null,
            "left": null,
            "margin": null,
            "max_height": null,
            "max_width": null,
            "min_height": null,
            "min_width": null,
            "object_fit": null,
            "object_position": null,
            "order": null,
            "overflow": null,
            "overflow_x": null,
            "overflow_y": null,
            "padding": null,
            "right": null,
            "top": null,
            "visibility": null,
            "width": "50%"
          }
        },
        "7a2706a493954a1aa761009eff05dc32": {
          "model_module": "@jupyter-widgets/controls",
          "model_name": "ProgressStyleModel",
          "model_module_version": "1.5.0",
          "state": {
            "_model_module": "@jupyter-widgets/controls",
            "_model_module_version": "1.5.0",
            "_model_name": "ProgressStyleModel",
            "_view_count": null,
            "_view_module": "@jupyter-widgets/base",
            "_view_module_version": "1.2.0",
            "_view_name": "StyleView",
            "bar_color": null,
            "description_width": ""
          }
        },
        "c240d918bcf24364b459f4bec5a6f199": {
          "model_module": "@jupyter-widgets/controls",
          "model_name": "FloatProgressModel",
          "model_module_version": "1.5.0",
          "state": {
            "_dom_classes": [],
            "_model_module": "@jupyter-widgets/controls",
            "_model_module_version": "1.5.0",
            "_model_name": "FloatProgressModel",
            "_view_count": null,
            "_view_module": "@jupyter-widgets/controls",
            "_view_module_version": "1.5.0",
            "_view_name": "ProgressView",
            "bar_style": "info",
            "description": "Progress:",
            "description_tooltip": null,
            "layout": "IPY_MODEL_8f02e5f39ff04422a92b5024f355bafc",
            "max": 1,
            "min": 0,
            "orientation": "horizontal",
            "style": "IPY_MODEL_51b60e51ee2a4d699b1f50ce26c196ba",
            "value": 0
          }
        },
        "8f02e5f39ff04422a92b5024f355bafc": {
          "model_module": "@jupyter-widgets/base",
          "model_name": "LayoutModel",
          "model_module_version": "1.2.0",
          "state": {
            "_model_module": "@jupyter-widgets/base",
            "_model_module_version": "1.2.0",
            "_model_name": "LayoutModel",
            "_view_count": null,
            "_view_module": "@jupyter-widgets/base",
            "_view_module_version": "1.2.0",
            "_view_name": "LayoutView",
            "align_content": null,
            "align_items": null,
            "align_self": null,
            "border": null,
            "bottom": null,
            "display": null,
            "flex": null,
            "flex_flow": null,
            "grid_area": null,
            "grid_auto_columns": null,
            "grid_auto_flow": null,
            "grid_auto_rows": null,
            "grid_column": null,
            "grid_gap": null,
            "grid_row": null,
            "grid_template_areas": null,
            "grid_template_columns": null,
            "grid_template_rows": null,
            "height": "25px",
            "justify_content": null,
            "justify_items": null,
            "left": null,
            "margin": null,
            "max_height": null,
            "max_width": null,
            "min_height": null,
            "min_width": null,
            "object_fit": null,
            "object_position": null,
            "order": null,
            "overflow": null,
            "overflow_x": null,
            "overflow_y": null,
            "padding": null,
            "right": null,
            "top": null,
            "visibility": null,
            "width": "50%"
          }
        },
        "51b60e51ee2a4d699b1f50ce26c196ba": {
          "model_module": "@jupyter-widgets/controls",
          "model_name": "ProgressStyleModel",
          "model_module_version": "1.5.0",
          "state": {
            "_model_module": "@jupyter-widgets/controls",
            "_model_module_version": "1.5.0",
            "_model_name": "ProgressStyleModel",
            "_view_count": null,
            "_view_module": "@jupyter-widgets/base",
            "_view_module_version": "1.2.0",
            "_view_name": "StyleView",
            "bar_color": null,
            "description_width": ""
          }
        },
        "fd50abaae4534259958a42e7142961d2": {
          "model_module": "@jupyter-widgets/controls",
          "model_name": "FloatProgressModel",
          "model_module_version": "1.5.0",
          "state": {
            "_dom_classes": [],
            "_model_module": "@jupyter-widgets/controls",
            "_model_module_version": "1.5.0",
            "_model_name": "FloatProgressModel",
            "_view_count": null,
            "_view_module": "@jupyter-widgets/controls",
            "_view_module_version": "1.5.0",
            "_view_name": "ProgressView",
            "bar_style": "info",
            "description": "Progress:",
            "description_tooltip": null,
            "layout": "IPY_MODEL_18a40375b795437e9fe6808c6ca639ea",
            "max": 1,
            "min": 0,
            "orientation": "horizontal",
            "style": "IPY_MODEL_dc170e29ea3c4faab56bbae1c913f4cc",
            "value": 0
          }
        },
        "18a40375b795437e9fe6808c6ca639ea": {
          "model_module": "@jupyter-widgets/base",
          "model_name": "LayoutModel",
          "model_module_version": "1.2.0",
          "state": {
            "_model_module": "@jupyter-widgets/base",
            "_model_module_version": "1.2.0",
            "_model_name": "LayoutModel",
            "_view_count": null,
            "_view_module": "@jupyter-widgets/base",
            "_view_module_version": "1.2.0",
            "_view_name": "LayoutView",
            "align_content": null,
            "align_items": null,
            "align_self": null,
            "border": null,
            "bottom": null,
            "display": null,
            "flex": null,
            "flex_flow": null,
            "grid_area": null,
            "grid_auto_columns": null,
            "grid_auto_flow": null,
            "grid_auto_rows": null,
            "grid_column": null,
            "grid_gap": null,
            "grid_row": null,
            "grid_template_areas": null,
            "grid_template_columns": null,
            "grid_template_rows": null,
            "height": "25px",
            "justify_content": null,
            "justify_items": null,
            "left": null,
            "margin": null,
            "max_height": null,
            "max_width": null,
            "min_height": null,
            "min_width": null,
            "object_fit": null,
            "object_position": null,
            "order": null,
            "overflow": null,
            "overflow_x": null,
            "overflow_y": null,
            "padding": null,
            "right": null,
            "top": null,
            "visibility": null,
            "width": "50%"
          }
        },
        "dc170e29ea3c4faab56bbae1c913f4cc": {
          "model_module": "@jupyter-widgets/controls",
          "model_name": "ProgressStyleModel",
          "model_module_version": "1.5.0",
          "state": {
            "_model_module": "@jupyter-widgets/controls",
            "_model_module_version": "1.5.0",
            "_model_name": "ProgressStyleModel",
            "_view_count": null,
            "_view_module": "@jupyter-widgets/base",
            "_view_module_version": "1.2.0",
            "_view_name": "StyleView",
            "bar_color": null,
            "description_width": ""
          }
        },
        "d7435bfbd5cf4f2fa1b6c7dc6458e06d": {
          "model_module": "@jupyter-widgets/controls",
          "model_name": "FloatProgressModel",
          "model_module_version": "1.5.0",
          "state": {
            "_dom_classes": [],
            "_model_module": "@jupyter-widgets/controls",
            "_model_module_version": "1.5.0",
            "_model_name": "FloatProgressModel",
            "_view_count": null,
            "_view_module": "@jupyter-widgets/controls",
            "_view_module_version": "1.5.0",
            "_view_name": "ProgressView",
            "bar_style": "info",
            "description": "Progress:",
            "description_tooltip": null,
            "layout": "IPY_MODEL_dbc75fddb7354ad98c319c19496fe833",
            "max": 1,
            "min": 0,
            "orientation": "horizontal",
            "style": "IPY_MODEL_b42b05704cad4b59a89fc160190f9ac2",
            "value": 0.9951219512195122
          }
        },
        "dbc75fddb7354ad98c319c19496fe833": {
          "model_module": "@jupyter-widgets/base",
          "model_name": "LayoutModel",
          "model_module_version": "1.2.0",
          "state": {
            "_model_module": "@jupyter-widgets/base",
            "_model_module_version": "1.2.0",
            "_model_name": "LayoutModel",
            "_view_count": null,
            "_view_module": "@jupyter-widgets/base",
            "_view_module_version": "1.2.0",
            "_view_name": "LayoutView",
            "align_content": null,
            "align_items": null,
            "align_self": null,
            "border": null,
            "bottom": null,
            "display": null,
            "flex": null,
            "flex_flow": null,
            "grid_area": null,
            "grid_auto_columns": null,
            "grid_auto_flow": null,
            "grid_auto_rows": null,
            "grid_column": null,
            "grid_gap": null,
            "grid_row": null,
            "grid_template_areas": null,
            "grid_template_columns": null,
            "grid_template_rows": null,
            "height": "25px",
            "justify_content": null,
            "justify_items": null,
            "left": null,
            "margin": null,
            "max_height": null,
            "max_width": null,
            "min_height": null,
            "min_width": null,
            "object_fit": null,
            "object_position": null,
            "order": null,
            "overflow": null,
            "overflow_x": null,
            "overflow_y": null,
            "padding": null,
            "right": null,
            "top": null,
            "visibility": null,
            "width": "50%"
          }
        },
        "b42b05704cad4b59a89fc160190f9ac2": {
          "model_module": "@jupyter-widgets/controls",
          "model_name": "ProgressStyleModel",
          "model_module_version": "1.5.0",
          "state": {
            "_model_module": "@jupyter-widgets/controls",
            "_model_module_version": "1.5.0",
            "_model_name": "ProgressStyleModel",
            "_view_count": null,
            "_view_module": "@jupyter-widgets/base",
            "_view_module_version": "1.2.0",
            "_view_name": "StyleView",
            "bar_color": null,
            "description_width": ""
          }
        },
        "8a99ce60c15b46e5a0efa169a7a01680": {
          "model_module": "@jupyter-widgets/controls",
          "model_name": "FloatProgressModel",
          "model_module_version": "1.5.0",
          "state": {
            "_dom_classes": [],
            "_model_module": "@jupyter-widgets/controls",
            "_model_module_version": "1.5.0",
            "_model_name": "FloatProgressModel",
            "_view_count": null,
            "_view_module": "@jupyter-widgets/controls",
            "_view_module_version": "1.5.0",
            "_view_name": "ProgressView",
            "bar_style": "info",
            "description": "Progress:",
            "description_tooltip": null,
            "layout": "IPY_MODEL_43914eedc5304ce4b4ee773a17ab4069",
            "max": 1,
            "min": 0,
            "orientation": "horizontal",
            "style": "IPY_MODEL_c62eb81079294e32abf81d0ca7036a9e",
            "value": 0
          }
        },
        "43914eedc5304ce4b4ee773a17ab4069": {
          "model_module": "@jupyter-widgets/base",
          "model_name": "LayoutModel",
          "model_module_version": "1.2.0",
          "state": {
            "_model_module": "@jupyter-widgets/base",
            "_model_module_version": "1.2.0",
            "_model_name": "LayoutModel",
            "_view_count": null,
            "_view_module": "@jupyter-widgets/base",
            "_view_module_version": "1.2.0",
            "_view_name": "LayoutView",
            "align_content": null,
            "align_items": null,
            "align_self": null,
            "border": null,
            "bottom": null,
            "display": null,
            "flex": null,
            "flex_flow": null,
            "grid_area": null,
            "grid_auto_columns": null,
            "grid_auto_flow": null,
            "grid_auto_rows": null,
            "grid_column": null,
            "grid_gap": null,
            "grid_row": null,
            "grid_template_areas": null,
            "grid_template_columns": null,
            "grid_template_rows": null,
            "height": "25px",
            "justify_content": null,
            "justify_items": null,
            "left": null,
            "margin": null,
            "max_height": null,
            "max_width": null,
            "min_height": null,
            "min_width": null,
            "object_fit": null,
            "object_position": null,
            "order": null,
            "overflow": null,
            "overflow_x": null,
            "overflow_y": null,
            "padding": null,
            "right": null,
            "top": null,
            "visibility": null,
            "width": "50%"
          }
        },
        "c62eb81079294e32abf81d0ca7036a9e": {
          "model_module": "@jupyter-widgets/controls",
          "model_name": "ProgressStyleModel",
          "model_module_version": "1.5.0",
          "state": {
            "_model_module": "@jupyter-widgets/controls",
            "_model_module_version": "1.5.0",
            "_model_name": "ProgressStyleModel",
            "_view_count": null,
            "_view_module": "@jupyter-widgets/base",
            "_view_module_version": "1.2.0",
            "_view_name": "StyleView",
            "bar_color": null,
            "description_width": ""
          }
        },
        "2a9ce600a08e447697c89f6aaf59b818": {
          "model_module": "@jupyter-widgets/controls",
          "model_name": "FloatProgressModel",
          "model_module_version": "1.5.0",
          "state": {
            "_dom_classes": [],
            "_model_module": "@jupyter-widgets/controls",
            "_model_module_version": "1.5.0",
            "_model_name": "FloatProgressModel",
            "_view_count": null,
            "_view_module": "@jupyter-widgets/controls",
            "_view_module_version": "1.5.0",
            "_view_name": "ProgressView",
            "bar_style": "info",
            "description": "Progress:",
            "description_tooltip": null,
            "layout": "IPY_MODEL_67ccefe636974a66ae8fb8e28aaf3f9d",
            "max": 1,
            "min": 0,
            "orientation": "horizontal",
            "style": "IPY_MODEL_f552848d6cdb432b9e31bce14872a32d",
            "value": 0
          }
        },
        "67ccefe636974a66ae8fb8e28aaf3f9d": {
          "model_module": "@jupyter-widgets/base",
          "model_name": "LayoutModel",
          "model_module_version": "1.2.0",
          "state": {
            "_model_module": "@jupyter-widgets/base",
            "_model_module_version": "1.2.0",
            "_model_name": "LayoutModel",
            "_view_count": null,
            "_view_module": "@jupyter-widgets/base",
            "_view_module_version": "1.2.0",
            "_view_name": "LayoutView",
            "align_content": null,
            "align_items": null,
            "align_self": null,
            "border": null,
            "bottom": null,
            "display": null,
            "flex": null,
            "flex_flow": null,
            "grid_area": null,
            "grid_auto_columns": null,
            "grid_auto_flow": null,
            "grid_auto_rows": null,
            "grid_column": null,
            "grid_gap": null,
            "grid_row": null,
            "grid_template_areas": null,
            "grid_template_columns": null,
            "grid_template_rows": null,
            "height": "25px",
            "justify_content": null,
            "justify_items": null,
            "left": null,
            "margin": null,
            "max_height": null,
            "max_width": null,
            "min_height": null,
            "min_width": null,
            "object_fit": null,
            "object_position": null,
            "order": null,
            "overflow": null,
            "overflow_x": null,
            "overflow_y": null,
            "padding": null,
            "right": null,
            "top": null,
            "visibility": null,
            "width": "50%"
          }
        },
        "f552848d6cdb432b9e31bce14872a32d": {
          "model_module": "@jupyter-widgets/controls",
          "model_name": "ProgressStyleModel",
          "model_module_version": "1.5.0",
          "state": {
            "_model_module": "@jupyter-widgets/controls",
            "_model_module_version": "1.5.0",
            "_model_name": "ProgressStyleModel",
            "_view_count": null,
            "_view_module": "@jupyter-widgets/base",
            "_view_module_version": "1.2.0",
            "_view_name": "StyleView",
            "bar_color": null,
            "description_width": ""
          }
        },
        "bfa5dbcc56014bec8194b64b13209074": {
          "model_module": "@jupyter-widgets/controls",
          "model_name": "FloatProgressModel",
          "model_module_version": "1.5.0",
          "state": {
            "_dom_classes": [],
            "_model_module": "@jupyter-widgets/controls",
            "_model_module_version": "1.5.0",
            "_model_name": "FloatProgressModel",
            "_view_count": null,
            "_view_module": "@jupyter-widgets/controls",
            "_view_module_version": "1.5.0",
            "_view_name": "ProgressView",
            "bar_style": "info",
            "description": "Progress:",
            "description_tooltip": null,
            "layout": "IPY_MODEL_04deaba10e2040b6bba143af28c3c57b",
            "max": 1,
            "min": 0,
            "orientation": "horizontal",
            "style": "IPY_MODEL_2f2972f496534eb883b875acb54542a3",
            "value": 0
          }
        },
        "04deaba10e2040b6bba143af28c3c57b": {
          "model_module": "@jupyter-widgets/base",
          "model_name": "LayoutModel",
          "model_module_version": "1.2.0",
          "state": {
            "_model_module": "@jupyter-widgets/base",
            "_model_module_version": "1.2.0",
            "_model_name": "LayoutModel",
            "_view_count": null,
            "_view_module": "@jupyter-widgets/base",
            "_view_module_version": "1.2.0",
            "_view_name": "LayoutView",
            "align_content": null,
            "align_items": null,
            "align_self": null,
            "border": null,
            "bottom": null,
            "display": null,
            "flex": null,
            "flex_flow": null,
            "grid_area": null,
            "grid_auto_columns": null,
            "grid_auto_flow": null,
            "grid_auto_rows": null,
            "grid_column": null,
            "grid_gap": null,
            "grid_row": null,
            "grid_template_areas": null,
            "grid_template_columns": null,
            "grid_template_rows": null,
            "height": "25px",
            "justify_content": null,
            "justify_items": null,
            "left": null,
            "margin": null,
            "max_height": null,
            "max_width": null,
            "min_height": null,
            "min_width": null,
            "object_fit": null,
            "object_position": null,
            "order": null,
            "overflow": null,
            "overflow_x": null,
            "overflow_y": null,
            "padding": null,
            "right": null,
            "top": null,
            "visibility": null,
            "width": "50%"
          }
        },
        "2f2972f496534eb883b875acb54542a3": {
          "model_module": "@jupyter-widgets/controls",
          "model_name": "ProgressStyleModel",
          "model_module_version": "1.5.0",
          "state": {
            "_model_module": "@jupyter-widgets/controls",
            "_model_module_version": "1.5.0",
            "_model_name": "ProgressStyleModel",
            "_view_count": null,
            "_view_module": "@jupyter-widgets/base",
            "_view_module_version": "1.2.0",
            "_view_name": "StyleView",
            "bar_color": null,
            "description_width": ""
          }
        },
        "96389c6e0d054832ac2161e6b14e5896": {
          "model_module": "@jupyter-widgets/controls",
          "model_name": "FloatProgressModel",
          "model_module_version": "1.5.0",
          "state": {
            "_dom_classes": [],
            "_model_module": "@jupyter-widgets/controls",
            "_model_module_version": "1.5.0",
            "_model_name": "FloatProgressModel",
            "_view_count": null,
            "_view_module": "@jupyter-widgets/controls",
            "_view_module_version": "1.5.0",
            "_view_name": "ProgressView",
            "bar_style": "info",
            "description": "Progress:",
            "description_tooltip": null,
            "layout": "IPY_MODEL_7c8ff097047e4b2ea53e2f3165ab3251",
            "max": 1,
            "min": 0,
            "orientation": "horizontal",
            "style": "IPY_MODEL_efa94c88c1914ce7ba7b9cf57b31ea30",
            "value": 0.5654320987654321
          }
        },
        "7c8ff097047e4b2ea53e2f3165ab3251": {
          "model_module": "@jupyter-widgets/base",
          "model_name": "LayoutModel",
          "model_module_version": "1.2.0",
          "state": {
            "_model_module": "@jupyter-widgets/base",
            "_model_module_version": "1.2.0",
            "_model_name": "LayoutModel",
            "_view_count": null,
            "_view_module": "@jupyter-widgets/base",
            "_view_module_version": "1.2.0",
            "_view_name": "LayoutView",
            "align_content": null,
            "align_items": null,
            "align_self": null,
            "border": null,
            "bottom": null,
            "display": null,
            "flex": null,
            "flex_flow": null,
            "grid_area": null,
            "grid_auto_columns": null,
            "grid_auto_flow": null,
            "grid_auto_rows": null,
            "grid_column": null,
            "grid_gap": null,
            "grid_row": null,
            "grid_template_areas": null,
            "grid_template_columns": null,
            "grid_template_rows": null,
            "height": "25px",
            "justify_content": null,
            "justify_items": null,
            "left": null,
            "margin": null,
            "max_height": null,
            "max_width": null,
            "min_height": null,
            "min_width": null,
            "object_fit": null,
            "object_position": null,
            "order": null,
            "overflow": null,
            "overflow_x": null,
            "overflow_y": null,
            "padding": null,
            "right": null,
            "top": null,
            "visibility": null,
            "width": "50%"
          }
        },
        "efa94c88c1914ce7ba7b9cf57b31ea30": {
          "model_module": "@jupyter-widgets/controls",
          "model_name": "ProgressStyleModel",
          "model_module_version": "1.5.0",
          "state": {
            "_model_module": "@jupyter-widgets/controls",
            "_model_module_version": "1.5.0",
            "_model_name": "ProgressStyleModel",
            "_view_count": null,
            "_view_module": "@jupyter-widgets/base",
            "_view_module_version": "1.2.0",
            "_view_name": "StyleView",
            "bar_color": null,
            "description_width": ""
          }
        },
        "8206f9350b1a4ceb82bcfad26896a8a0": {
          "model_module": "@jupyter-widgets/controls",
          "model_name": "FloatProgressModel",
          "model_module_version": "1.5.0",
          "state": {
            "_dom_classes": [],
            "_model_module": "@jupyter-widgets/controls",
            "_model_module_version": "1.5.0",
            "_model_name": "FloatProgressModel",
            "_view_count": null,
            "_view_module": "@jupyter-widgets/controls",
            "_view_module_version": "1.5.0",
            "_view_name": "ProgressView",
            "bar_style": "info",
            "description": "Progress:",
            "description_tooltip": null,
            "layout": "IPY_MODEL_efe0e00b310a454e9845c7728d6282ca",
            "max": 1,
            "min": 0,
            "orientation": "horizontal",
            "style": "IPY_MODEL_0cddcf6ac81743da9d2b79e15ac4e072",
            "value": 0.75
          }
        },
        "efe0e00b310a454e9845c7728d6282ca": {
          "model_module": "@jupyter-widgets/base",
          "model_name": "LayoutModel",
          "model_module_version": "1.2.0",
          "state": {
            "_model_module": "@jupyter-widgets/base",
            "_model_module_version": "1.2.0",
            "_model_name": "LayoutModel",
            "_view_count": null,
            "_view_module": "@jupyter-widgets/base",
            "_view_module_version": "1.2.0",
            "_view_name": "LayoutView",
            "align_content": null,
            "align_items": null,
            "align_self": null,
            "border": null,
            "bottom": null,
            "display": null,
            "flex": null,
            "flex_flow": null,
            "grid_area": null,
            "grid_auto_columns": null,
            "grid_auto_flow": null,
            "grid_auto_rows": null,
            "grid_column": null,
            "grid_gap": null,
            "grid_row": null,
            "grid_template_areas": null,
            "grid_template_columns": null,
            "grid_template_rows": null,
            "height": "25px",
            "justify_content": null,
            "justify_items": null,
            "left": null,
            "margin": null,
            "max_height": null,
            "max_width": null,
            "min_height": null,
            "min_width": null,
            "object_fit": null,
            "object_position": null,
            "order": null,
            "overflow": null,
            "overflow_x": null,
            "overflow_y": null,
            "padding": null,
            "right": null,
            "top": null,
            "visibility": null,
            "width": "50%"
          }
        },
        "0cddcf6ac81743da9d2b79e15ac4e072": {
          "model_module": "@jupyter-widgets/controls",
          "model_name": "ProgressStyleModel",
          "model_module_version": "1.5.0",
          "state": {
            "_model_module": "@jupyter-widgets/controls",
            "_model_module_version": "1.5.0",
            "_model_name": "ProgressStyleModel",
            "_view_count": null,
            "_view_module": "@jupyter-widgets/base",
            "_view_module_version": "1.2.0",
            "_view_name": "StyleView",
            "bar_color": null,
            "description_width": ""
          }
        },
        "ae58ebc15b9a484a82f4079f52bbdd77": {
          "model_module": "@jupyter-widgets/controls",
          "model_name": "FloatProgressModel",
          "model_module_version": "1.5.0",
          "state": {
            "_dom_classes": [],
            "_model_module": "@jupyter-widgets/controls",
            "_model_module_version": "1.5.0",
            "_model_name": "FloatProgressModel",
            "_view_count": null,
            "_view_module": "@jupyter-widgets/controls",
            "_view_module_version": "1.5.0",
            "_view_name": "ProgressView",
            "bar_style": "info",
            "description": "Progress:",
            "description_tooltip": null,
            "layout": "IPY_MODEL_fc58685a0e34405b84f68fe89743dd5d",
            "max": 1,
            "min": 0,
            "orientation": "horizontal",
            "style": "IPY_MODEL_210ea620b8b44803a45ef43a363f4596",
            "value": 0
          }
        },
        "fc58685a0e34405b84f68fe89743dd5d": {
          "model_module": "@jupyter-widgets/base",
          "model_name": "LayoutModel",
          "model_module_version": "1.2.0",
          "state": {
            "_model_module": "@jupyter-widgets/base",
            "_model_module_version": "1.2.0",
            "_model_name": "LayoutModel",
            "_view_count": null,
            "_view_module": "@jupyter-widgets/base",
            "_view_module_version": "1.2.0",
            "_view_name": "LayoutView",
            "align_content": null,
            "align_items": null,
            "align_self": null,
            "border": null,
            "bottom": null,
            "display": null,
            "flex": null,
            "flex_flow": null,
            "grid_area": null,
            "grid_auto_columns": null,
            "grid_auto_flow": null,
            "grid_auto_rows": null,
            "grid_column": null,
            "grid_gap": null,
            "grid_row": null,
            "grid_template_areas": null,
            "grid_template_columns": null,
            "grid_template_rows": null,
            "height": "25px",
            "justify_content": null,
            "justify_items": null,
            "left": null,
            "margin": null,
            "max_height": null,
            "max_width": null,
            "min_height": null,
            "min_width": null,
            "object_fit": null,
            "object_position": null,
            "order": null,
            "overflow": null,
            "overflow_x": null,
            "overflow_y": null,
            "padding": null,
            "right": null,
            "top": null,
            "visibility": null,
            "width": "50%"
          }
        },
        "210ea620b8b44803a45ef43a363f4596": {
          "model_module": "@jupyter-widgets/controls",
          "model_name": "ProgressStyleModel",
          "model_module_version": "1.5.0",
          "state": {
            "_model_module": "@jupyter-widgets/controls",
            "_model_module_version": "1.5.0",
            "_model_name": "ProgressStyleModel",
            "_view_count": null,
            "_view_module": "@jupyter-widgets/base",
            "_view_module_version": "1.2.0",
            "_view_name": "StyleView",
            "bar_color": null,
            "description_width": ""
          }
        },
        "1e11d3c49fb742c990593f5f2035c4c8": {
          "model_module": "@jupyter-widgets/controls",
          "model_name": "FloatProgressModel",
          "model_module_version": "1.5.0",
          "state": {
            "_dom_classes": [],
            "_model_module": "@jupyter-widgets/controls",
            "_model_module_version": "1.5.0",
            "_model_name": "FloatProgressModel",
            "_view_count": null,
            "_view_module": "@jupyter-widgets/controls",
            "_view_module_version": "1.5.0",
            "_view_name": "ProgressView",
            "bar_style": "info",
            "description": "Progress:",
            "description_tooltip": null,
            "layout": "IPY_MODEL_d3070936ecd74c16b284b53a15a09648",
            "max": 1,
            "min": 0,
            "orientation": "horizontal",
            "style": "IPY_MODEL_a94b38c572f94c09b88ad6e0e1e08576",
            "value": 0
          }
        },
        "d3070936ecd74c16b284b53a15a09648": {
          "model_module": "@jupyter-widgets/base",
          "model_name": "LayoutModel",
          "model_module_version": "1.2.0",
          "state": {
            "_model_module": "@jupyter-widgets/base",
            "_model_module_version": "1.2.0",
            "_model_name": "LayoutModel",
            "_view_count": null,
            "_view_module": "@jupyter-widgets/base",
            "_view_module_version": "1.2.0",
            "_view_name": "LayoutView",
            "align_content": null,
            "align_items": null,
            "align_self": null,
            "border": null,
            "bottom": null,
            "display": null,
            "flex": null,
            "flex_flow": null,
            "grid_area": null,
            "grid_auto_columns": null,
            "grid_auto_flow": null,
            "grid_auto_rows": null,
            "grid_column": null,
            "grid_gap": null,
            "grid_row": null,
            "grid_template_areas": null,
            "grid_template_columns": null,
            "grid_template_rows": null,
            "height": "25px",
            "justify_content": null,
            "justify_items": null,
            "left": null,
            "margin": null,
            "max_height": null,
            "max_width": null,
            "min_height": null,
            "min_width": null,
            "object_fit": null,
            "object_position": null,
            "order": null,
            "overflow": null,
            "overflow_x": null,
            "overflow_y": null,
            "padding": null,
            "right": null,
            "top": null,
            "visibility": null,
            "width": "50%"
          }
        },
        "a94b38c572f94c09b88ad6e0e1e08576": {
          "model_module": "@jupyter-widgets/controls",
          "model_name": "ProgressStyleModel",
          "model_module_version": "1.5.0",
          "state": {
            "_model_module": "@jupyter-widgets/controls",
            "_model_module_version": "1.5.0",
            "_model_name": "ProgressStyleModel",
            "_view_count": null,
            "_view_module": "@jupyter-widgets/base",
            "_view_module_version": "1.2.0",
            "_view_name": "StyleView",
            "bar_color": null,
            "description_width": ""
          }
        },
        "5151c55333db4ad7b5c64b10ba2bf083": {
          "model_module": "@jupyter-widgets/controls",
          "model_name": "FloatProgressModel",
          "model_module_version": "1.5.0",
          "state": {
            "_dom_classes": [],
            "_model_module": "@jupyter-widgets/controls",
            "_model_module_version": "1.5.0",
            "_model_name": "FloatProgressModel",
            "_view_count": null,
            "_view_module": "@jupyter-widgets/controls",
            "_view_module_version": "1.5.0",
            "_view_name": "ProgressView",
            "bar_style": "info",
            "description": "Progress:",
            "description_tooltip": null,
            "layout": "IPY_MODEL_775e6bb2a8974e50b090e634a95e811e",
            "max": 1,
            "min": 0,
            "orientation": "horizontal",
            "style": "IPY_MODEL_075e60717365485bba6f73ddaed01489",
            "value": 0.9629629629629629
          }
        },
        "775e6bb2a8974e50b090e634a95e811e": {
          "model_module": "@jupyter-widgets/base",
          "model_name": "LayoutModel",
          "model_module_version": "1.2.0",
          "state": {
            "_model_module": "@jupyter-widgets/base",
            "_model_module_version": "1.2.0",
            "_model_name": "LayoutModel",
            "_view_count": null,
            "_view_module": "@jupyter-widgets/base",
            "_view_module_version": "1.2.0",
            "_view_name": "LayoutView",
            "align_content": null,
            "align_items": null,
            "align_self": null,
            "border": null,
            "bottom": null,
            "display": null,
            "flex": null,
            "flex_flow": null,
            "grid_area": null,
            "grid_auto_columns": null,
            "grid_auto_flow": null,
            "grid_auto_rows": null,
            "grid_column": null,
            "grid_gap": null,
            "grid_row": null,
            "grid_template_areas": null,
            "grid_template_columns": null,
            "grid_template_rows": null,
            "height": "25px",
            "justify_content": null,
            "justify_items": null,
            "left": null,
            "margin": null,
            "max_height": null,
            "max_width": null,
            "min_height": null,
            "min_width": null,
            "object_fit": null,
            "object_position": null,
            "order": null,
            "overflow": null,
            "overflow_x": null,
            "overflow_y": null,
            "padding": null,
            "right": null,
            "top": null,
            "visibility": null,
            "width": "50%"
          }
        },
        "075e60717365485bba6f73ddaed01489": {
          "model_module": "@jupyter-widgets/controls",
          "model_name": "ProgressStyleModel",
          "model_module_version": "1.5.0",
          "state": {
            "_model_module": "@jupyter-widgets/controls",
            "_model_module_version": "1.5.0",
            "_model_name": "ProgressStyleModel",
            "_view_count": null,
            "_view_module": "@jupyter-widgets/base",
            "_view_module_version": "1.2.0",
            "_view_name": "StyleView",
            "bar_color": null,
            "description_width": ""
          }
        },
        "66cb6d1bbda54a5bb71adf32383c6dc4": {
          "model_module": "@jupyter-widgets/controls",
          "model_name": "FloatProgressModel",
          "model_module_version": "1.5.0",
          "state": {
            "_dom_classes": [],
            "_model_module": "@jupyter-widgets/controls",
            "_model_module_version": "1.5.0",
            "_model_name": "FloatProgressModel",
            "_view_count": null,
            "_view_module": "@jupyter-widgets/controls",
            "_view_module_version": "1.5.0",
            "_view_name": "ProgressView",
            "bar_style": "info",
            "description": "Progress:",
            "description_tooltip": null,
            "layout": "IPY_MODEL_051ed3a3a46245bfa10442a25faa1e69",
            "max": 1,
            "min": 0,
            "orientation": "horizontal",
            "style": "IPY_MODEL_404128d063fc4a5db9b29bd74eb08073",
            "value": 0.5714285714285714
          }
        },
        "051ed3a3a46245bfa10442a25faa1e69": {
          "model_module": "@jupyter-widgets/base",
          "model_name": "LayoutModel",
          "model_module_version": "1.2.0",
          "state": {
            "_model_module": "@jupyter-widgets/base",
            "_model_module_version": "1.2.0",
            "_model_name": "LayoutModel",
            "_view_count": null,
            "_view_module": "@jupyter-widgets/base",
            "_view_module_version": "1.2.0",
            "_view_name": "LayoutView",
            "align_content": null,
            "align_items": null,
            "align_self": null,
            "border": null,
            "bottom": null,
            "display": null,
            "flex": null,
            "flex_flow": null,
            "grid_area": null,
            "grid_auto_columns": null,
            "grid_auto_flow": null,
            "grid_auto_rows": null,
            "grid_column": null,
            "grid_gap": null,
            "grid_row": null,
            "grid_template_areas": null,
            "grid_template_columns": null,
            "grid_template_rows": null,
            "height": "25px",
            "justify_content": null,
            "justify_items": null,
            "left": null,
            "margin": null,
            "max_height": null,
            "max_width": null,
            "min_height": null,
            "min_width": null,
            "object_fit": null,
            "object_position": null,
            "order": null,
            "overflow": null,
            "overflow_x": null,
            "overflow_y": null,
            "padding": null,
            "right": null,
            "top": null,
            "visibility": null,
            "width": "50%"
          }
        },
        "404128d063fc4a5db9b29bd74eb08073": {
          "model_module": "@jupyter-widgets/controls",
          "model_name": "ProgressStyleModel",
          "model_module_version": "1.5.0",
          "state": {
            "_model_module": "@jupyter-widgets/controls",
            "_model_module_version": "1.5.0",
            "_model_name": "ProgressStyleModel",
            "_view_count": null,
            "_view_module": "@jupyter-widgets/base",
            "_view_module_version": "1.2.0",
            "_view_name": "StyleView",
            "bar_color": null,
            "description_width": ""
          }
        },
        "7580699f29c244128746e68575613ae5": {
          "model_module": "@jupyter-widgets/controls",
          "model_name": "FloatProgressModel",
          "model_module_version": "1.5.0",
          "state": {
            "_dom_classes": [],
            "_model_module": "@jupyter-widgets/controls",
            "_model_module_version": "1.5.0",
            "_model_name": "FloatProgressModel",
            "_view_count": null,
            "_view_module": "@jupyter-widgets/controls",
            "_view_module_version": "1.5.0",
            "_view_name": "ProgressView",
            "bar_style": "info",
            "description": "Progress:",
            "description_tooltip": null,
            "layout": "IPY_MODEL_b26b2308eeb546828b1a1a52dafb2e91",
            "max": 1,
            "min": 0,
            "orientation": "horizontal",
            "style": "IPY_MODEL_ded79cf1a22341e9baa43862b3ce6a3d",
            "value": 0
          }
        },
        "b26b2308eeb546828b1a1a52dafb2e91": {
          "model_module": "@jupyter-widgets/base",
          "model_name": "LayoutModel",
          "model_module_version": "1.2.0",
          "state": {
            "_model_module": "@jupyter-widgets/base",
            "_model_module_version": "1.2.0",
            "_model_name": "LayoutModel",
            "_view_count": null,
            "_view_module": "@jupyter-widgets/base",
            "_view_module_version": "1.2.0",
            "_view_name": "LayoutView",
            "align_content": null,
            "align_items": null,
            "align_self": null,
            "border": null,
            "bottom": null,
            "display": null,
            "flex": null,
            "flex_flow": null,
            "grid_area": null,
            "grid_auto_columns": null,
            "grid_auto_flow": null,
            "grid_auto_rows": null,
            "grid_column": null,
            "grid_gap": null,
            "grid_row": null,
            "grid_template_areas": null,
            "grid_template_columns": null,
            "grid_template_rows": null,
            "height": "25px",
            "justify_content": null,
            "justify_items": null,
            "left": null,
            "margin": null,
            "max_height": null,
            "max_width": null,
            "min_height": null,
            "min_width": null,
            "object_fit": null,
            "object_position": null,
            "order": null,
            "overflow": null,
            "overflow_x": null,
            "overflow_y": null,
            "padding": null,
            "right": null,
            "top": null,
            "visibility": null,
            "width": "50%"
          }
        },
        "ded79cf1a22341e9baa43862b3ce6a3d": {
          "model_module": "@jupyter-widgets/controls",
          "model_name": "ProgressStyleModel",
          "model_module_version": "1.5.0",
          "state": {
            "_model_module": "@jupyter-widgets/controls",
            "_model_module_version": "1.5.0",
            "_model_name": "ProgressStyleModel",
            "_view_count": null,
            "_view_module": "@jupyter-widgets/base",
            "_view_module_version": "1.2.0",
            "_view_name": "StyleView",
            "bar_color": null,
            "description_width": ""
          }
        },
        "cbd870a410004b9ca0dbe6face744165": {
          "model_module": "@jupyter-widgets/controls",
          "model_name": "FloatProgressModel",
          "model_module_version": "1.5.0",
          "state": {
            "_dom_classes": [],
            "_model_module": "@jupyter-widgets/controls",
            "_model_module_version": "1.5.0",
            "_model_name": "FloatProgressModel",
            "_view_count": null,
            "_view_module": "@jupyter-widgets/controls",
            "_view_module_version": "1.5.0",
            "_view_name": "ProgressView",
            "bar_style": "info",
            "description": "Progress:",
            "description_tooltip": null,
            "layout": "IPY_MODEL_1e49aae501a945c1a7c85812a5fcb771",
            "max": 1,
            "min": 0,
            "orientation": "horizontal",
            "style": "IPY_MODEL_af9017e37df8491695b6e40910215283",
            "value": 0
          }
        },
        "1e49aae501a945c1a7c85812a5fcb771": {
          "model_module": "@jupyter-widgets/base",
          "model_name": "LayoutModel",
          "model_module_version": "1.2.0",
          "state": {
            "_model_module": "@jupyter-widgets/base",
            "_model_module_version": "1.2.0",
            "_model_name": "LayoutModel",
            "_view_count": null,
            "_view_module": "@jupyter-widgets/base",
            "_view_module_version": "1.2.0",
            "_view_name": "LayoutView",
            "align_content": null,
            "align_items": null,
            "align_self": null,
            "border": null,
            "bottom": null,
            "display": null,
            "flex": null,
            "flex_flow": null,
            "grid_area": null,
            "grid_auto_columns": null,
            "grid_auto_flow": null,
            "grid_auto_rows": null,
            "grid_column": null,
            "grid_gap": null,
            "grid_row": null,
            "grid_template_areas": null,
            "grid_template_columns": null,
            "grid_template_rows": null,
            "height": "25px",
            "justify_content": null,
            "justify_items": null,
            "left": null,
            "margin": null,
            "max_height": null,
            "max_width": null,
            "min_height": null,
            "min_width": null,
            "object_fit": null,
            "object_position": null,
            "order": null,
            "overflow": null,
            "overflow_x": null,
            "overflow_y": null,
            "padding": null,
            "right": null,
            "top": null,
            "visibility": null,
            "width": "50%"
          }
        },
        "af9017e37df8491695b6e40910215283": {
          "model_module": "@jupyter-widgets/controls",
          "model_name": "ProgressStyleModel",
          "model_module_version": "1.5.0",
          "state": {
            "_model_module": "@jupyter-widgets/controls",
            "_model_module_version": "1.5.0",
            "_model_name": "ProgressStyleModel",
            "_view_count": null,
            "_view_module": "@jupyter-widgets/base",
            "_view_module_version": "1.2.0",
            "_view_name": "StyleView",
            "bar_color": null,
            "description_width": ""
          }
        },
        "6beb08386b334d188271f95ee4f5acc4": {
          "model_module": "@jupyter-widgets/controls",
          "model_name": "FloatProgressModel",
          "model_module_version": "1.5.0",
          "state": {
            "_dom_classes": [],
            "_model_module": "@jupyter-widgets/controls",
            "_model_module_version": "1.5.0",
            "_model_name": "FloatProgressModel",
            "_view_count": null,
            "_view_module": "@jupyter-widgets/controls",
            "_view_module_version": "1.5.0",
            "_view_name": "ProgressView",
            "bar_style": "info",
            "description": "Progress:",
            "description_tooltip": null,
            "layout": "IPY_MODEL_3820c45d2092454193eb49c94ebacd9f",
            "max": 1,
            "min": 0,
            "orientation": "horizontal",
            "style": "IPY_MODEL_79d7adbf723c4d798c189798042c64bb",
            "value": 0.028846153846153848
          }
        },
        "3820c45d2092454193eb49c94ebacd9f": {
          "model_module": "@jupyter-widgets/base",
          "model_name": "LayoutModel",
          "model_module_version": "1.2.0",
          "state": {
            "_model_module": "@jupyter-widgets/base",
            "_model_module_version": "1.2.0",
            "_model_name": "LayoutModel",
            "_view_count": null,
            "_view_module": "@jupyter-widgets/base",
            "_view_module_version": "1.2.0",
            "_view_name": "LayoutView",
            "align_content": null,
            "align_items": null,
            "align_self": null,
            "border": null,
            "bottom": null,
            "display": null,
            "flex": null,
            "flex_flow": null,
            "grid_area": null,
            "grid_auto_columns": null,
            "grid_auto_flow": null,
            "grid_auto_rows": null,
            "grid_column": null,
            "grid_gap": null,
            "grid_row": null,
            "grid_template_areas": null,
            "grid_template_columns": null,
            "grid_template_rows": null,
            "height": "25px",
            "justify_content": null,
            "justify_items": null,
            "left": null,
            "margin": null,
            "max_height": null,
            "max_width": null,
            "min_height": null,
            "min_width": null,
            "object_fit": null,
            "object_position": null,
            "order": null,
            "overflow": null,
            "overflow_x": null,
            "overflow_y": null,
            "padding": null,
            "right": null,
            "top": null,
            "visibility": null,
            "width": "50%"
          }
        },
        "79d7adbf723c4d798c189798042c64bb": {
          "model_module": "@jupyter-widgets/controls",
          "model_name": "ProgressStyleModel",
          "model_module_version": "1.5.0",
          "state": {
            "_model_module": "@jupyter-widgets/controls",
            "_model_module_version": "1.5.0",
            "_model_name": "ProgressStyleModel",
            "_view_count": null,
            "_view_module": "@jupyter-widgets/base",
            "_view_module_version": "1.2.0",
            "_view_name": "StyleView",
            "bar_color": null,
            "description_width": ""
          }
        },
        "8d9964d084a245949e871dab9dbc7cfa": {
          "model_module": "@jupyter-widgets/controls",
          "model_name": "FloatProgressModel",
          "model_module_version": "1.5.0",
          "state": {
            "_dom_classes": [],
            "_model_module": "@jupyter-widgets/controls",
            "_model_module_version": "1.5.0",
            "_model_name": "FloatProgressModel",
            "_view_count": null,
            "_view_module": "@jupyter-widgets/controls",
            "_view_module_version": "1.5.0",
            "_view_name": "ProgressView",
            "bar_style": "info",
            "description": "Progress:",
            "description_tooltip": null,
            "layout": "IPY_MODEL_8a7a488e74994849ab96eca81808f030",
            "max": 1,
            "min": 0,
            "orientation": "horizontal",
            "style": "IPY_MODEL_0aebcaea10654230aafe7917691ab977",
            "value": 0.8571428571428571
          }
        },
        "8a7a488e74994849ab96eca81808f030": {
          "model_module": "@jupyter-widgets/base",
          "model_name": "LayoutModel",
          "model_module_version": "1.2.0",
          "state": {
            "_model_module": "@jupyter-widgets/base",
            "_model_module_version": "1.2.0",
            "_model_name": "LayoutModel",
            "_view_count": null,
            "_view_module": "@jupyter-widgets/base",
            "_view_module_version": "1.2.0",
            "_view_name": "LayoutView",
            "align_content": null,
            "align_items": null,
            "align_self": null,
            "border": null,
            "bottom": null,
            "display": null,
            "flex": null,
            "flex_flow": null,
            "grid_area": null,
            "grid_auto_columns": null,
            "grid_auto_flow": null,
            "grid_auto_rows": null,
            "grid_column": null,
            "grid_gap": null,
            "grid_row": null,
            "grid_template_areas": null,
            "grid_template_columns": null,
            "grid_template_rows": null,
            "height": "25px",
            "justify_content": null,
            "justify_items": null,
            "left": null,
            "margin": null,
            "max_height": null,
            "max_width": null,
            "min_height": null,
            "min_width": null,
            "object_fit": null,
            "object_position": null,
            "order": null,
            "overflow": null,
            "overflow_x": null,
            "overflow_y": null,
            "padding": null,
            "right": null,
            "top": null,
            "visibility": null,
            "width": "50%"
          }
        },
        "0aebcaea10654230aafe7917691ab977": {
          "model_module": "@jupyter-widgets/controls",
          "model_name": "ProgressStyleModel",
          "model_module_version": "1.5.0",
          "state": {
            "_model_module": "@jupyter-widgets/controls",
            "_model_module_version": "1.5.0",
            "_model_name": "ProgressStyleModel",
            "_view_count": null,
            "_view_module": "@jupyter-widgets/base",
            "_view_module_version": "1.2.0",
            "_view_name": "StyleView",
            "bar_color": null,
            "description_width": ""
          }
        },
        "5a3a42fdb2264207b338ad677b02b48e": {
          "model_module": "@jupyter-widgets/controls",
          "model_name": "FloatProgressModel",
          "model_module_version": "1.5.0",
          "state": {
            "_dom_classes": [],
            "_model_module": "@jupyter-widgets/controls",
            "_model_module_version": "1.5.0",
            "_model_name": "FloatProgressModel",
            "_view_count": null,
            "_view_module": "@jupyter-widgets/controls",
            "_view_module_version": "1.5.0",
            "_view_name": "ProgressView",
            "bar_style": "info",
            "description": "Progress:",
            "description_tooltip": null,
            "layout": "IPY_MODEL_d0ca2f82e63541bdb842dfdf566fda3c",
            "max": 1,
            "min": 0,
            "orientation": "horizontal",
            "style": "IPY_MODEL_e969330deeff424ebd8f7f560012d772",
            "value": 0
          }
        },
        "d0ca2f82e63541bdb842dfdf566fda3c": {
          "model_module": "@jupyter-widgets/base",
          "model_name": "LayoutModel",
          "model_module_version": "1.2.0",
          "state": {
            "_model_module": "@jupyter-widgets/base",
            "_model_module_version": "1.2.0",
            "_model_name": "LayoutModel",
            "_view_count": null,
            "_view_module": "@jupyter-widgets/base",
            "_view_module_version": "1.2.0",
            "_view_name": "LayoutView",
            "align_content": null,
            "align_items": null,
            "align_self": null,
            "border": null,
            "bottom": null,
            "display": null,
            "flex": null,
            "flex_flow": null,
            "grid_area": null,
            "grid_auto_columns": null,
            "grid_auto_flow": null,
            "grid_auto_rows": null,
            "grid_column": null,
            "grid_gap": null,
            "grid_row": null,
            "grid_template_areas": null,
            "grid_template_columns": null,
            "grid_template_rows": null,
            "height": "25px",
            "justify_content": null,
            "justify_items": null,
            "left": null,
            "margin": null,
            "max_height": null,
            "max_width": null,
            "min_height": null,
            "min_width": null,
            "object_fit": null,
            "object_position": null,
            "order": null,
            "overflow": null,
            "overflow_x": null,
            "overflow_y": null,
            "padding": null,
            "right": null,
            "top": null,
            "visibility": null,
            "width": "50%"
          }
        },
        "e969330deeff424ebd8f7f560012d772": {
          "model_module": "@jupyter-widgets/controls",
          "model_name": "ProgressStyleModel",
          "model_module_version": "1.5.0",
          "state": {
            "_model_module": "@jupyter-widgets/controls",
            "_model_module_version": "1.5.0",
            "_model_name": "ProgressStyleModel",
            "_view_count": null,
            "_view_module": "@jupyter-widgets/base",
            "_view_module_version": "1.2.0",
            "_view_name": "StyleView",
            "bar_color": null,
            "description_width": ""
          }
        },
        "f51834c6adee451abac0ec8e73580fff": {
          "model_module": "@jupyter-widgets/controls",
          "model_name": "FloatProgressModel",
          "model_module_version": "1.5.0",
          "state": {
            "_dom_classes": [],
            "_model_module": "@jupyter-widgets/controls",
            "_model_module_version": "1.5.0",
            "_model_name": "FloatProgressModel",
            "_view_count": null,
            "_view_module": "@jupyter-widgets/controls",
            "_view_module_version": "1.5.0",
            "_view_name": "ProgressView",
            "bar_style": "info",
            "description": "Progress:",
            "description_tooltip": null,
            "layout": "IPY_MODEL_e9ad6ac7bbb547a28a425b9f535877a2",
            "max": 1,
            "min": 0,
            "orientation": "horizontal",
            "style": "IPY_MODEL_098b099599c34509a042e698c05d1e8d",
            "value": 0
          }
        },
        "e9ad6ac7bbb547a28a425b9f535877a2": {
          "model_module": "@jupyter-widgets/base",
          "model_name": "LayoutModel",
          "model_module_version": "1.2.0",
          "state": {
            "_model_module": "@jupyter-widgets/base",
            "_model_module_version": "1.2.0",
            "_model_name": "LayoutModel",
            "_view_count": null,
            "_view_module": "@jupyter-widgets/base",
            "_view_module_version": "1.2.0",
            "_view_name": "LayoutView",
            "align_content": null,
            "align_items": null,
            "align_self": null,
            "border": null,
            "bottom": null,
            "display": null,
            "flex": null,
            "flex_flow": null,
            "grid_area": null,
            "grid_auto_columns": null,
            "grid_auto_flow": null,
            "grid_auto_rows": null,
            "grid_column": null,
            "grid_gap": null,
            "grid_row": null,
            "grid_template_areas": null,
            "grid_template_columns": null,
            "grid_template_rows": null,
            "height": "25px",
            "justify_content": null,
            "justify_items": null,
            "left": null,
            "margin": null,
            "max_height": null,
            "max_width": null,
            "min_height": null,
            "min_width": null,
            "object_fit": null,
            "object_position": null,
            "order": null,
            "overflow": null,
            "overflow_x": null,
            "overflow_y": null,
            "padding": null,
            "right": null,
            "top": null,
            "visibility": null,
            "width": "50%"
          }
        },
        "098b099599c34509a042e698c05d1e8d": {
          "model_module": "@jupyter-widgets/controls",
          "model_name": "ProgressStyleModel",
          "model_module_version": "1.5.0",
          "state": {
            "_model_module": "@jupyter-widgets/controls",
            "_model_module_version": "1.5.0",
            "_model_name": "ProgressStyleModel",
            "_view_count": null,
            "_view_module": "@jupyter-widgets/base",
            "_view_module_version": "1.2.0",
            "_view_name": "StyleView",
            "bar_color": null,
            "description_width": ""
          }
        },
        "c2395d87385349e88eee02d1fcb945f5": {
          "model_module": "@jupyter-widgets/controls",
          "model_name": "FloatProgressModel",
          "model_module_version": "1.5.0",
          "state": {
            "_dom_classes": [],
            "_model_module": "@jupyter-widgets/controls",
            "_model_module_version": "1.5.0",
            "_model_name": "FloatProgressModel",
            "_view_count": null,
            "_view_module": "@jupyter-widgets/controls",
            "_view_module_version": "1.5.0",
            "_view_name": "ProgressView",
            "bar_style": "info",
            "description": "Progress:",
            "description_tooltip": null,
            "layout": "IPY_MODEL_c82e2001b582458ca023e999692b7e95",
            "max": 1,
            "min": 0,
            "orientation": "horizontal",
            "style": "IPY_MODEL_d498050f4e574357b6565acb838ba67a",
            "value": 0.7865030674846626
          }
        },
        "c82e2001b582458ca023e999692b7e95": {
          "model_module": "@jupyter-widgets/base",
          "model_name": "LayoutModel",
          "model_module_version": "1.2.0",
          "state": {
            "_model_module": "@jupyter-widgets/base",
            "_model_module_version": "1.2.0",
            "_model_name": "LayoutModel",
            "_view_count": null,
            "_view_module": "@jupyter-widgets/base",
            "_view_module_version": "1.2.0",
            "_view_name": "LayoutView",
            "align_content": null,
            "align_items": null,
            "align_self": null,
            "border": null,
            "bottom": null,
            "display": null,
            "flex": null,
            "flex_flow": null,
            "grid_area": null,
            "grid_auto_columns": null,
            "grid_auto_flow": null,
            "grid_auto_rows": null,
            "grid_column": null,
            "grid_gap": null,
            "grid_row": null,
            "grid_template_areas": null,
            "grid_template_columns": null,
            "grid_template_rows": null,
            "height": "25px",
            "justify_content": null,
            "justify_items": null,
            "left": null,
            "margin": null,
            "max_height": null,
            "max_width": null,
            "min_height": null,
            "min_width": null,
            "object_fit": null,
            "object_position": null,
            "order": null,
            "overflow": null,
            "overflow_x": null,
            "overflow_y": null,
            "padding": null,
            "right": null,
            "top": null,
            "visibility": null,
            "width": "50%"
          }
        },
        "d498050f4e574357b6565acb838ba67a": {
          "model_module": "@jupyter-widgets/controls",
          "model_name": "ProgressStyleModel",
          "model_module_version": "1.5.0",
          "state": {
            "_model_module": "@jupyter-widgets/controls",
            "_model_module_version": "1.5.0",
            "_model_name": "ProgressStyleModel",
            "_view_count": null,
            "_view_module": "@jupyter-widgets/base",
            "_view_module_version": "1.2.0",
            "_view_name": "StyleView",
            "bar_color": null,
            "description_width": ""
          }
        },
        "fefc34a816134c89b19d43dc37f96b97": {
          "model_module": "@jupyter-widgets/controls",
          "model_name": "FloatProgressModel",
          "model_module_version": "1.5.0",
          "state": {
            "_dom_classes": [],
            "_model_module": "@jupyter-widgets/controls",
            "_model_module_version": "1.5.0",
            "_model_name": "FloatProgressModel",
            "_view_count": null,
            "_view_module": "@jupyter-widgets/controls",
            "_view_module_version": "1.5.0",
            "_view_name": "ProgressView",
            "bar_style": "info",
            "description": "Progress:",
            "description_tooltip": null,
            "layout": "IPY_MODEL_2df1a0fdfd3e49b5b670bfe3e2fd6a95",
            "max": 1,
            "min": 0,
            "orientation": "horizontal",
            "style": "IPY_MODEL_b65ba3b6daaa41449df6567fcb606517",
            "value": 0.5714285714285714
          }
        },
        "2df1a0fdfd3e49b5b670bfe3e2fd6a95": {
          "model_module": "@jupyter-widgets/base",
          "model_name": "LayoutModel",
          "model_module_version": "1.2.0",
          "state": {
            "_model_module": "@jupyter-widgets/base",
            "_model_module_version": "1.2.0",
            "_model_name": "LayoutModel",
            "_view_count": null,
            "_view_module": "@jupyter-widgets/base",
            "_view_module_version": "1.2.0",
            "_view_name": "LayoutView",
            "align_content": null,
            "align_items": null,
            "align_self": null,
            "border": null,
            "bottom": null,
            "display": null,
            "flex": null,
            "flex_flow": null,
            "grid_area": null,
            "grid_auto_columns": null,
            "grid_auto_flow": null,
            "grid_auto_rows": null,
            "grid_column": null,
            "grid_gap": null,
            "grid_row": null,
            "grid_template_areas": null,
            "grid_template_columns": null,
            "grid_template_rows": null,
            "height": "25px",
            "justify_content": null,
            "justify_items": null,
            "left": null,
            "margin": null,
            "max_height": null,
            "max_width": null,
            "min_height": null,
            "min_width": null,
            "object_fit": null,
            "object_position": null,
            "order": null,
            "overflow": null,
            "overflow_x": null,
            "overflow_y": null,
            "padding": null,
            "right": null,
            "top": null,
            "visibility": null,
            "width": "50%"
          }
        },
        "b65ba3b6daaa41449df6567fcb606517": {
          "model_module": "@jupyter-widgets/controls",
          "model_name": "ProgressStyleModel",
          "model_module_version": "1.5.0",
          "state": {
            "_model_module": "@jupyter-widgets/controls",
            "_model_module_version": "1.5.0",
            "_model_name": "ProgressStyleModel",
            "_view_count": null,
            "_view_module": "@jupyter-widgets/base",
            "_view_module_version": "1.2.0",
            "_view_name": "StyleView",
            "bar_color": null,
            "description_width": ""
          }
        },
        "5b57e066cbe9458a87259211ad11d4c3": {
          "model_module": "@jupyter-widgets/controls",
          "model_name": "FloatProgressModel",
          "model_module_version": "1.5.0",
          "state": {
            "_dom_classes": [],
            "_model_module": "@jupyter-widgets/controls",
            "_model_module_version": "1.5.0",
            "_model_name": "FloatProgressModel",
            "_view_count": null,
            "_view_module": "@jupyter-widgets/controls",
            "_view_module_version": "1.5.0",
            "_view_name": "ProgressView",
            "bar_style": "info",
            "description": "Progress:",
            "description_tooltip": null,
            "layout": "IPY_MODEL_9184593eb00245ad8cfd2c2ab88a860f",
            "max": 1,
            "min": 0,
            "orientation": "horizontal",
            "style": "IPY_MODEL_c269ff09a7e042e5b9204d6389d94f09",
            "value": 0
          }
        },
        "9184593eb00245ad8cfd2c2ab88a860f": {
          "model_module": "@jupyter-widgets/base",
          "model_name": "LayoutModel",
          "model_module_version": "1.2.0",
          "state": {
            "_model_module": "@jupyter-widgets/base",
            "_model_module_version": "1.2.0",
            "_model_name": "LayoutModel",
            "_view_count": null,
            "_view_module": "@jupyter-widgets/base",
            "_view_module_version": "1.2.0",
            "_view_name": "LayoutView",
            "align_content": null,
            "align_items": null,
            "align_self": null,
            "border": null,
            "bottom": null,
            "display": null,
            "flex": null,
            "flex_flow": null,
            "grid_area": null,
            "grid_auto_columns": null,
            "grid_auto_flow": null,
            "grid_auto_rows": null,
            "grid_column": null,
            "grid_gap": null,
            "grid_row": null,
            "grid_template_areas": null,
            "grid_template_columns": null,
            "grid_template_rows": null,
            "height": "25px",
            "justify_content": null,
            "justify_items": null,
            "left": null,
            "margin": null,
            "max_height": null,
            "max_width": null,
            "min_height": null,
            "min_width": null,
            "object_fit": null,
            "object_position": null,
            "order": null,
            "overflow": null,
            "overflow_x": null,
            "overflow_y": null,
            "padding": null,
            "right": null,
            "top": null,
            "visibility": null,
            "width": "50%"
          }
        },
        "c269ff09a7e042e5b9204d6389d94f09": {
          "model_module": "@jupyter-widgets/controls",
          "model_name": "ProgressStyleModel",
          "model_module_version": "1.5.0",
          "state": {
            "_model_module": "@jupyter-widgets/controls",
            "_model_module_version": "1.5.0",
            "_model_name": "ProgressStyleModel",
            "_view_count": null,
            "_view_module": "@jupyter-widgets/base",
            "_view_module_version": "1.2.0",
            "_view_name": "StyleView",
            "bar_color": null,
            "description_width": ""
          }
        },
        "dfdbef2577644f31be1d3013610bbcfd": {
          "model_module": "@jupyter-widgets/controls",
          "model_name": "FloatProgressModel",
          "model_module_version": "1.5.0",
          "state": {
            "_dom_classes": [],
            "_model_module": "@jupyter-widgets/controls",
            "_model_module_version": "1.5.0",
            "_model_name": "FloatProgressModel",
            "_view_count": null,
            "_view_module": "@jupyter-widgets/controls",
            "_view_module_version": "1.5.0",
            "_view_name": "ProgressView",
            "bar_style": "info",
            "description": "Progress:",
            "description_tooltip": null,
            "layout": "IPY_MODEL_943c5133bc38476bb01f433eb1b6a67c",
            "max": 1,
            "min": 0,
            "orientation": "horizontal",
            "style": "IPY_MODEL_7ba5c23be9c24ac1a510095067bc88d1",
            "value": 0
          }
        },
        "943c5133bc38476bb01f433eb1b6a67c": {
          "model_module": "@jupyter-widgets/base",
          "model_name": "LayoutModel",
          "model_module_version": "1.2.0",
          "state": {
            "_model_module": "@jupyter-widgets/base",
            "_model_module_version": "1.2.0",
            "_model_name": "LayoutModel",
            "_view_count": null,
            "_view_module": "@jupyter-widgets/base",
            "_view_module_version": "1.2.0",
            "_view_name": "LayoutView",
            "align_content": null,
            "align_items": null,
            "align_self": null,
            "border": null,
            "bottom": null,
            "display": null,
            "flex": null,
            "flex_flow": null,
            "grid_area": null,
            "grid_auto_columns": null,
            "grid_auto_flow": null,
            "grid_auto_rows": null,
            "grid_column": null,
            "grid_gap": null,
            "grid_row": null,
            "grid_template_areas": null,
            "grid_template_columns": null,
            "grid_template_rows": null,
            "height": "25px",
            "justify_content": null,
            "justify_items": null,
            "left": null,
            "margin": null,
            "max_height": null,
            "max_width": null,
            "min_height": null,
            "min_width": null,
            "object_fit": null,
            "object_position": null,
            "order": null,
            "overflow": null,
            "overflow_x": null,
            "overflow_y": null,
            "padding": null,
            "right": null,
            "top": null,
            "visibility": null,
            "width": "50%"
          }
        },
        "7ba5c23be9c24ac1a510095067bc88d1": {
          "model_module": "@jupyter-widgets/controls",
          "model_name": "ProgressStyleModel",
          "model_module_version": "1.5.0",
          "state": {
            "_model_module": "@jupyter-widgets/controls",
            "_model_module_version": "1.5.0",
            "_model_name": "ProgressStyleModel",
            "_view_count": null,
            "_view_module": "@jupyter-widgets/base",
            "_view_module_version": "1.2.0",
            "_view_name": "StyleView",
            "bar_color": null,
            "description_width": ""
          }
        },
        "80d72c5b37a942e49e277614696d0062": {
          "model_module": "@jupyter-widgets/controls",
          "model_name": "FloatProgressModel",
          "model_module_version": "1.5.0",
          "state": {
            "_dom_classes": [],
            "_model_module": "@jupyter-widgets/controls",
            "_model_module_version": "1.5.0",
            "_model_name": "FloatProgressModel",
            "_view_count": null,
            "_view_module": "@jupyter-widgets/controls",
            "_view_module_version": "1.5.0",
            "_view_name": "ProgressView",
            "bar_style": "info",
            "description": "Progress:",
            "description_tooltip": null,
            "layout": "IPY_MODEL_bc650e8228474df7971412985fbfa573",
            "max": 1,
            "min": 0,
            "orientation": "horizontal",
            "style": "IPY_MODEL_221d953bdab145bcbd9092120cce145b",
            "value": 0.8895705521472392
          }
        },
        "bc650e8228474df7971412985fbfa573": {
          "model_module": "@jupyter-widgets/base",
          "model_name": "LayoutModel",
          "model_module_version": "1.2.0",
          "state": {
            "_model_module": "@jupyter-widgets/base",
            "_model_module_version": "1.2.0",
            "_model_name": "LayoutModel",
            "_view_count": null,
            "_view_module": "@jupyter-widgets/base",
            "_view_module_version": "1.2.0",
            "_view_name": "LayoutView",
            "align_content": null,
            "align_items": null,
            "align_self": null,
            "border": null,
            "bottom": null,
            "display": null,
            "flex": null,
            "flex_flow": null,
            "grid_area": null,
            "grid_auto_columns": null,
            "grid_auto_flow": null,
            "grid_auto_rows": null,
            "grid_column": null,
            "grid_gap": null,
            "grid_row": null,
            "grid_template_areas": null,
            "grid_template_columns": null,
            "grid_template_rows": null,
            "height": "25px",
            "justify_content": null,
            "justify_items": null,
            "left": null,
            "margin": null,
            "max_height": null,
            "max_width": null,
            "min_height": null,
            "min_width": null,
            "object_fit": null,
            "object_position": null,
            "order": null,
            "overflow": null,
            "overflow_x": null,
            "overflow_y": null,
            "padding": null,
            "right": null,
            "top": null,
            "visibility": null,
            "width": "50%"
          }
        },
        "221d953bdab145bcbd9092120cce145b": {
          "model_module": "@jupyter-widgets/controls",
          "model_name": "ProgressStyleModel",
          "model_module_version": "1.5.0",
          "state": {
            "_model_module": "@jupyter-widgets/controls",
            "_model_module_version": "1.5.0",
            "_model_name": "ProgressStyleModel",
            "_view_count": null,
            "_view_module": "@jupyter-widgets/base",
            "_view_module_version": "1.2.0",
            "_view_name": "StyleView",
            "bar_color": null,
            "description_width": ""
          }
        },
        "390f00a2ee75433dad518fb03b16bce6": {
          "model_module": "@jupyter-widgets/controls",
          "model_name": "FloatProgressModel",
          "model_module_version": "1.5.0",
          "state": {
            "_dom_classes": [],
            "_model_module": "@jupyter-widgets/controls",
            "_model_module_version": "1.5.0",
            "_model_name": "FloatProgressModel",
            "_view_count": null,
            "_view_module": "@jupyter-widgets/controls",
            "_view_module_version": "1.5.0",
            "_view_name": "ProgressView",
            "bar_style": "info",
            "description": "Progress:",
            "description_tooltip": null,
            "layout": "IPY_MODEL_2b06bd0bc92546afbb30e846c38badde",
            "max": 1,
            "min": 0,
            "orientation": "horizontal",
            "style": "IPY_MODEL_7ea9d59af49540319d41706ffeb2aca2",
            "value": 0
          }
        },
        "2b06bd0bc92546afbb30e846c38badde": {
          "model_module": "@jupyter-widgets/base",
          "model_name": "LayoutModel",
          "model_module_version": "1.2.0",
          "state": {
            "_model_module": "@jupyter-widgets/base",
            "_model_module_version": "1.2.0",
            "_model_name": "LayoutModel",
            "_view_count": null,
            "_view_module": "@jupyter-widgets/base",
            "_view_module_version": "1.2.0",
            "_view_name": "LayoutView",
            "align_content": null,
            "align_items": null,
            "align_self": null,
            "border": null,
            "bottom": null,
            "display": null,
            "flex": null,
            "flex_flow": null,
            "grid_area": null,
            "grid_auto_columns": null,
            "grid_auto_flow": null,
            "grid_auto_rows": null,
            "grid_column": null,
            "grid_gap": null,
            "grid_row": null,
            "grid_template_areas": null,
            "grid_template_columns": null,
            "grid_template_rows": null,
            "height": "25px",
            "justify_content": null,
            "justify_items": null,
            "left": null,
            "margin": null,
            "max_height": null,
            "max_width": null,
            "min_height": null,
            "min_width": null,
            "object_fit": null,
            "object_position": null,
            "order": null,
            "overflow": null,
            "overflow_x": null,
            "overflow_y": null,
            "padding": null,
            "right": null,
            "top": null,
            "visibility": null,
            "width": "50%"
          }
        },
        "7ea9d59af49540319d41706ffeb2aca2": {
          "model_module": "@jupyter-widgets/controls",
          "model_name": "ProgressStyleModel",
          "model_module_version": "1.5.0",
          "state": {
            "_model_module": "@jupyter-widgets/controls",
            "_model_module_version": "1.5.0",
            "_model_name": "ProgressStyleModel",
            "_view_count": null,
            "_view_module": "@jupyter-widgets/base",
            "_view_module_version": "1.2.0",
            "_view_name": "StyleView",
            "bar_color": null,
            "description_width": ""
          }
        },
        "17b9794525ea478599f5193a9c5bfef8": {
          "model_module": "@jupyter-widgets/controls",
          "model_name": "FloatProgressModel",
          "model_module_version": "1.5.0",
          "state": {
            "_dom_classes": [],
            "_model_module": "@jupyter-widgets/controls",
            "_model_module_version": "1.5.0",
            "_model_name": "FloatProgressModel",
            "_view_count": null,
            "_view_module": "@jupyter-widgets/controls",
            "_view_module_version": "1.5.0",
            "_view_name": "ProgressView",
            "bar_style": "info",
            "description": "Progress:",
            "description_tooltip": null,
            "layout": "IPY_MODEL_03ecf7071a1943ed85b795dba6c9ec2c",
            "max": 1,
            "min": 0,
            "orientation": "horizontal",
            "style": "IPY_MODEL_c919bf01354c4ec8a766678afb4f2caf",
            "value": 0.8571428571428571
          }
        },
        "03ecf7071a1943ed85b795dba6c9ec2c": {
          "model_module": "@jupyter-widgets/base",
          "model_name": "LayoutModel",
          "model_module_version": "1.2.0",
          "state": {
            "_model_module": "@jupyter-widgets/base",
            "_model_module_version": "1.2.0",
            "_model_name": "LayoutModel",
            "_view_count": null,
            "_view_module": "@jupyter-widgets/base",
            "_view_module_version": "1.2.0",
            "_view_name": "LayoutView",
            "align_content": null,
            "align_items": null,
            "align_self": null,
            "border": null,
            "bottom": null,
            "display": null,
            "flex": null,
            "flex_flow": null,
            "grid_area": null,
            "grid_auto_columns": null,
            "grid_auto_flow": null,
            "grid_auto_rows": null,
            "grid_column": null,
            "grid_gap": null,
            "grid_row": null,
            "grid_template_areas": null,
            "grid_template_columns": null,
            "grid_template_rows": null,
            "height": "25px",
            "justify_content": null,
            "justify_items": null,
            "left": null,
            "margin": null,
            "max_height": null,
            "max_width": null,
            "min_height": null,
            "min_width": null,
            "object_fit": null,
            "object_position": null,
            "order": null,
            "overflow": null,
            "overflow_x": null,
            "overflow_y": null,
            "padding": null,
            "right": null,
            "top": null,
            "visibility": null,
            "width": "50%"
          }
        },
        "c919bf01354c4ec8a766678afb4f2caf": {
          "model_module": "@jupyter-widgets/controls",
          "model_name": "ProgressStyleModel",
          "model_module_version": "1.5.0",
          "state": {
            "_model_module": "@jupyter-widgets/controls",
            "_model_module_version": "1.5.0",
            "_model_name": "ProgressStyleModel",
            "_view_count": null,
            "_view_module": "@jupyter-widgets/base",
            "_view_module_version": "1.2.0",
            "_view_name": "StyleView",
            "bar_color": null,
            "description_width": ""
          }
        },
        "483969ff0f93409585fda71e3901d3d8": {
          "model_module": "@jupyter-widgets/controls",
          "model_name": "FloatProgressModel",
          "model_module_version": "1.5.0",
          "state": {
            "_dom_classes": [],
            "_model_module": "@jupyter-widgets/controls",
            "_model_module_version": "1.5.0",
            "_model_name": "FloatProgressModel",
            "_view_count": null,
            "_view_module": "@jupyter-widgets/controls",
            "_view_module_version": "1.5.0",
            "_view_name": "ProgressView",
            "bar_style": "info",
            "description": "Progress:",
            "description_tooltip": null,
            "layout": "IPY_MODEL_1ac6b1c01a274d7a8192a2d4ecd19d12",
            "max": 1,
            "min": 0,
            "orientation": "horizontal",
            "style": "IPY_MODEL_1d394b21b97d490a83ea5a2e933deb8c",
            "value": 0
          }
        },
        "1ac6b1c01a274d7a8192a2d4ecd19d12": {
          "model_module": "@jupyter-widgets/base",
          "model_name": "LayoutModel",
          "model_module_version": "1.2.0",
          "state": {
            "_model_module": "@jupyter-widgets/base",
            "_model_module_version": "1.2.0",
            "_model_name": "LayoutModel",
            "_view_count": null,
            "_view_module": "@jupyter-widgets/base",
            "_view_module_version": "1.2.0",
            "_view_name": "LayoutView",
            "align_content": null,
            "align_items": null,
            "align_self": null,
            "border": null,
            "bottom": null,
            "display": null,
            "flex": null,
            "flex_flow": null,
            "grid_area": null,
            "grid_auto_columns": null,
            "grid_auto_flow": null,
            "grid_auto_rows": null,
            "grid_column": null,
            "grid_gap": null,
            "grid_row": null,
            "grid_template_areas": null,
            "grid_template_columns": null,
            "grid_template_rows": null,
            "height": "25px",
            "justify_content": null,
            "justify_items": null,
            "left": null,
            "margin": null,
            "max_height": null,
            "max_width": null,
            "min_height": null,
            "min_width": null,
            "object_fit": null,
            "object_position": null,
            "order": null,
            "overflow": null,
            "overflow_x": null,
            "overflow_y": null,
            "padding": null,
            "right": null,
            "top": null,
            "visibility": null,
            "width": "50%"
          }
        },
        "1d394b21b97d490a83ea5a2e933deb8c": {
          "model_module": "@jupyter-widgets/controls",
          "model_name": "ProgressStyleModel",
          "model_module_version": "1.5.0",
          "state": {
            "_model_module": "@jupyter-widgets/controls",
            "_model_module_version": "1.5.0",
            "_model_name": "ProgressStyleModel",
            "_view_count": null,
            "_view_module": "@jupyter-widgets/base",
            "_view_module_version": "1.2.0",
            "_view_name": "StyleView",
            "bar_color": null,
            "description_width": ""
          }
        },
        "dc5cc5b848f74373bb1d3f13b0769313": {
          "model_module": "@jupyter-widgets/controls",
          "model_name": "FloatProgressModel",
          "model_module_version": "1.5.0",
          "state": {
            "_dom_classes": [],
            "_model_module": "@jupyter-widgets/controls",
            "_model_module_version": "1.5.0",
            "_model_name": "FloatProgressModel",
            "_view_count": null,
            "_view_module": "@jupyter-widgets/controls",
            "_view_module_version": "1.5.0",
            "_view_name": "ProgressView",
            "bar_style": "info",
            "description": "Progress:",
            "description_tooltip": null,
            "layout": "IPY_MODEL_aa64f7c3b84547d7aa4cb11197217db1",
            "max": 1,
            "min": 0,
            "orientation": "horizontal",
            "style": "IPY_MODEL_906d9c7b458449d6b527d19e090ce22d",
            "value": 0.37586685159500693
          }
        },
        "aa64f7c3b84547d7aa4cb11197217db1": {
          "model_module": "@jupyter-widgets/base",
          "model_name": "LayoutModel",
          "model_module_version": "1.2.0",
          "state": {
            "_model_module": "@jupyter-widgets/base",
            "_model_module_version": "1.2.0",
            "_model_name": "LayoutModel",
            "_view_count": null,
            "_view_module": "@jupyter-widgets/base",
            "_view_module_version": "1.2.0",
            "_view_name": "LayoutView",
            "align_content": null,
            "align_items": null,
            "align_self": null,
            "border": null,
            "bottom": null,
            "display": null,
            "flex": null,
            "flex_flow": null,
            "grid_area": null,
            "grid_auto_columns": null,
            "grid_auto_flow": null,
            "grid_auto_rows": null,
            "grid_column": null,
            "grid_gap": null,
            "grid_row": null,
            "grid_template_areas": null,
            "grid_template_columns": null,
            "grid_template_rows": null,
            "height": "25px",
            "justify_content": null,
            "justify_items": null,
            "left": null,
            "margin": null,
            "max_height": null,
            "max_width": null,
            "min_height": null,
            "min_width": null,
            "object_fit": null,
            "object_position": null,
            "order": null,
            "overflow": null,
            "overflow_x": null,
            "overflow_y": null,
            "padding": null,
            "right": null,
            "top": null,
            "visibility": null,
            "width": "50%"
          }
        },
        "906d9c7b458449d6b527d19e090ce22d": {
          "model_module": "@jupyter-widgets/controls",
          "model_name": "ProgressStyleModel",
          "model_module_version": "1.5.0",
          "state": {
            "_model_module": "@jupyter-widgets/controls",
            "_model_module_version": "1.5.0",
            "_model_name": "ProgressStyleModel",
            "_view_count": null,
            "_view_module": "@jupyter-widgets/base",
            "_view_module_version": "1.2.0",
            "_view_name": "StyleView",
            "bar_color": null,
            "description_width": ""
          }
        },
        "e525e072b8b64a6788313fb4c31945e7": {
          "model_module": "@jupyter-widgets/controls",
          "model_name": "FloatProgressModel",
          "model_module_version": "1.5.0",
          "state": {
            "_dom_classes": [],
            "_model_module": "@jupyter-widgets/controls",
            "_model_module_version": "1.5.0",
            "_model_name": "FloatProgressModel",
            "_view_count": null,
            "_view_module": "@jupyter-widgets/controls",
            "_view_module_version": "1.5.0",
            "_view_name": "ProgressView",
            "bar_style": "info",
            "description": "Progress:",
            "description_tooltip": null,
            "layout": "IPY_MODEL_3e675d81811643bb907de5fe994898ff",
            "max": 1,
            "min": 0,
            "orientation": "horizontal",
            "style": "IPY_MODEL_26923fa16ccf4e4eb8cce793ae51d3a2",
            "value": 0.5714285714285714
          }
        },
        "3e675d81811643bb907de5fe994898ff": {
          "model_module": "@jupyter-widgets/base",
          "model_name": "LayoutModel",
          "model_module_version": "1.2.0",
          "state": {
            "_model_module": "@jupyter-widgets/base",
            "_model_module_version": "1.2.0",
            "_model_name": "LayoutModel",
            "_view_count": null,
            "_view_module": "@jupyter-widgets/base",
            "_view_module_version": "1.2.0",
            "_view_name": "LayoutView",
            "align_content": null,
            "align_items": null,
            "align_self": null,
            "border": null,
            "bottom": null,
            "display": null,
            "flex": null,
            "flex_flow": null,
            "grid_area": null,
            "grid_auto_columns": null,
            "grid_auto_flow": null,
            "grid_auto_rows": null,
            "grid_column": null,
            "grid_gap": null,
            "grid_row": null,
            "grid_template_areas": null,
            "grid_template_columns": null,
            "grid_template_rows": null,
            "height": "25px",
            "justify_content": null,
            "justify_items": null,
            "left": null,
            "margin": null,
            "max_height": null,
            "max_width": null,
            "min_height": null,
            "min_width": null,
            "object_fit": null,
            "object_position": null,
            "order": null,
            "overflow": null,
            "overflow_x": null,
            "overflow_y": null,
            "padding": null,
            "right": null,
            "top": null,
            "visibility": null,
            "width": "50%"
          }
        },
        "26923fa16ccf4e4eb8cce793ae51d3a2": {
          "model_module": "@jupyter-widgets/controls",
          "model_name": "ProgressStyleModel",
          "model_module_version": "1.5.0",
          "state": {
            "_model_module": "@jupyter-widgets/controls",
            "_model_module_version": "1.5.0",
            "_model_name": "ProgressStyleModel",
            "_view_count": null,
            "_view_module": "@jupyter-widgets/base",
            "_view_module_version": "1.2.0",
            "_view_name": "StyleView",
            "bar_color": null,
            "description_width": ""
          }
        },
        "6a191d1e7fad43c7a5e904d83dc0fbcf": {
          "model_module": "@jupyter-widgets/controls",
          "model_name": "FloatProgressModel",
          "model_module_version": "1.5.0",
          "state": {
            "_dom_classes": [],
            "_model_module": "@jupyter-widgets/controls",
            "_model_module_version": "1.5.0",
            "_model_name": "FloatProgressModel",
            "_view_count": null,
            "_view_module": "@jupyter-widgets/controls",
            "_view_module_version": "1.5.0",
            "_view_name": "ProgressView",
            "bar_style": "info",
            "description": "Progress:",
            "description_tooltip": null,
            "layout": "IPY_MODEL_b7d00262b1cc43e097c7171917cd2614",
            "max": 1,
            "min": 0,
            "orientation": "horizontal",
            "style": "IPY_MODEL_b75d870ba0bc41b699c4dcd410b38acf",
            "value": 0
          }
        },
        "b7d00262b1cc43e097c7171917cd2614": {
          "model_module": "@jupyter-widgets/base",
          "model_name": "LayoutModel",
          "model_module_version": "1.2.0",
          "state": {
            "_model_module": "@jupyter-widgets/base",
            "_model_module_version": "1.2.0",
            "_model_name": "LayoutModel",
            "_view_count": null,
            "_view_module": "@jupyter-widgets/base",
            "_view_module_version": "1.2.0",
            "_view_name": "LayoutView",
            "align_content": null,
            "align_items": null,
            "align_self": null,
            "border": null,
            "bottom": null,
            "display": null,
            "flex": null,
            "flex_flow": null,
            "grid_area": null,
            "grid_auto_columns": null,
            "grid_auto_flow": null,
            "grid_auto_rows": null,
            "grid_column": null,
            "grid_gap": null,
            "grid_row": null,
            "grid_template_areas": null,
            "grid_template_columns": null,
            "grid_template_rows": null,
            "height": "25px",
            "justify_content": null,
            "justify_items": null,
            "left": null,
            "margin": null,
            "max_height": null,
            "max_width": null,
            "min_height": null,
            "min_width": null,
            "object_fit": null,
            "object_position": null,
            "order": null,
            "overflow": null,
            "overflow_x": null,
            "overflow_y": null,
            "padding": null,
            "right": null,
            "top": null,
            "visibility": null,
            "width": "50%"
          }
        },
        "b75d870ba0bc41b699c4dcd410b38acf": {
          "model_module": "@jupyter-widgets/controls",
          "model_name": "ProgressStyleModel",
          "model_module_version": "1.5.0",
          "state": {
            "_model_module": "@jupyter-widgets/controls",
            "_model_module_version": "1.5.0",
            "_model_name": "ProgressStyleModel",
            "_view_count": null,
            "_view_module": "@jupyter-widgets/base",
            "_view_module_version": "1.2.0",
            "_view_name": "StyleView",
            "bar_color": null,
            "description_width": ""
          }
        },
        "5aa84c4bbd21440783dd3994d9197fa7": {
          "model_module": "@jupyter-widgets/controls",
          "model_name": "FloatProgressModel",
          "model_module_version": "1.5.0",
          "state": {
            "_dom_classes": [],
            "_model_module": "@jupyter-widgets/controls",
            "_model_module_version": "1.5.0",
            "_model_name": "FloatProgressModel",
            "_view_count": null,
            "_view_module": "@jupyter-widgets/controls",
            "_view_module_version": "1.5.0",
            "_view_name": "ProgressView",
            "bar_style": "info",
            "description": "Progress:",
            "description_tooltip": null,
            "layout": "IPY_MODEL_acabe41a925041159268663f57cfdcb2",
            "max": 1,
            "min": 0,
            "orientation": "horizontal",
            "style": "IPY_MODEL_25f3c08a5b09473886d4203b10c924d2",
            "value": 0.31203931203931207
          }
        },
        "acabe41a925041159268663f57cfdcb2": {
          "model_module": "@jupyter-widgets/base",
          "model_name": "LayoutModel",
          "model_module_version": "1.2.0",
          "state": {
            "_model_module": "@jupyter-widgets/base",
            "_model_module_version": "1.2.0",
            "_model_name": "LayoutModel",
            "_view_count": null,
            "_view_module": "@jupyter-widgets/base",
            "_view_module_version": "1.2.0",
            "_view_name": "LayoutView",
            "align_content": null,
            "align_items": null,
            "align_self": null,
            "border": null,
            "bottom": null,
            "display": null,
            "flex": null,
            "flex_flow": null,
            "grid_area": null,
            "grid_auto_columns": null,
            "grid_auto_flow": null,
            "grid_auto_rows": null,
            "grid_column": null,
            "grid_gap": null,
            "grid_row": null,
            "grid_template_areas": null,
            "grid_template_columns": null,
            "grid_template_rows": null,
            "height": "25px",
            "justify_content": null,
            "justify_items": null,
            "left": null,
            "margin": null,
            "max_height": null,
            "max_width": null,
            "min_height": null,
            "min_width": null,
            "object_fit": null,
            "object_position": null,
            "order": null,
            "overflow": null,
            "overflow_x": null,
            "overflow_y": null,
            "padding": null,
            "right": null,
            "top": null,
            "visibility": null,
            "width": "50%"
          }
        },
        "25f3c08a5b09473886d4203b10c924d2": {
          "model_module": "@jupyter-widgets/controls",
          "model_name": "ProgressStyleModel",
          "model_module_version": "1.5.0",
          "state": {
            "_model_module": "@jupyter-widgets/controls",
            "_model_module_version": "1.5.0",
            "_model_name": "ProgressStyleModel",
            "_view_count": null,
            "_view_module": "@jupyter-widgets/base",
            "_view_module_version": "1.2.0",
            "_view_name": "StyleView",
            "bar_color": null,
            "description_width": ""
          }
        },
        "e2772b3cb84b44e1aa3eb98f2208a81d": {
          "model_module": "@jupyter-widgets/controls",
          "model_name": "FloatProgressModel",
          "model_module_version": "1.5.0",
          "state": {
            "_dom_classes": [],
            "_model_module": "@jupyter-widgets/controls",
            "_model_module_version": "1.5.0",
            "_model_name": "FloatProgressModel",
            "_view_count": null,
            "_view_module": "@jupyter-widgets/controls",
            "_view_module_version": "1.5.0",
            "_view_name": "ProgressView",
            "bar_style": "info",
            "description": "Progress:",
            "description_tooltip": null,
            "layout": "IPY_MODEL_0f43780f47a64aa99d32807ddbe7c4ec",
            "max": 1,
            "min": 0,
            "orientation": "horizontal",
            "style": "IPY_MODEL_d0e4f727ae4d4cf3b89adce77fefc9e6",
            "value": 0
          }
        },
        "0f43780f47a64aa99d32807ddbe7c4ec": {
          "model_module": "@jupyter-widgets/base",
          "model_name": "LayoutModel",
          "model_module_version": "1.2.0",
          "state": {
            "_model_module": "@jupyter-widgets/base",
            "_model_module_version": "1.2.0",
            "_model_name": "LayoutModel",
            "_view_count": null,
            "_view_module": "@jupyter-widgets/base",
            "_view_module_version": "1.2.0",
            "_view_name": "LayoutView",
            "align_content": null,
            "align_items": null,
            "align_self": null,
            "border": null,
            "bottom": null,
            "display": null,
            "flex": null,
            "flex_flow": null,
            "grid_area": null,
            "grid_auto_columns": null,
            "grid_auto_flow": null,
            "grid_auto_rows": null,
            "grid_column": null,
            "grid_gap": null,
            "grid_row": null,
            "grid_template_areas": null,
            "grid_template_columns": null,
            "grid_template_rows": null,
            "height": "25px",
            "justify_content": null,
            "justify_items": null,
            "left": null,
            "margin": null,
            "max_height": null,
            "max_width": null,
            "min_height": null,
            "min_width": null,
            "object_fit": null,
            "object_position": null,
            "order": null,
            "overflow": null,
            "overflow_x": null,
            "overflow_y": null,
            "padding": null,
            "right": null,
            "top": null,
            "visibility": null,
            "width": "50%"
          }
        },
        "d0e4f727ae4d4cf3b89adce77fefc9e6": {
          "model_module": "@jupyter-widgets/controls",
          "model_name": "ProgressStyleModel",
          "model_module_version": "1.5.0",
          "state": {
            "_model_module": "@jupyter-widgets/controls",
            "_model_module_version": "1.5.0",
            "_model_name": "ProgressStyleModel",
            "_view_count": null,
            "_view_module": "@jupyter-widgets/base",
            "_view_module_version": "1.2.0",
            "_view_name": "StyleView",
            "bar_color": null,
            "description_width": ""
          }
        },
        "d15332dfc9b24e9aa311119b7891be57": {
          "model_module": "@jupyter-widgets/controls",
          "model_name": "FloatProgressModel",
          "model_module_version": "1.5.0",
          "state": {
            "_dom_classes": [],
            "_model_module": "@jupyter-widgets/controls",
            "_model_module_version": "1.5.0",
            "_model_name": "FloatProgressModel",
            "_view_count": null,
            "_view_module": "@jupyter-widgets/controls",
            "_view_module_version": "1.5.0",
            "_view_name": "ProgressView",
            "bar_style": "info",
            "description": "Progress:",
            "description_tooltip": null,
            "layout": "IPY_MODEL_7211593d870543428feb7db398414ecc",
            "max": 1,
            "min": 0,
            "orientation": "horizontal",
            "style": "IPY_MODEL_0f071c10cc074012a510ad379cbdf140",
            "value": 0
          }
        },
        "7211593d870543428feb7db398414ecc": {
          "model_module": "@jupyter-widgets/base",
          "model_name": "LayoutModel",
          "model_module_version": "1.2.0",
          "state": {
            "_model_module": "@jupyter-widgets/base",
            "_model_module_version": "1.2.0",
            "_model_name": "LayoutModel",
            "_view_count": null,
            "_view_module": "@jupyter-widgets/base",
            "_view_module_version": "1.2.0",
            "_view_name": "LayoutView",
            "align_content": null,
            "align_items": null,
            "align_self": null,
            "border": null,
            "bottom": null,
            "display": null,
            "flex": null,
            "flex_flow": null,
            "grid_area": null,
            "grid_auto_columns": null,
            "grid_auto_flow": null,
            "grid_auto_rows": null,
            "grid_column": null,
            "grid_gap": null,
            "grid_row": null,
            "grid_template_areas": null,
            "grid_template_columns": null,
            "grid_template_rows": null,
            "height": "25px",
            "justify_content": null,
            "justify_items": null,
            "left": null,
            "margin": null,
            "max_height": null,
            "max_width": null,
            "min_height": null,
            "min_width": null,
            "object_fit": null,
            "object_position": null,
            "order": null,
            "overflow": null,
            "overflow_x": null,
            "overflow_y": null,
            "padding": null,
            "right": null,
            "top": null,
            "visibility": null,
            "width": "50%"
          }
        },
        "0f071c10cc074012a510ad379cbdf140": {
          "model_module": "@jupyter-widgets/controls",
          "model_name": "ProgressStyleModel",
          "model_module_version": "1.5.0",
          "state": {
            "_model_module": "@jupyter-widgets/controls",
            "_model_module_version": "1.5.0",
            "_model_name": "ProgressStyleModel",
            "_view_count": null,
            "_view_module": "@jupyter-widgets/base",
            "_view_module_version": "1.2.0",
            "_view_name": "StyleView",
            "bar_color": null,
            "description_width": ""
          }
        },
        "78835ff7542d465a9e8de488cc210891": {
          "model_module": "@jupyter-widgets/controls",
          "model_name": "FloatProgressModel",
          "model_module_version": "1.5.0",
          "state": {
            "_dom_classes": [],
            "_model_module": "@jupyter-widgets/controls",
            "_model_module_version": "1.5.0",
            "_model_name": "FloatProgressModel",
            "_view_count": null,
            "_view_module": "@jupyter-widgets/controls",
            "_view_module_version": "1.5.0",
            "_view_name": "ProgressView",
            "bar_style": "info",
            "description": "Progress:",
            "description_tooltip": null,
            "layout": "IPY_MODEL_03570d0ec43e465cb2fee379bdfabcb7",
            "max": 1,
            "min": 0,
            "orientation": "horizontal",
            "style": "IPY_MODEL_a174c985704b4297b358ff9d52f065f3",
            "value": 0.31367731367731366
          }
        },
        "03570d0ec43e465cb2fee379bdfabcb7": {
          "model_module": "@jupyter-widgets/base",
          "model_name": "LayoutModel",
          "model_module_version": "1.2.0",
          "state": {
            "_model_module": "@jupyter-widgets/base",
            "_model_module_version": "1.2.0",
            "_model_name": "LayoutModel",
            "_view_count": null,
            "_view_module": "@jupyter-widgets/base",
            "_view_module_version": "1.2.0",
            "_view_name": "LayoutView",
            "align_content": null,
            "align_items": null,
            "align_self": null,
            "border": null,
            "bottom": null,
            "display": null,
            "flex": null,
            "flex_flow": null,
            "grid_area": null,
            "grid_auto_columns": null,
            "grid_auto_flow": null,
            "grid_auto_rows": null,
            "grid_column": null,
            "grid_gap": null,
            "grid_row": null,
            "grid_template_areas": null,
            "grid_template_columns": null,
            "grid_template_rows": null,
            "height": "25px",
            "justify_content": null,
            "justify_items": null,
            "left": null,
            "margin": null,
            "max_height": null,
            "max_width": null,
            "min_height": null,
            "min_width": null,
            "object_fit": null,
            "object_position": null,
            "order": null,
            "overflow": null,
            "overflow_x": null,
            "overflow_y": null,
            "padding": null,
            "right": null,
            "top": null,
            "visibility": null,
            "width": "50%"
          }
        },
        "a174c985704b4297b358ff9d52f065f3": {
          "model_module": "@jupyter-widgets/controls",
          "model_name": "ProgressStyleModel",
          "model_module_version": "1.5.0",
          "state": {
            "_model_module": "@jupyter-widgets/controls",
            "_model_module_version": "1.5.0",
            "_model_name": "ProgressStyleModel",
            "_view_count": null,
            "_view_module": "@jupyter-widgets/base",
            "_view_module_version": "1.2.0",
            "_view_name": "StyleView",
            "bar_color": null,
            "description_width": ""
          }
        },
        "dec0ea9d6f964452baee1844e8314ffa": {
          "model_module": "@jupyter-widgets/controls",
          "model_name": "FloatProgressModel",
          "model_module_version": "1.5.0",
          "state": {
            "_dom_classes": [],
            "_model_module": "@jupyter-widgets/controls",
            "_model_module_version": "1.5.0",
            "_model_name": "FloatProgressModel",
            "_view_count": null,
            "_view_module": "@jupyter-widgets/controls",
            "_view_module_version": "1.5.0",
            "_view_name": "ProgressView",
            "bar_style": "info",
            "description": "Progress:",
            "description_tooltip": null,
            "layout": "IPY_MODEL_6785066569c148618a795af46d1352e8",
            "max": 1,
            "min": 0,
            "orientation": "horizontal",
            "style": "IPY_MODEL_ef7aaf8f26114966886e7bb12788308a",
            "value": 0
          }
        },
        "6785066569c148618a795af46d1352e8": {
          "model_module": "@jupyter-widgets/base",
          "model_name": "LayoutModel",
          "model_module_version": "1.2.0",
          "state": {
            "_model_module": "@jupyter-widgets/base",
            "_model_module_version": "1.2.0",
            "_model_name": "LayoutModel",
            "_view_count": null,
            "_view_module": "@jupyter-widgets/base",
            "_view_module_version": "1.2.0",
            "_view_name": "LayoutView",
            "align_content": null,
            "align_items": null,
            "align_self": null,
            "border": null,
            "bottom": null,
            "display": null,
            "flex": null,
            "flex_flow": null,
            "grid_area": null,
            "grid_auto_columns": null,
            "grid_auto_flow": null,
            "grid_auto_rows": null,
            "grid_column": null,
            "grid_gap": null,
            "grid_row": null,
            "grid_template_areas": null,
            "grid_template_columns": null,
            "grid_template_rows": null,
            "height": "25px",
            "justify_content": null,
            "justify_items": null,
            "left": null,
            "margin": null,
            "max_height": null,
            "max_width": null,
            "min_height": null,
            "min_width": null,
            "object_fit": null,
            "object_position": null,
            "order": null,
            "overflow": null,
            "overflow_x": null,
            "overflow_y": null,
            "padding": null,
            "right": null,
            "top": null,
            "visibility": null,
            "width": "50%"
          }
        },
        "ef7aaf8f26114966886e7bb12788308a": {
          "model_module": "@jupyter-widgets/controls",
          "model_name": "ProgressStyleModel",
          "model_module_version": "1.5.0",
          "state": {
            "_model_module": "@jupyter-widgets/controls",
            "_model_module_version": "1.5.0",
            "_model_name": "ProgressStyleModel",
            "_view_count": null,
            "_view_module": "@jupyter-widgets/base",
            "_view_module_version": "1.2.0",
            "_view_name": "StyleView",
            "bar_color": null,
            "description_width": ""
          }
        },
        "c4f5c0477cae4a4e8b4ee73b7669e638": {
          "model_module": "@jupyter-widgets/controls",
          "model_name": "FloatProgressModel",
          "model_module_version": "1.5.0",
          "state": {
            "_dom_classes": [],
            "_model_module": "@jupyter-widgets/controls",
            "_model_module_version": "1.5.0",
            "_model_name": "FloatProgressModel",
            "_view_count": null,
            "_view_module": "@jupyter-widgets/controls",
            "_view_module_version": "1.5.0",
            "_view_name": "ProgressView",
            "bar_style": "info",
            "description": "Progress:",
            "description_tooltip": null,
            "layout": "IPY_MODEL_35a1c91c877748b2972e6cbba630438c",
            "max": 1,
            "min": 0,
            "orientation": "horizontal",
            "style": "IPY_MODEL_b0fe09c4f34045009b89ab48c79d333a",
            "value": 0
          }
        },
        "35a1c91c877748b2972e6cbba630438c": {
          "model_module": "@jupyter-widgets/base",
          "model_name": "LayoutModel",
          "model_module_version": "1.2.0",
          "state": {
            "_model_module": "@jupyter-widgets/base",
            "_model_module_version": "1.2.0",
            "_model_name": "LayoutModel",
            "_view_count": null,
            "_view_module": "@jupyter-widgets/base",
            "_view_module_version": "1.2.0",
            "_view_name": "LayoutView",
            "align_content": null,
            "align_items": null,
            "align_self": null,
            "border": null,
            "bottom": null,
            "display": null,
            "flex": null,
            "flex_flow": null,
            "grid_area": null,
            "grid_auto_columns": null,
            "grid_auto_flow": null,
            "grid_auto_rows": null,
            "grid_column": null,
            "grid_gap": null,
            "grid_row": null,
            "grid_template_areas": null,
            "grid_template_columns": null,
            "grid_template_rows": null,
            "height": "25px",
            "justify_content": null,
            "justify_items": null,
            "left": null,
            "margin": null,
            "max_height": null,
            "max_width": null,
            "min_height": null,
            "min_width": null,
            "object_fit": null,
            "object_position": null,
            "order": null,
            "overflow": null,
            "overflow_x": null,
            "overflow_y": null,
            "padding": null,
            "right": null,
            "top": null,
            "visibility": null,
            "width": "50%"
          }
        },
        "b0fe09c4f34045009b89ab48c79d333a": {
          "model_module": "@jupyter-widgets/controls",
          "model_name": "ProgressStyleModel",
          "model_module_version": "1.5.0",
          "state": {
            "_model_module": "@jupyter-widgets/controls",
            "_model_module_version": "1.5.0",
            "_model_name": "ProgressStyleModel",
            "_view_count": null,
            "_view_module": "@jupyter-widgets/base",
            "_view_module_version": "1.2.0",
            "_view_name": "StyleView",
            "bar_color": null,
            "description_width": ""
          }
        },
        "ebb5169c00f9488798d10c5e22791059": {
          "model_module": "@jupyter-widgets/controls",
          "model_name": "FloatProgressModel",
          "model_module_version": "1.5.0",
          "state": {
            "_dom_classes": [],
            "_model_module": "@jupyter-widgets/controls",
            "_model_module_version": "1.5.0",
            "_model_name": "FloatProgressModel",
            "_view_count": null,
            "_view_module": "@jupyter-widgets/controls",
            "_view_module_version": "1.5.0",
            "_view_name": "ProgressView",
            "bar_style": "info",
            "description": "Progress:",
            "description_tooltip": null,
            "layout": "IPY_MODEL_69b6c13fee6c49779f6918cc567aa172",
            "max": 1,
            "min": 0,
            "orientation": "horizontal",
            "style": "IPY_MODEL_73403d7528a845b79dfc5b4b2d8c6815",
            "value": 0
          }
        },
        "69b6c13fee6c49779f6918cc567aa172": {
          "model_module": "@jupyter-widgets/base",
          "model_name": "LayoutModel",
          "model_module_version": "1.2.0",
          "state": {
            "_model_module": "@jupyter-widgets/base",
            "_model_module_version": "1.2.0",
            "_model_name": "LayoutModel",
            "_view_count": null,
            "_view_module": "@jupyter-widgets/base",
            "_view_module_version": "1.2.0",
            "_view_name": "LayoutView",
            "align_content": null,
            "align_items": null,
            "align_self": null,
            "border": null,
            "bottom": null,
            "display": null,
            "flex": null,
            "flex_flow": null,
            "grid_area": null,
            "grid_auto_columns": null,
            "grid_auto_flow": null,
            "grid_auto_rows": null,
            "grid_column": null,
            "grid_gap": null,
            "grid_row": null,
            "grid_template_areas": null,
            "grid_template_columns": null,
            "grid_template_rows": null,
            "height": "25px",
            "justify_content": null,
            "justify_items": null,
            "left": null,
            "margin": null,
            "max_height": null,
            "max_width": null,
            "min_height": null,
            "min_width": null,
            "object_fit": null,
            "object_position": null,
            "order": null,
            "overflow": null,
            "overflow_x": null,
            "overflow_y": null,
            "padding": null,
            "right": null,
            "top": null,
            "visibility": null,
            "width": "50%"
          }
        },
        "73403d7528a845b79dfc5b4b2d8c6815": {
          "model_module": "@jupyter-widgets/controls",
          "model_name": "ProgressStyleModel",
          "model_module_version": "1.5.0",
          "state": {
            "_model_module": "@jupyter-widgets/controls",
            "_model_module_version": "1.5.0",
            "_model_name": "ProgressStyleModel",
            "_view_count": null,
            "_view_module": "@jupyter-widgets/base",
            "_view_module_version": "1.2.0",
            "_view_name": "StyleView",
            "bar_color": null,
            "description_width": ""
          }
        },
        "0e9c549a03b14b6ca772c8c4a4df6373": {
          "model_module": "@jupyter-widgets/controls",
          "model_name": "FloatProgressModel",
          "model_module_version": "1.5.0",
          "state": {
            "_dom_classes": [],
            "_model_module": "@jupyter-widgets/controls",
            "_model_module_version": "1.5.0",
            "_model_name": "FloatProgressModel",
            "_view_count": null,
            "_view_module": "@jupyter-widgets/controls",
            "_view_module_version": "1.5.0",
            "_view_name": "ProgressView",
            "bar_style": "info",
            "description": "Progress:",
            "description_tooltip": null,
            "layout": "IPY_MODEL_9354476b8490495eb1e15bb3739f8f70",
            "max": 1,
            "min": 0,
            "orientation": "horizontal",
            "style": "IPY_MODEL_92942c1a0fe24f05b40b29930efb4638",
            "value": 0.9893355209187858
          }
        },
        "9354476b8490495eb1e15bb3739f8f70": {
          "model_module": "@jupyter-widgets/base",
          "model_name": "LayoutModel",
          "model_module_version": "1.2.0",
          "state": {
            "_model_module": "@jupyter-widgets/base",
            "_model_module_version": "1.2.0",
            "_model_name": "LayoutModel",
            "_view_count": null,
            "_view_module": "@jupyter-widgets/base",
            "_view_module_version": "1.2.0",
            "_view_name": "LayoutView",
            "align_content": null,
            "align_items": null,
            "align_self": null,
            "border": null,
            "bottom": null,
            "display": null,
            "flex": null,
            "flex_flow": null,
            "grid_area": null,
            "grid_auto_columns": null,
            "grid_auto_flow": null,
            "grid_auto_rows": null,
            "grid_column": null,
            "grid_gap": null,
            "grid_row": null,
            "grid_template_areas": null,
            "grid_template_columns": null,
            "grid_template_rows": null,
            "height": "25px",
            "justify_content": null,
            "justify_items": null,
            "left": null,
            "margin": null,
            "max_height": null,
            "max_width": null,
            "min_height": null,
            "min_width": null,
            "object_fit": null,
            "object_position": null,
            "order": null,
            "overflow": null,
            "overflow_x": null,
            "overflow_y": null,
            "padding": null,
            "right": null,
            "top": null,
            "visibility": null,
            "width": "50%"
          }
        },
        "92942c1a0fe24f05b40b29930efb4638": {
          "model_module": "@jupyter-widgets/controls",
          "model_name": "ProgressStyleModel",
          "model_module_version": "1.5.0",
          "state": {
            "_model_module": "@jupyter-widgets/controls",
            "_model_module_version": "1.5.0",
            "_model_name": "ProgressStyleModel",
            "_view_count": null,
            "_view_module": "@jupyter-widgets/base",
            "_view_module_version": "1.2.0",
            "_view_name": "StyleView",
            "bar_color": null,
            "description_width": ""
          }
        },
        "534a87a1d1ec427dbff4380eb2de4777": {
          "model_module": "@jupyter-widgets/controls",
          "model_name": "FloatProgressModel",
          "model_module_version": "1.5.0",
          "state": {
            "_dom_classes": [],
            "_model_module": "@jupyter-widgets/controls",
            "_model_module_version": "1.5.0",
            "_model_name": "FloatProgressModel",
            "_view_count": null,
            "_view_module": "@jupyter-widgets/controls",
            "_view_module_version": "1.5.0",
            "_view_name": "ProgressView",
            "bar_style": "info",
            "description": "Progress:",
            "description_tooltip": null,
            "layout": "IPY_MODEL_2207eb2e7ae4472e984a452d41b65f80",
            "max": 1,
            "min": 0,
            "orientation": "horizontal",
            "style": "IPY_MODEL_1eca5095e51b4ce7b0dd40e1d304ccc7",
            "value": 0
          }
        },
        "2207eb2e7ae4472e984a452d41b65f80": {
          "model_module": "@jupyter-widgets/base",
          "model_name": "LayoutModel",
          "model_module_version": "1.2.0",
          "state": {
            "_model_module": "@jupyter-widgets/base",
            "_model_module_version": "1.2.0",
            "_model_name": "LayoutModel",
            "_view_count": null,
            "_view_module": "@jupyter-widgets/base",
            "_view_module_version": "1.2.0",
            "_view_name": "LayoutView",
            "align_content": null,
            "align_items": null,
            "align_self": null,
            "border": null,
            "bottom": null,
            "display": null,
            "flex": null,
            "flex_flow": null,
            "grid_area": null,
            "grid_auto_columns": null,
            "grid_auto_flow": null,
            "grid_auto_rows": null,
            "grid_column": null,
            "grid_gap": null,
            "grid_row": null,
            "grid_template_areas": null,
            "grid_template_columns": null,
            "grid_template_rows": null,
            "height": "25px",
            "justify_content": null,
            "justify_items": null,
            "left": null,
            "margin": null,
            "max_height": null,
            "max_width": null,
            "min_height": null,
            "min_width": null,
            "object_fit": null,
            "object_position": null,
            "order": null,
            "overflow": null,
            "overflow_x": null,
            "overflow_y": null,
            "padding": null,
            "right": null,
            "top": null,
            "visibility": null,
            "width": "50%"
          }
        },
        "1eca5095e51b4ce7b0dd40e1d304ccc7": {
          "model_module": "@jupyter-widgets/controls",
          "model_name": "ProgressStyleModel",
          "model_module_version": "1.5.0",
          "state": {
            "_model_module": "@jupyter-widgets/controls",
            "_model_module_version": "1.5.0",
            "_model_name": "ProgressStyleModel",
            "_view_count": null,
            "_view_module": "@jupyter-widgets/base",
            "_view_module_version": "1.2.0",
            "_view_name": "StyleView",
            "bar_color": null,
            "description_width": ""
          }
        },
        "cded4a5ce3fa4b9eb5c503a9d22edd6f": {
          "model_module": "@jupyter-widgets/controls",
          "model_name": "FloatProgressModel",
          "model_module_version": "1.5.0",
          "state": {
            "_dom_classes": [],
            "_model_module": "@jupyter-widgets/controls",
            "_model_module_version": "1.5.0",
            "_model_name": "FloatProgressModel",
            "_view_count": null,
            "_view_module": "@jupyter-widgets/controls",
            "_view_module_version": "1.5.0",
            "_view_name": "ProgressView",
            "bar_style": "info",
            "description": "Progress:",
            "description_tooltip": null,
            "layout": "IPY_MODEL_d5fa54b06fee4c1986bb354ca9dbff3d",
            "max": 1,
            "min": 0,
            "orientation": "horizontal",
            "style": "IPY_MODEL_b96e87a13c994bc596b6ee9d7f5b52c7",
            "value": 0
          }
        },
        "d5fa54b06fee4c1986bb354ca9dbff3d": {
          "model_module": "@jupyter-widgets/base",
          "model_name": "LayoutModel",
          "model_module_version": "1.2.0",
          "state": {
            "_model_module": "@jupyter-widgets/base",
            "_model_module_version": "1.2.0",
            "_model_name": "LayoutModel",
            "_view_count": null,
            "_view_module": "@jupyter-widgets/base",
            "_view_module_version": "1.2.0",
            "_view_name": "LayoutView",
            "align_content": null,
            "align_items": null,
            "align_self": null,
            "border": null,
            "bottom": null,
            "display": null,
            "flex": null,
            "flex_flow": null,
            "grid_area": null,
            "grid_auto_columns": null,
            "grid_auto_flow": null,
            "grid_auto_rows": null,
            "grid_column": null,
            "grid_gap": null,
            "grid_row": null,
            "grid_template_areas": null,
            "grid_template_columns": null,
            "grid_template_rows": null,
            "height": "25px",
            "justify_content": null,
            "justify_items": null,
            "left": null,
            "margin": null,
            "max_height": null,
            "max_width": null,
            "min_height": null,
            "min_width": null,
            "object_fit": null,
            "object_position": null,
            "order": null,
            "overflow": null,
            "overflow_x": null,
            "overflow_y": null,
            "padding": null,
            "right": null,
            "top": null,
            "visibility": null,
            "width": "50%"
          }
        },
        "b96e87a13c994bc596b6ee9d7f5b52c7": {
          "model_module": "@jupyter-widgets/controls",
          "model_name": "ProgressStyleModel",
          "model_module_version": "1.5.0",
          "state": {
            "_model_module": "@jupyter-widgets/controls",
            "_model_module_version": "1.5.0",
            "_model_name": "ProgressStyleModel",
            "_view_count": null,
            "_view_module": "@jupyter-widgets/base",
            "_view_module_version": "1.2.0",
            "_view_name": "StyleView",
            "bar_color": null,
            "description_width": ""
          }
        },
        "faa04e488f5441d58ed9a46f7e793995": {
          "model_module": "@jupyter-widgets/controls",
          "model_name": "FloatProgressModel",
          "model_module_version": "1.5.0",
          "state": {
            "_dom_classes": [],
            "_model_module": "@jupyter-widgets/controls",
            "_model_module_version": "1.5.0",
            "_model_name": "FloatProgressModel",
            "_view_count": null,
            "_view_module": "@jupyter-widgets/controls",
            "_view_module_version": "1.5.0",
            "_view_name": "ProgressView",
            "bar_style": "info",
            "description": "Progress:",
            "description_tooltip": null,
            "layout": "IPY_MODEL_fc0cc5ae9702491484a9153bea562d89",
            "max": 1,
            "min": 0,
            "orientation": "horizontal",
            "style": "IPY_MODEL_103c3c004e36463883151256786de6e4",
            "value": 0
          }
        },
        "fc0cc5ae9702491484a9153bea562d89": {
          "model_module": "@jupyter-widgets/base",
          "model_name": "LayoutModel",
          "model_module_version": "1.2.0",
          "state": {
            "_model_module": "@jupyter-widgets/base",
            "_model_module_version": "1.2.0",
            "_model_name": "LayoutModel",
            "_view_count": null,
            "_view_module": "@jupyter-widgets/base",
            "_view_module_version": "1.2.0",
            "_view_name": "LayoutView",
            "align_content": null,
            "align_items": null,
            "align_self": null,
            "border": null,
            "bottom": null,
            "display": null,
            "flex": null,
            "flex_flow": null,
            "grid_area": null,
            "grid_auto_columns": null,
            "grid_auto_flow": null,
            "grid_auto_rows": null,
            "grid_column": null,
            "grid_gap": null,
            "grid_row": null,
            "grid_template_areas": null,
            "grid_template_columns": null,
            "grid_template_rows": null,
            "height": "25px",
            "justify_content": null,
            "justify_items": null,
            "left": null,
            "margin": null,
            "max_height": null,
            "max_width": null,
            "min_height": null,
            "min_width": null,
            "object_fit": null,
            "object_position": null,
            "order": null,
            "overflow": null,
            "overflow_x": null,
            "overflow_y": null,
            "padding": null,
            "right": null,
            "top": null,
            "visibility": null,
            "width": "50%"
          }
        },
        "103c3c004e36463883151256786de6e4": {
          "model_module": "@jupyter-widgets/controls",
          "model_name": "ProgressStyleModel",
          "model_module_version": "1.5.0",
          "state": {
            "_model_module": "@jupyter-widgets/controls",
            "_model_module_version": "1.5.0",
            "_model_name": "ProgressStyleModel",
            "_view_count": null,
            "_view_module": "@jupyter-widgets/base",
            "_view_module_version": "1.2.0",
            "_view_name": "StyleView",
            "bar_color": null,
            "description_width": ""
          }
        },
        "6baf01c270244f10931a8f4e3baecd99": {
          "model_module": "@jupyter-widgets/controls",
          "model_name": "FloatProgressModel",
          "model_module_version": "1.5.0",
          "state": {
            "_dom_classes": [],
            "_model_module": "@jupyter-widgets/controls",
            "_model_module_version": "1.5.0",
            "_model_name": "FloatProgressModel",
            "_view_count": null,
            "_view_module": "@jupyter-widgets/controls",
            "_view_module_version": "1.5.0",
            "_view_name": "ProgressView",
            "bar_style": "info",
            "description": "Progress:",
            "description_tooltip": null,
            "layout": "IPY_MODEL_284840ca67064c049d867333f005f6e4",
            "max": 1,
            "min": 0,
            "orientation": "horizontal",
            "style": "IPY_MODEL_46e487df486e44e598c6bb88007b5415",
            "value": 0
          }
        },
        "284840ca67064c049d867333f005f6e4": {
          "model_module": "@jupyter-widgets/base",
          "model_name": "LayoutModel",
          "model_module_version": "1.2.0",
          "state": {
            "_model_module": "@jupyter-widgets/base",
            "_model_module_version": "1.2.0",
            "_model_name": "LayoutModel",
            "_view_count": null,
            "_view_module": "@jupyter-widgets/base",
            "_view_module_version": "1.2.0",
            "_view_name": "LayoutView",
            "align_content": null,
            "align_items": null,
            "align_self": null,
            "border": null,
            "bottom": null,
            "display": null,
            "flex": null,
            "flex_flow": null,
            "grid_area": null,
            "grid_auto_columns": null,
            "grid_auto_flow": null,
            "grid_auto_rows": null,
            "grid_column": null,
            "grid_gap": null,
            "grid_row": null,
            "grid_template_areas": null,
            "grid_template_columns": null,
            "grid_template_rows": null,
            "height": "25px",
            "justify_content": null,
            "justify_items": null,
            "left": null,
            "margin": null,
            "max_height": null,
            "max_width": null,
            "min_height": null,
            "min_width": null,
            "object_fit": null,
            "object_position": null,
            "order": null,
            "overflow": null,
            "overflow_x": null,
            "overflow_y": null,
            "padding": null,
            "right": null,
            "top": null,
            "visibility": null,
            "width": "50%"
          }
        },
        "46e487df486e44e598c6bb88007b5415": {
          "model_module": "@jupyter-widgets/controls",
          "model_name": "ProgressStyleModel",
          "model_module_version": "1.5.0",
          "state": {
            "_model_module": "@jupyter-widgets/controls",
            "_model_module_version": "1.5.0",
            "_model_name": "ProgressStyleModel",
            "_view_count": null,
            "_view_module": "@jupyter-widgets/base",
            "_view_module_version": "1.2.0",
            "_view_name": "StyleView",
            "bar_color": null,
            "description_width": ""
          }
        },
        "1205dc630a5e438b9752421a28d30b02": {
          "model_module": "@jupyter-widgets/controls",
          "model_name": "FloatProgressModel",
          "model_module_version": "1.5.0",
          "state": {
            "_dom_classes": [],
            "_model_module": "@jupyter-widgets/controls",
            "_model_module_version": "1.5.0",
            "_model_name": "FloatProgressModel",
            "_view_count": null,
            "_view_module": "@jupyter-widgets/controls",
            "_view_module_version": "1.5.0",
            "_view_name": "ProgressView",
            "bar_style": "info",
            "description": "Progress:",
            "description_tooltip": null,
            "layout": "IPY_MODEL_15eb18de9e2d44f2b8f662279fb63f39",
            "max": 1,
            "min": 0,
            "orientation": "horizontal",
            "style": "IPY_MODEL_650b4404975343e79b17a645b7fce95e",
            "value": 0
          }
        },
        "15eb18de9e2d44f2b8f662279fb63f39": {
          "model_module": "@jupyter-widgets/base",
          "model_name": "LayoutModel",
          "model_module_version": "1.2.0",
          "state": {
            "_model_module": "@jupyter-widgets/base",
            "_model_module_version": "1.2.0",
            "_model_name": "LayoutModel",
            "_view_count": null,
            "_view_module": "@jupyter-widgets/base",
            "_view_module_version": "1.2.0",
            "_view_name": "LayoutView",
            "align_content": null,
            "align_items": null,
            "align_self": null,
            "border": null,
            "bottom": null,
            "display": null,
            "flex": null,
            "flex_flow": null,
            "grid_area": null,
            "grid_auto_columns": null,
            "grid_auto_flow": null,
            "grid_auto_rows": null,
            "grid_column": null,
            "grid_gap": null,
            "grid_row": null,
            "grid_template_areas": null,
            "grid_template_columns": null,
            "grid_template_rows": null,
            "height": "25px",
            "justify_content": null,
            "justify_items": null,
            "left": null,
            "margin": null,
            "max_height": null,
            "max_width": null,
            "min_height": null,
            "min_width": null,
            "object_fit": null,
            "object_position": null,
            "order": null,
            "overflow": null,
            "overflow_x": null,
            "overflow_y": null,
            "padding": null,
            "right": null,
            "top": null,
            "visibility": null,
            "width": "50%"
          }
        },
        "650b4404975343e79b17a645b7fce95e": {
          "model_module": "@jupyter-widgets/controls",
          "model_name": "ProgressStyleModel",
          "model_module_version": "1.5.0",
          "state": {
            "_model_module": "@jupyter-widgets/controls",
            "_model_module_version": "1.5.0",
            "_model_name": "ProgressStyleModel",
            "_view_count": null,
            "_view_module": "@jupyter-widgets/base",
            "_view_module_version": "1.2.0",
            "_view_name": "StyleView",
            "bar_color": null,
            "description_width": ""
          }
        },
        "0fd033aa4d4b414e947035f9db622dd0": {
          "model_module": "@jupyter-widgets/controls",
          "model_name": "FloatProgressModel",
          "model_module_version": "1.5.0",
          "state": {
            "_dom_classes": [],
            "_model_module": "@jupyter-widgets/controls",
            "_model_module_version": "1.5.0",
            "_model_name": "FloatProgressModel",
            "_view_count": null,
            "_view_module": "@jupyter-widgets/controls",
            "_view_module_version": "1.5.0",
            "_view_name": "ProgressView",
            "bar_style": "info",
            "description": "Progress:",
            "description_tooltip": null,
            "layout": "IPY_MODEL_29182d594c0143c6bad95d5ea5de6cb3",
            "max": 1,
            "min": 0,
            "orientation": "horizontal",
            "style": "IPY_MODEL_2e5fd3cf066341deb20ce2cbb1212da7",
            "value": 0
          }
        },
        "29182d594c0143c6bad95d5ea5de6cb3": {
          "model_module": "@jupyter-widgets/base",
          "model_name": "LayoutModel",
          "model_module_version": "1.2.0",
          "state": {
            "_model_module": "@jupyter-widgets/base",
            "_model_module_version": "1.2.0",
            "_model_name": "LayoutModel",
            "_view_count": null,
            "_view_module": "@jupyter-widgets/base",
            "_view_module_version": "1.2.0",
            "_view_name": "LayoutView",
            "align_content": null,
            "align_items": null,
            "align_self": null,
            "border": null,
            "bottom": null,
            "display": null,
            "flex": null,
            "flex_flow": null,
            "grid_area": null,
            "grid_auto_columns": null,
            "grid_auto_flow": null,
            "grid_auto_rows": null,
            "grid_column": null,
            "grid_gap": null,
            "grid_row": null,
            "grid_template_areas": null,
            "grid_template_columns": null,
            "grid_template_rows": null,
            "height": "25px",
            "justify_content": null,
            "justify_items": null,
            "left": null,
            "margin": null,
            "max_height": null,
            "max_width": null,
            "min_height": null,
            "min_width": null,
            "object_fit": null,
            "object_position": null,
            "order": null,
            "overflow": null,
            "overflow_x": null,
            "overflow_y": null,
            "padding": null,
            "right": null,
            "top": null,
            "visibility": null,
            "width": "50%"
          }
        },
        "2e5fd3cf066341deb20ce2cbb1212da7": {
          "model_module": "@jupyter-widgets/controls",
          "model_name": "ProgressStyleModel",
          "model_module_version": "1.5.0",
          "state": {
            "_model_module": "@jupyter-widgets/controls",
            "_model_module_version": "1.5.0",
            "_model_name": "ProgressStyleModel",
            "_view_count": null,
            "_view_module": "@jupyter-widgets/base",
            "_view_module_version": "1.2.0",
            "_view_name": "StyleView",
            "bar_color": null,
            "description_width": ""
          }
        },
        "5235ab07a5ac4721b390c53561982f70": {
          "model_module": "@jupyter-widgets/controls",
          "model_name": "FloatProgressModel",
          "model_module_version": "1.5.0",
          "state": {
            "_dom_classes": [],
            "_model_module": "@jupyter-widgets/controls",
            "_model_module_version": "1.5.0",
            "_model_name": "FloatProgressModel",
            "_view_count": null,
            "_view_module": "@jupyter-widgets/controls",
            "_view_module_version": "1.5.0",
            "_view_name": "ProgressView",
            "bar_style": "info",
            "description": "Progress:",
            "description_tooltip": null,
            "layout": "IPY_MODEL_c2149d7e882249499338d110bcf20a29",
            "max": 1,
            "min": 0,
            "orientation": "horizontal",
            "style": "IPY_MODEL_d6b8af9b59cd43cd8cadf6fa8a01b558",
            "value": 0.26910569105691057
          }
        },
        "c2149d7e882249499338d110bcf20a29": {
          "model_module": "@jupyter-widgets/base",
          "model_name": "LayoutModel",
          "model_module_version": "1.2.0",
          "state": {
            "_model_module": "@jupyter-widgets/base",
            "_model_module_version": "1.2.0",
            "_model_name": "LayoutModel",
            "_view_count": null,
            "_view_module": "@jupyter-widgets/base",
            "_view_module_version": "1.2.0",
            "_view_name": "LayoutView",
            "align_content": null,
            "align_items": null,
            "align_self": null,
            "border": null,
            "bottom": null,
            "display": null,
            "flex": null,
            "flex_flow": null,
            "grid_area": null,
            "grid_auto_columns": null,
            "grid_auto_flow": null,
            "grid_auto_rows": null,
            "grid_column": null,
            "grid_gap": null,
            "grid_row": null,
            "grid_template_areas": null,
            "grid_template_columns": null,
            "grid_template_rows": null,
            "height": "25px",
            "justify_content": null,
            "justify_items": null,
            "left": null,
            "margin": null,
            "max_height": null,
            "max_width": null,
            "min_height": null,
            "min_width": null,
            "object_fit": null,
            "object_position": null,
            "order": null,
            "overflow": null,
            "overflow_x": null,
            "overflow_y": null,
            "padding": null,
            "right": null,
            "top": null,
            "visibility": null,
            "width": "50%"
          }
        },
        "d6b8af9b59cd43cd8cadf6fa8a01b558": {
          "model_module": "@jupyter-widgets/controls",
          "model_name": "ProgressStyleModel",
          "model_module_version": "1.5.0",
          "state": {
            "_model_module": "@jupyter-widgets/controls",
            "_model_module_version": "1.5.0",
            "_model_name": "ProgressStyleModel",
            "_view_count": null,
            "_view_module": "@jupyter-widgets/base",
            "_view_module_version": "1.2.0",
            "_view_name": "StyleView",
            "bar_color": null,
            "description_width": ""
          }
        },
        "e284f455f7664fb8ba329149307086cc": {
          "model_module": "@jupyter-widgets/controls",
          "model_name": "FloatProgressModel",
          "model_module_version": "1.5.0",
          "state": {
            "_dom_classes": [],
            "_model_module": "@jupyter-widgets/controls",
            "_model_module_version": "1.5.0",
            "_model_name": "FloatProgressModel",
            "_view_count": null,
            "_view_module": "@jupyter-widgets/controls",
            "_view_module_version": "1.5.0",
            "_view_name": "ProgressView",
            "bar_style": "info",
            "description": "Progress:",
            "description_tooltip": null,
            "layout": "IPY_MODEL_83eb05e61c5d47c8a661cd0504e04baa",
            "max": 1,
            "min": 0,
            "orientation": "horizontal",
            "style": "IPY_MODEL_fd94731d14db47a99e2b0c6ddf43ee69",
            "value": 0
          }
        },
        "83eb05e61c5d47c8a661cd0504e04baa": {
          "model_module": "@jupyter-widgets/base",
          "model_name": "LayoutModel",
          "model_module_version": "1.2.0",
          "state": {
            "_model_module": "@jupyter-widgets/base",
            "_model_module_version": "1.2.0",
            "_model_name": "LayoutModel",
            "_view_count": null,
            "_view_module": "@jupyter-widgets/base",
            "_view_module_version": "1.2.0",
            "_view_name": "LayoutView",
            "align_content": null,
            "align_items": null,
            "align_self": null,
            "border": null,
            "bottom": null,
            "display": null,
            "flex": null,
            "flex_flow": null,
            "grid_area": null,
            "grid_auto_columns": null,
            "grid_auto_flow": null,
            "grid_auto_rows": null,
            "grid_column": null,
            "grid_gap": null,
            "grid_row": null,
            "grid_template_areas": null,
            "grid_template_columns": null,
            "grid_template_rows": null,
            "height": "25px",
            "justify_content": null,
            "justify_items": null,
            "left": null,
            "margin": null,
            "max_height": null,
            "max_width": null,
            "min_height": null,
            "min_width": null,
            "object_fit": null,
            "object_position": null,
            "order": null,
            "overflow": null,
            "overflow_x": null,
            "overflow_y": null,
            "padding": null,
            "right": null,
            "top": null,
            "visibility": null,
            "width": "50%"
          }
        },
        "fd94731d14db47a99e2b0c6ddf43ee69": {
          "model_module": "@jupyter-widgets/controls",
          "model_name": "ProgressStyleModel",
          "model_module_version": "1.5.0",
          "state": {
            "_model_module": "@jupyter-widgets/controls",
            "_model_module_version": "1.5.0",
            "_model_name": "ProgressStyleModel",
            "_view_count": null,
            "_view_module": "@jupyter-widgets/base",
            "_view_module_version": "1.2.0",
            "_view_name": "StyleView",
            "bar_color": null,
            "description_width": ""
          }
        },
        "084d6903e1e1432e816deb5be83fbd8b": {
          "model_module": "@jupyter-widgets/controls",
          "model_name": "FloatProgressModel",
          "model_module_version": "1.5.0",
          "state": {
            "_dom_classes": [],
            "_model_module": "@jupyter-widgets/controls",
            "_model_module_version": "1.5.0",
            "_model_name": "FloatProgressModel",
            "_view_count": null,
            "_view_module": "@jupyter-widgets/controls",
            "_view_module_version": "1.5.0",
            "_view_name": "ProgressView",
            "bar_style": "info",
            "description": "Progress:",
            "description_tooltip": null,
            "layout": "IPY_MODEL_0bcb6586aa5d4ac8a21805bffc87d509",
            "max": 1,
            "min": 0,
            "orientation": "horizontal",
            "style": "IPY_MODEL_91f91e9d2f944c65ba1760c32723ca7b",
            "value": 0.25
          }
        },
        "0bcb6586aa5d4ac8a21805bffc87d509": {
          "model_module": "@jupyter-widgets/base",
          "model_name": "LayoutModel",
          "model_module_version": "1.2.0",
          "state": {
            "_model_module": "@jupyter-widgets/base",
            "_model_module_version": "1.2.0",
            "_model_name": "LayoutModel",
            "_view_count": null,
            "_view_module": "@jupyter-widgets/base",
            "_view_module_version": "1.2.0",
            "_view_name": "LayoutView",
            "align_content": null,
            "align_items": null,
            "align_self": null,
            "border": null,
            "bottom": null,
            "display": null,
            "flex": null,
            "flex_flow": null,
            "grid_area": null,
            "grid_auto_columns": null,
            "grid_auto_flow": null,
            "grid_auto_rows": null,
            "grid_column": null,
            "grid_gap": null,
            "grid_row": null,
            "grid_template_areas": null,
            "grid_template_columns": null,
            "grid_template_rows": null,
            "height": "25px",
            "justify_content": null,
            "justify_items": null,
            "left": null,
            "margin": null,
            "max_height": null,
            "max_width": null,
            "min_height": null,
            "min_width": null,
            "object_fit": null,
            "object_position": null,
            "order": null,
            "overflow": null,
            "overflow_x": null,
            "overflow_y": null,
            "padding": null,
            "right": null,
            "top": null,
            "visibility": null,
            "width": "50%"
          }
        },
        "91f91e9d2f944c65ba1760c32723ca7b": {
          "model_module": "@jupyter-widgets/controls",
          "model_name": "ProgressStyleModel",
          "model_module_version": "1.5.0",
          "state": {
            "_model_module": "@jupyter-widgets/controls",
            "_model_module_version": "1.5.0",
            "_model_name": "ProgressStyleModel",
            "_view_count": null,
            "_view_module": "@jupyter-widgets/base",
            "_view_module_version": "1.2.0",
            "_view_name": "StyleView",
            "bar_color": null,
            "description_width": ""
          }
        },
        "65c3a3eaddeb41d79de6b488016ec47d": {
          "model_module": "@jupyter-widgets/controls",
          "model_name": "FloatProgressModel",
          "model_module_version": "1.5.0",
          "state": {
            "_dom_classes": [],
            "_model_module": "@jupyter-widgets/controls",
            "_model_module_version": "1.5.0",
            "_model_name": "FloatProgressModel",
            "_view_count": null,
            "_view_module": "@jupyter-widgets/controls",
            "_view_module_version": "1.5.0",
            "_view_name": "ProgressView",
            "bar_style": "info",
            "description": "Progress:",
            "description_tooltip": null,
            "layout": "IPY_MODEL_c0c64dac6ca04816a45caed275723074",
            "max": 1,
            "min": 0,
            "orientation": "horizontal",
            "style": "IPY_MODEL_8ea88d24d51d481399c478035549d29c",
            "value": 0
          }
        },
        "c0c64dac6ca04816a45caed275723074": {
          "model_module": "@jupyter-widgets/base",
          "model_name": "LayoutModel",
          "model_module_version": "1.2.0",
          "state": {
            "_model_module": "@jupyter-widgets/base",
            "_model_module_version": "1.2.0",
            "_model_name": "LayoutModel",
            "_view_count": null,
            "_view_module": "@jupyter-widgets/base",
            "_view_module_version": "1.2.0",
            "_view_name": "LayoutView",
            "align_content": null,
            "align_items": null,
            "align_self": null,
            "border": null,
            "bottom": null,
            "display": null,
            "flex": null,
            "flex_flow": null,
            "grid_area": null,
            "grid_auto_columns": null,
            "grid_auto_flow": null,
            "grid_auto_rows": null,
            "grid_column": null,
            "grid_gap": null,
            "grid_row": null,
            "grid_template_areas": null,
            "grid_template_columns": null,
            "grid_template_rows": null,
            "height": "25px",
            "justify_content": null,
            "justify_items": null,
            "left": null,
            "margin": null,
            "max_height": null,
            "max_width": null,
            "min_height": null,
            "min_width": null,
            "object_fit": null,
            "object_position": null,
            "order": null,
            "overflow": null,
            "overflow_x": null,
            "overflow_y": null,
            "padding": null,
            "right": null,
            "top": null,
            "visibility": null,
            "width": "50%"
          }
        },
        "8ea88d24d51d481399c478035549d29c": {
          "model_module": "@jupyter-widgets/controls",
          "model_name": "ProgressStyleModel",
          "model_module_version": "1.5.0",
          "state": {
            "_model_module": "@jupyter-widgets/controls",
            "_model_module_version": "1.5.0",
            "_model_name": "ProgressStyleModel",
            "_view_count": null,
            "_view_module": "@jupyter-widgets/base",
            "_view_module_version": "1.2.0",
            "_view_name": "StyleView",
            "bar_color": null,
            "description_width": ""
          }
        },
        "bd72497b17314925bd4416ba150d09df": {
          "model_module": "@jupyter-widgets/controls",
          "model_name": "FloatProgressModel",
          "model_module_version": "1.5.0",
          "state": {
            "_dom_classes": [],
            "_model_module": "@jupyter-widgets/controls",
            "_model_module_version": "1.5.0",
            "_model_name": "FloatProgressModel",
            "_view_count": null,
            "_view_module": "@jupyter-widgets/controls",
            "_view_module_version": "1.5.0",
            "_view_name": "ProgressView",
            "bar_style": "info",
            "description": "Progress:",
            "description_tooltip": null,
            "layout": "IPY_MODEL_36d8afe78644415eb23a11c48b1a43c5",
            "max": 1,
            "min": 0,
            "orientation": "horizontal",
            "style": "IPY_MODEL_5ff92d27c548435797257273137f9e57",
            "value": 0
          }
        },
        "36d8afe78644415eb23a11c48b1a43c5": {
          "model_module": "@jupyter-widgets/base",
          "model_name": "LayoutModel",
          "model_module_version": "1.2.0",
          "state": {
            "_model_module": "@jupyter-widgets/base",
            "_model_module_version": "1.2.0",
            "_model_name": "LayoutModel",
            "_view_count": null,
            "_view_module": "@jupyter-widgets/base",
            "_view_module_version": "1.2.0",
            "_view_name": "LayoutView",
            "align_content": null,
            "align_items": null,
            "align_self": null,
            "border": null,
            "bottom": null,
            "display": null,
            "flex": null,
            "flex_flow": null,
            "grid_area": null,
            "grid_auto_columns": null,
            "grid_auto_flow": null,
            "grid_auto_rows": null,
            "grid_column": null,
            "grid_gap": null,
            "grid_row": null,
            "grid_template_areas": null,
            "grid_template_columns": null,
            "grid_template_rows": null,
            "height": "25px",
            "justify_content": null,
            "justify_items": null,
            "left": null,
            "margin": null,
            "max_height": null,
            "max_width": null,
            "min_height": null,
            "min_width": null,
            "object_fit": null,
            "object_position": null,
            "order": null,
            "overflow": null,
            "overflow_x": null,
            "overflow_y": null,
            "padding": null,
            "right": null,
            "top": null,
            "visibility": null,
            "width": "50%"
          }
        },
        "5ff92d27c548435797257273137f9e57": {
          "model_module": "@jupyter-widgets/controls",
          "model_name": "ProgressStyleModel",
          "model_module_version": "1.5.0",
          "state": {
            "_model_module": "@jupyter-widgets/controls",
            "_model_module_version": "1.5.0",
            "_model_name": "ProgressStyleModel",
            "_view_count": null,
            "_view_module": "@jupyter-widgets/base",
            "_view_module_version": "1.2.0",
            "_view_name": "StyleView",
            "bar_color": null,
            "description_width": ""
          }
        },
        "f98d281ca031478291f5c166dbb7d1c6": {
          "model_module": "@jupyter-widgets/controls",
          "model_name": "FloatProgressModel",
          "model_module_version": "1.5.0",
          "state": {
            "_dom_classes": [],
            "_model_module": "@jupyter-widgets/controls",
            "_model_module_version": "1.5.0",
            "_model_name": "FloatProgressModel",
            "_view_count": null,
            "_view_module": "@jupyter-widgets/controls",
            "_view_module_version": "1.5.0",
            "_view_name": "ProgressView",
            "bar_style": "info",
            "description": "Progress:",
            "description_tooltip": null,
            "layout": "IPY_MODEL_b18159cb5798494ea690e2d03eb4dbb7",
            "max": 1,
            "min": 0,
            "orientation": "horizontal",
            "style": "IPY_MODEL_a382ea9cc10e46659df3c997b0a5057b",
            "value": 0
          }
        },
        "b18159cb5798494ea690e2d03eb4dbb7": {
          "model_module": "@jupyter-widgets/base",
          "model_name": "LayoutModel",
          "model_module_version": "1.2.0",
          "state": {
            "_model_module": "@jupyter-widgets/base",
            "_model_module_version": "1.2.0",
            "_model_name": "LayoutModel",
            "_view_count": null,
            "_view_module": "@jupyter-widgets/base",
            "_view_module_version": "1.2.0",
            "_view_name": "LayoutView",
            "align_content": null,
            "align_items": null,
            "align_self": null,
            "border": null,
            "bottom": null,
            "display": null,
            "flex": null,
            "flex_flow": null,
            "grid_area": null,
            "grid_auto_columns": null,
            "grid_auto_flow": null,
            "grid_auto_rows": null,
            "grid_column": null,
            "grid_gap": null,
            "grid_row": null,
            "grid_template_areas": null,
            "grid_template_columns": null,
            "grid_template_rows": null,
            "height": "25px",
            "justify_content": null,
            "justify_items": null,
            "left": null,
            "margin": null,
            "max_height": null,
            "max_width": null,
            "min_height": null,
            "min_width": null,
            "object_fit": null,
            "object_position": null,
            "order": null,
            "overflow": null,
            "overflow_x": null,
            "overflow_y": null,
            "padding": null,
            "right": null,
            "top": null,
            "visibility": null,
            "width": "50%"
          }
        },
        "a382ea9cc10e46659df3c997b0a5057b": {
          "model_module": "@jupyter-widgets/controls",
          "model_name": "ProgressStyleModel",
          "model_module_version": "1.5.0",
          "state": {
            "_model_module": "@jupyter-widgets/controls",
            "_model_module_version": "1.5.0",
            "_model_name": "ProgressStyleModel",
            "_view_count": null,
            "_view_module": "@jupyter-widgets/base",
            "_view_module_version": "1.2.0",
            "_view_name": "StyleView",
            "bar_color": null,
            "description_width": ""
          }
        },
        "b01ca56bd28d4443b4cba6d5879d372a": {
          "model_module": "@jupyter-widgets/controls",
          "model_name": "FloatProgressModel",
          "model_module_version": "1.5.0",
          "state": {
            "_dom_classes": [],
            "_model_module": "@jupyter-widgets/controls",
            "_model_module_version": "1.5.0",
            "_model_name": "FloatProgressModel",
            "_view_count": null,
            "_view_module": "@jupyter-widgets/controls",
            "_view_module_version": "1.5.0",
            "_view_name": "ProgressView",
            "bar_style": "info",
            "description": "Progress:",
            "description_tooltip": null,
            "layout": "IPY_MODEL_7a235039c7014c588455d47f6089975e",
            "max": 1,
            "min": 0,
            "orientation": "horizontal",
            "style": "IPY_MODEL_1c4de8006aad4cf49353ddd232a756df",
            "value": 0
          }
        },
        "7a235039c7014c588455d47f6089975e": {
          "model_module": "@jupyter-widgets/base",
          "model_name": "LayoutModel",
          "model_module_version": "1.2.0",
          "state": {
            "_model_module": "@jupyter-widgets/base",
            "_model_module_version": "1.2.0",
            "_model_name": "LayoutModel",
            "_view_count": null,
            "_view_module": "@jupyter-widgets/base",
            "_view_module_version": "1.2.0",
            "_view_name": "LayoutView",
            "align_content": null,
            "align_items": null,
            "align_self": null,
            "border": null,
            "bottom": null,
            "display": null,
            "flex": null,
            "flex_flow": null,
            "grid_area": null,
            "grid_auto_columns": null,
            "grid_auto_flow": null,
            "grid_auto_rows": null,
            "grid_column": null,
            "grid_gap": null,
            "grid_row": null,
            "grid_template_areas": null,
            "grid_template_columns": null,
            "grid_template_rows": null,
            "height": "25px",
            "justify_content": null,
            "justify_items": null,
            "left": null,
            "margin": null,
            "max_height": null,
            "max_width": null,
            "min_height": null,
            "min_width": null,
            "object_fit": null,
            "object_position": null,
            "order": null,
            "overflow": null,
            "overflow_x": null,
            "overflow_y": null,
            "padding": null,
            "right": null,
            "top": null,
            "visibility": null,
            "width": "50%"
          }
        },
        "1c4de8006aad4cf49353ddd232a756df": {
          "model_module": "@jupyter-widgets/controls",
          "model_name": "ProgressStyleModel",
          "model_module_version": "1.5.0",
          "state": {
            "_model_module": "@jupyter-widgets/controls",
            "_model_module_version": "1.5.0",
            "_model_name": "ProgressStyleModel",
            "_view_count": null,
            "_view_module": "@jupyter-widgets/base",
            "_view_module_version": "1.2.0",
            "_view_name": "StyleView",
            "bar_color": null,
            "description_width": ""
          }
        },
        "db2584b3f4284564a891938f42707944": {
          "model_module": "@jupyter-widgets/controls",
          "model_name": "FloatProgressModel",
          "model_module_version": "1.5.0",
          "state": {
            "_dom_classes": [],
            "_model_module": "@jupyter-widgets/controls",
            "_model_module_version": "1.5.0",
            "_model_name": "FloatProgressModel",
            "_view_count": null,
            "_view_module": "@jupyter-widgets/controls",
            "_view_module_version": "1.5.0",
            "_view_name": "ProgressView",
            "bar_style": "info",
            "description": "Progress:",
            "description_tooltip": null,
            "layout": "IPY_MODEL_e0a7ad7d534b4f38b721e346607a6b08",
            "max": 1,
            "min": 0,
            "orientation": "horizontal",
            "style": "IPY_MODEL_bc13ddb3f6174b2cac7dd06386eafb13",
            "value": 0
          }
        },
        "e0a7ad7d534b4f38b721e346607a6b08": {
          "model_module": "@jupyter-widgets/base",
          "model_name": "LayoutModel",
          "model_module_version": "1.2.0",
          "state": {
            "_model_module": "@jupyter-widgets/base",
            "_model_module_version": "1.2.0",
            "_model_name": "LayoutModel",
            "_view_count": null,
            "_view_module": "@jupyter-widgets/base",
            "_view_module_version": "1.2.0",
            "_view_name": "LayoutView",
            "align_content": null,
            "align_items": null,
            "align_self": null,
            "border": null,
            "bottom": null,
            "display": null,
            "flex": null,
            "flex_flow": null,
            "grid_area": null,
            "grid_auto_columns": null,
            "grid_auto_flow": null,
            "grid_auto_rows": null,
            "grid_column": null,
            "grid_gap": null,
            "grid_row": null,
            "grid_template_areas": null,
            "grid_template_columns": null,
            "grid_template_rows": null,
            "height": "25px",
            "justify_content": null,
            "justify_items": null,
            "left": null,
            "margin": null,
            "max_height": null,
            "max_width": null,
            "min_height": null,
            "min_width": null,
            "object_fit": null,
            "object_position": null,
            "order": null,
            "overflow": null,
            "overflow_x": null,
            "overflow_y": null,
            "padding": null,
            "right": null,
            "top": null,
            "visibility": null,
            "width": "50%"
          }
        },
        "bc13ddb3f6174b2cac7dd06386eafb13": {
          "model_module": "@jupyter-widgets/controls",
          "model_name": "ProgressStyleModel",
          "model_module_version": "1.5.0",
          "state": {
            "_model_module": "@jupyter-widgets/controls",
            "_model_module_version": "1.5.0",
            "_model_name": "ProgressStyleModel",
            "_view_count": null,
            "_view_module": "@jupyter-widgets/base",
            "_view_module_version": "1.2.0",
            "_view_name": "StyleView",
            "bar_color": null,
            "description_width": ""
          }
        },
        "886d996e05c7449995c73c97ad962e4c": {
          "model_module": "@jupyter-widgets/controls",
          "model_name": "FloatProgressModel",
          "model_module_version": "1.5.0",
          "state": {
            "_dom_classes": [],
            "_model_module": "@jupyter-widgets/controls",
            "_model_module_version": "1.5.0",
            "_model_name": "FloatProgressModel",
            "_view_count": null,
            "_view_module": "@jupyter-widgets/controls",
            "_view_module_version": "1.5.0",
            "_view_name": "ProgressView",
            "bar_style": "info",
            "description": "Progress:",
            "description_tooltip": null,
            "layout": "IPY_MODEL_c7dd75bdaa9741538669308e7ed011b7",
            "max": 1,
            "min": 0,
            "orientation": "horizontal",
            "style": "IPY_MODEL_eca0dbd350194ddca37b953a846bbd81",
            "value": 0
          }
        },
        "c7dd75bdaa9741538669308e7ed011b7": {
          "model_module": "@jupyter-widgets/base",
          "model_name": "LayoutModel",
          "model_module_version": "1.2.0",
          "state": {
            "_model_module": "@jupyter-widgets/base",
            "_model_module_version": "1.2.0",
            "_model_name": "LayoutModel",
            "_view_count": null,
            "_view_module": "@jupyter-widgets/base",
            "_view_module_version": "1.2.0",
            "_view_name": "LayoutView",
            "align_content": null,
            "align_items": null,
            "align_self": null,
            "border": null,
            "bottom": null,
            "display": null,
            "flex": null,
            "flex_flow": null,
            "grid_area": null,
            "grid_auto_columns": null,
            "grid_auto_flow": null,
            "grid_auto_rows": null,
            "grid_column": null,
            "grid_gap": null,
            "grid_row": null,
            "grid_template_areas": null,
            "grid_template_columns": null,
            "grid_template_rows": null,
            "height": "25px",
            "justify_content": null,
            "justify_items": null,
            "left": null,
            "margin": null,
            "max_height": null,
            "max_width": null,
            "min_height": null,
            "min_width": null,
            "object_fit": null,
            "object_position": null,
            "order": null,
            "overflow": null,
            "overflow_x": null,
            "overflow_y": null,
            "padding": null,
            "right": null,
            "top": null,
            "visibility": null,
            "width": "50%"
          }
        },
        "eca0dbd350194ddca37b953a846bbd81": {
          "model_module": "@jupyter-widgets/controls",
          "model_name": "ProgressStyleModel",
          "model_module_version": "1.5.0",
          "state": {
            "_model_module": "@jupyter-widgets/controls",
            "_model_module_version": "1.5.0",
            "_model_name": "ProgressStyleModel",
            "_view_count": null,
            "_view_module": "@jupyter-widgets/base",
            "_view_module_version": "1.2.0",
            "_view_name": "StyleView",
            "bar_color": null,
            "description_width": ""
          }
        },
        "4fc28e7ea266475cb6a3244055e8331c": {
          "model_module": "@jupyter-widgets/controls",
          "model_name": "FloatProgressModel",
          "model_module_version": "1.5.0",
          "state": {
            "_dom_classes": [],
            "_model_module": "@jupyter-widgets/controls",
            "_model_module_version": "1.5.0",
            "_model_name": "FloatProgressModel",
            "_view_count": null,
            "_view_module": "@jupyter-widgets/controls",
            "_view_module_version": "1.5.0",
            "_view_name": "ProgressView",
            "bar_style": "info",
            "description": "Progress:",
            "description_tooltip": null,
            "layout": "IPY_MODEL_75abc5e0e496441fadecb1159fdc0098",
            "max": 1,
            "min": 0,
            "orientation": "horizontal",
            "style": "IPY_MODEL_dbc1e8b17bbc4f7aab6ba7c306e8edb1",
            "value": 0.6611842105263158
          }
        },
        "75abc5e0e496441fadecb1159fdc0098": {
          "model_module": "@jupyter-widgets/base",
          "model_name": "LayoutModel",
          "model_module_version": "1.2.0",
          "state": {
            "_model_module": "@jupyter-widgets/base",
            "_model_module_version": "1.2.0",
            "_model_name": "LayoutModel",
            "_view_count": null,
            "_view_module": "@jupyter-widgets/base",
            "_view_module_version": "1.2.0",
            "_view_name": "LayoutView",
            "align_content": null,
            "align_items": null,
            "align_self": null,
            "border": null,
            "bottom": null,
            "display": null,
            "flex": null,
            "flex_flow": null,
            "grid_area": null,
            "grid_auto_columns": null,
            "grid_auto_flow": null,
            "grid_auto_rows": null,
            "grid_column": null,
            "grid_gap": null,
            "grid_row": null,
            "grid_template_areas": null,
            "grid_template_columns": null,
            "grid_template_rows": null,
            "height": "25px",
            "justify_content": null,
            "justify_items": null,
            "left": null,
            "margin": null,
            "max_height": null,
            "max_width": null,
            "min_height": null,
            "min_width": null,
            "object_fit": null,
            "object_position": null,
            "order": null,
            "overflow": null,
            "overflow_x": null,
            "overflow_y": null,
            "padding": null,
            "right": null,
            "top": null,
            "visibility": null,
            "width": "50%"
          }
        },
        "dbc1e8b17bbc4f7aab6ba7c306e8edb1": {
          "model_module": "@jupyter-widgets/controls",
          "model_name": "ProgressStyleModel",
          "model_module_version": "1.5.0",
          "state": {
            "_model_module": "@jupyter-widgets/controls",
            "_model_module_version": "1.5.0",
            "_model_name": "ProgressStyleModel",
            "_view_count": null,
            "_view_module": "@jupyter-widgets/base",
            "_view_module_version": "1.2.0",
            "_view_name": "StyleView",
            "bar_color": null,
            "description_width": ""
          }
        },
        "5b92addefd684851a412688aa69b8334": {
          "model_module": "@jupyter-widgets/controls",
          "model_name": "FloatProgressModel",
          "model_module_version": "1.5.0",
          "state": {
            "_dom_classes": [],
            "_model_module": "@jupyter-widgets/controls",
            "_model_module_version": "1.5.0",
            "_model_name": "FloatProgressModel",
            "_view_count": null,
            "_view_module": "@jupyter-widgets/controls",
            "_view_module_version": "1.5.0",
            "_view_name": "ProgressView",
            "bar_style": "info",
            "description": "Progress:",
            "description_tooltip": null,
            "layout": "IPY_MODEL_2d3380d51a1944079d5981c0da44edf6",
            "max": 1,
            "min": 0,
            "orientation": "horizontal",
            "style": "IPY_MODEL_baf7c6f8709b4aca83a2abfcda1652fa",
            "value": 0
          }
        },
        "2d3380d51a1944079d5981c0da44edf6": {
          "model_module": "@jupyter-widgets/base",
          "model_name": "LayoutModel",
          "model_module_version": "1.2.0",
          "state": {
            "_model_module": "@jupyter-widgets/base",
            "_model_module_version": "1.2.0",
            "_model_name": "LayoutModel",
            "_view_count": null,
            "_view_module": "@jupyter-widgets/base",
            "_view_module_version": "1.2.0",
            "_view_name": "LayoutView",
            "align_content": null,
            "align_items": null,
            "align_self": null,
            "border": null,
            "bottom": null,
            "display": null,
            "flex": null,
            "flex_flow": null,
            "grid_area": null,
            "grid_auto_columns": null,
            "grid_auto_flow": null,
            "grid_auto_rows": null,
            "grid_column": null,
            "grid_gap": null,
            "grid_row": null,
            "grid_template_areas": null,
            "grid_template_columns": null,
            "grid_template_rows": null,
            "height": "25px",
            "justify_content": null,
            "justify_items": null,
            "left": null,
            "margin": null,
            "max_height": null,
            "max_width": null,
            "min_height": null,
            "min_width": null,
            "object_fit": null,
            "object_position": null,
            "order": null,
            "overflow": null,
            "overflow_x": null,
            "overflow_y": null,
            "padding": null,
            "right": null,
            "top": null,
            "visibility": null,
            "width": "50%"
          }
        },
        "baf7c6f8709b4aca83a2abfcda1652fa": {
          "model_module": "@jupyter-widgets/controls",
          "model_name": "ProgressStyleModel",
          "model_module_version": "1.5.0",
          "state": {
            "_model_module": "@jupyter-widgets/controls",
            "_model_module_version": "1.5.0",
            "_model_name": "ProgressStyleModel",
            "_view_count": null,
            "_view_module": "@jupyter-widgets/base",
            "_view_module_version": "1.2.0",
            "_view_name": "StyleView",
            "bar_color": null,
            "description_width": ""
          }
        },
        "750f836943c74846b3931617dcf5ec22": {
          "model_module": "@jupyter-widgets/controls",
          "model_name": "FloatProgressModel",
          "model_module_version": "1.5.0",
          "state": {
            "_dom_classes": [],
            "_model_module": "@jupyter-widgets/controls",
            "_model_module_version": "1.5.0",
            "_model_name": "FloatProgressModel",
            "_view_count": null,
            "_view_module": "@jupyter-widgets/controls",
            "_view_module_version": "1.5.0",
            "_view_name": "ProgressView",
            "bar_style": "info",
            "description": "Progress:",
            "description_tooltip": null,
            "layout": "IPY_MODEL_16697d4adcb94a6e82c856e1f88b5f70",
            "max": 1,
            "min": 0,
            "orientation": "horizontal",
            "style": "IPY_MODEL_dd98f2ece4584979ae4293f6696414ad",
            "value": 0
          }
        },
        "16697d4adcb94a6e82c856e1f88b5f70": {
          "model_module": "@jupyter-widgets/base",
          "model_name": "LayoutModel",
          "model_module_version": "1.2.0",
          "state": {
            "_model_module": "@jupyter-widgets/base",
            "_model_module_version": "1.2.0",
            "_model_name": "LayoutModel",
            "_view_count": null,
            "_view_module": "@jupyter-widgets/base",
            "_view_module_version": "1.2.0",
            "_view_name": "LayoutView",
            "align_content": null,
            "align_items": null,
            "align_self": null,
            "border": null,
            "bottom": null,
            "display": null,
            "flex": null,
            "flex_flow": null,
            "grid_area": null,
            "grid_auto_columns": null,
            "grid_auto_flow": null,
            "grid_auto_rows": null,
            "grid_column": null,
            "grid_gap": null,
            "grid_row": null,
            "grid_template_areas": null,
            "grid_template_columns": null,
            "grid_template_rows": null,
            "height": "25px",
            "justify_content": null,
            "justify_items": null,
            "left": null,
            "margin": null,
            "max_height": null,
            "max_width": null,
            "min_height": null,
            "min_width": null,
            "object_fit": null,
            "object_position": null,
            "order": null,
            "overflow": null,
            "overflow_x": null,
            "overflow_y": null,
            "padding": null,
            "right": null,
            "top": null,
            "visibility": null,
            "width": "50%"
          }
        },
        "dd98f2ece4584979ae4293f6696414ad": {
          "model_module": "@jupyter-widgets/controls",
          "model_name": "ProgressStyleModel",
          "model_module_version": "1.5.0",
          "state": {
            "_model_module": "@jupyter-widgets/controls",
            "_model_module_version": "1.5.0",
            "_model_name": "ProgressStyleModel",
            "_view_count": null,
            "_view_module": "@jupyter-widgets/base",
            "_view_module_version": "1.2.0",
            "_view_name": "StyleView",
            "bar_color": null,
            "description_width": ""
          }
        },
        "2983eb7434904b4aa47e14c4473449ca": {
          "model_module": "@jupyter-widgets/controls",
          "model_name": "FloatProgressModel",
          "model_module_version": "1.5.0",
          "state": {
            "_dom_classes": [],
            "_model_module": "@jupyter-widgets/controls",
            "_model_module_version": "1.5.0",
            "_model_name": "FloatProgressModel",
            "_view_count": null,
            "_view_module": "@jupyter-widgets/controls",
            "_view_module_version": "1.5.0",
            "_view_name": "ProgressView",
            "bar_style": "info",
            "description": "Progress:",
            "description_tooltip": null,
            "layout": "IPY_MODEL_36f39b20a25b4a90b3a32a948d9bcefa",
            "max": 1,
            "min": 0,
            "orientation": "horizontal",
            "style": "IPY_MODEL_b8b6f3145a464ca8bf13490e7b9c5bc4",
            "value": 0
          }
        },
        "36f39b20a25b4a90b3a32a948d9bcefa": {
          "model_module": "@jupyter-widgets/base",
          "model_name": "LayoutModel",
          "model_module_version": "1.2.0",
          "state": {
            "_model_module": "@jupyter-widgets/base",
            "_model_module_version": "1.2.0",
            "_model_name": "LayoutModel",
            "_view_count": null,
            "_view_module": "@jupyter-widgets/base",
            "_view_module_version": "1.2.0",
            "_view_name": "LayoutView",
            "align_content": null,
            "align_items": null,
            "align_self": null,
            "border": null,
            "bottom": null,
            "display": null,
            "flex": null,
            "flex_flow": null,
            "grid_area": null,
            "grid_auto_columns": null,
            "grid_auto_flow": null,
            "grid_auto_rows": null,
            "grid_column": null,
            "grid_gap": null,
            "grid_row": null,
            "grid_template_areas": null,
            "grid_template_columns": null,
            "grid_template_rows": null,
            "height": "25px",
            "justify_content": null,
            "justify_items": null,
            "left": null,
            "margin": null,
            "max_height": null,
            "max_width": null,
            "min_height": null,
            "min_width": null,
            "object_fit": null,
            "object_position": null,
            "order": null,
            "overflow": null,
            "overflow_x": null,
            "overflow_y": null,
            "padding": null,
            "right": null,
            "top": null,
            "visibility": null,
            "width": "50%"
          }
        },
        "b8b6f3145a464ca8bf13490e7b9c5bc4": {
          "model_module": "@jupyter-widgets/controls",
          "model_name": "ProgressStyleModel",
          "model_module_version": "1.5.0",
          "state": {
            "_model_module": "@jupyter-widgets/controls",
            "_model_module_version": "1.5.0",
            "_model_name": "ProgressStyleModel",
            "_view_count": null,
            "_view_module": "@jupyter-widgets/base",
            "_view_module_version": "1.2.0",
            "_view_name": "StyleView",
            "bar_color": null,
            "description_width": ""
          }
        },
        "76d25c3bef10418bb4a61fc137bf9bb1": {
          "model_module": "@jupyter-widgets/controls",
          "model_name": "FloatProgressModel",
          "model_module_version": "1.5.0",
          "state": {
            "_dom_classes": [],
            "_model_module": "@jupyter-widgets/controls",
            "_model_module_version": "1.5.0",
            "_model_name": "FloatProgressModel",
            "_view_count": null,
            "_view_module": "@jupyter-widgets/controls",
            "_view_module_version": "1.5.0",
            "_view_name": "ProgressView",
            "bar_style": "info",
            "description": "Progress:",
            "description_tooltip": null,
            "layout": "IPY_MODEL_832df1638bac4b3b9497044d5477152e",
            "max": 1,
            "min": 0,
            "orientation": "horizontal",
            "style": "IPY_MODEL_58c2d42440984ca58091c06a7c9d8fbc",
            "value": 0
          }
        },
        "832df1638bac4b3b9497044d5477152e": {
          "model_module": "@jupyter-widgets/base",
          "model_name": "LayoutModel",
          "model_module_version": "1.2.0",
          "state": {
            "_model_module": "@jupyter-widgets/base",
            "_model_module_version": "1.2.0",
            "_model_name": "LayoutModel",
            "_view_count": null,
            "_view_module": "@jupyter-widgets/base",
            "_view_module_version": "1.2.0",
            "_view_name": "LayoutView",
            "align_content": null,
            "align_items": null,
            "align_self": null,
            "border": null,
            "bottom": null,
            "display": null,
            "flex": null,
            "flex_flow": null,
            "grid_area": null,
            "grid_auto_columns": null,
            "grid_auto_flow": null,
            "grid_auto_rows": null,
            "grid_column": null,
            "grid_gap": null,
            "grid_row": null,
            "grid_template_areas": null,
            "grid_template_columns": null,
            "grid_template_rows": null,
            "height": "25px",
            "justify_content": null,
            "justify_items": null,
            "left": null,
            "margin": null,
            "max_height": null,
            "max_width": null,
            "min_height": null,
            "min_width": null,
            "object_fit": null,
            "object_position": null,
            "order": null,
            "overflow": null,
            "overflow_x": null,
            "overflow_y": null,
            "padding": null,
            "right": null,
            "top": null,
            "visibility": null,
            "width": "50%"
          }
        },
        "58c2d42440984ca58091c06a7c9d8fbc": {
          "model_module": "@jupyter-widgets/controls",
          "model_name": "ProgressStyleModel",
          "model_module_version": "1.5.0",
          "state": {
            "_model_module": "@jupyter-widgets/controls",
            "_model_module_version": "1.5.0",
            "_model_name": "ProgressStyleModel",
            "_view_count": null,
            "_view_module": "@jupyter-widgets/base",
            "_view_module_version": "1.2.0",
            "_view_name": "StyleView",
            "bar_color": null,
            "description_width": ""
          }
        },
        "f92013d001c24162901f5dfdb5dd2b11": {
          "model_module": "@jupyter-widgets/controls",
          "model_name": "FloatProgressModel",
          "model_module_version": "1.5.0",
          "state": {
            "_dom_classes": [],
            "_model_module": "@jupyter-widgets/controls",
            "_model_module_version": "1.5.0",
            "_model_name": "FloatProgressModel",
            "_view_count": null,
            "_view_module": "@jupyter-widgets/controls",
            "_view_module_version": "1.5.0",
            "_view_name": "ProgressView",
            "bar_style": "info",
            "description": "Progress:",
            "description_tooltip": null,
            "layout": "IPY_MODEL_7b833c165df84470a12d5e5c4e6dda5e",
            "max": 1,
            "min": 0,
            "orientation": "horizontal",
            "style": "IPY_MODEL_9c2946ea2b9c4593b9d10e13b92bd76f",
            "value": 0.3384615384615385
          }
        },
        "7b833c165df84470a12d5e5c4e6dda5e": {
          "model_module": "@jupyter-widgets/base",
          "model_name": "LayoutModel",
          "model_module_version": "1.2.0",
          "state": {
            "_model_module": "@jupyter-widgets/base",
            "_model_module_version": "1.2.0",
            "_model_name": "LayoutModel",
            "_view_count": null,
            "_view_module": "@jupyter-widgets/base",
            "_view_module_version": "1.2.0",
            "_view_name": "LayoutView",
            "align_content": null,
            "align_items": null,
            "align_self": null,
            "border": null,
            "bottom": null,
            "display": null,
            "flex": null,
            "flex_flow": null,
            "grid_area": null,
            "grid_auto_columns": null,
            "grid_auto_flow": null,
            "grid_auto_rows": null,
            "grid_column": null,
            "grid_gap": null,
            "grid_row": null,
            "grid_template_areas": null,
            "grid_template_columns": null,
            "grid_template_rows": null,
            "height": "25px",
            "justify_content": null,
            "justify_items": null,
            "left": null,
            "margin": null,
            "max_height": null,
            "max_width": null,
            "min_height": null,
            "min_width": null,
            "object_fit": null,
            "object_position": null,
            "order": null,
            "overflow": null,
            "overflow_x": null,
            "overflow_y": null,
            "padding": null,
            "right": null,
            "top": null,
            "visibility": null,
            "width": "50%"
          }
        },
        "9c2946ea2b9c4593b9d10e13b92bd76f": {
          "model_module": "@jupyter-widgets/controls",
          "model_name": "ProgressStyleModel",
          "model_module_version": "1.5.0",
          "state": {
            "_model_module": "@jupyter-widgets/controls",
            "_model_module_version": "1.5.0",
            "_model_name": "ProgressStyleModel",
            "_view_count": null,
            "_view_module": "@jupyter-widgets/base",
            "_view_module_version": "1.2.0",
            "_view_name": "StyleView",
            "bar_color": null,
            "description_width": ""
          }
        },
        "626fc5b6ae4e42cfb5524b6aeaf63330": {
          "model_module": "@jupyter-widgets/controls",
          "model_name": "FloatProgressModel",
          "model_module_version": "1.5.0",
          "state": {
            "_dom_classes": [],
            "_model_module": "@jupyter-widgets/controls",
            "_model_module_version": "1.5.0",
            "_model_name": "FloatProgressModel",
            "_view_count": null,
            "_view_module": "@jupyter-widgets/controls",
            "_view_module_version": "1.5.0",
            "_view_name": "ProgressView",
            "bar_style": "info",
            "description": "Progress:",
            "description_tooltip": null,
            "layout": "IPY_MODEL_044688a01a1b4309a851c9c06e425929",
            "max": 1,
            "min": 0,
            "orientation": "horizontal",
            "style": "IPY_MODEL_7c2a3700643f4251abf6cce7a703290b",
            "value": 0
          }
        },
        "044688a01a1b4309a851c9c06e425929": {
          "model_module": "@jupyter-widgets/base",
          "model_name": "LayoutModel",
          "model_module_version": "1.2.0",
          "state": {
            "_model_module": "@jupyter-widgets/base",
            "_model_module_version": "1.2.0",
            "_model_name": "LayoutModel",
            "_view_count": null,
            "_view_module": "@jupyter-widgets/base",
            "_view_module_version": "1.2.0",
            "_view_name": "LayoutView",
            "align_content": null,
            "align_items": null,
            "align_self": null,
            "border": null,
            "bottom": null,
            "display": null,
            "flex": null,
            "flex_flow": null,
            "grid_area": null,
            "grid_auto_columns": null,
            "grid_auto_flow": null,
            "grid_auto_rows": null,
            "grid_column": null,
            "grid_gap": null,
            "grid_row": null,
            "grid_template_areas": null,
            "grid_template_columns": null,
            "grid_template_rows": null,
            "height": "25px",
            "justify_content": null,
            "justify_items": null,
            "left": null,
            "margin": null,
            "max_height": null,
            "max_width": null,
            "min_height": null,
            "min_width": null,
            "object_fit": null,
            "object_position": null,
            "order": null,
            "overflow": null,
            "overflow_x": null,
            "overflow_y": null,
            "padding": null,
            "right": null,
            "top": null,
            "visibility": null,
            "width": "50%"
          }
        },
        "7c2a3700643f4251abf6cce7a703290b": {
          "model_module": "@jupyter-widgets/controls",
          "model_name": "ProgressStyleModel",
          "model_module_version": "1.5.0",
          "state": {
            "_model_module": "@jupyter-widgets/controls",
            "_model_module_version": "1.5.0",
            "_model_name": "ProgressStyleModel",
            "_view_count": null,
            "_view_module": "@jupyter-widgets/base",
            "_view_module_version": "1.2.0",
            "_view_name": "StyleView",
            "bar_color": null,
            "description_width": ""
          }
        },
        "4136a64fe7ac4306b6005b792e48bd30": {
          "model_module": "@jupyter-widgets/controls",
          "model_name": "FloatProgressModel",
          "model_module_version": "1.5.0",
          "state": {
            "_dom_classes": [],
            "_model_module": "@jupyter-widgets/controls",
            "_model_module_version": "1.5.0",
            "_model_name": "FloatProgressModel",
            "_view_count": null,
            "_view_module": "@jupyter-widgets/controls",
            "_view_module_version": "1.5.0",
            "_view_name": "ProgressView",
            "bar_style": "info",
            "description": "Progress:",
            "description_tooltip": null,
            "layout": "IPY_MODEL_623669b8d24e4942a58de4accbb88588",
            "max": 1,
            "min": 0,
            "orientation": "horizontal",
            "style": "IPY_MODEL_0e70ead1c20f4654ac41bccab944f3d2",
            "value": 0.15524271844660195
          }
        },
        "623669b8d24e4942a58de4accbb88588": {
          "model_module": "@jupyter-widgets/base",
          "model_name": "LayoutModel",
          "model_module_version": "1.2.0",
          "state": {
            "_model_module": "@jupyter-widgets/base",
            "_model_module_version": "1.2.0",
            "_model_name": "LayoutModel",
            "_view_count": null,
            "_view_module": "@jupyter-widgets/base",
            "_view_module_version": "1.2.0",
            "_view_name": "LayoutView",
            "align_content": null,
            "align_items": null,
            "align_self": null,
            "border": null,
            "bottom": null,
            "display": null,
            "flex": null,
            "flex_flow": null,
            "grid_area": null,
            "grid_auto_columns": null,
            "grid_auto_flow": null,
            "grid_auto_rows": null,
            "grid_column": null,
            "grid_gap": null,
            "grid_row": null,
            "grid_template_areas": null,
            "grid_template_columns": null,
            "grid_template_rows": null,
            "height": "25px",
            "justify_content": null,
            "justify_items": null,
            "left": null,
            "margin": null,
            "max_height": null,
            "max_width": null,
            "min_height": null,
            "min_width": null,
            "object_fit": null,
            "object_position": null,
            "order": null,
            "overflow": null,
            "overflow_x": null,
            "overflow_y": null,
            "padding": null,
            "right": null,
            "top": null,
            "visibility": null,
            "width": "50%"
          }
        },
        "0e70ead1c20f4654ac41bccab944f3d2": {
          "model_module": "@jupyter-widgets/controls",
          "model_name": "ProgressStyleModel",
          "model_module_version": "1.5.0",
          "state": {
            "_model_module": "@jupyter-widgets/controls",
            "_model_module_version": "1.5.0",
            "_model_name": "ProgressStyleModel",
            "_view_count": null,
            "_view_module": "@jupyter-widgets/base",
            "_view_module_version": "1.2.0",
            "_view_name": "StyleView",
            "bar_color": null,
            "description_width": ""
          }
        }
      }
    }
  },
  "nbformat": 4,
  "nbformat_minor": 0
}