{
  "cells": [
    {
      "cell_type": "markdown",
      "metadata": {
        "id": "I2L0PkeSIuOD"
      },
      "source": [
        "# CIS 5450 Homework 4: Machine Learning\n",
        "\n",
        "<ins>Due Date</ins>: **October 29th at 11:59PM EST** \\\\\n",
        "<ins>Total Points</ins>: **95 points** (= 84 autograded + 11 manually graded)\n",
        "\n",
        "**PLEASE READ THE FAQ as you do this assignment!** It's pinned on Ed and we TAs work really hard to keep it updated with everything you might need to know or anything we might have failed to specify. Writing these HWs and test cases gets tricky since students always end up implementing solutions that we did not anticipate and thus could not have prepared the grader correctly for."
      ]
    },
    {
      "cell_type": "markdown",
      "metadata": {
        "id": "ETZ9CDIDLYHp"
      },
      "source": [
        "# Imports/Setup\n",
        "Run the following cells to set up the notebook.\n"
      ]
    },
    {
      "cell_type": "markdown",
      "metadata": {
        "id": "eEUIzvEuMdGQ"
      },
      "source": [
        "Please make sure you enter your **8 digit Penn ID** in the  student ID field below."
      ]
    },
    {
      "cell_type": "code",
      "execution_count": 1,
      "metadata": {
        "id": "adECTPlZLtVi"
      },
      "outputs": [],
      "source": [
        "%%capture\n",
        "!pip install -i https://test.pypi.org/simple/ penn-grader==0.5.0\n",
        "from penngrader.grader import *\n",
        "\n",
        "# PLEASE ENSURE YOUR PENN-ID IS ENTERED CORRECTLY.\n",
        "# IF NOT, THE AUTOGRADER WON'T KNOW WHO TO ASSIGN POINTS TO YOU IN OUR BACKEND\n",
        "STUDENT_ID = 56803282                                                         # YOUR PENN-ID GOES HERE AS AN INTEGER"
      ]
    },
    {
      "cell_type": "code",
      "execution_count": 2,
      "metadata": {
        "id": "JAWRpROskV1E",
        "colab": {
          "base_uri": "https://localhost:8080/"
        },
        "outputId": "b9c19ed8-dea1-4e18-df4e-49826ebc5c1c"
      },
      "outputs": [
        {
          "output_type": "stream",
          "name": "stdout",
          "text": [
            "Overwriting config.yaml\n"
          ]
        }
      ],
      "source": [
        "%%writefile config.yaml\n",
        "\n",
        "grader_api_url: 'https://23whrwph9h.execute-api.us-east-1.amazonaws.com/default/Grader23'\n",
        "grader_api_key: 'flfkE736fA6Z8GxMDJe2q8Kfk8UDqjsG3GVqOFOa'"
      ]
    },
    {
      "cell_type": "code",
      "execution_count": 3,
      "metadata": {
        "id": "IiUMGpQukYHj",
        "colab": {
          "base_uri": "https://localhost:8080/"
        },
        "outputId": "60dfe887-cf02-4952-c636-d1222c28edb3"
      },
      "outputs": [
        {
          "output_type": "stream",
          "name": "stdout",
          "text": [
            "PennGrader initialized with Student ID: 56803282\n",
            "\n",
            "Make sure this correct or we will not be able to store your grade\n"
          ]
        }
      ],
      "source": [
        "grader = PennGrader('config.yaml', 'cis5450o_fall24_HW4', STUDENT_ID, STUDENT_ID)"
      ]
    },
    {
      "cell_type": "code",
      "execution_count": 4,
      "metadata": {
        "id": "TBTaESEdMmiU"
      },
      "outputs": [],
      "source": [
        "# import packages\n",
        "import json\n",
        "import glob\n",
        "import pandas as pd\n",
        "import numpy as np\n",
        "import datetime as dt\n",
        "import re\n",
        "import os\n",
        "import matplotlib.pyplot as plt\n",
        "import seaborn as sns\n",
        "from matplotlib import cm\n",
        "from google.colab import drive\n",
        "from sklearn.model_selection import train_test_split\n",
        "from collections import Counter\n",
        "import seaborn as sns"
      ]
    },
    {
      "cell_type": "code",
      "execution_count": 5,
      "metadata": {
        "id": "tA6oTIZtRjf7"
      },
      "outputs": [],
      "source": [
        "%%capture\n",
        "!apt update\n",
        "!pip install kaggle"
      ]
    },
    {
      "cell_type": "markdown",
      "metadata": {
        "id": "odlXF5IYJ-et"
      },
      "source": [
        "# **Part I:** Preprocessing and Modeling in `scikit-learn` (65 points)"
      ]
    },
    {
      "cell_type": "markdown",
      "metadata": {
        "id": "_XSw-F5VjVKI"
      },
      "source": [
        "## **1.1** Data Loading and Preprocessing [Total: 2 points]"
      ]
    },
    {
      "cell_type": "markdown",
      "metadata": {
        "id": "1Sw7LCAacKOu"
      },
      "source": [
        "### **1.1.1** Read Data\n",
        "\n",
        "We are using one CSV for this homework, `Hotel Reservations.csv` from a Kaggle [dataset](https://www.kaggle.com/datasets/ahsan81/hotel-reservations-classification-dataset?resource=download). The dataset contains a column called `booking_status`, a binary variable indicating whether a reservation was canceled or not.\n",
        "\n",
        "To get the data in here:\n",
        "1. Go to this [Kaggle link](https://www.kaggle.com) and create a Kaggle account (unless you already have one)\n",
        "2. Go to Account and click on \"Create New API Token\" to get the API key in the form of a json file `kaggle.json`\n",
        "3. Upload the `kaggle.json` file to the default location in your Google Drive, 'MyDrive' (Please **DO NOT** upload the json file into any _specific_ folder as it will be difficult for us to debug issues if you deviate from these instructions!).\n",
        "\n",
        "This can be helpful for your project if you decide to use Kaggle.\n",
        "Run the following cells to allow Colab to connect to Kaggle and to download the data used in this homework."
      ]
    },
    {
      "cell_type": "code",
      "execution_count": 6,
      "metadata": {
        "id": "RGz24WQ86ptM",
        "colab": {
          "base_uri": "https://localhost:8080/"
        },
        "outputId": "49576c96-656b-413a-b343-1b3d727702a5"
      },
      "outputs": [
        {
          "output_type": "stream",
          "name": "stdout",
          "text": [
            "Mounted at /content/drive\n"
          ]
        }
      ],
      "source": [
        "# Run this cell to mount your drive (you will be prompted to sign in)\n",
        "from google.colab import drive\n",
        "drive.mount('/content/drive')"
      ]
    },
    {
      "cell_type": "code",
      "execution_count": 7,
      "metadata": {
        "id": "R4taOIpPb6CN"
      },
      "outputs": [],
      "source": [
        "# Create the kaggle directory and\n",
        "# (NOTE: Do NOT run this cell more than once unless restarting kernel)\n",
        "!mkdir ~/.kaggle"
      ]
    },
    {
      "cell_type": "code",
      "execution_count": 8,
      "metadata": {
        "id": "uO1UNkV6cbxA",
        "colab": {
          "base_uri": "https://localhost:8080/"
        },
        "outputId": "a950d8e2-7844-423c-daab-7dd6550acc0f"
      },
      "outputs": [
        {
          "output_type": "stream",
          "name": "stdout",
          "text": [
            "cp: cannot stat '/content/drive/MyDrive/kaggle.json': No such file or directory\n"
          ]
        }
      ],
      "source": [
        "# Read the uploaded kaggle.json file\n",
        "!cp /content/drive/MyDrive/kaggle.json ~/.kaggle/"
      ]
    },
    {
      "cell_type": "code",
      "execution_count": 9,
      "metadata": {
        "id": "krFCjQBzcdth",
        "colab": {
          "base_uri": "https://localhost:8080/"
        },
        "outputId": "82a72560-74e1-4ef3-d69e-27caeccc5dde"
      },
      "outputs": [
        {
          "output_type": "execute_result",
          "data": {
            "text/plain": [
              "['Dataset URL: https://www.kaggle.com/datasets/ahsan81/hotel-reservations-classification-dataset',\n",
              " 'License(s): Attribution 4.0 International (CC BY 4.0)',\n",
              " 'Downloading hotel-reservations-classification-dataset.zip to /content',\n",
              " '',\n",
              " '  0% 0.00/480k [00:00<?, ?B/s]',\n",
              " '',\n",
              " '100% 480k/480k [00:00<00:00, 63.1MB/s]']"
            ]
          },
          "metadata": {},
          "execution_count": 9
        }
      ],
      "source": [
        "# Download dataset\n",
        "!!kaggle datasets download -d ahsan81/hotel-reservations-classification-dataset"
      ]
    },
    {
      "cell_type": "code",
      "execution_count": 10,
      "metadata": {
        "id": "y1e75jxBctPG",
        "colab": {
          "base_uri": "https://localhost:8080/"
        },
        "outputId": "595d0a58-1f20-4021-8d34-8fa7f378b523"
      },
      "outputs": [
        {
          "output_type": "stream",
          "name": "stdout",
          "text": [
            "Archive:  /content/hotel-reservations-classification-dataset.zip\n",
            "  inflating: Hotel Reservations.csv  \n"
          ]
        }
      ],
      "source": [
        "# Unzip folder in Colab content folder\n",
        "!unzip /content/hotel-reservations-classification-dataset.zip"
      ]
    },
    {
      "cell_type": "code",
      "execution_count": 11,
      "metadata": {
        "id": "PB4RPNywcKOv"
      },
      "outputs": [],
      "source": [
        "# TO-DO: Read the csv file and save it to a dataframe called \"df_reservations\"\n",
        "df_reservations = pd.read_csv('/content/Hotel Reservations.csv')"
      ]
    },
    {
      "cell_type": "code",
      "execution_count": 12,
      "metadata": {
        "id": "u0FYkm8pkQGu",
        "colab": {
          "base_uri": "https://localhost:8080/",
          "height": 226
        },
        "outputId": "32ab399b-142e-4ad5-97ad-c13ed8b2eff8"
      },
      "outputs": [
        {
          "output_type": "execute_result",
          "data": {
            "text/plain": [
              "  Booking_ID  no_of_adults  no_of_children  no_of_weekend_nights  \\\n",
              "0   INN00001             2               0                     1   \n",
              "1   INN00002             2               0                     2   \n",
              "2   INN00003             1               0                     2   \n",
              "3   INN00004             2               0                     0   \n",
              "4   INN00005             2               0                     1   \n",
              "\n",
              "   no_of_week_nights type_of_meal_plan  required_car_parking_space  \\\n",
              "0                  2       Meal Plan 1                           0   \n",
              "1                  3      Not Selected                           0   \n",
              "2                  1       Meal Plan 1                           0   \n",
              "3                  2       Meal Plan 1                           0   \n",
              "4                  1      Not Selected                           0   \n",
              "\n",
              "  room_type_reserved  lead_time  arrival_year  arrival_month  arrival_date  \\\n",
              "0        Room_Type 1        224          2017             10             2   \n",
              "1        Room_Type 1          5          2018             11             6   \n",
              "2        Room_Type 1          1          2018              2            28   \n",
              "3        Room_Type 1        211          2018              5            20   \n",
              "4        Room_Type 1         48          2018              4            11   \n",
              "\n",
              "  market_segment_type  repeated_guest  no_of_previous_cancellations  \\\n",
              "0             Offline               0                             0   \n",
              "1              Online               0                             0   \n",
              "2              Online               0                             0   \n",
              "3              Online               0                             0   \n",
              "4              Online               0                             0   \n",
              "\n",
              "   no_of_previous_bookings_not_canceled  avg_price_per_room  \\\n",
              "0                                     0               65.00   \n",
              "1                                     0              106.68   \n",
              "2                                     0               60.00   \n",
              "3                                     0              100.00   \n",
              "4                                     0               94.50   \n",
              "\n",
              "   no_of_special_requests booking_status  \n",
              "0                       0   Not_Canceled  \n",
              "1                       1   Not_Canceled  \n",
              "2                       0       Canceled  \n",
              "3                       0       Canceled  \n",
              "4                       0       Canceled  "
            ],
            "text/html": [
              "\n",
              "  <div id=\"df-f1303125-88c6-4946-a8fc-357cc728795c\" class=\"colab-df-container\">\n",
              "    <div>\n",
              "<style scoped>\n",
              "    .dataframe tbody tr th:only-of-type {\n",
              "        vertical-align: middle;\n",
              "    }\n",
              "\n",
              "    .dataframe tbody tr th {\n",
              "        vertical-align: top;\n",
              "    }\n",
              "\n",
              "    .dataframe thead th {\n",
              "        text-align: right;\n",
              "    }\n",
              "</style>\n",
              "<table border=\"1\" class=\"dataframe\">\n",
              "  <thead>\n",
              "    <tr style=\"text-align: right;\">\n",
              "      <th></th>\n",
              "      <th>Booking_ID</th>\n",
              "      <th>no_of_adults</th>\n",
              "      <th>no_of_children</th>\n",
              "      <th>no_of_weekend_nights</th>\n",
              "      <th>no_of_week_nights</th>\n",
              "      <th>type_of_meal_plan</th>\n",
              "      <th>required_car_parking_space</th>\n",
              "      <th>room_type_reserved</th>\n",
              "      <th>lead_time</th>\n",
              "      <th>arrival_year</th>\n",
              "      <th>arrival_month</th>\n",
              "      <th>arrival_date</th>\n",
              "      <th>market_segment_type</th>\n",
              "      <th>repeated_guest</th>\n",
              "      <th>no_of_previous_cancellations</th>\n",
              "      <th>no_of_previous_bookings_not_canceled</th>\n",
              "      <th>avg_price_per_room</th>\n",
              "      <th>no_of_special_requests</th>\n",
              "      <th>booking_status</th>\n",
              "    </tr>\n",
              "  </thead>\n",
              "  <tbody>\n",
              "    <tr>\n",
              "      <th>0</th>\n",
              "      <td>INN00001</td>\n",
              "      <td>2</td>\n",
              "      <td>0</td>\n",
              "      <td>1</td>\n",
              "      <td>2</td>\n",
              "      <td>Meal Plan 1</td>\n",
              "      <td>0</td>\n",
              "      <td>Room_Type 1</td>\n",
              "      <td>224</td>\n",
              "      <td>2017</td>\n",
              "      <td>10</td>\n",
              "      <td>2</td>\n",
              "      <td>Offline</td>\n",
              "      <td>0</td>\n",
              "      <td>0</td>\n",
              "      <td>0</td>\n",
              "      <td>65.00</td>\n",
              "      <td>0</td>\n",
              "      <td>Not_Canceled</td>\n",
              "    </tr>\n",
              "    <tr>\n",
              "      <th>1</th>\n",
              "      <td>INN00002</td>\n",
              "      <td>2</td>\n",
              "      <td>0</td>\n",
              "      <td>2</td>\n",
              "      <td>3</td>\n",
              "      <td>Not Selected</td>\n",
              "      <td>0</td>\n",
              "      <td>Room_Type 1</td>\n",
              "      <td>5</td>\n",
              "      <td>2018</td>\n",
              "      <td>11</td>\n",
              "      <td>6</td>\n",
              "      <td>Online</td>\n",
              "      <td>0</td>\n",
              "      <td>0</td>\n",
              "      <td>0</td>\n",
              "      <td>106.68</td>\n",
              "      <td>1</td>\n",
              "      <td>Not_Canceled</td>\n",
              "    </tr>\n",
              "    <tr>\n",
              "      <th>2</th>\n",
              "      <td>INN00003</td>\n",
              "      <td>1</td>\n",
              "      <td>0</td>\n",
              "      <td>2</td>\n",
              "      <td>1</td>\n",
              "      <td>Meal Plan 1</td>\n",
              "      <td>0</td>\n",
              "      <td>Room_Type 1</td>\n",
              "      <td>1</td>\n",
              "      <td>2018</td>\n",
              "      <td>2</td>\n",
              "      <td>28</td>\n",
              "      <td>Online</td>\n",
              "      <td>0</td>\n",
              "      <td>0</td>\n",
              "      <td>0</td>\n",
              "      <td>60.00</td>\n",
              "      <td>0</td>\n",
              "      <td>Canceled</td>\n",
              "    </tr>\n",
              "    <tr>\n",
              "      <th>3</th>\n",
              "      <td>INN00004</td>\n",
              "      <td>2</td>\n",
              "      <td>0</td>\n",
              "      <td>0</td>\n",
              "      <td>2</td>\n",
              "      <td>Meal Plan 1</td>\n",
              "      <td>0</td>\n",
              "      <td>Room_Type 1</td>\n",
              "      <td>211</td>\n",
              "      <td>2018</td>\n",
              "      <td>5</td>\n",
              "      <td>20</td>\n",
              "      <td>Online</td>\n",
              "      <td>0</td>\n",
              "      <td>0</td>\n",
              "      <td>0</td>\n",
              "      <td>100.00</td>\n",
              "      <td>0</td>\n",
              "      <td>Canceled</td>\n",
              "    </tr>\n",
              "    <tr>\n",
              "      <th>4</th>\n",
              "      <td>INN00005</td>\n",
              "      <td>2</td>\n",
              "      <td>0</td>\n",
              "      <td>1</td>\n",
              "      <td>1</td>\n",
              "      <td>Not Selected</td>\n",
              "      <td>0</td>\n",
              "      <td>Room_Type 1</td>\n",
              "      <td>48</td>\n",
              "      <td>2018</td>\n",
              "      <td>4</td>\n",
              "      <td>11</td>\n",
              "      <td>Online</td>\n",
              "      <td>0</td>\n",
              "      <td>0</td>\n",
              "      <td>0</td>\n",
              "      <td>94.50</td>\n",
              "      <td>0</td>\n",
              "      <td>Canceled</td>\n",
              "    </tr>\n",
              "  </tbody>\n",
              "</table>\n",
              "</div>\n",
              "    <div class=\"colab-df-buttons\">\n",
              "\n",
              "  <div class=\"colab-df-container\">\n",
              "    <button class=\"colab-df-convert\" onclick=\"convertToInteractive('df-f1303125-88c6-4946-a8fc-357cc728795c')\"\n",
              "            title=\"Convert this dataframe to an interactive table.\"\n",
              "            style=\"display:none;\">\n",
              "\n",
              "  <svg xmlns=\"http://www.w3.org/2000/svg\" height=\"24px\" viewBox=\"0 -960 960 960\">\n",
              "    <path d=\"M120-120v-720h720v720H120Zm60-500h600v-160H180v160Zm220 220h160v-160H400v160Zm0 220h160v-160H400v160ZM180-400h160v-160H180v160Zm440 0h160v-160H620v160ZM180-180h160v-160H180v160Zm440 0h160v-160H620v160Z\"/>\n",
              "  </svg>\n",
              "    </button>\n",
              "\n",
              "  <style>\n",
              "    .colab-df-container {\n",
              "      display:flex;\n",
              "      gap: 12px;\n",
              "    }\n",
              "\n",
              "    .colab-df-convert {\n",
              "      background-color: #E8F0FE;\n",
              "      border: none;\n",
              "      border-radius: 50%;\n",
              "      cursor: pointer;\n",
              "      display: none;\n",
              "      fill: #1967D2;\n",
              "      height: 32px;\n",
              "      padding: 0 0 0 0;\n",
              "      width: 32px;\n",
              "    }\n",
              "\n",
              "    .colab-df-convert:hover {\n",
              "      background-color: #E2EBFA;\n",
              "      box-shadow: 0px 1px 2px rgba(60, 64, 67, 0.3), 0px 1px 3px 1px rgba(60, 64, 67, 0.15);\n",
              "      fill: #174EA6;\n",
              "    }\n",
              "\n",
              "    .colab-df-buttons div {\n",
              "      margin-bottom: 4px;\n",
              "    }\n",
              "\n",
              "    [theme=dark] .colab-df-convert {\n",
              "      background-color: #3B4455;\n",
              "      fill: #D2E3FC;\n",
              "    }\n",
              "\n",
              "    [theme=dark] .colab-df-convert:hover {\n",
              "      background-color: #434B5C;\n",
              "      box-shadow: 0px 1px 3px 1px rgba(0, 0, 0, 0.15);\n",
              "      filter: drop-shadow(0px 1px 2px rgba(0, 0, 0, 0.3));\n",
              "      fill: #FFFFFF;\n",
              "    }\n",
              "  </style>\n",
              "\n",
              "    <script>\n",
              "      const buttonEl =\n",
              "        document.querySelector('#df-f1303125-88c6-4946-a8fc-357cc728795c button.colab-df-convert');\n",
              "      buttonEl.style.display =\n",
              "        google.colab.kernel.accessAllowed ? 'block' : 'none';\n",
              "\n",
              "      async function convertToInteractive(key) {\n",
              "        const element = document.querySelector('#df-f1303125-88c6-4946-a8fc-357cc728795c');\n",
              "        const dataTable =\n",
              "          await google.colab.kernel.invokeFunction('convertToInteractive',\n",
              "                                                    [key], {});\n",
              "        if (!dataTable) return;\n",
              "\n",
              "        const docLinkHtml = 'Like what you see? Visit the ' +\n",
              "          '<a target=\"_blank\" href=https://colab.research.google.com/notebooks/data_table.ipynb>data table notebook</a>'\n",
              "          + ' to learn more about interactive tables.';\n",
              "        element.innerHTML = '';\n",
              "        dataTable['output_type'] = 'display_data';\n",
              "        await google.colab.output.renderOutput(dataTable, element);\n",
              "        const docLink = document.createElement('div');\n",
              "        docLink.innerHTML = docLinkHtml;\n",
              "        element.appendChild(docLink);\n",
              "      }\n",
              "    </script>\n",
              "  </div>\n",
              "\n",
              "\n",
              "<div id=\"df-e8f7d739-ccf5-4773-a614-d93931bac643\">\n",
              "  <button class=\"colab-df-quickchart\" onclick=\"quickchart('df-e8f7d739-ccf5-4773-a614-d93931bac643')\"\n",
              "            title=\"Suggest charts\"\n",
              "            style=\"display:none;\">\n",
              "\n",
              "<svg xmlns=\"http://www.w3.org/2000/svg\" height=\"24px\"viewBox=\"0 0 24 24\"\n",
              "     width=\"24px\">\n",
              "    <g>\n",
              "        <path d=\"M19 3H5c-1.1 0-2 .9-2 2v14c0 1.1.9 2 2 2h14c1.1 0 2-.9 2-2V5c0-1.1-.9-2-2-2zM9 17H7v-7h2v7zm4 0h-2V7h2v10zm4 0h-2v-4h2v4z\"/>\n",
              "    </g>\n",
              "</svg>\n",
              "  </button>\n",
              "\n",
              "<style>\n",
              "  .colab-df-quickchart {\n",
              "      --bg-color: #E8F0FE;\n",
              "      --fill-color: #1967D2;\n",
              "      --hover-bg-color: #E2EBFA;\n",
              "      --hover-fill-color: #174EA6;\n",
              "      --disabled-fill-color: #AAA;\n",
              "      --disabled-bg-color: #DDD;\n",
              "  }\n",
              "\n",
              "  [theme=dark] .colab-df-quickchart {\n",
              "      --bg-color: #3B4455;\n",
              "      --fill-color: #D2E3FC;\n",
              "      --hover-bg-color: #434B5C;\n",
              "      --hover-fill-color: #FFFFFF;\n",
              "      --disabled-bg-color: #3B4455;\n",
              "      --disabled-fill-color: #666;\n",
              "  }\n",
              "\n",
              "  .colab-df-quickchart {\n",
              "    background-color: var(--bg-color);\n",
              "    border: none;\n",
              "    border-radius: 50%;\n",
              "    cursor: pointer;\n",
              "    display: none;\n",
              "    fill: var(--fill-color);\n",
              "    height: 32px;\n",
              "    padding: 0;\n",
              "    width: 32px;\n",
              "  }\n",
              "\n",
              "  .colab-df-quickchart:hover {\n",
              "    background-color: var(--hover-bg-color);\n",
              "    box-shadow: 0 1px 2px rgba(60, 64, 67, 0.3), 0 1px 3px 1px rgba(60, 64, 67, 0.15);\n",
              "    fill: var(--button-hover-fill-color);\n",
              "  }\n",
              "\n",
              "  .colab-df-quickchart-complete:disabled,\n",
              "  .colab-df-quickchart-complete:disabled:hover {\n",
              "    background-color: var(--disabled-bg-color);\n",
              "    fill: var(--disabled-fill-color);\n",
              "    box-shadow: none;\n",
              "  }\n",
              "\n",
              "  .colab-df-spinner {\n",
              "    border: 2px solid var(--fill-color);\n",
              "    border-color: transparent;\n",
              "    border-bottom-color: var(--fill-color);\n",
              "    animation:\n",
              "      spin 1s steps(1) infinite;\n",
              "  }\n",
              "\n",
              "  @keyframes spin {\n",
              "    0% {\n",
              "      border-color: transparent;\n",
              "      border-bottom-color: var(--fill-color);\n",
              "      border-left-color: var(--fill-color);\n",
              "    }\n",
              "    20% {\n",
              "      border-color: transparent;\n",
              "      border-left-color: var(--fill-color);\n",
              "      border-top-color: var(--fill-color);\n",
              "    }\n",
              "    30% {\n",
              "      border-color: transparent;\n",
              "      border-left-color: var(--fill-color);\n",
              "      border-top-color: var(--fill-color);\n",
              "      border-right-color: var(--fill-color);\n",
              "    }\n",
              "    40% {\n",
              "      border-color: transparent;\n",
              "      border-right-color: var(--fill-color);\n",
              "      border-top-color: var(--fill-color);\n",
              "    }\n",
              "    60% {\n",
              "      border-color: transparent;\n",
              "      border-right-color: var(--fill-color);\n",
              "    }\n",
              "    80% {\n",
              "      border-color: transparent;\n",
              "      border-right-color: var(--fill-color);\n",
              "      border-bottom-color: var(--fill-color);\n",
              "    }\n",
              "    90% {\n",
              "      border-color: transparent;\n",
              "      border-bottom-color: var(--fill-color);\n",
              "    }\n",
              "  }\n",
              "</style>\n",
              "\n",
              "  <script>\n",
              "    async function quickchart(key) {\n",
              "      const quickchartButtonEl =\n",
              "        document.querySelector('#' + key + ' button');\n",
              "      quickchartButtonEl.disabled = true;  // To prevent multiple clicks.\n",
              "      quickchartButtonEl.classList.add('colab-df-spinner');\n",
              "      try {\n",
              "        const charts = await google.colab.kernel.invokeFunction(\n",
              "            'suggestCharts', [key], {});\n",
              "      } catch (error) {\n",
              "        console.error('Error during call to suggestCharts:', error);\n",
              "      }\n",
              "      quickchartButtonEl.classList.remove('colab-df-spinner');\n",
              "      quickchartButtonEl.classList.add('colab-df-quickchart-complete');\n",
              "    }\n",
              "    (() => {\n",
              "      let quickchartButtonEl =\n",
              "        document.querySelector('#df-e8f7d739-ccf5-4773-a614-d93931bac643 button');\n",
              "      quickchartButtonEl.style.display =\n",
              "        google.colab.kernel.accessAllowed ? 'block' : 'none';\n",
              "    })();\n",
              "  </script>\n",
              "</div>\n",
              "\n",
              "    </div>\n",
              "  </div>\n"
            ],
            "application/vnd.google.colaboratory.intrinsic+json": {
              "type": "dataframe",
              "variable_name": "df_reservations",
              "summary": "{\n  \"name\": \"df_reservations\",\n  \"rows\": 36275,\n  \"fields\": [\n    {\n      \"column\": \"Booking_ID\",\n      \"properties\": {\n        \"dtype\": \"string\",\n        \"num_unique_values\": 36275,\n        \"samples\": [\n          \"INN04969\",\n          \"INN34541\",\n          \"INN36109\"\n        ],\n        \"semantic_type\": \"\",\n        \"description\": \"\"\n      }\n    },\n    {\n      \"column\": \"no_of_adults\",\n      \"properties\": {\n        \"dtype\": \"number\",\n        \"std\": 0,\n        \"min\": 0,\n        \"max\": 4,\n        \"num_unique_values\": 5,\n        \"samples\": [\n          1,\n          4,\n          3\n        ],\n        \"semantic_type\": \"\",\n        \"description\": \"\"\n      }\n    },\n    {\n      \"column\": \"no_of_children\",\n      \"properties\": {\n        \"dtype\": \"number\",\n        \"std\": 0,\n        \"min\": 0,\n        \"max\": 10,\n        \"num_unique_values\": 6,\n        \"samples\": [\n          0,\n          2,\n          9\n        ],\n        \"semantic_type\": \"\",\n        \"description\": \"\"\n      }\n    },\n    {\n      \"column\": \"no_of_weekend_nights\",\n      \"properties\": {\n        \"dtype\": \"number\",\n        \"std\": 0,\n        \"min\": 0,\n        \"max\": 7,\n        \"num_unique_values\": 8,\n        \"samples\": [\n          2,\n          6,\n          1\n        ],\n        \"semantic_type\": \"\",\n        \"description\": \"\"\n      }\n    },\n    {\n      \"column\": \"no_of_week_nights\",\n      \"properties\": {\n        \"dtype\": \"number\",\n        \"std\": 1,\n        \"min\": 0,\n        \"max\": 17,\n        \"num_unique_values\": 18,\n        \"samples\": [\n          2,\n          3,\n          11\n        ],\n        \"semantic_type\": \"\",\n        \"description\": \"\"\n      }\n    },\n    {\n      \"column\": \"type_of_meal_plan\",\n      \"properties\": {\n        \"dtype\": \"category\",\n        \"num_unique_values\": 4,\n        \"samples\": [\n          \"Not Selected\",\n          \"Meal Plan 3\",\n          \"Meal Plan 1\"\n        ],\n        \"semantic_type\": \"\",\n        \"description\": \"\"\n      }\n    },\n    {\n      \"column\": \"required_car_parking_space\",\n      \"properties\": {\n        \"dtype\": \"number\",\n        \"std\": 0,\n        \"min\": 0,\n        \"max\": 1,\n        \"num_unique_values\": 2,\n        \"samples\": [\n          1,\n          0\n        ],\n        \"semantic_type\": \"\",\n        \"description\": \"\"\n      }\n    },\n    {\n      \"column\": \"room_type_reserved\",\n      \"properties\": {\n        \"dtype\": \"category\",\n        \"num_unique_values\": 7,\n        \"samples\": [\n          \"Room_Type 1\",\n          \"Room_Type 4\"\n        ],\n        \"semantic_type\": \"\",\n        \"description\": \"\"\n      }\n    },\n    {\n      \"column\": \"lead_time\",\n      \"properties\": {\n        \"dtype\": \"number\",\n        \"std\": 85,\n        \"min\": 0,\n        \"max\": 443,\n        \"num_unique_values\": 352,\n        \"samples\": [\n          176,\n          81\n        ],\n        \"semantic_type\": \"\",\n        \"description\": \"\"\n      }\n    },\n    {\n      \"column\": \"arrival_year\",\n      \"properties\": {\n        \"dtype\": \"number\",\n        \"std\": 0,\n        \"min\": 2017,\n        \"max\": 2018,\n        \"num_unique_values\": 2,\n        \"samples\": [\n          2018,\n          2017\n        ],\n        \"semantic_type\": \"\",\n        \"description\": \"\"\n      }\n    },\n    {\n      \"column\": \"arrival_month\",\n      \"properties\": {\n        \"dtype\": \"number\",\n        \"std\": 3,\n        \"min\": 1,\n        \"max\": 12,\n        \"num_unique_values\": 12,\n        \"samples\": [\n          3,\n          8\n        ],\n        \"semantic_type\": \"\",\n        \"description\": \"\"\n      }\n    },\n    {\n      \"column\": \"arrival_date\",\n      \"properties\": {\n        \"dtype\": \"number\",\n        \"std\": 8,\n        \"min\": 1,\n        \"max\": 31,\n        \"num_unique_values\": 31,\n        \"samples\": [\n          31,\n          21\n        ],\n        \"semantic_type\": \"\",\n        \"description\": \"\"\n      }\n    },\n    {\n      \"column\": \"market_segment_type\",\n      \"properties\": {\n        \"dtype\": \"category\",\n        \"num_unique_values\": 5,\n        \"samples\": [\n          \"Online\",\n          \"Complementary\"\n        ],\n        \"semantic_type\": \"\",\n        \"description\": \"\"\n      }\n    },\n    {\n      \"column\": \"repeated_guest\",\n      \"properties\": {\n        \"dtype\": \"number\",\n        \"std\": 0,\n        \"min\": 0,\n        \"max\": 1,\n        \"num_unique_values\": 2,\n        \"samples\": [\n          1,\n          0\n        ],\n        \"semantic_type\": \"\",\n        \"description\": \"\"\n      }\n    },\n    {\n      \"column\": \"no_of_previous_cancellations\",\n      \"properties\": {\n        \"dtype\": \"number\",\n        \"std\": 0,\n        \"min\": 0,\n        \"max\": 13,\n        \"num_unique_values\": 9,\n        \"samples\": [\n          13,\n          3\n        ],\n        \"semantic_type\": \"\",\n        \"description\": \"\"\n      }\n    },\n    {\n      \"column\": \"no_of_previous_bookings_not_canceled\",\n      \"properties\": {\n        \"dtype\": \"number\",\n        \"std\": 1,\n        \"min\": 0,\n        \"max\": 58,\n        \"num_unique_values\": 59,\n        \"samples\": [\n          0,\n          12\n        ],\n        \"semantic_type\": \"\",\n        \"description\": \"\"\n      }\n    },\n    {\n      \"column\": \"avg_price_per_room\",\n      \"properties\": {\n        \"dtype\": \"number\",\n        \"std\": 35.08942403636991,\n        \"min\": 0.0,\n        \"max\": 540.0,\n        \"num_unique_values\": 3930,\n        \"samples\": [\n          198.68,\n          170.63\n        ],\n        \"semantic_type\": \"\",\n        \"description\": \"\"\n      }\n    },\n    {\n      \"column\": \"no_of_special_requests\",\n      \"properties\": {\n        \"dtype\": \"number\",\n        \"std\": 0,\n        \"min\": 0,\n        \"max\": 5,\n        \"num_unique_values\": 6,\n        \"samples\": [\n          0,\n          1\n        ],\n        \"semantic_type\": \"\",\n        \"description\": \"\"\n      }\n    },\n    {\n      \"column\": \"booking_status\",\n      \"properties\": {\n        \"dtype\": \"category\",\n        \"num_unique_values\": 2,\n        \"samples\": [\n          \"Canceled\",\n          \"Not_Canceled\"\n        ],\n        \"semantic_type\": \"\",\n        \"description\": \"\"\n      }\n    }\n  ]\n}"
            }
          },
          "metadata": {},
          "execution_count": 12
        }
      ],
      "source": [
        "# CHECK: Peak at the first five rows\n",
        "df_reservations.head(5)"
      ]
    },
    {
      "cell_type": "markdown",
      "metadata": {
        "id": "cJ9m-tIgiYRe"
      },
      "source": [
        "### **1.1.2** Check Nulls and Duplicates\n",
        "\n",
        "We will find the number of rows with null values and the number of duplicated rows.\n",
        "\n",
        "Store the results into `num_nulls` and `num_dups`, respectively.\n",
        "\n",
        "**Please use pandas functions to compute these values instead of hardcoding them.**"
      ]
    },
    {
      "cell_type": "code",
      "execution_count": 13,
      "metadata": {
        "id": "LkLzEgHWOcEU"
      },
      "outputs": [],
      "source": [
        "# TO-DO: find number of rows with null values\n",
        "num_nulls = df_reservations.isnull().any(axis=1).sum()"
      ]
    },
    {
      "cell_type": "code",
      "execution_count": 14,
      "metadata": {
        "id": "jLehMDouqJsH"
      },
      "outputs": [],
      "source": [
        "# TO-DO: find number of duplicated rows\n",
        "num_dups = df_reservations.duplicated().sum()"
      ]
    },
    {
      "cell_type": "code",
      "execution_count": 15,
      "metadata": {
        "id": "IYhoktAQi1eq",
        "colab": {
          "base_uri": "https://localhost:8080/"
        },
        "outputId": "9549d1ac-d4b7-4417-a9bb-024873b27770"
      },
      "outputs": [
        {
          "output_type": "stream",
          "name": "stdout",
          "text": [
            "Correct! You earned 2/2 points. You are a star!\n",
            "\n",
            "Your submission has been successfully recorded in the gradebook.\n"
          ]
        }
      ],
      "source": [
        "#Grader Cell (2 points)\n",
        "grader.grade(test_case_id = 'drop_null_and_dups', answer = (num_nulls, num_dups))"
      ]
    },
    {
      "cell_type": "markdown",
      "metadata": {
        "id": "LsDRMCdfkACq"
      },
      "source": [
        "## **1.2** EDA [Total: 16 points]\n",
        "\n",
        "Exploratory Data Analysis (EDA) is an approach to analyzing data sets to summarize their main characteristics, often with visual methods. A statistical model can be used or not, but primarily EDA is for seeing what the data can tell us beyond the formal modeling or hypothesis testing task.\n"
      ]
    },
    {
      "cell_type": "markdown",
      "metadata": {
        "id": "ngsCDv0RkCKf"
      },
      "source": [
        "### **1.2.1** Understanding Data\n",
        "\n",
        "A good practice before approaching any data science problem, is to understand the data you will be working with. This can be through descriptive statistics, datatypes, or just a quick tabular visualization. We will be walking through such tasks through Pandas.\n",
        "\n",
        "While not explicitly graded, if you don't do this, you are more likely to make mistakes down the line if you don't have a good understanding of your datasets and their range of values."
      ]
    },
    {
      "cell_type": "code",
      "execution_count": 16,
      "metadata": {
        "id": "P60Qyz-okvxk",
        "colab": {
          "base_uri": "https://localhost:8080/",
          "height": 680
        },
        "outputId": "e6d30feb-ee85-4139-fd24-c74471b3605d"
      },
      "outputs": [
        {
          "output_type": "execute_result",
          "data": {
            "text/plain": [
              "Booking_ID                               object\n",
              "no_of_adults                              int64\n",
              "no_of_children                            int64\n",
              "no_of_weekend_nights                      int64\n",
              "no_of_week_nights                         int64\n",
              "type_of_meal_plan                        object\n",
              "required_car_parking_space                int64\n",
              "room_type_reserved                       object\n",
              "lead_time                                 int64\n",
              "arrival_year                              int64\n",
              "arrival_month                             int64\n",
              "arrival_date                              int64\n",
              "market_segment_type                      object\n",
              "repeated_guest                            int64\n",
              "no_of_previous_cancellations              int64\n",
              "no_of_previous_bookings_not_canceled      int64\n",
              "avg_price_per_room                      float64\n",
              "no_of_special_requests                    int64\n",
              "booking_status                           object\n",
              "dtype: object"
            ],
            "text/html": [
              "<div>\n",
              "<style scoped>\n",
              "    .dataframe tbody tr th:only-of-type {\n",
              "        vertical-align: middle;\n",
              "    }\n",
              "\n",
              "    .dataframe tbody tr th {\n",
              "        vertical-align: top;\n",
              "    }\n",
              "\n",
              "    .dataframe thead th {\n",
              "        text-align: right;\n",
              "    }\n",
              "</style>\n",
              "<table border=\"1\" class=\"dataframe\">\n",
              "  <thead>\n",
              "    <tr style=\"text-align: right;\">\n",
              "      <th></th>\n",
              "      <th>0</th>\n",
              "    </tr>\n",
              "  </thead>\n",
              "  <tbody>\n",
              "    <tr>\n",
              "      <th>Booking_ID</th>\n",
              "      <td>object</td>\n",
              "    </tr>\n",
              "    <tr>\n",
              "      <th>no_of_adults</th>\n",
              "      <td>int64</td>\n",
              "    </tr>\n",
              "    <tr>\n",
              "      <th>no_of_children</th>\n",
              "      <td>int64</td>\n",
              "    </tr>\n",
              "    <tr>\n",
              "      <th>no_of_weekend_nights</th>\n",
              "      <td>int64</td>\n",
              "    </tr>\n",
              "    <tr>\n",
              "      <th>no_of_week_nights</th>\n",
              "      <td>int64</td>\n",
              "    </tr>\n",
              "    <tr>\n",
              "      <th>type_of_meal_plan</th>\n",
              "      <td>object</td>\n",
              "    </tr>\n",
              "    <tr>\n",
              "      <th>required_car_parking_space</th>\n",
              "      <td>int64</td>\n",
              "    </tr>\n",
              "    <tr>\n",
              "      <th>room_type_reserved</th>\n",
              "      <td>object</td>\n",
              "    </tr>\n",
              "    <tr>\n",
              "      <th>lead_time</th>\n",
              "      <td>int64</td>\n",
              "    </tr>\n",
              "    <tr>\n",
              "      <th>arrival_year</th>\n",
              "      <td>int64</td>\n",
              "    </tr>\n",
              "    <tr>\n",
              "      <th>arrival_month</th>\n",
              "      <td>int64</td>\n",
              "    </tr>\n",
              "    <tr>\n",
              "      <th>arrival_date</th>\n",
              "      <td>int64</td>\n",
              "    </tr>\n",
              "    <tr>\n",
              "      <th>market_segment_type</th>\n",
              "      <td>object</td>\n",
              "    </tr>\n",
              "    <tr>\n",
              "      <th>repeated_guest</th>\n",
              "      <td>int64</td>\n",
              "    </tr>\n",
              "    <tr>\n",
              "      <th>no_of_previous_cancellations</th>\n",
              "      <td>int64</td>\n",
              "    </tr>\n",
              "    <tr>\n",
              "      <th>no_of_previous_bookings_not_canceled</th>\n",
              "      <td>int64</td>\n",
              "    </tr>\n",
              "    <tr>\n",
              "      <th>avg_price_per_room</th>\n",
              "      <td>float64</td>\n",
              "    </tr>\n",
              "    <tr>\n",
              "      <th>no_of_special_requests</th>\n",
              "      <td>int64</td>\n",
              "    </tr>\n",
              "    <tr>\n",
              "      <th>booking_status</th>\n",
              "      <td>object</td>\n",
              "    </tr>\n",
              "  </tbody>\n",
              "</table>\n",
              "</div><br><label><b>dtype:</b> object</label>"
            ]
          },
          "metadata": {},
          "execution_count": 16
        }
      ],
      "source": [
        "# Display the datatypes in `df_reservations`\n",
        "df_reservations.dtypes"
      ]
    },
    {
      "cell_type": "code",
      "execution_count": 17,
      "metadata": {
        "id": "7kIN2As8lIkn",
        "colab": {
          "base_uri": "https://localhost:8080/",
          "height": 320
        },
        "outputId": "8948d0b6-9512-485a-c868-c6a503edf235"
      },
      "outputs": [
        {
          "output_type": "execute_result",
          "data": {
            "text/plain": [
              "       no_of_adults  no_of_children  no_of_weekend_nights  no_of_week_nights  \\\n",
              "count  36275.000000    36275.000000          36275.000000       36275.000000   \n",
              "mean       1.844962        0.105279              0.810724           2.204300   \n",
              "std        0.518715        0.402648              0.870644           1.410905   \n",
              "min        0.000000        0.000000              0.000000           0.000000   \n",
              "25%        2.000000        0.000000              0.000000           1.000000   \n",
              "50%        2.000000        0.000000              1.000000           2.000000   \n",
              "75%        2.000000        0.000000              2.000000           3.000000   \n",
              "max        4.000000       10.000000              7.000000          17.000000   \n",
              "\n",
              "       required_car_parking_space     lead_time  arrival_year  arrival_month  \\\n",
              "count                36275.000000  36275.000000  36275.000000   36275.000000   \n",
              "mean                     0.030986     85.232557   2017.820427       7.423653   \n",
              "std                      0.173281     85.930817      0.383836       3.069894   \n",
              "min                      0.000000      0.000000   2017.000000       1.000000   \n",
              "25%                      0.000000     17.000000   2018.000000       5.000000   \n",
              "50%                      0.000000     57.000000   2018.000000       8.000000   \n",
              "75%                      0.000000    126.000000   2018.000000      10.000000   \n",
              "max                      1.000000    443.000000   2018.000000      12.000000   \n",
              "\n",
              "       arrival_date  repeated_guest  no_of_previous_cancellations  \\\n",
              "count  36275.000000    36275.000000                  36275.000000   \n",
              "mean      15.596995        0.025637                      0.023349   \n",
              "std        8.740447        0.158053                      0.368331   \n",
              "min        1.000000        0.000000                      0.000000   \n",
              "25%        8.000000        0.000000                      0.000000   \n",
              "50%       16.000000        0.000000                      0.000000   \n",
              "75%       23.000000        0.000000                      0.000000   \n",
              "max       31.000000        1.000000                     13.000000   \n",
              "\n",
              "       no_of_previous_bookings_not_canceled  avg_price_per_room  \\\n",
              "count                          36275.000000        36275.000000   \n",
              "mean                               0.153411          103.423539   \n",
              "std                                1.754171           35.089424   \n",
              "min                                0.000000            0.000000   \n",
              "25%                                0.000000           80.300000   \n",
              "50%                                0.000000           99.450000   \n",
              "75%                                0.000000          120.000000   \n",
              "max                               58.000000          540.000000   \n",
              "\n",
              "       no_of_special_requests  \n",
              "count            36275.000000  \n",
              "mean                 0.619655  \n",
              "std                  0.786236  \n",
              "min                  0.000000  \n",
              "25%                  0.000000  \n",
              "50%                  0.000000  \n",
              "75%                  1.000000  \n",
              "max                  5.000000  "
            ],
            "text/html": [
              "\n",
              "  <div id=\"df-b3fa21cb-392d-4015-865d-302966b8bb5b\" class=\"colab-df-container\">\n",
              "    <div>\n",
              "<style scoped>\n",
              "    .dataframe tbody tr th:only-of-type {\n",
              "        vertical-align: middle;\n",
              "    }\n",
              "\n",
              "    .dataframe tbody tr th {\n",
              "        vertical-align: top;\n",
              "    }\n",
              "\n",
              "    .dataframe thead th {\n",
              "        text-align: right;\n",
              "    }\n",
              "</style>\n",
              "<table border=\"1\" class=\"dataframe\">\n",
              "  <thead>\n",
              "    <tr style=\"text-align: right;\">\n",
              "      <th></th>\n",
              "      <th>no_of_adults</th>\n",
              "      <th>no_of_children</th>\n",
              "      <th>no_of_weekend_nights</th>\n",
              "      <th>no_of_week_nights</th>\n",
              "      <th>required_car_parking_space</th>\n",
              "      <th>lead_time</th>\n",
              "      <th>arrival_year</th>\n",
              "      <th>arrival_month</th>\n",
              "      <th>arrival_date</th>\n",
              "      <th>repeated_guest</th>\n",
              "      <th>no_of_previous_cancellations</th>\n",
              "      <th>no_of_previous_bookings_not_canceled</th>\n",
              "      <th>avg_price_per_room</th>\n",
              "      <th>no_of_special_requests</th>\n",
              "    </tr>\n",
              "  </thead>\n",
              "  <tbody>\n",
              "    <tr>\n",
              "      <th>count</th>\n",
              "      <td>36275.000000</td>\n",
              "      <td>36275.000000</td>\n",
              "      <td>36275.000000</td>\n",
              "      <td>36275.000000</td>\n",
              "      <td>36275.000000</td>\n",
              "      <td>36275.000000</td>\n",
              "      <td>36275.000000</td>\n",
              "      <td>36275.000000</td>\n",
              "      <td>36275.000000</td>\n",
              "      <td>36275.000000</td>\n",
              "      <td>36275.000000</td>\n",
              "      <td>36275.000000</td>\n",
              "      <td>36275.000000</td>\n",
              "      <td>36275.000000</td>\n",
              "    </tr>\n",
              "    <tr>\n",
              "      <th>mean</th>\n",
              "      <td>1.844962</td>\n",
              "      <td>0.105279</td>\n",
              "      <td>0.810724</td>\n",
              "      <td>2.204300</td>\n",
              "      <td>0.030986</td>\n",
              "      <td>85.232557</td>\n",
              "      <td>2017.820427</td>\n",
              "      <td>7.423653</td>\n",
              "      <td>15.596995</td>\n",
              "      <td>0.025637</td>\n",
              "      <td>0.023349</td>\n",
              "      <td>0.153411</td>\n",
              "      <td>103.423539</td>\n",
              "      <td>0.619655</td>\n",
              "    </tr>\n",
              "    <tr>\n",
              "      <th>std</th>\n",
              "      <td>0.518715</td>\n",
              "      <td>0.402648</td>\n",
              "      <td>0.870644</td>\n",
              "      <td>1.410905</td>\n",
              "      <td>0.173281</td>\n",
              "      <td>85.930817</td>\n",
              "      <td>0.383836</td>\n",
              "      <td>3.069894</td>\n",
              "      <td>8.740447</td>\n",
              "      <td>0.158053</td>\n",
              "      <td>0.368331</td>\n",
              "      <td>1.754171</td>\n",
              "      <td>35.089424</td>\n",
              "      <td>0.786236</td>\n",
              "    </tr>\n",
              "    <tr>\n",
              "      <th>min</th>\n",
              "      <td>0.000000</td>\n",
              "      <td>0.000000</td>\n",
              "      <td>0.000000</td>\n",
              "      <td>0.000000</td>\n",
              "      <td>0.000000</td>\n",
              "      <td>0.000000</td>\n",
              "      <td>2017.000000</td>\n",
              "      <td>1.000000</td>\n",
              "      <td>1.000000</td>\n",
              "      <td>0.000000</td>\n",
              "      <td>0.000000</td>\n",
              "      <td>0.000000</td>\n",
              "      <td>0.000000</td>\n",
              "      <td>0.000000</td>\n",
              "    </tr>\n",
              "    <tr>\n",
              "      <th>25%</th>\n",
              "      <td>2.000000</td>\n",
              "      <td>0.000000</td>\n",
              "      <td>0.000000</td>\n",
              "      <td>1.000000</td>\n",
              "      <td>0.000000</td>\n",
              "      <td>17.000000</td>\n",
              "      <td>2018.000000</td>\n",
              "      <td>5.000000</td>\n",
              "      <td>8.000000</td>\n",
              "      <td>0.000000</td>\n",
              "      <td>0.000000</td>\n",
              "      <td>0.000000</td>\n",
              "      <td>80.300000</td>\n",
              "      <td>0.000000</td>\n",
              "    </tr>\n",
              "    <tr>\n",
              "      <th>50%</th>\n",
              "      <td>2.000000</td>\n",
              "      <td>0.000000</td>\n",
              "      <td>1.000000</td>\n",
              "      <td>2.000000</td>\n",
              "      <td>0.000000</td>\n",
              "      <td>57.000000</td>\n",
              "      <td>2018.000000</td>\n",
              "      <td>8.000000</td>\n",
              "      <td>16.000000</td>\n",
              "      <td>0.000000</td>\n",
              "      <td>0.000000</td>\n",
              "      <td>0.000000</td>\n",
              "      <td>99.450000</td>\n",
              "      <td>0.000000</td>\n",
              "    </tr>\n",
              "    <tr>\n",
              "      <th>75%</th>\n",
              "      <td>2.000000</td>\n",
              "      <td>0.000000</td>\n",
              "      <td>2.000000</td>\n",
              "      <td>3.000000</td>\n",
              "      <td>0.000000</td>\n",
              "      <td>126.000000</td>\n",
              "      <td>2018.000000</td>\n",
              "      <td>10.000000</td>\n",
              "      <td>23.000000</td>\n",
              "      <td>0.000000</td>\n",
              "      <td>0.000000</td>\n",
              "      <td>0.000000</td>\n",
              "      <td>120.000000</td>\n",
              "      <td>1.000000</td>\n",
              "    </tr>\n",
              "    <tr>\n",
              "      <th>max</th>\n",
              "      <td>4.000000</td>\n",
              "      <td>10.000000</td>\n",
              "      <td>7.000000</td>\n",
              "      <td>17.000000</td>\n",
              "      <td>1.000000</td>\n",
              "      <td>443.000000</td>\n",
              "      <td>2018.000000</td>\n",
              "      <td>12.000000</td>\n",
              "      <td>31.000000</td>\n",
              "      <td>1.000000</td>\n",
              "      <td>13.000000</td>\n",
              "      <td>58.000000</td>\n",
              "      <td>540.000000</td>\n",
              "      <td>5.000000</td>\n",
              "    </tr>\n",
              "  </tbody>\n",
              "</table>\n",
              "</div>\n",
              "    <div class=\"colab-df-buttons\">\n",
              "\n",
              "  <div class=\"colab-df-container\">\n",
              "    <button class=\"colab-df-convert\" onclick=\"convertToInteractive('df-b3fa21cb-392d-4015-865d-302966b8bb5b')\"\n",
              "            title=\"Convert this dataframe to an interactive table.\"\n",
              "            style=\"display:none;\">\n",
              "\n",
              "  <svg xmlns=\"http://www.w3.org/2000/svg\" height=\"24px\" viewBox=\"0 -960 960 960\">\n",
              "    <path d=\"M120-120v-720h720v720H120Zm60-500h600v-160H180v160Zm220 220h160v-160H400v160Zm0 220h160v-160H400v160ZM180-400h160v-160H180v160Zm440 0h160v-160H620v160ZM180-180h160v-160H180v160Zm440 0h160v-160H620v160Z\"/>\n",
              "  </svg>\n",
              "    </button>\n",
              "\n",
              "  <style>\n",
              "    .colab-df-container {\n",
              "      display:flex;\n",
              "      gap: 12px;\n",
              "    }\n",
              "\n",
              "    .colab-df-convert {\n",
              "      background-color: #E8F0FE;\n",
              "      border: none;\n",
              "      border-radius: 50%;\n",
              "      cursor: pointer;\n",
              "      display: none;\n",
              "      fill: #1967D2;\n",
              "      height: 32px;\n",
              "      padding: 0 0 0 0;\n",
              "      width: 32px;\n",
              "    }\n",
              "\n",
              "    .colab-df-convert:hover {\n",
              "      background-color: #E2EBFA;\n",
              "      box-shadow: 0px 1px 2px rgba(60, 64, 67, 0.3), 0px 1px 3px 1px rgba(60, 64, 67, 0.15);\n",
              "      fill: #174EA6;\n",
              "    }\n",
              "\n",
              "    .colab-df-buttons div {\n",
              "      margin-bottom: 4px;\n",
              "    }\n",
              "\n",
              "    [theme=dark] .colab-df-convert {\n",
              "      background-color: #3B4455;\n",
              "      fill: #D2E3FC;\n",
              "    }\n",
              "\n",
              "    [theme=dark] .colab-df-convert:hover {\n",
              "      background-color: #434B5C;\n",
              "      box-shadow: 0px 1px 3px 1px rgba(0, 0, 0, 0.15);\n",
              "      filter: drop-shadow(0px 1px 2px rgba(0, 0, 0, 0.3));\n",
              "      fill: #FFFFFF;\n",
              "    }\n",
              "  </style>\n",
              "\n",
              "    <script>\n",
              "      const buttonEl =\n",
              "        document.querySelector('#df-b3fa21cb-392d-4015-865d-302966b8bb5b button.colab-df-convert');\n",
              "      buttonEl.style.display =\n",
              "        google.colab.kernel.accessAllowed ? 'block' : 'none';\n",
              "\n",
              "      async function convertToInteractive(key) {\n",
              "        const element = document.querySelector('#df-b3fa21cb-392d-4015-865d-302966b8bb5b');\n",
              "        const dataTable =\n",
              "          await google.colab.kernel.invokeFunction('convertToInteractive',\n",
              "                                                    [key], {});\n",
              "        if (!dataTable) return;\n",
              "\n",
              "        const docLinkHtml = 'Like what you see? Visit the ' +\n",
              "          '<a target=\"_blank\" href=https://colab.research.google.com/notebooks/data_table.ipynb>data table notebook</a>'\n",
              "          + ' to learn more about interactive tables.';\n",
              "        element.innerHTML = '';\n",
              "        dataTable['output_type'] = 'display_data';\n",
              "        await google.colab.output.renderOutput(dataTable, element);\n",
              "        const docLink = document.createElement('div');\n",
              "        docLink.innerHTML = docLinkHtml;\n",
              "        element.appendChild(docLink);\n",
              "      }\n",
              "    </script>\n",
              "  </div>\n",
              "\n",
              "\n",
              "<div id=\"df-6ab8879b-26f8-4bad-b82a-3bde9a9743a7\">\n",
              "  <button class=\"colab-df-quickchart\" onclick=\"quickchart('df-6ab8879b-26f8-4bad-b82a-3bde9a9743a7')\"\n",
              "            title=\"Suggest charts\"\n",
              "            style=\"display:none;\">\n",
              "\n",
              "<svg xmlns=\"http://www.w3.org/2000/svg\" height=\"24px\"viewBox=\"0 0 24 24\"\n",
              "     width=\"24px\">\n",
              "    <g>\n",
              "        <path d=\"M19 3H5c-1.1 0-2 .9-2 2v14c0 1.1.9 2 2 2h14c1.1 0 2-.9 2-2V5c0-1.1-.9-2-2-2zM9 17H7v-7h2v7zm4 0h-2V7h2v10zm4 0h-2v-4h2v4z\"/>\n",
              "    </g>\n",
              "</svg>\n",
              "  </button>\n",
              "\n",
              "<style>\n",
              "  .colab-df-quickchart {\n",
              "      --bg-color: #E8F0FE;\n",
              "      --fill-color: #1967D2;\n",
              "      --hover-bg-color: #E2EBFA;\n",
              "      --hover-fill-color: #174EA6;\n",
              "      --disabled-fill-color: #AAA;\n",
              "      --disabled-bg-color: #DDD;\n",
              "  }\n",
              "\n",
              "  [theme=dark] .colab-df-quickchart {\n",
              "      --bg-color: #3B4455;\n",
              "      --fill-color: #D2E3FC;\n",
              "      --hover-bg-color: #434B5C;\n",
              "      --hover-fill-color: #FFFFFF;\n",
              "      --disabled-bg-color: #3B4455;\n",
              "      --disabled-fill-color: #666;\n",
              "  }\n",
              "\n",
              "  .colab-df-quickchart {\n",
              "    background-color: var(--bg-color);\n",
              "    border: none;\n",
              "    border-radius: 50%;\n",
              "    cursor: pointer;\n",
              "    display: none;\n",
              "    fill: var(--fill-color);\n",
              "    height: 32px;\n",
              "    padding: 0;\n",
              "    width: 32px;\n",
              "  }\n",
              "\n",
              "  .colab-df-quickchart:hover {\n",
              "    background-color: var(--hover-bg-color);\n",
              "    box-shadow: 0 1px 2px rgba(60, 64, 67, 0.3), 0 1px 3px 1px rgba(60, 64, 67, 0.15);\n",
              "    fill: var(--button-hover-fill-color);\n",
              "  }\n",
              "\n",
              "  .colab-df-quickchart-complete:disabled,\n",
              "  .colab-df-quickchart-complete:disabled:hover {\n",
              "    background-color: var(--disabled-bg-color);\n",
              "    fill: var(--disabled-fill-color);\n",
              "    box-shadow: none;\n",
              "  }\n",
              "\n",
              "  .colab-df-spinner {\n",
              "    border: 2px solid var(--fill-color);\n",
              "    border-color: transparent;\n",
              "    border-bottom-color: var(--fill-color);\n",
              "    animation:\n",
              "      spin 1s steps(1) infinite;\n",
              "  }\n",
              "\n",
              "  @keyframes spin {\n",
              "    0% {\n",
              "      border-color: transparent;\n",
              "      border-bottom-color: var(--fill-color);\n",
              "      border-left-color: var(--fill-color);\n",
              "    }\n",
              "    20% {\n",
              "      border-color: transparent;\n",
              "      border-left-color: var(--fill-color);\n",
              "      border-top-color: var(--fill-color);\n",
              "    }\n",
              "    30% {\n",
              "      border-color: transparent;\n",
              "      border-left-color: var(--fill-color);\n",
              "      border-top-color: var(--fill-color);\n",
              "      border-right-color: var(--fill-color);\n",
              "    }\n",
              "    40% {\n",
              "      border-color: transparent;\n",
              "      border-right-color: var(--fill-color);\n",
              "      border-top-color: var(--fill-color);\n",
              "    }\n",
              "    60% {\n",
              "      border-color: transparent;\n",
              "      border-right-color: var(--fill-color);\n",
              "    }\n",
              "    80% {\n",
              "      border-color: transparent;\n",
              "      border-right-color: var(--fill-color);\n",
              "      border-bottom-color: var(--fill-color);\n",
              "    }\n",
              "    90% {\n",
              "      border-color: transparent;\n",
              "      border-bottom-color: var(--fill-color);\n",
              "    }\n",
              "  }\n",
              "</style>\n",
              "\n",
              "  <script>\n",
              "    async function quickchart(key) {\n",
              "      const quickchartButtonEl =\n",
              "        document.querySelector('#' + key + ' button');\n",
              "      quickchartButtonEl.disabled = true;  // To prevent multiple clicks.\n",
              "      quickchartButtonEl.classList.add('colab-df-spinner');\n",
              "      try {\n",
              "        const charts = await google.colab.kernel.invokeFunction(\n",
              "            'suggestCharts', [key], {});\n",
              "      } catch (error) {\n",
              "        console.error('Error during call to suggestCharts:', error);\n",
              "      }\n",
              "      quickchartButtonEl.classList.remove('colab-df-spinner');\n",
              "      quickchartButtonEl.classList.add('colab-df-quickchart-complete');\n",
              "    }\n",
              "    (() => {\n",
              "      let quickchartButtonEl =\n",
              "        document.querySelector('#df-6ab8879b-26f8-4bad-b82a-3bde9a9743a7 button');\n",
              "      quickchartButtonEl.style.display =\n",
              "        google.colab.kernel.accessAllowed ? 'block' : 'none';\n",
              "    })();\n",
              "  </script>\n",
              "</div>\n",
              "\n",
              "    </div>\n",
              "  </div>\n"
            ],
            "application/vnd.google.colaboratory.intrinsic+json": {
              "type": "dataframe",
              "summary": "{\n  \"name\": \"df_reservations\",\n  \"rows\": 8,\n  \"fields\": [\n    {\n      \"column\": \"no_of_adults\",\n      \"properties\": {\n        \"dtype\": \"number\",\n        \"std\": 12824.52483856726,\n        \"min\": 0.0,\n        \"max\": 36275.0,\n        \"num_unique_values\": 6,\n        \"samples\": [\n          36275.0,\n          1.8449620951068229,\n          4.0\n        ],\n        \"semantic_type\": \"\",\n        \"description\": \"\"\n      }\n    },\n    {\n      \"column\": \"no_of_children\",\n      \"properties\": {\n        \"dtype\": \"number\",\n        \"std\": 12824.618983376778,\n        \"min\": 0.0,\n        \"max\": 36275.0,\n        \"num_unique_values\": 5,\n        \"samples\": [\n          0.10527911784975878,\n          10.0,\n          0.4026480635891775\n        ],\n        \"semantic_type\": \"\",\n        \"description\": \"\"\n      }\n    },\n    {\n      \"column\": \"no_of_weekend_nights\",\n      \"properties\": {\n        \"dtype\": \"number\",\n        \"std\": 12824.559445700932,\n        \"min\": 0.0,\n        \"max\": 36275.0,\n        \"num_unique_values\": 7,\n        \"samples\": [\n          36275.0,\n          0.810723638869745,\n          2.0\n        ],\n        \"semantic_type\": \"\",\n        \"description\": \"\"\n      }\n    },\n    {\n      \"column\": \"no_of_week_nights\",\n      \"properties\": {\n        \"dtype\": \"number\",\n        \"std\": 12823.806135103609,\n        \"min\": 0.0,\n        \"max\": 36275.0,\n        \"num_unique_values\": 8,\n        \"samples\": [\n          2.2043004824259134,\n          2.0,\n          36275.0\n        ],\n        \"semantic_type\": \"\",\n        \"description\": \"\"\n      }\n    },\n    {\n      \"column\": \"required_car_parking_space\",\n      \"properties\": {\n        \"dtype\": \"number\",\n        \"std\": 12825.088423722018,\n        \"min\": 0.0,\n        \"max\": 36275.0,\n        \"num_unique_values\": 5,\n        \"samples\": [\n          0.0309855272226051,\n          1.0,\n          0.17328084736888597\n        ],\n        \"semantic_type\": \"\",\n        \"description\": \"\"\n      }\n    },\n    {\n      \"column\": \"lead_time\",\n      \"properties\": {\n        \"dtype\": \"number\",\n        \"std\": 12784.785498648725,\n        \"min\": 0.0,\n        \"max\": 36275.0,\n        \"num_unique_values\": 8,\n        \"samples\": [\n          85.23255685733976,\n          57.0,\n          36275.0\n        ],\n        \"semantic_type\": \"\",\n        \"description\": \"\"\n      }\n    },\n    {\n      \"column\": \"arrival_year\",\n      \"properties\": {\n        \"dtype\": \"number\",\n        \"std\": 12234.02806138302,\n        \"min\": 0.3838364395590917,\n        \"max\": 36275.0,\n        \"num_unique_values\": 5,\n        \"samples\": [\n          2017.8204272915232,\n          2018.0,\n          0.3838364395590917\n        ],\n        \"semantic_type\": \"\",\n        \"description\": \"\"\n      }\n    },\n    {\n      \"column\": \"arrival_month\",\n      \"properties\": {\n        \"dtype\": \"number\",\n        \"std\": 12822.801464849852,\n        \"min\": 1.0,\n        \"max\": 36275.0,\n        \"num_unique_values\": 8,\n        \"samples\": [\n          7.423652653342522,\n          8.0,\n          36275.0\n        ],\n        \"semantic_type\": \"\",\n        \"description\": \"\"\n      }\n    },\n    {\n      \"column\": \"arrival_date\",\n      \"properties\": {\n        \"dtype\": \"number\",\n        \"std\": 12819.933286411135,\n        \"min\": 1.0,\n        \"max\": 36275.0,\n        \"num_unique_values\": 8,\n        \"samples\": [\n          15.596995175740869,\n          16.0,\n          36275.0\n        ],\n        \"semantic_type\": \"\",\n        \"description\": \"\"\n      }\n    },\n    {\n      \"column\": \"repeated_guest\",\n      \"properties\": {\n        \"dtype\": \"number\",\n        \"std\": 12825.08946294667,\n        \"min\": 0.0,\n        \"max\": 36275.0,\n        \"num_unique_values\": 5,\n        \"samples\": [\n          0.02563749138525155,\n          1.0,\n          0.15805346903515535\n        ],\n        \"semantic_type\": \"\",\n        \"description\": \"\"\n      }\n    },\n    {\n      \"column\": \"no_of_previous_cancellations\",\n      \"properties\": {\n        \"dtype\": \"number\",\n        \"std\": 12824.473661091766,\n        \"min\": 0.0,\n        \"max\": 36275.0,\n        \"num_unique_values\": 5,\n        \"samples\": [\n          0.023349414197105445,\n          13.0,\n          0.3683314479198375\n        ],\n        \"semantic_type\": \"\",\n        \"description\": \"\"\n      }\n    },\n    {\n      \"column\": \"no_of_previous_bookings_not_canceled\",\n      \"properties\": {\n        \"dtype\": \"number\",\n        \"std\": 12822.139355010762,\n        \"min\": 0.0,\n        \"max\": 36275.0,\n        \"num_unique_values\": 5,\n        \"samples\": [\n          0.15341144038594073,\n          58.0,\n          1.754170711442222\n        ],\n        \"semantic_type\": \"\",\n        \"description\": \"\"\n      }\n    },\n    {\n      \"column\": \"avg_price_per_room\",\n      \"properties\": {\n        \"dtype\": \"number\",\n        \"std\": 12776.843959253338,\n        \"min\": 0.0,\n        \"max\": 36275.0,\n        \"num_unique_values\": 8,\n        \"samples\": [\n          103.42353907649897,\n          99.45,\n          36275.0\n        ],\n        \"semantic_type\": \"\",\n        \"description\": \"\"\n      }\n    },\n    {\n      \"column\": \"no_of_special_requests\",\n      \"properties\": {\n        \"dtype\": \"number\",\n        \"std\": 12824.775296524598,\n        \"min\": 0.0,\n        \"max\": 36275.0,\n        \"num_unique_values\": 6,\n        \"samples\": [\n          36275.0,\n          0.6196554100620262,\n          5.0\n        ],\n        \"semantic_type\": \"\",\n        \"description\": \"\"\n      }\n    }\n  ]\n}"
            }
          },
          "metadata": {},
          "execution_count": 17
        }
      ],
      "source": [
        "# Display the descriptive statistics of `df_reservations`\n",
        "df_reservations.describe()"
      ]
    },
    {
      "cell_type": "markdown",
      "metadata": {
        "id": "ehKm4W7_wlu1"
      },
      "source": [
        "We can do further visualization in the form of plots and graphs if we want to explore the data further, but in the case of this homework we stop now"
      ]
    },
    {
      "cell_type": "markdown",
      "metadata": {
        "id": "D_uvTv_VKYfY"
      },
      "source": [
        "### **1.2.2** Correlation of Feature Variables\n",
        "\n",
        "With multiple features, it can be somewhat exhausting to do bivariate analysis on every possible pair of features. While you certainly should, your first instinct should be to check for the correlation between features since certain models (e.g. Linear Regression) will not work well if we have strong multicollinearity."
      ]
    },
    {
      "cell_type": "markdown",
      "metadata": {
        "id": "YacG1jN-_WI6"
      },
      "source": [
        "_**Isolating Numerics from Categorical Features**_\n",
        "\n",
        "Before anything else, it may help to create groups of the numeric and categorical variables.\n",
        "\n",
        "**Task:** is to split the `df_reservations` dataframe into 2 dataframes:\n",
        "\n",
        "1. `numerics_df`: This dataframe contains all numerical columns from `df_reservations`\n",
        "\n",
        "2. `categorical_df`: This dataframe contains all categorical columns from `df_reservations`\n",
        "  - i.e. the columns of non-numeric type or contain binary values\n",
        "\n",
        "In the above dataframes, **please do not include `arrival_year`, `arrival_month`, `arrival_date`, `Booking_ID`, `booking_status`**.\n",
        "This is because:\n",
        "\n",
        "* For the sake of this exercise we will assume that time related features ( `arrival_year`, `arrival_month`, `arrival_date`) can not be categorized as numeric or categorical\n",
        "* We will use `booking_status` as the target variable for classification\n",
        "* `Booking_ID` is just an identifier and does not hold any predictive information.\n",
        "\n",
        "Also, **sort the columns of `numerics_df` and `categorical_df` in alphabetic order**\n",
        "\n",
        "**Notes:**\n",
        "\n",
        "Please use 'numerics_df' and 'categorical_df' as your dataframe names so that the autograder can recognize them.\n",
        "\n",
        "Internal Server Error occurs when your output crashes the test case in the autograder.\n",
        "\n",
        "**Hint:** Do not just automatically assume that if something is an integer it should be part of numerics_df.\n",
        "For example if something has a yes/no answer (binary random variable) such as a column indicating whether someone is female or not female, this is technically categorical data!"
      ]
    },
    {
      "cell_type": "code",
      "execution_count": 18,
      "metadata": {
        "id": "zBxOkIQp_B_w",
        "colab": {
          "base_uri": "https://localhost:8080/",
          "height": 680
        },
        "outputId": "e183edf9-13cc-45ac-d63c-c855e1124ad8"
      },
      "outputs": [
        {
          "output_type": "execute_result",
          "data": {
            "text/plain": [
              "Booking_ID                              36275\n",
              "no_of_adults                                5\n",
              "no_of_children                              6\n",
              "no_of_weekend_nights                        8\n",
              "no_of_week_nights                          18\n",
              "type_of_meal_plan                           4\n",
              "required_car_parking_space                  2\n",
              "room_type_reserved                          7\n",
              "lead_time                                 352\n",
              "arrival_year                                2\n",
              "arrival_month                              12\n",
              "arrival_date                               31\n",
              "market_segment_type                         5\n",
              "repeated_guest                              2\n",
              "no_of_previous_cancellations                9\n",
              "no_of_previous_bookings_not_canceled       59\n",
              "avg_price_per_room                       3930\n",
              "no_of_special_requests                      6\n",
              "booking_status                              2\n",
              "dtype: int64"
            ],
            "text/html": [
              "<div>\n",
              "<style scoped>\n",
              "    .dataframe tbody tr th:only-of-type {\n",
              "        vertical-align: middle;\n",
              "    }\n",
              "\n",
              "    .dataframe tbody tr th {\n",
              "        vertical-align: top;\n",
              "    }\n",
              "\n",
              "    .dataframe thead th {\n",
              "        text-align: right;\n",
              "    }\n",
              "</style>\n",
              "<table border=\"1\" class=\"dataframe\">\n",
              "  <thead>\n",
              "    <tr style=\"text-align: right;\">\n",
              "      <th></th>\n",
              "      <th>0</th>\n",
              "    </tr>\n",
              "  </thead>\n",
              "  <tbody>\n",
              "    <tr>\n",
              "      <th>Booking_ID</th>\n",
              "      <td>36275</td>\n",
              "    </tr>\n",
              "    <tr>\n",
              "      <th>no_of_adults</th>\n",
              "      <td>5</td>\n",
              "    </tr>\n",
              "    <tr>\n",
              "      <th>no_of_children</th>\n",
              "      <td>6</td>\n",
              "    </tr>\n",
              "    <tr>\n",
              "      <th>no_of_weekend_nights</th>\n",
              "      <td>8</td>\n",
              "    </tr>\n",
              "    <tr>\n",
              "      <th>no_of_week_nights</th>\n",
              "      <td>18</td>\n",
              "    </tr>\n",
              "    <tr>\n",
              "      <th>type_of_meal_plan</th>\n",
              "      <td>4</td>\n",
              "    </tr>\n",
              "    <tr>\n",
              "      <th>required_car_parking_space</th>\n",
              "      <td>2</td>\n",
              "    </tr>\n",
              "    <tr>\n",
              "      <th>room_type_reserved</th>\n",
              "      <td>7</td>\n",
              "    </tr>\n",
              "    <tr>\n",
              "      <th>lead_time</th>\n",
              "      <td>352</td>\n",
              "    </tr>\n",
              "    <tr>\n",
              "      <th>arrival_year</th>\n",
              "      <td>2</td>\n",
              "    </tr>\n",
              "    <tr>\n",
              "      <th>arrival_month</th>\n",
              "      <td>12</td>\n",
              "    </tr>\n",
              "    <tr>\n",
              "      <th>arrival_date</th>\n",
              "      <td>31</td>\n",
              "    </tr>\n",
              "    <tr>\n",
              "      <th>market_segment_type</th>\n",
              "      <td>5</td>\n",
              "    </tr>\n",
              "    <tr>\n",
              "      <th>repeated_guest</th>\n",
              "      <td>2</td>\n",
              "    </tr>\n",
              "    <tr>\n",
              "      <th>no_of_previous_cancellations</th>\n",
              "      <td>9</td>\n",
              "    </tr>\n",
              "    <tr>\n",
              "      <th>no_of_previous_bookings_not_canceled</th>\n",
              "      <td>59</td>\n",
              "    </tr>\n",
              "    <tr>\n",
              "      <th>avg_price_per_room</th>\n",
              "      <td>3930</td>\n",
              "    </tr>\n",
              "    <tr>\n",
              "      <th>no_of_special_requests</th>\n",
              "      <td>6</td>\n",
              "    </tr>\n",
              "    <tr>\n",
              "      <th>booking_status</th>\n",
              "      <td>2</td>\n",
              "    </tr>\n",
              "  </tbody>\n",
              "</table>\n",
              "</div><br><label><b>dtype:</b> int64</label>"
            ]
          },
          "metadata": {},
          "execution_count": 18
        }
      ],
      "source": [
        "# TO-DO: Visualize number of unique values and datatype in each column (call .nunique())\n",
        "df_reservations.nunique()"
      ]
    },
    {
      "cell_type": "code",
      "execution_count": 19,
      "metadata": {
        "id": "PZIPC3qoLgag"
      },
      "outputs": [],
      "source": [
        "# TO-DO: Form 'numerics_df' and 'categorical_df'\n",
        "numerics_df = df_reservations.drop(['arrival_year', 'arrival_month', 'arrival_date', 'Booking_ID', 'booking_status', 'repeated_guest', 'required_car_parking_space','room_type_reserved','type_of_meal_plan','market_segment_type'], axis=1)\n",
        "categorical_df = df_reservations.drop(['arrival_year', 'arrival_month', 'arrival_date', 'Booking_ID', 'booking_status','no_of_adults','no_of_children', 'no_of_weekend_nights','no_of_week_nights','no_of_previous_cancellations','no_of_previous_bookings_not_canceled','avg_price_per_room','no_of_special_requests','lead_time'], axis=1)"
      ]
    },
    {
      "cell_type": "code",
      "execution_count": 20,
      "metadata": {
        "id": "kl0qUiGjOYnZ"
      },
      "outputs": [],
      "source": [
        "# TO-DO: sort the columns of `numerics_df` and `categorical_df` in alphabetic order\n",
        "numerics_df = numerics_df.sort_index(axis=1)\n",
        "categorical_df = categorical_df.sort_index(axis=1)"
      ]
    },
    {
      "cell_type": "code",
      "source": [
        "categorical_df"
      ],
      "metadata": {
        "colab": {
          "base_uri": "https://localhost:8080/",
          "height": 424
        },
        "id": "RMSoS8u6GCHe",
        "outputId": "52961a7d-6104-458a-b7df-a18323d24c7f"
      },
      "execution_count": 21,
      "outputs": [
        {
          "output_type": "execute_result",
          "data": {
            "text/plain": [
              "      market_segment_type  repeated_guest  required_car_parking_space  \\\n",
              "0                 Offline               0                           0   \n",
              "1                  Online               0                           0   \n",
              "2                  Online               0                           0   \n",
              "3                  Online               0                           0   \n",
              "4                  Online               0                           0   \n",
              "...                   ...             ...                         ...   \n",
              "36270              Online               0                           0   \n",
              "36271              Online               0                           0   \n",
              "36272              Online               0                           0   \n",
              "36273              Online               0                           0   \n",
              "36274             Offline               0                           0   \n",
              "\n",
              "      room_type_reserved type_of_meal_plan  \n",
              "0            Room_Type 1       Meal Plan 1  \n",
              "1            Room_Type 1      Not Selected  \n",
              "2            Room_Type 1       Meal Plan 1  \n",
              "3            Room_Type 1       Meal Plan 1  \n",
              "4            Room_Type 1      Not Selected  \n",
              "...                  ...               ...  \n",
              "36270        Room_Type 4       Meal Plan 1  \n",
              "36271        Room_Type 1       Meal Plan 1  \n",
              "36272        Room_Type 1       Meal Plan 1  \n",
              "36273        Room_Type 1      Not Selected  \n",
              "36274        Room_Type 1       Meal Plan 1  \n",
              "\n",
              "[36275 rows x 5 columns]"
            ],
            "text/html": [
              "\n",
              "  <div id=\"df-7882f625-b62e-44e9-8de9-95f5be2ade4e\" class=\"colab-df-container\">\n",
              "    <div>\n",
              "<style scoped>\n",
              "    .dataframe tbody tr th:only-of-type {\n",
              "        vertical-align: middle;\n",
              "    }\n",
              "\n",
              "    .dataframe tbody tr th {\n",
              "        vertical-align: top;\n",
              "    }\n",
              "\n",
              "    .dataframe thead th {\n",
              "        text-align: right;\n",
              "    }\n",
              "</style>\n",
              "<table border=\"1\" class=\"dataframe\">\n",
              "  <thead>\n",
              "    <tr style=\"text-align: right;\">\n",
              "      <th></th>\n",
              "      <th>market_segment_type</th>\n",
              "      <th>repeated_guest</th>\n",
              "      <th>required_car_parking_space</th>\n",
              "      <th>room_type_reserved</th>\n",
              "      <th>type_of_meal_plan</th>\n",
              "    </tr>\n",
              "  </thead>\n",
              "  <tbody>\n",
              "    <tr>\n",
              "      <th>0</th>\n",
              "      <td>Offline</td>\n",
              "      <td>0</td>\n",
              "      <td>0</td>\n",
              "      <td>Room_Type 1</td>\n",
              "      <td>Meal Plan 1</td>\n",
              "    </tr>\n",
              "    <tr>\n",
              "      <th>1</th>\n",
              "      <td>Online</td>\n",
              "      <td>0</td>\n",
              "      <td>0</td>\n",
              "      <td>Room_Type 1</td>\n",
              "      <td>Not Selected</td>\n",
              "    </tr>\n",
              "    <tr>\n",
              "      <th>2</th>\n",
              "      <td>Online</td>\n",
              "      <td>0</td>\n",
              "      <td>0</td>\n",
              "      <td>Room_Type 1</td>\n",
              "      <td>Meal Plan 1</td>\n",
              "    </tr>\n",
              "    <tr>\n",
              "      <th>3</th>\n",
              "      <td>Online</td>\n",
              "      <td>0</td>\n",
              "      <td>0</td>\n",
              "      <td>Room_Type 1</td>\n",
              "      <td>Meal Plan 1</td>\n",
              "    </tr>\n",
              "    <tr>\n",
              "      <th>4</th>\n",
              "      <td>Online</td>\n",
              "      <td>0</td>\n",
              "      <td>0</td>\n",
              "      <td>Room_Type 1</td>\n",
              "      <td>Not Selected</td>\n",
              "    </tr>\n",
              "    <tr>\n",
              "      <th>...</th>\n",
              "      <td>...</td>\n",
              "      <td>...</td>\n",
              "      <td>...</td>\n",
              "      <td>...</td>\n",
              "      <td>...</td>\n",
              "    </tr>\n",
              "    <tr>\n",
              "      <th>36270</th>\n",
              "      <td>Online</td>\n",
              "      <td>0</td>\n",
              "      <td>0</td>\n",
              "      <td>Room_Type 4</td>\n",
              "      <td>Meal Plan 1</td>\n",
              "    </tr>\n",
              "    <tr>\n",
              "      <th>36271</th>\n",
              "      <td>Online</td>\n",
              "      <td>0</td>\n",
              "      <td>0</td>\n",
              "      <td>Room_Type 1</td>\n",
              "      <td>Meal Plan 1</td>\n",
              "    </tr>\n",
              "    <tr>\n",
              "      <th>36272</th>\n",
              "      <td>Online</td>\n",
              "      <td>0</td>\n",
              "      <td>0</td>\n",
              "      <td>Room_Type 1</td>\n",
              "      <td>Meal Plan 1</td>\n",
              "    </tr>\n",
              "    <tr>\n",
              "      <th>36273</th>\n",
              "      <td>Online</td>\n",
              "      <td>0</td>\n",
              "      <td>0</td>\n",
              "      <td>Room_Type 1</td>\n",
              "      <td>Not Selected</td>\n",
              "    </tr>\n",
              "    <tr>\n",
              "      <th>36274</th>\n",
              "      <td>Offline</td>\n",
              "      <td>0</td>\n",
              "      <td>0</td>\n",
              "      <td>Room_Type 1</td>\n",
              "      <td>Meal Plan 1</td>\n",
              "    </tr>\n",
              "  </tbody>\n",
              "</table>\n",
              "<p>36275 rows × 5 columns</p>\n",
              "</div>\n",
              "    <div class=\"colab-df-buttons\">\n",
              "\n",
              "  <div class=\"colab-df-container\">\n",
              "    <button class=\"colab-df-convert\" onclick=\"convertToInteractive('df-7882f625-b62e-44e9-8de9-95f5be2ade4e')\"\n",
              "            title=\"Convert this dataframe to an interactive table.\"\n",
              "            style=\"display:none;\">\n",
              "\n",
              "  <svg xmlns=\"http://www.w3.org/2000/svg\" height=\"24px\" viewBox=\"0 -960 960 960\">\n",
              "    <path d=\"M120-120v-720h720v720H120Zm60-500h600v-160H180v160Zm220 220h160v-160H400v160Zm0 220h160v-160H400v160ZM180-400h160v-160H180v160Zm440 0h160v-160H620v160ZM180-180h160v-160H180v160Zm440 0h160v-160H620v160Z\"/>\n",
              "  </svg>\n",
              "    </button>\n",
              "\n",
              "  <style>\n",
              "    .colab-df-container {\n",
              "      display:flex;\n",
              "      gap: 12px;\n",
              "    }\n",
              "\n",
              "    .colab-df-convert {\n",
              "      background-color: #E8F0FE;\n",
              "      border: none;\n",
              "      border-radius: 50%;\n",
              "      cursor: pointer;\n",
              "      display: none;\n",
              "      fill: #1967D2;\n",
              "      height: 32px;\n",
              "      padding: 0 0 0 0;\n",
              "      width: 32px;\n",
              "    }\n",
              "\n",
              "    .colab-df-convert:hover {\n",
              "      background-color: #E2EBFA;\n",
              "      box-shadow: 0px 1px 2px rgba(60, 64, 67, 0.3), 0px 1px 3px 1px rgba(60, 64, 67, 0.15);\n",
              "      fill: #174EA6;\n",
              "    }\n",
              "\n",
              "    .colab-df-buttons div {\n",
              "      margin-bottom: 4px;\n",
              "    }\n",
              "\n",
              "    [theme=dark] .colab-df-convert {\n",
              "      background-color: #3B4455;\n",
              "      fill: #D2E3FC;\n",
              "    }\n",
              "\n",
              "    [theme=dark] .colab-df-convert:hover {\n",
              "      background-color: #434B5C;\n",
              "      box-shadow: 0px 1px 3px 1px rgba(0, 0, 0, 0.15);\n",
              "      filter: drop-shadow(0px 1px 2px rgba(0, 0, 0, 0.3));\n",
              "      fill: #FFFFFF;\n",
              "    }\n",
              "  </style>\n",
              "\n",
              "    <script>\n",
              "      const buttonEl =\n",
              "        document.querySelector('#df-7882f625-b62e-44e9-8de9-95f5be2ade4e button.colab-df-convert');\n",
              "      buttonEl.style.display =\n",
              "        google.colab.kernel.accessAllowed ? 'block' : 'none';\n",
              "\n",
              "      async function convertToInteractive(key) {\n",
              "        const element = document.querySelector('#df-7882f625-b62e-44e9-8de9-95f5be2ade4e');\n",
              "        const dataTable =\n",
              "          await google.colab.kernel.invokeFunction('convertToInteractive',\n",
              "                                                    [key], {});\n",
              "        if (!dataTable) return;\n",
              "\n",
              "        const docLinkHtml = 'Like what you see? Visit the ' +\n",
              "          '<a target=\"_blank\" href=https://colab.research.google.com/notebooks/data_table.ipynb>data table notebook</a>'\n",
              "          + ' to learn more about interactive tables.';\n",
              "        element.innerHTML = '';\n",
              "        dataTable['output_type'] = 'display_data';\n",
              "        await google.colab.output.renderOutput(dataTable, element);\n",
              "        const docLink = document.createElement('div');\n",
              "        docLink.innerHTML = docLinkHtml;\n",
              "        element.appendChild(docLink);\n",
              "      }\n",
              "    </script>\n",
              "  </div>\n",
              "\n",
              "\n",
              "<div id=\"df-ab911349-4db2-4686-80aa-6e59ad78cfdc\">\n",
              "  <button class=\"colab-df-quickchart\" onclick=\"quickchart('df-ab911349-4db2-4686-80aa-6e59ad78cfdc')\"\n",
              "            title=\"Suggest charts\"\n",
              "            style=\"display:none;\">\n",
              "\n",
              "<svg xmlns=\"http://www.w3.org/2000/svg\" height=\"24px\"viewBox=\"0 0 24 24\"\n",
              "     width=\"24px\">\n",
              "    <g>\n",
              "        <path d=\"M19 3H5c-1.1 0-2 .9-2 2v14c0 1.1.9 2 2 2h14c1.1 0 2-.9 2-2V5c0-1.1-.9-2-2-2zM9 17H7v-7h2v7zm4 0h-2V7h2v10zm4 0h-2v-4h2v4z\"/>\n",
              "    </g>\n",
              "</svg>\n",
              "  </button>\n",
              "\n",
              "<style>\n",
              "  .colab-df-quickchart {\n",
              "      --bg-color: #E8F0FE;\n",
              "      --fill-color: #1967D2;\n",
              "      --hover-bg-color: #E2EBFA;\n",
              "      --hover-fill-color: #174EA6;\n",
              "      --disabled-fill-color: #AAA;\n",
              "      --disabled-bg-color: #DDD;\n",
              "  }\n",
              "\n",
              "  [theme=dark] .colab-df-quickchart {\n",
              "      --bg-color: #3B4455;\n",
              "      --fill-color: #D2E3FC;\n",
              "      --hover-bg-color: #434B5C;\n",
              "      --hover-fill-color: #FFFFFF;\n",
              "      --disabled-bg-color: #3B4455;\n",
              "      --disabled-fill-color: #666;\n",
              "  }\n",
              "\n",
              "  .colab-df-quickchart {\n",
              "    background-color: var(--bg-color);\n",
              "    border: none;\n",
              "    border-radius: 50%;\n",
              "    cursor: pointer;\n",
              "    display: none;\n",
              "    fill: var(--fill-color);\n",
              "    height: 32px;\n",
              "    padding: 0;\n",
              "    width: 32px;\n",
              "  }\n",
              "\n",
              "  .colab-df-quickchart:hover {\n",
              "    background-color: var(--hover-bg-color);\n",
              "    box-shadow: 0 1px 2px rgba(60, 64, 67, 0.3), 0 1px 3px 1px rgba(60, 64, 67, 0.15);\n",
              "    fill: var(--button-hover-fill-color);\n",
              "  }\n",
              "\n",
              "  .colab-df-quickchart-complete:disabled,\n",
              "  .colab-df-quickchart-complete:disabled:hover {\n",
              "    background-color: var(--disabled-bg-color);\n",
              "    fill: var(--disabled-fill-color);\n",
              "    box-shadow: none;\n",
              "  }\n",
              "\n",
              "  .colab-df-spinner {\n",
              "    border: 2px solid var(--fill-color);\n",
              "    border-color: transparent;\n",
              "    border-bottom-color: var(--fill-color);\n",
              "    animation:\n",
              "      spin 1s steps(1) infinite;\n",
              "  }\n",
              "\n",
              "  @keyframes spin {\n",
              "    0% {\n",
              "      border-color: transparent;\n",
              "      border-bottom-color: var(--fill-color);\n",
              "      border-left-color: var(--fill-color);\n",
              "    }\n",
              "    20% {\n",
              "      border-color: transparent;\n",
              "      border-left-color: var(--fill-color);\n",
              "      border-top-color: var(--fill-color);\n",
              "    }\n",
              "    30% {\n",
              "      border-color: transparent;\n",
              "      border-left-color: var(--fill-color);\n",
              "      border-top-color: var(--fill-color);\n",
              "      border-right-color: var(--fill-color);\n",
              "    }\n",
              "    40% {\n",
              "      border-color: transparent;\n",
              "      border-right-color: var(--fill-color);\n",
              "      border-top-color: var(--fill-color);\n",
              "    }\n",
              "    60% {\n",
              "      border-color: transparent;\n",
              "      border-right-color: var(--fill-color);\n",
              "    }\n",
              "    80% {\n",
              "      border-color: transparent;\n",
              "      border-right-color: var(--fill-color);\n",
              "      border-bottom-color: var(--fill-color);\n",
              "    }\n",
              "    90% {\n",
              "      border-color: transparent;\n",
              "      border-bottom-color: var(--fill-color);\n",
              "    }\n",
              "  }\n",
              "</style>\n",
              "\n",
              "  <script>\n",
              "    async function quickchart(key) {\n",
              "      const quickchartButtonEl =\n",
              "        document.querySelector('#' + key + ' button');\n",
              "      quickchartButtonEl.disabled = true;  // To prevent multiple clicks.\n",
              "      quickchartButtonEl.classList.add('colab-df-spinner');\n",
              "      try {\n",
              "        const charts = await google.colab.kernel.invokeFunction(\n",
              "            'suggestCharts', [key], {});\n",
              "      } catch (error) {\n",
              "        console.error('Error during call to suggestCharts:', error);\n",
              "      }\n",
              "      quickchartButtonEl.classList.remove('colab-df-spinner');\n",
              "      quickchartButtonEl.classList.add('colab-df-quickchart-complete');\n",
              "    }\n",
              "    (() => {\n",
              "      let quickchartButtonEl =\n",
              "        document.querySelector('#df-ab911349-4db2-4686-80aa-6e59ad78cfdc button');\n",
              "      quickchartButtonEl.style.display =\n",
              "        google.colab.kernel.accessAllowed ? 'block' : 'none';\n",
              "    })();\n",
              "  </script>\n",
              "</div>\n",
              "\n",
              "  <div id=\"id_1f01e3ed-2f7d-488c-84bb-6612b9664143\">\n",
              "    <style>\n",
              "      .colab-df-generate {\n",
              "        background-color: #E8F0FE;\n",
              "        border: none;\n",
              "        border-radius: 50%;\n",
              "        cursor: pointer;\n",
              "        display: none;\n",
              "        fill: #1967D2;\n",
              "        height: 32px;\n",
              "        padding: 0 0 0 0;\n",
              "        width: 32px;\n",
              "      }\n",
              "\n",
              "      .colab-df-generate:hover {\n",
              "        background-color: #E2EBFA;\n",
              "        box-shadow: 0px 1px 2px rgba(60, 64, 67, 0.3), 0px 1px 3px 1px rgba(60, 64, 67, 0.15);\n",
              "        fill: #174EA6;\n",
              "      }\n",
              "\n",
              "      [theme=dark] .colab-df-generate {\n",
              "        background-color: #3B4455;\n",
              "        fill: #D2E3FC;\n",
              "      }\n",
              "\n",
              "      [theme=dark] .colab-df-generate:hover {\n",
              "        background-color: #434B5C;\n",
              "        box-shadow: 0px 1px 3px 1px rgba(0, 0, 0, 0.15);\n",
              "        filter: drop-shadow(0px 1px 2px rgba(0, 0, 0, 0.3));\n",
              "        fill: #FFFFFF;\n",
              "      }\n",
              "    </style>\n",
              "    <button class=\"colab-df-generate\" onclick=\"generateWithVariable('categorical_df')\"\n",
              "            title=\"Generate code using this dataframe.\"\n",
              "            style=\"display:none;\">\n",
              "\n",
              "  <svg xmlns=\"http://www.w3.org/2000/svg\" height=\"24px\"viewBox=\"0 0 24 24\"\n",
              "       width=\"24px\">\n",
              "    <path d=\"M7,19H8.4L18.45,9,17,7.55,7,17.6ZM5,21V16.75L18.45,3.32a2,2,0,0,1,2.83,0l1.4,1.43a1.91,1.91,0,0,1,.58,1.4,1.91,1.91,0,0,1-.58,1.4L9.25,21ZM18.45,9,17,7.55Zm-12,3A5.31,5.31,0,0,0,4.9,8.1,5.31,5.31,0,0,0,1,6.5,5.31,5.31,0,0,0,4.9,4.9,5.31,5.31,0,0,0,6.5,1,5.31,5.31,0,0,0,8.1,4.9,5.31,5.31,0,0,0,12,6.5,5.46,5.46,0,0,0,6.5,12Z\"/>\n",
              "  </svg>\n",
              "    </button>\n",
              "    <script>\n",
              "      (() => {\n",
              "      const buttonEl =\n",
              "        document.querySelector('#id_1f01e3ed-2f7d-488c-84bb-6612b9664143 button.colab-df-generate');\n",
              "      buttonEl.style.display =\n",
              "        google.colab.kernel.accessAllowed ? 'block' : 'none';\n",
              "\n",
              "      buttonEl.onclick = () => {\n",
              "        google.colab.notebook.generateWithVariable('categorical_df');\n",
              "      }\n",
              "      })();\n",
              "    </script>\n",
              "  </div>\n",
              "\n",
              "    </div>\n",
              "  </div>\n"
            ],
            "application/vnd.google.colaboratory.intrinsic+json": {
              "type": "dataframe",
              "variable_name": "categorical_df",
              "summary": "{\n  \"name\": \"categorical_df\",\n  \"rows\": 36275,\n  \"fields\": [\n    {\n      \"column\": \"market_segment_type\",\n      \"properties\": {\n        \"dtype\": \"category\",\n        \"num_unique_values\": 5,\n        \"samples\": [\n          \"Online\",\n          \"Complementary\",\n          \"Corporate\"\n        ],\n        \"semantic_type\": \"\",\n        \"description\": \"\"\n      }\n    },\n    {\n      \"column\": \"repeated_guest\",\n      \"properties\": {\n        \"dtype\": \"number\",\n        \"std\": 0,\n        \"min\": 0,\n        \"max\": 1,\n        \"num_unique_values\": 2,\n        \"samples\": [\n          1,\n          0\n        ],\n        \"semantic_type\": \"\",\n        \"description\": \"\"\n      }\n    },\n    {\n      \"column\": \"required_car_parking_space\",\n      \"properties\": {\n        \"dtype\": \"number\",\n        \"std\": 0,\n        \"min\": 0,\n        \"max\": 1,\n        \"num_unique_values\": 2,\n        \"samples\": [\n          1,\n          0\n        ],\n        \"semantic_type\": \"\",\n        \"description\": \"\"\n      }\n    },\n    {\n      \"column\": \"room_type_reserved\",\n      \"properties\": {\n        \"dtype\": \"category\",\n        \"num_unique_values\": 7,\n        \"samples\": [\n          \"Room_Type 1\",\n          \"Room_Type 4\"\n        ],\n        \"semantic_type\": \"\",\n        \"description\": \"\"\n      }\n    },\n    {\n      \"column\": \"type_of_meal_plan\",\n      \"properties\": {\n        \"dtype\": \"category\",\n        \"num_unique_values\": 4,\n        \"samples\": [\n          \"Not Selected\",\n          \"Meal Plan 3\"\n        ],\n        \"semantic_type\": \"\",\n        \"description\": \"\"\n      }\n    }\n  ]\n}"
            }
          },
          "metadata": {},
          "execution_count": 21
        }
      ]
    },
    {
      "cell_type": "code",
      "source": [
        "numerics_df"
      ],
      "metadata": {
        "colab": {
          "base_uri": "https://localhost:8080/",
          "height": 444
        },
        "id": "9SFhB9tJGFAa",
        "outputId": "f32b67d1-6a17-42b1-ec50-50b5dde948c4"
      },
      "execution_count": 22,
      "outputs": [
        {
          "output_type": "execute_result",
          "data": {
            "text/plain": [
              "       avg_price_per_room  lead_time  no_of_adults  no_of_children  \\\n",
              "0                   65.00        224             2               0   \n",
              "1                  106.68          5             2               0   \n",
              "2                   60.00          1             1               0   \n",
              "3                  100.00        211             2               0   \n",
              "4                   94.50         48             2               0   \n",
              "...                   ...        ...           ...             ...   \n",
              "36270              167.80         85             3               0   \n",
              "36271               90.95        228             2               0   \n",
              "36272               98.39        148             2               0   \n",
              "36273               94.50         63             2               0   \n",
              "36274              161.67        207             2               0   \n",
              "\n",
              "       no_of_previous_bookings_not_canceled  no_of_previous_cancellations  \\\n",
              "0                                         0                             0   \n",
              "1                                         0                             0   \n",
              "2                                         0                             0   \n",
              "3                                         0                             0   \n",
              "4                                         0                             0   \n",
              "...                                     ...                           ...   \n",
              "36270                                     0                             0   \n",
              "36271                                     0                             0   \n",
              "36272                                     0                             0   \n",
              "36273                                     0                             0   \n",
              "36274                                     0                             0   \n",
              "\n",
              "       no_of_special_requests  no_of_week_nights  no_of_weekend_nights  \n",
              "0                           0                  2                     1  \n",
              "1                           1                  3                     2  \n",
              "2                           0                  1                     2  \n",
              "3                           0                  2                     0  \n",
              "4                           0                  1                     1  \n",
              "...                       ...                ...                   ...  \n",
              "36270                       1                  6                     2  \n",
              "36271                       2                  3                     1  \n",
              "36272                       2                  6                     2  \n",
              "36273                       0                  3                     0  \n",
              "36274                       0                  2                     1  \n",
              "\n",
              "[36275 rows x 9 columns]"
            ],
            "text/html": [
              "\n",
              "  <div id=\"df-db8be731-67cb-44dd-9096-06ccc160b0a1\" class=\"colab-df-container\">\n",
              "    <div>\n",
              "<style scoped>\n",
              "    .dataframe tbody tr th:only-of-type {\n",
              "        vertical-align: middle;\n",
              "    }\n",
              "\n",
              "    .dataframe tbody tr th {\n",
              "        vertical-align: top;\n",
              "    }\n",
              "\n",
              "    .dataframe thead th {\n",
              "        text-align: right;\n",
              "    }\n",
              "</style>\n",
              "<table border=\"1\" class=\"dataframe\">\n",
              "  <thead>\n",
              "    <tr style=\"text-align: right;\">\n",
              "      <th></th>\n",
              "      <th>avg_price_per_room</th>\n",
              "      <th>lead_time</th>\n",
              "      <th>no_of_adults</th>\n",
              "      <th>no_of_children</th>\n",
              "      <th>no_of_previous_bookings_not_canceled</th>\n",
              "      <th>no_of_previous_cancellations</th>\n",
              "      <th>no_of_special_requests</th>\n",
              "      <th>no_of_week_nights</th>\n",
              "      <th>no_of_weekend_nights</th>\n",
              "    </tr>\n",
              "  </thead>\n",
              "  <tbody>\n",
              "    <tr>\n",
              "      <th>0</th>\n",
              "      <td>65.00</td>\n",
              "      <td>224</td>\n",
              "      <td>2</td>\n",
              "      <td>0</td>\n",
              "      <td>0</td>\n",
              "      <td>0</td>\n",
              "      <td>0</td>\n",
              "      <td>2</td>\n",
              "      <td>1</td>\n",
              "    </tr>\n",
              "    <tr>\n",
              "      <th>1</th>\n",
              "      <td>106.68</td>\n",
              "      <td>5</td>\n",
              "      <td>2</td>\n",
              "      <td>0</td>\n",
              "      <td>0</td>\n",
              "      <td>0</td>\n",
              "      <td>1</td>\n",
              "      <td>3</td>\n",
              "      <td>2</td>\n",
              "    </tr>\n",
              "    <tr>\n",
              "      <th>2</th>\n",
              "      <td>60.00</td>\n",
              "      <td>1</td>\n",
              "      <td>1</td>\n",
              "      <td>0</td>\n",
              "      <td>0</td>\n",
              "      <td>0</td>\n",
              "      <td>0</td>\n",
              "      <td>1</td>\n",
              "      <td>2</td>\n",
              "    </tr>\n",
              "    <tr>\n",
              "      <th>3</th>\n",
              "      <td>100.00</td>\n",
              "      <td>211</td>\n",
              "      <td>2</td>\n",
              "      <td>0</td>\n",
              "      <td>0</td>\n",
              "      <td>0</td>\n",
              "      <td>0</td>\n",
              "      <td>2</td>\n",
              "      <td>0</td>\n",
              "    </tr>\n",
              "    <tr>\n",
              "      <th>4</th>\n",
              "      <td>94.50</td>\n",
              "      <td>48</td>\n",
              "      <td>2</td>\n",
              "      <td>0</td>\n",
              "      <td>0</td>\n",
              "      <td>0</td>\n",
              "      <td>0</td>\n",
              "      <td>1</td>\n",
              "      <td>1</td>\n",
              "    </tr>\n",
              "    <tr>\n",
              "      <th>...</th>\n",
              "      <td>...</td>\n",
              "      <td>...</td>\n",
              "      <td>...</td>\n",
              "      <td>...</td>\n",
              "      <td>...</td>\n",
              "      <td>...</td>\n",
              "      <td>...</td>\n",
              "      <td>...</td>\n",
              "      <td>...</td>\n",
              "    </tr>\n",
              "    <tr>\n",
              "      <th>36270</th>\n",
              "      <td>167.80</td>\n",
              "      <td>85</td>\n",
              "      <td>3</td>\n",
              "      <td>0</td>\n",
              "      <td>0</td>\n",
              "      <td>0</td>\n",
              "      <td>1</td>\n",
              "      <td>6</td>\n",
              "      <td>2</td>\n",
              "    </tr>\n",
              "    <tr>\n",
              "      <th>36271</th>\n",
              "      <td>90.95</td>\n",
              "      <td>228</td>\n",
              "      <td>2</td>\n",
              "      <td>0</td>\n",
              "      <td>0</td>\n",
              "      <td>0</td>\n",
              "      <td>2</td>\n",
              "      <td>3</td>\n",
              "      <td>1</td>\n",
              "    </tr>\n",
              "    <tr>\n",
              "      <th>36272</th>\n",
              "      <td>98.39</td>\n",
              "      <td>148</td>\n",
              "      <td>2</td>\n",
              "      <td>0</td>\n",
              "      <td>0</td>\n",
              "      <td>0</td>\n",
              "      <td>2</td>\n",
              "      <td>6</td>\n",
              "      <td>2</td>\n",
              "    </tr>\n",
              "    <tr>\n",
              "      <th>36273</th>\n",
              "      <td>94.50</td>\n",
              "      <td>63</td>\n",
              "      <td>2</td>\n",
              "      <td>0</td>\n",
              "      <td>0</td>\n",
              "      <td>0</td>\n",
              "      <td>0</td>\n",
              "      <td>3</td>\n",
              "      <td>0</td>\n",
              "    </tr>\n",
              "    <tr>\n",
              "      <th>36274</th>\n",
              "      <td>161.67</td>\n",
              "      <td>207</td>\n",
              "      <td>2</td>\n",
              "      <td>0</td>\n",
              "      <td>0</td>\n",
              "      <td>0</td>\n",
              "      <td>0</td>\n",
              "      <td>2</td>\n",
              "      <td>1</td>\n",
              "    </tr>\n",
              "  </tbody>\n",
              "</table>\n",
              "<p>36275 rows × 9 columns</p>\n",
              "</div>\n",
              "    <div class=\"colab-df-buttons\">\n",
              "\n",
              "  <div class=\"colab-df-container\">\n",
              "    <button class=\"colab-df-convert\" onclick=\"convertToInteractive('df-db8be731-67cb-44dd-9096-06ccc160b0a1')\"\n",
              "            title=\"Convert this dataframe to an interactive table.\"\n",
              "            style=\"display:none;\">\n",
              "\n",
              "  <svg xmlns=\"http://www.w3.org/2000/svg\" height=\"24px\" viewBox=\"0 -960 960 960\">\n",
              "    <path d=\"M120-120v-720h720v720H120Zm60-500h600v-160H180v160Zm220 220h160v-160H400v160Zm0 220h160v-160H400v160ZM180-400h160v-160H180v160Zm440 0h160v-160H620v160ZM180-180h160v-160H180v160Zm440 0h160v-160H620v160Z\"/>\n",
              "  </svg>\n",
              "    </button>\n",
              "\n",
              "  <style>\n",
              "    .colab-df-container {\n",
              "      display:flex;\n",
              "      gap: 12px;\n",
              "    }\n",
              "\n",
              "    .colab-df-convert {\n",
              "      background-color: #E8F0FE;\n",
              "      border: none;\n",
              "      border-radius: 50%;\n",
              "      cursor: pointer;\n",
              "      display: none;\n",
              "      fill: #1967D2;\n",
              "      height: 32px;\n",
              "      padding: 0 0 0 0;\n",
              "      width: 32px;\n",
              "    }\n",
              "\n",
              "    .colab-df-convert:hover {\n",
              "      background-color: #E2EBFA;\n",
              "      box-shadow: 0px 1px 2px rgba(60, 64, 67, 0.3), 0px 1px 3px 1px rgba(60, 64, 67, 0.15);\n",
              "      fill: #174EA6;\n",
              "    }\n",
              "\n",
              "    .colab-df-buttons div {\n",
              "      margin-bottom: 4px;\n",
              "    }\n",
              "\n",
              "    [theme=dark] .colab-df-convert {\n",
              "      background-color: #3B4455;\n",
              "      fill: #D2E3FC;\n",
              "    }\n",
              "\n",
              "    [theme=dark] .colab-df-convert:hover {\n",
              "      background-color: #434B5C;\n",
              "      box-shadow: 0px 1px 3px 1px rgba(0, 0, 0, 0.15);\n",
              "      filter: drop-shadow(0px 1px 2px rgba(0, 0, 0, 0.3));\n",
              "      fill: #FFFFFF;\n",
              "    }\n",
              "  </style>\n",
              "\n",
              "    <script>\n",
              "      const buttonEl =\n",
              "        document.querySelector('#df-db8be731-67cb-44dd-9096-06ccc160b0a1 button.colab-df-convert');\n",
              "      buttonEl.style.display =\n",
              "        google.colab.kernel.accessAllowed ? 'block' : 'none';\n",
              "\n",
              "      async function convertToInteractive(key) {\n",
              "        const element = document.querySelector('#df-db8be731-67cb-44dd-9096-06ccc160b0a1');\n",
              "        const dataTable =\n",
              "          await google.colab.kernel.invokeFunction('convertToInteractive',\n",
              "                                                    [key], {});\n",
              "        if (!dataTable) return;\n",
              "\n",
              "        const docLinkHtml = 'Like what you see? Visit the ' +\n",
              "          '<a target=\"_blank\" href=https://colab.research.google.com/notebooks/data_table.ipynb>data table notebook</a>'\n",
              "          + ' to learn more about interactive tables.';\n",
              "        element.innerHTML = '';\n",
              "        dataTable['output_type'] = 'display_data';\n",
              "        await google.colab.output.renderOutput(dataTable, element);\n",
              "        const docLink = document.createElement('div');\n",
              "        docLink.innerHTML = docLinkHtml;\n",
              "        element.appendChild(docLink);\n",
              "      }\n",
              "    </script>\n",
              "  </div>\n",
              "\n",
              "\n",
              "<div id=\"df-ef7598d8-4175-4f10-8437-a5ab4e6130ed\">\n",
              "  <button class=\"colab-df-quickchart\" onclick=\"quickchart('df-ef7598d8-4175-4f10-8437-a5ab4e6130ed')\"\n",
              "            title=\"Suggest charts\"\n",
              "            style=\"display:none;\">\n",
              "\n",
              "<svg xmlns=\"http://www.w3.org/2000/svg\" height=\"24px\"viewBox=\"0 0 24 24\"\n",
              "     width=\"24px\">\n",
              "    <g>\n",
              "        <path d=\"M19 3H5c-1.1 0-2 .9-2 2v14c0 1.1.9 2 2 2h14c1.1 0 2-.9 2-2V5c0-1.1-.9-2-2-2zM9 17H7v-7h2v7zm4 0h-2V7h2v10zm4 0h-2v-4h2v4z\"/>\n",
              "    </g>\n",
              "</svg>\n",
              "  </button>\n",
              "\n",
              "<style>\n",
              "  .colab-df-quickchart {\n",
              "      --bg-color: #E8F0FE;\n",
              "      --fill-color: #1967D2;\n",
              "      --hover-bg-color: #E2EBFA;\n",
              "      --hover-fill-color: #174EA6;\n",
              "      --disabled-fill-color: #AAA;\n",
              "      --disabled-bg-color: #DDD;\n",
              "  }\n",
              "\n",
              "  [theme=dark] .colab-df-quickchart {\n",
              "      --bg-color: #3B4455;\n",
              "      --fill-color: #D2E3FC;\n",
              "      --hover-bg-color: #434B5C;\n",
              "      --hover-fill-color: #FFFFFF;\n",
              "      --disabled-bg-color: #3B4455;\n",
              "      --disabled-fill-color: #666;\n",
              "  }\n",
              "\n",
              "  .colab-df-quickchart {\n",
              "    background-color: var(--bg-color);\n",
              "    border: none;\n",
              "    border-radius: 50%;\n",
              "    cursor: pointer;\n",
              "    display: none;\n",
              "    fill: var(--fill-color);\n",
              "    height: 32px;\n",
              "    padding: 0;\n",
              "    width: 32px;\n",
              "  }\n",
              "\n",
              "  .colab-df-quickchart:hover {\n",
              "    background-color: var(--hover-bg-color);\n",
              "    box-shadow: 0 1px 2px rgba(60, 64, 67, 0.3), 0 1px 3px 1px rgba(60, 64, 67, 0.15);\n",
              "    fill: var(--button-hover-fill-color);\n",
              "  }\n",
              "\n",
              "  .colab-df-quickchart-complete:disabled,\n",
              "  .colab-df-quickchart-complete:disabled:hover {\n",
              "    background-color: var(--disabled-bg-color);\n",
              "    fill: var(--disabled-fill-color);\n",
              "    box-shadow: none;\n",
              "  }\n",
              "\n",
              "  .colab-df-spinner {\n",
              "    border: 2px solid var(--fill-color);\n",
              "    border-color: transparent;\n",
              "    border-bottom-color: var(--fill-color);\n",
              "    animation:\n",
              "      spin 1s steps(1) infinite;\n",
              "  }\n",
              "\n",
              "  @keyframes spin {\n",
              "    0% {\n",
              "      border-color: transparent;\n",
              "      border-bottom-color: var(--fill-color);\n",
              "      border-left-color: var(--fill-color);\n",
              "    }\n",
              "    20% {\n",
              "      border-color: transparent;\n",
              "      border-left-color: var(--fill-color);\n",
              "      border-top-color: var(--fill-color);\n",
              "    }\n",
              "    30% {\n",
              "      border-color: transparent;\n",
              "      border-left-color: var(--fill-color);\n",
              "      border-top-color: var(--fill-color);\n",
              "      border-right-color: var(--fill-color);\n",
              "    }\n",
              "    40% {\n",
              "      border-color: transparent;\n",
              "      border-right-color: var(--fill-color);\n",
              "      border-top-color: var(--fill-color);\n",
              "    }\n",
              "    60% {\n",
              "      border-color: transparent;\n",
              "      border-right-color: var(--fill-color);\n",
              "    }\n",
              "    80% {\n",
              "      border-color: transparent;\n",
              "      border-right-color: var(--fill-color);\n",
              "      border-bottom-color: var(--fill-color);\n",
              "    }\n",
              "    90% {\n",
              "      border-color: transparent;\n",
              "      border-bottom-color: var(--fill-color);\n",
              "    }\n",
              "  }\n",
              "</style>\n",
              "\n",
              "  <script>\n",
              "    async function quickchart(key) {\n",
              "      const quickchartButtonEl =\n",
              "        document.querySelector('#' + key + ' button');\n",
              "      quickchartButtonEl.disabled = true;  // To prevent multiple clicks.\n",
              "      quickchartButtonEl.classList.add('colab-df-spinner');\n",
              "      try {\n",
              "        const charts = await google.colab.kernel.invokeFunction(\n",
              "            'suggestCharts', [key], {});\n",
              "      } catch (error) {\n",
              "        console.error('Error during call to suggestCharts:', error);\n",
              "      }\n",
              "      quickchartButtonEl.classList.remove('colab-df-spinner');\n",
              "      quickchartButtonEl.classList.add('colab-df-quickchart-complete');\n",
              "    }\n",
              "    (() => {\n",
              "      let quickchartButtonEl =\n",
              "        document.querySelector('#df-ef7598d8-4175-4f10-8437-a5ab4e6130ed button');\n",
              "      quickchartButtonEl.style.display =\n",
              "        google.colab.kernel.accessAllowed ? 'block' : 'none';\n",
              "    })();\n",
              "  </script>\n",
              "</div>\n",
              "\n",
              "  <div id=\"id_4023fac2-4eab-4fdf-8408-b290f606958c\">\n",
              "    <style>\n",
              "      .colab-df-generate {\n",
              "        background-color: #E8F0FE;\n",
              "        border: none;\n",
              "        border-radius: 50%;\n",
              "        cursor: pointer;\n",
              "        display: none;\n",
              "        fill: #1967D2;\n",
              "        height: 32px;\n",
              "        padding: 0 0 0 0;\n",
              "        width: 32px;\n",
              "      }\n",
              "\n",
              "      .colab-df-generate:hover {\n",
              "        background-color: #E2EBFA;\n",
              "        box-shadow: 0px 1px 2px rgba(60, 64, 67, 0.3), 0px 1px 3px 1px rgba(60, 64, 67, 0.15);\n",
              "        fill: #174EA6;\n",
              "      }\n",
              "\n",
              "      [theme=dark] .colab-df-generate {\n",
              "        background-color: #3B4455;\n",
              "        fill: #D2E3FC;\n",
              "      }\n",
              "\n",
              "      [theme=dark] .colab-df-generate:hover {\n",
              "        background-color: #434B5C;\n",
              "        box-shadow: 0px 1px 3px 1px rgba(0, 0, 0, 0.15);\n",
              "        filter: drop-shadow(0px 1px 2px rgba(0, 0, 0, 0.3));\n",
              "        fill: #FFFFFF;\n",
              "      }\n",
              "    </style>\n",
              "    <button class=\"colab-df-generate\" onclick=\"generateWithVariable('numerics_df')\"\n",
              "            title=\"Generate code using this dataframe.\"\n",
              "            style=\"display:none;\">\n",
              "\n",
              "  <svg xmlns=\"http://www.w3.org/2000/svg\" height=\"24px\"viewBox=\"0 0 24 24\"\n",
              "       width=\"24px\">\n",
              "    <path d=\"M7,19H8.4L18.45,9,17,7.55,7,17.6ZM5,21V16.75L18.45,3.32a2,2,0,0,1,2.83,0l1.4,1.43a1.91,1.91,0,0,1,.58,1.4,1.91,1.91,0,0,1-.58,1.4L9.25,21ZM18.45,9,17,7.55Zm-12,3A5.31,5.31,0,0,0,4.9,8.1,5.31,5.31,0,0,0,1,6.5,5.31,5.31,0,0,0,4.9,4.9,5.31,5.31,0,0,0,6.5,1,5.31,5.31,0,0,0,8.1,4.9,5.31,5.31,0,0,0,12,6.5,5.46,5.46,0,0,0,6.5,12Z\"/>\n",
              "  </svg>\n",
              "    </button>\n",
              "    <script>\n",
              "      (() => {\n",
              "      const buttonEl =\n",
              "        document.querySelector('#id_4023fac2-4eab-4fdf-8408-b290f606958c button.colab-df-generate');\n",
              "      buttonEl.style.display =\n",
              "        google.colab.kernel.accessAllowed ? 'block' : 'none';\n",
              "\n",
              "      buttonEl.onclick = () => {\n",
              "        google.colab.notebook.generateWithVariable('numerics_df');\n",
              "      }\n",
              "      })();\n",
              "    </script>\n",
              "  </div>\n",
              "\n",
              "    </div>\n",
              "  </div>\n"
            ],
            "application/vnd.google.colaboratory.intrinsic+json": {
              "type": "dataframe",
              "variable_name": "numerics_df",
              "summary": "{\n  \"name\": \"numerics_df\",\n  \"rows\": 36275,\n  \"fields\": [\n    {\n      \"column\": \"avg_price_per_room\",\n      \"properties\": {\n        \"dtype\": \"number\",\n        \"std\": 35.08942403636991,\n        \"min\": 0.0,\n        \"max\": 540.0,\n        \"num_unique_values\": 3930,\n        \"samples\": [\n          198.68,\n          170.63,\n          102.9\n        ],\n        \"semantic_type\": \"\",\n        \"description\": \"\"\n      }\n    },\n    {\n      \"column\": \"lead_time\",\n      \"properties\": {\n        \"dtype\": \"number\",\n        \"std\": 85,\n        \"min\": 0,\n        \"max\": 443,\n        \"num_unique_values\": 352,\n        \"samples\": [\n          176,\n          81,\n          177\n        ],\n        \"semantic_type\": \"\",\n        \"description\": \"\"\n      }\n    },\n    {\n      \"column\": \"no_of_adults\",\n      \"properties\": {\n        \"dtype\": \"number\",\n        \"std\": 0,\n        \"min\": 0,\n        \"max\": 4,\n        \"num_unique_values\": 5,\n        \"samples\": [\n          1,\n          4,\n          3\n        ],\n        \"semantic_type\": \"\",\n        \"description\": \"\"\n      }\n    },\n    {\n      \"column\": \"no_of_children\",\n      \"properties\": {\n        \"dtype\": \"number\",\n        \"std\": 0,\n        \"min\": 0,\n        \"max\": 10,\n        \"num_unique_values\": 6,\n        \"samples\": [\n          0,\n          2,\n          9\n        ],\n        \"semantic_type\": \"\",\n        \"description\": \"\"\n      }\n    },\n    {\n      \"column\": \"no_of_previous_bookings_not_canceled\",\n      \"properties\": {\n        \"dtype\": \"number\",\n        \"std\": 1,\n        \"min\": 0,\n        \"max\": 58,\n        \"num_unique_values\": 59,\n        \"samples\": [\n          0,\n          12,\n          39\n        ],\n        \"semantic_type\": \"\",\n        \"description\": \"\"\n      }\n    },\n    {\n      \"column\": \"no_of_previous_cancellations\",\n      \"properties\": {\n        \"dtype\": \"number\",\n        \"std\": 0,\n        \"min\": 0,\n        \"max\": 13,\n        \"num_unique_values\": 9,\n        \"samples\": [\n          13,\n          3,\n          4\n        ],\n        \"semantic_type\": \"\",\n        \"description\": \"\"\n      }\n    },\n    {\n      \"column\": \"no_of_special_requests\",\n      \"properties\": {\n        \"dtype\": \"number\",\n        \"std\": 0,\n        \"min\": 0,\n        \"max\": 5,\n        \"num_unique_values\": 6,\n        \"samples\": [\n          0,\n          1,\n          5\n        ],\n        \"semantic_type\": \"\",\n        \"description\": \"\"\n      }\n    },\n    {\n      \"column\": \"no_of_week_nights\",\n      \"properties\": {\n        \"dtype\": \"number\",\n        \"std\": 1,\n        \"min\": 0,\n        \"max\": 17,\n        \"num_unique_values\": 18,\n        \"samples\": [\n          2,\n          3,\n          11\n        ],\n        \"semantic_type\": \"\",\n        \"description\": \"\"\n      }\n    },\n    {\n      \"column\": \"no_of_weekend_nights\",\n      \"properties\": {\n        \"dtype\": \"number\",\n        \"std\": 0,\n        \"min\": 0,\n        \"max\": 7,\n        \"num_unique_values\": 8,\n        \"samples\": [\n          2,\n          6,\n          1\n        ],\n        \"semantic_type\": \"\",\n        \"description\": \"\"\n      }\n    }\n  ]\n}"
            }
          },
          "metadata": {},
          "execution_count": 22
        }
      ]
    },
    {
      "cell_type": "code",
      "execution_count": 23,
      "metadata": {
        "id": "eGWnwyl4Bkjt",
        "colab": {
          "base_uri": "https://localhost:8080/"
        },
        "outputId": "00e24575-56f6-4121-ae83-f39bedeb9c01"
      },
      "outputs": [
        {
          "output_type": "stream",
          "name": "stdout",
          "text": [
            "Correct! You earned 3/3 points. You are a star!\n",
            "\n",
            "Your submission has been successfully recorded in the gradebook.\n"
          ]
        }
      ],
      "source": [
        "#Grader Cell (3 points)\n",
        "grader.grade(test_case_id = 'cat_num_df', answer = (numerics_df, categorical_df))"
      ]
    },
    {
      "cell_type": "markdown",
      "metadata": {
        "id": "QRaftmxV-FEV"
      },
      "source": [
        "#### (b) **Correlation Heatmap** [3 pts]\n",
        "\n",
        "**Manually Graded Task:** Create a correlation matrix using `numerics_df` and call it `corr_mat`. Using the correlation matrix, generate a correlation heatmap for these numeric features. We will be using Seaborn library to create this heatmap.\n",
        "\n",
        "Make sure your correlation heatmap meets the following criteria:\n",
        "*   Ensure that your heatmap is of figure size `(8,8)`: all feature labels should be visible on both the $x$-axis and $y$-axis\n",
        "*   Use the `RdBu` color map to ensure that negative correlations are red and positive correlations are blue. This is far more intuitive than other ones.\n",
        "*   Standardize the color scale so that -1 takes the darkest red color, 0 is totally white, and +1 takes the darkest blue color. Remember, the Official Documentation should always be your first point of reference."
      ]
    },
    {
      "cell_type": "code",
      "execution_count": 119,
      "metadata": {
        "id": "3IjmGO3eLcjz",
        "colab": {
          "base_uri": "https://localhost:8080/",
          "height": 888
        },
        "outputId": "1fccccb6-d9dc-421c-b3aa-294f7bb05b5c"
      },
      "outputs": [
        {
          "output_type": "display_data",
          "data": {
            "text/plain": [
              "<Figure size 800x800 with 2 Axes>"
            ],
            "image/png": "[encoded data removed]"
          },
          "metadata": {}
        }
      ],
      "source": [
        "# TO-DO: Plot correlation heatmap (3 points)\n",
        "corr_mat = numerics_df.corr()\n",
        "plt.figure(figsize=(8,8))\n",
        "sns.heatmap(corr_mat, cmap='RdBu', vmin=-1, vmax=1, annot=True, fmt=\".2f\",\n",
        "            cbar_kws={\"shrink\": 0.75}, linewidths=1, linecolor='black')\n",
        "plt.xticks(rotation=45, ha='right')\n",
        "plt.title('Correlation Heatmap')\n",
        "# Display the plot\n",
        "plt.show()"
      ]
    },
    {
      "cell_type": "markdown",
      "metadata": {
        "id": "06OFh_eTNIPI"
      },
      "source": [
        "## **1.3** Feature Engineering [Total: 4 points]\n",
        "\n",
        "Feature engineering is the process of applying domain knowledge to extract features from raw data via data mining techniques. These features can be used to improve the performance of machine learning algorithms."
      ]
    },
    {
      "cell_type": "markdown",
      "metadata": {
        "id": "gJ2ptxmkNyG6"
      },
      "source": [
        "### **1.3.1** One Hot Encoding [2 pts]"
      ]
    },
    {
      "cell_type": "markdown",
      "metadata": {
        "id": "AIaH3ZHsNvei"
      },
      "source": [
        "One hot encoding is a process by which categorical variables are converted into a form that could be provided to ML algorithms to do a better job in prediction. With one-hot encoding, we convert each categorical value into a new categorical column and assign a binary value of 1 or 0 to those columns.\n",
        "\n",
        "One way to one-hot encode in Pandas is by using `pd.get_dummies()` . The documentation can be found [here](https://pandas.pydata.org/docs/reference/api/pandas.get_dummies.html).\n",
        "\n",
        "**Input:** Perform operations on `df_reservations`\n",
        "\n",
        "**Task:**\n",
        "- Use `pd.get_dummies()` to one hot encode the following columns:\n",
        "  - `\"type_of_meal_plan\"`\n",
        "  - `\"room_type_reserved\"`\n",
        "  - `\"market_segment_type\"`\n",
        "- Save your result in the dataframe `encoded_df_reservations`.\n",
        "\n",
        "**Note:** Do <ins>NOT</ins> modify the column names. Use the default names `pd.get_dummies()` generates."
      ]
    },
    {
      "cell_type": "code",
      "execution_count": 25,
      "metadata": {
        "id": "ttMWoxUPOhqF"
      },
      "outputs": [],
      "source": [
        "# TO-DO: drop \"Booking_ID\" column from `df_reservations`\n",
        "df_reservations = df_reservations.drop('Booking_ID', axis=1)"
      ]
    },
    {
      "cell_type": "code",
      "execution_count": 26,
      "metadata": {
        "id": "DCwdnXBRCNe-"
      },
      "outputs": [],
      "source": [
        "# TO-DO: create dataframe 'encoded_df_reservations' that contains the appropriate one hot encoded columns\n",
        "encoded_df_reservations = pd.get_dummies(df_reservations, columns=['type_of_meal_plan', 'room_type_reserved', 'market_segment_type'])"
      ]
    },
    {
      "cell_type": "code",
      "execution_count": 27,
      "metadata": {
        "id": "fvEcv14XGrV2",
        "colab": {
          "base_uri": "https://localhost:8080/",
          "height": 179
        },
        "outputId": "db43f221-9dfe-4bf2-b7fd-31942163743d"
      },
      "outputs": [
        {
          "output_type": "execute_result",
          "data": {
            "text/plain": [
              "   no_of_adults  no_of_children  no_of_weekend_nights  no_of_week_nights  \\\n",
              "0             2               0                     1                  2   \n",
              "1             2               0                     2                  3   \n",
              "\n",
              "   required_car_parking_space  lead_time  arrival_year  arrival_month  \\\n",
              "0                           0        224          2017             10   \n",
              "1                           0          5          2018             11   \n",
              "\n",
              "   arrival_date  repeated_guest  ...  room_type_reserved_Room_Type 3  \\\n",
              "0             2               0  ...                           False   \n",
              "1             6               0  ...                           False   \n",
              "\n",
              "   room_type_reserved_Room_Type 4  room_type_reserved_Room_Type 5  \\\n",
              "0                           False                           False   \n",
              "1                           False                           False   \n",
              "\n",
              "   room_type_reserved_Room_Type 6 room_type_reserved_Room_Type 7  \\\n",
              "0                           False                          False   \n",
              "1                           False                          False   \n",
              "\n",
              "   market_segment_type_Aviation  market_segment_type_Complementary  \\\n",
              "0                         False                              False   \n",
              "1                         False                              False   \n",
              "\n",
              "   market_segment_type_Corporate  market_segment_type_Offline  \\\n",
              "0                          False                         True   \n",
              "1                          False                        False   \n",
              "\n",
              "   market_segment_type_Online  \n",
              "0                       False  \n",
              "1                        True  \n",
              "\n",
              "[2 rows x 31 columns]"
            ],
            "text/html": [
              "\n",
              "  <div id=\"df-007f8f94-c326-47da-90b5-2f5402d35e2f\" class=\"colab-df-container\">\n",
              "    <div>\n",
              "<style scoped>\n",
              "    .dataframe tbody tr th:only-of-type {\n",
              "        vertical-align: middle;\n",
              "    }\n",
              "\n",
              "    .dataframe tbody tr th {\n",
              "        vertical-align: top;\n",
              "    }\n",
              "\n",
              "    .dataframe thead th {\n",
              "        text-align: right;\n",
              "    }\n",
              "</style>\n",
              "<table border=\"1\" class=\"dataframe\">\n",
              "  <thead>\n",
              "    <tr style=\"text-align: right;\">\n",
              "      <th></th>\n",
              "      <th>no_of_adults</th>\n",
              "      <th>no_of_children</th>\n",
              "      <th>no_of_weekend_nights</th>\n",
              "      <th>no_of_week_nights</th>\n",
              "      <th>required_car_parking_space</th>\n",
              "      <th>lead_time</th>\n",
              "      <th>arrival_year</th>\n",
              "      <th>arrival_month</th>\n",
              "      <th>arrival_date</th>\n",
              "      <th>repeated_guest</th>\n",
              "      <th>...</th>\n",
              "      <th>room_type_reserved_Room_Type 3</th>\n",
              "      <th>room_type_reserved_Room_Type 4</th>\n",
              "      <th>room_type_reserved_Room_Type 5</th>\n",
              "      <th>room_type_reserved_Room_Type 6</th>\n",
              "      <th>room_type_reserved_Room_Type 7</th>\n",
              "      <th>market_segment_type_Aviation</th>\n",
              "      <th>market_segment_type_Complementary</th>\n",
              "      <th>market_segment_type_Corporate</th>\n",
              "      <th>market_segment_type_Offline</th>\n",
              "      <th>market_segment_type_Online</th>\n",
              "    </tr>\n",
              "  </thead>\n",
              "  <tbody>\n",
              "    <tr>\n",
              "      <th>0</th>\n",
              "      <td>2</td>\n",
              "      <td>0</td>\n",
              "      <td>1</td>\n",
              "      <td>2</td>\n",
              "      <td>0</td>\n",
              "      <td>224</td>\n",
              "      <td>2017</td>\n",
              "      <td>10</td>\n",
              "      <td>2</td>\n",
              "      <td>0</td>\n",
              "      <td>...</td>\n",
              "      <td>False</td>\n",
              "      <td>False</td>\n",
              "      <td>False</td>\n",
              "      <td>False</td>\n",
              "      <td>False</td>\n",
              "      <td>False</td>\n",
              "      <td>False</td>\n",
              "      <td>False</td>\n",
              "      <td>True</td>\n",
              "      <td>False</td>\n",
              "    </tr>\n",
              "    <tr>\n",
              "      <th>1</th>\n",
              "      <td>2</td>\n",
              "      <td>0</td>\n",
              "      <td>2</td>\n",
              "      <td>3</td>\n",
              "      <td>0</td>\n",
              "      <td>5</td>\n",
              "      <td>2018</td>\n",
              "      <td>11</td>\n",
              "      <td>6</td>\n",
              "      <td>0</td>\n",
              "      <td>...</td>\n",
              "      <td>False</td>\n",
              "      <td>False</td>\n",
              "      <td>False</td>\n",
              "      <td>False</td>\n",
              "      <td>False</td>\n",
              "      <td>False</td>\n",
              "      <td>False</td>\n",
              "      <td>False</td>\n",
              "      <td>False</td>\n",
              "      <td>True</td>\n",
              "    </tr>\n",
              "  </tbody>\n",
              "</table>\n",
              "<p>2 rows × 31 columns</p>\n",
              "</div>\n",
              "    <div class=\"colab-df-buttons\">\n",
              "\n",
              "  <div class=\"colab-df-container\">\n",
              "    <button class=\"colab-df-convert\" onclick=\"convertToInteractive('df-007f8f94-c326-47da-90b5-2f5402d35e2f')\"\n",
              "            title=\"Convert this dataframe to an interactive table.\"\n",
              "            style=\"display:none;\">\n",
              "\n",
              "  <svg xmlns=\"http://www.w3.org/2000/svg\" height=\"24px\" viewBox=\"0 -960 960 960\">\n",
              "    <path d=\"M120-120v-720h720v720H120Zm60-500h600v-160H180v160Zm220 220h160v-160H400v160Zm0 220h160v-160H400v160ZM180-400h160v-160H180v160Zm440 0h160v-160H620v160ZM180-180h160v-160H180v160Zm440 0h160v-160H620v160Z\"/>\n",
              "  </svg>\n",
              "    </button>\n",
              "\n",
              "  <style>\n",
              "    .colab-df-container {\n",
              "      display:flex;\n",
              "      gap: 12px;\n",
              "    }\n",
              "\n",
              "    .colab-df-convert {\n",
              "      background-color: #E8F0FE;\n",
              "      border: none;\n",
              "      border-radius: 50%;\n",
              "      cursor: pointer;\n",
              "      display: none;\n",
              "      fill: #1967D2;\n",
              "      height: 32px;\n",
              "      padding: 0 0 0 0;\n",
              "      width: 32px;\n",
              "    }\n",
              "\n",
              "    .colab-df-convert:hover {\n",
              "      background-color: #E2EBFA;\n",
              "      box-shadow: 0px 1px 2px rgba(60, 64, 67, 0.3), 0px 1px 3px 1px rgba(60, 64, 67, 0.15);\n",
              "      fill: #174EA6;\n",
              "    }\n",
              "\n",
              "    .colab-df-buttons div {\n",
              "      margin-bottom: 4px;\n",
              "    }\n",
              "\n",
              "    [theme=dark] .colab-df-convert {\n",
              "      background-color: #3B4455;\n",
              "      fill: #D2E3FC;\n",
              "    }\n",
              "\n",
              "    [theme=dark] .colab-df-convert:hover {\n",
              "      background-color: #434B5C;\n",
              "      box-shadow: 0px 1px 3px 1px rgba(0, 0, 0, 0.15);\n",
              "      filter: drop-shadow(0px 1px 2px rgba(0, 0, 0, 0.3));\n",
              "      fill: #FFFFFF;\n",
              "    }\n",
              "  </style>\n",
              "\n",
              "    <script>\n",
              "      const buttonEl =\n",
              "        document.querySelector('#df-007f8f94-c326-47da-90b5-2f5402d35e2f button.colab-df-convert');\n",
              "      buttonEl.style.display =\n",
              "        google.colab.kernel.accessAllowed ? 'block' : 'none';\n",
              "\n",
              "      async function convertToInteractive(key) {\n",
              "        const element = document.querySelector('#df-007f8f94-c326-47da-90b5-2f5402d35e2f');\n",
              "        const dataTable =\n",
              "          await google.colab.kernel.invokeFunction('convertToInteractive',\n",
              "                                                    [key], {});\n",
              "        if (!dataTable) return;\n",
              "\n",
              "        const docLinkHtml = 'Like what you see? Visit the ' +\n",
              "          '<a target=\"_blank\" href=https://colab.research.google.com/notebooks/data_table.ipynb>data table notebook</a>'\n",
              "          + ' to learn more about interactive tables.';\n",
              "        element.innerHTML = '';\n",
              "        dataTable['output_type'] = 'display_data';\n",
              "        await google.colab.output.renderOutput(dataTable, element);\n",
              "        const docLink = document.createElement('div');\n",
              "        docLink.innerHTML = docLinkHtml;\n",
              "        element.appendChild(docLink);\n",
              "      }\n",
              "    </script>\n",
              "  </div>\n",
              "\n",
              "\n",
              "<div id=\"df-c9766247-d0fd-4e1f-a66f-ba8ad650d74b\">\n",
              "  <button class=\"colab-df-quickchart\" onclick=\"quickchart('df-c9766247-d0fd-4e1f-a66f-ba8ad650d74b')\"\n",
              "            title=\"Suggest charts\"\n",
              "            style=\"display:none;\">\n",
              "\n",
              "<svg xmlns=\"http://www.w3.org/2000/svg\" height=\"24px\"viewBox=\"0 0 24 24\"\n",
              "     width=\"24px\">\n",
              "    <g>\n",
              "        <path d=\"M19 3H5c-1.1 0-2 .9-2 2v14c0 1.1.9 2 2 2h14c1.1 0 2-.9 2-2V5c0-1.1-.9-2-2-2zM9 17H7v-7h2v7zm4 0h-2V7h2v10zm4 0h-2v-4h2v4z\"/>\n",
              "    </g>\n",
              "</svg>\n",
              "  </button>\n",
              "\n",
              "<style>\n",
              "  .colab-df-quickchart {\n",
              "      --bg-color: #E8F0FE;\n",
              "      --fill-color: #1967D2;\n",
              "      --hover-bg-color: #E2EBFA;\n",
              "      --hover-fill-color: #174EA6;\n",
              "      --disabled-fill-color: #AAA;\n",
              "      --disabled-bg-color: #DDD;\n",
              "  }\n",
              "\n",
              "  [theme=dark] .colab-df-quickchart {\n",
              "      --bg-color: #3B4455;\n",
              "      --fill-color: #D2E3FC;\n",
              "      --hover-bg-color: #434B5C;\n",
              "      --hover-fill-color: #FFFFFF;\n",
              "      --disabled-bg-color: #3B4455;\n",
              "      --disabled-fill-color: #666;\n",
              "  }\n",
              "\n",
              "  .colab-df-quickchart {\n",
              "    background-color: var(--bg-color);\n",
              "    border: none;\n",
              "    border-radius: 50%;\n",
              "    cursor: pointer;\n",
              "    display: none;\n",
              "    fill: var(--fill-color);\n",
              "    height: 32px;\n",
              "    padding: 0;\n",
              "    width: 32px;\n",
              "  }\n",
              "\n",
              "  .colab-df-quickchart:hover {\n",
              "    background-color: var(--hover-bg-color);\n",
              "    box-shadow: 0 1px 2px rgba(60, 64, 67, 0.3), 0 1px 3px 1px rgba(60, 64, 67, 0.15);\n",
              "    fill: var(--button-hover-fill-color);\n",
              "  }\n",
              "\n",
              "  .colab-df-quickchart-complete:disabled,\n",
              "  .colab-df-quickchart-complete:disabled:hover {\n",
              "    background-color: var(--disabled-bg-color);\n",
              "    fill: var(--disabled-fill-color);\n",
              "    box-shadow: none;\n",
              "  }\n",
              "\n",
              "  .colab-df-spinner {\n",
              "    border: 2px solid var(--fill-color);\n",
              "    border-color: transparent;\n",
              "    border-bottom-color: var(--fill-color);\n",
              "    animation:\n",
              "      spin 1s steps(1) infinite;\n",
              "  }\n",
              "\n",
              "  @keyframes spin {\n",
              "    0% {\n",
              "      border-color: transparent;\n",
              "      border-bottom-color: var(--fill-color);\n",
              "      border-left-color: var(--fill-color);\n",
              "    }\n",
              "    20% {\n",
              "      border-color: transparent;\n",
              "      border-left-color: var(--fill-color);\n",
              "      border-top-color: var(--fill-color);\n",
              "    }\n",
              "    30% {\n",
              "      border-color: transparent;\n",
              "      border-left-color: var(--fill-color);\n",
              "      border-top-color: var(--fill-color);\n",
              "      border-right-color: var(--fill-color);\n",
              "    }\n",
              "    40% {\n",
              "      border-color: transparent;\n",
              "      border-right-color: var(--fill-color);\n",
              "      border-top-color: var(--fill-color);\n",
              "    }\n",
              "    60% {\n",
              "      border-color: transparent;\n",
              "      border-right-color: var(--fill-color);\n",
              "    }\n",
              "    80% {\n",
              "      border-color: transparent;\n",
              "      border-right-color: var(--fill-color);\n",
              "      border-bottom-color: var(--fill-color);\n",
              "    }\n",
              "    90% {\n",
              "      border-color: transparent;\n",
              "      border-bottom-color: var(--fill-color);\n",
              "    }\n",
              "  }\n",
              "</style>\n",
              "\n",
              "  <script>\n",
              "    async function quickchart(key) {\n",
              "      const quickchartButtonEl =\n",
              "        document.querySelector('#' + key + ' button');\n",
              "      quickchartButtonEl.disabled = true;  // To prevent multiple clicks.\n",
              "      quickchartButtonEl.classList.add('colab-df-spinner');\n",
              "      try {\n",
              "        const charts = await google.colab.kernel.invokeFunction(\n",
              "            'suggestCharts', [key], {});\n",
              "      } catch (error) {\n",
              "        console.error('Error during call to suggestCharts:', error);\n",
              "      }\n",
              "      quickchartButtonEl.classList.remove('colab-df-spinner');\n",
              "      quickchartButtonEl.classList.add('colab-df-quickchart-complete');\n",
              "    }\n",
              "    (() => {\n",
              "      let quickchartButtonEl =\n",
              "        document.querySelector('#df-c9766247-d0fd-4e1f-a66f-ba8ad650d74b button');\n",
              "      quickchartButtonEl.style.display =\n",
              "        google.colab.kernel.accessAllowed ? 'block' : 'none';\n",
              "    })();\n",
              "  </script>\n",
              "</div>\n",
              "\n",
              "    </div>\n",
              "  </div>\n"
            ],
            "application/vnd.google.colaboratory.intrinsic+json": {
              "type": "dataframe",
              "variable_name": "encoded_df_reservations"
            }
          },
          "metadata": {},
          "execution_count": 27
        }
      ],
      "source": [
        "# CHECK: display the first two rows of 'encoded_df_reservations'\n",
        "encoded_df_reservations.head(2)"
      ]
    },
    {
      "cell_type": "code",
      "execution_count": 28,
      "metadata": {
        "id": "sa082oxXE8F-",
        "colab": {
          "base_uri": "https://localhost:8080/"
        },
        "outputId": "fa1696f7-2763-4b45-cb53-8eb757ee4be0"
      },
      "outputs": [
        {
          "output_type": "stream",
          "name": "stdout",
          "text": [
            "Correct! You earned 2/2 points. You are a star!\n",
            "\n",
            "Your submission has been successfully recorded in the gradebook.\n"
          ]
        }
      ],
      "source": [
        "#Grader Cell (2 points)\n",
        "grader.grade(test_case_id = 'one_hot_encoded', answer = encoded_df_reservations.head(10))"
      ]
    },
    {
      "cell_type": "markdown",
      "metadata": {
        "id": "4bVkkvxRrWuc"
      },
      "source": [
        "### **1.3.2** Change 'booking_status' to Boolean [2 pts]"
      ]
    },
    {
      "cell_type": "code",
      "execution_count": 29,
      "metadata": {
        "id": "jcbPXfEuEy6s"
      },
      "outputs": [],
      "source": [
        "# TO-DO: canceled = 1, not canceled = 0\n",
        "# encoded_df_reservations['booking_status'] = [1 if i == 'Canceled' else 0 for i in encoded_df_reservations['booking_status']]\n",
        "encoded_df_reservations[\"booking_status\"] = encoded_df_reservations.apply(lambda x: True if x[\"booking_status\"] == \"Canceled\" else False, axis=1)"
      ]
    },
    {
      "cell_type": "code",
      "execution_count": 30,
      "metadata": {
        "id": "ILEHbWkbrrfi",
        "colab": {
          "base_uri": "https://localhost:8080/"
        },
        "outputId": "22001ebb-f249-478b-bc61-bb2f298fe5fb"
      },
      "outputs": [
        {
          "output_type": "stream",
          "name": "stdout",
          "text": [
            "Correct! You earned 2/2 points. You are a star!\n",
            "\n",
            "Your submission has been successfully recorded in the gradebook.\n"
          ]
        }
      ],
      "source": [
        "# Grader Cell (2 points)\n",
        "grader.grade(test_case_id = 'boolean_booking', answer = encoded_df_reservations.head(20)['booking_status'])"
      ]
    },
    {
      "cell_type": "markdown",
      "metadata": {
        "id": "K-iqlFZacKO9"
      },
      "source": [
        "## **1.4** Modeling (sklearn) [Total: 43 points]"
      ]
    },
    {
      "cell_type": "markdown",
      "metadata": {
        "id": "xPBSUmK9HRHc"
      },
      "source": [
        "### **1.4.1** Preprocessing\n",
        "\n"
      ]
    },
    {
      "cell_type": "markdown",
      "metadata": {
        "id": "RtCmlzfGwlu4"
      },
      "source": [
        "#### (a) Create Features and Label [4 pts]\n",
        "\n",
        "Now that we have explored and cleaned our dataset, let's prepare it for a machine learning task. In this homework, you will work with various models and attempt to predict whether a room booking will be cancelled or not.\n",
        "\n",
        "The features will be all the variables in the dataset **except** `\"booking_status\"`, which will act as the label for our problem. First, store these two as `features` (pd.DataFrame) and `target` (pd.Series), respectively."
      ]
    },
    {
      "cell_type": "code",
      "execution_count": 31,
      "metadata": {
        "id": "N7_jhB-LEVNK"
      },
      "outputs": [],
      "source": [
        "# TO-DO: stores features dataframe into variable called \"features\"\n",
        "features = encoded_df_reservations.drop('booking_status', axis=1)"
      ]
    },
    {
      "cell_type": "code",
      "execution_count": 32,
      "metadata": {
        "id": "tAuxd7Q2rbYO"
      },
      "outputs": [],
      "source": [
        "# TO-DO: store the classification target variable into \"target\"\n",
        "target = encoded_df_reservations['booking_status']"
      ]
    },
    {
      "cell_type": "markdown",
      "metadata": {
        "id": "Q4IK9S59ud0Q"
      },
      "source": [
        "Now, use scikit-learn's `train_test_split` function to split data for regression into train and test sets. The split should be 80-20 meaning 80% for training and rest for testing.\n",
        "\n",
        "**_IMPORTANT_:** Please set the `seed` variable to 42, then set the parameter to `random_state = seed`, and then finally store the resulting splits as `X_train, X_test, y_train,` and `y_test`."
      ]
    },
    {
      "cell_type": "code",
      "execution_count": 33,
      "metadata": {
        "id": "D48UmEtDEo0g"
      },
      "outputs": [],
      "source": [
        "# TO-DO: Assign appropriate value to seed and conduct 80/20 train-test split with random_state = seed\n",
        "seed = 42\n",
        "X_train, X_test, y_train, y_test = train_test_split(features, target, test_size=0.2, random_state=seed)"
      ]
    },
    {
      "cell_type": "code",
      "execution_count": 34,
      "metadata": {
        "id": "Z4SMMl8JEqnT",
        "colab": {
          "base_uri": "https://localhost:8080/"
        },
        "outputId": "23ca79d8-6a62-4e2e-ba3e-86abef956f04"
      },
      "outputs": [
        {
          "output_type": "stream",
          "name": "stdout",
          "text": [
            "Correct! You earned 4/4 points. You are a star!\n",
            "\n",
            "Your submission has been successfully recorded in the gradebook.\n"
          ]
        }
      ],
      "source": [
        "# Grader Cell (4 points)\n",
        "grader.grade(test_case_id = 'train_test_split_classification', answer = (X_train.shape, X_test.shape,\n",
        "                                                                         y_train.shape, y_test.shape,\n",
        "                                                                         seed, Counter(y_test)))"
      ]
    },
    {
      "cell_type": "markdown",
      "metadata": {
        "id": "IQid9KfyIN2-"
      },
      "source": [
        "### **1.4.2** Classification Models"
      ]
    },
    {
      "cell_type": "markdown",
      "metadata": {
        "id": "M1Vj9AkIIgpL"
      },
      "source": [
        "#### (a) Logistic Regression [2 pts]\n",
        "\n",
        "Fit a Logistic regression classifier on the `X_train` and `y_train` with the default hyperparameters. Calculate the accuracy of the model on the test set using the `score` method and store it in a variable named `log_acc`\n",
        "\n",
        "If you receive warnings when training your model, you can ignore them for this homework.\n",
        "\n",
        "**Note:**\n",
        "\n",
        "Don't worry about convergence warnings for this HW.\n",
        "\n",
        "Random Forest Classifier (part b): the autograder should read:\n",
        "\n",
        "grader.grade(test_case_id = 'check_rf_clf', answer = (rf_acc, rf_confusion))"
      ]
    },
    {
      "cell_type": "code",
      "execution_count": 35,
      "metadata": {
        "id": "cS9UpoTmEsin",
        "colab": {
          "base_uri": "https://localhost:8080/"
        },
        "outputId": "d82fc174-e578-4ccb-86a4-d7903fc2054d"
      },
      "outputs": [
        {
          "output_type": "stream",
          "name": "stdout",
          "text": [
            "0.7949000689179876\n"
          ]
        },
        {
          "output_type": "stream",
          "name": "stderr",
          "text": [
            "/usr/local/lib/python3.10/dist-packages/sklearn/linear_model/_logistic.py:469: ConvergenceWarning: lbfgs failed to converge (status=1):\n",
            "STOP: TOTAL NO. of ITERATIONS REACHED LIMIT.\n",
            "\n",
            "Increase the number of iterations (max_iter) or scale the data as shown in:\n",
            "    https://scikit-learn.org/stable/modules/preprocessing.html\n",
            "Please also refer to the documentation for alternative solver options:\n",
            "    https://scikit-learn.org/stable/modules/linear_model.html#logistic-regression\n",
            "  n_iter_i = _check_optimize_result(\n"
          ]
        }
      ],
      "source": [
        "# TO-DO: Import required libraries\n",
        "from sklearn.linear_model import LogisticRegression\n",
        "\n",
        "# TO-DO: Initialize model with default parameters and fit it on the training set\n",
        "model = LogisticRegression()\n",
        "model.fit(X_train, y_train)\n",
        "\n",
        "# TO-DO: Use the model to predict on the test set and save these predictions as `y_pred`\n",
        "y_pred = model.predict(X_test)\n",
        "\n",
        "# TO-DO: Find the accuracy and store the value in `log_acc`\n",
        "log_acc = model.score(X_test, y_test)\n",
        "print(log_acc)"
      ]
    },
    {
      "cell_type": "code",
      "execution_count": 36,
      "metadata": {
        "id": "EyfS-7oIF88y",
        "colab": {
          "base_uri": "https://localhost:8080/"
        },
        "outputId": "1c90fc7b-2883-426c-a068-3ce057d03e7d"
      },
      "outputs": [
        {
          "output_type": "stream",
          "name": "stdout",
          "text": [
            "Correct! You earned 2/2 points. You are a star!\n",
            "\n",
            "Your submission has been successfully recorded in the gradebook.\n"
          ]
        }
      ],
      "source": [
        "# Grader Cell [2 points]\n",
        "grader.grade(test_case_id = 'check_log_clf', answer = log_acc)"
      ]
    },
    {
      "cell_type": "markdown",
      "metadata": {
        "id": "wgbNIcEFMch4"
      },
      "source": [
        "#### (b) Random Forest Classifier [3 pts]\n",
        "\n",
        "Fit a Random Forest classifier on the `X_train` and `y_train` with the following hyperparameters:\n",
        "- balanced class_weight\n",
        "- 120 estimators\n",
        "- maximum depth of 30\n",
        "- random seed set to 42\n",
        "\n",
        "Calculate the accuracy of the model on the test set using the `score` method and store it in a variable named `rf_acc`.\n",
        "Also, compute a [confusion matrix](https://scikit-learn.org/stable/modules/generated/sklearn.metrics.confusion_matrix.html) for your prediction and save it as `rf_confusion`."
      ]
    },
    {
      "cell_type": "code",
      "execution_count": 37,
      "metadata": {
        "id": "tk9YGVBVFTIe"
      },
      "outputs": [],
      "source": [
        "# TO-DO: Import required libraries\n",
        "from sklearn.metrics import confusion_matrix\n",
        "from sklearn.ensemble import RandomForestClassifier\n",
        "\n",
        "# TO-DO: Initialize model with default parameters and fit it on the training set\n",
        "rfc_model = RandomForestClassifier(class_weight='balanced', n_estimators=120, max_depth=30, random_state=seed)\n",
        "rfc_model.fit(X_train, y_train)\n",
        "\n",
        "# TO-DO: Use the model to predict on the test set and save these predictions as `y_pred`\n",
        "y_pred = rfc_model.predict(X_test)\n",
        "\n",
        "# TO-DO: Find the accuracy and store the value in `rf_acc`\n",
        "rf_acc = rfc_model.score(X_test, y_test)\n",
        "\n",
        "# TO-DO: Compute the confusion matrix and save it to `rf_confusion`\n",
        "rf_confusion = confusion_matrix(y_test, y_pred)"
      ]
    },
    {
      "cell_type": "code",
      "execution_count": 38,
      "metadata": {
        "id": "rlpS3wDEE9-T",
        "colab": {
          "base_uri": "https://localhost:8080/"
        },
        "outputId": "e8bbaa18-97f9-43c5-d7bb-42867a0b4143"
      },
      "outputs": [
        {
          "output_type": "stream",
          "name": "stdout",
          "text": [
            "Correct! You earned 3/3 points. You are a star!\n",
            "\n",
            "Your submission has been successfully recorded in the gradebook.\n"
          ]
        }
      ],
      "source": [
        "# Grader Cell (3 points)\n",
        "grader.grade(test_case_id = 'check_rf_clf', answer = (rf_acc, rf_confusion))"
      ]
    },
    {
      "cell_type": "markdown",
      "metadata": {
        "id": "ahdJZonewlu6"
      },
      "source": [
        "#### (c) Plot Feature Importances [5 Points]\n",
        "\n",
        "Now that you have a Random Forest model, it's important for data scientists to understand and communicate to stakeholders the drivers that cause booking cancellations. **Feature importance** can help achieve this.\n",
        "\n",
        "Here are the steps to follow:\n",
        "\n",
        "* Use the built-in feature_importances_ function to obtain an array of feature importances.\n",
        "* Identify the top 10 features by importance then create a DataFrame with two columns: one for the names of the current features (Called Feature) and another for their corresponding importance values (called Feature Importance).\n",
        "* Visualize the top 10 feature importance using a bar plot.\n",
        "* Analyze the top 10 features to determine if they make sense, and provide your reasoning (manual grading)"
      ]
    },
    {
      "cell_type": "code",
      "execution_count": 39,
      "metadata": {
        "id": "xX8qCQqjwlu6",
        "colab": {
          "base_uri": "https://localhost:8080/",
          "height": 706
        },
        "outputId": "1d122d41-552f-4d22-f669-11cd6e0e80bb"
      },
      "outputs": [
        {
          "output_type": "display_data",
          "data": {
            "text/plain": [
              "<Figure size 1000x600 with 1 Axes>"
            ],
            "image/png": "[encoded data removed]"
          },
          "metadata": {}
        }
      ],
      "source": [
        "# TO-DO: get feature importnce using built-in feature importance\n",
        "feature_importance = rfc_model.feature_importances_\n",
        "# TO-DO: Get the top 10 and Create a DataFrame `feature_importance_df`\n",
        "feature_importance_df = pd.DataFrame({'Feature': X_train.columns, 'Feature Importance': feature_importance})\n",
        "feature_importance_df = feature_importance_df.sort_values(by='Feature Importance', ascending=False).head(10)\n",
        "# TO-DO: Visualize the top 10 feature importance using a barplot\n",
        "plt.figure(figsize=(10, 6))\n",
        "sns.barplot(x='Feature', y='Feature Importance', data=feature_importance_df)\n",
        "plt.ylabel('Scores')\n",
        "plt.xlabel('Feature Importance')\n",
        "plt.xticks(rotation=45, ha='right')\n",
        "plt.title('Top 10 Feature Importance')\n",
        "plt.show()\n",
        "# TO-DO: Analyze the top 10 features to determine if they make sense, and provide your reasoning\n",
        "#Lead time makes sense as an important feature because most guests plan ahead and may book way ahead of time while some guests book close to when they visit. I believe booking ahead leads to higher cancelations.\n",
        "#average price per room is also important because most customers want the best deals for their stay."
      ]
    },
    {
      "cell_type": "code",
      "execution_count": 40,
      "metadata": {
        "id": "2MFaChAqwlu6",
        "colab": {
          "base_uri": "https://localhost:8080/"
        },
        "outputId": "7fcc318f-c308-47ef-cca7-86ea6db1f663"
      },
      "outputs": [
        {
          "output_type": "stream",
          "name": "stdout",
          "text": [
            "Correct! You earned 3/3 points. You are a star!\n",
            "\n",
            "Your submission has been successfully recorded in the gradebook.\n"
          ]
        }
      ],
      "source": [
        "#Grader Cell\n",
        "grader.grade(test_case_id = 'check_feature_importance', answer = (feature_importance_df.reset_index()))"
      ]
    },
    {
      "cell_type": "markdown",
      "metadata": {
        "id": "lbSul1eKNIVG"
      },
      "source": [
        "#### (d) PCA to Reduce Dimensionality [4 + 2 pts]\n",
        "\n",
        "The goal of Principal Component Analysis is to reduce number of dimensions of our features."
      ]
    },
    {
      "cell_type": "markdown",
      "metadata": {
        "id": "caGTeWhxNL3K"
      },
      "source": [
        "_**Initial PCA**_\n",
        "\n",
        "As a first step, instantiate the `PCA` class from scikit-learn and fit it on your training set. We are not reducing the dimensionality of our data in this step but rather trying to find what would be the ideal number of Principal Components to choose. So keep all Principal Components for this step\n",
        "\n",
        "Please remember that PCA is **not** scale-invariant! What does this imply you need to do first? This requires conceptual understanding to implement so make sure you _watched_ the corresponding lecture and recitation!\n",
        "\n",
        "<ins>WARNING</ins>: It is _CRITICALLY_ important that you understand the difference between the `.fit_transform`, `.fit` and `.transform` methods. This has been the most common mistake students have made in this homework, which has potentially made it more difficult for them. Without fully understanding this, those same students have gone on to make the same mistakes in the final exam and their project. We cannot emphasize this enough!"
      ]
    },
    {
      "cell_type": "code",
      "execution_count": 41,
      "metadata": {
        "id": "PuETOl5gQuNb"
      },
      "outputs": [],
      "source": [
        "# TO-DO: Import necessary libraries\n",
        "from sklearn.preprocessing import StandardScaler\n",
        "from sklearn.decomposition import PCA"
      ]
    },
    {
      "cell_type": "code",
      "execution_count": 42,
      "metadata": {
        "id": "D4us_KsqtN1Y",
        "colab": {
          "base_uri": "https://localhost:8080/",
          "height": 80
        },
        "outputId": "7f11006b-3cd1-4558-a5a0-e159c2937089"
      },
      "outputs": [
        {
          "output_type": "execute_result",
          "data": {
            "text/plain": [
              "PCA()"
            ],
            "text/html": [
              "<style>#sk-container-id-1 {\n",
              "  /* Definition of color scheme common for light and dark mode */\n",
              "  --sklearn-color-text: black;\n",
              "  --sklearn-color-line: gray;\n",
              "  /* Definition of color scheme for unfitted estimators */\n",
              "  --sklearn-color-unfitted-level-0: #fff5e6;\n",
              "  --sklearn-color-unfitted-level-1: #f6e4d2;\n",
              "  --sklearn-color-unfitted-level-2: #ffe0b3;\n",
              "  --sklearn-color-unfitted-level-3: chocolate;\n",
              "  /* Definition of color scheme for fitted estimators */\n",
              "  --sklearn-color-fitted-level-0: #f0f8ff;\n",
              "  --sklearn-color-fitted-level-1: #d4ebff;\n",
              "  --sklearn-color-fitted-level-2: #b3dbfd;\n",
              "  --sklearn-color-fitted-level-3: cornflowerblue;\n",
              "\n",
              "  /* Specific color for light theme */\n",
              "  --sklearn-color-text-on-default-background: var(--sg-text-color, var(--theme-code-foreground, var(--jp-content-font-color1, black)));\n",
              "  --sklearn-color-background: var(--sg-background-color, var(--theme-background, var(--jp-layout-color0, white)));\n",
              "  --sklearn-color-border-box: var(--sg-text-color, var(--theme-code-foreground, var(--jp-content-font-color1, black)));\n",
              "  --sklearn-color-icon: #696969;\n",
              "\n",
              "  @media (prefers-color-scheme: dark) {\n",
              "    /* Redefinition of color scheme for dark theme */\n",
              "    --sklearn-color-text-on-default-background: var(--sg-text-color, var(--theme-code-foreground, var(--jp-content-font-color1, white)));\n",
              "    --sklearn-color-background: var(--sg-background-color, var(--theme-background, var(--jp-layout-color0, #111)));\n",
              "    --sklearn-color-border-box: var(--sg-text-color, var(--theme-code-foreground, var(--jp-content-font-color1, white)));\n",
              "    --sklearn-color-icon: #878787;\n",
              "  }\n",
              "}\n",
              "\n",
              "#sk-container-id-1 {\n",
              "  color: var(--sklearn-color-text);\n",
              "}\n",
              "\n",
              "#sk-container-id-1 pre {\n",
              "  padding: 0;\n",
              "}\n",
              "\n",
              "#sk-container-id-1 input.sk-hidden--visually {\n",
              "  border: 0;\n",
              "  clip: rect(1px 1px 1px 1px);\n",
              "  clip: rect(1px, 1px, 1px, 1px);\n",
              "  height: 1px;\n",
              "  margin: -1px;\n",
              "  overflow: hidden;\n",
              "  padding: 0;\n",
              "  position: absolute;\n",
              "  width: 1px;\n",
              "}\n",
              "\n",
              "#sk-container-id-1 div.sk-dashed-wrapped {\n",
              "  border: 1px dashed var(--sklearn-color-line);\n",
              "  margin: 0 0.4em 0.5em 0.4em;\n",
              "  box-sizing: border-box;\n",
              "  padding-bottom: 0.4em;\n",
              "  background-color: var(--sklearn-color-background);\n",
              "}\n",
              "\n",
              "#sk-container-id-1 div.sk-container {\n",
              "  /* jupyter's `normalize.less` sets `[hidden] { display: none; }`\n",
              "     but bootstrap.min.css set `[hidden] { display: none !important; }`\n",
              "     so we also need the `!important` here to be able to override the\n",
              "     default hidden behavior on the sphinx rendered scikit-learn.org.\n",
              "     See: https://github.com/scikit-learn/scikit-learn/issues/21755 */\n",
              "  display: inline-block !important;\n",
              "  position: relative;\n",
              "}\n",
              "\n",
              "#sk-container-id-1 div.sk-text-repr-fallback {\n",
              "  display: none;\n",
              "}\n",
              "\n",
              "div.sk-parallel-item,\n",
              "div.sk-serial,\n",
              "div.sk-item {\n",
              "  /* draw centered vertical line to link estimators */\n",
              "  background-image: linear-gradient(var(--sklearn-color-text-on-default-background), var(--sklearn-color-text-on-default-background));\n",
              "  background-size: 2px 100%;\n",
              "  background-repeat: no-repeat;\n",
              "  background-position: center center;\n",
              "}\n",
              "\n",
              "/* Parallel-specific style estimator block */\n",
              "\n",
              "#sk-container-id-1 div.sk-parallel-item::after {\n",
              "  content: \"\";\n",
              "  width: 100%;\n",
              "  border-bottom: 2px solid var(--sklearn-color-text-on-default-background);\n",
              "  flex-grow: 1;\n",
              "}\n",
              "\n",
              "#sk-container-id-1 div.sk-parallel {\n",
              "  display: flex;\n",
              "  align-items: stretch;\n",
              "  justify-content: center;\n",
              "  background-color: var(--sklearn-color-background);\n",
              "  position: relative;\n",
              "}\n",
              "\n",
              "#sk-container-id-1 div.sk-parallel-item {\n",
              "  display: flex;\n",
              "  flex-direction: column;\n",
              "}\n",
              "\n",
              "#sk-container-id-1 div.sk-parallel-item:first-child::after {\n",
              "  align-self: flex-end;\n",
              "  width: 50%;\n",
              "}\n",
              "\n",
              "#sk-container-id-1 div.sk-parallel-item:last-child::after {\n",
              "  align-self: flex-start;\n",
              "  width: 50%;\n",
              "}\n",
              "\n",
              "#sk-container-id-1 div.sk-parallel-item:only-child::after {\n",
              "  width: 0;\n",
              "}\n",
              "\n",
              "/* Serial-specific style estimator block */\n",
              "\n",
              "#sk-container-id-1 div.sk-serial {\n",
              "  display: flex;\n",
              "  flex-direction: column;\n",
              "  align-items: center;\n",
              "  background-color: var(--sklearn-color-background);\n",
              "  padding-right: 1em;\n",
              "  padding-left: 1em;\n",
              "}\n",
              "\n",
              "\n",
              "/* Toggleable style: style used for estimator/Pipeline/ColumnTransformer box that is\n",
              "clickable and can be expanded/collapsed.\n",
              "- Pipeline and ColumnTransformer use this feature and define the default style\n",
              "- Estimators will overwrite some part of the style using the `sk-estimator` class\n",
              "*/\n",
              "\n",
              "/* Pipeline and ColumnTransformer style (default) */\n",
              "\n",
              "#sk-container-id-1 div.sk-toggleable {\n",
              "  /* Default theme specific background. It is overwritten whether we have a\n",
              "  specific estimator or a Pipeline/ColumnTransformer */\n",
              "  background-color: var(--sklearn-color-background);\n",
              "}\n",
              "\n",
              "/* Toggleable label */\n",
              "#sk-container-id-1 label.sk-toggleable__label {\n",
              "  cursor: pointer;\n",
              "  display: block;\n",
              "  width: 100%;\n",
              "  margin-bottom: 0;\n",
              "  padding: 0.5em;\n",
              "  box-sizing: border-box;\n",
              "  text-align: center;\n",
              "}\n",
              "\n",
              "#sk-container-id-1 label.sk-toggleable__label-arrow:before {\n",
              "  /* Arrow on the left of the label */\n",
              "  content: \"▸\";\n",
              "  float: left;\n",
              "  margin-right: 0.25em;\n",
              "  color: var(--sklearn-color-icon);\n",
              "}\n",
              "\n",
              "#sk-container-id-1 label.sk-toggleable__label-arrow:hover:before {\n",
              "  color: var(--sklearn-color-text);\n",
              "}\n",
              "\n",
              "/* Toggleable content - dropdown */\n",
              "\n",
              "#sk-container-id-1 div.sk-toggleable__content {\n",
              "  max-height: 0;\n",
              "  max-width: 0;\n",
              "  overflow: hidden;\n",
              "  text-align: left;\n",
              "  /* unfitted */\n",
              "  background-color: var(--sklearn-color-unfitted-level-0);\n",
              "}\n",
              "\n",
              "#sk-container-id-1 div.sk-toggleable__content.fitted {\n",
              "  /* fitted */\n",
              "  background-color: var(--sklearn-color-fitted-level-0);\n",
              "}\n",
              "\n",
              "#sk-container-id-1 div.sk-toggleable__content pre {\n",
              "  margin: 0.2em;\n",
              "  border-radius: 0.25em;\n",
              "  color: var(--sklearn-color-text);\n",
              "  /* unfitted */\n",
              "  background-color: var(--sklearn-color-unfitted-level-0);\n",
              "}\n",
              "\n",
              "#sk-container-id-1 div.sk-toggleable__content.fitted pre {\n",
              "  /* unfitted */\n",
              "  background-color: var(--sklearn-color-fitted-level-0);\n",
              "}\n",
              "\n",
              "#sk-container-id-1 input.sk-toggleable__control:checked~div.sk-toggleable__content {\n",
              "  /* Expand drop-down */\n",
              "  max-height: 200px;\n",
              "  max-width: 100%;\n",
              "  overflow: auto;\n",
              "}\n",
              "\n",
              "#sk-container-id-1 input.sk-toggleable__control:checked~label.sk-toggleable__label-arrow:before {\n",
              "  content: \"▾\";\n",
              "}\n",
              "\n",
              "/* Pipeline/ColumnTransformer-specific style */\n",
              "\n",
              "#sk-container-id-1 div.sk-label input.sk-toggleable__control:checked~label.sk-toggleable__label {\n",
              "  color: var(--sklearn-color-text);\n",
              "  background-color: var(--sklearn-color-unfitted-level-2);\n",
              "}\n",
              "\n",
              "#sk-container-id-1 div.sk-label.fitted input.sk-toggleable__control:checked~label.sk-toggleable__label {\n",
              "  background-color: var(--sklearn-color-fitted-level-2);\n",
              "}\n",
              "\n",
              "/* Estimator-specific style */\n",
              "\n",
              "/* Colorize estimator box */\n",
              "#sk-container-id-1 div.sk-estimator input.sk-toggleable__control:checked~label.sk-toggleable__label {\n",
              "  /* unfitted */\n",
              "  background-color: var(--sklearn-color-unfitted-level-2);\n",
              "}\n",
              "\n",
              "#sk-container-id-1 div.sk-estimator.fitted input.sk-toggleable__control:checked~label.sk-toggleable__label {\n",
              "  /* fitted */\n",
              "  background-color: var(--sklearn-color-fitted-level-2);\n",
              "}\n",
              "\n",
              "#sk-container-id-1 div.sk-label label.sk-toggleable__label,\n",
              "#sk-container-id-1 div.sk-label label {\n",
              "  /* The background is the default theme color */\n",
              "  color: var(--sklearn-color-text-on-default-background);\n",
              "}\n",
              "\n",
              "/* On hover, darken the color of the background */\n",
              "#sk-container-id-1 div.sk-label:hover label.sk-toggleable__label {\n",
              "  color: var(--sklearn-color-text);\n",
              "  background-color: var(--sklearn-color-unfitted-level-2);\n",
              "}\n",
              "\n",
              "/* Label box, darken color on hover, fitted */\n",
              "#sk-container-id-1 div.sk-label.fitted:hover label.sk-toggleable__label.fitted {\n",
              "  color: var(--sklearn-color-text);\n",
              "  background-color: var(--sklearn-color-fitted-level-2);\n",
              "}\n",
              "\n",
              "/* Estimator label */\n",
              "\n",
              "#sk-container-id-1 div.sk-label label {\n",
              "  font-family: monospace;\n",
              "  font-weight: bold;\n",
              "  display: inline-block;\n",
              "  line-height: 1.2em;\n",
              "}\n",
              "\n",
              "#sk-container-id-1 div.sk-label-container {\n",
              "  text-align: center;\n",
              "}\n",
              "\n",
              "/* Estimator-specific */\n",
              "#sk-container-id-1 div.sk-estimator {\n",
              "  font-family: monospace;\n",
              "  border: 1px dotted var(--sklearn-color-border-box);\n",
              "  border-radius: 0.25em;\n",
              "  box-sizing: border-box;\n",
              "  margin-bottom: 0.5em;\n",
              "  /* unfitted */\n",
              "  background-color: var(--sklearn-color-unfitted-level-0);\n",
              "}\n",
              "\n",
              "#sk-container-id-1 div.sk-estimator.fitted {\n",
              "  /* fitted */\n",
              "  background-color: var(--sklearn-color-fitted-level-0);\n",
              "}\n",
              "\n",
              "/* on hover */\n",
              "#sk-container-id-1 div.sk-estimator:hover {\n",
              "  /* unfitted */\n",
              "  background-color: var(--sklearn-color-unfitted-level-2);\n",
              "}\n",
              "\n",
              "#sk-container-id-1 div.sk-estimator.fitted:hover {\n",
              "  /* fitted */\n",
              "  background-color: var(--sklearn-color-fitted-level-2);\n",
              "}\n",
              "\n",
              "/* Specification for estimator info (e.g. \"i\" and \"?\") */\n",
              "\n",
              "/* Common style for \"i\" and \"?\" */\n",
              "\n",
              ".sk-estimator-doc-link,\n",
              "a:link.sk-estimator-doc-link,\n",
              "a:visited.sk-estimator-doc-link {\n",
              "  float: right;\n",
              "  font-size: smaller;\n",
              "  line-height: 1em;\n",
              "  font-family: monospace;\n",
              "  background-color: var(--sklearn-color-background);\n",
              "  border-radius: 1em;\n",
              "  height: 1em;\n",
              "  width: 1em;\n",
              "  text-decoration: none !important;\n",
              "  margin-left: 1ex;\n",
              "  /* unfitted */\n",
              "  border: var(--sklearn-color-unfitted-level-1) 1pt solid;\n",
              "  color: var(--sklearn-color-unfitted-level-1);\n",
              "}\n",
              "\n",
              ".sk-estimator-doc-link.fitted,\n",
              "a:link.sk-estimator-doc-link.fitted,\n",
              "a:visited.sk-estimator-doc-link.fitted {\n",
              "  /* fitted */\n",
              "  border: var(--sklearn-color-fitted-level-1) 1pt solid;\n",
              "  color: var(--sklearn-color-fitted-level-1);\n",
              "}\n",
              "\n",
              "/* On hover */\n",
              "div.sk-estimator:hover .sk-estimator-doc-link:hover,\n",
              ".sk-estimator-doc-link:hover,\n",
              "div.sk-label-container:hover .sk-estimator-doc-link:hover,\n",
              ".sk-estimator-doc-link:hover {\n",
              "  /* unfitted */\n",
              "  background-color: var(--sklearn-color-unfitted-level-3);\n",
              "  color: var(--sklearn-color-background);\n",
              "  text-decoration: none;\n",
              "}\n",
              "\n",
              "div.sk-estimator.fitted:hover .sk-estimator-doc-link.fitted:hover,\n",
              ".sk-estimator-doc-link.fitted:hover,\n",
              "div.sk-label-container:hover .sk-estimator-doc-link.fitted:hover,\n",
              ".sk-estimator-doc-link.fitted:hover {\n",
              "  /* fitted */\n",
              "  background-color: var(--sklearn-color-fitted-level-3);\n",
              "  color: var(--sklearn-color-background);\n",
              "  text-decoration: none;\n",
              "}\n",
              "\n",
              "/* Span, style for the box shown on hovering the info icon */\n",
              ".sk-estimator-doc-link span {\n",
              "  display: none;\n",
              "  z-index: 9999;\n",
              "  position: relative;\n",
              "  font-weight: normal;\n",
              "  right: .2ex;\n",
              "  padding: .5ex;\n",
              "  margin: .5ex;\n",
              "  width: min-content;\n",
              "  min-width: 20ex;\n",
              "  max-width: 50ex;\n",
              "  color: var(--sklearn-color-text);\n",
              "  box-shadow: 2pt 2pt 4pt #999;\n",
              "  /* unfitted */\n",
              "  background: var(--sklearn-color-unfitted-level-0);\n",
              "  border: .5pt solid var(--sklearn-color-unfitted-level-3);\n",
              "}\n",
              "\n",
              ".sk-estimator-doc-link.fitted span {\n",
              "  /* fitted */\n",
              "  background: var(--sklearn-color-fitted-level-0);\n",
              "  border: var(--sklearn-color-fitted-level-3);\n",
              "}\n",
              "\n",
              ".sk-estimator-doc-link:hover span {\n",
              "  display: block;\n",
              "}\n",
              "\n",
              "/* \"?\"-specific style due to the `<a>` HTML tag */\n",
              "\n",
              "#sk-container-id-1 a.estimator_doc_link {\n",
              "  float: right;\n",
              "  font-size: 1rem;\n",
              "  line-height: 1em;\n",
              "  font-family: monospace;\n",
              "  background-color: var(--sklearn-color-background);\n",
              "  border-radius: 1rem;\n",
              "  height: 1rem;\n",
              "  width: 1rem;\n",
              "  text-decoration: none;\n",
              "  /* unfitted */\n",
              "  color: var(--sklearn-color-unfitted-level-1);\n",
              "  border: var(--sklearn-color-unfitted-level-1) 1pt solid;\n",
              "}\n",
              "\n",
              "#sk-container-id-1 a.estimator_doc_link.fitted {\n",
              "  /* fitted */\n",
              "  border: var(--sklearn-color-fitted-level-1) 1pt solid;\n",
              "  color: var(--sklearn-color-fitted-level-1);\n",
              "}\n",
              "\n",
              "/* On hover */\n",
              "#sk-container-id-1 a.estimator_doc_link:hover {\n",
              "  /* unfitted */\n",
              "  background-color: var(--sklearn-color-unfitted-level-3);\n",
              "  color: var(--sklearn-color-background);\n",
              "  text-decoration: none;\n",
              "}\n",
              "\n",
              "#sk-container-id-1 a.estimator_doc_link.fitted:hover {\n",
              "  /* fitted */\n",
              "  background-color: var(--sklearn-color-fitted-level-3);\n",
              "}\n",
              "</style><div id=\"sk-container-id-1\" class=\"sk-top-container\"><div class=\"sk-text-repr-fallback\"><pre>PCA()</pre><b>In a Jupyter environment, please rerun this cell to show the HTML representation or trust the notebook. <br />On GitHub, the HTML representation is unable to render, please try loading this page with nbviewer.org.</b></div><div class=\"sk-container\" hidden><div class=\"sk-item\"><div class=\"sk-estimator fitted sk-toggleable\"><input class=\"sk-toggleable__control sk-hidden--visually\" id=\"sk-estimator-id-1\" type=\"checkbox\" checked><label for=\"sk-estimator-id-1\" class=\"sk-toggleable__label fitted sk-toggleable__label-arrow fitted\">&nbsp;&nbsp;PCA<a class=\"sk-estimator-doc-link fitted\" rel=\"noreferrer\" target=\"_blank\" href=\"https://scikit-learn.org/1.5/modules/generated/sklearn.decomposition.PCA.html\">?<span>Documentation for PCA</span></a><span class=\"sk-estimator-doc-link fitted\">i<span>Fitted</span></span></label><div class=\"sk-toggleable__content fitted\"><pre>PCA()</pre></div> </div></div></div></div>"
            ]
          },
          "metadata": {},
          "execution_count": 42
        }
      ],
      "source": [
        "# TO-DO: Intermediate step to address fac that PCA is not scale-invariant\n",
        "scaler = StandardScaler()\n",
        "X_train_scaled = scaler.fit_transform(X_train)\n",
        "X_test_scaled = scaler.transform(X_test)\n",
        "# TO-DO: Instantiate and Fit PCA\n",
        "pca = PCA()\n",
        "pca.fit(X_train_scaled)"
      ]
    },
    {
      "cell_type": "markdown",
      "metadata": {
        "id": "oeJnO6EENQQq"
      },
      "source": [
        "_**Cumulative Explained Variance Ratios**_\n",
        "\n",
        "Create an array of explained variance ratios and store it into a variable called `explained_variance_ratios`. Also, calculate the _cumulative_ explained variance ratios and store that into another variable called `cum_evr`."
      ]
    },
    {
      "cell_type": "code",
      "execution_count": 43,
      "metadata": {
        "id": "_o9yURt1GLMs"
      },
      "outputs": [],
      "source": [
        "# TO-DO: Save the explained variance ratios into variable called \"explained_variance_ratios\"\n",
        "explained_variance_ratios = pca.explained_variance_ratio_\n",
        "\n",
        "# TO-DO: Save the CUMULATIVE explained variance ratios into variable called \"cum_evr\"\n",
        "cum_evr = np.cumsum(explained_variance_ratios)"
      ]
    },
    {
      "cell_type": "code",
      "execution_count": 44,
      "metadata": {
        "id": "synUBPNMGY7e",
        "colab": {
          "base_uri": "https://localhost:8080/"
        },
        "outputId": "6ed127de-1c8c-4cc4-d073-6df86a702d07"
      },
      "outputs": [
        {
          "output_type": "stream",
          "name": "stdout",
          "text": [
            "Correct! You earned 2/2 points. You are a star!\n",
            "\n",
            "Your submission has been successfully recorded in the gradebook.\n"
          ]
        }
      ],
      "source": [
        "#Grader cell (2 points)\n",
        "grader.grade(test_case_id = 'check_pca_explained_variance', answer = (explained_variance_ratios, cum_evr))"
      ]
    },
    {
      "cell_type": "markdown",
      "metadata": {
        "id": "UNzvjLeTNZB-"
      },
      "source": [
        "Now plot the _cumulative_ `explained_variance_ratio` against the number of components to decide the number of components you should keep (this should look very similar to a visualization in lecture). Also add a horizontal line that represents the 80% of the variance as a threshold.\n",
        "\n",
        "As before, you should ensure that the plot follows the best practices you've developed over the past 2 plotting exercises in this HW (Labelling the axes and adding title to the plot, readability, etc.). **This will be manually graded for 2 points**\n",
        "\n",
        "_**CAUTION:** Recall that Python starts counting from 0, but this would make it very non-intuitive when reading from your graph. We strongly recommend that you modify the x-axis of your graph so that the **number of components begins at 1**. Otherwise, you may risk making silly mistakes in the subsequent sections._"
      ]
    },
    {
      "cell_type": "code",
      "execution_count": 45,
      "metadata": {
        "id": "FpuM4rGYNZ56",
        "colab": {
          "base_uri": "https://localhost:8080/",
          "height": 718
        },
        "outputId": "98044825-0704-43a9-f902-b1a7ef1a469a"
      },
      "outputs": [
        {
          "output_type": "display_data",
          "data": {
            "text/plain": [
              "<Figure size 1200x800 with 1 Axes>"
            ],
            "image/png": "[encoded data removed]"
          },
          "metadata": {}
        }
      ],
      "source": [
        "# TO-DO: find optimal num components to use (n) by plotting explained variance ratio (2 points)\n",
        "num_cum_evr = len(cum_evr)+1\n",
        "plt.figure(figsize=(12, 8))\n",
        "plt.plot(range(1, num_cum_evr), cum_evr)\n",
        "plt.xticks(range(32))\n",
        "plt.title('Cumulative Explained Varince Ratio')\n",
        "plt.xlabel('Num Components')\n",
        "plt.ylabel('Cumulative Explained Variance Ratio')\n",
        "plt.axhline(y=0.8, color='black')\n",
        "plt.axvline(x=17, color='red')\n",
        "plt.axvline(x=16, color='black')\n",
        "plt.grid(True)\n",
        "plt.show()"
      ]
    },
    {
      "cell_type": "code",
      "source": [
        "# n should be 17 at 80% of total var"
      ],
      "metadata": {
        "id": "TsnJkGv2Xi4y"
      },
      "execution_count": null,
      "outputs": []
    },
    {
      "cell_type": "markdown",
      "metadata": {
        "id": "PIhrE2ILNmve"
      },
      "source": [
        "_**Final PCA**_\n",
        "\n",
        "Using your results above to help you decide the number of components to keep, choose a number (`n`) that explains **at least 80% of total variance** (i.e. strictly larger than 80%!) in the dataset. Then re-fit and transform your PCA on the training set using the number of components you decided.\n",
        "\n",
        "Remember that your PCA should be trained on the training set (`X_train`) but only transformed on the test set (`X_test`).\n",
        "\n",
        "Call your transformed set of principal components `X_test_pca` in order to submit it to the autograder."
      ]
    },
    {
      "cell_type": "code",
      "execution_count": 46,
      "metadata": {
        "id": "o3jrh59gGZ0s"
      },
      "outputs": [],
      "source": [
        "# TO-DO: Get transformed set of principal components on x_test\n",
        "\n",
        "# 1. Refit and transform on training with parameter n (as deduced from the last step)\n",
        "pca = PCA(n_components=17)\n",
        "pca.fit(X_train_scaled)\n",
        "\n",
        "\n",
        "# 2. Transform on Testing Set and store it as `X_test_pca`\n",
        "X_test_pca = pca.transform(X_test_scaled)\n"
      ]
    },
    {
      "cell_type": "code",
      "execution_count": 47,
      "metadata": {
        "id": "QlIUmcW5Gl0M",
        "colab": {
          "base_uri": "https://localhost:8080/"
        },
        "outputId": "2bfa95f8-13c6-49ab-c4fa-abe2a73eb89a"
      },
      "outputs": [
        {
          "output_type": "stream",
          "name": "stdout",
          "text": [
            "Correct! You earned 2/2 points. You are a star!\n",
            "\n",
            "Your submission has been successfully recorded in the gradebook.\n"
          ]
        }
      ],
      "source": [
        "# Grader cell (2 points)\n",
        "grader.grade(test_case_id = 'check_fitted_pca', answer = X_test_pca)"
      ]
    },
    {
      "cell_type": "markdown",
      "metadata": {
        "id": "TzIlLTj0Nq92"
      },
      "source": [
        "#### (e) Logistic Regression with PCA [4 pts]\n",
        "\n",
        "1. Fit the logistic regression on your Final Principal Components data using your optimal `n`. Name the model `log_reg_pca`\n",
        "2. Make predictions on the **test** set and store this as `y_pred`.\n",
        "3. Report accuracy for the **test** set and call it `test_accuracy`"
      ]
    },
    {
      "cell_type": "code",
      "execution_count": 48,
      "metadata": {
        "id": "z5w5ZgkAGoXh",
        "colab": {
          "base_uri": "https://localhost:8080/"
        },
        "outputId": "bdd73ff3-def5-49a2-fe3e-2fa5bee8ba7c"
      },
      "outputs": [
        {
          "output_type": "stream",
          "name": "stdout",
          "text": [
            "0.7706409372846312\n"
          ]
        }
      ],
      "source": [
        "# TO-DO: Initialize `log_reg_pca` model with default parameters and fit it on the PCA transformed training set\n",
        "log_reg_pca = LogisticRegression()\n",
        "X_train_pca = pca.transform(X_train_scaled)\n",
        "log_reg_pca.fit(X_train_pca, y_train)\n",
        "\n",
        "# TO-DO: Use the model to predict on the PCA transformed test set and save these predictions as `y_pred`\n",
        "y_pred = log_reg_pca.predict(X_test_pca)\n",
        "\n",
        "# TO-DO: Find the accuracy and store the value in `test_accuracy`\n",
        "test_accuracy = log_reg_pca.score(X_test_pca, y_test)\n",
        "print(test_accuracy)"
      ]
    },
    {
      "cell_type": "code",
      "execution_count": 49,
      "metadata": {
        "id": "WVrpOF6NHDVX",
        "colab": {
          "base_uri": "https://localhost:8080/"
        },
        "outputId": "888c12aa-851a-44e4-bd47-6db9de85607e"
      },
      "outputs": [
        {
          "output_type": "stream",
          "name": "stdout",
          "text": [
            "Correct! You earned 4/4 points. You are a star!\n",
            "\n",
            "Your submission has been successfully recorded in the gradebook.\n"
          ]
        }
      ],
      "source": [
        "# Grader (4 points)\n",
        "grader.grade(test_case_id = 'check_log_reg_pca', answer = (test_accuracy, log_reg_pca.n_features_in_, y_pred))"
      ]
    },
    {
      "cell_type": "markdown",
      "metadata": {
        "id": "tYGjFnJ8kfaK"
      },
      "source": [
        "### **1.4.3.0** Regression: Split Data into Train and Test [4 pts]\n",
        "\n",
        "\n",
        "**Task:**\n",
        " We will be predicting `avg_price_per_room` for regression models.\n",
        "\n",
        " Drop the columns: `'arrival_year'`,`arrival_month`, `'arrival_date'`,`'no_of_previous_cancellations'`, `'no_of_previous_bookings_not_canceled'` `'booking_status'`\n",
        " from `encoded_df_reservations` and save the dataframe to `reg_df_reservations`. Then, use scikit-learn's `train_test_split` function to split data for regression into train and test sets. The split should be 80-20 meaning 80% for training and rest for testing.\n",
        "\n",
        "\n",
        "**_IMPORTANT_: Please set the `seed` variable to 42 and then set the parameter to `random_state = seed`** and store the resulting splits as `X_train, X_test, y_train,` and `y_test`.\n"
      ]
    },
    {
      "cell_type": "code",
      "execution_count": 50,
      "metadata": {
        "id": "NzF_JNnEhvBC"
      },
      "outputs": [],
      "source": [
        "# TO-DO: drop arrival_year, arrival_month, arrival_date, no_of_previous_cancellations, no_of_previous_bookings_not_canceled,booking_status\n",
        "\n",
        "\n",
        "\n",
        "# TO-DO: save the dataframe to reg_df_reservations\n",
        "\n",
        "reg_df_reservations = encoded_df_reservations.drop(['arrival_year', 'arrival_month', 'arrival_date', 'no_of_previous_cancellations', 'no_of_previous_bookings_not_canceled', 'booking_status'], axis=1)"
      ]
    },
    {
      "cell_type": "code",
      "execution_count": 51,
      "metadata": {
        "id": "5f8a8uTcmTSV"
      },
      "outputs": [],
      "source": [
        "# TO-DO: stores features dataframe into variable called \"features\"\n",
        "features = reg_df_reservations.drop('avg_price_per_room', axis=1)\n",
        "\n",
        "# TO-DO: store the classification target variable  (`avg_price_per_room`) into \"target\"\n",
        "\n",
        "target = reg_df_reservations['avg_price_per_room']"
      ]
    },
    {
      "cell_type": "code",
      "execution_count": 52,
      "metadata": {
        "id": "Z5rG25VRkfaL"
      },
      "outputs": [],
      "source": [
        "# TO-DO: Assign appropriate value to seed and conduct 80/20 train-test split with random_state = seed\n",
        "seed = 42\n",
        "X_train, X_test, y_train, y_test = train_test_split(features, target, test_size=0.2, random_state=seed)"
      ]
    },
    {
      "cell_type": "code",
      "execution_count": 53,
      "metadata": {
        "id": "FfU3m6MNkfaL",
        "colab": {
          "base_uri": "https://localhost:8080/"
        },
        "outputId": "f9313dfb-9f58-4437-b349-f6d10273202d"
      },
      "outputs": [
        {
          "output_type": "stream",
          "name": "stdout",
          "text": [
            "Correct! You earned 4/4 points. You are a star!\n",
            "\n",
            "Your submission has been successfully recorded in the gradebook.\n"
          ]
        }
      ],
      "source": [
        "# Grader cell (4 points)\n",
        "grader.grade(test_case_id = 'train_test_split_regression', answer = (X_train.shape, X_test.shape,\n",
        "                                                                     y_train.shape, y_test.shape,\n",
        "                                                                     seed, len([i for i in y_test if i < 100])))"
      ]
    },
    {
      "cell_type": "markdown",
      "metadata": {
        "id": "NGlb6tnNcKO-"
      },
      "source": [
        "### **1.4.3.1** Regression Models\n",
        "\n",
        "In this section, we will switch from classification models to regression models.\n",
        "\n",
        "Let's use the features we created in 1.4.3.0 to create regression models and predict the **average price per room**."
      ]
    },
    {
      "cell_type": "markdown",
      "metadata": {
        "id": "kS06q6k8UosE"
      },
      "source": [
        "#### (a) Linear Regression (Unregularized) [5 pts]\n",
        "\n",
        "Use the `LinearRegression` class in scikit-learn to perform Linear Regression. Initialize a Linear regression model named `reg` with default parameters, fit the model to the training set, and then make predictions on the testing set.\n",
        "\n",
        "Save your predictions in an array named `y_pred`, and report your R-squared score (saved it as a variable called `lin_reg_score`)."
      ]
    },
    {
      "cell_type": "code",
      "execution_count": 54,
      "metadata": {
        "id": "6PCTGcGEokY2"
      },
      "outputs": [],
      "source": [
        "# TO-DO: Import required libraries\n",
        "from sklearn.linear_model import LinearRegression\n",
        "\n",
        "# TO-DO: Initialize model with default parameters and fit it on the training set\n",
        "reg = LinearRegression()\n",
        "reg.fit(X_train, y_train)\n",
        "\n",
        "# TO-DO: Use the model to predict on the test set and save these predictions as `y_pred`\n",
        "y_pred = reg.predict(X_test)\n",
        "\n",
        "# TO-DO: Find the R-squared score and store the value in `lin_reg_score`\n",
        "lin_reg_score = reg.score(X_test, y_test)"
      ]
    },
    {
      "cell_type": "code",
      "execution_count": 55,
      "metadata": {
        "id": "YCABLR7TokV4",
        "colab": {
          "base_uri": "https://localhost:8080/"
        },
        "outputId": "a0087008-98d8-45db-be0b-f08f9388c69b"
      },
      "outputs": [
        {
          "output_type": "stream",
          "name": "stdout",
          "text": [
            "Correct! You earned 5/5 points. You are a star!\n",
            "\n",
            "Your submission has been successfully recorded in the gradebook.\n"
          ]
        }
      ],
      "source": [
        "# Grader (5 points)\n",
        "grader.grade(test_case_id = 'check_linear_reg', answer = (lin_reg_score, reg.coef_, reg.intercept_))"
      ]
    },
    {
      "cell_type": "markdown",
      "metadata": {
        "id": "G7EV4dpDcKO_"
      },
      "source": [
        "#### (b) Ridge Regression [2 pts]\n",
        "\n",
        "Use the `Ridge` class in scikit-learn to perform $L_2$ Regularized Linear Regression. Initialize a Ridge regression model named `reg_ridge` with regularization strength `alpha = 10`, fit the model to the training set, and then make predictions on the testing set.\n",
        "\n",
        "**Note:** Recall that Ridge regression is not scale-invariant, so you will need to standardize the features prior to modeling.\n",
        "\n",
        "Report your $R^2$ score and save it as a variable called `ridge_score`."
      ]
    },
    {
      "cell_type": "code",
      "execution_count": 56,
      "metadata": {
        "id": "pUi11tA3zCUe"
      },
      "outputs": [],
      "source": [
        "# TO-DO: Intermediate step to address scale-invariance\n",
        "scaler = StandardScaler()\n",
        "X_train_scaled = scaler.fit_transform(X_train)\n",
        "X_test_scaled = scaler.transform(X_test)"
      ]
    },
    {
      "cell_type": "code",
      "execution_count": 57,
      "metadata": {
        "id": "tng1e7myy9gn",
        "colab": {
          "base_uri": "https://localhost:8080/"
        },
        "outputId": "c8d5a669-6b9c-46cf-8240-36fbf819a2b1"
      },
      "outputs": [
        {
          "output_type": "stream",
          "name": "stdout",
          "text": [
            "0.45068420345432947\n"
          ]
        }
      ],
      "source": [
        "# TO-DO: Import required libraries\n",
        "from sklearn.linear_model import Ridge\n",
        "\n",
        "# TO-DO: Initialize model with alpha = 10 (keep other hyperparameters as default values) and fit it on the training set\n",
        "reg_ridge = Ridge(alpha=10)\n",
        "reg_ridge.fit(X_train_scaled, y_train)\n",
        "\n",
        "# TO-DO: Use the model to predict on the test set and save these predictions as `y_pred`\n",
        "y_pred = reg_ridge.predict(X_test_scaled)\n",
        "\n",
        "# TO-DO: Find the R-squared score and store the value in `ridge_score`\n",
        "ridge_score = reg_ridge.score(X_test_scaled, y_test)\n",
        "print(ridge_score)"
      ]
    },
    {
      "cell_type": "code",
      "execution_count": 58,
      "metadata": {
        "id": "ytmTMU7Z0jxo",
        "colab": {
          "base_uri": "https://localhost:8080/"
        },
        "outputId": "e05d7c9e-d8a8-4ea5-e4dd-3a812437b177"
      },
      "outputs": [
        {
          "output_type": "stream",
          "name": "stdout",
          "text": [
            "Correct! You earned 2/2 points. You are a star!\n",
            "\n",
            "Your submission has been successfully recorded in the gradebook.\n"
          ]
        }
      ],
      "source": [
        "# Grader (2 points)\n",
        "grader.grade(test_case_id = 'check_ridge_reg', answer = (ridge_score, reg_ridge.alpha))"
      ]
    },
    {
      "cell_type": "markdown",
      "metadata": {
        "id": "A1Cl9DePQzfq"
      },
      "source": [
        "_**Exam-Style Practice Questions:**_\n",
        "\n",
        "_(While we will NOT grade this for the purpose of the HW, it is in your best interest to take just 30-60 seconds to think about this as I may very well put something similar in the final exam!_ 😉_)_\n",
        "\n",
        "- What do you notice about the $R^2$ scores of the Ridge and unregularized Linear Regression above?\n",
        "- If Ridge is supposed to \"improve\" Linear Regression, we may find it unusual if that is not happening here. Under what circumstances would we consider using Ridge over unregularized Linear Regression?\n",
        "- Would you expect different results if we made `alpha` bigger ($\\alpha \\rightarrow \\infty$)? smaller ($\\alpha \\rightarrow 0$)? Why or why not?"
      ]
    },
    {
      "cell_type": "markdown",
      "metadata": {
        "id": "dRb_Kzn1pZBD"
      },
      "source": [
        "#### (c) Random Forest Regression [3 pts]\n",
        "\n",
        "From the results of linear regression and ridge linear regression, we see a linear model may not be ideal for this regression problem. We want a model that can capture the complex relationship between the target variable and the features. Fortunately, we have access to ensemble methods, which combine multiple simple models to improve performance. We will explore the bagging algorithm called Random Forest Regressor using scikit-learn.\n",
        "\n",
        "Use the `RandomForestRegressor` class in Scikit-learn's ensemble library to perform Random Forest Regression. Initialize a Random Forest regression model named `reg_rf`, fit the model to the training set, and then make predictions on the testing set.\n",
        "\n",
        "Report your R-squared score and save it as a variable called `rfr_score`, set random state to 42"
      ]
    },
    {
      "cell_type": "code",
      "execution_count": 59,
      "metadata": {
        "id": "zSqhgdjqokTa",
        "colab": {
          "base_uri": "https://localhost:8080/"
        },
        "outputId": "2a61a36d-5a24-464e-943b-3d6145595c67"
      },
      "outputs": [
        {
          "output_type": "stream",
          "name": "stdout",
          "text": [
            "0.5902593425828757\n"
          ]
        }
      ],
      "source": [
        "# TO-DO: Import required libraries\n",
        "from sklearn.ensemble import RandomForestRegressor\n",
        "\n",
        "# TO-DO: Initialize model with default parameters and fit it on the training set\n",
        "reg_rf = RandomForestRegressor(random_state=42)\n",
        "reg_rf.fit(X_train, y_train)\n",
        "\n",
        "# TO-DO: Use the model to predict on the test set and save these predictions as `y_pred`\n",
        "y_pred = reg_rf.predict(X_test)\n",
        "# TO-DO: Find the R-squared score and store the value in `rfr_score`\n",
        "rfr_score = reg_rf.score(X_test, y_test)\n",
        "print(rfr_score)"
      ]
    },
    {
      "cell_type": "code",
      "execution_count": 60,
      "metadata": {
        "id": "vkJoI5QTpID8",
        "colab": {
          "base_uri": "https://localhost:8080/"
        },
        "outputId": "5438d7e4-922c-489b-a37a-05c4b306de0c"
      },
      "outputs": [
        {
          "output_type": "stream",
          "name": "stdout",
          "text": [
            "Correct! You earned 3/3 points. You are a star!\n",
            "\n",
            "Your submission has been successfully recorded in the gradebook.\n"
          ]
        }
      ],
      "source": [
        "# Grader (3 points)\n",
        "\n",
        "grader.grade(test_case_id = 'check_rf_reg', answer = (rfr_score, reg_rf.feature_names_in_, reg_rf.n_outputs_, y_pred))"
      ]
    },
    {
      "cell_type": "markdown",
      "metadata": {
        "id": "iX1UkLEjk7U_"
      },
      "source": [
        "### **1.4.4** K-Means Clustering\n",
        "\n",
        "K-means clustering is a popular unsupervised machine learning algorithm that is used for grouping similar data points into a predetermined number of clusters. It is a simple and effective algorithm that is widely used in various fields such as image processing, recommendation systems, and customer segmentation.\n",
        "\n",
        "An elbow plot is a visualization tool used to determine the optimal number of clusters for a dataset. It plots the within-cluster sum of squares (WCSS) against the number of clusters. WCSS is the sum of the squared distance between each data point and its assigned centroid. The elbow plot helps you to choose the number of clusters that minimize the WCSS while avoiding overfitting.\n",
        "\n",
        "Please refer to [this document](https://scikit-learn.org/stable/modules/generated/sklearn.cluster.KMeans.html) to find out how to compute the sum of squared distances\n",
        "\n",
        "**We will be using the same features from the <ins>classification</ins> setting.\n",
        "To determine the best $k$ for the clustering, let's firstly generate an elbow plot.**\n",
        "- Consider number of clusters from 2 to 10\n",
        "- Set parameter `n_init` to 5.\n",
        "- Set random seed to 0\n",
        "\n",
        "**The elbow plot (4 points) will be manully graded**\n",
        "- x-axis is the \"number of clusters\", i.e. \"k\".\n",
        "- y-axis is the within-cluster sum of squares (WCSS) value\n",
        "- add proper titles for the plot and axis.\n",
        "\n",
        "Note that standardizing the data before performing k-means clustering is often recommended, but for illustration purpose, we do not standardize the input in this section."
      ]
    },
    {
      "cell_type": "markdown",
      "metadata": {
        "id": "nTF8RcWHtJf1"
      },
      "source": [
        "#### (a) Find the best number of clusters with the elbow plot [4 + 3 pts]"
      ]
    },
    {
      "cell_type": "code",
      "execution_count": 61,
      "metadata": {
        "id": "XXEC7Ab9k_4W"
      },
      "outputs": [],
      "source": [
        "# TO-DO: Prepare the data (the same features from the classification setting, i.e. excluding \"booking_status\")\n",
        "# stores features dataframe into variable called \"features\"\n",
        "features = encoded_df_reservations.drop(columns=['booking_status'])"
      ]
    },
    {
      "cell_type": "code",
      "execution_count": 62,
      "metadata": {
        "id": "frRJFXs9m-NT",
        "colab": {
          "base_uri": "https://localhost:8080/",
          "height": 633
        },
        "outputId": "f2c3d84a-00b3-44c4-d1c6-9a4e3ab862a2"
      },
      "outputs": [
        {
          "output_type": "display_data",
          "data": {
            "text/plain": [
              "<Figure size 640x480 with 1 Axes>"
            ],
            "image/png": "[encoded data removed]"
          },
          "metadata": {}
        },
        {
          "output_type": "execute_result",
          "data": {
            "text/plain": [
              "[123995878.72177729,\n",
              " 83029184.28303207,\n",
              " 62709612.32620144,\n",
              " 48493388.95942356,\n",
              " 43267943.39764039,\n",
              " 38649418.91566259,\n",
              " 34690777.44555251,\n",
              " 31096635.352718398,\n",
              " 28245474.733297043]"
            ]
          },
          "metadata": {},
          "execution_count": 62
        }
      ],
      "source": [
        "# Import the necessary libraries\n",
        "from sklearn.cluster import KMeans\n",
        "\n",
        "# TO-DO: [MANUALLY GRADED: 4 points]\n",
        "#   for k ranges from 2 to 10, fit on \"features\" to generate an elbow plot\n",
        "seed = 0\n",
        "WCSS = []\n",
        "#WCSS is the sum of the squared distance between each data point and its assigned centroid.\n",
        "k_values = list(range(2,11))\n",
        "for k in k_values:\n",
        "    kmeans = KMeans(n_clusters=k, n_init=5, random_state= seed)\n",
        "    kmeans.fit(features)\n",
        "    WCSS.append(kmeans.inertia_)\n",
        "plt.plot(k_values, WCSS,marker='o')\n",
        "\n",
        "plt.xlabel('Number of clusters')\n",
        "plt.ylabel('WCSS ')\n",
        "plt.title('Elbow plot for KMeans Clustering')\n",
        "plt.grid(True)\n",
        "plt.show()\n",
        "WCSS"
      ]
    },
    {
      "cell_type": "code",
      "execution_count": 63,
      "metadata": {
        "id": "DMZqEOq7rW95",
        "colab": {
          "base_uri": "https://localhost:8080/"
        },
        "outputId": "cea9e94e-ef5c-4eec-b973-f006c24a8022"
      },
      "outputs": [
        {
          "output_type": "stream",
          "name": "stdout",
          "text": [
            "48493388.95942356\n"
          ]
        }
      ],
      "source": [
        "# TO-DO: choose the best number of clusters (the elbow) and fill in\n",
        "number_of_cluster = 5\n",
        "\n",
        "# TO-DO: fill in the sum of squared distances for the best number of clusters\n",
        "wcss_elbow = WCSS[3]\n",
        "print(wcss_elbow)"
      ]
    },
    {
      "cell_type": "code",
      "execution_count": 64,
      "metadata": {
        "id": "yAVyIyXssIuf",
        "colab": {
          "base_uri": "https://localhost:8080/"
        },
        "outputId": "afe7b65b-dc67-4455-b73f-8fd236019eb1"
      },
      "outputs": [
        {
          "output_type": "stream",
          "name": "stdout",
          "text": [
            "Correct! You earned 3/3 points. You are a star!\n",
            "\n",
            "Your submission has been successfully recorded in the gradebook.\n"
          ]
        }
      ],
      "source": [
        "# Grader (3 points)\n",
        "grader.grade(test_case_id = 'kmeans_elbow', answer = (number_of_cluster, wcss_elbow))"
      ]
    },
    {
      "cell_type": "markdown",
      "metadata": {
        "id": "EQLHFhzds7BC"
      },
      "source": [
        "#### (b) Re-fit with the best number of clusters [3 pts]"
      ]
    },
    {
      "cell_type": "code",
      "execution_count": 65,
      "metadata": {
        "id": "WUcjqzqxszye",
        "colab": {
          "base_uri": "https://localhost:8080/",
          "height": 80
        },
        "outputId": "333e7f0d-82d9-4e62-ab04-4c69929ff0dc"
      },
      "outputs": [
        {
          "output_type": "execute_result",
          "data": {
            "text/plain": [
              "KMeans(n_clusters=5, n_init=5, random_state=0)"
            ],
            "text/html": [
              "<style>#sk-container-id-2 {\n",
              "  /* Definition of color scheme common for light and dark mode */\n",
              "  --sklearn-color-text: black;\n",
              "  --sklearn-color-line: gray;\n",
              "  /* Definition of color scheme for unfitted estimators */\n",
              "  --sklearn-color-unfitted-level-0: #fff5e6;\n",
              "  --sklearn-color-unfitted-level-1: #f6e4d2;\n",
              "  --sklearn-color-unfitted-level-2: #ffe0b3;\n",
              "  --sklearn-color-unfitted-level-3: chocolate;\n",
              "  /* Definition of color scheme for fitted estimators */\n",
              "  --sklearn-color-fitted-level-0: #f0f8ff;\n",
              "  --sklearn-color-fitted-level-1: #d4ebff;\n",
              "  --sklearn-color-fitted-level-2: #b3dbfd;\n",
              "  --sklearn-color-fitted-level-3: cornflowerblue;\n",
              "\n",
              "  /* Specific color for light theme */\n",
              "  --sklearn-color-text-on-default-background: var(--sg-text-color, var(--theme-code-foreground, var(--jp-content-font-color1, black)));\n",
              "  --sklearn-color-background: var(--sg-background-color, var(--theme-background, var(--jp-layout-color0, white)));\n",
              "  --sklearn-color-border-box: var(--sg-text-color, var(--theme-code-foreground, var(--jp-content-font-color1, black)));\n",
              "  --sklearn-color-icon: #696969;\n",
              "\n",
              "  @media (prefers-color-scheme: dark) {\n",
              "    /* Redefinition of color scheme for dark theme */\n",
              "    --sklearn-color-text-on-default-background: var(--sg-text-color, var(--theme-code-foreground, var(--jp-content-font-color1, white)));\n",
              "    --sklearn-color-background: var(--sg-background-color, var(--theme-background, var(--jp-layout-color0, #111)));\n",
              "    --sklearn-color-border-box: var(--sg-text-color, var(--theme-code-foreground, var(--jp-content-font-color1, white)));\n",
              "    --sklearn-color-icon: #878787;\n",
              "  }\n",
              "}\n",
              "\n",
              "#sk-container-id-2 {\n",
              "  color: var(--sklearn-color-text);\n",
              "}\n",
              "\n",
              "#sk-container-id-2 pre {\n",
              "  padding: 0;\n",
              "}\n",
              "\n",
              "#sk-container-id-2 input.sk-hidden--visually {\n",
              "  border: 0;\n",
              "  clip: rect(1px 1px 1px 1px);\n",
              "  clip: rect(1px, 1px, 1px, 1px);\n",
              "  height: 1px;\n",
              "  margin: -1px;\n",
              "  overflow: hidden;\n",
              "  padding: 0;\n",
              "  position: absolute;\n",
              "  width: 1px;\n",
              "}\n",
              "\n",
              "#sk-container-id-2 div.sk-dashed-wrapped {\n",
              "  border: 1px dashed var(--sklearn-color-line);\n",
              "  margin: 0 0.4em 0.5em 0.4em;\n",
              "  box-sizing: border-box;\n",
              "  padding-bottom: 0.4em;\n",
              "  background-color: var(--sklearn-color-background);\n",
              "}\n",
              "\n",
              "#sk-container-id-2 div.sk-container {\n",
              "  /* jupyter's `normalize.less` sets `[hidden] { display: none; }`\n",
              "     but bootstrap.min.css set `[hidden] { display: none !important; }`\n",
              "     so we also need the `!important` here to be able to override the\n",
              "     default hidden behavior on the sphinx rendered scikit-learn.org.\n",
              "     See: https://github.com/scikit-learn/scikit-learn/issues/21755 */\n",
              "  display: inline-block !important;\n",
              "  position: relative;\n",
              "}\n",
              "\n",
              "#sk-container-id-2 div.sk-text-repr-fallback {\n",
              "  display: none;\n",
              "}\n",
              "\n",
              "div.sk-parallel-item,\n",
              "div.sk-serial,\n",
              "div.sk-item {\n",
              "  /* draw centered vertical line to link estimators */\n",
              "  background-image: linear-gradient(var(--sklearn-color-text-on-default-background), var(--sklearn-color-text-on-default-background));\n",
              "  background-size: 2px 100%;\n",
              "  background-repeat: no-repeat;\n",
              "  background-position: center center;\n",
              "}\n",
              "\n",
              "/* Parallel-specific style estimator block */\n",
              "\n",
              "#sk-container-id-2 div.sk-parallel-item::after {\n",
              "  content: \"\";\n",
              "  width: 100%;\n",
              "  border-bottom: 2px solid var(--sklearn-color-text-on-default-background);\n",
              "  flex-grow: 1;\n",
              "}\n",
              "\n",
              "#sk-container-id-2 div.sk-parallel {\n",
              "  display: flex;\n",
              "  align-items: stretch;\n",
              "  justify-content: center;\n",
              "  background-color: var(--sklearn-color-background);\n",
              "  position: relative;\n",
              "}\n",
              "\n",
              "#sk-container-id-2 div.sk-parallel-item {\n",
              "  display: flex;\n",
              "  flex-direction: column;\n",
              "}\n",
              "\n",
              "#sk-container-id-2 div.sk-parallel-item:first-child::after {\n",
              "  align-self: flex-end;\n",
              "  width: 50%;\n",
              "}\n",
              "\n",
              "#sk-container-id-2 div.sk-parallel-item:last-child::after {\n",
              "  align-self: flex-start;\n",
              "  width: 50%;\n",
              "}\n",
              "\n",
              "#sk-container-id-2 div.sk-parallel-item:only-child::after {\n",
              "  width: 0;\n",
              "}\n",
              "\n",
              "/* Serial-specific style estimator block */\n",
              "\n",
              "#sk-container-id-2 div.sk-serial {\n",
              "  display: flex;\n",
              "  flex-direction: column;\n",
              "  align-items: center;\n",
              "  background-color: var(--sklearn-color-background);\n",
              "  padding-right: 1em;\n",
              "  padding-left: 1em;\n",
              "}\n",
              "\n",
              "\n",
              "/* Toggleable style: style used for estimator/Pipeline/ColumnTransformer box that is\n",
              "clickable and can be expanded/collapsed.\n",
              "- Pipeline and ColumnTransformer use this feature and define the default style\n",
              "- Estimators will overwrite some part of the style using the `sk-estimator` class\n",
              "*/\n",
              "\n",
              "/* Pipeline and ColumnTransformer style (default) */\n",
              "\n",
              "#sk-container-id-2 div.sk-toggleable {\n",
              "  /* Default theme specific background. It is overwritten whether we have a\n",
              "  specific estimator or a Pipeline/ColumnTransformer */\n",
              "  background-color: var(--sklearn-color-background);\n",
              "}\n",
              "\n",
              "/* Toggleable label */\n",
              "#sk-container-id-2 label.sk-toggleable__label {\n",
              "  cursor: pointer;\n",
              "  display: block;\n",
              "  width: 100%;\n",
              "  margin-bottom: 0;\n",
              "  padding: 0.5em;\n",
              "  box-sizing: border-box;\n",
              "  text-align: center;\n",
              "}\n",
              "\n",
              "#sk-container-id-2 label.sk-toggleable__label-arrow:before {\n",
              "  /* Arrow on the left of the label */\n",
              "  content: \"▸\";\n",
              "  float: left;\n",
              "  margin-right: 0.25em;\n",
              "  color: var(--sklearn-color-icon);\n",
              "}\n",
              "\n",
              "#sk-container-id-2 label.sk-toggleable__label-arrow:hover:before {\n",
              "  color: var(--sklearn-color-text);\n",
              "}\n",
              "\n",
              "/* Toggleable content - dropdown */\n",
              "\n",
              "#sk-container-id-2 div.sk-toggleable__content {\n",
              "  max-height: 0;\n",
              "  max-width: 0;\n",
              "  overflow: hidden;\n",
              "  text-align: left;\n",
              "  /* unfitted */\n",
              "  background-color: var(--sklearn-color-unfitted-level-0);\n",
              "}\n",
              "\n",
              "#sk-container-id-2 div.sk-toggleable__content.fitted {\n",
              "  /* fitted */\n",
              "  background-color: var(--sklearn-color-fitted-level-0);\n",
              "}\n",
              "\n",
              "#sk-container-id-2 div.sk-toggleable__content pre {\n",
              "  margin: 0.2em;\n",
              "  border-radius: 0.25em;\n",
              "  color: var(--sklearn-color-text);\n",
              "  /* unfitted */\n",
              "  background-color: var(--sklearn-color-unfitted-level-0);\n",
              "}\n",
              "\n",
              "#sk-container-id-2 div.sk-toggleable__content.fitted pre {\n",
              "  /* unfitted */\n",
              "  background-color: var(--sklearn-color-fitted-level-0);\n",
              "}\n",
              "\n",
              "#sk-container-id-2 input.sk-toggleable__control:checked~div.sk-toggleable__content {\n",
              "  /* Expand drop-down */\n",
              "  max-height: 200px;\n",
              "  max-width: 100%;\n",
              "  overflow: auto;\n",
              "}\n",
              "\n",
              "#sk-container-id-2 input.sk-toggleable__control:checked~label.sk-toggleable__label-arrow:before {\n",
              "  content: \"▾\";\n",
              "}\n",
              "\n",
              "/* Pipeline/ColumnTransformer-specific style */\n",
              "\n",
              "#sk-container-id-2 div.sk-label input.sk-toggleable__control:checked~label.sk-toggleable__label {\n",
              "  color: var(--sklearn-color-text);\n",
              "  background-color: var(--sklearn-color-unfitted-level-2);\n",
              "}\n",
              "\n",
              "#sk-container-id-2 div.sk-label.fitted input.sk-toggleable__control:checked~label.sk-toggleable__label {\n",
              "  background-color: var(--sklearn-color-fitted-level-2);\n",
              "}\n",
              "\n",
              "/* Estimator-specific style */\n",
              "\n",
              "/* Colorize estimator box */\n",
              "#sk-container-id-2 div.sk-estimator input.sk-toggleable__control:checked~label.sk-toggleable__label {\n",
              "  /* unfitted */\n",
              "  background-color: var(--sklearn-color-unfitted-level-2);\n",
              "}\n",
              "\n",
              "#sk-container-id-2 div.sk-estimator.fitted input.sk-toggleable__control:checked~label.sk-toggleable__label {\n",
              "  /* fitted */\n",
              "  background-color: var(--sklearn-color-fitted-level-2);\n",
              "}\n",
              "\n",
              "#sk-container-id-2 div.sk-label label.sk-toggleable__label,\n",
              "#sk-container-id-2 div.sk-label label {\n",
              "  /* The background is the default theme color */\n",
              "  color: var(--sklearn-color-text-on-default-background);\n",
              "}\n",
              "\n",
              "/* On hover, darken the color of the background */\n",
              "#sk-container-id-2 div.sk-label:hover label.sk-toggleable__label {\n",
              "  color: var(--sklearn-color-text);\n",
              "  background-color: var(--sklearn-color-unfitted-level-2);\n",
              "}\n",
              "\n",
              "/* Label box, darken color on hover, fitted */\n",
              "#sk-container-id-2 div.sk-label.fitted:hover label.sk-toggleable__label.fitted {\n",
              "  color: var(--sklearn-color-text);\n",
              "  background-color: var(--sklearn-color-fitted-level-2);\n",
              "}\n",
              "\n",
              "/* Estimator label */\n",
              "\n",
              "#sk-container-id-2 div.sk-label label {\n",
              "  font-family: monospace;\n",
              "  font-weight: bold;\n",
              "  display: inline-block;\n",
              "  line-height: 1.2em;\n",
              "}\n",
              "\n",
              "#sk-container-id-2 div.sk-label-container {\n",
              "  text-align: center;\n",
              "}\n",
              "\n",
              "/* Estimator-specific */\n",
              "#sk-container-id-2 div.sk-estimator {\n",
              "  font-family: monospace;\n",
              "  border: 1px dotted var(--sklearn-color-border-box);\n",
              "  border-radius: 0.25em;\n",
              "  box-sizing: border-box;\n",
              "  margin-bottom: 0.5em;\n",
              "  /* unfitted */\n",
              "  background-color: var(--sklearn-color-unfitted-level-0);\n",
              "}\n",
              "\n",
              "#sk-container-id-2 div.sk-estimator.fitted {\n",
              "  /* fitted */\n",
              "  background-color: var(--sklearn-color-fitted-level-0);\n",
              "}\n",
              "\n",
              "/* on hover */\n",
              "#sk-container-id-2 div.sk-estimator:hover {\n",
              "  /* unfitted */\n",
              "  background-color: var(--sklearn-color-unfitted-level-2);\n",
              "}\n",
              "\n",
              "#sk-container-id-2 div.sk-estimator.fitted:hover {\n",
              "  /* fitted */\n",
              "  background-color: var(--sklearn-color-fitted-level-2);\n",
              "}\n",
              "\n",
              "/* Specification for estimator info (e.g. \"i\" and \"?\") */\n",
              "\n",
              "/* Common style for \"i\" and \"?\" */\n",
              "\n",
              ".sk-estimator-doc-link,\n",
              "a:link.sk-estimator-doc-link,\n",
              "a:visited.sk-estimator-doc-link {\n",
              "  float: right;\n",
              "  font-size: smaller;\n",
              "  line-height: 1em;\n",
              "  font-family: monospace;\n",
              "  background-color: var(--sklearn-color-background);\n",
              "  border-radius: 1em;\n",
              "  height: 1em;\n",
              "  width: 1em;\n",
              "  text-decoration: none !important;\n",
              "  margin-left: 1ex;\n",
              "  /* unfitted */\n",
              "  border: var(--sklearn-color-unfitted-level-1) 1pt solid;\n",
              "  color: var(--sklearn-color-unfitted-level-1);\n",
              "}\n",
              "\n",
              ".sk-estimator-doc-link.fitted,\n",
              "a:link.sk-estimator-doc-link.fitted,\n",
              "a:visited.sk-estimator-doc-link.fitted {\n",
              "  /* fitted */\n",
              "  border: var(--sklearn-color-fitted-level-1) 1pt solid;\n",
              "  color: var(--sklearn-color-fitted-level-1);\n",
              "}\n",
              "\n",
              "/* On hover */\n",
              "div.sk-estimator:hover .sk-estimator-doc-link:hover,\n",
              ".sk-estimator-doc-link:hover,\n",
              "div.sk-label-container:hover .sk-estimator-doc-link:hover,\n",
              ".sk-estimator-doc-link:hover {\n",
              "  /* unfitted */\n",
              "  background-color: var(--sklearn-color-unfitted-level-3);\n",
              "  color: var(--sklearn-color-background);\n",
              "  text-decoration: none;\n",
              "}\n",
              "\n",
              "div.sk-estimator.fitted:hover .sk-estimator-doc-link.fitted:hover,\n",
              ".sk-estimator-doc-link.fitted:hover,\n",
              "div.sk-label-container:hover .sk-estimator-doc-link.fitted:hover,\n",
              ".sk-estimator-doc-link.fitted:hover {\n",
              "  /* fitted */\n",
              "  background-color: var(--sklearn-color-fitted-level-3);\n",
              "  color: var(--sklearn-color-background);\n",
              "  text-decoration: none;\n",
              "}\n",
              "\n",
              "/* Span, style for the box shown on hovering the info icon */\n",
              ".sk-estimator-doc-link span {\n",
              "  display: none;\n",
              "  z-index: 9999;\n",
              "  position: relative;\n",
              "  font-weight: normal;\n",
              "  right: .2ex;\n",
              "  padding: .5ex;\n",
              "  margin: .5ex;\n",
              "  width: min-content;\n",
              "  min-width: 20ex;\n",
              "  max-width: 50ex;\n",
              "  color: var(--sklearn-color-text);\n",
              "  box-shadow: 2pt 2pt 4pt #999;\n",
              "  /* unfitted */\n",
              "  background: var(--sklearn-color-unfitted-level-0);\n",
              "  border: .5pt solid var(--sklearn-color-unfitted-level-3);\n",
              "}\n",
              "\n",
              ".sk-estimator-doc-link.fitted span {\n",
              "  /* fitted */\n",
              "  background: var(--sklearn-color-fitted-level-0);\n",
              "  border: var(--sklearn-color-fitted-level-3);\n",
              "}\n",
              "\n",
              ".sk-estimator-doc-link:hover span {\n",
              "  display: block;\n",
              "}\n",
              "\n",
              "/* \"?\"-specific style due to the `<a>` HTML tag */\n",
              "\n",
              "#sk-container-id-2 a.estimator_doc_link {\n",
              "  float: right;\n",
              "  font-size: 1rem;\n",
              "  line-height: 1em;\n",
              "  font-family: monospace;\n",
              "  background-color: var(--sklearn-color-background);\n",
              "  border-radius: 1rem;\n",
              "  height: 1rem;\n",
              "  width: 1rem;\n",
              "  text-decoration: none;\n",
              "  /* unfitted */\n",
              "  color: var(--sklearn-color-unfitted-level-1);\n",
              "  border: var(--sklearn-color-unfitted-level-1) 1pt solid;\n",
              "}\n",
              "\n",
              "#sk-container-id-2 a.estimator_doc_link.fitted {\n",
              "  /* fitted */\n",
              "  border: var(--sklearn-color-fitted-level-1) 1pt solid;\n",
              "  color: var(--sklearn-color-fitted-level-1);\n",
              "}\n",
              "\n",
              "/* On hover */\n",
              "#sk-container-id-2 a.estimator_doc_link:hover {\n",
              "  /* unfitted */\n",
              "  background-color: var(--sklearn-color-unfitted-level-3);\n",
              "  color: var(--sklearn-color-background);\n",
              "  text-decoration: none;\n",
              "}\n",
              "\n",
              "#sk-container-id-2 a.estimator_doc_link.fitted:hover {\n",
              "  /* fitted */\n",
              "  background-color: var(--sklearn-color-fitted-level-3);\n",
              "}\n",
              "</style><div id=\"sk-container-id-2\" class=\"sk-top-container\"><div class=\"sk-text-repr-fallback\"><pre>KMeans(n_clusters=5, n_init=5, random_state=0)</pre><b>In a Jupyter environment, please rerun this cell to show the HTML representation or trust the notebook. <br />On GitHub, the HTML representation is unable to render, please try loading this page with nbviewer.org.</b></div><div class=\"sk-container\" hidden><div class=\"sk-item\"><div class=\"sk-estimator fitted sk-toggleable\"><input class=\"sk-toggleable__control sk-hidden--visually\" id=\"sk-estimator-id-2\" type=\"checkbox\" checked><label for=\"sk-estimator-id-2\" class=\"sk-toggleable__label fitted sk-toggleable__label-arrow fitted\">&nbsp;&nbsp;KMeans<a class=\"sk-estimator-doc-link fitted\" rel=\"noreferrer\" target=\"_blank\" href=\"https://scikit-learn.org/1.5/modules/generated/sklearn.cluster.KMeans.html\">?<span>Documentation for KMeans</span></a><span class=\"sk-estimator-doc-link fitted\">i<span>Fitted</span></span></label><div class=\"sk-toggleable__content fitted\"><pre>KMeans(n_clusters=5, n_init=5, random_state=0)</pre></div> </div></div></div></div>"
            ]
          },
          "metadata": {},
          "execution_count": 65
        }
      ],
      "source": [
        "# TO-DO: re-run the K-Means clustering with the best number of clusters, save the fitted model to `kmeans`\n",
        "kmeans = KMeans(n_clusters=number_of_cluster, n_init=5, random_state=seed)\n",
        "kmeans.fit(features)"
      ]
    },
    {
      "cell_type": "code",
      "execution_count": 66,
      "metadata": {
        "id": "vF9gZHL6tkuo",
        "colab": {
          "base_uri": "https://localhost:8080/"
        },
        "outputId": "6b20bef1-bf6d-4125-8edc-d82e5daab49b"
      },
      "outputs": [
        {
          "output_type": "stream",
          "name": "stdout",
          "text": [
            "Correct! You earned 3/3 points. You are a star!\n",
            "\n",
            "Your submission has been successfully recorded in the gradebook.\n"
          ]
        }
      ],
      "source": [
        "# Grader (3 points)\n",
        "grader.grade(test_case_id = 'refit_kmeans', answer = (Counter(kmeans.labels_), kmeans.n_features_in_))"
      ]
    },
    {
      "cell_type": "markdown",
      "metadata": {
        "id": "nyURjOkMcKPD"
      },
      "source": [
        "# **Part II:** Distributed Machine Learning with Spark (35  points)\n",
        "\n",
        "Apache Spark ML is a machine learning library that consists of common learning algorithms and utilities, including classification, regression, clustering, collaborative filtering, dimensionality reduction, and underlying optimization primitives.\n",
        "\n",
        "**Why Spark ML?**\n",
        "\n",
        "Moving to the Big Data Era requires heavy iterative computations on very large datasets. Standard implementations of machine learning algorithms require very powerful machines to be able to run. However, depending on high-end machines is not advantageous due to their high price and improper costs of scaling up. The idea of using distributed computing engines is to distribute the calculations to multiple low-end machines (commodity hardware) instead of a single high-end one. _This **definitely speeds up** the learning phase and allows us to create better models._\n",
        "\n",
        "Read more about it with the python documentation **[here](https://spark.apache.org/docs/latest/ml-guide.html)**.\n",
        "\n",
        "Run the code below to set up Spark.\n",
        "\n",
        "## _PENALTY WARNING_:\n",
        "We will very carefully go through the code in your notebook for this HW. Any student caught trying anything devious like using sklearn to avoid using SparkML in this section will get a **ZERO**."
      ]
    },
    {
      "cell_type": "markdown",
      "metadata": {
        "id": "PY9ShBxkOQT0"
      },
      "source": [
        "**Note:** The cell below may take upto **4-5 minutes** to run so be patient!"
      ]
    },
    {
      "cell_type": "code",
      "execution_count": 67,
      "metadata": {
        "id": "9Eo8fwt8OcMa"
      },
      "outputs": [],
      "source": [
        "%%capture\n",
        "\n",
        "!apt install libkrb5-dev\n",
        "!wget https://downloads.apache.org/spark/spark-3.1.2/spark-3.1.2-bin-hadoop3.2.tgz\n",
        "!tar xf spark-3.1.2-bin-hadoop3.2.tgz\n",
        "!pip install findspark\n",
        "!pip install sparkmagic\n",
        "!pip install pyspark\n",
        "! pip install pyspark --user\n",
        "! pip install seaborn --user\n",
        "! pip install plotly --user\n",
        "! pip install imageio --user\n",
        "! pip install folium --user"
      ]
    },
    {
      "cell_type": "code",
      "execution_count": 68,
      "metadata": {
        "id": "lwqTpkc3Ogz3",
        "colab": {
          "base_uri": "https://localhost:8080/"
        },
        "outputId": "a8c15156-51d9-4283-c8ef-7bb6eaded65f"
      },
      "outputs": [
        {
          "output_type": "stream",
          "name": "stderr",
          "text": [
            "/usr/local/lib/python3.10/dist-packages/pyspark/sql/context.py:113: FutureWarning: Deprecated in 3.0.0. Use SparkSession.builder.getOrCreate() instead.\n",
            "  warnings.warn(\n"
          ]
        }
      ],
      "source": [
        "import pyspark\n",
        "from pyspark.sql import SQLContext\n",
        "from pyspark.sql import SparkSession\n",
        "from pyspark.sql.types import *\n",
        "import pyspark.sql.functions as F\n",
        "\n",
        "spark = SparkSession.builder.appName('bigdata-hw4').getOrCreate()\n",
        "sqlContext = SQLContext(spark)"
      ]
    },
    {
      "cell_type": "code",
      "execution_count": 69,
      "metadata": {
        "id": "WAjmBWz7Oqs0"
      },
      "outputs": [],
      "source": [
        "%load_ext sparkmagic.magics"
      ]
    },
    {
      "cell_type": "code",
      "execution_count": 70,
      "metadata": {
        "id": "TfQ72cpUOr3l"
      },
      "outputs": [],
      "source": [
        "# Graph section\n",
        "import networkx as nx\n",
        "\n",
        "# SQLite RDBMS\n",
        "import sqlite3\n",
        "\n",
        "import os\n",
        "os.environ['SPARK_HOME'] = '/content/spark-3.1.2-bin-hadoop3.2'\n",
        "os.environ[\"JAVA_HOME\"] = \"/usr/lib/jvm/java-8-openjdk-amd64\""
      ]
    },
    {
      "cell_type": "markdown",
      "metadata": {
        "id": "6F4x_ia7RGyp"
      },
      "source": [
        "## **2.1** Initializing Spark Data [Total: 2 Points]\n",
        "\n",
        "We have the Spark setup ready, and we now need the data for our ML algorithms. We will use the data you processed in Part I, but in Spark."
      ]
    },
    {
      "cell_type": "markdown",
      "metadata": {
        "id": "WYTG07Kq4E82"
      },
      "source": [
        "### **2.1.0** Converting the Pandas Dataframe into a Spark Dataframe\n",
        "\n",
        "Read the `encoded_df_reservations` that you created in Part I into a Spark dataframe (`sdf`) and name the SDF as `reservations_sdf`. \\\\\n",
        "**Note:** Just like Part I, the target variable (label) for this section will be `\"booking_status\"`."
      ]
    },
    {
      "cell_type": "code",
      "execution_count": 71,
      "metadata": {
        "id": "UQtC3kw7rf1V",
        "collapsed": true
      },
      "outputs": [],
      "source": [
        "#TO-DO: Read encoded_df_reservations into a Spark Dataframe called reservations_sdf\n",
        "encoded_df_reservations.booking_status = encoded_df_reservations.booking_status.astype(float)\n",
        "reservations_sdf = spark.createDataFrame(encoded_df_reservations)\n"
      ]
    },
    {
      "cell_type": "code",
      "source": [
        "reservations_sdf.show(10)"
      ],
      "metadata": {
        "id": "itp8YToy7V2c",
        "outputId": "16b6da38-83d1-48ac-996c-7350dd01afa3",
        "colab": {
          "base_uri": "https://localhost:8080/"
        }
      },
      "execution_count": 72,
      "outputs": [
        {
          "output_type": "stream",
          "name": "stdout",
          "text": [
            "+------------+--------------+--------------------+-----------------+--------------------------+---------+------------+-------------+------------+--------------+----------------------------+------------------------------------+------------------+----------------------+--------------+-----------------------------+-----------------------------+-----------------------------+------------------------------+------------------------------+------------------------------+------------------------------+------------------------------+------------------------------+------------------------------+------------------------------+----------------------------+---------------------------------+-----------------------------+---------------------------+--------------------------+\n",
            "|no_of_adults|no_of_children|no_of_weekend_nights|no_of_week_nights|required_car_parking_space|lead_time|arrival_year|arrival_month|arrival_date|repeated_guest|no_of_previous_cancellations|no_of_previous_bookings_not_canceled|avg_price_per_room|no_of_special_requests|booking_status|type_of_meal_plan_Meal Plan 1|type_of_meal_plan_Meal Plan 2|type_of_meal_plan_Meal Plan 3|type_of_meal_plan_Not Selected|room_type_reserved_Room_Type 1|room_type_reserved_Room_Type 2|room_type_reserved_Room_Type 3|room_type_reserved_Room_Type 4|room_type_reserved_Room_Type 5|room_type_reserved_Room_Type 6|room_type_reserved_Room_Type 7|market_segment_type_Aviation|market_segment_type_Complementary|market_segment_type_Corporate|market_segment_type_Offline|market_segment_type_Online|\n",
            "+------------+--------------+--------------------+-----------------+--------------------------+---------+------------+-------------+------------+--------------+----------------------------+------------------------------------+------------------+----------------------+--------------+-----------------------------+-----------------------------+-----------------------------+------------------------------+------------------------------+------------------------------+------------------------------+------------------------------+------------------------------+------------------------------+------------------------------+----------------------------+---------------------------------+-----------------------------+---------------------------+--------------------------+\n",
            "|           2|             0|                   1|                2|                         0|      224|        2017|           10|           2|             0|                           0|                                   0|              65.0|                     0|           0.0|                         true|                        false|                        false|                         false|                          true|                         false|                         false|                         false|                         false|                         false|                         false|                       false|                            false|                        false|                       true|                     false|\n",
            "|           2|             0|                   2|                3|                         0|        5|        2018|           11|           6|             0|                           0|                                   0|            106.68|                     1|           0.0|                        false|                        false|                        false|                          true|                          true|                         false|                         false|                         false|                         false|                         false|                         false|                       false|                            false|                        false|                      false|                      true|\n",
            "|           1|             0|                   2|                1|                         0|        1|        2018|            2|          28|             0|                           0|                                   0|              60.0|                     0|           1.0|                         true|                        false|                        false|                         false|                          true|                         false|                         false|                         false|                         false|                         false|                         false|                       false|                            false|                        false|                      false|                      true|\n",
            "|           2|             0|                   0|                2|                         0|      211|        2018|            5|          20|             0|                           0|                                   0|             100.0|                     0|           1.0|                         true|                        false|                        false|                         false|                          true|                         false|                         false|                         false|                         false|                         false|                         false|                       false|                            false|                        false|                      false|                      true|\n",
            "|           2|             0|                   1|                1|                         0|       48|        2018|            4|          11|             0|                           0|                                   0|              94.5|                     0|           1.0|                        false|                        false|                        false|                          true|                          true|                         false|                         false|                         false|                         false|                         false|                         false|                       false|                            false|                        false|                      false|                      true|\n",
            "|           2|             0|                   0|                2|                         0|      346|        2018|            9|          13|             0|                           0|                                   0|             115.0|                     1|           1.0|                        false|                         true|                        false|                         false|                          true|                         false|                         false|                         false|                         false|                         false|                         false|                       false|                            false|                        false|                      false|                      true|\n",
            "|           2|             0|                   1|                3|                         0|       34|        2017|           10|          15|             0|                           0|                                   0|            107.55|                     1|           0.0|                         true|                        false|                        false|                         false|                          true|                         false|                         false|                         false|                         false|                         false|                         false|                       false|                            false|                        false|                      false|                      true|\n",
            "|           2|             0|                   1|                3|                         0|       83|        2018|           12|          26|             0|                           0|                                   0|            105.61|                     1|           0.0|                         true|                        false|                        false|                         false|                         false|                         false|                         false|                          true|                         false|                         false|                         false|                       false|                            false|                        false|                      false|                      true|\n",
            "|           3|             0|                   0|                4|                         0|      121|        2018|            7|           6|             0|                           0|                                   0|              96.9|                     1|           0.0|                         true|                        false|                        false|                         false|                          true|                         false|                         false|                         false|                         false|                         false|                         false|                       false|                            false|                        false|                       true|                     false|\n",
            "|           2|             0|                   0|                5|                         0|       44|        2018|           10|          18|             0|                           0|                                   0|            133.44|                     3|           0.0|                         true|                        false|                        false|                         false|                         false|                         false|                         false|                          true|                         false|                         false|                         false|                       false|                            false|                        false|                      false|                      true|\n",
            "+------------+--------------+--------------------+-----------------+--------------------------+---------+------------+-------------+------------+--------------+----------------------------+------------------------------------+------------------+----------------------+--------------+-----------------------------+-----------------------------+-----------------------------+------------------------------+------------------------------+------------------------------+------------------------------+------------------------------+------------------------------+------------------------------+------------------------------+----------------------------+---------------------------------+-----------------------------+---------------------------+--------------------------+\n",
            "only showing top 10 rows\n",
            "\n"
          ]
        }
      ]
    },
    {
      "cell_type": "markdown",
      "metadata": {
        "id": "ywmJD03O0Zas"
      },
      "source": [
        "Print out the Dataframe Schema and verify the datatypes. If you did everything correctly so far, the schema should be:\n",
        "```\n",
        "root\n",
        " |-- no_of_adults: long (nullable = true)\n",
        " |-- no_of_children: long (nullable = true)\n",
        " |-- no_of_weekend_nights: long (nullable = true)\n",
        " |-- no_of_week_nights: long (nullable = true)\n",
        " |-- required_car_parking_space: long (nullable = true)\n",
        " |-- lead_time: long (nullable = true)\n",
        " |-- arrival_year: long (nullable = true)\n",
        " |-- arrival_month: long (nullable = true)\n",
        " |-- arrival_date: long (nullable = true)\n",
        " |-- repeated_guest: long (nullable = true)\n",
        " |-- no_of_previous_cancellations: long (nullable = true)\n",
        " |-- no_of_previous_bookings_not_canceled: long (nullable = true)\n",
        " |-- avg_price_per_room: double (nullable = true)\n",
        " |-- no_of_special_requests: long (nullable = true)\n",
        " |-- booking_status: double (nullable = true)\n",
        " |-- type_of_meal_plan_Meal Plan 1: long (nullable = true)\n",
        " |-- type_of_meal_plan_Meal Plan 2: long (nullable = true)\n",
        " |-- type_of_meal_plan_Meal Plan 3: long (nullable = true)\n",
        " |-- type_of_meal_plan_Not Selected: long (nullable = true)\n",
        " |-- room_type_reserved_Room_Type 1: long (nullable = true)\n",
        " |-- room_type_reserved_Room_Type 2: long (nullable = true)\n",
        " |-- room_type_reserved_Room_Type 3: long (nullable = true)\n",
        " |-- room_type_reserved_Room_Type 4: long (nullable = true)\n",
        " |-- room_type_reserved_Room_Type 5: long (nullable = true)\n",
        " |-- room_type_reserved_Room_Type 6: long (nullable = true)\n",
        " |-- room_type_reserved_Room_Type 7: long (nullable = true)\n",
        " |-- market_segment_type_Aviation: long (nullable = true)\n",
        " |-- market_segment_type_Complementary: long (nullable = true)\n",
        " |-- market_segment_type_Corporate: long (nullable = true)\n",
        " |-- market_segment_type_Offline: long (nullable = true)\n",
        " |-- market_segment_type_Online: long (nullable = true)\n",
        "```\n",
        "\n",
        "**Note:** Especially ensure that the target variable is of the datatype `double`. Cast it to the correct datatype, if needed."
      ]
    },
    {
      "cell_type": "code",
      "execution_count": 73,
      "metadata": {
        "id": "URd9g_An0qVY",
        "colab": {
          "base_uri": "https://localhost:8080/"
        },
        "outputId": "fb78e828-1832-4578-f957-13699524d853"
      },
      "outputs": [
        {
          "output_type": "stream",
          "name": "stdout",
          "text": [
            "root\n",
            " |-- no_of_adults: long (nullable = true)\n",
            " |-- no_of_children: long (nullable = true)\n",
            " |-- no_of_weekend_nights: long (nullable = true)\n",
            " |-- no_of_week_nights: long (nullable = true)\n",
            " |-- required_car_parking_space: long (nullable = true)\n",
            " |-- lead_time: long (nullable = true)\n",
            " |-- arrival_year: long (nullable = true)\n",
            " |-- arrival_month: long (nullable = true)\n",
            " |-- arrival_date: long (nullable = true)\n",
            " |-- repeated_guest: long (nullable = true)\n",
            " |-- no_of_previous_cancellations: long (nullable = true)\n",
            " |-- no_of_previous_bookings_not_canceled: long (nullable = true)\n",
            " |-- avg_price_per_room: double (nullable = true)\n",
            " |-- no_of_special_requests: long (nullable = true)\n",
            " |-- booking_status: double (nullable = true)\n",
            " |-- type_of_meal_plan_Meal Plan 1: boolean (nullable = true)\n",
            " |-- type_of_meal_plan_Meal Plan 2: boolean (nullable = true)\n",
            " |-- type_of_meal_plan_Meal Plan 3: boolean (nullable = true)\n",
            " |-- type_of_meal_plan_Not Selected: boolean (nullable = true)\n",
            " |-- room_type_reserved_Room_Type 1: boolean (nullable = true)\n",
            " |-- room_type_reserved_Room_Type 2: boolean (nullable = true)\n",
            " |-- room_type_reserved_Room_Type 3: boolean (nullable = true)\n",
            " |-- room_type_reserved_Room_Type 4: boolean (nullable = true)\n",
            " |-- room_type_reserved_Room_Type 5: boolean (nullable = true)\n",
            " |-- room_type_reserved_Room_Type 6: boolean (nullable = true)\n",
            " |-- room_type_reserved_Room_Type 7: boolean (nullable = true)\n",
            " |-- market_segment_type_Aviation: boolean (nullable = true)\n",
            " |-- market_segment_type_Complementary: boolean (nullable = true)\n",
            " |-- market_segment_type_Corporate: boolean (nullable = true)\n",
            " |-- market_segment_type_Offline: boolean (nullable = true)\n",
            " |-- market_segment_type_Online: boolean (nullable = true)\n",
            "\n"
          ]
        }
      ],
      "source": [
        "# TO-DO: Verify that the schema of your Spark dataframe matches the above\n",
        "#        Make sure to double-check that the target variable i.e. booking_status is of type \"double\"\n",
        "reservations_sdf.printSchema()"
      ]
    },
    {
      "cell_type": "markdown",
      "metadata": {
        "id": "X3WUlDEv46rH"
      },
      "source": [
        "### **2.1.1** Setting Up a VectorAssembler\n",
        "\n",
        "Great! We have the processed data now. For Spark ML, we need to create a feature column which has all features concatenated as a list, and a single column for labels (which we already have!)\n",
        "We will use `VectorAssembler()` to create a feature vector from all our features, and we will call this vectorized variable as “features”.\n",
        "\n",
        "First, list all column names in `reservations_sdf` and store them in a list variable called `all_columns`."
      ]
    },
    {
      "cell_type": "code",
      "execution_count": 74,
      "metadata": {
        "id": "Ya0DE8ml2YPj",
        "colab": {
          "base_uri": "https://localhost:8080/"
        },
        "outputId": "7283cbfd-5633-44c0-964d-2d6bae7645fb"
      },
      "outputs": [
        {
          "output_type": "execute_result",
          "data": {
            "text/plain": [
              "['no_of_adults',\n",
              " 'no_of_children',\n",
              " 'no_of_weekend_nights',\n",
              " 'no_of_week_nights',\n",
              " 'required_car_parking_space',\n",
              " 'lead_time',\n",
              " 'arrival_year',\n",
              " 'arrival_month',\n",
              " 'arrival_date',\n",
              " 'repeated_guest',\n",
              " 'no_of_previous_cancellations',\n",
              " 'no_of_previous_bookings_not_canceled',\n",
              " 'avg_price_per_room',\n",
              " 'no_of_special_requests',\n",
              " 'booking_status',\n",
              " 'type_of_meal_plan_Meal Plan 1',\n",
              " 'type_of_meal_plan_Meal Plan 2',\n",
              " 'type_of_meal_plan_Meal Plan 3',\n",
              " 'type_of_meal_plan_Not Selected',\n",
              " 'room_type_reserved_Room_Type 1',\n",
              " 'room_type_reserved_Room_Type 2',\n",
              " 'room_type_reserved_Room_Type 3',\n",
              " 'room_type_reserved_Room_Type 4',\n",
              " 'room_type_reserved_Room_Type 5',\n",
              " 'room_type_reserved_Room_Type 6',\n",
              " 'room_type_reserved_Room_Type 7',\n",
              " 'market_segment_type_Aviation',\n",
              " 'market_segment_type_Complementary',\n",
              " 'market_segment_type_Corporate',\n",
              " 'market_segment_type_Offline',\n",
              " 'market_segment_type_Online']"
            ]
          },
          "metadata": {},
          "execution_count": 74
        }
      ],
      "source": [
        "# TO-DO: store all column name in the data_sdf in a list called \"all_columns\"\n",
        "all_columns = reservations_sdf.columns\n",
        "all_columns"
      ]
    },
    {
      "cell_type": "markdown",
      "metadata": {
        "id": "OAMDrTU157iA"
      },
      "source": [
        "Create a list of column(s) you don't want to include as your features. Name this list `drop_columns`."
      ]
    },
    {
      "cell_type": "code",
      "execution_count": 75,
      "metadata": {
        "id": "tbcp9QqH5_l0"
      },
      "outputs": [],
      "source": [
        "# TO-DO: Create \"drop_columns\"\n",
        "drop_columns = ['booking_status']"
      ]
    },
    {
      "cell_type": "markdown",
      "metadata": {
        "id": "j56ev2Mr6MZN"
      },
      "source": [
        "Now, using `drop_columns`, create a list called `feature_columns` that only contains the names of the columns that would be used as features for our ML models."
      ]
    },
    {
      "cell_type": "code",
      "execution_count": 76,
      "metadata": {
        "id": "kMcrRpJb6Xo-"
      },
      "outputs": [],
      "source": [
        "# TO-DO: Create the \"feature_columns\" list\n",
        "feature_columns = [col for col in all_columns if col not in drop_columns]"
      ]
    },
    {
      "cell_type": "code",
      "execution_count": 77,
      "metadata": {
        "id": "B5_jVWBI6znW",
        "colab": {
          "base_uri": "https://localhost:8080/"
        },
        "outputId": "a0adc824-59eb-419f-ca58-cd42b91f267a"
      },
      "outputs": [
        {
          "output_type": "stream",
          "name": "stdout",
          "text": [
            "Correct! You earned 2/2 points. You are a star!\n",
            "\n",
            "Your submission has been successfully recorded in the gradebook.\n"
          ]
        }
      ],
      "source": [
        "# Grader cell [2 points]\n",
        "grader.grade(test_case_id = 'check_feature_columns', answer = feature_columns)"
      ]
    },
    {
      "cell_type": "markdown",
      "metadata": {
        "id": "JFDTSMCM72uR"
      },
      "source": [
        "Finally, create a [VectorAssembler](https://spark.apache.org/docs/latest/api/python/reference/api/pyspark.ml.feature.VectorAssembler.html) object with the columns that you want to use as features. Name your output column as `features` (i.e. they are the features that will be used for SparkML)."
      ]
    },
    {
      "cell_type": "code",
      "execution_count": 78,
      "metadata": {
        "id": "WmAZT38o7zxM"
      },
      "outputs": [],
      "source": [
        "# TO-DO: Import required library and create VectorAssembler object (to be used later)\n",
        "from pyspark.ml.feature import VectorAssembler\n",
        "\n",
        "assembler = VectorAssembler(inputCols=feature_columns, outputCol='features')"
      ]
    },
    {
      "cell_type": "markdown",
      "metadata": {
        "id": "WYgt35u-68XA"
      },
      "source": [
        "## **2.2** Preprocessing: Pipeline and Train-Test Split [Total: 3 Points]\n",
        "\n",
        "Now that we have a VectorAssembler object ready, let's use it on our Spark dataframe to get the concatenated features column. To do this, we implement a [Pipeline](https://spark.apache.org/docs/latest/api/python/reference/api/pyspark.ml.Pipeline.html), which can be used to streamline multiple preprocessing stages at once. For this data, we just need a single stage with the assembler, but you could have other stages before that where you perform operations on the data like converting categorical strings in the features to numeric values, or do feature scaling operations.\n",
        "\n",
        "We will create a pipeline with a single stage — the assembler. Fit the pipeline on `reservations_sdf` to create the transformed dataframe and name it `processed_reservations_sdf`.\n"
      ]
    },
    {
      "cell_type": "code",
      "execution_count": 79,
      "metadata": {
        "id": "PozlPEwbMw9l"
      },
      "outputs": [],
      "source": [
        "# TO-DO: Import required libraries\n",
        "from pyspark.ml import Pipeline\n",
        "\n",
        "# TO-DO: Define a pipeline object\n",
        "pip = Pipeline(stages=[assembler])\n",
        "\n",
        "# TO-DO: Fit and transform the pipeline on the data and store the transformed sdf as \"processed_reservations_sdf\"\n",
        "processed_reservations_sdf = pip.fit(reservations_sdf).transform(reservations_sdf)"
      ]
    },
    {
      "cell_type": "code",
      "source": [
        "processed_reservations_sdf.show(5)"
      ],
      "metadata": {
        "colab": {
          "base_uri": "https://localhost:8080/"
        },
        "id": "8-WXKKXAiaFB",
        "outputId": "2954f3b8-1b22-4199-9cc4-819e942f273f"
      },
      "execution_count": 80,
      "outputs": [
        {
          "output_type": "stream",
          "name": "stdout",
          "text": [
            "+------------+--------------+--------------------+-----------------+--------------------------+---------+------------+-------------+------------+--------------+----------------------------+------------------------------------+------------------+----------------------+--------------+-----------------------------+-----------------------------+-----------------------------+------------------------------+------------------------------+------------------------------+------------------------------+------------------------------+------------------------------+------------------------------+------------------------------+----------------------------+---------------------------------+-----------------------------+---------------------------+--------------------------+--------------------+\n",
            "|no_of_adults|no_of_children|no_of_weekend_nights|no_of_week_nights|required_car_parking_space|lead_time|arrival_year|arrival_month|arrival_date|repeated_guest|no_of_previous_cancellations|no_of_previous_bookings_not_canceled|avg_price_per_room|no_of_special_requests|booking_status|type_of_meal_plan_Meal Plan 1|type_of_meal_plan_Meal Plan 2|type_of_meal_plan_Meal Plan 3|type_of_meal_plan_Not Selected|room_type_reserved_Room_Type 1|room_type_reserved_Room_Type 2|room_type_reserved_Room_Type 3|room_type_reserved_Room_Type 4|room_type_reserved_Room_Type 5|room_type_reserved_Room_Type 6|room_type_reserved_Room_Type 7|market_segment_type_Aviation|market_segment_type_Complementary|market_segment_type_Corporate|market_segment_type_Offline|market_segment_type_Online|            features|\n",
            "+------------+--------------+--------------------+-----------------+--------------------------+---------+------------+-------------+------------+--------------+----------------------------+------------------------------------+------------------+----------------------+--------------+-----------------------------+-----------------------------+-----------------------------+------------------------------+------------------------------+------------------------------+------------------------------+------------------------------+------------------------------+------------------------------+------------------------------+----------------------------+---------------------------------+-----------------------------+---------------------------+--------------------------+--------------------+\n",
            "|           2|             0|                   1|                2|                         0|      224|        2017|           10|           2|             0|                           0|                                   0|              65.0|                     0|           0.0|                         true|                        false|                        false|                         false|                          true|                         false|                         false|                         false|                         false|                         false|                         false|                       false|                            false|                        false|                       true|                     false|(30,[0,2,3,5,6,7,...|\n",
            "|           2|             0|                   2|                3|                         0|        5|        2018|           11|           6|             0|                           0|                                   0|            106.68|                     1|           0.0|                        false|                        false|                        false|                          true|                          true|                         false|                         false|                         false|                         false|                         false|                         false|                       false|                            false|                        false|                      false|                      true|(30,[0,2,3,5,6,7,...|\n",
            "|           1|             0|                   2|                1|                         0|        1|        2018|            2|          28|             0|                           0|                                   0|              60.0|                     0|           1.0|                         true|                        false|                        false|                         false|                          true|                         false|                         false|                         false|                         false|                         false|                         false|                       false|                            false|                        false|                      false|                      true|(30,[0,2,3,5,6,7,...|\n",
            "|           2|             0|                   0|                2|                         0|      211|        2018|            5|          20|             0|                           0|                                   0|             100.0|                     0|           1.0|                         true|                        false|                        false|                         false|                          true|                         false|                         false|                         false|                         false|                         false|                         false|                       false|                            false|                        false|                      false|                      true|(30,[0,3,5,6,7,8,...|\n",
            "|           2|             0|                   1|                1|                         0|       48|        2018|            4|          11|             0|                           0|                                   0|              94.5|                     0|           1.0|                        false|                        false|                        false|                          true|                          true|                         false|                         false|                         false|                         false|                         false|                         false|                       false|                            false|                        false|                      false|                      true|(30,[0,2,3,5,6,7,...|\n",
            "+------------+--------------+--------------------+-----------------+--------------------------+---------+------------+-------------+------------+--------------+----------------------------+------------------------------------+------------------+----------------------+--------------+-----------------------------+-----------------------------+-----------------------------+------------------------------+------------------------------+------------------------------+------------------------------+------------------------------+------------------------------+------------------------------+------------------------------+----------------------------+---------------------------------+-----------------------------+---------------------------+--------------------------+--------------------+\n",
            "only showing top 5 rows\n",
            "\n"
          ]
        }
      ]
    },
    {
      "cell_type": "markdown",
      "metadata": {
        "id": "3LUua0RlNLpk"
      },
      "source": [
        "Now that we have the data in the format we need, we will create our train and test sets.\n",
        "\n",
        "Conduct a train-test split where 80% of the data is assigned to the training set while the remaining 20% is assigned to the testing set.\n",
        "\n",
        "- Name these sets as `train_sdf` and `test_sdf` respectively.\n",
        "- Set the variable `random_seed` to 42 and then add the argument `seed = random_seed` in the function to fix the random state in order to ensure consistency with our results.\n",
        "\n",
        "Note: Fit the pipeline on reservations_sdf"
      ]
    },
    {
      "cell_type": "code",
      "execution_count": 81,
      "metadata": {
        "id": "CXym9xONNrzB"
      },
      "outputs": [],
      "source": [
        "# TO-DO: Assign appropriate value to the random_seed variable\n",
        "random_seed = 42\n",
        "\n",
        "# TO-DO: Do 80/20 train-test split with seed = random_seed and store them as \"train_sdf\" and \"test_sdf\"\n",
        "train_sdf, test_sdf = processed_reservations_sdf.randomSplit([0.8, 0.2], seed=random_seed)"
      ]
    },
    {
      "cell_type": "code",
      "source": [
        "train_sdf.show(5)"
      ],
      "metadata": {
        "colab": {
          "base_uri": "https://localhost:8080/"
        },
        "id": "esp9BBjDiu1O",
        "outputId": "0975ae77-339c-4d9d-b545-85bb96b2ab22"
      },
      "execution_count": 82,
      "outputs": [
        {
          "output_type": "stream",
          "name": "stdout",
          "text": [
            "+------------+--------------+--------------------+-----------------+--------------------------+---------+------------+-------------+------------+--------------+----------------------------+------------------------------------+------------------+----------------------+--------------+-----------------------------+-----------------------------+-----------------------------+------------------------------+------------------------------+------------------------------+------------------------------+------------------------------+------------------------------+------------------------------+------------------------------+----------------------------+---------------------------------+-----------------------------+---------------------------+--------------------------+--------------------+\n",
            "|no_of_adults|no_of_children|no_of_weekend_nights|no_of_week_nights|required_car_parking_space|lead_time|arrival_year|arrival_month|arrival_date|repeated_guest|no_of_previous_cancellations|no_of_previous_bookings_not_canceled|avg_price_per_room|no_of_special_requests|booking_status|type_of_meal_plan_Meal Plan 1|type_of_meal_plan_Meal Plan 2|type_of_meal_plan_Meal Plan 3|type_of_meal_plan_Not Selected|room_type_reserved_Room_Type 1|room_type_reserved_Room_Type 2|room_type_reserved_Room_Type 3|room_type_reserved_Room_Type 4|room_type_reserved_Room_Type 5|room_type_reserved_Room_Type 6|room_type_reserved_Room_Type 7|market_segment_type_Aviation|market_segment_type_Complementary|market_segment_type_Corporate|market_segment_type_Offline|market_segment_type_Online|            features|\n",
            "+------------+--------------+--------------------+-----------------+--------------------------+---------+------------+-------------+------------+--------------+----------------------------+------------------------------------+------------------+----------------------+--------------+-----------------------------+-----------------------------+-----------------------------+------------------------------+------------------------------+------------------------------+------------------------------+------------------------------+------------------------------+------------------------------+------------------------------+----------------------------+---------------------------------+-----------------------------+---------------------------+--------------------------+--------------------+\n",
            "|           0|             1|                   2|                4|                         0|      109|        2018|            4|           1|             0|                           0|                                   0|             73.74|                     1|           0.0|                         true|                        false|                        false|                         false|                         false|                          true|                         false|                         false|                         false|                         false|                         false|                       false|                            false|                        false|                      false|                      true|(30,[1,2,3,5,6,7,...|\n",
            "|           0|             2|                   0|                1|                         0|        3|        2018|            6|          16|             0|                           0|                                   0|            131.78|                     0|           0.0|                         true|                        false|                        false|                         false|                         false|                          true|                         false|                         false|                         false|                         false|                         false|                       false|                            false|                        false|                      false|                      true|(30,[1,3,5,6,7,8,...|\n",
            "|           0|             2|                   0|                1|                         0|       11|        2018|            8|          19|             0|                           0|                                   0|             127.6|                     1|           0.0|                         true|                        false|                        false|                         false|                         false|                          true|                         false|                         false|                         false|                         false|                         false|                       false|                            false|                        false|                      false|                      true|(30,[1,3,5,6,7,8,...|\n",
            "|           0|             2|                   0|                1|                         0|       44|        2018|           11|          19|             0|                           0|                                   0|             82.44|                     2|           0.0|                         true|                        false|                        false|                         false|                         false|                          true|                         false|                         false|                         false|                         false|                         false|                       false|                            false|                        false|                      false|                      true|(30,[1,3,5,6,7,8,...|\n",
            "|           0|             2|                   0|                1|                         0|       65|        2018|            8|           4|             0|                           0|                                   0|            127.38|                     1|           0.0|                         true|                        false|                        false|                         false|                         false|                          true|                         false|                         false|                         false|                         false|                         false|                       false|                            false|                        false|                      false|                      true|(30,[1,3,5,6,7,8,...|\n",
            "+------------+--------------+--------------------+-----------------+--------------------------+---------+------------+-------------+------------+--------------+----------------------------+------------------------------------+------------------+----------------------+--------------+-----------------------------+-----------------------------+-----------------------------+------------------------------+------------------------------+------------------------------+------------------------------+------------------------------+------------------------------+------------------------------+------------------------------+----------------------------+---------------------------------+-----------------------------+---------------------------+--------------------------+--------------------+\n",
            "only showing top 5 rows\n",
            "\n"
          ]
        }
      ]
    },
    {
      "cell_type": "code",
      "source": [
        "test_sdf.show(5)"
      ],
      "metadata": {
        "colab": {
          "base_uri": "https://localhost:8080/"
        },
        "id": "jR6GVsPKiwwE",
        "outputId": "b1ce75d5-25b5-4a4a-9843-44883d6af528"
      },
      "execution_count": 83,
      "outputs": [
        {
          "output_type": "stream",
          "name": "stdout",
          "text": [
            "+------------+--------------+--------------------+-----------------+--------------------------+---------+------------+-------------+------------+--------------+----------------------------+------------------------------------+------------------+----------------------+--------------+-----------------------------+-----------------------------+-----------------------------+------------------------------+------------------------------+------------------------------+------------------------------+------------------------------+------------------------------+------------------------------+------------------------------+----------------------------+---------------------------------+-----------------------------+---------------------------+--------------------------+--------------------+\n",
            "|no_of_adults|no_of_children|no_of_weekend_nights|no_of_week_nights|required_car_parking_space|lead_time|arrival_year|arrival_month|arrival_date|repeated_guest|no_of_previous_cancellations|no_of_previous_bookings_not_canceled|avg_price_per_room|no_of_special_requests|booking_status|type_of_meal_plan_Meal Plan 1|type_of_meal_plan_Meal Plan 2|type_of_meal_plan_Meal Plan 3|type_of_meal_plan_Not Selected|room_type_reserved_Room_Type 1|room_type_reserved_Room_Type 2|room_type_reserved_Room_Type 3|room_type_reserved_Room_Type 4|room_type_reserved_Room_Type 5|room_type_reserved_Room_Type 6|room_type_reserved_Room_Type 7|market_segment_type_Aviation|market_segment_type_Complementary|market_segment_type_Corporate|market_segment_type_Offline|market_segment_type_Online|            features|\n",
            "+------------+--------------+--------------------+-----------------+--------------------------+---------+------------+-------------+------------+--------------+----------------------------+------------------------------------+------------------+----------------------+--------------+-----------------------------+-----------------------------+-----------------------------+------------------------------+------------------------------+------------------------------+------------------------------+------------------------------+------------------------------+------------------------------+------------------------------+----------------------------+---------------------------------+-----------------------------+---------------------------+--------------------------+--------------------+\n",
            "|           0|             2|                   0|                1|                         0|        9|        2018|           12|          10|             0|                           0|                                   0|               0.0|                     1|           0.0|                         true|                        false|                        false|                         false|                         false|                          true|                         false|                         false|                         false|                         false|                         false|                       false|                             true|                        false|                      false|                     false|(30,[1,3,5,6,7,8,...|\n",
            "|           0|             2|                   0|                1|                         0|       93|        2018|            8|          13|             0|                           0|                                   0|            109.83|                     1|           0.0|                         true|                        false|                        false|                         false|                         false|                          true|                         false|                         false|                         false|                         false|                         false|                       false|                            false|                        false|                      false|                      true|(30,[1,3,5,6,7,8,...|\n",
            "|           0|             2|                   0|                1|                         0|      143|        2018|            8|          18|             0|                           0|                                   0|             97.54|                     1|           0.0|                         true|                        false|                        false|                         false|                         false|                          true|                         false|                         false|                         false|                         false|                         false|                       false|                            false|                        false|                      false|                      true|(30,[1,3,5,6,7,8,...|\n",
            "|           0|             2|                   0|                2|                         0|      187|        2018|            7|           7|             0|                           0|                                   0|              86.5|                     1|           1.0|                         true|                        false|                        false|                         false|                         false|                          true|                         false|                         false|                         false|                         false|                         false|                       false|                            false|                        false|                      false|                      true|(30,[1,3,5,6,7,8,...|\n",
            "|           0|             2|                   0|                3|                         0|       40|        2018|            1|          14|             0|                           0|                                   0|               6.0|                     1|           0.0|                         true|                        false|                        false|                         false|                         false|                          true|                         false|                         false|                         false|                         false|                         false|                       false|                            false|                        false|                      false|                      true|(30,[1,3,5,6,7,8,...|\n",
            "+------------+--------------+--------------------+-----------------+--------------------------+---------+------------+-------------+------------+--------------+----------------------------+------------------------------------+------------------+----------------------+--------------+-----------------------------+-----------------------------+-----------------------------+------------------------------+------------------------------+------------------------------+------------------------------+------------------------------+------------------------------+------------------------------+------------------------------+----------------------------+---------------------------------+-----------------------------+---------------------------+--------------------------+--------------------+\n",
            "only showing top 5 rows\n",
            "\n"
          ]
        }
      ]
    },
    {
      "cell_type": "code",
      "execution_count": 84,
      "metadata": {
        "id": "kNPtpqJyNuWA",
        "colab": {
          "base_uri": "https://localhost:8080/"
        },
        "outputId": "56eaa17e-b874-4365-db54-ca40af79174b"
      },
      "outputs": [
        {
          "output_type": "stream",
          "name": "stdout",
          "text": [
            "Correct! You earned 3/3 points. You are a star!\n",
            "\n",
            "Your submission has been successfully recorded in the gradebook.\n"
          ]
        }
      ],
      "source": [
        "# Grader (3 points)\n",
        "grader.grade(test_case_id = 'check_train_test_split_spark', answer = (train_sdf.count(), test_sdf.count(), random_seed))"
      ]
    },
    {
      "cell_type": "markdown",
      "metadata": {
        "id": "ZlAv_PlBcYDr"
      },
      "source": [
        "## **2.3** Modeling (SparkML) [Total: 30 Points]\n",
        "\n",
        "Time to do the cool stuff! We will work on various types of models using SparkML to see the difference in implementation from sklearn."
      ]
    },
    {
      "cell_type": "markdown",
      "metadata": {
        "id": "0s65E3utg0Zo"
      },
      "source": [
        "### **2.3.1** Vanilla Logistic Regression [6 pts]\n",
        "\n",
        "Let's train an **unregularized** Logistic Regression model to our data and try to predict whether the `booking_status` will be cancelled or not.\n",
        "\n",
        "This time, we will use \"Big\" data tools to help us build a Logistic Regression model for binary classification. Look up the documentation online and try to understand how to implement this.\n",
        "\n",
        "\n",
        "**Note**: Make sure to set the parameter `maxIter` to an appropriate value (e.g. 5) for fast computation.\n",
        "\n",
        "**Checks:**\n",
        "\n",
        "- Are you sure you're using the correct evaluation metric? Always read the Official Documentation to see if the default parameters are what you expect. This is a recurring theme for many issues.\n",
        "\n",
        "- Did you make sure to order the inputs to the confusionMatrix function correctly so that it returns the confusion matrix in the form [[TP, FP], [FP, TN]]\n",
        "\n",
        "- Have you made sure to convert the booking_status column to type double? If you are facing a Py4JJavaErrors error, be sure to do so."
      ]
    },
    {
      "cell_type": "code",
      "execution_count": 85,
      "metadata": {
        "id": "IktoDMkWhn9p"
      },
      "outputs": [],
      "source": [
        "# TO-DO: Import required library for Logistic Regression\n",
        "from pyspark.ml.classification import LogisticRegression\n",
        "\n",
        "# TO-DO: Instantiate and fit Logistic Regression model to training data\n",
        "logr_model = LogisticRegression(maxIter=4, labelCol='booking_status')\n",
        "logr_model = logr_model.fit(train_sdf)\n"
      ]
    },
    {
      "cell_type": "markdown",
      "metadata": {
        "id": "uQWTQGRjiy2A"
      },
      "source": [
        "Calculate the training accuracy using the model's summary and store it in a variable called `train_accuracy`."
      ]
    },
    {
      "cell_type": "code",
      "execution_count": 86,
      "metadata": {
        "id": "XjyYCYw6i1sD",
        "colab": {
          "base_uri": "https://localhost:8080/"
        },
        "outputId": "b68dc36d-7dec-4f73-abfc-6c999359e5d4"
      },
      "outputs": [
        {
          "output_type": "stream",
          "name": "stdout",
          "text": [
            "0.8030188679245283\n"
          ]
        }
      ],
      "source": [
        "# TO-DO: Get training accuracy and store it as `train_accuracy`\n",
        "train_accuracy = logr_model.summary.accuracy\n",
        "print(train_accuracy)"
      ]
    },
    {
      "cell_type": "markdown",
      "metadata": {
        "id": "C20Hy2qii_OO"
      },
      "source": [
        "Now, let's find out how good the model actually is and see if it overfits to the training data.\n",
        "\n",
        "Predict the labels `\"booking_status\"` for your test data and store them as `predictions` _(Hint: it is called 'transform' in SparkML)_"
      ]
    },
    {
      "cell_type": "code",
      "execution_count": 87,
      "metadata": {
        "id": "szq8zQ3QjPWp",
        "colab": {
          "base_uri": "https://localhost:8080/"
        },
        "outputId": "88bccf35-37d2-4659-c27b-18fa8d0b1459"
      },
      "outputs": [
        {
          "output_type": "stream",
          "name": "stdout",
          "text": [
            "+------------+--------------+--------------------+-----------------+--------------------------+---------+------------+-------------+------------+--------------+----------------------------+------------------------------------+------------------+----------------------+--------------+-----------------------------+-----------------------------+-----------------------------+------------------------------+------------------------------+------------------------------+------------------------------+------------------------------+------------------------------+------------------------------+------------------------------+----------------------------+---------------------------------+-----------------------------+---------------------------+--------------------------+--------------------+--------------------+--------------------+----------+\n",
            "|no_of_adults|no_of_children|no_of_weekend_nights|no_of_week_nights|required_car_parking_space|lead_time|arrival_year|arrival_month|arrival_date|repeated_guest|no_of_previous_cancellations|no_of_previous_bookings_not_canceled|avg_price_per_room|no_of_special_requests|booking_status|type_of_meal_plan_Meal Plan 1|type_of_meal_plan_Meal Plan 2|type_of_meal_plan_Meal Plan 3|type_of_meal_plan_Not Selected|room_type_reserved_Room_Type 1|room_type_reserved_Room_Type 2|room_type_reserved_Room_Type 3|room_type_reserved_Room_Type 4|room_type_reserved_Room_Type 5|room_type_reserved_Room_Type 6|room_type_reserved_Room_Type 7|market_segment_type_Aviation|market_segment_type_Complementary|market_segment_type_Corporate|market_segment_type_Offline|market_segment_type_Online|            features|       rawPrediction|         probability|prediction|\n",
            "+------------+--------------+--------------------+-----------------+--------------------------+---------+------------+-------------+------------+--------------+----------------------------+------------------------------------+------------------+----------------------+--------------+-----------------------------+-----------------------------+-----------------------------+------------------------------+------------------------------+------------------------------+------------------------------+------------------------------+------------------------------+------------------------------+------------------------------+----------------------------+---------------------------------+-----------------------------+---------------------------+--------------------------+--------------------+--------------------+--------------------+----------+\n",
            "|           0|             2|                   0|                1|                         0|        9|        2018|           12|          10|             0|                           0|                                   0|               0.0|                     1|           0.0|                         true|                        false|                        false|                         false|                         false|                          true|                         false|                         false|                         false|                         false|                         false|                       false|                             true|                        false|                      false|                     false|(30,[1,3,5,6,7,8,...|[6.39933662212615...|[0.99834009996999...|       0.0|\n",
            "|           0|             2|                   0|                1|                         0|       93|        2018|            8|          13|             0|                           0|                                   0|            109.83|                     1|           0.0|                         true|                        false|                        false|                         false|                         false|                          true|                         false|                         false|                         false|                         false|                         false|                       false|                            false|                        false|                      false|                      true|(30,[1,3,5,6,7,8,...|[1.19663712343003...|[0.76792600631173...|       0.0|\n",
            "|           0|             2|                   0|                1|                         0|      143|        2018|            8|          18|             0|                           0|                                   0|             97.54|                     1|           0.0|                         true|                        false|                        false|                         false|                         false|                          true|                         false|                         false|                         false|                         false|                         false|                       false|                            false|                        false|                      false|                      true|(30,[1,3,5,6,7,8,...|[0.61616274537391...|[0.64934532263826...|       0.0|\n",
            "|           0|             2|                   0|                2|                         0|      187|        2018|            7|           7|             0|                           0|                                   0|              86.5|                     1|           1.0|                         true|                        false|                        false|                         false|                         false|                          true|                         false|                         false|                         false|                         false|                         false|                       false|                            false|                        false|                      false|                      true|(30,[1,3,5,6,7,8,...|[0.09988344676821...|[0.52495012181093...|       0.0|\n",
            "|           0|             2|                   0|                3|                         0|       40|        2018|            1|          14|             0|                           0|                                   0|               6.0|                     1|           0.0|                         true|                        false|                        false|                         false|                         false|                          true|                         false|                         false|                         false|                         false|                         false|                       false|                            false|                        false|                      false|                      true|(30,[1,3,5,6,7,8,...|[3.36523078289633...|[0.96660006209803...|       0.0|\n",
            "+------------+--------------+--------------------+-----------------+--------------------------+---------+------------+-------------+------------+--------------+----------------------------+------------------------------------+------------------+----------------------+--------------+-----------------------------+-----------------------------+-----------------------------+------------------------------+------------------------------+------------------------------+------------------------------+------------------------------+------------------------------+------------------------------+------------------------------+----------------------------+---------------------------------+-----------------------------+---------------------------+--------------------------+--------------------+--------------------+--------------------+----------+\n",
            "only showing top 5 rows\n",
            "\n"
          ]
        }
      ],
      "source": [
        "# TO-DO: Make predictions on testing set and store it as \"predictions\"\n",
        "predictions = logr_model.transform(test_sdf)\n",
        "predictions.show(5)"
      ]
    },
    {
      "cell_type": "code",
      "source": [
        "predictions.select('booking_status', 'prediction', 'probability').show(10)"
      ],
      "metadata": {
        "colab": {
          "base_uri": "https://localhost:8080/"
        },
        "id": "9tcrb0E5kueD",
        "outputId": "de76bc6e-875d-4b16-db09-c0811afd9fcd"
      },
      "execution_count": 88,
      "outputs": [
        {
          "output_type": "stream",
          "name": "stdout",
          "text": [
            "+--------------+----------+--------------------+\n",
            "|booking_status|prediction|         probability|\n",
            "+--------------+----------+--------------------+\n",
            "|           0.0|       0.0|[0.99834009996999...|\n",
            "|           0.0|       0.0|[0.76792600631173...|\n",
            "|           0.0|       0.0|[0.64934532263826...|\n",
            "|           1.0|       0.0|[0.52495012181093...|\n",
            "|           0.0|       0.0|[0.96660006209803...|\n",
            "|           1.0|       1.0|[0.36118297812904...|\n",
            "|           0.0|       0.0|[0.96653931918946...|\n",
            "|           0.0|       0.0|[0.97563914856693...|\n",
            "|           0.0|       0.0|[0.84508718217942...|\n",
            "|           0.0|       0.0|[0.92960616527906...|\n",
            "+--------------+----------+--------------------+\n",
            "only showing top 10 rows\n",
            "\n"
          ]
        }
      ]
    },
    {
      "cell_type": "markdown",
      "metadata": {
        "id": "Kj_g8Ii_9-Gm"
      },
      "source": [
        "To get the test accuracy, we will make use of a **confusion matrix**. It is used to consolidate the predictive performance of a model into a single table. In a binary classification scenario, it looks like this:\n",
        "<img src = \"https://s2.loli.net/2023/04/01/Bg4yaIRGkEZXxvD.png\">"
      ]
    },
    {
      "cell_type": "markdown",
      "metadata": {
        "id": "ZzEQ4ltcnKZg"
      },
      "source": [
        "Given the confusion matrix, we can calculate various metrics such as accuracy, precision, recall, F1 score etc.\n",
        "\n",
        "For our task, we will calculate the test accuracy. The formula for this is: \\\\\n",
        "\n",
        "> Accuracy = $\\frac{TP + TN}{TP + FP + TN + FN}$"
      ]
    },
    {
      "cell_type": "markdown",
      "metadata": {
        "id": "FBjkb5KAn2rl"
      },
      "source": [
        "Evaluate the performance using the Confusion Matrix using [MulticlassMetrics](https://spark.apache.org/docs/latest/api/python/reference/api/pyspark.mllib.evaluation.MulticlassMetrics.html) object in the SparkML Regression library. Store the Confusion Matrix as an numpy array named  `confusion_matrix`. \\\\\n",
        "\n",
        "(*Ignore any warnings you may get*)"
      ]
    },
    {
      "cell_type": "code",
      "execution_count": 89,
      "metadata": {
        "id": "IJ7JKag7jUMW",
        "colab": {
          "base_uri": "https://localhost:8080/"
        },
        "outputId": "7341caac-95f5-48dc-f925-e477c1355f14"
      },
      "outputs": [
        {
          "output_type": "stream",
          "name": "stderr",
          "text": [
            "/usr/local/lib/python3.10/dist-packages/pyspark/sql/context.py:158: FutureWarning: Deprecated in 3.0.0. Use SparkSession.builder.getOrCreate() instead.\n",
            "  warnings.warn(\n"
          ]
        },
        {
          "output_type": "stream",
          "name": "stdout",
          "text": [
            "[[4243.  522.]\n",
            " [ 886. 1474.]]\n"
          ]
        }
      ],
      "source": [
        "# TO-DO: Import required libraries\n",
        "from pyspark.mllib.evaluation import MulticlassMetrics\n",
        "from pyspark.ml.classification import LogisticRegression\n",
        "\n",
        "# TO-DO: Select appropriate columns to use MulticlassMetrics\n",
        "pred = predictions.select('prediction', 'booking_status').rdd\n",
        "\n",
        "# TO-DO: Instantiate metrics objects\n",
        "metrics = MulticlassMetrics(pred)\n",
        "\n",
        "# TO-DO: Create confusion matrix and store it as a numpy array named \"confusion_matrix\"\n",
        "confusion_matrix = np.array(metrics.confusionMatrix().toArray())\n",
        "print(confusion_matrix)"
      ]
    },
    {
      "cell_type": "markdown",
      "metadata": {
        "id": "xWDnRN0upGh1"
      },
      "source": [
        "Now, calculate the test accuracy using the Confusion Matrix obtained above and store it in a variable called `test_accuracy`."
      ]
    },
    {
      "cell_type": "code",
      "execution_count": 90,
      "metadata": {
        "id": "K3IRPWAEpDpO",
        "colab": {
          "base_uri": "https://localhost:8080/"
        },
        "outputId": "6d9f9e1e-ea71-4e49-febb-e852da254399"
      },
      "outputs": [
        {
          "output_type": "stream",
          "name": "stdout",
          "text": [
            "0.8023859649122806\n"
          ]
        }
      ],
      "source": [
        "# TO-DO: Calculate test accuracy using the confusion matrix and store it as \"test_accuracy\"\n",
        "test_accuracy = np.sum(np.diag(confusion_matrix)) / np.sum(confusion_matrix) #[0][0]+ [1][1]\n",
        "print(test_accuracy)"
      ]
    },
    {
      "cell_type": "code",
      "execution_count": 91,
      "metadata": {
        "id": "jAcHDaDPqp4Z",
        "colab": {
          "base_uri": "https://localhost:8080/"
        },
        "outputId": "25a8644b-ecd5-4e26-eb12-44d78ff6d8ce"
      },
      "outputs": [
        {
          "output_type": "stream",
          "name": "stdout",
          "text": [
            "Correct! You earned 6/6 points. You are a star!\n",
            "\n",
            "Your submission has been successfully recorded in the gradebook.\n"
          ]
        }
      ],
      "source": [
        "# Grader cell (6 points)\n",
        "grader.grade(test_case_id = 'check_unreg_logistic', answer = (train_accuracy, test_accuracy, confusion_matrix))"
      ]
    },
    {
      "cell_type": "markdown",
      "metadata": {
        "id": "zu_wBe65VrW9"
      },
      "source": [
        "### **2.3.2** Regularized Logistic Regression [8 pts]\n",
        "\n",
        "Now, we will add regularization – LASSO (L1), Ridge (L2) and elastic net (combination of L1 and L2), to avoid overfitting. You can play around with different regularization hyperparameters when initializing the 3 different regularized logistic regression models.\n",
        "\n",
        "Compare these with each other and with the unregularized regression performed in 2.3.1.\n",
        "\n",
        "Make sure to evaluate the performance on test data using the same methodology as above (using a confusion matrix to calculate the accuracy).\n",
        "\n",
        "**Note**: Just like 2.3.1, set `maxIter` to a suitable value."
      ]
    },
    {
      "cell_type": "markdown",
      "metadata": {
        "id": "fSEYNPEPYBJk"
      },
      "source": [
        "#### (a) LASSO (L1)\n",
        "\n",
        "First, implement a LASSO Logistic Regression model using SparkML and call it `l1_model`, fit it on `train_sdf` and get predictions using `test_sdf`. Get the training accuracy and store it as `l1_train_accuracy`."
      ]
    },
    {
      "cell_type": "code",
      "execution_count": 122,
      "metadata": {
        "id": "xlC3TNEnYzD2"
      },
      "outputs": [],
      "source": [
        "# # TO-DO: Instantiate LASSO/L1 regularized model as \"l1_model\"\n",
        "\n",
        "# l1_model = LogisticRegression(maxIter=4, labelCol='booking_status',regParam=0.1, elasticNetParam=1.0)\n",
        "# # TO-DO: Fit and Transform using \"l1_model\"\n",
        "# l1_model = l1_model.fit(train_sdf)\n",
        "# l1_train_predictions = l1_model.transform(train_sdf).select(\"prediction\", \"booking_status\").rdd\n",
        "# # TO-DO: Store training accuracy as \"l1_train_accuracy\"\n",
        "# l1_train_metrics = MulticlassMetrics(l1_train_predictions)\n",
        "# # l1_train_accuracy = l1_model.summary.accuracy\n",
        "# l1_train_accuracy = l1_train_metrics.accuracy\n",
        "# print(l1_train_accuracy)\n",
        "\n",
        "# STRONGLY BELIEVE this cell is cursed or haunted. Created a new one below it"
      ]
    },
    {
      "cell_type": "code",
      "source": [
        "# TO-DO: Instantiate LASSO/L1 regularized model as \"l1_model\"\n",
        "\n",
        "l1_model = LogisticRegression(maxIter=4, labelCol='booking_status',regParam=0.1, elasticNetParam=1.0)\n",
        "# TO-DO: Fit and Transform using \"l1_model\"\n",
        "l1_model = l1_model.fit(train_sdf)\n",
        "l1_train_predictions = l1_model.transform(train_sdf).select(\"prediction\", \"booking_status\").rdd\n",
        "# TO-DO: Store training accuracy as \"l1_train_accuracy\"\n",
        "l1_train_metrics = MulticlassMetrics(l1_train_predictions)\n",
        "l1_train_accuracy = l1_train_metrics.accuracy\n",
        "print(l1_train_accuracy)"
      ],
      "metadata": {
        "colab": {
          "base_uri": "https://localhost:8080/"
        },
        "id": "PkdDLzrLOo8x",
        "outputId": "9f393153-64bc-4515-d98f-75946fcc05d6"
      },
      "execution_count": 123,
      "outputs": [
        {
          "output_type": "stream",
          "name": "stdout",
          "text": [
            "0.7219897084048027\n"
          ]
        }
      ]
    },
    {
      "cell_type": "markdown",
      "metadata": {
        "id": "YZTFIUbicwmh"
      },
      "source": [
        "From the predictions, create a confusion matrix and use it to get the test accuracy. Store this accuracy value as `l1_test_accuracy`."
      ]
    },
    {
      "cell_type": "code",
      "execution_count": 124,
      "metadata": {
        "id": "GXTGezetajEi",
        "colab": {
          "base_uri": "https://localhost:8080/"
        },
        "outputId": "a9db3b95-66ba-403a-f93f-a801ff7f5ad9"
      },
      "outputs": [
        {
          "output_type": "stream",
          "name": "stdout",
          "text": [
            "[[4602.  163.]\n",
            " [1586.  774.]]\n",
            "0.7166315789473684\n"
          ]
        }
      ],
      "source": [
        "# TO-DO: Create the Confusion matrix\n",
        "l1_test_predictions = l1_model.transform(test_sdf).select(\"prediction\", \"booking_status\").rdd\n",
        "l1_test_metrics = MulticlassMetrics(l1_test_predictions)\n",
        "l1_confusion_matrix = np.array(l1_test_metrics.confusionMatrix().toArray())\n",
        "print(confusion_matrix)\n",
        "\n",
        "# TO-DO: Calculate the test accuracy as done in the previous section. Store test accuracy as \"l1_test_accuracy\"\n",
        "l1_test_accuracy = np.sum(np.diag(l1_confusion_matrix)) / np.sum(l1_confusion_matrix)\n",
        "print(l1_test_accuracy)"
      ]
    },
    {
      "cell_type": "markdown",
      "metadata": {
        "id": "-O7Oq8KPdD9h"
      },
      "source": [
        "#### (b) Ridge (L2)\n",
        "\n",
        "Next, implement a Ridge Logistic Regression model using SparkML and call it `l2_model`, fit it on `train_sdf` and get predictions using `test_sdf`. Get the training accuracy and store it as `l2_train_accuracy`."
      ]
    },
    {
      "cell_type": "code",
      "execution_count": 125,
      "metadata": {
        "id": "BzxfiooYdO-s",
        "colab": {
          "base_uri": "https://localhost:8080/"
        },
        "outputId": "dc1cfc5b-a118-488c-8d81-304b76a6def6"
      },
      "outputs": [
        {
          "output_type": "stream",
          "name": "stdout",
          "text": [
            "0.7849742710120069\n"
          ]
        }
      ],
      "source": [
        "# TO-DO: Instantiate Ridge/L2 regularized model as \"l2_model\"\n",
        "l2_model = LogisticRegression(maxIter=4, labelCol='booking_status', regParam=0.1, elasticNetParam=0)\n",
        "\n",
        "# TO-DO: Fit and Transform using \"l2_model\"\n",
        "l2_model = l2_model.fit(train_sdf)\n",
        "l2_train_predictions = l2_model.transform(train_sdf).select(\"prediction\", \"booking_status\").rdd\n",
        "\n",
        "# TO-DO: Store training accuracy as \"l2_train_accuracy\"\n",
        "l2_train_metrics = MulticlassMetrics(l2_train_predictions)\n",
        "l2_train_accuracy = l2_train_metrics.accuracy\n",
        "print(l2_train_accuracy)"
      ]
    },
    {
      "cell_type": "markdown",
      "metadata": {
        "id": "z6BD1lsvdjZS"
      },
      "source": [
        "From the predictions, create a confusion matrix and use it to get the test accuracy. Store this accuracy value as `l2_test_accuracy`."
      ]
    },
    {
      "cell_type": "code",
      "execution_count": 126,
      "metadata": {
        "id": "vron91efdi8s",
        "colab": {
          "base_uri": "https://localhost:8080/"
        },
        "outputId": "b9f7b8e5-6931-4724-9764-838dfde5cec1"
      },
      "outputs": [
        {
          "output_type": "stream",
          "name": "stdout",
          "text": [
            "[[4602.  163.]\n",
            " [1586.  774.]]\n",
            "0.783578947368421\n"
          ]
        }
      ],
      "source": [
        "# TO-DO: Create the Confusion matrix\n",
        "l2_test_metrics = MulticlassMetrics(l2_model.transform(test_sdf).select(\"prediction\", \"booking_status\").rdd)\n",
        "l2_confusion_matrix = np.array(l2_test_metrics.confusionMatrix().toArray())\n",
        "print(confusion_matrix)\n",
        "\n",
        "# TO-DO: Calculate the test accuracy as done in the previous section. Store test accuracy as \"l2_test_accuracy\"\n",
        "l2_test_accuracy = np.sum(np.diag(l2_confusion_matrix)) / np.sum(l2_confusion_matrix)\n",
        "print(l2_test_accuracy)"
      ]
    },
    {
      "cell_type": "markdown",
      "metadata": {
        "id": "fUibpxvqeCsz"
      },
      "source": [
        "#### (c) Elastic Net\n",
        "\n",
        "Finally, implement an Elastic Net Logistic Regression model using SparkML and call it `en_model`, fit it on `train_sdf` and get predictions using `test_sdf`. Get the training accuracy and store it as `en_train_accuracy`."
      ]
    },
    {
      "cell_type": "code",
      "execution_count": 127,
      "metadata": {
        "id": "h_j1zU38eSAS",
        "colab": {
          "base_uri": "https://localhost:8080/"
        },
        "outputId": "4403eef8-36d0-4dca-eb93-c5c99adcb083"
      },
      "outputs": [
        {
          "output_type": "stream",
          "name": "stdout",
          "text": [
            "0.7601372212692967\n"
          ]
        }
      ],
      "source": [
        "# TO-DO: Instantiate Elastic Net regularized model as \"en_model\"\n",
        "en_model = LogisticRegression(maxIter=4, labelCol='booking_status', regParam=0.1, elasticNetParam=0.5)\n",
        "\n",
        "# TO-DO: Fit and Transform using \"en_model\"\n",
        "en_model = en_model.fit(train_sdf)\n",
        "en_train_predictions = en_model.transform(train_sdf).select(\"prediction\", \"booking_status\").rdd\n",
        "en_train_metrics = MulticlassMetrics(en_train_predictions)\n",
        "\n",
        "# TO-DO: Store training accuracy as \"en_train_accuracy\"\n",
        "en_train_accuracy = en_train_metrics.accuracy\n",
        "print(en_train_accuracy)"
      ]
    },
    {
      "cell_type": "markdown",
      "metadata": {
        "id": "-Xge3cFxecaU"
      },
      "source": [
        "From the predictions, create a confusion matrix and use it to get the test accuracy. Store this accuracy value as `en_test_accuracy`."
      ]
    },
    {
      "cell_type": "code",
      "execution_count": 128,
      "metadata": {
        "id": "oI6OHfWJeeeX",
        "colab": {
          "base_uri": "https://localhost:8080/"
        },
        "outputId": "d7af809d-de07-4a83-c968-2cae6142a38a"
      },
      "outputs": [
        {
          "output_type": "stream",
          "name": "stdout",
          "text": [
            "[[4602.  163.]\n",
            " [1586.  774.]]\n",
            "0.7545263157894737\n"
          ]
        }
      ],
      "source": [
        "# TO-DO: Create the Confusion matrix\n",
        "en_test_metrics = MulticlassMetrics(en_model.transform(test_sdf).select(\"prediction\", \"booking_status\").rdd)\n",
        "confusion_matrix = np.array(en_test_metrics.confusionMatrix().toArray())\n",
        "print(confusion_matrix)\n",
        "\n",
        "# TO-DO: Calculate the test accuracy as done in the previous section. Store test accuracy as \"en_test_accuracy\"\n",
        "en_test_accuracy = np.sum(np.diag(confusion_matrix)) / np.sum(confusion_matrix)\n",
        "print(en_test_accuracy)"
      ]
    },
    {
      "cell_type": "code",
      "execution_count": 129,
      "metadata": {
        "id": "RU3LaLu6ewjQ",
        "colab": {
          "base_uri": "https://localhost:8080/"
        },
        "outputId": "857bd0f9-e26f-4316-a158-e5955e682b5d"
      },
      "outputs": [
        {
          "output_type": "stream",
          "name": "stdout",
          "text": [
            "Correct! You earned 8/8 points. You are a star!\n",
            "\n",
            "Your submission has been successfully recorded in the gradebook.\n"
          ]
        }
      ],
      "source": [
        "#8 points\n",
        "#Grader cell\n",
        "grader.grade(test_case_id = 'check_reg_logistic', answer = (l1_model.getElasticNetParam(), l1_model.getRegParam(), l1_train_accuracy, l1_test_accuracy,\n",
        "                                                            l2_model.getElasticNetParam(), l2_model.getRegParam(), l2_train_accuracy, l2_test_accuracy,\n",
        "                                                            en_model.getElasticNetParam(), en_model.getRegParam(), en_train_accuracy, en_test_accuracy))"
      ]
    },
    {
      "cell_type": "markdown",
      "metadata": {
        "id": "H8k-KqujfWbA"
      },
      "source": [
        "### **2.3.3** Random Forest Classification [8 pts]\n",
        "\n",
        "If you are looking to win Kaggle competitions, you definitely must know about Random Forests, Boosted Trees, etc. These ensemble methods generalize and work surprisingly well for a lot of classification problems and sometimes for regression problems (though regression trees are not the focus of this course).\n",
        "\n",
        "Let's give it a go. Similar to what you did for the Logistic Regression model, create a Random Forest classifier model and name it `rf` and fit it to the training data. Call the fitted model `rf_model`.\n",
        "\n",
        "**Note1:** Set the `random_seed` to 42 and set the argument `seed = random_seed` while creating `rf` as a RandomForest object. \\\\\n",
        "**Note2:** Set `maxDepth` to a reasonable value (e.g. 10) to find a good balance between performance and computation time."
      ]
    },
    {
      "cell_type": "code",
      "execution_count": 101,
      "metadata": {
        "id": "J-rKH7Qh0m4H"
      },
      "outputs": [],
      "source": [
        "# TO-DO: Import required libraries\n",
        "from pyspark.ml.classification import RandomForestClassifier\n",
        "\n",
        "# TO-DO: Set random_seed to 42\n",
        "random_seed = 42\n",
        "\n",
        "# TO-DO: Instantiate the RF Model and call it \"rf\", then fit it on the training data\n",
        "rf = RandomForestClassifier(maxDepth=10, labelCol='booking_status', seed=random_seed)\n",
        "rf_model = rf.fit(train_sdf)"
      ]
    },
    {
      "cell_type": "markdown",
      "metadata": {
        "id": "M71HnmZ41eIy"
      },
      "source": [
        "This time, get predictions on both the training and testing sets, and store them as `train_pred` and `test_pred` respectively."
      ]
    },
    {
      "cell_type": "code",
      "execution_count": 102,
      "metadata": {
        "id": "dzPe3ld01hhA"
      },
      "outputs": [],
      "source": [
        "# TO-DO: Get predictions and save to \"train_pred\" and \"test_pred\" respectively\n",
        "train_pred = rf_model.transform(train_sdf).select(\"prediction\", \"booking_status\").rdd\n",
        "test_pred = rf_model.transform(test_sdf).select(\"prediction\", \"booking_status\").rdd"
      ]
    },
    {
      "cell_type": "markdown",
      "metadata": {
        "id": "xcEQUtzP1tZ4"
      },
      "source": [
        "Evaluate using the accuracy metric again, similar to the previous sections.\n",
        "- Store the confusion matrices as `rf_train_cm` and `rf_test_cm` respectively.\n",
        "- Store the training and test accuracy as `rf_train_accuracy` and  `rf_test_accuracy` respectively."
      ]
    },
    {
      "cell_type": "code",
      "execution_count": 106,
      "metadata": {
        "id": "es9Wql3B14TV",
        "colab": {
          "base_uri": "https://localhost:8080/"
        },
        "outputId": "5d7e477c-75ff-49b9-d44c-1721007a37c1"
      },
      "outputs": [
        {
          "output_type": "stream",
          "name": "stdout",
          "text": [
            "0.8680701754385964\n"
          ]
        }
      ],
      "source": [
        "# TO-DO: Evaluate the prediction accuracy for train set and call it \"rf_train_accuracy\"\n",
        "rf_train_cm = np.array(MulticlassMetrics(train_pred).confusionMatrix().toArray())\n",
        "rf_train_accuracy = np.sum(np.diag(rf_train_cm)) / np.sum(rf_train_cm)\n",
        "\n",
        "\n",
        "# TO-DO: Evaluate the prediction accuracy for test set and call it \"rf_test_accuracy\"\n",
        "rf_test_cm = np.array(MulticlassMetrics(test_pred).confusionMatrix().toArray())\n",
        "rf_test_accuracy = np.sum(np.diag(rf_test_cm)) / np.sum(rf_test_cm)\n",
        "\n",
        "print(rf_test_accuracy)"
      ]
    },
    {
      "cell_type": "code",
      "execution_count": 107,
      "metadata": {
        "id": "3VH0SRIs3m30",
        "colab": {
          "base_uri": "https://localhost:8080/"
        },
        "outputId": "2c65a6fe-b0c8-434c-90e9-49c9639c767f"
      },
      "outputs": [
        {
          "output_type": "stream",
          "name": "stdout",
          "text": [
            "Correct! You earned 8/8 points. You are a star!\n",
            "\n",
            "Your submission has been successfully recorded in the gradebook.\n"
          ]
        }
      ],
      "source": [
        "# Grader (8 points)\n",
        "grader.grade(test_case_id = 'check_random_forest', answer = (rf_train_accuracy, train_pred.count(), rf_test_accuracy, test_pred.count(), rf_train_cm, rf_test_cm))"
      ]
    },
    {
      "cell_type": "code",
      "source": [
        "print(train_pred.count(), test_pred.count())"
      ],
      "metadata": {
        "colab": {
          "base_uri": "https://localhost:8080/"
        },
        "id": "ZkbmPEi99qQm",
        "outputId": "51d8e92c-6cff-4dcd-c15b-96c44d2db80a"
      },
      "execution_count": 108,
      "outputs": [
        {
          "output_type": "stream",
          "name": "stdout",
          "text": [
            "29150 7125\n"
          ]
        }
      ]
    },
    {
      "cell_type": "markdown",
      "metadata": {
        "id": "n972zXod4DXF"
      },
      "source": [
        "### **2.3.4** Dimensionality Reduction Using PCA [8 pts]\n",
        "\n",
        "We will again use the powerful PCA to reduce the dimensions and project the data onto a lower dimensional space and fit a logistic regression on the new projected data."
      ]
    },
    {
      "cell_type": "markdown",
      "metadata": {
        "id": "LiL8evmIBhDL"
      },
      "source": [
        "Initialize a PCA model on SparkML, where you select an appropriate number of dimensions, and call it `pca`. Then, fit the model on the training data and get the PCA features from the trained model.\n",
        "\n",
        "**Hint**: Choose `k` for the PCA model using the explained variance plot you made earlier.\n",
        "\n",
        "**Note:**\n",
        "\n",
        "- Notice we're in SparkML world here, not sklearn! Check the Official Documentation for SparkML's StandardScaler to verify if the default parameters are what we would expect.\n",
        "\n",
        "- Also note that SparkML's scaling works slightly differs from sklearn's. The following link should help show and explain why we needed to configure withMean and withStd parameters a certain way for SparkML.\n",
        "\n",
        "- Make sure you are passing the correct inputs for Logistic Regression.\n",
        "\n",
        "- You may refer to this Stack Overflow [post](https://stackoverflow.com/questions/47770674/pca-output-in-spark-doesnt-matches-with-scikit-learn) highlighting the differences between using PCA and Standard Scaler in Scikit-learn vs. PySpark ML."
      ]
    },
    {
      "cell_type": "code",
      "execution_count": 109,
      "metadata": {
        "id": "J4t4b6RECbRl"
      },
      "outputs": [],
      "source": [
        "# TO-DO: Import required libraries\n",
        "from pyspark.ml.feature import StandardScaler\n",
        "from pyspark.ml.feature import PCA\n",
        "\n",
        "# TO-DO: Perform intermediate steps to address scale-variance in PCA\n",
        "scaler = StandardScaler(inputCol=\"features\", outputCol=\"scaled_features\", withStd=False, withMean=True)\n",
        "scaler_model = scaler.fit(train_sdf)\n",
        "scaled_train_data = scaler_model.transform(train_sdf)\n",
        "scaled_test_data = scaler_model.transform(test_sdf)\n",
        "\n",
        "# TO-DO: Instantiate PCA object as \"pca\" and then fit and transform.\n",
        "#        Make sure you make a reasonable choice for the number of Principal Components\n",
        "pca = PCA(k=17, inputCol=\"scaled_features\", outputCol=\"pca_features\")\n",
        "pca_model = pca.fit(scaled_train_data)\n",
        "pca_train_data = pca_model.transform(scaled_train_data)\n",
        "pca_test_data = pca_model.transform(scaled_test_data)"
      ]
    },
    {
      "cell_type": "markdown",
      "metadata": {
        "id": "IFxyRkmTDBta"
      },
      "source": [
        "Now, create a Logistic Regression model and train it using the PCA features."
      ]
    },
    {
      "cell_type": "code",
      "execution_count": 110,
      "metadata": {
        "id": "QdX0LisYDcb1"
      },
      "outputs": [],
      "source": [
        "# TO-DO: Instantiate Logistic Regression model and call the model object \"lr_model\"\n",
        "lr_model = LogisticRegression(featuresCol='pca_features', labelCol='booking_status')\n",
        "\n",
        "# TO-DO: Fit Logistic Regression Model and get predictions\n",
        "lr_model = lr_model.fit(pca_train_data)\n",
        "train_predictions = lr_model.transform(pca_train_data).select(\"prediction\", \"booking_status\").rdd\n",
        "test_predictions = lr_model.transform(pca_test_data).select(\"prediction\", \"booking_status\").rdd"
      ]
    },
    {
      "cell_type": "markdown",
      "metadata": {
        "id": "pz2c4099D_h-"
      },
      "source": [
        "Calculate the training accuracy using the model's summary and store it in a variable called `train_accuracy_pca`."
      ]
    },
    {
      "cell_type": "code",
      "execution_count": 111,
      "metadata": {
        "id": "EafeNRLMD7Rh",
        "colab": {
          "base_uri": "https://localhost:8080/"
        },
        "outputId": "bbd01b57-a642-46c5-96a1-51145d3f0069"
      },
      "outputs": [
        {
          "output_type": "stream",
          "name": "stdout",
          "text": [
            "0.8018181818181818\n"
          ]
        }
      ],
      "source": [
        "# TO-DO: Get training accuracy and store it as `train_accuracy_pca`\n",
        "train_accuracy_pca = MulticlassMetrics(train_predictions).accuracy\n",
        "print(train_accuracy_pca)"
      ]
    },
    {
      "cell_type": "markdown",
      "metadata": {
        "id": "DRTBu6AOEe-L"
      },
      "source": [
        "\n",
        "Evaulate the test performance by creating a confusion matrix and call it `confusion_matrix_pca`. Then, calculate the test accuracy using the confusion matrix  and store it as `test_accuracy_pca`."
      ]
    },
    {
      "cell_type": "code",
      "execution_count": 112,
      "metadata": {
        "id": "6AbNje50EU2a",
        "colab": {
          "base_uri": "https://localhost:8080/"
        },
        "outputId": "4bbf0f88-a4e7-41b1-e896-3bd4a094aa6a"
      },
      "outputs": [
        {
          "output_type": "stream",
          "name": "stdout",
          "text": [
            "[[4241.  524.]\n",
            " [ 873. 1487.]]\n",
            "0.8039298245614035\n"
          ]
        }
      ],
      "source": [
        "# TO-DO: Create confusion matrix and store it as \"confusion_matrix_pca\"\n",
        "confusion_matrix_pca = np.array(MulticlassMetrics(test_predictions).confusionMatrix().toArray())\n",
        "print(confusion_matrix_pca)\n",
        "# TO-DO: Calculate test accuracy and store it as \"test_accuracy_pca\"\n",
        "test_accuracy_pca = np.sum(np.diag(confusion_matrix_pca)) / np.sum(confusion_matrix_pca)\n",
        "print(test_accuracy_pca)"
      ]
    },
    {
      "cell_type": "code",
      "execution_count": 113,
      "metadata": {
        "id": "ighJ-OTRG1al",
        "colab": {
          "base_uri": "https://localhost:8080/"
        },
        "outputId": "01ee3276-8d4b-4240-ecdd-d235cfe38ba8"
      },
      "outputs": [
        {
          "output_type": "stream",
          "name": "stdout",
          "text": [
            "Correct! You earned 8/8 points. You are a star!\n",
            "\n",
            "Your submission has been successfully recorded in the gradebook.\n"
          ]
        }
      ],
      "source": [
        "# Grader cell (8 points)\n",
        "grader.grade(test_case_id = 'check_pca', answer = (pca.getK(), len(lr_model.coefficients), train_accuracy_pca, test_accuracy_pca, confusion_matrix_pca))"
      ]
    },
    {
      "cell_type": "markdown",
      "metadata": {
        "id": "jfH7LMHMGpgB"
      },
      "source": [
        "# Homework Submission Reminders & Penalties\n",
        "\n",
        "Good job! You have finished the homework :) The submission instructions are as follows:\n",
        "\n",
        "* **Double check** that you have the correct PennID (all numbers) in the autograder.\n",
        "\n",
        "* **Triple check** that you have all plots shown in this Colab notebook before submitting (otherwise, your submission will be subjected to a **penalty of -5 points**).\n",
        "\n",
        "*  Go to the \"File\" tab at the top left of the Colab UI, click \"Download .ipynb\" and then \"Download .py\".  **Rename** these two files to `homework4.ipynb` and `homework4.py` respectively and upload them to Gradescope.\n",
        "  - <ins>**WAIT UNTIL THE GRADESCOPE AUTOGRADER FINISHES RUNNING!**</ins> If we have to manually upload this for you after the deadline, **we will apply a penalty of -10 points** (this stacks with any other penatlies)\n",
        "\n",
        "* After the autograder finishes running, Remember to click on the \"Code\" tab and see what your `.ipynb` file looks like on Gradescope.\n",
        "  - Just like in HW2, if \"Large File Hidden\" shows up, you MUST fix it.\n",
        "\n",
        "* Post any issues with submission on Ed and make sure to keep in mind the late day policy.\n",
        "\n",
        "* After you submit your code, the teaching staff will manually grade your Colab notebook in order to validate the correctness of your code."
      ]
    },
    {
      "cell_type": "code",
      "execution_count": 113,
      "metadata": {
        "id": "tCutrsmSH2PS"
      },
      "outputs": [],
      "source": []
    }
  ],
  "metadata": {
    "colab": {
      "provenance": []
    },
    "kernelspec": {
      "display_name": "Python 3",
      "name": "python3"
    },
    "language_info": {
      "name": "python"
    }
  },
  "nbformat": 4,
  "nbformat_minor": 0
}