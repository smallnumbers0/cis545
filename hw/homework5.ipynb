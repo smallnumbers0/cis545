{
  "cells": [
    {
      "cell_type": "markdown",
      "metadata": {
        "id": "gpEx-Jd1pYlP"
      },
      "source": [
        "# CIS 5450 Homework 5: Deep Learning with Pytorch\n",
        "\n",
        "### Due Tuesday, November 12, 2024 11:59 PM EST\n",
        "\n",
        "<ins>Total Points</ins>: **100 points** (= 84 autograded + 16 manually graded)\n",
        "\n",
        "Welcome to CIS 5450 Homework 5!\n",
        "\n",
        "In this homework, we will learn more about the 'new electricity' - Deep Learning (I didn't coin this, Andrew Ng did) ! There are many cool frameworks for building deep learning models - PyTorch, Tensorflow, Theano, MxNet. Since you will be working with Big Data in this course, you need a framework that scales well. Almost all of these have a multi-gpu support built in. In this assignment, we will be building neural networks in PyTorch to solve an interesting problem.\n",
        "\n",
        "Deep learning or neural network architectures have been used to solve a multitude of problems in various different fields like vision, natural language processing. So let's take a 'deep' dive into it.\n",
        "\n",
        "\n",
        "![alt text](http://4.bp.blogspot.com/-sLgBLS3bJO8/U__Kx6PnkRI/AAAAAAAAAWM/Gz3cL5jiwTo/s320/godeeper.jpg)\n",
        "\n",
        "\n",
        "\n"
      ]
    },
    {
      "cell_type": "markdown",
      "metadata": {
        "id": "lhSzWDvPp030"
      },
      "source": [
        "## Why deep learning?\n",
        "\n",
        "\n",
        "*   It's coooool\n",
        "*   Everyone's talking about it. It's the foundation of almost all the 'AI' we see in the news today\n",
        "*    Deep learning unlocks the treasure trove of unstructured big data for those with the imagination to use it\n",
        "*   Deep learning models have great representational power and are 'universal approximators'\n",
        "\n",
        "\n",
        "### Deep Learning Applications:\n",
        "\n",
        "\n",
        "Deep learning is taking the world by storm.\n",
        "\n",
        "Deep learning has applications across so many industries, which is why experts think that this technology is the future of almost everything. breakthrough LLMs such as ChatGPT, Claude and Llama are deep learning models. There are truly deep learning technologies such as Video generation models, Self Driving cars, and various budding ideas that are transforming the way we live. Here are some cool applications of deep learning -\n",
        "\n",
        "Here's a neural network detecting anomalies in Chest Xrays :\n",
        "\n",
        "\n",
        "\n",
        "\n",
        "![alt text](https://imgur.com/HKPzrzP.jpg)\n",
        "\n",
        "Most humans can't tell that this is a case of Pleural Effusion {sounds like medical jargon to engineers like us} but this Neural Network model can detect it very well!\n",
        "\n",
        "Mask RCNNs in action for detecting objects on the road aiding a self driving vehicle's driving:\n",
        "<div>\n",
        "<img src=\"https://miro.medium.com/max/3864/1*O4wsvh0CHWjP6IrK9HI_Zg.png\", width=\"800\"/>\n",
        "</div>\n",
        "\n",
        "Pretty cool, right? While transformers are exploding on the scene today, we will be applying CNNs, another powerful architecture, to solve a cool image classification problem.\n"
      ]
    },
    {
      "cell_type": "markdown",
      "metadata": {
        "id": "ywLp-5aPgkjm"
      },
      "source": [
        "# Libraries and Setup Jargon (Total: 1 point)\n",
        "Run the following cells to set up the notebook.\n"
      ]
    },
    {
      "cell_type": "markdown",
      "metadata": {
        "id": "nNx7mL19gsHV"
      },
      "source": [
        "Please make sure you enter your **8 digit Penn ID** in the  student ID field below."
      ]
    },
    {
      "cell_type": "code",
      "execution_count": 1,
      "metadata": {
        "id": "OtjibtD4lvxZ"
      },
      "outputs": [],
      "source": [
        "%%capture\n",
        "!pip install -i https://test.pypi.org/simple/ penn-grader==0.5.0\n",
        "from penngrader.grader import *\n",
        "\n",
        "#PLEASE ENSURE YOUR PENN-ID IS ENTERED CORRECTLY. IF NOT, THE AUTOGRADER WON'T KNOW WHO\n",
        "#TO ASSIGN POINTS TO YOU IN OUR BACKEND\n",
        "\n",
        "STUDENT_ID = 56803282      # YOUR PENN-ID GOES HERE AS AN INTEGER"
      ]
    },
    {
      "cell_type": "code",
      "execution_count": 2,
      "metadata": {
        "colab": {
          "base_uri": "https://localhost:8080/"
        },
        "id": "LsfyTveqgxss",
        "outputId": "106f1919-1319-470b-b101-c14637ba87d2"
      },
      "outputs": [
        {
          "output_type": "stream",
          "name": "stdout",
          "text": [
            "Overwriting config.yaml\n"
          ]
        }
      ],
      "source": [
        "%%writefile config.yaml\n",
        "grader_api_url: 'https://23whrwph9h.execute-api.us-east-1.amazonaws.com/default/Grader23'\n",
        "grader_api_key: 'flfkE736fA6Z8GxMDJe2q8Kfk8UDqjsG3GVqOFOa'"
      ]
    },
    {
      "cell_type": "markdown",
      "source": [],
      "metadata": {
        "id": "wh8pYgJE8gdI"
      }
    },
    {
      "cell_type": "code",
      "execution_count": 3,
      "metadata": {
        "id": "YQaH_xAag0BG",
        "colab": {
          "base_uri": "https://localhost:8080/"
        },
        "outputId": "102fb82e-2de3-4e0d-c059-da4c5a556d31"
      },
      "outputs": [
        {
          "output_type": "stream",
          "name": "stdout",
          "text": [
            "PennGrader initialized with Student ID: 56803282\n",
            "\n",
            "Make sure this correct or we will not be able to store your grade\n"
          ]
        }
      ],
      "source": [
        "grader = PennGrader('config.yaml', 'cis5450o_fall24_HW5', STUDENT_ID, STUDENT_ID)"
      ]
    },
    {
      "cell_type": "markdown",
      "metadata": {
        "id": "RY5BOTyRg4Qf"
      },
      "source": [
        "## Import the required Libraries"
      ]
    },
    {
      "cell_type": "code",
      "execution_count": 4,
      "metadata": {
        "id": "6diQ4Pfug3uw"
      },
      "outputs": [],
      "source": [
        "import pandas as pd\n",
        "import numpy as np\n",
        "import matplotlib.pyplot as plt\n",
        "import seaborn as sns\n",
        "from matplotlib import cm\n",
        "from sklearn.model_selection import train_test_split\n",
        "import torch\n",
        "import torchvision\n",
        "from torchvision import transforms, utils\n",
        "import torch.nn as nn\n",
        "import torch.optim as optim\n",
        "import torchvision.transforms as transforms\n",
        "from collections import Counter\n",
        "from PIL import Image\n",
        "from skimage import io, transform\n",
        "import os\n",
        "from torchvision.io import read_image\n",
        "from torch.utils.data import Dataset, DataLoader\n",
        "from collections import Counter\n",
        "from google.colab import drive\n",
        "from dill.source import getsource\n"
      ]
    },
    {
      "cell_type": "markdown",
      "metadata": {
        "id": "xq7rZTSc0xoq"
      },
      "source": [
        "## Set up GPU capabilities (1 point)\n",
        "\n",
        "The cell below sets up a CUDA device to use with torch, if available to you.\n",
        "\n",
        "**Remember to turn on the GPU for runtime in Colab**\n",
        "*   Go to Runtime -> Change runtime type --> GPU\n",
        "\n",
        "You are free to select the type of GPU you want. Some, like A100, are faster but will use up credits faster. We recommend using T4"
      ]
    },
    {
      "cell_type": "markdown",
      "metadata": {
        "id": "jUvWZZQE0xo8"
      },
      "source": [
        "Note that you can create a PyTorch tensor `T` that resides on the GPU using the command `T = torch.Tensor(..., device=cuda)`.\n",
        "You can also copy existing tensors to the GPU with the command `T = T.to(device)` (make sure to overwrite `T` with the result of this function call). If you do not have a GPU, these commands will still work.\n",
        "\n",
        "**NOTE 1**: The grader cell below is to check that you are using the GPU, since it is beneficial in later sections that require parallel computation on arrays (i.e., Section 2)."
      ]
    },
    {
      "cell_type": "markdown",
      "metadata": {
        "id": "Wq6We15Qqak6"
      },
      "source": [
        "**NOTE 2**: It is possible that your Google Colab GPU credits may run out. In that case here are a couple of simple options to get past this:\n",
        "\n",
        "* Continue the assignment using CPU. This will be a little slower but will still work. The autograder takes points from your best submission for each cell, so as long as you get the below points once, you will get these points\n",
        "* Use your personal email account. Your personal email account will have the same number of initial credits, and you can work from there by simply sharing this assignment with your personal id. Some students also choose to purchase more credits here to move even faster. **Please note that this is a quick fix and not a solution as inefficient code will lead to fast depletion of credits**\n",
        "\n",
        "If you are having GPU issues please feel free to make an Ed post or attend an Office Hour and we will help you out."
      ]
    },
    {
      "cell_type": "code",
      "execution_count": 5,
      "metadata": {
        "colab": {
          "base_uri": "https://localhost:8080/"
        },
        "id": "9Gvv3LVN0xo-",
        "outputId": "93474749-c704-4259-e288-958fbfbf4c95"
      },
      "outputs": [
        {
          "output_type": "stream",
          "name": "stdout",
          "text": [
            "2.5.0+cu121\n",
            "cuda:0\n"
          ]
        }
      ],
      "source": [
        "# DO NOT MODIFY\n",
        "torch.manual_seed(42) # For grading consistency\n",
        "device = torch.device(\"cuda:0\" if torch.cuda.is_available() else \"cpu\")\n",
        "print(torch.__version__)\n",
        "print(device)"
      ]
    },
    {
      "cell_type": "code",
      "execution_count": 6,
      "metadata": {
        "colab": {
          "base_uri": "https://localhost:8080/"
        },
        "id": "ZO8Hr0MIw_KK",
        "outputId": "a1bfe786-10e5-4518-e64d-e23269b00ea9"
      },
      "outputs": [
        {
          "output_type": "execute_result",
          "data": {
            "text/plain": [
              "device(type='cuda', index=0)"
            ]
          },
          "metadata": {},
          "execution_count": 6
        }
      ],
      "source": [
        "device"
      ]
    },
    {
      "cell_type": "code",
      "execution_count": 7,
      "metadata": {
        "id": "scjhlNsVadIi",
        "colab": {
          "base_uri": "https://localhost:8080/"
        },
        "outputId": "e5b97ce1-f481-4687-fd3f-4d5f54b10e17"
      },
      "outputs": [
        {
          "output_type": "stream",
          "name": "stdout",
          "text": [
            "Correct! You earned 1/1 points. You are a star!\n",
            "\n",
            "Your submission has been successfully recorded in the gradebook.\n"
          ]
        }
      ],
      "source": [
        "# Grader Cell (1 points)\n",
        "grader.grade(test_case_id = 'device', answer = str(device))"
      ]
    },
    {
      "cell_type": "markdown",
      "metadata": {
        "id": "EnlOxnsy1TtK"
      },
      "source": [
        "# **Part 1:** Data Preprocessing and Preparation for Modeling in `PyTorch` (Total: 20 points)\n",
        "\n",
        "In this homework we will tackle the problem of classifying images.\n",
        "\n",
        "Specifically, we would be looking at the Modified National Institute of Standards and Technology database ([MNIST](https://en.wikipedia.org/wiki/MNIST_database)) dataset."
      ]
    },
    {
      "cell_type": "markdown",
      "metadata": {
        "id": "6Zn1Vfni1Tt8"
      },
      "source": [
        "<div>\n",
        "<img src=\"https://s2.loli.net/2023/03/26/GwFJhNeskzE5Ptx.webp\", width=\"800\"/>\n",
        "</div>\n",
        "\n",
        "Diagram Reference: [Link](https://en.wikipedia.org/wiki/MNIST_database)"
      ]
    },
    {
      "cell_type": "markdown",
      "metadata": {
        "id": "MLwaiP_v1Tt9"
      },
      "source": [
        "[MNIST](https://pytorch.org/vision/stable/generated/torchvision.datasets.MNIST.html) dataset consists of 70,000 28x28 grayscale images in 10 classes.\n",
        "\n",
        "There are 60,000 training images and 10,000 test images.\n",
        "\n",
        "While it is good to have as much training data as possible, in order to avoid having long training time and potentially running out of GPU, we will downsample and train the model with 30,000 training images and 5,000 testing images.\n",
        "\n",
        "\n",
        "We would be using this dataset to train 3 different models:\n",
        "\n",
        "1.   Logistic Regression\n",
        "2.   Feedforward (Fully-Connected) Neural Network\n",
        "3.   Convolutional Neural Network\n",
        "\n",
        "And analyze the difference between these models by looking at the test accuracy and loss.\n",
        "\n"
      ]
    },
    {
      "cell_type": "markdown",
      "metadata": {
        "id": "kXE0i7d8SHS2"
      },
      "source": [
        "## 1.1 Pytorch Dataset and DataLoader (Total: 10 points)\n",
        "\n",
        "To keep data loading consistent across different models, PyTorch provides two data primitives: `torch.utils.data.DataLoader` and `torch.utils.data.Dataset` that allow you to use pre-loaded datasets as well as your own data.\n",
        "\n",
        "`Dataset` stores the samples and their corresponding labels. And `DataLoader` wraps an iterable around the Dataset to enable easy access to the samples. More information and examples of the objects in action can be found **[here](https://pytorch.org/tutorials/beginner/basics/data_tutorial.html)**\n",
        "\n",
        "While Pytorch provides `Dataset` and `Dataloader` for some popular datasets (i.e., one can instantiate the objects and the data is ready to be analyzed in PyTorch Machine Learning pipeline), sometimes we need to define our own custom `Dataset` to process our dataset. The list of available built-in datasets PyTorch gave us can be found **[here](https://pytorch.org/vision/stable/datasets.html)**\n",
        "\n",
        "<div>\n",
        "<img src=\"https://s2.loli.net/2023/03/30/yxbP8gXCroO1Y7c.png\", width=\"800\"/>\n",
        "</div>\n",
        "\n",
        "Diagram Reference: [Link](https://www.kaggle.com/code/uvxy1234/cifar-10-implementation-with-pytorch)"
      ]
    },
    {
      "cell_type": "markdown",
      "metadata": {
        "id": "1B8ars4-SHS6"
      },
      "source": [
        "Dataset class is defined with 3 components:\n",
        "\n",
        "1.   __init__ : setting up the parameters being used in the class (e.g., `transforms` which corresponds to the transformation being applied)\n",
        "2.   __len__ : so that len(dataset) returns the size of the dataset.\n",
        "3.   __getitem__ to support the indexing such that `dataset[i]` can be used to get `i`ith sample (in our case Image, label pair).\n",
        "\n",
        "To create a custom Dataset object, you would need overide above functions.\n",
        "\n",
        "Documentation for creating custom dataset can be found [here](https://pytorch.org/tutorials/beginner/data_loading_tutorial.html).\n",
        "\n",
        "Luckily, as MNIST is a classic image dataset, we do not need to worry about creating custom `Dataset` and `DataLoader` objects since they are all built into the PyTorch when you import that above.\n",
        "\n",
        "Complete the missing code in the two sections below.\n",
        "\n",
        "*   **1.1.1 Instantiate Train and Test Dataset.** $\\to$ Load and transform data such that it is ready to be passed into the model\n",
        "*   **1.1.2 Instantiate Train and Test Dataloader.** $\\to$ Put the data into the iterable such that the model is able to process data in batch from using `DataLoader`\n"
      ]
    },
    {
      "cell_type": "markdown",
      "metadata": {
        "id": "u_EYA1pQSHS7"
      },
      "source": [
        "### 1.1.1 Instantiate Dataset (for train/test dataset) (6 points)\n",
        "\n",
        "One optional function in Dataset class is `transform`, where we can apply a transformation to the dataset before we load them as a dataloader.\n",
        "\n",
        "For example if we define a `Resize` function in transform, all of our dataset(images) would be resized to specified size passed in as an argument.\n",
        "\n",
        "---\n",
        "**TODO**: complete the code to apply following transformations (in order!!) by using `transforms.Compose` and save it to the variable `transform`:\n",
        "\n",
        "1.   Resize the image to 28 by 28 $\\to$ just to make sure they are really have size $28$x$28$\n",
        "2.   Convert the images to Tensor\n",
        "3.   Rotate the image using `RandomRotation` with the range of rotation between $(-45°,45°)$\n",
        "4.   Add random perspective shift using `RandomPerspective` with the distortion of `0.3` to `50%` of the data.\n",
        "5.   Normalize the Tensor using mean value of `0.1307` and standard deviation value of `0.3081`\n",
        "---\n",
        "**NOTE**: We highly recommend looking at [PyTorch documentation](https://pytorch.org/vision/stable/transforms.html) and some [illustrations](https://pytorch.org/vision/stable/auto_examples/transforms/plot_transforms_illustrations.html#sphx-glr-auto-examples-transforms-plot-transforms-illustrations-py) before proceeding with the code\n",
        "\n",
        "Please review the the recitation notebook for detailed instructions on how to perform these operations.\n",
        "\n",
        "**FYI**: The values `0.1307` and `0.3081` are mean and standard deviation, respectively, of the MNIST dataset [Ref](https://discuss.pytorch.org/t/normalization-in-the-mnist-example/457/4)\n",
        "\n",
        "**NOTE**: Please store the distortion of image in the variable `distortion_scale` since it will be used as an input into the autograder."
      ]
    },
    {
      "cell_type": "code",
      "execution_count": 8,
      "metadata": {
        "id": "Y3mN0QNRSHS7"
      },
      "outputs": [],
      "source": [
        "scale = 28\n",
        "\n",
        "# TODO\n",
        "\n",
        "distortion_scale = 0.3\n",
        "transform = transforms.Compose([\n",
        "    transforms.Resize(size=(28, 28)),\n",
        "    transforms.ToTensor(),\n",
        "    transforms.RandomRotation((-45,45)),\n",
        "    transforms.RandomPerspective(distortion_scale=distortion_scale, p=0.5),\n",
        "    transforms.Normalize(mean=0.1307, std=0.3081)\n",
        "])\n",
        "# TODO END"
      ]
    },
    {
      "cell_type": "markdown",
      "metadata": {
        "id": "5xky6_3jSHS7"
      },
      "source": [
        "Now that we have defined the tranforms we are going to apply to the dataset, let's instantiate `Dataset` objects for both the training and testing sets using predefined PyTorch Dataset. Refer to the documentation [here](https://pytorch.org/vision/stable/generated/torchvision.datasets.MNIST.html).\n",
        "\n",
        "In addition, since the whole dataset is pretty large for running the model, we will also be downsampling by reducing the size of the dataset by half.\n",
        "\n",
        "---\n",
        "**TODO**:\n",
        "* Initiate the Dataset object for the training set as `train_dataset`\n",
        "* Downsample training by getting the train data at even-numbered indices, specified as `train_subset`\n",
        "* Initiate the Dataset object for the testing set as `test_dataset`\n",
        "* Downsample `test_dataset` by getting the test data at even-numbered indices, specified as `test_subset`\n",
        "---\n",
        "---\n",
        "\n",
        "**Hint**: Check out [`torch.utils.data.Subset`](https://pytorch.org/docs/stable/data.html#torch.utils.data.Subset) for downsampling the dataset.\n",
        "\n",
        "**Note**: When initiating the `Dataset` object for both training and testing sets, in addition to other arguments please set these arguments as follows:\n",
        "* `root = './data'`\n",
        "* `download = True`"
      ]
    },
    {
      "cell_type": "code",
      "execution_count": 9,
      "metadata": {
        "id": "mp6MJPMySHS8"
      },
      "outputs": [],
      "source": [
        "# TODO\n",
        "train_dataset = torchvision.datasets.MNIST(root='./data', train=True, download=True, transform=transform)\n",
        "train_subset = torch.utils.data.Subset(train_dataset, [i for i in range(0, len(train_dataset), 2)])\n",
        "test_dataset = torchvision.datasets.MNIST(root='./data', train=False, download=True, transform=transform)\n",
        "test_subset = torch.utils.data.Subset(test_dataset, [i for i in range(0, len(test_dataset), 2)])\n",
        "# TODO END"
      ]
    },
    {
      "cell_type": "markdown",
      "metadata": {
        "id": "N2rftZmpdMK0"
      },
      "source": [
        "**NOTE**: Please do not forget to store the distortion of image in the variable `distortion_scale`."
      ]
    },
    {
      "cell_type": "code",
      "execution_count": 10,
      "metadata": {
        "id": "-wu9vZX8SHS8",
        "colab": {
          "base_uri": "https://localhost:8080/"
        },
        "outputId": "ccb3e225-db42-47a3-ca11-fd4b86513d68"
      },
      "outputs": [
        {
          "output_type": "stream",
          "name": "stdout",
          "text": [
            "Correct! You earned 6/6 points. You are a star!\n",
            "\n",
            "Your submission has been successfully recorded in the gradebook.\n"
          ]
        }
      ],
      "source": [
        "#Grader Cell (6 points)\n",
        "transforms_train = []\n",
        "for i in range(len(train_dataset.transform.transforms)):\n",
        "  transforms_train.append(str(train_dataset.transform.transforms[i]))\n",
        "transforms_test = []\n",
        "for i in range(len(test_dataset.transform.transforms)):\n",
        "  transforms_test.append(str(test_dataset.transform.transforms[i]))\n",
        "grader.grade(test_case_id = 'instantiate_dataset', answer = (transforms_train, transforms_test, len(train_subset), len(test_subset), distortion_scale))"
      ]
    },
    {
      "cell_type": "markdown",
      "metadata": {
        "id": "9St9G6QalnXV"
      },
      "source": [
        "**Hint:** For the above grader cell, part of the criterias we are checking is if the **transform** object is set up correctly."
      ]
    },
    {
      "cell_type": "markdown",
      "metadata": {
        "id": "xMB-Cy3TSHS8"
      },
      "source": [
        "### 1.1.2 Dataloader - Train / Test (4 points)\n",
        "\n",
        "Now that we have `train_subset` and `test_subset`, let's create dataloaders using these two datasets.\n",
        "\n",
        "You can load the dataset into dataloaders using the `DataLoaders` object. Please refer to the documentation [here](https://pytorch.org/docs/stable/data.html#torch.utils.data.DataLoader).\n",
        "\n",
        "---\n",
        "**TODO**:\n",
        "* Initialize the `DataLoader` object for `train_subset` as `train_loader`\n",
        "* Initialize the `DataLoader` object for `test_subset` as `test_loader`\n",
        "---\n",
        "\n",
        "**NOTE**: set the `batch_size` equal to the previously-defined variable `batch`, set `shuffle` to `True`, and `num_workers` as 0.\n"
      ]
    },
    {
      "cell_type": "code",
      "execution_count": 11,
      "metadata": {
        "id": "TOzRzIRwSHS9"
      },
      "outputs": [],
      "source": [
        "batch = 64\n",
        "# TODO\n",
        "train_loader = DataLoader(train_subset, batch_size=batch, shuffle=True, num_workers=0)\n",
        "test_loader = DataLoader(test_subset, batch_size=batch, shuffle=True, num_workers=0)\n",
        "# TODO END"
      ]
    },
    {
      "cell_type": "code",
      "execution_count": 12,
      "metadata": {
        "id": "l4xkncSeSHS9",
        "colab": {
          "base_uri": "https://localhost:8080/"
        },
        "outputId": "048e5e6d-10f2-4612-b6af-13c955a14fc8"
      },
      "outputs": [
        {
          "output_type": "stream",
          "name": "stdout",
          "text": [
            "Correct! You earned 4/4 points. You are a star!\n",
            "\n",
            "Your submission has been successfully recorded in the gradebook.\n"
          ]
        }
      ],
      "source": [
        "#Grader Cell (4 points)\n",
        "trainLoaderCheck = [getattr(train_loader, \"batch_size\"),\n",
        "                    str(type(train_loader)),\n",
        "                    len(getattr(train_loader, \"dataset\")),\n",
        "                    str(getattr(train_loader, \"sampler\")),\n",
        "                    getattr(train_loader, \"num_workers\")]\n",
        "testLoaderCheck = [getattr(test_loader, \"batch_size\"),\n",
        "                    str(type(test_loader)),\n",
        "                    len(getattr(test_loader, \"dataset\")),\n",
        "                    str(getattr(test_loader, \"sampler\")),\n",
        "                    getattr(test_loader, \"num_workers\")]\n",
        "grader.grade(test_case_id = 'check_dataloader', answer = (trainLoaderCheck, testLoaderCheck))"
      ]
    },
    {
      "cell_type": "markdown",
      "metadata": {
        "id": "i3Vub3boSNj-"
      },
      "source": [
        "## 1.2 Summarizing our Dataset (Total: 10 points)\n",
        "\n",
        "Getting a good sense of the dataset we are going to work on is always the first step you should take when implementing ML applications.\n",
        "\n",
        "In this section, we will be looking at the distribution of the dataset (e.g., how many instances belong to class with label `0`) and visualize what we are dealing with (i.e., plot out the sample images)"
      ]
    },
    {
      "cell_type": "markdown",
      "metadata": {
        "id": "1-FMAUdWSNj_"
      },
      "source": [
        "### 1.2.1 Looking at the distribution of labels (6 points)\n",
        "\n",
        "We can look at the distribution of labels by retrieving the labels of all possible instances of the subset of data pulled from `train_dataset` and `test_dataset` (i.e., `train_subset` and `test_subset`) for the training and testing data, respectively. We defined this in section `1.1.1`.\n",
        "\n",
        "---\n",
        "**TODO**\n",
        "* Train\n",
        "  * Get the number of unique labels in `train_subset` and save this quantity as the variable `train_num_labels`.\n",
        "  * Create a `DataLoader` called `train_loader_bar_plot` which takes as arguments the `train_subset`, with the following parameters:\n",
        "    * `batch_size` = length of the `train_subset`\n",
        "    * `shuffle = True`\n",
        "    * `num_workers = 0`\n",
        "  * Create a dictionary `train_subset_dict` that contains the labels as keys and the number of images inside the label as values.\n",
        "* Test\n",
        "  * Get the number of unique labels in testing dataset and save this quantity as the variable `test_num_labels`.\n",
        "  * Create a `DataLoader` called `test_loader_bar_plot` which takes as arguments the `test_subset`,  with the following parameters:\n",
        "    * `batch_size` = length of the `test_subset`\n",
        "    * `shuffle = True`\n",
        "    * `num_workers = 0`\n",
        "  * Create a dictionary `test_subset_dict` that contains the labels as keys and the number of images inside the label as values.\n",
        "---\n",
        "Please refer to **[this](https://pytorch.org/docs/stable/data.html#torch.utils.data.DataLoader)** for instantiating the `DataLoader`, which is similar to what we did in section `1.1.2`"
      ]
    },
    {
      "cell_type": "code",
      "execution_count": 13,
      "metadata": {
        "id": "L3Wo6ww4SNj_"
      },
      "outputs": [],
      "source": [
        "# TODO - TRAIN Data\n",
        "train_labels = []\n",
        "for i in range(len(train_subset)):\n",
        "  train_labels.append(train_subset[i][1])\n",
        "train_num_labels = len(set(train_labels))\n",
        "# Use the original train dataset (with 60,000 images) object to obtain the number of label classes train data\n",
        "train_loader_bar_plot = DataLoader(train_subset, batch_size=len(train_subset), shuffle=True, num_workers=0)\n",
        "\n",
        "# Creating dictionary for train dataset\n",
        "train_subset_dict = {}\n",
        "for i in range(train_num_labels):\n",
        "  train_subset_dict[i] = train_labels.count(i)\n",
        "# END TODO"
      ]
    },
    {
      "cell_type": "code",
      "source": [
        "print(train_labels)\n",
        "print(set(train_labels))"
      ],
      "metadata": {
        "colab": {
          "base_uri": "https://localhost:8080/"
        },
        "id": "sMLaAWBZx8T6",
        "outputId": "7bf5a784-c12d-41f6-ad3c-920543f50c23"
      },
      "execution_count": 14,
      "outputs": [
        {
          "output_type": "stream",
          "name": "stdout",
          "text": [
            "[5, 4, 9, 1, 1, 3, 3, 1, 2, 6, 4, 9, 1, 4, 2, 3, 6, 0, 6, 7, 1, 7, 3, 8, 9, 3, 7, 9, 0, 4, 4, 6, 4, 6, 0, 1, 1, 3, 2, 1, 9, 2, 7, 3, 0, 6, 4, 8, 7, 3, 5, 1, 1, 6, 0, 9, 1, 0, 9, 0, 2, 2, 1, 6, 1, 3, 5, 1, 3, 5, 7, 4, 8, 8, 7, 4, 1, 9, 0, 7, 8, 9, 4, 4, 7, 9, 9, 1, 9, 2, 2, 5, 1, 6, 8, 2, 0, 4, 7, 3, 1, 8, 6, 0, 1, 0, 7, 7, 0, 6, 2, 4, 1, 9, 3, 7, 0, 0, 5, 6, 8, 3, 5, 0, 1, 3, 2, 3, 6, 7, 0, 2, 9, 5, 2, 1, 4, 6, 1, 5, 9, 9, 5, 6, 7, 1, 4, 4, 0, 3, 8, 6, 9, 5, 2, 1, 8, 4, 5, 2, 0, 9, 7, 0, 5, 3, 5, 9, 4, 4, 7, 4, 9, 9, 8, 9, 8, 4, 3, 1, 2, 9, 9, 1, 8, 7, 4, 9, 5, 2, 4, 1, 7, 8, 6, 2, 3, 1, 5, 1, 2, 4, 8, 1, 1, 2, 4, 4, 1, 8, 5, 7, 9, 7, 9, 6, 2, 9, 7, 4, 0, 4, 2, 7, 2, 1, 3, 1, 8, 0, 9, 0, 0, 1, 7, 1, 2, 5, 2, 7, 5, 9, 1, 3, 6, 3, 1, 6, 5, 6, 3, 5, 5, 6, 1, 1, 5, 5, 5, 7, 9, 7, 0, 0, 8, 2, 8, 6, 6, 1, 3, 0, 5, 3, 2, 9, 1, 5, 1, 2, 7, 7, 4, 9, 2, 2, 1, 3, 4, 6, 9, 0, 2, 7, 2, 4, 6, 8, 0, 6, 9, 8, 1, 4, 7, 5, 0, 5, 4, 1, 5, 5, 7, 9, 8, 6, 7, 7, 7, 1, 7, 2, 7, 2, 1, 2, 5, 7, 0, 6, 6, 0, 2, 0, 0, 3, 6, 2, 1, 1, 4, 4, 2, 7, 2, 5, 4, 8, 2, 1, 4, 0, 9, 4, 8, 1, 0, 2, 2, 4, 8, 5, 7, 8, 7, 7, 2, 8, 8, 1, 8, 4, 9, 4, 5, 7, 3, 4, 8, 8, 3, 6, 9, 8, 5, 6, 9, 2, 0, 5, 1, 9, 8, 7, 9, 0, 8, 6, 8, 7, 9, 6, 4, 9, 3, 6, 9, 2, 6, 0, 7, 9, 7, 9, 4, 2, 5, 4, 5, 1, 3, 4, 2, 6, 4, 4, 6, 2, 3, 8, 0, 2, 9, 2, 7, 1, 0, 3, 8, 3, 7, 4, 7, 5, 7, 3, 6, 4, 4, 7, 9, 9, 7, 4, 7, 6, 5, 4, 5, 7, 1, 6, 5, 4, 7, 9, 9, 7, 7, 2, 9, 7, 6, 2, 7, 7, 0, 7, 5, 6, 5, 7, 5, 3, 7, 5, 8, 9, 8, 1, 9, 1, 0, 6, 4, 4, 3, 7, 6, 3, 0, 1, 4, 4, 4, 2, 1, 7, 8, 0, 6, 7, 5, 8, 0, 4, 5, 2, 9, 9, 0, 7, 1, 0, 2, 4, 1, 7, 9, 2, 1, 5, 8, 9, 3, 6, 7, 2, 0, 0, 1, 7, 1, 8, 7, 0, 6, 4, 2, 4, 6, 0, 5, 7, 3, 4, 9, 7, 9, 1, 8, 9, 2, 7, 0, 3, 1, 2, 6, 9, 2, 9, 3, 6, 1, 3, 0, 7, 7, 3, 4, 5, 4, 7, 0, 8, 4, 1, 4, 3, 4, 6, 6, 7, 2, 6, 1, 9, 4, 4, 1, 6, 6, 5, 7, 5, 4, 8, 7, 3, 4, 5, 6, 3, 6, 1, 4, 3, 8, 1, 6, 1, 3, 2, 4, 9, 1, 8, 9, 4, 3, 2, 2, 6, 0, 2, 9, 9, 5, 5, 4, 9, 9, 9, 5, 3, 9, 8, 8, 5, 7, 7, 0, 7, 4, 0, 3, 7, 9, 6, 3, 7, 5, 7, 5, 2, 7, 2, 3, 7, 5, 7, 8, 0, 3, 6, 9, 1, 5, 6, 9, 8, 9, 6, 0, 9, 0, 2, 7, 3, 4, 5, 8, 0, 8, 2, 7, 1, 9, 6, 7, 5, 8, 5, 4, 9, 7, 6, 7, 6, 5, 7, 6, 9, 3, 5, 3, 8, 3, 2, 4, 5, 2, 4, 4, 1, 1, 0, 6, 1, 4, 9, 8, 6, 5, 3, 1, 3, 3, 2, 7, 5, 8, 3, 6, 5, 2, 6, 1, 4, 9, 0, 6, 6, 4, 2, 0, 5, 5, 9, 6, 9, 5, 5, 1, 0, 0, 8, 6, 6, 6, 8, 1, 4, 1, 2, 9, 4, 5, 2, 9, 6, 7, 3, 4, 7, 2, 9, 4, 0, 4, 6, 2, 7, 3, 0, 5, 3, 0, 8, 0, 2, 4, 0, 7, 9, 9, 2, 8, 7, 9, 9, 2, 0, 4, 4, 9, 3, 7, 5, 1, 6, 3, 4, 2, 5, 7, 1, 7, 1, 2, 2, 0, 8, 3, 5, 4, 9, 1, 0, 1, 0, 9, 6, 6, 5, 4, 6, 1, 3, 1, 5, 4, 6, 6, 1, 0, 2, 1, 3, 9, 3, 2, 6, 9, 7, 9, 1, 9, 4, 9, 0, 4, 7, 9, 6, 5, 2, 3, 8, 8, 4, 4, 2, 6, 7, 7, 2, 8, 3, 8, 6, 6, 1, 8, 8, 6, 9, 0, 0, 2, 6, 8, 5, 4, 5, 4, 4, 1, 4, 9, 1, 5, 9, 0, 6, 7, 5, 3, 1, 4, 4, 6, 7, 7, 9, 2, 4, 8, 7, 1, 3, 5, 6, 0, 3, 3, 2, 0, 9, 2, 9, 9, 6, 2, 6, 6, 2, 2, 6, 2, 6, 0, 6, 3, 1, 9, 8, 0, 6, 2, 4, 3, 0, 4, 0, 4, 4, 1, 3, 9, 1, 7, 7, 8, 9, 2, 2, 0, 7, 9, 9, 8, 8, 9, 5, 2, 8, 4, 5, 6, 7, 9, 6, 2, 6, 4, 3, 5, 2, 5, 8, 2, 9, 1, 2, 1, 7, 8, 7, 6, 2, 7, 8, 5, 8, 4, 4, 4, 5, 1, 3, 6, 4, 7, 4, 4, 7, 5, 0, 9, 6, 7, 0, 8, 8, 4, 3, 3, 2, 5, 0, 0, 1, 3, 7, 3, 1, 6, 3, 0, 7, 2, 4, 7, 1, 0, 3, 9, 7, 5, 1, 8, 6, 3, 3, 3, 1, 1, 6, 9, 7, 0, 3, 6, 8, 6, 1, 6, 6, 0, 1, 4, 1, 7, 8, 5, 3, 4, 6, 3, 5, 2, 5, 1, 4, 0, 8, 6, 1, 3, 1, 4, 4, 4, 8, 6, 6, 9, 0, 4, 4, 4, 6, 3, 3, 3, 2, 4, 7, 4, 6, 7, 7, 5, 5, 3, 4, 4, 5, 1, 6, 4, 5, 5, 2, 5, 9, 4, 0, 2, 5, 9, 3, 2, 4, 7, 4, 6, 0, 6, 8, 5, 1, 5, 0, 9, 2, 1, 1, 6, 2, 6, 1, 5, 5, 2, 4, 1, 4, 0, 2, 7, 2, 7, 3, 0, 2, 1, 8, 4, 1, 9, 1, 5, 9, 6, 1, 7, 8, 7, 8, 8, 7, 8, 4, 4, 8, 0, 9, 8, 2, 0, 4, 3, 1, 5, 5, 4, 2, 4, 6, 4, 1, 5, 3, 1, 9, 0, 9, 0, 8, 8, 1, 1, 2, 4, 2, 3, 4, 9, 1, 2, 4, 3, 6, 2, 6, 8, 5, 6, 8, 4, 6, 7, 4, 7, 6, 6, 6, 0, 7, 6, 3, 2, 2, 7, 9, 6, 2, 4, 7, 3, 0, 0, 1, 0, 2, 3, 0, 7, 4, 5, 4, 4, 2, 1, 5, 6, 7, 4, 9, 3, 5, 3, 6, 1, 7, 7, 4, 3, 0, 0, 0, 6, 6, 5, 1, 4, 8, 9, 6, 1, 0, 4, 8, 7, 6, 1, 7, 5, 5, 0, 2, 8, 1, 3, 7, 8, 6, 9, 0, 6, 5, 2, 7, 3, 1, 6, 7, 3, 6, 2, 7, 8, 2, 8, 5, 7, 8, 6, 8, 2, 4, 1, 5, 1, 2, 9, 5, 2, 9, 7, 7, 1, 6, 9, 2, 1, 0, 3, 9, 4, 3, 9, 1, 4, 3, 0, 2, 3, 4, 5, 0, 2, 7, 7, 7, 6, 5, 3, 1, 9, 7, 8, 0, 4, 3, 1, 7, 5, 0, 1, 3, 3, 2, 2, 1, 3, 9, 4, 2, 9, 0, 4, 8, 2, 7, 3, 3, 3, 6, 2, 0, 6, 1, 4, 3, 6, 2, 2, 8, 7, 2, 7, 6, 7, 0, 4, 1, 9, 6, 0, 2, 5, 1, 1, 4, 1, 1, 6, 0, 6, 3, 4, 0, 2, 1, 4, 6, 5, 4, 0, 1, 2, 6, 5, 0, 5, 1, 1, 4, 9, 3, 5, 6, 1, 9, 2, 1, 8, 8, 0, 5, 5, 7, 0, 6, 9, 8, 3, 4, 3, 5, 5, 1, 8, 0, 2, 6, 7, 7, 7, 7, 1, 4, 6, 1, 0, 1, 9, 8, 1, 2, 7, 7, 0, 8, 0, 4, 9, 9, 0, 8, 8, 9, 8, 3, 6, 4, 8, 2, 9, 6, 3, 6, 4, 2, 4, 6, 7, 5, 2, 8, 1, 1, 4, 4, 9, 2, 1, 8, 9, 8, 4, 9, 4, 8, 6, 6, 4, 2, 9, 0, 3, 4, 2, 8, 7, 5, 1, 1, 3, 5, 0, 1, 1, 2, 6, 4, 7, 2, 8, 9, 8, 3, 8, 8, 2, 8, 0, 7, 9, 2, 8, 5, 6, 3, 2, 3, 5, 4, 4, 9, 5, 9, 3, 4, 8, 0, 2, 9, 5, 7, 2, 7, 1, 7, 5, 4, 3, 4, 2, 1, 7, 1, 9, 1, 7, 9, 4, 2, 2, 7, 0, 7, 7, 8, 9, 3, 4, 0, 3, 5, 6, 7, 1, 2, 7, 4, 4, 7, 9, 0, 6, 4, 9, 6, 9, 7, 2, 9, 2, 1, 2, 9, 4, 3, 9, 3, 3, 9, 7, 5, 0, 6, 3, 4, 3, 8, 4, 2, 1, 9, 9, 4, 4, 8, 5, 3, 4, 2, 6, 6, 7, 4, 7, 9, 0, 5, 1, 9, 5, 3, 4, 2, 6, 1, 0, 9, 3, 3, 3, 1, 7, 0, 1, 9, 5, 1, 8, 3, 3, 7, 7, 1, 8, 0, 4, 8, 1, 7, 2, 8, 7, 4, 3, 6, 1, 4, 3, 3, 1, 3, 1, 2, 3, 6, 8, 1, 8, 8, 4, 2, 1, 0, 0, 7, 4, 7, 5, 8, 4, 9, 9, 9, 8, 0, 0, 7, 6, 7, 6, 8, 9, 6, 1, 0, 2, 7, 1, 3, 9, 1, 4, 3, 3, 8, 7, 5, 1, 0, 2, 9, 0, 8, 6, 2, 3, 2, 5, 2, 8, 6, 9, 0, 1, 9, 3, 9, 8, 1, 1, 3, 4, 0, 0, 3, 8, 7, 7, 0, 4, 3, 1, 8, 0, 5, 9, 5, 7, 2, 1, 6, 5, 6, 4, 6, 3, 8, 2, 9, 8, 4, 4, 3, 2, 3, 2, 9, 2, 5, 3, 4, 8, 8, 7, 4, 9, 0, 6, 0, 9, 6, 4, 2, 2, 1, 4, 7, 0, 2, 4, 6, 7, 8, 4, 0, 6, 4, 3, 9, 8, 9, 2, 7, 5, 3, 3, 1, 9, 8, 6, 8, 5, 9, 6, 6, 0, 0, 7, 7, 9, 9, 7, 7, 8, 6, 9, 7, 1, 1, 7, 0, 6, 3, 3, 6, 8, 9, 6, 1, 3, 2, 4, 2, 5, 9, 2, 4, 7, 8, 3, 7, 2, 1, 9, 7, 6, 6, 5, 4, 5, 8, 7, 5, 8, 9, 0, 1, 2, 0, 0, 2, 0, 2, 8, 7, 0, 1, 1, 2, 9, 0, 6, 6, 9, 7, 7, 8, 3, 5, 2, 1, 8, 2, 6, 2, 6, 3, 7, 7, 5, 4, 7, 6, 6, 1, 1, 8, 6, 1, 0, 1, 8, 9, 5, 5, 8, 4, 2, 9, 4, 8, 5, 4, 7, 6, 1, 9, 7, 0, 5, 8, 0, 1, 1, 1, 2, 6, 7, 3, 7, 9, 2, 6, 9, 7, 8, 4, 8, 7, 0, 7, 5, 9, 8, 6, 9, 8, 9, 5, 1, 1, 3, 1, 6, 7, 5, 6, 2, 0, 8, 2, 4, 6, 9, 3, 2, 9, 8, 4, 5, 0, 0, 6, 6, 4, 7, 9, 1, 9, 9, 5, 1, 7, 4, 5, 3, 3, 1, 0, 2, 4, 8, 6, 1, 3, 3, 9, 1, 1, 7, 1, 5, 6, 4, 4, 8, 4, 4, 2, 5, 1, 6, 1, 5, 5, 3, 6, 7, 1, 2, 9, 2, 6, 2, 6, 0, 0, 0, 9, 4, 7, 4, 2, 6, 3, 3, 3, 4, 7, 9, 3, 1, 3, 4, 7, 3, 8, 9, 3, 4, 7, 6, 0, 8, 4, 3, 2, 7, 8, 0, 1, 0, 5, 4, 1, 7, 7, 1, 5, 5, 9, 8, 0, 5, 6, 0, 4, 9, 2, 8, 7, 3, 7, 7, 7, 4, 7, 0, 3, 0, 4, 8, 9, 3, 7, 0, 7, 6, 9, 6, 7, 9, 8, 7, 0, 5, 9, 2, 4, 8, 4, 8, 1, 6, 7, 7, 2, 3, 6, 6, 4, 6, 4, 1, 2, 5, 3, 1, 7, 5, 6, 2, 6, 7, 8, 4, 4, 8, 2, 0, 2, 8, 5, 7, 4, 9, 7, 4, 5, 4, 9, 8, 1, 7, 2, 2, 7, 5, 8, 1, 1, 0, 3, 1, 4, 0, 4, 0, 1, 1, 3, 3, 3, 3, 2, 7, 2, 6, 4, 1, 6, 7, 7, 0, 1, 6, 4, 4, 2, 9, 6, 7, 2, 3, 1, 0, 5, 6, 5, 4, 1, 9, 3, 6, 2, 2, 8, 8, 8, 3, 6, 0, 5, 7, 9, 5, 8, 5, 1, 7, 9, 0, 2, 6, 5, 4, 7, 6, 5, 0, 4, 3, 9, 3, 8, 4, 3, 6, 0, 1, 2, 2, 2, 8, 1, 0, 3, 6, 2, 2, 5, 9, 5, 7, 3, 1, 9, 7, 0, 8, 0, 0, 9, 8, 3, 1, 8, 8, 6, 5, 2, 1, 1, 6, 2, 2, 0, 9, 2, 6, 7, 5, 4, 6, 7, 3, 0, 3, 3, 0, 4, 0, 1, 5, 9, 0, 4, 5, 3, 1, 1, 4, 6, 1, 7, 0, 6, 4, 4, 7, 5, 9, 1, 3, 7, 4, 4, 6, 4, 0, 7, 3, 1, 4, 8, 9, 6, 5, 4, 9, 9, 6, 9, 7, 8, 3, 4, 7, 7, 5, 2, 8, 3, 0, 0, 2, 7, 8, 8, 3, 3, 3, 0, 1, 4, 7, 3, 2, 6, 1, 6, 7, 4, 0, 9, 4, 3, 1, 9, 7, 0, 5, 6, 9, 2, 9, 0, 1, 6, 1, 0, 7, 6, 9, 6, 9, 2, 5, 1, 1, 7, 5, 1, 4, 4, 3, 1, 1, 0, 7, 3, 9, 1, 1, 5, 1, 1, 6, 8, 7, 2, 3, 6, 8, 0, 3, 1, 7, 4, 1, 1, 9, 0, 1, 7, 2, 6, 1, 7, 9, 6, 5, 8, 4, 8, 3, 4, 6, 8, 9, 4, 0, 8, 0, 1, 5, 1, 5, 9, 4, 5, 7, 6, 0, 0, 2, 8, 3, 0, 6, 3, 3, 1, 3, 2, 0, 6, 7, 3, 2, 9, 0, 2, 8, 1, 8, 4, 0, 4, 4, 6, 1, 9, 1, 4, 9, 4, 8, 9, 0, 7, 3, 4, 3, 0, 2, 5, 3, 2, 5, 2, 1, 8, 9, 1, 1, 7, 4, 7, 3, 3, 5, 3, 0, 0, 0, 4, 8, 0, 1, 7, 9, 5, 9, 7, 2, 6, 8, 6, 9, 6, 0, 6, 2, 1, 2, 3, 5, 7, 0, 0, 8, 2, 3, 5, 1, 2, 6, 1, 7, 0, 0, 3, 0, 6, 9, 4, 7, 9, 3, 0, 0, 6, 5, 6, 8, 0, 7, 7, 1, 2, 7, 6, 7, 2, 9, 2, 9, 4, 4, 7, 3, 0, 3, 6, 1, 8, 0, 0, 0, 8, 8, 9, 7, 3, 4, 3, 8, 9, 6, 4, 0, 3, 8, 6, 8, 5, 2, 5, 6, 9, 3, 9, 3, 8, 3, 0, 2, 9, 9, 4, 3, 4, 3, 5, 7, 8, 2, 7, 5, 9, 1, 8, 3, 3, 2, 2, 5, 3, 4, 7, 7, 4, 5, 9, 5, 3, 8, 0, 0, 6, 0, 0, 7, 8, 8, 9, 2, 4, 1, 6, 0, 4, 9, 1, 7, 0, 1, 0, 7, 5, 2, 3, 0, 0, 1, 9, 1, 9, 6, 5, 2, 1, 9, 8, 8, 9, 7, 3, 9, 7, 8, 5, 1, 6, 6, 9, 0, 3, 7, 6, 7, 1, 9, 8, 6, 3, 4, 1, 7, 6, 3, 4, 9, 8, 7, 5, 6, 2, 0, 5, 0, 1, 0, 9, 3, 2, 5, 0, 2, 7, 8, 1, 6, 6, 4, 2, 3, 3, 1, 0, 1, 7, 7, 6, 2, 9, 3, 0, 9, 5, 5, 8, 9, 0, 7, 5, 8, 6, 6, 6, 5, 0, 0, 0, 8, 0, 2, 3, 9, 2, 1, 3, 5, 1, 7, 9, 4, 2, 2, 9, 3, 0, 1, 4, 3, 3, 9, 5, 2, 9, 3, 6, 5, 7, 1, 2, 1, 2, 4, 6, 7, 3, 6, 6, 5, 7, 6, 6, 7, 7, 3, 2, 4, 9, 4, 3, 8, 6, 6, 9, 0, 6, 3, 1, 2, 7, 3, 4, 1, 6, 5, 0, 6, 1, 9, 3, 1, 1, 0, 6, 6, 1, 3, 4, 5, 3, 9, 1, 1, 5, 9, 3, 5, 9, 1, 9, 4, 1, 0, 0, 0, 2, 9, 8, 8, 9, 2, 2, 5, 7, 2, 6, 7, 2, 8, 9, 6, 3, 9, 3, 2, 1, 0, 5, 4, 0, 9, 3, 4, 7, 6, 1, 2, 4, 6, 3, 4, 6, 9, 1, 7, 3, 8, 3, 7, 0, 3, 4, 5, 7, 2, 6, 9, 1, 6, 6, 6, 1, 5, 8, 0, 9, 2, 7, 3, 5, 1, 8, 6, 5, 4, 8, 3, 0, 9, 2, 3, 9, 2, 7, 3, 7, 1, 7, 2, 4, 2, 1, 7, 8, 5, 1, 8, 9, 0, 9, 2, 1, 9, 5, 7, 6, 9, 0, 5, 3, 9, 6, 1, 3, 1, 1, 5, 2, 1, 3, 4, 1, 2, 2, 4, 7, 7, 7, 8, 2, 7, 1, 2, 0, 3, 6, 8, 4, 9, 8, 4, 9, 9, 9, 2, 3, 2, 9, 7, 6, 5, 3, 4, 1, 5, 2, 1, 6, 8, 5, 5, 7, 2, 1, 1, 4, 2, 8, 3, 4, 4, 2, 7, 1, 0, 3, 1, 9, 6, 9, 8, 8, 1, 6, 7, 7, 2, 1, 4, 4, 4, 1, 5, 6, 4, 2, 9, 5, 5, 7, 7, 3, 8, 3, 8, 5, 0, 9, 0, 3, 5, 0, 7, 9, 4, 9, 4, 4, 0, 1, 0, 8, 5, 0, 1, 0, 0, 9, 4, 6, 3, 3, 2, 5, 2, 3, 5, 8, 1, 7, 2, 3, 8, 1, 9, 5, 1, 5, 9, 7, 1, 9, 1, 2, 6, 8, 6, 0, 6, 3, 0, 6, 8, 0, 1, 3, 5, 2, 3, 5, 3, 0, 4, 5, 3, 3, 7, 5, 1, 9, 3, 2, 0, 0, 4, 3, 6, 4, 6, 1, 9, 4, 6, 2, 0, 8, 5, 6, 7, 2, 2, 6, 4, 6, 1, 4, 2, 2, 0, 8, 3, 0, 5, 8, 8, 7, 8, 9, 3, 9, 9, 3, 5, 6, 7, 1, 4, 8, 4, 0, 2, 9, 8, 4, 6, 7, 4, 1, 4, 1, 4, 6, 9, 7, 1, 1, 6, 6, 3, 6, 8, 8, 3, 1, 9, 7, 3, 3, 4, 4, 7, 6, 8, 8, 4, 5, 3, 0, 7, 8, 8, 8, 2, 2, 2, 0, 3, 9, 5, 6, 1, 2, 5, 5, 0, 7, 4, 1, 4, 3, 5, 3, 5, 7, 9, 6, 4, 4, 0, 1, 5, 1, 0, 7, 7, 6, 6, 9, 7, 1, 0, 1, 0, 3, 0, 3, 5, 4, 4, 1, 6, 7, 4, 6, 8, 0, 6, 9, 1, 0, 7, 6, 8, 8, 1, 3, 7, 3, 7, 0, 8, 3, 2, 3, 0, 7, 5, 8, 5, 4, 2, 5, 3, 5, 8, 9, 8, 4, 6, 4, 6, 0, 4, 8, 8, 4, 4, 8, 8, 7, 9, 1, 7, 3, 6, 5, 0, 1, 5, 9, 5, 9, 3, 2, 5, 9, 5, 6, 3, 3, 2, 7, 1, 7, 5, 1, 9, 6, 6, 7, 1, 7, 5, 9, 5, 4, 3, 3, 8, 3, 1, 7, 3, 3, 7, 2, 3, 7, 8, 9, 3, 9, 8, 1, 0, 6, 7, 9, 5, 8, 8, 8, 2, 1, 2, 9, 8, 6, 7, 0, 0, 8, 9, 3, 0, 0, 0, 2, 8, 5, 5, 6, 5, 7, 5, 4, 2, 8, 4, 1, 8, 4, 0, 9, 6, 7, 0, 2, 9, 0, 1, 1, 5, 8, 7, 3, 5, 8, 4, 0, 1, 8, 5, 3, 8, 0, 0, 7, 9, 3, 1, 0, 6, 0, 5, 9, 2, 1, 8, 1, 3, 2, 1, 6, 2, 4, 7, 9, 6, 9, 4, 6, 6, 3, 9, 9, 5, 5, 1, 9, 4, 8, 4, 6, 0, 0, 3, 3, 8, 1, 2, 8, 5, 2, 9, 3, 4, 5, 3, 0, 1, 3, 0, 4, 8, 2, 5, 7, 1, 4, 9, 8, 8, 4, 1, 8, 3, 9, 2, 9, 9, 6, 4, 6, 9, 7, 6, 3, 5, 8, 6, 1, 6, 7, 8, 6, 5, 1, 7, 5, 1, 2, 5, 5, 4, 3, 9, 0, 9, 9, 5, 2, 9, 2, 6, 5, 0, 9, 5, 7, 4, 4, 7, 0, 3, 8, 2, 6, 4, 6, 8, 5, 7, 7, 8, 9, 9, 7, 8, 0, 8, 3, 1, 2, 8, 1, 3, 7, 3, 0, 7, 6, 2, 5, 7, 4, 7, 5, 8, 0, 2, 7, 0, 4, 5, 2, 0, 5, 8, 0, 7, 5, 7, 7, 7, 5, 2, 2, 3, 6, 8, 1, 1, 1, 2, 1, 3, 2, 9, 7, 7, 3, 1, 4, 2, 9, 2, 6, 8, 7, 1, 4, 5, 7, 5, 8, 6, 1, 6, 0, 6, 0, 4, 0, 9, 7, 1, 9, 2, 9, 5, 5, 2, 2, 8, 6, 9, 7, 1, 5, 2, 4, 6, 0, 8, 2, 8, 8, 6, 9, 2, 6, 1, 4, 2, 7, 1, 7, 1, 9, 8, 1, 6, 5, 0, 8, 0, 2, 3, 1, 4, 6, 6, 0, 7, 8, 1, 1, 2, 4, 6, 3, 3, 8, 1, 3, 5, 2, 4, 6, 3, 9, 8, 8, 7, 7, 2, 2, 7, 3, 9, 1, 2, 3, 2, 1, 1, 3, 8, 8, 5, 8, 7, 2, 0, 1, 4, 2, 1, 1, 3, 6, 0, 3, 1, 5, 3, 8, 9, 3, 9, 8, 6, 7, 2, 9, 3, 7, 1, 3, 6, 9, 8, 2, 0, 0, 8, 9, 1, 6, 1, 4, 6, 4, 0, 7, 2, 4, 2, 5, 5, 9, 6, 1, 1, 8, 1, 7, 9, 2, 2, 3, 1, 3, 8, 7, 2, 9, 2, 3, 2, 2, 3, 0, 1, 2, 2, 3, 2, 9, 3, 5, 4, 1, 7, 8, 9, 8, 0, 2, 5, 9, 8, 4, 1, 0, 3, 1, 8, 1, 5, 5, 8, 0, 5, 1, 7, 4, 8, 0, 1, 3, 4, 7, 6, 2, 8, 0, 1, 3, 6, 0, 5, 9, 5, 9, 0, 0, 1, 1, 5, 5, 9, 7, 8, 1, 1, 4, 2, 8, 2, 9, 8, 6, 8, 0, 0, 0, 9, 1, 9, 2, 0, 9, 0, 7, 9, 0, 8, 4, 2, 5, 5, 3, 6, 6, 6, 4, 3, 0, 3, 3, 4, 2, 5, 6, 7, 7, 1, 5, 0, 2, 6, 4, 8, 5, 3, 3, 0, 3, 7, 5, 2, 4, 0, 9, 1, 6, 9, 7, 1, 6, 7, 0, 3, 0, 3, 3, 5, 2, 9, 5, 6, 9, 7, 1, 6, 6, 6, 2, 1, 2, 7, 4, 0, 7, 1, 3, 0, 0, 6, 2, 5, 1, 0, 0, 1, 7, 0, 8, 3, 3, 1, 5, 5, 7, 8, 0, 8, 7, 6, 7, 7, 6, 8, 6, 2, 2, 1, 0, 1, 1, 3, 1, 7, 7, 0, 4, 1, 5, 1, 7, 3, 7, 3, 5, 3, 1, 7, 7, 3, 2, 2, 6, 4, 8, 2, 7, 9, 1, 9, 1, 6, 2, 3, 3, 7, 8, 3, 9, 4, 8, 9, 3, 7, 0, 5, 3, 7, 1, 5, 0, 3, 4, 7, 4, 0, 0, 9, 4, 7, 6, 0, 7, 0, 6, 2, 0, 1, 4, 8, 7, 0, 8, 9, 8, 6, 6, 9, 9, 5, 9, 8, 6, 6, 1, 1, 2, 6, 3, 8, 2, 4, 4, 1, 3, 6, 0, 9, 9, 3, 7, 7, 8, 0, 4, 2, 2, 6, 8, 4, 1, 6, 8, 1, 2, 5, 1, 7, 6, 4, 1, 9, 3, 9, 6, 4, 5, 9, 1, 6, 1, 9, 5, 2, 1, 8, 5, 7, 4, 9, 9, 7, 2, 9, 3, 1, 6, 1, 4, 2, 6, 1, 4, 9, 2, 0, 2, 7, 6, 2, 8, 9, 1, 6, 2, 9, 3, 8, 3, 6, 7, 5, 1, 4, 9, 1, 9, 7, 9, 8, 8, 3, 6, 3, 1, 6, 4, 8, 1, 0, 1, 3, 6, 5, 1, 2, 3, 7, 9, 4, 7, 2, 7, 3, 4, 7, 1, 7, 1, 4, 2, 8, 9, 1, 6, 9, 7, 7, 2, 4, 1, 7, 3, 9, 1, 0, 2, 7, 8, 9, 4, 5, 9, 6, 9, 2, 4, 6, 6, 2, 5, 4, 5, 1, 4, 1, 9, 5, 6, 1, 8, 1, 8, 5, 2, 3, 9, 5, 1, 8, 0, 3, 8, 6, 8, 6, 8, 4, 7, 3, 9, 1, 4, 3, 3, 5, 9, 3, 7, 6, 8, 0, 6, 5, 8, 8, 5, 9, 1, 2, 2, 5, 8, 5, 9, 2, 0, 3, 7, 1, 3, 8, 5, 4, 6, 1, 6, 9, 1, 8, 8, 2, 3, 0, 3, 6, 3, 4, 7, 3, 9, 7, 1, 3, 2, 0, 6, 3, 3, 6, 6, 3, 6, 7, 3, 4, 2, 1, 0, 4, 4, 2, 6, 6, 6, 2, 4, 5, 2, 6, 6, 2, 7, 6, 6, 4, 4, 5, 2, 3, 3, 3, 2, 3, 4, 8, 0, 0, 6, 5, 9, 1, 4, 6, 7, 0, 4, 1, 8, 8, 2, 2, 0, 8, 4, 0, 1, 3, 5, 6, 6, 4, 3, 3, 4, 2, 7, 4, 3, 2, 4, 4, 2, 9, 1, 2, 6, 3, 2, 7, 0, 1, 5, 5, 7, 1, 6, 4, 9, 6, 9, 3, 3, 8, 6, 1, 8, 6, 0, 8, 7, 6, 4, 5, 4, 0, 0, 2, 0, 4, 6, 5, 4, 0, 8, 7, 2, 0, 6, 7, 5, 5, 9, 6, 9, 1, 3, 8, 3, 3, 7, 5, 7, 8, 6, 2, 6, 5, 2, 4, 7, 2, 1, 4, 1, 8, 9, 4, 9, 6, 9, 5, 6, 9, 1, 9, 8, 1, 5, 3, 0, 6, 3, 4, 9, 8, 8, 6, 0, 5, 7, 8, 0, 3, 5, 4, 6, 9, 8, 3, 3, 3, 2, 7, 4, 3, 0, 0, 7, 7, 6, 0, 6, 8, 6, 2, 7, 4, 2, 8, 0, 7, 3, 5, 3, 5, 8, 5, 9, 1, 2, 6, 2, 2, 8, 2, 6, 1, 2, 1, 6, 1, 2, 3, 7, 3, 7, 7, 3, 6, 4, 2, 7, 1, 9, 1, 3, 0, 1, 3, 3, 9, 9, 9, 0, 1, 8, 6, 2, 5, 0, 3, 5, 5, 5, 1, 8, 5, 6, 5, 0, 5, 9, 4, 1, 5, 1, 7, 8, 2, 4, 8, 5, 5, 4, 9, 2, 5, 1, 3, 7, 5, 3, 4, 9, 4, 9, 2, 2, 3, 0, 1, 0, 8, 4, 3, 5, 7, 3, 3, 0, 3, 7, 9, 1, 7, 7, 4, 6, 0, 4, 7, 6, 9, 5, 0, 7, 0, 0, 6, 5, 5, 3, 6, 7, 2, 1, 0, 0, 1, 3, 2, 6, 2, 8, 1, 7, 4, 7, 6, 7, 9, 0, 2, 7, 6, 5, 3, 2, 3, 7, 0, 6, 8, 0, 9, 6, 4, 7, 1, 2, 0, 2, 7, 1, 0, 8, 6, 4, 7, 1, 8, 4, 5, 1, 2, 6, 6, 5, 6, 7, 1, 4, 7, 1, 3, 8, 6, 7, 2, 3, 2, 7, 8, 3, 3, 9, 1, 1, 3, 1, 3, 4, 1, 9, 4, 4, 3, 3, 8, 9, 7, 5, 3, 8, 5, 9, 7, 2, 7, 6, 3, 0, 2, 3, 2, 1, 7, 1, 3, 2, 5, 8, 0, 5, 6, 8, 3, 0, 6, 6, 4, 3, 9, 0, 2, 4, 7, 4, 0, 2, 7, 8, 9, 3, 8, 1, 2, 5, 7, 0, 0, 4, 2, 0, 9, 9, 2, 9, 6, 8, 8, 3, 7, 5, 2, 7, 2, 3, 2, 8, 9, 3, 7, 0, 8, 8, 1, 6, 5, 6, 1, 0, 6, 9, 3, 5, 6, 6, 0, 0, 5, 2, 6, 2, 8, 0, 2, 9, 0, 1, 8, 9, 3, 2, 8, 7, 1, 5, 6, 2, 3, 8, 3, 9, 6, 0, 9, 7, 4, 7, 1, 7, 7, 0, 6, 2, 9, 5, 8, 1, 3, 1, 7, 1, 2, 0, 3, 8, 4, 0, 8, 6, 6, 1, 3, 0, 8, 9, 4, 1, 8, 6, 8, 9, 8, 7, 8, 5, 1, 2, 2, 0, 9, 8, 2, 3, 4, 0, 4, 8, 4, 0, 7, 7, 7, 0, 8, 9, 3, 7, 9, 1, 5, 0, 8, 7, 2, 4, 1, 0, 2, 0, 9, 5, 6, 3, 6, 9, 1, 3, 6, 7, 1, 7, 3, 8, 5, 1, 4, 5, 8, 8, 1, 9, 2, 3, 6, 2, 0, 2, 2, 7, 9, 2, 5, 9, 7, 1, 2, 9, 4, 2, 6, 1, 9, 4, 3, 1, 0, 2, 8, 8, 0, 2, 9, 1, 1, 2, 0, 9, 3, 5, 7, 4, 1, 7, 1, 2, 7, 5, 6, 9, 0, 7, 4, 6, 0, 7, 1, 5, 9, 9, 0, 6, 5, 2, 4, 9, 2, 7, 0, 3, 9, 3, 4, 3, 4, 6, 1, 8, 6, 5, 2, 0, 9, 6, 4, 3, 0, 0, 5, 6, 1, 8, 4, 0, 2, 5, 3, 4, 2, 1, 1, 6, 0, 8, 0, 3, 5, 3, 9, 5, 5, 1, 9, 6, 7, 6, 2, 7, 6, 9, 2, 4, 2, 3, 5, 1, 4, 3, 7, 0, 3, 3, 6, 0, 9, 4, 0, 1, 6, 1, 0, 4, 0, 2, 6, 8, 3, 1, 1, 0, 2, 5, 0, 9, 1, 1, 0, 9, 0, 5, 7, 3, 7, 7, 4, 8, 5, 3, 1, 2, 7, 9, 5, 9, 1, 6, 1, 8, 3, 8, 9, 3, 5, 5, 2, 9, 6, 6, 8, 8, 1, 3, 6, 3, 0, 1, 4, 4, 2, 3, 1, 3, 2, 7, 2, 9, 9, 8, 6, 8, 0, 8, 5, 4, 7, 5, 1, 2, 4, 5, 1, 7, 6, 2, 9, 3, 3, 7, 9, 2, 2, 0, 6, 6, 5, 5, 6, 0, 7, 5, 7, 6, 6, 2, 1, 4, 4, 1, 0, 5, 1, 2, 8, 2, 9, 5, 1, 2, 8, 5, 9, 7, 8, 4, 8, 5, 6, 1, 0, 3, 3, 5, 4, 9, 2, 4, 2, 5, 1, 4, 8, 6, 8, 4, 4, 1, 7, 4, 3, 9, 7, 6, 5, 6, 5, 9, 9, 1, 0, 3, 3, 4, 6, 3, 3, 3, 2, 7, 1, 1, 2, 4, 1, 8, 3, 6, 0, 7, 4, 9, 7, 8, 1, 2, 7, 7, 8, 9, 4, 8, 3, 3, 0, 3, 4, 8, 5, 5, 7, 9, 6, 0, 9, 6, 3, 4, 3, 3, 5, 2, 4, 5, 9, 6, 2, 4, 9, 5, 9, 6, 7, 6, 6, 9, 3, 5, 8, 2, 5, 0, 9, 9, 4, 5, 6, 8, 9, 5, 2, 3, 7, 3, 4, 1, 6, 1, 0, 1, 0, 2, 9, 4, 1, 4, 8, 4, 9, 8, 7, 8, 1, 4, 3, 0, 3, 1, 3, 3, 5, 1, 4, 7, 1, 5, 3, 2, 3, 3, 5, 9, 4, 6, 4, 0, 0, 4, 2, 1, 0, 1, 4, 6, 7, 9, 8, 0, 7, 4, 9, 7, 8, 6, 4, 5, 6, 5, 4, 2, 4, 3, 6, 9, 2, 0, 6, 2, 6, 1, 3, 7, 2, 4, 0, 3, 6, 3, 6, 3, 1, 2, 4, 3, 3, 0, 4, 2, 7, 0, 4, 0, 8, 2, 2, 3, 0, 6, 4, 3, 4, 4, 6, 1, 0, 7, 7, 1, 0, 6, 5, 2, 9, 8, 0, 9, 7, 9, 7, 1, 2, 2, 7, 9, 7, 5, 9, 6, 6, 9, 3, 2, 8, 2, 1, 3, 0, 5, 8, 7, 4, 4, 6, 7, 6, 1, 5, 3, 6, 8, 4, 8, 4, 9, 1, 5, 1, 6, 8, 0, 7, 7, 7, 7, 0, 6, 8, 1, 7, 5, 4, 9, 7, 9, 9, 9, 9, 5, 1, 9, 7, 9, 9, 8, 9, 1, 3, 6, 7, 0, 9, 6, 1, 2, 3, 3, 1, 5, 0, 2, 3, 9, 1, 2, 9, 7, 4, 8, 5, 1, 4, 7, 1, 5, 1, 7, 9, 1, 9, 6, 3, 2, 8, 7, 1, 7, 3, 2, 9, 8, 0, 2, 1, 5, 1, 4, 6, 0, 0, 8, 5, 1, 7, 0, 7, 7, 6, 5, 0, 1, 2, 2, 6, 7, 1, 0, 5, 1, 1, 1, 2, 9, 9, 7, 7, 8, 9, 4, 2, 8, 2, 6, 9, 6, 3, 2, 5, 8, 7, 5, 1, 8, 4, 5, 1, 4, 9, 1, 2, 0, 4, 7, 0, 7, 1, 4, 2, 2, 1, 9, 8, 2, 6, 8, 9, 3, 5, 2, 4, 0, 9, 6, 4, 5, 5, 9, 3, 8, 3, 8, 5, 5, 7, 6, 5, 4, 4, 7, 5, 1, 1, 8, 1, 7, 4, 0, 7, 1, 3, 1, 3, 0, 7, 6, 0, 7, 9, 9, 7, 5, 3, 8, 7, 9, 2, 3, 3, 1, 2, 0, 7, 7, 8, 3, 5, 0, 2, 4, 9, 9, 0, 8, 0, 5, 6, 7, 5, 4, 2, 8, 1, 1, 1, 6, 0, 8, 7, 3, 0, 1, 4, 9, 9, 1, 2, 1, 0, 5, 7, 7, 5, 4, 2, 7, 4, 0, 5, 4, 7, 8, 7, 1, 9, 4, 8, 5, 1, 6, 6, 9, 6, 7, 9, 4, 4, 0, 5, 9, 2, 1, 8, 5, 3, 3, 0, 3, 7, 2, 8, 8, 8, 8, 1, 6, 9, 8, 7, 2, 4, 0, 4, 0, 2, 8, 3, 0, 3, 0, 1, 9, 4, 7, 7, 4, 2, 2, 5, 7, 0, 5, 6, 7, 3, 5, 0, 0, 8, 7, 6, 5, 3, 5, 8, 7, 2, 9, 9, 4, 9, 7, 4, 2, 6, 9, 6, 0, 8, 7, 9, 5, 2, 0, 0, 5, 4, 7, 2, 8, 0, 9, 5, 6, 1, 6, 8, 3, 5, 6, 8, 5, 9, 4, 0, 8, 6, 7, 2, 7, 9, 0, 8, 9, 8, 3, 9, 0, 4, 9, 0, 5, 9, 9, 5, 4, 6, 9, 5, 9, 8, 8, 7, 7, 0, 8, 6, 1, 4, 3, 3, 4, 6, 5, 1, 9, 6, 0, 6, 3, 5, 1, 8, 4, 4, 9, 9, 7, 6, 8, 7, 6, 0, 9, 0, 8, 3, 8, 5, 7, 0, 3, 3, 8, 4, 1, 8, 4, 4, 1, 1, 1, 3, 5, 7, 9, 4, 8, 1, 4, 1, 7, 4, 8, 6, 4, 1, 9, 9, 1, 3, 5, 8, 3, 6, 6, 5, 3, 9, 4, 3, 4, 6, 1, 3, 5, 8, 6, 7, 8, 9, 4, 3, 7, 1, 8, 1, 0, 1, 7, 0, 0, 0, 5, 3, 0, 3, 1, 2, 1, 9, 9, 8, 1, 0, 6, 9, 8, 7, 1, 0, 8, 0, 3, 7, 8, 4, 4, 2, 8, 9, 9, 2, 7, 7, 5, 1, 3, 6, 3, 6, 3, 4, 1, 3, 1, 5, 2, 1, 2, 9, 8, 3, 3, 9, 8, 7, 2, 4, 6, 3, 6, 0, 0, 8, 6, 9, 3, 0, 7, 9, 8, 5, 2, 8, 6, 7, 9, 7, 8, 3, 2, 7, 4, 8, 1, 3, 1, 4, 1, 9, 4, 0, 3, 4, 3, 4, 3, 1, 3, 6, 9, 3, 3, 7, 3, 2, 6, 1, 5, 0, 1, 7, 2, 9, 2, 2, 0, 5, 8, 9, 1, 4, 5, 1, 7, 3, 1, 4, 4, 8, 6, 2, 9, 7, 6, 1, 0, 3, 4, 7, 2, 2, 2, 7, 3, 9, 1, 1, 4, 9, 9, 8, 3, 6, 6, 6, 7, 0, 4, 4, 6, 7, 8, 6, 5, 4, 2, 5, 7, 6, 8, 5, 1, 5, 3, 7, 8, 9, 3, 0, 5, 0, 3, 1, 1, 1, 2, 0, 6, 6, 8, 7, 7, 6, 4, 1, 8, 3, 4, 5, 0, 3, 3, 5, 0, 6, 0, 1, 7, 2, 9, 4, 5, 0, 9, 5, 5, 7, 1, 8, 2, 0, 8, 5, 1, 3, 8, 6, 2, 9, 3, 5, 6, 2, 4, 4, 9, 8, 4, 2, 8, 7, 5, 7, 8, 1, 1, 6, 5, 6, 1, 4, 9, 8, 5, 0, 4, 3, 8, 8, 0, 1, 0, 7, 0, 2, 9, 7, 7, 1, 2, 5, 0, 5, 0, 5, 5, 9, 3, 3, 3, 1, 1, 9, 8, 8, 5, 0, 2, 3, 1, 7, 4, 6, 7, 0, 1, 5, 9, 2, 7, 6, 1, 0, 3, 2, 7, 5, 6, 4, 6, 0, 2, 9, 5, 7, 7, 0, 8, 3, 8, 2, 4, 4, 4, 9, 7, 0, 1, 5, 2, 5, 7, 2, 6, 3, 3, 5, 5, 4, 2, 1, 3, 3, 4, 9, 6, 3, 3, 9, 1, 2, 9, 8, 7, 9, 2, 5, 2, 2, 5, 2, 6, 9, 4, 0, 3, 6, 1, 0, 3, 9, 8, 0, 8, 8, 9, 7, 5, 9, 6, 8, 2, 7, 9, 4, 9, 2, 1, 3, 4, 3, 0, 8, 1, 1, 8, 8, 2, 5, 3, 8, 9, 4, 2, 1, 2, 7, 8, 8, 5, 6, 4, 3, 7, 4, 8, 4, 5, 6, 7, 8, 5, 8, 3, 0, 7, 5, 3, 7, 9, 8, 1, 4, 6, 9, 8, 8, 8, 6, 2, 7, 3, 9, 0, 9, 9, 5, 2, 5, 7, 0, 6, 7, 9, 4, 0, 7, 5, 5, 8, 7, 0, 4, 5, 9, 0, 0, 5, 1, 2, 6, 2, 9, 1, 5, 5, 9, 0, 2, 1, 4, 1, 9, 3, 1, 3, 9, 8, 5, 8, 3, 0, 4, 9, 4, 3, 7, 2, 1, 3, 3, 3, 2, 7, 8, 1, 2, 7, 1, 7, 0, 7, 1, 6, 6, 7, 8, 9, 7, 5, 0, 8, 7, 3, 7, 9, 0, 2, 2, 3, 8, 0, 3, 6, 3, 0, 0, 3, 6, 3, 6, 6, 3, 0, 5, 5, 4, 0, 0, 3, 7, 6, 5, 3, 4, 1, 5, 8, 1, 5, 5, 1, 0, 9, 1, 8, 5, 9, 0, 6, 5, 0, 3, 6, 7, 3, 1, 3, 5, 4, 9, 6, 9, 2, 5, 0, 8, 6, 8, 6, 5, 9, 5, 2, 3, 1, 5, 1, 4, 8, 0, 8, 5, 4, 3, 8, 9, 9, 5, 9, 6, 0, 5, 2, 1, 2, 3, 8, 7, 7, 2, 8, 3, 1, 1, 5, 8, 1, 5, 8, 5, 2, 0, 7, 8, 9, 7, 4, 8, 8, 8, 4, 9, 4, 2, 2, 8, 3, 8, 3, 6, 4, 3, 0, 2, 0, 9, 4, 5, 9, 0, 5, 6, 1, 9, 1, 8, 3, 9, 7, 2, 2, 3, 2, 0, 6, 3, 8, 4, 5, 1, 2, 2, 1, 7, 1, 3, 8, 4, 2, 3, 9, 0, 9, 5, 7, 6, 5, 7, 1, 0, 6, 4, 2, 2, 8, 1, 1, 3, 8, 4, 7, 3, 7, 9, 1, 3, 8, 5, 0, 1, 2, 8, 1, 8, 5, 9, 6, 7, 5, 1, 2, 8, 1, 2, 6, 9, 8, 8, 6, 2, 8, 3, 1, 8, 4, 1, 7, 4, 5, 7, 9, 1, 4, 9, 2, 3, 3, 3, 7, 4, 9, 9, 3, 9, 1, 3, 9, 8, 8, 7, 6, 4, 2, 9, 2, 6, 9, 1, 6, 3, 3, 5, 7, 6, 4, 5, 7, 9, 2, 5, 0, 9, 0, 5, 0, 3, 0, 3, 9, 7, 7, 1, 3, 9, 7, 7, 6, 6, 2, 0, 4, 9, 6, 6, 2, 7, 3, 6, 1, 5, 7, 1, 1, 8, 7, 5, 0, 5, 7, 2, 9, 0, 7, 8, 7, 0, 2, 2, 0, 3, 0, 6, 0, 6, 7, 3, 6, 1, 7, 2, 6, 4, 4, 4, 0, 4, 6, 6, 5, 4, 8, 4, 4, 0, 0, 8, 4, 0, 1, 1, 5, 8, 7, 1, 3, 0, 9, 7, 4, 9, 3, 4, 2, 6, 2, 0, 0, 8, 2, 8, 0, 2, 2, 9, 8, 9, 5, 5, 4, 8, 5, 5, 1, 2, 8, 1, 5, 8, 0, 6, 8, 4, 6, 2, 1, 8, 7, 3, 9, 2, 4, 5, 8, 1, 2, 9, 9, 1, 3, 7, 5, 8, 9, 0, 8, 1, 4, 8, 7, 2, 3, 3, 3, 7, 0, 4, 1, 2, 9, 6, 7, 5, 2, 0, 5, 1, 9, 1, 8, 4, 4, 8, 1, 6, 5, 7, 5, 3, 9, 2, 4, 7, 5, 0, 7, 5, 1, 5, 0, 7, 5, 2, 0, 2, 7, 9, 2, 9, 5, 2, 1, 8, 2, 2, 4, 6, 7, 8, 9, 5, 9, 0, 5, 7, 1, 4, 0, 0, 8, 9, 3, 5, 8, 6, 2, 4, 6, 5, 9, 3, 6, 4, 6, 8, 4, 1, 4, 3, 0, 5, 4, 9, 3, 1, 5, 9, 5, 4, 9, 1, 8, 1, 2, 6, 1, 3, 7, 9, 7, 2, 7, 6, 8, 1, 9, 6, 0, 4, 3, 2, 3, 1, 8, 4, 4, 0, 0, 7, 0, 7, 3, 7, 4, 6, 9, 4, 1, 6, 2, 8, 9, 6, 1, 1, 1, 5, 5, 3, 8, 9, 4, 6, 6, 9, 0, 9, 8, 2, 2, 6, 1, 7, 3, 3, 1, 0, 9, 7, 8, 9, 1, 5, 5, 6, 6, 5, 2, 8, 8, 0, 7, 3, 4, 2, 3, 8, 7, 6, 0, 5, 8, 1, 3, 0, 1, 6, 6, 3, 2, 4, 4, 5, 0, 4, 9, 9, 8, 4, 9, 5, 2, 7, 3, 8, 3, 3, 2, 7, 1, 1, 1, 2, 7, 0, 8, 3, 8, 8, 4, 2, 5, 3, 2, 6, 8, 4, 1, 6, 9, 9, 7, 2, 2, 5, 3, 1, 0, 4, 7, 6, 6, 4, 0, 7, 5, 7, 4, 7, 4, 5, 4, 3, 2, 3, 9, 7, 3, 1, 5, 0, 3, 9, 6, 4, 0, 6, 4, 9, 9, 1, 7, 3, 7, 4, 7, 2, 7, 7, 4, 6, 1, 6, 6, 1, 8, 4, 6, 4, 7, 3, 8, 5, 5, 6, 6, 3, 8, 8, 7, 0, 2, 8, 4, 4, 4, 1, 6, 6, 9, 8, 6, 0, 5, 5, 3, 6, 8, 9, 1, 7, 3, 5, 8, 3, 2, 9, 1, 4, 2, 3, 8, 6, 7, 0, 5, 9, 7, 4, 0, 1, 9, 8, 8, 6, 1, 3, 3, 4, 5, 9, 0, 5, 7, 0, 8, 1, 1, 2, 9, 6, 8, 6, 7, 8, 4, 2, 6, 9, 8, 6, 3, 4, 9, 3, 1, 9, 2, 2, 7, 6, 5, 8, 3, 1, 7, 9, 9, 0, 9, 7, 8, 5, 8, 7, 1, 2, 2, 0, 9, 9, 1, 6, 7, 2, 5, 3, 1, 1, 5, 3, 7, 2, 1, 8, 1, 2, 3, 3, 4, 9, 9, 9, 0, 1, 5, 8, 7, 1, 8, 4, 1, 8, 6, 6, 2, 3, 5, 7, 9, 1, 7, 9, 7, 2, 9, 1, 2, 6, 1, 0, 5, 1, 9, 6, 7, 9, 1, 6, 2, 1, 4, 8, 5, 4, 9, 4, 2, 1, 9, 9, 1, 9, 4, 1, 5, 2, 1, 5, 1, 6, 6, 3, 3, 5, 3, 2, 9, 1, 3, 5, 1, 0, 2, 6, 1, 6, 4, 2, 0, 1, 0, 1, 8, 3, 5, 8, 4, 0, 7, 0, 5, 1, 5, 9, 7, 3, 4, 3, 1, 6, 7, 6, 3, 4, 2, 8, 7, 4, 8, 8, 7, 0, 5, 9, 6, 5, 5, 0, 7, 9, 5, 9, 0, 2, 6, 5, 1, 5, 0, 5, 9, 1, 0, 1, 1, 0, 8, 0, 9, 1, 6, 7, 9, 7, 3, 3, 5, 4, 1, 4, 3, 6, 6, 7, 9, 6, 0, 7, 7, 7, 5, 0, 3, 9, 4, 3, 4, 6, 9, 1, 3, 2, 7, 5, 6, 8, 5, 1, 0, 9, 3, 8, 3, 1, 7, 7, 8, 7, 2, 1, 1, 9, 2, 2, 4, 7, 2, 6, 8, 5, 8, 0, 1, 3, 4, 2, 4, 1, 9, 5, 5, 1, 4, 9, 6, 1, 0, 6, 3, 6, 9, 2, 0, 3, 6, 3, 6, 7, 3, 0, 3, 6, 3, 4, 9, 1, 5, 9, 5, 8, 8, 2, 6, 3, 5, 4, 5, 1, 0, 6, 6, 3, 5, 1, 4, 1, 5, 4, 5, 6, 8, 8, 7, 3, 9, 4, 2, 4, 7, 8, 4, 1, 8, 4, 2, 8, 1, 2, 0, 5, 9, 6, 6, 7, 0, 4, 8, 7, 5, 5, 2, 7, 2, 3, 3, 2, 6, 0, 3, 6, 3, 5, 7, 0, 7, 3, 9, 6, 8, 0, 2, 0, 2, 9, 4, 0, 7, 0, 8, 0, 6, 5, 0, 8, 3, 1, 5, 3, 0, 3, 8, 1, 1, 5, 7, 4, 5, 9, 9, 0, 0, 4, 7, 3, 1, 4, 1, 0, 0, 9, 7, 2, 0, 9, 5, 2, 8, 0, 9, 4, 3, 1, 8, 1, 2, 8, 2, 6, 4, 8, 8, 0, 3, 1, 6, 8, 6, 8, 2, 9, 7, 0, 2, 6, 9, 3, 9, 2, 0, 8, 9, 4, 9, 6, 6, 5, 8, 2, 4, 1, 4, 2, 7, 0, 0, 1, 5, 0, 5, 0, 6, 6, 1, 2, 6, 1, 7, 5, 1, 8, 5, 9, 1, 5, 0, 2, 8, 7, 5, 6, 9, 2, 7, 4, 7, 6, 1, 3, 3, 3, 8, 5, 0, 8, 3, 1, 5, 6, 8, 4, 1, 6, 1, 7, 5, 2, 0, 5, 2, 5, 6, 7, 5, 5, 0, 3, 7, 8, 4, 7, 6, 0, 5, 9, 5, 2, 1, 4, 3, 9, 2, 3, 3, 4, 0, 7, 9, 9, 6, 0, 4, 0, 6, 3, 5, 4, 1, 5, 0, 5, 5, 1, 0, 5, 9, 6, 1, 7, 2, 0, 7, 6, 0, 9, 6, 4, 5, 1, 7, 6, 0, 0, 3, 7, 0, 3, 3, 1, 4, 9, 0, 2, 8, 7, 7, 8, 2, 6, 1, 1, 2, 3, 9, 9, 1, 7, 6, 3, 2, 5, 3, 8, 3, 0, 2, 5, 7, 8, 6, 7, 9, 9, 5, 1, 1, 7, 2, 9, 8, 2, 8, 5, 2, 6, 9, 8, 5, 8, 8, 8, 2, 4, 1, 7, 6, 6, 2, 2, 1, 6, 8, 4, 6, 5, 3, 1, 3, 1, 9, 5, 1, 6, 9, 5, 4, 3, 4, 7, 6, 2, 9, 2, 1, 5, 8, 5, 6, 5, 0, 2, 5, 8, 1, 9, 3, 0, 7, 2, 2, 0, 2, 1, 7, 9, 8, 3, 8, 6, 7, 5, 2, 4, 9, 8, 5, 2, 0, 4, 8, 8, 7, 6, 3, 0, 7, 2, 2, 2, 0, 1, 4, 3, 5, 7, 4, 4, 1, 3, 1, 1, 7, 1, 8, 8, 1, 1, 0, 7, 5, 0, 8, 7, 9, 8, 1, 9, 6, 3, 1, 7, 8, 5, 9, 7, 8, 5, 1, 9, 8, 8, 0, 7, 4, 1, 2, 3, 2, 1, 4, 7, 0, 1, 5, 4, 4, 7, 0, 2, 8, 7, 0, 2, 9, 6, 1, 3, 4, 8, 9, 3, 6, 1, 9, 0, 0, 5, 5, 9, 1, 5, 3, 1, 3, 3, 5, 1, 6, 5, 8, 5, 3, 9, 2, 1, 7, 0, 8, 5, 0, 2, 5, 2, 6, 0, 3, 8, 1, 7, 9, 5, 5, 0, 6, 8, 4, 6, 4, 8, 5, 9, 5, 4, 4, 6, 7, 2, 1, 0, 3, 4, 4, 1, 9, 2, 0, 9, 7, 9, 2, 0, 8, 9, 5, 3, 5, 7, 0, 8, 3, 3, 6, 1, 3, 3, 7, 0, 0, 0, 9, 7, 4, 7, 3, 2, 6, 1, 6, 0, 4, 2, 1, 7, 6, 8, 8, 3, 5, 6, 1, 3, 4, 9, 9, 4, 5, 2, 4, 9, 5, 3, 5, 9, 6, 5, 7, 7, 0, 4, 9, 6, 0, 1, 1, 4, 1, 6, 0, 3, 9, 8, 3, 9, 7, 6, 0, 1, 2, 0, 0, 7, 5, 6, 2, 4, 2, 1, 8, 1, 2, 2, 6, 6, 1, 7, 1, 3, 3, 4, 5, 6, 1, 8, 2, 5, 1, 7, 5, 7, 9, 9, 4, 3, 7, 7, 1, 2, 1, 1, 1, 8, 6, 6, 8, 3, 9, 6, 4, 9, 1, 2, 6, 3, 8, 8, 2, 7, 0, 2, 8, 3, 6, 6, 9, 2, 3, 9, 9, 5, 6, 5, 6, 6, 8, 6, 2, 6, 8, 7, 4, 9, 9, 9, 2, 2, 9, 9, 4, 8, 6, 8, 8, 8, 6, 5, 5, 7, 1, 7, 7, 5, 9, 7, 4, 7, 9, 4, 2, 8, 5, 8, 0, 0, 8, 1, 4, 1, 9, 8, 7, 9, 4, 0, 6, 3, 6, 6, 6, 3, 2, 1, 1, 5, 5, 4, 1, 2, 9, 8, 3, 3, 5, 0, 1, 1, 9, 6, 1, 3, 4, 1, 1, 2, 1, 2, 3, 5, 2, 1, 7, 8, 7, 9, 7, 8, 8, 6, 7, 5, 4, 7, 7, 1, 7, 9, 8, 4, 6, 3, 9, 6, 5, 6, 3, 1, 6, 5, 4, 4, 1, 5, 3, 1, 1, 1, 6, 8, 3, 3, 1, 7, 2, 0, 0, 2, 7, 8, 1, 8, 3, 0, 6, 7, 2, 1, 4, 4, 2, 2, 3, 8, 7, 3, 1, 9, 5, 8, 6, 3, 4, 3, 0, 0, 2, 8, 7, 3, 5, 6, 0, 0, 6, 8, 1, 5, 0, 7, 5, 7, 9, 7, 3, 3, 6, 9, 3, 5, 4, 8, 8, 6, 9, 6, 8, 5, 6, 6, 8, 1, 4, 1, 9, 2, 9, 3, 8, 8, 4, 0, 2, 6, 7, 3, 0, 2, 0, 2, 4, 2, 8, 5, 9, 7, 2, 1, 9, 0, 4, 1, 3, 8, 2, 7, 4, 6, 1, 4, 3, 1, 1, 5, 2, 4, 8, 2, 3, 4, 7, 3, 7, 6, 1, 3, 8, 3, 5, 9, 5, 4, 8, 0, 7, 3, 9, 5, 0, 7, 3, 3, 0, 3, 6, 3, 3, 6, 0, 2, 5, 7, 9, 6, 9, 8, 7, 3, 3, 7, 8, 0, 8, 8, 5, 7, 7, 2, 2, 0, 1, 7, 6, 9, 3, 7, 4, 0, 1, 6, 9, 5, 1, 3, 4, 6, 9, 4, 5, 6, 1, 7, 1, 7, 6, 4, 1, 2, 2, 5, 1, 7, 3, 4, 5, 2, 4, 0, 0, 8, 0, 3, 0, 2, 0, 5, 3, 1, 4, 0, 4, 2, 2, 6, 7, 1, 7, 4, 5, 3, 4, 2, 5, 5, 8, 0, 6, 8, 5, 2, 0, 2, 5, 6, 3, 6, 8, 7, 0, 4, 1, 1, 6, 5, 6, 2, 9, 4, 1, 6, 5, 1, 9, 8, 2, 4, 9, 5, 3, 4, 5, 3, 3, 5, 1, 3, 4, 4, 8, 8, 5, 2, 8, 4, 0, 5, 5, 9, 8, 6, 1, 0, 9, 3, 6, 8, 7, 3, 3, 6, 1, 4, 5, 9, 3, 0, 1, 6, 8, 9, 8, 2, 1, 1, 9, 8, 6, 8, 9, 3, 4, 5, 9, 2, 6, 8, 4, 9, 4, 7, 9, 8, 9, 1, 1, 9, 3, 3, 7, 5, 7, 9, 5, 7, 0, 6, 4, 5, 3, 4, 0, 4, 5, 4, 4, 1, 1, 3, 3, 8, 9, 8, 7, 6, 3, 8, 0, 7, 4, 7, 3, 5, 1, 8, 2, 6, 3, 9, 5, 6, 7, 7, 1, 8, 1, 8, 3, 1, 6, 7, 8, 3, 4, 9, 9, 0, 7, 3, 1, 2, 0, 2, 4, 4, 1, 9, 4, 6, 1, 1, 9, 9, 4, 3, 7, 4, 4, 1, 6, 6, 8, 2, 7, 2, 5, 1, 5, 2, 8, 4, 4, 1, 9, 3, 3, 3, 6, 2, 5, 4, 7, 5, 4, 8, 4, 1, 0, 0, 4, 9, 1, 4, 1, 4, 7, 8, 8, 8, 4, 0, 9, 1, 7, 1, 3, 0, 4, 9, 7, 4, 9, 6, 6, 1, 1, 3, 8, 2, 9, 6, 6, 4, 7, 3, 7, 4, 2, 8, 8, 1, 5, 7, 0, 9, 4, 0, 3, 6, 6, 2, 2, 2, 0, 3, 7, 7, 1, 6, 4, 4, 6, 9, 4, 0, 7, 6, 1, 1, 1, 6, 8, 5, 9, 2, 7, 4, 5, 4, 6, 6, 4, 7, 0, 8, 9, 3, 2, 0, 8, 1, 9, 3, 7, 0, 8, 6, 8, 0, 6, 4, 9, 6, 7, 6, 9, 1, 8, 7, 6, 8, 2, 7, 5, 2, 9, 6, 7, 5, 1, 1, 0, 4, 1, 4, 5, 1, 4, 2, 6, 1, 2, 4, 4, 7, 2, 0, 2, 0, 8, 2, 3, 6, 0, 2, 1, 9, 2, 0, 5, 2, 6, 3, 8, 3, 4, 5, 6, 3, 5, 1, 1, 2, 6, 2, 1, 3, 1, 8, 3, 5, 0, 3, 1, 0, 1, 8, 2, 6, 4, 9, 5, 2, 6, 1, 4, 4, 8, 6, 1, 1, 2, 7, 7, 0, 5, 6, 6, 4, 8, 6, 8, 5, 5, 6, 7, 8, 9, 1, 6, 2, 7, 1, 4, 5, 5, 8, 2, 1, 9, 6, 8, 3, 9, 1, 2, 6, 3, 7, 2, 8, 4, 1, 7, 5, 8, 7, 7, 0, 8, 5, 5, 4, 6, 0, 3, 6, 6, 6, 8, 4, 4, 5, 1, 1, 5, 9, 8, 1, 2, 5, 9, 2, 0, 0, 8, 1, 5, 7, 1, 5, 8, 2, 1, 4, 0, 1, 4, 1, 7, 4, 7, 9, 7, 4, 9, 5, 9, 4, 2, 1, 5, 6, 3, 1, 2, 3, 6, 7, 7, 6, 0, 1, 3, 2, 1, 6, 5, 9, 9, 7, 9, 4, 9, 0, 2, 1, 4, 0, 8, 6, 4, 8, 4, 3, 0, 3, 0, 4, 5, 4, 9, 5, 9, 4, 0, 6, 9, 3, 8, 7, 8, 2, 2, 9, 3, 9, 3, 2, 2, 4, 4, 1, 8, 8, 3, 7, 0, 6, 4, 1, 0, 8, 2, 1, 9, 9, 6, 6, 8, 5, 6, 9, 7, 2, 4, 9, 8, 1, 9, 5, 9, 9, 6, 6, 7, 4, 8, 0, 8, 6, 0, 7, 9, 4, 4, 9, 4, 6, 7, 7, 9, 8, 3, 9, 9, 2, 0, 3, 7, 9, 1, 1, 8, 2, 3, 1, 3, 6, 8, 2, 5, 2, 5, 7, 9, 6, 1, 1, 0, 3, 8, 1, 3, 2, 1, 5, 7, 3, 3, 7, 7, 9, 5, 7, 3, 9, 1, 0, 7, 0, 6, 3, 9, 7, 4, 6, 2, 1, 4, 8, 0, 9, 3, 2, 4, 0, 1, 8, 9, 7, 0, 1, 5, 8, 1, 4, 8, 0, 7, 0, 4, 2, 8, 6, 1, 6, 7, 1, 0, 9, 1, 3, 2, 3, 0, 9, 2, 5, 5, 0, 5, 1, 1, 9, 2, 3, 7, 8, 4, 6, 1, 3, 7, 3, 7, 5, 0, 2, 3, 9, 2, 1, 6, 9, 3, 4, 4, 3, 8, 9, 2, 8, 6, 0, 0, 0, 1, 0, 3, 3, 1, 5, 5, 9, 4, 2, 9, 4, 4, 1, 0, 6, 9, 4, 8, 6, 7, 8, 7, 5, 1, 0, 6, 4, 6, 1, 1, 0, 0, 4, 5, 0, 0, 2, 7, 4, 1, 3, 1, 1, 9, 1, 1, 0, 5, 5, 3, 4, 3, 3, 6, 9, 1, 8, 9, 8, 5, 2, 6, 1, 4, 9, 6, 9, 9, 8, 1, 2, 2, 0, 1, 5, 5, 7, 0, 1, 5, 7, 5, 1, 9, 0, 8, 7, 5, 1, 9, 4, 8, 6, 4, 3, 4, 8, 6, 6, 2, 9, 8, 0, 6, 9, 3, 8, 7, 6, 3, 2, 3, 5, 3, 0, 8, 9, 3, 2, 3, 4, 9, 9, 0, 7, 7, 3, 3, 9, 7, 6, 6, 6, 1, 3, 1, 7, 4, 5, 6, 0, 4, 2, 6, 9, 3, 1, 5, 0, 9, 7, 2, 6, 5, 9, 9, 2, 3, 5, 6, 6, 7, 2, 3, 4, 3, 7, 1, 3, 8, 7, 5, 6, 8, 0, 8, 5, 5, 3, 7, 7, 5, 0, 4, 4, 6, 6, 3, 1, 5, 8, 1, 5, 5, 1, 2, 4, 4, 6, 1, 9, 4, 7, 4, 1, 5, 7, 6, 9, 5, 2, 7, 5, 3, 1, 3, 2, 1, 7, 2, 1, 0, 5, 8, 8, 6, 6, 2, 2, 8, 5, 3, 5, 4, 0, 1, 4, 1, 6, 0, 0, 9, 6, 4, 3, 2, 0, 5, 2, 1, 9, 4, 1, 3, 4, 4, 2, 1, 1, 6, 6, 7, 3, 8, 8, 0, 1, 9, 3, 0, 1, 0, 2, 9, 9, 6, 4, 8, 2, 8, 7, 7, 9, 5, 7, 8, 0, 9, 0, 5, 7, 0, 9, 1, 8, 2, 0, 2, 4, 5, 0, 1, 9, 8, 3, 1, 6, 1, 0, 1, 2, 4, 7, 5, 1, 7, 9, 0, 7, 8, 1, 2, 6, 7, 3, 8, 0, 4, 7, 5, 4, 1, 5, 6, 2, 0, 6, 0, 2, 9, 8, 2, 9, 6, 4, 5, 7, 5, 3, 6, 6, 0, 8, 9, 8, 6, 1, 0, 9, 9, 0, 3, 3, 0, 7, 1, 0, 5, 9, 2, 5, 6, 8, 3, 0, 6, 2, 9, 1, 0, 0, 0, 1, 9, 7, 1, 2, 0, 6, 8, 8, 4, 0, 0, 7, 2, 1, 9, 2, 4, 7, 9, 1, 0, 5, 0, 9, 8, 6, 1, 9, 3, 3, 7, 4, 7, 7, 5, 6, 1, 5, 2, 0, 5, 9, 5, 8, 3, 5, 5, 0, 5, 2, 3, 1, 4, 1, 2, 5, 2, 5, 1, 6, 1, 0, 0, 7, 8, 0, 9, 7, 9, 6, 1, 5, 4, 0, 2, 8, 0, 8, 9, 4, 9, 1, 5, 5, 6, 8, 3, 4, 6, 6, 5, 6, 3, 6, 1, 1, 6, 9, 0, 3, 7, 5, 2, 6, 6, 8, 0, 9, 5, 5, 4, 5, 7, 7, 5, 4, 0, 0, 8, 3, 1, 8, 2, 8, 9, 2, 7, 7, 5, 1, 5, 4, 2, 5, 1, 7, 9, 1, 9, 4, 1, 0, 8, 1, 1, 8, 1, 3, 4, 6, 2, 3, 4, 9, 9, 0, 7, 5, 1, 3, 4, 2, 8, 6, 8, 1, 4, 9, 0, 8, 4, 5, 6, 6, 9, 0, 9, 1, 7, 6, 9, 5, 6, 4, 1, 6, 3, 6, 6, 6, 7, 2, 7, 9, 3, 6, 9, 4, 0, 4, 1, 4, 4, 9, 5, 9, 5, 3, 1, 9, 8, 5, 9, 8, 7, 4, 5, 1, 7, 9, 7, 3, 3, 2, 7, 9, 4, 1, 4, 4, 0, 2, 2, 0, 5, 9, 4, 3, 9, 0, 4, 7, 4, 9, 5, 2, 9, 6, 1, 4, 3, 7, 9, 2, 6, 6, 9, 0, 4, 7, 1, 8, 1, 7, 5, 9, 7, 7, 3, 9, 7, 6, 1, 6, 3, 8, 9, 1, 0, 8, 4, 1, 5, 3, 4, 1, 8, 8, 7, 3, 9, 9, 3, 8, 9, 4, 7, 8, 5, 9, 3, 7, 2, 1, 7, 0, 5, 0, 1, 4, 7, 3, 9, 7, 7, 8, 9, 8, 2, 6, 0, 0, 7, 2, 3, 5, 3, 2, 9, 2, 1, 2, 2, 9, 2, 2, 9, 7, 2, 1, 3, 4, 9, 4, 7, 4, 3, 8, 1, 5, 0, 6, 0, 4, 6, 2, 4, 3, 6, 4, 7, 3, 2, 7, 1, 9, 0, 6, 2, 8, 9, 2, 2, 8, 2, 5, 5, 7, 5, 1, 3, 3, 2, 3, 9, 0, 2, 7, 9, 1, 7, 8, 9, 5, 7, 2, 3, 6, 4, 7, 8, 8, 7, 0, 5, 7, 5, 8, 9, 6, 5, 7, 0, 1, 3, 0, 3, 2, 8, 3, 8, 4, 0, 2, 3, 5, 8, 0, 4, 9, 9, 8, 0, 9, 7, 8, 4, 4, 1, 6, 0, 8, 0, 3, 8, 5, 3, 1, 1, 9, 1, 4, 6, 9, 1, 0, 8, 9, 7, 4, 9, 9, 4, 6, 1, 3, 2, 8, 4, 5, 5, 7, 8, 0, 4, 3, 4, 8, 9, 6, 3, 7, 2, 6, 1, 2, 9, 3, 5, 3, 8, 1, 0, 6, 7, 4, 2, 1, 8, 4, 9, 3, 6, 5, 2, 9, 3, 9, 4, 6, 1, 3, 1, 5, 6, 6, 1, 8, 0, 0, 9, 9, 6, 1, 9, 1, 9, 2, 7, 4, 1, 0, 3, 3, 0, 1, 2, 1, 5, 7, 8, 5, 2, 9, 7, 3, 1, 3, 2, 8, 5, 8, 2, 1, 0, 1, 5, 6, 4, 6, 1, 9, 3, 8, 8, 4, 2, 1, 5, 6, 9, 9, 5, 4, 3, 0, 2, 4, 0, 0, 8, 6, 3, 2, 3, 6, 4, 3, 8, 4, 0, 2, 4, 9, 8, 8, 2, 4, 1, 5, 6, 7, 9, 6, 8, 1, 1, 2, 5, 7, 6, 7, 1, 6, 2, 6, 1, 2, 2, 5, 3, 9, 4, 2, 3, 0, 6, 9, 5, 6, 3, 9, 2, 2, 8, 8, 7, 1, 1, 3, 5, 1, 7, 0, 0, 1, 1, 9, 6, 4, 0, 3, 0, 6, 7, 1, 1, 3, 1, 4, 3, 6, 3, 8, 8, 9, 8, 3, 5, 3, 8, 8, 6, 5, 6, 6, 4, 0, 4, 2, 9, 4, 0, 3, 8, 7, 3, 4, 3, 3, 9, 7, 9, 2, 1, 1, 3, 9, 2, 3, 1, 6, 3, 5, 4, 8, 8, 9, 2, 1, 5, 1, 1, 5, 5, 3, 5, 8, 6, 0, 9, 1, 7, 9, 6, 3, 1, 4, 6, 7, 3, 7, 0, 5, 4, 1, 3, 5, 2, 0, 7, 0, 4, 5, 0, 6, 4, 1, 2, 5, 3, 8, 8, 3, 8, 1, 6, 1, 6, 4, 6, 9, 9, 4, 3, 0, 8, 8, 0, 6, 7, 3, 7, 2, 4, 3, 2, 6, 1, 9, 5, 4, 1, 9, 5, 6, 0, 7, 0, 9, 0, 5, 1, 1, 2, 6, 3, 0, 4, 1, 9, 0, 2, 8, 7, 7, 3, 6, 1, 7, 1, 7, 1, 6, 8, 8, 6, 7, 2, 5, 6, 3, 9, 1, 6, 3, 4, 8, 6, 2, 2, 5, 4, 2, 1, 4, 2, 6, 0, 7, 3, 1, 7, 7, 3, 3, 2, 4, 1, 1, 7, 4, 7, 5, 8, 6, 4, 1, 8, 3, 1, 4, 2, 2, 0, 0, 9, 3, 7, 9, 7, 8, 2, 3, 0, 2, 5, 5, 0, 2, 6, 9, 0, 2, 0, 5, 5, 1, 1, 8, 5, 0, 9, 6, 2, 1, 3, 7, 1, 0, 8, 3, 3, 3, 0, 5, 4, 9, 1, 3, 2, 0, 0, 5, 3, 0, 3, 0, 0, 9, 1, 0, 3, 7, 5, 0, 2, 5, 1, 2, 2, 0, 4, 4, 9, 4, 8, 2, 3, 8, 0, 3, 7, 4, 7, 2, 2, 7, 2, 6, 5, 1, 1, 6, 9, 8, 3, 2, 8, 6, 1, 7, 1, 7, 7, 8, 7, 6, 3, 1, 9, 3, 2, 9, 3, 6, 8, 7, 5, 0, 4, 1, 2, 1, 4, 9, 2, 6, 5, 9, 7, 2, 6, 6, 0, 0, 4, 6, 9, 4, 8, 0, 5, 2, 9, 2, 7, 4, 1, 2, 2, 0, 2, 2, 5, 6, 5, 3, 4, 7, 1, 5, 4, 7, 8, 4, 4, 6, 7, 5, 6, 9, 9, 6, 4, 0, 5, 2, 6, 6, 4, 6, 6, 3, 3, 8, 9, 9, 0, 9, 1, 2, 4, 1, 4, 4, 0, 9, 7, 8, 0, 6, 5, 7, 4, 1, 0, 6, 5, 4, 6, 6, 4, 9, 8, 1, 3, 0, 6, 4, 3, 4, 1, 1, 3, 3, 3, 2, 0, 5, 1, 0, 8, 1, 3, 4, 0, 1, 3, 5, 1, 3, 2, 1, 3, 4, 1, 4, 4, 0, 3, 3, 3, 1, 6, 0, 2, 4, 3, 7, 7, 5, 7, 3, 2, 4, 5, 3, 4, 2, 5, 0, 5, 2, 0, 0, 9, 7, 8, 2, 3, 8, 2, 4, 1, 6, 2, 9, 6, 2, 9, 9, 7, 6, 9, 9, 7, 3, 7, 4, 4, 2, 5, 2, 1, 9, 9, 2, 3, 9, 8, 1, 3, 2, 3, 6, 5, 2, 7, 8, 4, 9, 6, 0, 2, 9, 8, 0, 3, 5, 1, 6, 3, 1, 8, 1, 1, 3, 9, 9, 6, 5, 3, 2, 5, 2, 6, 1, 5, 0, 2, 2, 0, 3, 3, 0, 6, 6, 1, 9, 3, 7, 1, 0, 2, 7, 9, 2, 3, 2, 3, 6, 4, 5, 9, 1, 7, 2, 0, 9, 6, 6, 4, 5, 8, 5, 0, 5, 8, 4, 2, 2, 6, 2, 8, 0, 8, 8, 0, 9, 6, 7, 5, 3, 0, 8, 5, 9, 7, 9, 3, 8, 3, 8, 7, 1, 1, 9, 9, 7, 9, 9, 7, 0, 7, 7, 7, 0, 5, 2, 2, 6, 0, 0, 3, 2, 1, 4, 3, 2, 0, 5, 5, 6, 2, 9, 9, 7, 4, 5, 1, 4, 4, 3, 9, 3, 1, 1, 2, 7, 4, 7, 6, 6, 5, 5, 0, 0, 4, 0, 8, 0, 2, 0, 2, 6, 9, 1, 7, 4, 9, 3, 1, 1, 1, 3, 5, 4, 3, 1, 1, 4, 4, 8, 2, 3, 1, 3, 8, 3, 7, 2, 1, 4, 5, 5, 0, 1, 9, 2, 4, 6, 3, 2, 8, 7, 7, 8, 7, 3, 1, 9, 3, 4, 7, 2, 6, 9, 2, 5, 2, 1, 6, 4, 5, 8, 7, 4, 4, 9, 3, 4, 1, 4, 1, 7, 4, 6, 2, 0, 3, 6, 4, 8, 2, 7, 9, 2, 4, 6, 6, 2, 5, 2, 7, 1, 4, 1, 0, 0, 5, 0, 1, 1, 0, 9, 5, 4, 6, 1, 0, 4, 7, 9, 4, 3, 4, 9, 3, 4, 9, 5, 8, 9, 5, 2, 6, 9, 4, 2, 6, 1, 6, 5, 0, 3, 0, 2, 4, 6, 6, 5, 4, 8, 2, 3, 3, 5, 5, 5, 3, 7, 2, 0, 5, 1, 4, 0, 7, 5, 6, 8, 9, 0, 4, 4, 3, 9, 4, 1, 2, 9, 9, 8, 4, 1, 7, 2, 1, 7, 1, 2, 5, 9, 6, 8, 8, 1, 6, 0, 4, 6, 5, 9, 7, 1, 6, 0, 6, 7, 4, 6, 9, 1, 5, 1, 1, 2, 9, 2, 7, 0, 7, 2, 5, 1, 7, 6, 0, 7, 2, 7, 0, 2, 0, 1, 9, 1, 3, 1, 9, 2, 9, 6, 3, 6, 0, 0, 1, 1, 5, 5, 2, 8, 1, 1, 2, 0, 8, 6, 0, 6, 5, 6, 3, 9, 7, 1, 0, 1, 2, 4, 6, 3, 8, 4, 4, 1, 4, 8, 0, 4, 6, 7, 6, 4, 2, 4, 2, 3, 2, 7, 7, 8, 5, 8, 7, 1, 4, 9, 2, 2, 3, 3, 2, 2, 1, 0, 1, 1, 2, 2, 9, 0, 3, 8, 6, 8, 7, 1, 2, 0, 9, 8, 5, 7, 7, 6, 7, 3, 8, 2, 2, 9, 8, 0, 9, 8, 7, 4, 6, 9, 9, 0, 2, 0, 6, 8, 2, 3, 1, 0, 4, 0, 6, 9, 3, 1, 1, 0, 2, 7, 1, 3, 5, 6, 4, 4, 0, 3, 5, 1, 2, 7, 9, 6, 9, 0, 4, 1, 7, 8, 1, 8, 6, 4, 8, 7, 2, 4, 6, 5, 3, 1, 3, 4, 0, 9, 1, 2, 3, 7, 2, 9, 5, 6, 7, 8, 9, 6, 1, 1, 3, 6, 7, 7, 0, 5, 1, 6, 6, 7, 9, 5, 9, 2, 4, 4, 4, 4, 9, 1, 8, 6, 4, 8, 1, 7, 3, 8, 3, 8, 1, 3, 4, 1, 2, 5, 9, 8, 1, 3, 3, 5, 4, 8, 2, 5, 7, 5, 3, 1, 1, 3, 6, 1, 8, 7, 6, 6, 6, 7, 0, 2, 9, 8, 2, 0, 9, 8, 0, 0, 1, 5, 7, 7, 1, 5, 6, 1, 8, 8, 7, 1, 4, 8, 2, 3, 8, 6, 5, 9, 8, 5, 8, 8, 7, 4, 5, 8, 5, 8, 7, 1, 9, 8, 6, 5, 0, 8, 8, 2, 1, 0, 8, 2, 1, 2, 4, 6, 4, 9, 3, 4, 4, 3, 3, 1, 2, 5, 1, 6, 9, 0, 0, 5, 8, 9, 5, 5, 5, 2, 8, 8, 7, 4, 1, 1, 7, 0, 4, 7, 9, 5, 5, 9, 5, 9, 1, 3, 6, 8, 8, 2, 6, 5, 7, 3, 9, 1, 2, 4, 8, 2, 0, 7, 7, 4, 6, 4, 0, 6, 8, 1, 0, 4, 2, 1, 1, 0, 4, 5, 6, 9, 6, 6, 5, 5, 3, 4, 9, 5, 2, 4, 6, 4, 8, 2, 6, 1, 4, 1, 0, 4, 7, 5, 4, 3, 8, 5, 7, 8, 9, 7, 7, 6, 5, 4, 6, 4, 7, 3, 8, 7, 6, 7, 9, 3, 4, 2, 2, 6, 5, 3, 7, 0, 3, 9, 5, 5, 9, 1, 6, 9, 5, 9, 8, 7, 0, 1, 6, 7, 1, 2, 6, 8, 2, 9, 6, 2, 3, 6, 7, 7, 0, 1, 6, 5, 2, 3, 7, 2, 7, 8, 5, 5, 3, 3, 2, 9, 1, 3, 1, 5, 2, 0, 6, 5, 4, 5, 9, 7, 0, 1, 2, 8, 6, 1, 1, 0, 5, 3, 1, 9, 3, 9, 5, 1, 5, 9, 4, 9, 0, 0, 1, 3, 8, 1, 2, 4, 6, 6, 7, 4, 5, 1, 1, 5, 0, 2, 5, 5, 6, 6, 0, 5, 8, 7, 2, 4, 5, 0, 2, 9, 7, 8, 9, 2, 1, 4, 6, 1, 3, 8, 8, 7, 1, 5, 4, 9, 7, 0, 2, 1, 3, 0, 9, 4, 2, 5, 9, 8, 8, 5, 9, 7, 2, 2, 2, 6, 4, 1, 7, 0, 8, 3, 6, 4, 0, 2, 1, 7, 3, 7, 8, 8, 2, 4, 9, 5, 6, 2, 9, 7, 3, 5, 1, 0, 6, 4, 0, 1, 9, 4, 1, 7, 1, 9, 7, 2, 2, 5, 1, 3, 5, 8, 8, 8, 4, 2, 2, 4, 1, 2, 1, 5, 8, 3, 8, 1, 7, 7, 3, 3, 6, 0, 8, 2, 4, 9, 6, 8, 6, 9, 5, 1, 5, 7, 4, 3, 9, 5, 2, 6, 7, 0, 8, 4, 9, 3, 2, 7, 5, 3, 2, 1, 9, 0, 6, 1, 3, 6, 1, 6, 2, 7, 9, 5, 8, 7, 2, 8, 6, 4, 9, 3, 5, 5, 7, 8, 4, 7, 4, 3, 6, 0, 9, 4, 4, 0, 3, 7, 4, 3, 6, 1, 2, 4, 3, 4, 4, 9, 4, 6, 1, 0, 5, 8, 7, 4, 5, 0, 1, 5, 3, 1, 5, 5, 4, 3, 3, 4, 6, 8, 0, 0, 3, 1, 3, 3, 3, 2, 7, 7, 1, 1, 8, 7, 5, 1, 4, 6, 7, 7, 3, 0, 2, 6, 5, 8, 9, 3, 5, 8, 2, 5, 8, 7, 3, 8, 2, 9, 8, 1, 5, 6, 2, 4, 7, 1, 6, 0, 3, 0, 3, 3, 2, 3, 9, 4, 6, 8, 2, 7, 1, 9, 1, 4, 6, 0, 9, 0, 9, 2, 6, 6, 5, 5, 9, 9, 8, 7, 7, 5, 4, 9, 0, 3, 4, 5, 7, 2, 6, 3, 6, 3, 4, 3, 8, 1, 9, 7, 4, 7, 2, 7, 7, 2, 6, 9, 8, 3, 8, 1, 9, 7, 2, 7, 5, 6, 8, 1, 2, 3, 8, 9, 4, 6, 9, 9, 8, 8, 2, 4, 1, 5, 3, 2, 5, 6, 2, 9, 6, 1, 1, 1, 5, 2, 1, 0, 6, 0, 4, 7, 8, 4, 5, 7, 8, 6, 8, 5, 7, 8, 5, 4, 7, 3, 2, 0, 1, 3, 7, 9, 8, 1, 2, 7, 9, 0, 0, 7, 7, 9, 0, 5, 1, 9, 1, 5, 5, 8, 2, 2, 6, 2, 5, 2, 4, 9, 1, 8, 7, 4, 2, 3, 6, 2, 6, 9, 4, 8, 1, 6, 4, 8, 3, 3, 6, 0, 5, 3, 1, 3, 2, 7, 2, 5, 2, 2, 4, 1, 6, 6, 8, 1, 4, 5, 1, 7, 7, 5, 4, 1, 8, 0, 7, 6, 1, 2, 1, 0, 0, 2, 0, 1, 3, 8, 5, 0, 0, 9, 2, 5, 4, 3, 3, 0, 4, 2, 7, 4, 7, 7, 3, 1, 5, 0, 4, 0, 9, 1, 9, 1, 3, 5, 5, 4, 9, 9, 1, 9, 4, 1, 8, 7, 1, 1, 6, 9, 7, 0, 9, 6, 9, 6, 8, 0, 8, 9, 1, 5, 0, 7, 1, 2, 1, 2, 1, 4, 0, 4, 2, 7, 4, 0, 7, 4, 7, 1, 9, 3, 5, 2, 4, 8, 6, 8, 4, 8, 8, 2, 0, 0, 7, 3, 6, 3, 3, 1, 2, 3, 1, 9, 9, 4, 4, 1, 1, 4, 7, 7, 7, 1, 5, 6, 7, 8, 8, 6, 3, 5, 0, 5, 4, 2, 6, 0, 3, 5, 6, 4, 6, 6, 3, 6, 7, 1, 4, 3, 1, 8, 2, 1, 7, 7, 7, 8, 9, 2, 2, 7, 6, 5, 8, 2, 2, 0, 4, 2, 5, 7, 4, 3, 0, 9, 4, 3, 3, 4, 5, 4, 4, 4, 8, 4, 5, 5, 4, 1, 5, 7, 1, 6, 0, 3, 3, 9, 0, 9, 4, 2, 3, 9, 6, 8, 1, 8, 4, 8, 2, 5, 7, 1, 2, 9, 8, 0, 8, 8, 9, 4, 8, 1, 3, 1, 6, 2, 1, 8, 0, 9, 3, 3, 7, 4, 0, 4, 2, 3, 9, 7, 1, 0, 6, 7, 1, 0, 7, 6, 2, 8, 1, 1, 8, 3, 5, 2, 4, 1, 6, 6, 5, 0, 3, 7, 7, 1, 1, 5, 6, 8, 8, 1, 0, 6, 7, 9, 6, 9, 4, 4, 4, 5, 0, 8, 0, 7, 1, 4, 3, 8, 5, 9, 2, 0, 4, 2, 1, 1, 8, 0, 6, 6, 7, 1, 6, 9, 1, 1, 4, 5, 2, 7, 9, 1, 1, 7, 3, 0, 7, 0, 6, 8, 5, 5, 4, 9, 1, 2, 9, 3, 8, 4, 8, 4, 4, 2, 5, 1, 4, 7, 9, 1, 7, 5, 2, 0, 8, 2, 0, 6, 7, 1, 2, 9, 2, 9, 4, 3, 3, 1, 0, 8, 8, 2, 4, 3, 7, 8, 4, 5, 9, 2, 5, 8, 2, 6, 2, 0, 7, 5, 8, 0, 3, 5, 3, 8, 7, 1, 5, 1, 4, 4, 1, 6, 7, 4, 6, 4, 2, 8, 5, 9, 0, 1, 3, 2, 9, 6, 6, 9, 7, 4, 6, 9, 0, 9, 5, 4, 2, 4, 4, 9, 1, 4, 4, 2, 8, 0, 5, 6, 4, 6, 8, 3, 0, 8, 0, 1, 9, 2, 1, 1, 9, 3, 8, 9, 0, 7, 2, 5, 4, 1, 5, 3, 6, 2, 1, 8, 5, 3, 6, 1, 3, 7, 0, 2, 0, 7, 1, 4, 5, 1, 8, 3, 6, 4, 1, 8, 5, 2, 7, 4, 1, 7, 4, 7, 1, 8, 6, 1, 3, 2, 7, 7, 9, 1, 0, 7, 0, 3, 1, 9, 4, 9, 7, 5, 6, 0, 2, 5, 1, 4, 4, 4, 7, 9, 2, 4, 1, 6, 7, 1, 4, 7, 8, 9, 9, 1, 4, 3, 3, 4, 5, 7, 8, 0, 4, 3, 1, 9, 2, 7, 6, 6, 1, 2, 0, 2, 1, 2, 3, 3, 7, 0, 5, 0, 1, 5, 4, 1, 0, 6, 9, 1, 3, 0, 5, 4, 5, 4, 6, 7, 5, 8, 1, 7, 2, 8, 0, 0, 7, 8, 8, 8, 4, 6, 2, 3, 7, 4, 1, 7, 2, 3, 7, 2, 3, 6, 5, 5, 8, 5, 7, 8, 5, 6, 5, 8, 0, 0, 9, 0, 2, 3, 3, 6, 7, 7, 0, 9, 5, 9, 5, 9, 1, 1, 4, 7, 8, 7, 9, 3, 4, 7, 8, 6, 5, 1, 5, 8, 5, 1, 4, 9, 9, 5, 6, 9, 1, 2, 8, 6, 6, 4, 3, 4, 5, 8, 8, 3, 1, 1, 2, 3, 5, 1, 3, 3, 7, 6, 7, 2, 4, 6, 2, 4, 1, 0, 0, 6, 1, 0, 6, 1, 1, 4, 3, 5, 5, 8, 1, 5, 5, 3, 0, 9, 9, 7, 7, 9, 3, 2, 9, 5, 0, 7, 7, 5, 1, 5, 4, 8, 4, 8, 1, 6, 9, 0, 0, 0, 0, 4, 7, 1, 3, 7, 7, 9, 9, 2, 9, 3, 5, 4, 5, 0, 8, 4, 0, 0, 9, 7, 3, 0, 1, 2, 9, 9, 6, 5, 7, 3, 2, 5, 2, 9, 4, 9, 0, 2, 6, 6, 9, 2, 1, 4, 7, 7, 3, 5, 8, 3, 0, 5, 5, 6, 7, 1, 3, 9, 6, 6, 6, 1, 1, 6, 6, 6, 5, 9, 6, 5, 1, 0, 6, 3, 8, 9, 6, 1, 0, 9, 9, 9, 9, 5, 2, 0, 0, 9, 7, 1, 7, 3, 4, 6, 2, 4, 4, 5, 9, 5, 5, 2, 6, 6, 8, 1, 3, 4, 6, 5, 9, 3, 6, 1, 4, 8, 6, 7, 1, 2, 4, 0, 4, 9, 1, 6, 9, 8, 2, 6, 3, 7, 6, 8, 3, 9, 5, 2, 3, 4, 4, 3, 3, 5, 3, 1, 9, 7, 2, 4, 9, 7, 5, 5, 5, 6, 1, 8, 4, 6, 9, 4, 5, 5, 9, 3, 1, 7, 7, 1, 6, 0, 1, 9, 6, 8, 4, 0, 6, 2, 2, 8, 2, 2, 4, 5, 2, 9, 7, 3, 2, 5, 6, 4, 6, 0, 2, 8, 3, 8, 8, 7, 6, 8, 3, 5, 3, 5, 9, 7, 0, 2, 2, 3, 3, 1, 1, 5, 3, 4, 5, 8, 3, 0, 7, 6, 2, 8, 0, 3, 1, 0, 9, 3, 7, 5, 4, 2, 7, 3, 1, 9, 7, 5, 6, 7, 4, 8, 8, 9, 6, 6, 2, 1, 1, 8, 7, 1, 2, 0, 8, 2, 4, 6, 2, 6, 4, 2, 1, 8, 9, 4, 6, 1, 5, 4, 0, 0, 9, 3, 7, 9, 3, 0, 9, 0, 7, 0, 5, 9, 9, 6, 2, 8, 7, 5, 4, 9, 5, 4, 3, 5, 9, 4, 6, 5, 3, 3, 7, 6, 7, 2, 4, 1, 7, 5, 7, 6, 9, 4, 9, 8, 1, 6, 1, 7, 5, 6, 2, 1, 5, 3, 0, 2, 6, 8, 6, 6, 3, 1, 6, 8, 9, 8, 9, 2, 6, 1, 6, 7, 7, 1, 9, 5, 2, 5, 5, 0, 7, 1, 1, 6, 0, 4, 2, 8, 3, 5, 5, 9, 6, 8, 2, 1, 4, 9, 1, 1, 3, 8, 2, 1, 8, 3, 1, 4, 5, 4, 5, 4, 6, 8, 0, 2, 7, 4, 7, 3, 5, 1, 9, 1, 0, 8, 9, 8, 3, 4, 0, 3, 6, 4, 6, 0, 0, 8, 7, 5, 4, 1, 8, 2, 9, 9, 0, 9, 8, 2, 2, 1, 8, 9, 9, 3, 6, 1, 2, 3, 1, 7, 8, 0, 2, 3, 5, 6, 7, 3, 2, 9, 7, 7, 0, 3, 9, 5, 2, 4, 1, 7, 2, 2, 6, 2, 7, 4, 6, 0, 1, 6, 0, 6, 8, 3, 3, 5, 4, 7, 4, 5, 9, 5, 9, 2, 9, 8, 3, 6, 1, 6, 0, 3, 1, 2, 7, 1, 2, 9, 1, 2, 6, 6, 1, 4, 3, 1, 8, 0, 3, 1, 8, 5, 0, 7, 8, 5, 6, 1, 7, 9, 6, 4, 5, 8, 5, 3, 0, 6, 0, 8, 0, 0, 1, 0, 9, 1, 6, 5, 9, 9, 4, 8, 6, 4, 1, 2, 8, 7, 3, 4, 3, 9, 9, 8, 2, 2, 5, 0, 6, 2, 8, 1, 6, 7, 0, 1, 4, 5, 6, 6, 7, 5, 1, 5, 0, 5, 8, 3, 5, 4, 2, 6, 9, 2, 2, 0, 6, 9, 6, 2, 0, 9, 9, 5, 1, 2, 2, 9, 0, 2, 0, 7, 2, 2, 1, 4, 3, 3, 5, 0, 3, 8, 2, 0, 4, 6, 7, 5, 5, 6, 1, 8, 5, 0, 4, 7, 3, 2, 7, 8, 5, 1, 6, 7, 3, 6, 4, 3, 7, 0, 7, 2, 0, 4, 7, 6, 1, 3, 8, 1, 9, 8, 3, 1, 7, 5, 1, 0, 1, 4, 4, 4, 1, 7, 5, 8, 2, 2, 5, 1, 8, 8, 3, 4, 2, 8, 2, 0, 2, 6, 9, 0, 1, 7, 1, 8, 0, 3, 6, 3, 8, 5, 8, 2, 9, 5, 0, 2, 1, 2, 3, 5, 3, 2, 6, 4, 8, 2, 6, 1, 4, 9, 3, 9, 4, 2, 9, 2, 6, 6, 7, 6, 9, 0, 7, 7, 3, 0, 7, 6, 3, 7, 9, 9, 9, 2, 4, 8, 5, 1, 1, 9, 6, 2, 2, 7, 7, 5, 8, 5, 9, 2, 2, 1, 9, 4, 5, 9, 4, 3, 3, 0, 1, 1, 6, 6, 8, 4, 5, 3, 0, 7, 2, 6, 5, 1, 5, 0, 0, 4, 4, 3, 7, 4, 2, 1, 3, 3, 6, 2, 9, 9, 6, 2, 0, 3, 6, 2, 7, 2, 3, 7, 3, 7, 2, 9, 2, 2, 4, 9, 1, 2, 6, 8, 0, 1, 2, 0, 9, 9, 7, 9, 8, 7, 4, 8, 8, 1, 4, 1, 9, 2, 3, 9, 6, 0, 7, 6, 5, 7, 3, 4, 7, 5, 5, 7, 8, 3, 6, 8, 9, 9, 7, 8, 8, 7, 1, 4, 0, 7, 7, 3, 0, 6, 8, 5, 8, 1, 0, 7, 3, 4, 8, 7, 7, 0, 1, 4, 4, 0, 3, 4, 0, 3, 4, 4, 1, 5, 8, 0, 5, 5, 2, 2, 8, 1, 9, 5, 9, 7, 6, 2, 6, 0, 2, 0, 2, 5, 7, 6, 4, 9, 1, 9, 1, 4, 1, 1, 0, 6, 7, 0, 1, 2, 9, 5, 7, 7, 0, 4, 2, 4, 1, 3, 1, 8, 7, 2, 6, 8, 4, 5, 6, 6, 2, 2, 7, 0, 6, 4, 1, 9, 6, 5, 3, 9, 5, 7, 8, 1, 0, 8, 4, 9, 9, 1, 8, 2, 0, 3, 8, 1, 2, 2, 2, 6, 2, 7, 6, 3, 8, 2, 0, 1, 2, 7, 1, 9, 0, 1, 1, 4, 1, 3, 5, 3, 5, 9, 9, 3, 2, 2, 7, 0, 0, 3, 2, 5, 2, 2, 0, 9, 4, 1, 2, 0, 7, 1, 6, 4, 8, 9, 4, 4, 7, 3, 1, 6, 1, 2, 6, 0, 9, 5, 1, 2, 8, 5, 8, 3, 9, 8, 1, 8, 9, 5, 0, 5, 7, 8, 2, 9, 2, 5, 3, 5, 1, 3, 6, 5, 6, 2, 8, 3, 1, 9, 4, 6, 0, 2, 3, 0, 5, 0, 0, 9, 3, 1, 9, 9, 4, 0, 5, 8, 5, 2, 6, 6, 4, 3, 9, 9, 7, 0, 2, 0, 3, 9, 4, 4, 0, 4, 8, 3, 8, 3, 5, 8, 1, 1, 0, 1, 8, 4, 2, 6, 8, 4, 2, 5, 8, 6, 0, 5, 7, 1, 4, 7, 1, 1, 8, 3, 9, 7, 5, 3, 9, 0, 7, 2, 0, 6, 7, 6, 6, 4, 7, 2, 7, 9, 2, 1, 5, 6, 9, 6, 4, 3, 9, 4, 1, 4, 6, 9, 6, 5, 9, 4, 6, 9, 5, 5, 4, 0, 4, 6, 9, 7, 1, 7, 3, 0, 2, 7, 7, 9, 7, 2, 7, 6, 1, 8, 1, 4, 5, 1, 5, 1, 8, 8, 5, 3, 7, 2, 9, 9, 6, 6, 8, 2, 2, 7, 0, 0, 8, 7, 6, 4, 6, 6, 4, 6, 8, 8, 0, 3, 1, 5, 9, 1, 8, 6, 7, 5, 3, 1, 1, 0, 8, 2, 0, 5, 9, 3, 9, 6, 6, 3, 5, 7, 8, 6, 5, 0, 9, 6, 3, 2, 8, 0, 2, 8, 7, 1, 1, 3, 6, 4, 8, 1, 4, 9, 6, 7, 0, 0, 0, 3, 1, 0, 3, 1, 6, 2, 1, 1, 9, 0, 2, 2, 5, 7, 6, 7, 5, 8, 3, 4, 1, 7, 4, 2, 6, 2, 5, 6, 1, 7, 2, 8, 5, 0, 6, 8, 1, 0, 6, 3, 8, 0, 1, 9, 0, 6, 4, 3, 5, 2, 1, 5, 7, 9, 7, 2, 6, 3, 4, 8, 4, 2, 0, 4, 2, 5, 2, 7, 2, 9, 8, 1, 6, 0, 1, 7, 5, 4, 6, 4, 7, 9, 7, 7, 7, 0, 5, 4, 2, 2, 7, 2, 5, 5, 9, 9, 3, 8, 9, 6, 8, 4, 8, 6, 1, 7, 0, 9, 5, 1, 3, 0, 4, 6, 2, 0, 4, 0, 5, 2, 1, 2, 5, 1, 8, 9, 0, 5, 9, 1, 8, 9, 1, 1, 8, 8, 3, 6, 1, 5, 0, 3, 2, 9, 9, 5, 1, 8, 8, 5, 4, 9, 8, 0, 4, 8, 9, 6, 6, 6, 8, 7, 3, 0, 5, 2, 9, 5, 3, 6, 8, 8, 4, 9, 9, 8, 5, 2, 8, 9, 3, 7, 7, 2, 0, 8, 8, 4, 8, 2, 7, 5, 4, 8, 7, 7, 1, 6, 4, 2, 1, 3, 6, 4, 0, 3, 9, 9, 7, 2, 1, 2, 3, 5, 0, 4, 8, 4, 4, 1, 0, 5, 3, 5, 3, 6, 1, 8, 1, 8, 7, 1, 9, 1, 2, 9, 3, 7, 7, 3, 9, 3, 8, 5, 5, 2, 2, 5, 9, 1, 9, 7, 7, 9, 6, 9, 2, 0, 7, 4, 8, 5, 9, 5, 6, 3, 5, 3, 4, 8, 6, 0, 3, 0, 6, 4, 0, 7, 0, 6, 7, 5, 0, 0, 9, 6, 0, 1, 3, 9, 8, 5, 9, 2, 5, 7, 0, 1, 4, 0, 8, 6, 9, 1, 1, 7, 1, 7, 0, 7, 4, 4, 0, 1, 7, 7, 6, 0, 3, 6, 5, 3, 2, 0, 7, 9, 0, 3, 0, 1, 7, 4, 9, 0, 0, 9, 8, 2, 0, 2, 9, 3, 3, 7, 2, 7, 1, 7, 1, 0, 1, 5, 6, 3, 4, 1, 5, 9, 4, 0, 4, 1, 2, 6, 4, 9, 6, 1, 4, 0, 0, 0, 4, 6, 0, 5, 4, 8, 0, 9, 7, 4, 1, 4, 4, 7, 2, 8, 1, 4, 3, 8, 4, 3, 3, 2, 0, 5, 8, 6, 6, 2, 2, 1, 6, 7, 8, 3, 4, 2, 3, 6, 2, 5, 3, 7, 2, 8, 1, 9, 2, 0, 1, 1, 3, 9, 2, 0, 8, 8, 6, 0, 6, 4, 4, 4, 7, 5, 2, 8, 8, 0, 0, 5, 9, 5, 7, 2, 0, 2, 8, 9, 2, 6, 7, 0, 2, 0, 9, 1, 4, 4, 1, 5, 0, 9, 4, 7, 6, 5, 7, 4, 6, 6, 2, 0, 6, 6, 9, 8, 8, 2, 7, 4, 5, 4, 4, 7, 8, 3, 9, 5, 7, 9, 1, 1, 4, 3, 4, 4, 9, 9, 7, 1, 5, 6, 5, 6, 6, 1, 5, 3, 9, 0, 7, 5, 4, 9, 8, 0, 0, 4, 4, 9, 5, 6, 9, 2, 9, 5, 3, 4, 8, 7, 5, 5, 3, 3, 4, 7, 1, 2, 2, 7, 4, 5, 4, 5, 0, 7, 4, 5, 0, 6, 2, 2, 0, 3, 9, 5, 4, 6, 4, 7, 6, 1, 7, 9, 3, 4, 3, 7, 6, 1, 6, 3, 1, 1, 9, 9, 7, 7, 1, 8, 2, 4, 0, 9, 7, 3, 3, 6, 4, 7, 9, 5, 2, 4, 7, 5, 9, 6, 8, 5, 5, 2, 0, 6, 8, 3, 5, 0, 5, 3, 8, 4, 2, 2, 0, 7, 3, 2, 4, 1, 3, 3, 6, 2, 2, 0, 5, 3, 5, 0, 3, 8, 2, 9, 8, 1, 2, 1, 6, 4, 9, 5, 6, 8, 7, 2, 2, 3, 1, 6, 3, 5, 4, 3, 9, 1, 6, 9, 1, 1, 6, 6, 7, 0, 1, 0, 8, 4, 7, 6, 0, 8, 4, 1, 6, 4, 6, 9, 4, 7, 7, 6, 1, 0, 4, 1, 7, 9, 3, 9, 1, 0, 1, 5, 1, 0, 0, 7, 3, 2, 6, 6, 4, 8, 1, 0, 8, 1, 0, 8, 7, 6, 3, 3, 3, 7, 5, 7, 4, 8, 1, 4, 1, 4, 5, 5, 3, 3, 7, 5, 7, 1, 7, 9, 4, 0, 7, 3, 3, 9, 7, 6, 6, 4, 8, 0, 8, 8, 4, 9, 8, 6, 9, 2, 6, 0, 9, 2, 2, 7, 6, 0, 3, 2, 9, 9, 3, 1, 1, 1, 0, 1, 8, 2, 9, 7, 0, 0, 3, 0, 5, 6, 9, 5, 3, 3, 5, 1, 9, 1, 5, 8, 7, 8, 8, 2, 4, 0, 6, 7, 1, 7, 0, 1, 0, 6, 7, 6, 9, 5, 8, 9, 6, 5, 4, 8, 7, 4, 6, 3, 9, 4, 6, 5, 8, 0, 5, 0, 1, 5, 6, 2, 8, 0, 9, 9, 7, 7, 4, 1, 8, 1, 5, 8, 6, 9, 2, 1, 6, 5, 2, 7, 2, 4, 7, 3, 4, 5, 8, 0, 1, 4, 4, 1, 7, 7, 9, 1, 5, 8, 2, 5, 3, 6, 0, 2, 6, 8, 0, 4, 4, 1, 2, 2, 9, 2, 4, 7, 1, 6, 7, 1, 1, 1, 0, 9, 5, 0, 5, 1, 6, 6, 2, 9, 6, 2, 3, 3, 9, 6, 3, 7, 8, 8, 4, 9, 3, 7, 4, 0, 7, 7, 7, 5, 0, 6, 4, 1, 9, 8, 2, 3, 9, 9, 9, 0, 4, 9, 0, 4, 2, 9, 5, 6, 7, 3, 7, 2, 2, 7, 2, 8, 0, 4, 8, 3, 1, 6, 2, 0, 9, 2, 3, 9, 9, 3, 2, 7, 5, 7, 6, 2, 3, 9, 9, 3, 9, 6, 7, 6, 0, 4, 2, 6, 7, 0, 2, 9, 8, 9, 2, 6, 9, 2, 6, 6, 6, 3, 2, 0, 4, 2, 9, 9, 9, 2, 5, 8, 4, 1, 9, 1, 1, 6, 5, 2, 8, 5, 1, 4, 8, 2, 8, 4, 6, 2, 6, 2, 4, 4, 4, 8, 1, 5, 1, 5, 7, 6, 1, 4, 9, 7, 8, 6, 5, 1, 9, 7, 0, 5, 6, 0, 3, 7, 1, 1, 9, 9, 7, 0, 6, 7, 4, 6, 1, 3, 3, 8, 1, 6, 2, 2, 3, 2, 1, 5, 7, 3, 3, 7, 7, 0, 8, 1, 7, 6, 2, 9, 4, 5, 5, 1, 8, 2, 9, 0, 5, 2, 0, 5, 8, 3, 8, 4, 1, 6, 3, 3, 6, 1, 4, 4, 6, 2, 1, 8, 7, 7, 7, 2, 2, 9, 9, 7, 5, 8, 0, 1, 5, 9, 4, 2, 9, 2, 3, 7, 4, 6, 4, 3, 6, 0, 4, 0, 6, 9, 1, 8, 4, 9, 9, 9, 1, 3, 0, 3, 9, 1, 2, 2, 2, 6, 0, 7, 5, 7, 8, 4, 1, 8, 9, 0, 1, 7, 3, 0, 8, 9, 5, 2, 5, 7, 0, 7, 1, 9, 0, 6, 8, 6, 7, 6, 5, 2, 9, 6, 5, 4, 9, 6, 5, 6, 0, 8, 1, 2, 5, 9, 4, 8, 1, 5, 3, 9, 2, 8, 9, 1, 5, 6, 6, 0, 3, 2, 1, 1, 1, 7, 1, 0, 5, 8, 6, 1, 8, 7, 5, 2, 8, 8, 0, 9, 0, 5, 1, 9, 4, 4, 9, 5, 7, 1, 8, 9, 2, 4, 6, 5, 5, 1, 0, 5, 2, 0, 9, 2, 7, 9, 1, 6, 1, 2, 7, 9, 4, 8, 7, 1, 1, 2, 8, 0, 9, 7, 7, 9, 5, 3, 1, 7, 0, 4, 8, 4, 5, 1, 2, 5, 9, 3, 0, 1, 5, 4, 4, 8, 5, 8, 3, 4, 3, 3, 2, 9, 4, 7, 2, 6, 0, 8, 0, 5, 8, 0, 1, 9, 3, 4, 8, 3, 0, 2, 1, 5, 1, 6, 0, 3, 2, 2, 7, 2, 4, 6, 0, 5, 4, 9, 1, 8, 8, 9, 1, 4, 3, 8, 7, 3, 2, 3, 7, 4, 5, 1, 7, 7, 3, 3, 9, 6, 1, 6, 4, 7, 1, 4, 3, 5, 6, 6, 5, 1, 7, 3, 4, 8, 3, 0, 6, 2, 3, 6, 7, 2, 5, 6, 8, 9, 6, 0, 8, 4, 2, 3, 2, 1, 1, 5, 6, 7, 5, 9, 6, 8, 2, 4, 2, 3, 2, 4, 6, 6, 7, 9, 7, 3, 5, 7, 6, 2, 7, 4, 5, 2, 7, 9, 5, 8, 8, 6, 8, 7, 6, 0, 1, 3, 3, 3, 8, 4, 7, 8, 5, 6, 8, 2, 7, 9, 5, 3, 4, 6, 6, 5, 8, 8, 1, 1, 1, 5, 8, 5, 4, 4, 0, 1, 5, 1, 9, 3, 4, 7, 2, 7, 9, 8, 2, 7, 6, 0, 8, 7, 4, 8, 9, 5, 9, 7, 7, 9, 0, 8, 9, 0, 5, 9, 9, 7, 1, 1, 7, 2, 9, 6, 4, 4, 1, 1, 9, 3, 1, 4, 2, 9, 9, 8, 7, 2, 5, 9, 2, 6, 1, 9, 6, 5, 7, 0, 8, 1, 7, 7, 7, 1, 9, 1, 9, 6, 5, 2, 1, 1, 9, 3, 8, 4, 9, 5, 5, 6, 1, 3, 6, 2, 2, 3, 3, 7, 1, 8, 2, 8, 6, 5, 2, 1, 5, 4, 9, 3, 1, 7, 4, 7, 6, 8, 6, 7, 6, 2, 2, 8, 4, 9, 8, 4, 2, 2, 5, 7, 8, 4, 1, 0, 1, 5, 3, 3, 8, 7, 6, 5, 1, 4, 6, 5, 0, 9, 9, 9, 1, 8, 5, 8, 8, 5, 6, 4, 0, 4, 5, 0, 4, 1, 0, 9, 8, 7, 3, 4, 8, 4, 3, 8, 6, 7, 7, 4, 4, 9, 0, 5, 5, 5, 1, 6, 2, 0, 2, 2, 7, 9, 5, 5, 1, 0, 0, 4, 8, 5, 2, 4, 7, 3, 4, 6, 4, 0, 4, 4, 7, 3, 3, 9, 5, 5, 2, 1, 8, 7, 0, 2, 5, 2, 8, 7, 6, 1, 8, 6, 6, 4, 3, 7, 4, 6, 6, 8, 1, 5, 2, 7, 5, 9, 5, 9, 4, 2, 7, 0, 8, 4, 0, 3, 4, 2, 7, 3, 4, 2, 5, 2, 7, 1, 0, 8, 6, 9, 1, 4, 4, 6, 3, 9, 2, 6, 5, 5, 1, 4, 3, 1, 1, 0, 1, 4, 9, 5, 7, 5, 9, 8, 5, 9, 1, 9, 5, 7, 9, 9, 6, 5, 9, 3, 1, 9, 2, 4, 5, 0, 8, 1, 5, 9, 3, 8, 6, 8, 1, 2, 9, 4, 3, 7, 2, 3, 3, 2, 8, 7, 2, 7, 3, 6, 2, 1, 4, 3, 1, 4, 2, 8, 0, 8, 4, 7, 1, 6, 4, 8, 7, 1, 1, 3, 8, 8, 1, 3, 1, 5, 3, 5, 0, 1, 4, 6, 8, 9, 5, 2, 2, 4, 0, 8, 4, 0, 6, 4, 0, 1, 1, 9, 1, 1, 7, 1, 7, 8, 6, 5, 0, 9, 1, 4, 4, 4, 1, 0, 5, 0, 5, 6, 0, 6, 4, 7, 5, 7, 3, 3, 2, 6, 9, 8, 5, 5, 4, 7, 2, 7, 3, 1, 5, 5, 9, 7, 8, 6, 7, 4, 2, 1, 2, 8, 8, 2, 3, 3, 5, 9, 2, 3, 2, 3, 6, 1, 7, 3, 0, 9, 6, 9, 5, 9, 2, 3, 0, 5, 5, 3, 0, 6, 6, 6, 5, 7, 5, 1, 9, 0, 1, 8, 9, 7, 1, 5, 8, 5, 2, 7, 3, 9, 6, 6, 7, 7, 8, 2, 0, 5, 5, 6, 6, 1, 5, 8, 4, 3, 8, 2, 8, 4, 8, 4, 0, 2, 6, 8, 3, 5, 3, 2, 3, 8, 4, 0, 4, 3, 8, 1, 0, 7, 1, 9, 2, 7, 5, 1, 6, 5, 4, 4, 0, 2, 4, 5, 1, 7, 0, 9, 3, 1, 2, 2, 0, 9, 4, 8, 6, 6, 5, 2, 8, 6, 9, 0, 9, 8, 1, 7, 1, 1, 6, 7, 9, 3, 5, 9, 7, 9, 9, 6, 1, 9, 2, 7, 6, 7, 8, 2, 9, 6, 2, 8, 6, 3, 6, 3, 0, 8, 0, 0, 5, 7, 1, 3, 8, 3, 0, 8, 9, 9, 1, 4, 6, 7, 8, 3, 1, 7, 3, 5, 6, 5, 2, 3, 3, 3, 6, 2, 6, 1, 9, 2, 8, 0, 3, 1, 8, 3, 6, 6, 6, 8, 8, 6, 0, 5, 5, 1, 7, 9, 3, 6, 6, 2, 7, 4, 0, 2, 4, 8, 8, 6, 0, 3, 7, 1, 1, 2, 2, 1, 2, 2, 9, 6, 6, 7, 4, 1, 1, 0, 3, 6, 0, 2, 1, 1, 9, 7, 9, 3, 7, 0, 5, 1, 0, 9, 3, 0, 8, 8, 6, 9, 2, 2, 8, 7, 1, 2, 7, 0, 9, 1, 6, 2, 9, 2, 3, 1, 1, 0, 3, 7, 8, 5, 8, 4, 5, 3, 2, 9, 0, 5, 4, 5, 5, 1, 9, 0, 0, 9, 7, 9, 0, 3, 6, 0, 9, 4, 2, 9, 0, 9, 6, 5, 4, 6, 1, 1, 8, 6, 2, 3, 8, 7, 4, 7, 9, 5, 2, 0, 5, 2, 1, 9, 0, 7, 4, 9, 1, 4, 6, 3, 6, 4, 4, 5, 1, 6, 0, 1, 2, 9, 8, 5, 2, 3, 4, 7, 0, 5, 1, 7, 9, 9, 7, 2, 9, 1, 1, 9, 1, 5, 0, 9, 8, 7, 8, 8, 0, 0, 1, 1, 1, 3, 9, 5, 7, 7, 6, 3, 2, 1, 1, 5, 9, 8, 4, 1, 7, 3, 6, 6, 2, 1, 0, 3, 1, 5, 6, 8, 6, 1, 1, 8, 1, 0, 7, 3, 7, 9, 6, 8, 4, 1, 0, 6, 6, 2, 8, 0, 5, 0, 1, 3, 5, 7, 4, 1, 3, 0, 8, 1, 6, 6, 0, 7, 2, 5, 7, 3, 0, 0, 0, 2, 6, 9, 8, 6, 6, 4, 4, 1, 1, 6, 5, 6, 3, 3, 8, 6, 4, 9, 0, 1, 7, 6, 1, 6, 3, 9, 3, 1, 5, 1, 5, 6, 9, 0, 9, 7, 4, 7, 7, 2, 5, 3, 4, 1, 4, 5, 1, 8, 4, 0, 9, 2, 1, 1, 4, 1, 1, 7, 1, 7, 2, 8, 2, 8, 0, 2, 5, 7, 8, 2, 9, 1, 2, 2, 5, 6, 3, 9, 2, 5, 4, 6, 1, 4, 7, 9, 4, 2, 4, 4, 3, 6, 4, 6, 6, 0, 5, 7, 9, 4, 6, 9, 9, 5, 1, 1, 3, 9, 3, 3, 9, 9, 8, 9, 8, 3, 1, 0, 8, 8, 6, 9, 3, 7, 6, 4, 6, 7, 7, 1, 8, 2, 9, 5, 8, 6, 6, 4, 3, 8, 9, 4, 1, 3, 7, 2, 7, 7, 7, 3, 1, 0, 4, 0, 1, 4, 3, 1, 5, 9, 9, 0, 5, 1, 7, 4, 0, 5, 2, 3, 4, 4, 6, 4, 8, 5, 4, 3, 8, 4, 1, 0, 2, 3, 6, 7, 0, 6, 1, 7, 4, 1, 4, 5, 2, 4, 6, 1, 2, 0, 1, 9, 8, 9, 7, 4, 5, 8, 4, 6, 3, 7, 3, 5, 3, 5, 9, 9, 0, 6, 2, 6, 3, 7, 9, 1, 4, 7, 1, 4, 5, 1, 3, 1, 1, 6, 0, 0, 3, 8, 4, 6, 3, 4, 8, 7, 8, 0, 1, 8, 8, 9, 6, 3, 5, 9, 0, 2, 3, 6, 2, 0, 9, 8, 0, 9, 1, 3, 2, 1, 5, 0, 0, 7, 9, 3, 7, 1, 8, 6, 4, 9, 6, 8, 7, 5, 5, 2, 7, 3, 5, 6, 9, 5, 4, 7, 2, 2, 4, 3, 7, 4, 4, 5, 8, 0, 8, 1, 1, 7, 1, 1, 1, 1, 3, 0, 6, 9, 7, 3, 2, 9, 6, 3, 3, 4, 8, 9, 6, 7, 2, 3, 1, 3, 4, 8, 2, 4, 2, 6, 1, 9, 2, 2, 7, 7, 4, 8, 0, 4, 5, 0, 0, 9, 2, 2, 9, 2, 9, 6, 0, 1, 4, 3, 5, 1, 5, 5, 7, 9, 1, 6, 8, 5, 4, 9, 4, 0, 7, 9, 0, 8, 9, 2, 2, 8, 7, 3, 3, 8, 8, 6, 2, 8, 9, 9, 1, 6, 9, 5, 6, 7, 4, 4, 6, 0, 4, 0, 0, 6, 5, 3, 3, 3, 5, 8, 6, 8, 7, 6, 8, 3, 7, 1, 3, 0, 0, 3, 9, 5, 1, 9, 4, 2, 7, 1, 8, 0, 1, 9, 8, 4, 1, 4, 4, 2, 7, 2, 5, 0, 2, 2, 7, 5, 2, 8, 7, 6, 9, 8, 2, 4, 6, 4, 1, 7, 5, 9, 5, 0, 9, 2, 0, 6, 6, 6, 2, 9, 4, 8, 0, 9, 7, 0, 8, 1, 0, 7, 7, 6, 6, 8, 3, 7, 4, 2, 8, 3, 0, 8, 1, 9, 6, 3, 4, 3, 8, 3, 2, 7, 0, 7, 1, 7, 4, 4, 8, 7, 6, 0, 0, 5, 0, 1, 1, 9, 8, 4, 9, 7, 5, 2, 2, 9, 5, 1, 2, 9, 7, 2, 3, 6, 5, 6, 3, 1, 0, 2, 1, 1, 3, 3, 3, 6, 2, 6, 6, 0, 6, 3, 0, 2, 7, 9, 7, 3, 5, 7, 8, 2, 4, 3, 6, 9, 7, 5, 9, 8, 6, 6, 7, 7, 0, 0, 3, 3, 0, 3, 2, 5, 8, 2, 2, 3, 0, 7, 8, 3, 8, 3, 4, 4, 2, 6, 4, 4, 1, 4, 8, 5, 1, 9, 8, 2, 8, 7, 7, 6, 1, 4, 1, 4, 9, 3, 9, 1, 8, 1, 0, 5, 3, 8, 5, 4, 4, 6, 8, 6, 9, 8, 9, 9, 1, 3, 4, 3, 9, 5, 9, 6, 8, 9, 3, 2, 2, 1, 0, 2, 5, 4, 3, 2, 3, 5, 8, 8, 1, 9, 9, 7, 5, 1, 9, 5, 7, 9, 6, 6, 3, 8, 2, 0, 3, 5, 8, 8, 7, 7, 6, 9, 1, 6, 1, 2, 9, 5, 7, 2, 1, 9, 9, 2, 8, 4, 1, 5, 9, 6, 0, 6, 9, 2, 8, 8, 7, 7, 8, 2, 8, 1, 7, 5, 8, 4, 1, 1, 4, 5, 7, 1, 9, 9, 1, 1, 3, 0, 2, 9, 8, 2, 3, 9, 6, 0, 3, 7, 6, 8, 8, 5, 8, 8, 5, 1, 0, 1, 9, 0, 3, 0, 5, 0, 3, 9, 9, 8, 0, 2, 4, 9, 5, 9, 3, 8, 2, 2, 1, 8, 4, 5, 7, 2, 2, 1, 2, 2, 5, 1, 9, 8, 3, 2, 4, 2, 7, 3, 2, 4, 2, 6, 4, 4, 6, 0, 7, 4, 6, 3, 6, 9, 3, 5, 4, 1, 3, 5, 9, 7, 4, 3, 9, 6, 4, 9, 3, 0, 9, 7, 2, 6, 2, 6, 6, 3, 6, 1, 5, 2, 9, 2, 6, 5, 3, 5, 8, 8, 4, 1, 6, 2, 8, 1, 8, 3, 2, 1, 4, 4, 4, 7, 0, 8, 1, 5, 1, 3, 5, 5, 1, 6, 0, 6, 1, 2, 2, 9, 0, 9, 2, 8, 0, 4, 7, 8, 5, 4, 4, 7, 6, 0, 6, 4, 5, 1, 9, 9, 7, 3, 8, 2, 6, 2, 3, 0, 5, 1, 3, 2, 9, 1, 4, 8, 3, 9, 1, 7, 9, 3, 2, 9, 7, 9, 1, 5, 5, 4, 5, 1, 8, 0, 4, 1, 5, 0, 2, 4, 1, 7, 4, 5, 3, 6, 6, 8, 1, 0, 3, 1, 8, 9, 4, 9, 7, 1, 7, 6, 2, 2, 3, 8, 5, 9, 5, 6, 6, 4, 7, 7, 2, 9, 4, 8, 3, 0, 4, 2, 2, 1, 3, 5, 0, 3, 9, 1, 2, 7, 1, 0, 7, 3, 3, 9, 8, 3, 3, 9, 4, 0, 1, 6, 3, 7, 4, 3, 3, 1, 1, 9, 1, 7, 3, 6, 6, 3, 5, 2, 3, 8, 6, 7, 3, 4, 1, 6, 4, 1, 7, 1, 9, 1, 5, 8, 2, 5, 3, 0, 6, 6, 5, 0, 3, 4, 4, 5, 2, 0, 0, 7, 2, 3, 1, 2, 0, 7, 5, 2, 1, 4, 3, 0, 4, 6, 9, 7, 2, 9, 5, 9, 2, 0, 6, 6, 4, 3, 2, 3, 9, 7, 1, 0, 5, 8, 8, 0, 1, 0, 6, 4, 6, 0, 1, 9, 6, 7, 8, 9, 6, 6, 5, 0, 0, 3, 0, 4, 6, 4, 7, 1, 2, 9, 8, 8, 5, 6, 2, 8, 1, 8, 0, 4, 0, 5, 9, 8, 7, 1, 3, 3, 1, 0, 2, 9, 3, 6, 6, 9, 3, 0, 4, 1, 4, 9, 1, 6, 4, 2, 7, 9, 5, 4, 7, 6, 6, 8, 2, 4, 9, 1, 5, 7, 1, 5, 4, 6, 3, 2, 3, 3, 9, 1, 2, 4, 6, 6, 3, 9, 9, 0, 3, 1, 2, 4, 5, 1, 6, 1, 3, 8, 6, 7, 3, 8, 4, 8, 2, 8, 0, 0, 7, 8, 1, 3, 4, 6, 8, 4, 3, 9, 8, 7, 6, 4, 4, 6, 2, 0, 2, 5, 7, 7, 0, 3, 3, 6, 1, 2, 0, 9, 7, 9, 6, 9, 2, 8, 8, 7, 6, 2, 3, 8, 0, 9, 5, 5, 1, 3, 8, 6, 6, 0, 1, 9, 3, 3, 9, 7, 8, 2, 9, 5, 9, 2, 8, 6, 6, 2, 9, 3, 3, 9, 3, 0, 5, 7, 0, 4, 1, 8, 1, 2, 9, 9, 1, 1, 1, 2, 8, 0, 5, 2, 9, 1, 5, 3, 3, 3, 7, 7, 0, 7, 2, 6, 0, 9, 7, 7, 3, 7, 7, 4, 9, 1, 2, 0, 2, 9, 4, 6, 7, 3, 8, 6, 9, 7, 4, 8, 9, 9, 0, 4, 4, 4, 3, 4, 8, 4, 5, 3, 4, 6, 4, 8, 4, 4, 7, 6, 7, 5, 7, 1, 3, 5, 4, 3, 8, 5, 6, 5, 7, 0, 3, 1, 2, 5, 8, 0, 6, 1, 6, 4, 9, 7, 4, 1, 0, 2, 6, 4, 3, 8, 7, 0, 9, 6, 6, 0, 4, 7, 0, 8, 4, 3, 2, 9, 5, 5, 7, 4, 3, 7, 4, 6, 4, 9, 4, 7, 5, 1, 6, 9, 0, 4, 5, 1, 9, 6, 2, 0, 9, 1, 1, 4, 8, 1, 6, 9, 4, 2, 7, 4, 9, 7, 3, 1, 1, 0, 0, 6, 9, 9, 1, 5, 1, 4, 7, 3, 4, 7, 9, 0, 1, 6, 6, 1, 2, 5, 5, 9, 3, 2, 2, 9, 4, 0, 5, 7, 9, 0, 8, 5, 5, 0, 9, 3, 1, 8, 4, 6, 7, 9, 4, 6, 0, 5, 9, 7, 5, 5, 4, 1, 2, 0, 9, 5, 7, 1, 7, 1, 9, 4, 3, 5, 7, 4, 9, 4, 7, 5, 1, 0, 0, 0, 3, 2, 6, 3, 6, 8, 6, 7, 8, 4, 0, 5, 6, 3, 1, 4, 8, 2, 5, 3, 9, 1, 8, 7, 2, 6, 1, 0, 8, 2, 1, 0, 4, 4, 4, 6, 5, 4, 5, 3, 0, 8, 7, 8, 7, 8, 5, 6, 2, 4, 9, 4, 9, 8, 4, 4, 9, 2, 1, 3, 6, 7, 5, 0, 2, 8, 6, 7, 6, 2, 4, 8, 8, 0, 6, 3, 2, 9, 5, 6, 4, 2, 7, 3, 0, 5, 1, 3, 4, 1, 6, 7, 5, 8, 8, 5, 7, 7, 7, 0, 6, 2, 8, 6, 5, 8, 1, 0, 9, 6, 1, 0, 4, 6, 1, 7, 6, 5, 3, 5, 7, 9, 6, 5, 1, 8, 7, 8, 1, 0, 6, 8, 9, 9, 8, 4, 6, 7, 0, 2, 2, 0, 5, 3, 8, 7, 2, 9, 3, 1, 6, 2, 8, 3, 0, 7, 8, 9, 0, 2, 9, 5, 6, 1, 0, 5, 1, 5, 7, 2, 9, 1, 6, 3, 2, 7, 5, 9, 9, 1, 7, 1, 9, 4, 9, 2, 4, 4, 2, 8, 3, 0, 2, 4, 7, 1, 2, 9, 4, 7, 6, 1, 4, 7, 8, 4, 2, 6, 2, 5, 8, 9, 3, 1, 0, 6, 2, 4, 9, 5, 5, 1, 4, 1, 1, 5, 6, 2, 3, 1, 9, 6, 8, 8, 7, 1, 1, 2, 3, 6, 9, 9, 6, 0, 3, 5, 1, 9, 9, 7, 5, 7, 5, 5, 4, 4, 8, 4, 3, 2, 5, 9, 7, 0, 8, 8, 7, 7, 1, 4, 8, 9, 1, 4, 5, 1, 3, 2, 8, 3, 9, 4, 8, 3, 3, 9, 1, 6, 6, 4, 7, 5, 9, 8, 1, 4, 0, 5, 9, 5, 3, 7, 8, 2, 3, 4, 8, 5, 1, 8, 3, 3, 1, 0, 6, 1, 8, 1, 8, 3, 9, 6, 2, 7, 2, 5, 6, 0, 6, 0, 5, 6, 6, 1, 2, 6, 6, 8, 9, 3, 6, 4, 3, 0, 6, 6, 2, 3, 4, 4, 3, 9, 5, 4, 2, 5, 8, 3, 6, 3, 1, 7, 1, 6, 4, 2, 7, 5, 4, 3, 9, 5, 6, 8, 3, 8, 9, 2, 2, 8, 9, 4, 1, 3, 6, 6, 9, 6, 8, 8, 6, 7, 6, 9, 1, 6, 5, 2, 3, 5, 4, 3, 6, 4, 3, 9, 1, 5, 0, 1, 2, 4, 6, 4, 7, 8, 8, 9, 7, 3, 8, 0, 4, 2, 5, 2, 2, 7, 3, 9, 2, 8, 9, 0, 8, 8, 5, 2, 6, 8, 2, 5, 4, 0, 3, 8, 8, 8, 2, 3, 9, 3, 3, 5, 9, 6, 3, 7, 1, 2, 2, 8, 4, 4, 7, 4, 9, 7, 6, 2, 0, 7, 0, 8, 2, 4, 1, 9, 8, 3, 2, 4, 4, 2, 9, 7, 9, 3, 6, 6, 4, 5, 7, 5, 0, 7, 5, 2, 4, 1, 3, 2, 2, 3, 5, 6, 3, 2, 5, 5, 9, 2, 5, 5, 4, 7, 1, 8, 7, 3, 5, 8, 2, 7, 1, 4, 1, 8, 3, 1, 3, 8, 2, 2, 4, 3, 2, 4, 0, 8, 2, 4, 1, 3, 9, 0, 3, 2, 5, 9, 6, 2, 1, 8, 1, 6, 0, 5, 9, 7, 0, 9, 3, 3, 7, 2, 5, 3, 9, 8, 7, 0, 8, 4, 0, 1, 3, 8, 4, 6, 5, 1, 3, 1, 2, 4, 0, 5, 1, 0, 3, 9, 5, 0, 9, 3, 0, 2, 7, 9, 2, 8, 7, 9, 8, 8, 8, 0, 1, 7, 3, 6, 0, 3, 4, 3, 2, 4, 1, 6, 2, 8, 8, 2, 0, 1, 7, 5, 0, 9, 4, 1, 5, 2, 7, 5, 2, 4, 5, 0, 4, 3, 5, 5, 0, 0, 4, 3, 1, 5, 9, 8, 8, 6, 5, 7, 7, 2, 1, 4, 3, 6, 3, 6, 5, 3, 7, 7, 0, 2, 9, 3, 8, 3, 0, 4, 2, 1, 7, 8, 1, 3, 7, 9, 9, 1, 1, 3, 2, 3, 0, 1, 0, 8, 0, 8, 4, 7, 8, 2, 6, 0, 0, 1, 2, 9, 1, 0, 6, 7, 4, 4, 6, 5, 7, 3, 6, 8, 1, 7, 9, 0, 2, 4, 8, 1, 7, 9, 6, 2, 7, 6, 9, 6, 7, 2, 5, 2, 0, 8, 9, 9, 6, 4, 0, 1, 3, 5, 0, 9, 3, 2, 2, 4, 8, 7, 2, 2, 9, 6, 3, 7, 5, 8, 2, 7, 7, 0, 0, 6, 0, 2, 0, 8, 6, 3, 9, 2, 4, 2, 0, 0, 3, 4, 5, 8, 0, 2, 8, 7, 8, 2, 4, 6, 9, 6, 8, 1, 0, 1, 3, 4, 2, 6, 3, 6, 7, 3, 9, 7, 7, 4, 6, 6, 5, 1, 0, 0, 5, 9, 1, 2, 7, 0, 6, 2, 3, 7, 5, 7, 1, 0, 9, 0, 5, 4, 3, 5, 7, 7, 7, 9, 5, 5, 5, 2, 6, 6, 4, 1, 5, 2, 4, 1, 4, 1, 7, 5, 7, 4, 4, 2, 6, 9, 3, 4, 5, 7, 6, 7, 6, 6, 0, 9, 5, 4, 6, 7, 6, 8, 2, 1, 2, 0, 6, 4, 7, 1, 6, 9, 3, 6, 7, 6, 2, 2, 9, 5, 5, 0, 2, 3, 4, 4, 7, 6, 5, 0, 8, 1, 8, 1, 6, 4, 6, 2, 1, 6, 4, 0, 2, 5, 3, 0, 5, 6, 8, 8, 7, 1, 9, 4, 2, 1, 8, 1, 2, 0, 8, 6, 0, 6, 6, 8, 1, 9, 7, 6, 1, 1, 1, 7, 9, 6, 6, 8, 6, 1, 1, 0, 5, 0, 1, 1, 0, 4, 4, 4, 7, 7, 7, 5, 8, 5, 6, 1, 4, 3, 1, 4, 1, 1, 2, 1, 7, 3, 1, 0, 2, 8, 5, 6, 7, 9, 1, 7, 1, 2, 9, 5, 8, 4, 1, 1, 0, 6, 6, 3, 1, 6, 7, 8, 0, 5, 5, 8, 7, 9, 3, 5, 8, 5, 5, 5, 0, 4, 2, 7, 4, 5, 5, 5, 4, 9, 6, 2, 8, 6, 6, 0, 9, 5, 7, 2, 4, 5, 5, 0, 0, 1, 1, 4, 3, 7, 9, 6, 5, 9, 1, 1, 0, 7, 9, 2, 6, 0, 5, 1, 8, 9, 0, 5, 4, 3, 3, 4, 1, 2, 0, 1, 5, 7, 6, 3, 8, 1, 7, 9, 8, 0, 0, 9, 1, 3, 6, 5, 7, 9, 5, 1, 0, 9, 2, 3, 1, 7, 8, 6, 6, 2, 4, 7, 2, 5, 7, 6, 5, 2, 0, 3, 1, 0, 7, 4, 7, 0, 5, 6, 4, 1, 2, 1, 5, 8, 4, 7, 7, 1, 8, 8, 2, 5, 0, 4, 6, 6, 8, 1, 2, 5, 8, 1, 8, 4, 0, 6, 8, 9, 3, 2, 2, 5, 7, 3, 3, 5, 4, 3, 5, 3, 4, 7, 9, 8, 0, 7, 1, 7, 4, 2, 0, 1, 9, 5, 5, 6, 4, 5, 8, 5, 0, 8, 9, 2, 7, 8, 6, 4, 2, 7, 4, 1, 3, 7, 1, 1, 4, 6, 3, 4, 3, 6, 3, 9, 7, 6, 3, 9, 2, 6, 2, 2, 7, 1, 7, 9, 1, 2, 2, 4, 7, 0, 9, 2, 9, 6, 7, 3, 2, 0, 4, 7, 0, 1, 0, 7, 4, 7, 7, 9, 3, 8, 8, 1, 2, 1, 4, 4, 7, 1, 6, 7, 2, 8, 8, 9, 6, 3, 1, 8, 1, 3, 4, 6, 5, 3, 2, 5, 3, 3, 5, 4, 6, 5, 9, 3, 1, 3, 8, 8, 2, 9, 7, 1, 6, 0, 5, 1, 2, 6, 9, 2, 2, 9, 9, 5, 8, 6, 4, 3, 4, 6, 7, 9, 0, 1, 2, 6, 0, 4, 6, 5, 2, 6, 5, 2, 4, 0, 3, 0, 6, 2, 5, 1, 9, 0, 8, 3, 8, 7, 7, 4, 6, 7, 7, 2, 6, 6, 1, 8, 8, 1, 1, 4, 5, 7, 6, 5, 2, 2, 9, 1, 3, 6, 7, 2, 4, 1, 4, 4, 0, 8, 7, 3, 7, 7, 6, 6, 8, 4, 0, 1, 2, 6, 0, 6, 2, 6, 2, 8, 0, 7, 8, 1, 1, 6, 7, 0, 1, 1, 3, 4, 9, 6, 5, 0, 8, 5, 8, 3, 4, 6, 7, 2, 6, 4, 2, 5, 1, 4, 6, 2, 5, 3, 4, 5, 9, 2, 0, 5, 7, 9, 6, 8, 2, 5, 8, 6, 8, 1, 0, 9, 8, 3, 1, 8, 4, 5, 1, 9, 6, 5, 2, 9, 0, 2, 8, 9, 5, 1, 4, 2, 7, 4, 0, 6, 0, 7, 5, 0, 6, 6, 2, 1, 4, 5, 2, 3, 4, 7, 5, 6, 8, 9, 7, 4, 9, 7, 1, 7, 1, 4, 1, 1, 1, 5, 4, 1, 5, 0, 3, 1, 0, 2, 5, 9, 9, 7, 2, 4, 7, 9, 4, 2, 1, 8, 9, 0, 8, 8, 0, 8, 6, 0, 9, 7, 3, 0, 1, 0, 6, 0, 6, 6, 4, 4, 4, 9, 9, 2, 1, 9, 6, 1, 9, 0, 8, 9, 8, 0, 5, 8, 4, 7, 4, 7, 3, 4, 2, 1, 3, 2, 4, 9, 9, 3, 2, 5, 9, 3, 3, 2, 0, 7, 0, 1, 9, 4, 5, 9, 2, 3, 4, 9, 2, 6, 4, 0, 6, 3, 0, 5, 9, 7, 9, 8, 0, 7, 9, 8, 6, 3, 3, 2, 3, 1, 8, 5, 1, 7, 3, 0, 2, 6, 2, 1, 3, 0, 9, 3, 8, 5, 2, 4, 3, 9, 1, 3, 9, 6, 7, 1, 1, 8, 9, 3, 1, 2, 9, 4, 1, 0, 0, 3, 0, 0, 5, 2, 2, 8, 4, 7, 6, 8, 0, 8, 1, 7, 8, 3, 4, 1, 0, 2, 4, 1, 0, 3, 8, 3, 0, 6, 5, 1, 2, 4, 2, 7, 8, 9, 8, 3, 2, 9, 6, 1, 8, 5, 9, 0, 5, 8, 1, 5, 4, 0, 5, 0, 5, 5, 5, 0, 2, 5, 9, 4, 5, 1, 3, 1, 1, 1, 4, 0, 8, 5, 9, 7, 0, 1, 9, 5, 6, 8, 5, 8, 7, 3, 8, 1, 9, 9, 4, 5, 6, 6, 0, 0, 0, 2, 7, 8, 9, 1, 2, 1, 1, 7, 4, 8, 4, 3, 7, 6, 0, 2, 3, 7, 0, 2, 1, 5, 2, 8, 4, 2, 1, 3, 9, 3, 8, 0, 8, 4, 7, 4, 7, 2, 0, 6, 9, 9, 4, 1, 8, 9, 8, 1, 1, 5, 8, 1, 0, 2, 5, 4, 8, 2, 0, 4, 3, 4, 7, 5, 9, 6, 1, 0, 5, 3, 7, 0, 1, 8, 5, 1, 2, 0, 3, 7, 2, 0, 1, 2, 7, 7, 0, 1, 7, 4, 4, 0, 6, 7, 4, 4, 4, 0, 7, 6, 0, 1, 9, 8, 3, 3, 5, 0, 0, 9, 0, 5, 9, 2, 8, 1, 6, 0, 6, 0, 0, 4, 5, 9, 1, 8, 3, 9, 9, 6, 8, 7, 1, 0, 1, 4, 2, 0, 0, 8, 5, 9, 9, 6, 4, 0, 7, 0, 6, 7, 5, 1, 5, 1, 4, 6, 7, 2, 1, 8, 2, 7, 7, 9, 3, 2, 7, 1, 3, 3, 7, 2, 0, 4, 6, 0, 8, 0, 4, 3, 7, 8, 8, 0, 0, 2, 0, 2, 5, 4, 4, 0, 7, 5, 5, 7, 1, 9, 7, 4, 9, 9, 4, 3, 0, 0, 9, 4, 3, 1, 8, 1, 7, 8, 5, 7, 5, 3, 1, 6, 0, 8, 3, 6, 0, 4, 2, 7, 3, 1, 7, 9, 7, 7, 6, 1, 5, 3, 9, 7, 6, 9, 2, 3, 5, 2, 6, 3, 2, 0, 5, 4, 3, 4, 6, 2, 8, 6, 2, 6, 2, 1, 3, 3, 3, 4, 3, 2, 0, 9, 0, 3, 7, 2, 6, 6, 2, 4, 4, 1, 4, 9, 1, 0, 2, 6, 3, 3, 2, 5, 8, 9, 0, 2, 9, 3, 7, 5, 6, 1, 8, 0, 6, 8, 5, 9, 1, 4, 3, 1, 9, 7, 9, 4, 5, 6, 5, 4, 1, 7, 2, 5, 0, 1, 1, 1, 8, 7, 4, 5, 8, 8, 7, 7, 1, 1, 2, 3, 3, 1, 8, 7, 7, 0, 3, 5, 5, 2, 7, 1, 0, 5, 8, 3, 6, 5, 8, 0, 9, 9, 4, 7, 1, 9, 7, 5, 0, 0, 2, 7, 9, 2, 1, 8, 7, 1, 6, 9, 1, 9, 4, 8, 7, 2, 8, 2, 3, 0, 7, 5, 1, 6, 3, 2, 4, 3, 7, 5, 4, 0, 4, 1, 0, 8, 9, 8, 3, 1, 6, 1, 3, 5, 2, 7, 6, 9, 1, 1, 8, 1, 2, 0, 9, 3, 6, 1, 3, 2, 5, 3, 7, 1, 4, 4, 3, 7, 1, 5, 0, 1, 3, 8, 5, 3, 4, 2, 9, 3, 8, 1, 4, 2, 4, 6, 1, 2, 0, 8, 3, 5, 5, 2, 4, 5, 1, 1, 9, 6, 1, 9, 6, 2, 4, 4, 9, 3, 8, 5, 7, 2, 4, 9, 3, 0, 9, 5, 6, 4, 4, 7, 7, 4, 0, 5, 8, 4, 0, 9, 9, 7, 8, 3, 6, 0, 7, 0, 9, 6, 7, 8, 4, 4, 9, 5, 2, 1, 8, 2, 2, 9, 6, 7, 1, 8, 5, 4, 4, 0, 9, 1, 8, 0, 3, 2, 9, 9, 8, 4, 0, 8, 0, 9, 8, 8, 6, 3, 0, 5, 6, 5, 1, 7, 1, 5, 8, 0, 0, 6, 9, 7, 4, 7, 6, 6, 7, 7, 9, 8, 2, 7, 5, 6, 6, 4, 7, 9, 6, 8, 5, 2, 4, 5, 1, 3, 6, 2, 8, 4, 1, 7, 1, 0, 5, 7, 2, 7, 1, 7, 6, 7, 6, 1, 7, 0, 9, 2, 5, 2, 6, 2, 1, 6, 9, 6, 9, 2, 5, 7, 1, 2, 0, 0, 2, 2, 2, 0, 4, 7, 9, 8, 9, 6, 7, 5, 5, 6, 0, 0, 5, 7, 9, 7, 2, 1, 9, 7, 0, 2, 4, 6, 6, 2, 0, 0, 4, 3, 0, 1, 7, 9, 2, 0, 5, 1, 0, 0, 3, 6, 2, 0, 1, 0, 5, 1, 8, 8, 2, 6, 5, 3, 0, 6, 6, 0, 7, 8, 1, 2, 9, 1, 4, 3, 6, 0, 9, 3, 2, 4, 6, 4, 1, 7, 7, 6, 1, 4, 2, 2, 5, 8, 2, 8, 7, 7, 1, 3, 2, 9, 4, 2, 5, 6, 0, 1, 3, 7, 5, 6, 9, 8, 0, 6, 9, 2, 1, 2, 1, 7, 5, 1, 1, 4, 7, 7, 0, 1, 6, 2, 1, 8, 6, 5, 8, 3, 1, 0, 7, 8, 9, 8, 5, 4, 0, 6, 4, 4, 8, 4, 5, 7, 6, 0, 3, 8, 9, 1, 8, 1, 5, 7, 0, 3, 5, 0, 0, 0, 5, 0, 8, 3, 4, 5, 7, 3, 0, 6, 1, 1, 6, 9, 0, 4, 7, 8, 6, 7, 1, 7, 2, 4, 6, 2, 5, 2, 5, 6, 4, 4, 5, 9, 4, 6, 6, 7, 1, 0, 7, 7, 2, 3, 9, 2, 2, 8, 4, 4, 8, 3, 4, 4, 6, 1, 2, 1, 9, 6, 9, 3, 3, 1, 6, 1, 1, 5, 5, 0, 8, 7, 7, 8, 2, 9, 0, 5, 4, 3, 6, 4, 6, 1, 5, 7, 6, 9, 2, 4, 5, 6, 2, 4, 0, 5, 0, 1, 6, 1, 4, 3, 3, 1, 1, 6, 2, 2, 3, 1, 4, 9, 6, 7, 4, 6, 3, 1, 7, 0, 1, 2, 1, 4, 8, 5, 4, 7, 6, 6, 2, 0, 8, 1, 4, 1, 6, 7, 1, 0, 1, 2, 3, 5, 4, 1, 7, 6, 1, 2, 9, 7, 0, 9, 5, 7, 4, 9, 5, 2, 5, 6, 9, 1, 2, 9, 4, 8, 1, 1, 7, 3, 9, 4, 2, 3, 5, 7, 6, 6, 3, 5, 9, 2, 1, 6, 4, 8, 3, 8, 7, 1, 1, 7, 8, 0, 0, 2, 2, 7, 4, 9, 6, 3, 1, 1, 7, 4, 8, 7, 0, 1, 4, 1, 5, 9, 2, 9, 3, 3, 1, 8, 7, 7, 6, 2, 3, 6, 0, 8, 4, 6, 3, 0, 9, 3, 9, 2, 7, 8, 1, 0, 1, 8, 9, 5, 5, 8, 3, 4, 9, 3, 5, 9, 2, 4, 8, 1, 7, 0, 2, 3, 2, 9, 7, 7, 3, 9, 6, 1, 2, 6, 6, 7, 6, 2, 0, 6, 6, 1, 3, 0, 1, 1, 3, 2, 6, 9, 1, 8, 4, 7, 7, 7, 2, 8, 3, 3, 9, 4, 8, 3, 9, 0, 8, 9, 0, 5, 6, 4, 8, 2, 1, 5, 9, 3, 0, 5, 3, 6, 9, 1, 0, 3, 8, 1, 0, 4, 5, 1, 2, 2, 7, 3, 4, 1, 7, 7, 0, 7, 9, 4, 4, 4, 9, 2, 2, 5, 8, 1, 9, 7, 5, 0, 1, 2, 4, 1, 5, 2, 5, 6, 0, 9, 4, 1, 6, 7, 7, 9, 0, 9, 0, 8, 2, 7, 6, 5, 0, 9, 7, 1, 4, 8, 6, 8, 5, 5, 2, 6, 3, 9, 0, 1, 1, 8, 7, 1, 5, 7, 7, 6, 1, 1, 9, 5, 7, 3, 3, 5, 9, 1, 8, 0, 0, 0, 6, 6, 2, 0, 9, 1, 1, 4, 7, 7, 8, 2, 2, 3, 8, 5, 9, 4, 1, 0, 6, 9, 1, 2, 6, 9, 1, 8, 1, 3, 1, 9, 7, 9, 1, 5, 2, 9, 3, 7, 6, 2, 3, 4, 2, 8, 9, 7, 1, 7, 9, 0, 5, 5, 6, 5, 2, 9, 9, 2, 6, 5, 4, 8, 1, 8, 7, 1, 1, 3, 5, 7, 7, 2, 2, 6, 1, 5, 7, 0, 0, 0, 0, 4, 1, 4, 2, 8, 5, 9, 1, 0, 0, 3, 4, 9, 9, 1, 7, 7, 7, 5, 2, 8, 0, 5, 8, 0, 1, 9, 7, 7, 0, 4, 3, 5, 8, 4, 2, 8, 1, 2, 6, 9, 5, 6, 1, 8, 8, 2, 4, 8, 6, 1, 9, 0, 7, 8, 2, 9, 6, 0, 2, 8, 9, 1, 4, 0, 2, 7, 4, 0, 2, 5, 3, 5, 5, 0, 4, 1, 4, 7, 4, 0, 8, 7, 7, 7, 1, 6, 7, 2, 3, 9, 7, 7, 9, 3, 1, 9, 2, 4, 2, 4, 0, 8, 4, 7, 9, 7, 2, 8, 1, 5, 9, 3, 2, 7, 1, 0, 5, 1, 4, 6, 4, 9, 0, 5, 2, 8, 9, 8, 1, 7, 8, 8, 9, 9, 3, 1, 9, 7, 1, 0, 3, 8, 3, 6, 3, 3, 5, 6, 3, 2, 2, 8, 6, 9, 2, 7, 3, 1, 2, 2, 3, 5, 6, 8, 9, 6, 2, 4, 3, 4, 2, 6, 3, 5, 3, 1, 5, 6, 1, 7, 6, 0, 2, 5, 1, 8, 8, 6, 3, 6, 8, 9, 2, 8, 1, 8, 4, 3, 3, 1, 8, 0, 4, 7, 4, 9, 1, 2, 9, 7, 4, 2, 8, 1, 7, 5, 0, 7, 6, 5, 9, 8, 8, 3, 5, 4, 3, 8, 0, 3, 4, 3, 7, 5, 9, 0, 3, 0, 9, 8, 5, 3, 0, 7, 4, 7, 8, 4, 9, 2, 1, 9, 2, 2, 3, 1, 4, 3, 0, 5, 9, 3, 1, 5, 9, 5, 4, 4, 6, 4, 9, 7, 1, 6, 6, 7, 0, 2, 9, 2, 7, 3, 8, 2, 0, 0, 7, 3, 8, 3, 3, 3, 7, 3, 5, 3, 9, 5, 1, 0, 5, 2, 7, 3, 8, 4, 3, 1, 8, 0, 7, 2, 8, 5, 1, 9, 8, 3, 2, 3, 0, 6, 5, 6, 0, 8, 6, 4, 4, 0, 4, 3, 9, 7, 1, 7, 8, 2, 2, 1, 3, 1, 4, 6, 8, 5, 9, 2, 2, 1, 5, 6, 8, 9, 2, 5, 3, 1, 8, 1, 2, 7, 8, 1, 7, 6, 1, 7, 7, 7, 9, 2, 7, 4, 0, 5, 4, 8, 7, 2, 7, 3, 7, 7, 6, 8, 7, 9, 2, 6, 4, 7, 5, 0, 1, 7, 8, 5, 7, 9, 0, 6, 0, 6, 1, 3, 2, 5, 2, 2, 3, 6, 5, 1, 1, 3, 2, 4, 5, 3, 1, 3, 6, 8, 3, 0, 7, 0, 3, 3, 9, 1, 3, 1, 2, 5, 1, 3, 3, 7, 6, 1, 9, 8, 5, 5, 5, 9, 2, 4, 6, 7, 8, 8, 9, 7, 4, 8, 8, 0, 8, 5, 7, 9, 2, 8, 9, 3, 0, 0, 8, 5, 3, 6, 2, 5, 1, 6, 5, 2, 1, 8, 6, 7, 6, 8, 2, 6, 6, 9, 7, 4, 0, 4, 8, 4, 0, 4, 4, 1, 7, 6, 4, 0, 4, 7, 2, 2, 4, 4, 5, 6, 2, 3, 6, 5, 9, 1, 3, 8, 3, 9, 0, 1, 3, 6, 3, 3, 2, 5, 6, 5, 6, 1, 7, 4, 8, 8, 6, 5, 8, 4, 3, 1, 0, 1, 7, 0, 1, 5, 9, 6, 7, 8, 6, 0, 3, 4, 9, 6, 9, 4, 6, 6, 1, 5, 9, 6, 8, 4, 3, 2, 3, 1, 5, 2, 1, 5, 7, 5, 0, 5, 3, 1, 9, 8, 1, 9, 2, 7, 7, 6, 7, 6, 2, 1, 9, 4, 9, 3, 2, 5, 6, 8, 2, 8, 9, 4, 0, 1, 5, 7, 2, 1, 8, 8, 2, 2, 2, 5, 4, 7, 9, 9, 6, 3, 9, 1, 2, 8, 2, 8, 5, 0, 7, 9, 7, 6, 8, 9, 7, 8, 3, 4, 4, 6, 1, 7, 6, 9, 9, 9, 3, 7, 7, 4, 8, 0, 4, 5, 8, 6, 3, 8, 5, 1, 9, 3, 4, 7, 8, 0, 3, 2, 9, 8, 9, 1, 2, 0, 3, 1, 9, 1, 8, 2, 7, 9, 2, 2, 7, 0, 8, 3, 5, 9, 9, 1, 5, 9, 5, 3, 9, 8, 9, 9, 0, 3, 3, 1, 1, 0, 7, 9, 1, 9, 7, 4, 2, 8, 3, 0, 7, 7, 6, 4, 6, 8, 9, 0, 6, 7, 6, 9, 4, 4, 2, 2, 0, 0, 2, 4, 6, 9, 5, 1, 4, 3, 6, 9, 8, 1, 8, 4, 1, 6, 0, 6, 3, 1, 3, 2, 3, 8, 3, 5, 7, 5, 9, 7, 1, 7, 3, 5, 2, 6, 7, 8, 3, 8, 7, 8, 9, 0, 2, 3, 4, 3, 7, 8, 1, 8, 8, 6, 8, 0, 1, 7, 9, 3, 6, 1, 1, 4, 2, 9, 9, 4, 9, 9, 6, 3, 1, 9, 7, 2, 6, 7, 7, 4, 6, 2, 5, 4, 0, 0, 8, 8, 2, 0, 0, 3, 3, 4, 8, 1, 1, 5, 4, 1, 2, 6, 2, 2, 1, 8, 8, 3, 0, 2, 6, 8, 7, 1, 0, 9, 6, 4, 2, 6, 3, 9, 4, 0, 6, 9, 3, 4, 6, 4, 6, 8, 2, 2, 1, 1, 1, 0, 2, 9, 7, 3, 6, 9, 4, 3, 5, 7, 6, 9, 7, 9, 9, 5, 5, 3, 6, 2, 2, 3, 1, 6, 1, 2, 3, 6, 9, 1, 7, 8, 9, 3, 8, 6, 1, 0, 9, 6, 1, 3, 8, 6, 3, 4, 4, 3, 7, 7, 0, 5, 3, 5, 1, 8, 9, 5, 2, 2, 5, 4, 6, 7, 2, 3, 5, 5, 3, 7, 8, 7, 0, 2, 3, 1, 7, 4, 4, 8, 9, 7, 7, 3, 1, 4, 3, 1, 9, 7, 5, 1, 0, 0, 7, 5, 7, 8, 7, 7, 7, 8, 0, 3, 1, 4, 9, 7, 7, 9, 4, 3, 0, 9, 6, 8, 0, 3, 7, 2, 0, 8, 9, 4, 1, 8, 7, 1, 3, 4, 5, 4, 8, 7, 5, 6, 4, 1, 1, 8, 8, 0, 7, 0, 5, 5, 6, 4, 9, 2, 5, 8, 9, 1, 1, 3, 8, 4, 6, 0, 4, 0, 1, 0, 8, 0, 5, 7, 2, 4, 8, 3, 2, 0, 6, 1, 7, 6, 0, 6, 7, 5, 5, 2, 6, 0, 9, 8, 0, 5, 6, 7, 2, 5, 9, 3, 0, 0, 1, 7, 7, 9, 9, 9, 3, 2, 1, 0, 6, 1, 2, 0, 4, 1, 5, 5, 8, 6, 5, 8, 6, 5, 7, 5, 9, 9, 0, 2, 5, 7, 8, 7, 0, 7, 4, 0, 0, 3, 4, 5, 9, 1, 5, 4, 0, 1, 8, 7, 6, 0, 8, 1, 9, 8, 9, 9, 1, 3, 9, 9, 4, 7, 2, 0, 2, 4, 3, 7, 5, 7, 7, 5, 8, 7, 4, 5, 9, 5, 5, 6, 2, 9, 5, 7, 4, 8, 9, 9, 2, 6, 7, 4, 0, 4, 9, 5, 1, 8, 5, 7, 8, 5, 2, 8, 9, 6, 1, 1, 4, 9, 1, 1, 4, 3, 1, 7, 1, 3, 6, 5, 7, 8, 5, 7, 2, 5, 8, 2, 6, 1, 9, 5, 4, 7, 0, 9, 3, 4, 8, 5, 7, 8, 0, 7, 9, 4, 0, 7, 5, 5, 9, 1, 1, 6, 8, 9, 9, 3, 6, 1, 2, 2, 8, 4, 7, 6, 8, 3, 8, 0, 7, 8, 5, 9, 8, 5, 0, 0, 2, 5, 5, 2, 6, 1, 9, 9, 0, 4, 3, 0, 6, 8, 2, 5, 0, 3, 5, 8, 7, 4, 9, 9, 9, 7, 1, 4, 1, 7, 0, 7, 8, 3, 4, 7, 8, 1, 2, 8, 4, 5, 4, 2, 0, 1, 5, 6, 5, 6, 0, 9, 4, 9, 4, 1, 9, 9, 3, 6, 5, 4, 1, 5, 7, 3, 6, 3, 3, 2, 8, 3, 6, 0, 4, 4, 5, 1, 8, 0, 1, 5, 6, 4, 8, 6, 1, 9, 2, 9, 7, 3, 7, 4, 4, 1, 9, 6, 8, 3, 4, 2, 5, 3, 6, 3, 2, 5, 2, 2, 2, 9, 0, 8, 2, 5, 2, 3, 1, 6, 9, 1, 7, 6, 2, 9, 7, 0, 0, 9, 5, 7, 4, 3, 3, 3, 0, 4, 2, 3, 6, 2, 2, 8, 0, 2, 0, 4, 0, 7, 2, 5, 0, 3, 1, 9, 0, 1, 7, 6, 9, 5, 8, 7, 8, 6, 2, 2, 7, 3, 5, 4, 3, 0, 6, 3, 5, 2, 2, 2, 5, 7, 0, 7, 2, 2, 1, 0, 6, 3, 6, 5, 6, 1, 7, 8, 0, 7, 5, 9, 7, 1, 5, 5, 4, 0, 6, 0, 1, 7, 4, 6, 3, 1, 6, 4, 5, 4, 6, 2, 7, 1, 4, 8, 4, 6, 5, 2, 3, 1, 4, 7, 7, 0, 1, 7, 5, 5, 7, 0, 3, 3, 6, 5, 7, 2, 6, 5, 7, 3, 6, 9, 6, 3, 2, 6, 3, 3, 8, 2, 1, 7, 9, 3, 3, 8, 2, 6, 1, 6, 4, 2, 4, 0, 8, 7, 0, 8, 6, 9, 1, 8, 9, 3, 2, 9, 6, 3, 8, 9, 8, 3, 2, 5, 4, 7, 0, 4, 5, 0, 1, 3, 3, 3, 8, 4, 6, 7, 8, 0, 6, 4, 1, 9, 3, 0, 9, 3, 0, 1, 5, 8, 3, 7, 4, 5, 1, 9, 3, 4, 1, 2, 4, 3, 8, 9, 8, 7, 7, 5, 9, 0, 3, 1, 2, 1, 3, 9, 5, 9, 0, 2, 4, 3, 2, 0, 8, 7, 6, 3, 3, 2, 3, 6, 1, 4, 3, 9, 8, 2, 5, 5, 8, 4, 3, 2, 8, 8, 5, 9, 5, 9, 5, 8, 8, 1, 3, 2, 2, 0, 6, 4, 6, 4, 8, 2, 9, 5, 1, 4, 7, 2, 6, 4, 8, 3, 0, 9, 3, 8, 4, 0, 8, 8, 2, 0, 1, 2, 0, 8, 3, 2, 1, 8, 7, 9, 4, 6, 6, 8, 3, 7, 1, 1, 2, 9, 2, 4, 1, 9, 0, 1, 0, 7, 8, 9, 4, 6, 1, 2, 9, 9, 8, 2, 4, 1, 7, 2, 1, 7, 2, 4, 0, 2, 1, 5, 3, 9, 9, 3, 3, 3, 6, 7, 7, 8, 2, 7, 5, 6, 0, 2, 2, 6, 3, 9, 5, 4, 7, 5, 8, 4, 0, 2, 8, 6, 2, 4, 3, 4, 3, 7, 3, 3, 3, 4, 1, 0, 9, 9, 4, 5, 8, 7, 1, 7, 2, 4, 0, 9, 6, 4, 7, 9, 1, 5, 3, 3, 6, 5, 7, 0, 4, 1, 6, 8, 7, 1, 9, 3, 1, 2, 2, 8, 6, 4, 8, 2, 8, 3, 4, 4, 4, 1, 9, 1, 3, 5, 3, 7, 2, 8, 1, 1, 8, 7, 2, 7, 2, 1, 8, 6, 7, 1, 7, 3, 9, 9, 2, 2, 5, 0, 0, 3, 9, 5, 1, 1, 3, 9, 6, 5, 4, 9, 9, 8, 5, 4, 1, 0, 8, 0, 1, 9, 8, 7, 1, 0, 8, 8, 3, 4, 3, 7, 5, 1, 9, 2, 5, 8, 3, 1, 4, 7, 5, 8, 6, 4, 2, 4, 6, 6, 2, 8, 0, 2, 4, 7, 3, 2, 0, 0, 2, 1, 5, 6, 7, 3, 7, 8, 0, 6, 1, 0, 0, 6, 3, 9, 0, 5, 8, 1, 3, 4, 5, 4, 7, 2, 7, 1, 1, 4, 9, 5, 8, 3, 6, 0, 2, 0, 9, 9, 0, 1, 4, 3, 8, 8, 3, 8, 2, 1, 7, 0, 1, 1, 5, 6, 6, 8, 4, 3, 3, 6, 6, 2, 1, 5, 2, 3, 4, 1, 5, 2, 6, 0, 0, 4, 3, 4, 3, 9, 2, 5, 9, 6, 0, 8, 2, 3, 6, 3, 6, 0, 1, 3, 9, 0, 2, 5, 5, 5, 8, 8, 7, 2, 4, 4, 6, 0, 7, 6, 3, 7, 7, 5, 7, 4, 6, 7, 8, 3, 0, 2, 8, 9, 9, 1, 3, 4, 6, 7, 3, 6, 2, 0, 6, 6, 7, 7, 2, 3, 2, 1, 9, 5, 3, 6, 9, 2, 2, 4, 9, 4, 1, 5, 1, 7, 0, 4, 8, 6, 4, 3, 8, 0, 9, 7, 0, 0, 6, 7, 4, 8, 8, 2, 9, 8, 4, 5, 7, 0, 5, 8, 9, 1, 1, 9, 4, 6, 4, 1, 8, 0, 4, 9, 9, 6, 4, 5, 0, 0, 9, 8, 0, 7, 0, 5, 0, 9, 2, 7, 3, 7, 3, 1, 1, 6, 4, 3, 1, 4, 3, 3, 7, 0, 5, 8, 9, 0, 9, 8, 7, 8, 5, 1, 3, 4, 4, 7, 5, 0, 4, 0, 6, 3, 3, 8, 7, 3, 2, 2, 5, 1, 3, 4, 4, 5, 0, 7, 1, 3, 1, 1, 7, 2, 8, 0, 9, 5, 7, 0, 1, 2, 9, 4, 0, 7, 2, 5, 9, 9, 2, 4, 2, 0, 8, 1, 3, 8, 5, 0, 6, 5, 8, 0, 4, 1, 6, 8, 9, 2, 6, 5, 6, 5, 1, 2, 6, 4, 8, 6, 8, 2, 8, 9, 0, 4, 0, 9, 1, 8, 1, 9, 4, 5, 7, 6, 8, 4, 4, 0, 8, 8, 0, 8, 9, 6, 4, 2, 3, 4, 4, 0, 5, 8, 2, 5, 6, 1, 7, 6, 2, 8, 1, 9, 8, 0, 9, 4, 5, 2, 9, 8, 5, 3, 2, 8, 5, 9, 0, 8, 8, 0, 1, 7, 6, 2, 0, 7, 7, 0, 0, 8, 9, 7, 7, 7, 0, 8, 0, 3, 1, 9, 4, 1, 0, 5, 7, 5, 4, 8, 6, 1, 8, 6, 1, 1, 2, 2, 2, 7, 1, 1, 2, 4, 7, 9, 2, 7, 5, 4, 2, 5, 2, 6, 7, 9, 7, 1, 2, 1, 8, 4, 5, 3, 4, 5, 7, 6, 2, 9, 0, 5, 8, 6, 2, 8, 2, 4, 1, 8, 5, 0, 4, 5, 8, 0, 4, 8, 4, 9, 4, 4, 1, 1, 2, 0, 0, 5, 1, 3, 2, 3, 6, 1, 7, 7, 5, 4, 0, 0, 7, 6, 2, 3, 1, 1, 0, 1, 9, 8, 1, 0, 9, 1, 7, 6, 0, 2, 4, 5, 5, 7, 6, 8, 0, 3, 3, 5, 6, 6, 1, 6, 8, 1, 1, 5, 1, 2, 6, 0, 6, 9, 6, 2, 8, 7, 0, 5, 0, 6, 6, 0, 8, 0, 0, 8, 6, 0, 1, 6, 5, 3, 8, 4, 1, 7, 8, 2, 3, 8, 3, 1, 4, 3, 2, 6, 5, 5, 2, 4, 2, 7, 8, 9, 1, 7, 8, 8, 8, 0, 5, 9, 4, 7, 6, 6, 4, 7, 7, 0, 6, 1, 2, 1, 8, 6, 5, 9, 2, 3, 3, 7, 2, 7, 3, 7, 4, 4, 2, 2, 2, 0, 3, 3, 5, 5, 0, 3, 5, 8, 8, 6, 1, 7, 1, 1, 5, 8, 2, 2, 3, 8, 2, 8, 9, 9, 7, 1, 1, 1, 4, 3, 3, 4, 7, 3, 2, 2, 0, 1, 6, 0, 7, 7, 1, 0, 2, 4, 2, 9, 0, 0, 5, 3, 0, 3, 8, 8, 8, 4, 1, 0, 6, 0, 3, 4, 3, 8, 4, 0, 2, 0, 1, 3, 9, 4, 9, 5, 1, 6, 6, 1, 6, 2, 2, 1, 0, 9, 1, 6, 6, 1, 6, 7, 3, 2, 7, 6, 6, 0, 4, 0, 3, 0, 0, 6, 4, 5, 1, 5, 3, 9, 3, 6, 2, 7, 5, 5, 1, 7, 5, 5, 5, 0, 2, 6, 5, 1, 9, 3, 9, 3, 9, 1, 8, 4, 8, 8, 2, 8, 9, 8, 7, 2, 0, 1, 7, 1, 1, 2, 0, 6, 9, 5, 2, 2, 8, 1, 3, 6, 5, 8, 5, 5, 8, 5, 3, 8, 3, 5, 6, 2, 9, 1, 6, 8, 2, 5, 3, 5, 9, 0, 7, 6, 1, 2, 1, 7, 2, 3, 1, 4, 1, 4, 8, 5, 6, 2, 7, 0, 3, 5, 4, 4, 1, 1, 0, 8, 9, 6, 2, 9, 3, 1, 9, 1, 5, 4, 7, 6, 6, 4, 5, 8, 8, 3, 6, 4, 2, 9, 1, 3, 5, 7, 6, 4, 6, 3, 6, 8, 5, 7, 7, 7, 7, 8, 8, 7, 8, 1, 6, 6, 2, 4, 7, 7, 1, 0, 9, 5, 5, 0, 8, 8, 0, 7, 7, 9, 8, 6, 9, 6, 2, 8, 8, 3, 7, 0, 7, 4, 3, 0, 2, 0, 9, 1, 9, 6, 7, 8, 4, 0, 4, 0, 4, 8, 8, 7, 0, 2, 5, 4, 0, 2, 9, 9, 1, 7, 5, 1, 9, 1, 2, 4, 7, 9, 2, 2, 7, 4, 1, 8, 3, 5, 6, 3, 1, 0, 2, 9, 0, 6, 6, 8, 4, 0, 4, 4, 9, 2, 2, 8, 7, 3, 3, 9, 1, 7, 4, 8, 4, 4, 1, 2, 0, 3, 1, 6, 9, 2, 2, 3, 6, 6, 4, 9, 6, 5, 0, 3, 2, 2, 5, 3, 6, 0, 6, 1, 6, 8, 5, 4, 2, 6, 8, 9, 3, 9, 1, 3, 8, 3, 6, 5, 4, 7, 8, 5, 4, 0, 0, 7, 4, 2, 7, 5, 3, 8, 6, 7, 0, 4, 0, 5, 4, 1, 2, 4, 7, 7, 1, 1, 1, 2, 2, 1, 4, 1, 4, 8, 2, 2, 4, 3, 3, 9, 4, 0, 7, 6, 8, 4, 3, 3, 2, 9, 2, 4, 1, 5, 4, 2, 1, 4, 4, 9, 0, 8, 9, 0, 1, 2, 6, 8, 0, 8, 4, 9, 2, 8, 0, 7, 4, 8, 7, 5, 9, 6, 6, 5, 0, 5, 0, 9, 4, 9, 5, 8, 6, 1, 6, 4, 2, 1, 0, 0, 5, 4, 7, 0, 7, 9, 9, 6, 7, 2, 3, 3, 6, 6, 9, 6, 0, 2, 3, 5, 4, 7, 1, 8, 9, 6, 8, 4, 3, 1, 3, 8, 0, 7, 2, 0, 7, 5, 3, 8, 2, 8, 4, 6, 7, 2, 2, 3, 3, 8, 6, 9, 4, 7, 6, 0, 9, 1, 3, 7, 8, 4, 4, 3, 8, 7, 2, 6, 0, 6, 3, 2, 9, 8, 4, 8, 9, 6, 7, 4, 9, 7, 3, 6, 5, 6, 6, 0, 4, 2, 4, 3, 0, 6, 3, 8, 3, 5, 9, 9, 3, 0, 6, 5, 5, 9, 9, 2, 2, 8, 5, 8, 0, 7, 0, 9, 5, 4, 8, 1, 4, 1, 5, 7, 4, 5, 6, 1, 1, 6, 7, 3, 4, 5, 7, 4, 7, 4, 9, 2, 6, 9, 4, 4, 9, 1, 2, 1, 1, 3, 8, 1, 7, 2, 7, 1, 6, 0, 3, 9, 2, 4, 3, 3, 2, 4, 9, 9, 4, 7, 2, 7, 5, 7, 2, 1, 6, 0, 4, 9, 5, 9, 4, 4, 3, 7, 3, 9, 2, 4, 2, 7, 4, 7, 6, 9, 3, 4, 1, 6, 3, 1, 9, 7, 0, 8, 3, 3, 6, 7, 6, 2, 9, 5, 2, 6, 5, 5, 1, 8, 8, 5, 4, 8, 3, 7, 7, 6, 5, 8, 6, 1, 2, 4, 2, 1, 4, 3, 3, 6, 0, 8, 2, 4, 5, 9, 2, 5, 4, 6, 2, 3, 0, 9, 8, 7, 1, 7, 3, 0, 8, 9, 9, 5, 1, 7, 4, 5, 3, 4, 4, 2, 0, 5, 1, 3, 2, 2, 4, 2, 3, 2, 8, 4, 7, 8, 6, 7, 9, 7, 1, 3, 5, 2, 1, 4, 1, 0, 5, 9, 4, 0, 1, 7, 0, 6, 0, 0, 3, 0, 9, 3, 3, 1, 3, 5, 8, 7, 7, 0, 1, 2, 8, 6, 3, 4, 6, 1, 9, 2, 8, 0, 5, 9, 4, 8, 0, 0, 2, 1, 3, 3, 8, 1, 3, 6, 9, 3, 8, 0, 0, 1, 0, 3, 2, 5, 3, 7, 0, 3, 1, 6, 7, 8, 5, 0, 1, 2, 0, 6, 6, 5, 3, 5, 0, 7, 9, 5, 1, 7, 8, 1, 0, 7, 0, 3, 3, 1, 4, 1, 9, 9, 3, 1, 0, 6, 4, 8, 5, 3, 3, 2, 3, 7, 8, 2, 6, 1, 8, 5, 6, 5, 2, 9, 2, 6, 8, 1, 9, 7, 3, 6, 3, 2, 2, 6, 7, 5, 9, 9, 9, 9, 5, 7, 2, 5, 6, 4, 1, 6, 2, 1, 5, 9, 3, 8, 2, 0, 8, 1, 9, 5, 6, 1, 4, 7, 0, 5, 8, 6, 6, 0, 0, 8, 1, 5, 1, 7, 4, 9, 4, 8, 6, 4, 7, 3, 5, 3, 9, 9, 3, 5, 3, 8, 9, 0, 8, 2, 2, 7, 3, 1, 7, 1, 0, 0, 2, 1, 3, 5, 1, 9, 1, 1, 2, 7, 8, 8, 0, 6, 6, 1, 8, 5, 8, 5, 3, 9, 2, 7, 4, 3, 3, 5, 3, 9, 5, 8, 7, 1, 7, 5, 3, 5, 2, 4, 3, 1, 5, 5, 5, 4, 9, 4, 7, 9, 7, 4, 2, 8, 1, 5, 9, 4, 9, 0, 6, 0, 4, 8, 5, 5, 9, 3, 9, 7, 7, 9, 7, 8, 3, 3, 0, 9, 4, 8, 7, 5, 2, 9, 8, 1, 0, 6, 0, 2, 2, 0, 2, 5, 1, 5, 2, 2, 5, 1, 9, 0, 6, 8, 7, 8, 3, 7, 3, 6, 7, 5, 8, 8, 3, 6, 8, 1, 2, 9, 6, 1, 5, 9, 7, 0, 4, 1, 9, 2, 4, 1, 7, 3, 7, 3, 9, 0, 4, 1, 1, 9, 3, 1, 6, 1, 5, 5, 0, 3, 9, 6, 1, 9, 7, 2, 6, 3, 2, 2, 7, 4, 5, 0, 3, 5, 6, 1, 4, 2, 3, 4, 4, 9, 3, 3, 5, 0, 0, 9, 7, 6, 2, 1, 3, 3, 6, 1, 0, 2, 7, 7, 4, 9, 7, 9, 8, 5, 4, 0, 4, 3, 6, 6, 5, 8, 5, 3, 4, 1, 0, 9, 4, 0, 0, 2, 9, 1, 6, 0, 7, 8, 0, 8, 7, 8, 4, 2, 8, 1, 6, 5, 1, 7, 7, 1, 0, 0, 8, 6, 9, 4, 6, 9, 6, 9, 4, 6, 1, 2, 6, 7, 9, 6, 8, 6, 9, 8, 8, 8, 6, 1, 6, 9, 7, 9, 1, 6, 4, 1, 5, 3, 5, 9, 6, 3, 1, 4, 4, 0, 1, 6, 7, 4, 5, 6, 8, 8, 9, 8, 8, 8, 4, 3, 9, 4, 1, 0, 1, 2, 8, 0, 5, 9, 3, 0, 3, 3, 3, 4, 2, 6, 1, 7, 9, 9, 2, 1, 7, 0, 8, 0, 6, 7, 8, 9, 5, 5, 7, 0, 8, 3, 3, 1, 6, 8, 6, 8, 8, 6, 7, 6, 4, 4, 3, 3, 2, 1, 6, 5, 0, 3, 8, 9, 8, 3, 0, 3, 4, 5, 9, 5, 5, 0, 1, 0, 3, 5, 2, 3, 1, 3, 8, 0, 8, 2, 1, 5, 0, 1, 9, 7, 1, 3, 5, 2, 7, 3, 3, 7, 3, 7, 7, 9, 9, 4, 0, 7, 8, 1, 5, 1, 6, 1, 5, 9, 8, 3, 9, 4, 6, 5, 5, 0, 7, 6, 5, 4, 0, 9, 7, 7, 8, 0, 2, 8, 4, 2, 2, 5, 9, 5, 9, 7, 4, 7, 3, 1, 2, 0, 2, 0, 1, 5, 4, 7, 9, 0, 6, 2, 1, 3, 4, 2, 6, 2, 4, 8, 8, 3, 0, 7, 9, 8, 0, 9, 8, 8, 0, 7, 2, 5, 0, 9, 2, 8, 1, 8, 3, 6, 9, 3, 9, 4, 0, 2, 5, 1, 5, 2, 9, 6, 1, 6, 0, 6, 6, 5, 6, 8, 6, 1, 5, 8, 4, 1, 6, 6, 7, 4, 6, 7, 6, 5, 8, 0, 0, 1, 8, 4, 0, 2, 2, 3, 1, 7, 5, 1, 0, 4, 3, 8, 5, 7, 6, 7, 6, 3, 2, 2, 1, 3, 1, 0, 9, 3, 5, 8, 4, 0, 9, 2, 8, 4, 7, 7, 9, 4, 8, 2, 5, 2, 2, 9, 3, 3, 7, 7, 5, 2, 8, 8, 7, 2, 9, 2, 0, 9, 9, 2, 9, 7, 8, 5, 5, 5, 3, 1, 0, 6, 5, 6, 5, 9, 5, 1, 8, 7, 7, 7, 9, 5, 2, 0, 9, 0, 6, 2, 2, 9, 6, 0, 7, 3, 2, 0, 1, 9, 3, 6, 1, 2, 1, 4, 4, 5, 1, 0, 9, 6, 4, 8, 0, 1, 6, 7, 6, 7, 7, 0, 7, 6, 9, 7, 8, 6, 6, 3, 7, 9, 2, 8, 8, 5, 3, 9, 7, 6, 1, 4, 1, 7, 3, 0, 5, 1, 0, 6, 6, 3, 6, 3, 7, 0, 3, 4, 3, 1, 5, 1, 0, 3, 2, 3, 2, 0, 8, 7, 0, 3, 7, 4, 3, 7, 2, 8, 0, 7, 7, 8, 4, 7, 0, 7, 0, 8, 1, 9, 8, 2, 4, 9, 9, 0, 4, 4, 3, 9, 7, 9, 3, 5, 9, 0, 4, 1, 5, 0, 3, 4, 8, 1, 7, 2, 6, 7, 7, 5, 7, 4, 8, 7, 9, 7, 5, 7, 2, 3, 8, 6, 4, 2, 7, 8, 3, 0, 1, 1, 4, 3, 2, 1, 0, 5, 7, 8, 5, 9, 8, 1, 7, 9, 3, 5, 4, 0, 0, 6, 3, 9, 8, 8, 7, 8, 7, 9, 4, 8, 7, 5, 7, 7, 4, 8, 0, 1, 1, 9, 9, 3, 7, 9, 4, 7, 1, 8, 0, 2, 2, 2, 8, 6, 3, 8, 0, 0, 3, 6, 5, 7, 2, 9, 8, 8, 6, 9, 1, 1, 5, 2, 5, 3, 2, 4, 8, 3, 4, 8, 3, 6, 5, 9, 7, 9, 0, 4, 0, 7, 7, 5, 5, 7, 8, 7, 7, 0, 6, 4, 0, 9, 9, 2, 7, 8, 8, 4, 8, 3, 9, 0, 4, 2, 5, 7, 7, 0, 4, 0, 6, 2, 7, 4, 5, 5, 5, 4, 6, 1, 4, 3, 6, 5, 4, 7, 6, 3, 1, 5, 8, 4, 2, 6, 6, 0, 6, 6, 6, 8, 8, 5, 2, 7, 0, 8, 1, 3, 9, 1, 0, 1, 6, 8, 9, 5, 6, 2, 8, 7, 4, 6, 2, 7, 3, 0, 0, 1, 9, 9, 3, 6, 0, 6, 4, 8, 3, 8, 0, 5, 5, 7, 5, 7, 7, 8, 2, 6, 8, 9, 6, 9, 6, 0, 3, 5, 7, 6, 2, 7, 3, 3, 6, 1, 2, 1, 0, 1, 2, 9, 1, 1, 7, 7, 5, 1, 1, 7, 6, 5, 9, 8, 3, 2, 9, 9, 7, 8, 9, 9, 1, 6, 0, 4, 6, 4, 1, 2, 5, 8, 2, 3, 0, 6, 4, 6, 5, 6, 2, 9, 7, 7, 0, 3, 2, 9, 5, 2, 7, 4, 9, 8, 2, 2, 6, 6, 1, 8, 8, 1, 5, 6, 4, 0, 2, 4, 3, 9, 6, 5, 4, 6, 2, 6, 2, 7, 3, 9, 1, 4, 1, 9, 5, 8, 4, 1, 2, 6, 9, 8, 6, 5, 2, 5, 1, 5, 8, 2, 1, 7, 8, 3, 0, 2, 5, 5, 7, 3, 9, 1, 0, 3, 6, 4, 2, 1, 2, 6, 3, 5, 5, 9, 3, 5, 7, 6, 7, 2, 2, 9, 4, 3, 0, 4, 5, 0, 0, 0, 8, 7, 0, 1, 4, 9, 9, 5, 8, 3, 8, 5, 5, 7, 7, 4, 7, 8, 0, 4, 2, 6, 5, 1, 8, 8, 1, 2, 5, 1, 3, 0, 4, 3, 2, 1, 4, 8, 8, 1, 9, 6, 7, 7, 3, 6, 2, 6, 4, 5, 9, 1, 3, 1, 9, 3, 9, 4, 3, 8, 5, 1, 8, 9, 7, 0, 4, 8, 4, 8, 3, 5, 7, 2, 0, 0, 9, 7, 2, 7, 5, 0, 5, 7, 3, 6, 1, 6, 2, 7, 7, 8, 3, 2, 9, 1, 3, 4, 5, 0, 9, 1, 9, 0, 3, 5, 1, 8, 1, 0, 8, 7, 6, 1, 1, 9, 6, 0, 6, 2, 8, 8, 4, 6, 1, 8, 1, 1, 5, 1, 8, 7, 9, 3, 3, 6, 6, 3, 5, 5, 7, 4, 0, 3, 2, 1, 5, 7, 0, 4, 0, 2, 3, 1, 9, 4, 2, 2, 7, 9, 6, 2, 0, 6, 4, 3, 7, 3, 7, 3, 5, 5, 1, 7, 7, 9, 0, 9, 2, 2, 5, 5, 6, 7, 6, 4, 0, 0, 6, 2, 5, 6, 9, 7, 8, 1, 4, 2, 0, 0, 9, 9, 1, 9, 0, 3, 2, 1, 4, 1, 8, 3, 1, 7, 9, 4, 1, 5, 5, 1, 9, 3, 4, 0, 1, 8, 6, 5, 9, 0, 8, 8, 0, 8, 3, 3, 7, 9, 8, 4, 5, 0, 5, 2, 0, 0, 7, 9, 5, 9, 7, 5, 1, 0, 6, 9, 1, 4, 4, 4, 3, 8, 0, 9, 2, 1, 1, 5, 2, 1, 2, 9, 6, 1, 3, 6, 1, 4, 3, 5, 8, 1, 3, 0, 8, 2, 4, 3, 9, 2, 2, 6, 4, 1, 1, 6, 2, 4, 6, 0, 8, 3, 6, 7, 0, 2, 4, 1, 3, 4, 1, 5, 1, 2, 5, 7, 9, 3, 7, 8, 0, 6, 5, 3, 9, 7, 6, 7, 7, 2, 7, 1, 6, 8, 1, 9, 6, 6, 9, 0, 9, 2, 6, 6, 6, 0, 4, 7, 0, 7, 1, 4, 6, 8, 9, 5, 6, 6, 9, 2, 2, 1, 0, 9, 0, 6, 1, 4, 4, 7, 9, 4, 2, 9, 6, 4, 2, 6, 1, 7, 3, 8, 7, 0, 6, 4, 2, 4, 7, 5, 5, 8, 1, 1, 9, 6, 1, 1, 6, 0, 2, 8, 2, 3, 9, 6, 4, 7, 9, 1, 5, 4, 1, 2, 4, 2, 8, 3, 7, 1, 7, 9, 6, 3, 6, 7, 4, 2, 5, 6, 3, 3, 2, 0, 0, 3, 3, 4, 5, 4, 1, 9, 9, 0, 9, 0, 8, 6, 2, 0, 7, 7, 4, 7, 1, 3, 6, 7, 8, 4, 7, 7, 6, 4, 1, 7, 2, 8, 0, 6, 9, 9, 2, 5, 5, 1, 2, 2, 7, 6, 3, 5, 3, 2, 5, 9, 2, 0, 6, 8, 3, 2, 9, 3, 3, 6, 1, 7, 5, 3, 8, 0, 2, 0, 4, 2, 7, 6, 9, 8, 1, 4, 1, 6, 6, 8, 8, 3, 7, 1, 5, 1, 2, 4, 1, 6, 1, 8, 7, 1, 8, 8, 2, 5, 2, 8, 5, 3, 1, 6, 9, 6, 5, 1, 6, 4, 3, 3, 7, 0, 0, 8, 0, 3, 2, 3, 2, 8, 6, 9, 8, 7, 8, 2, 4, 7, 5, 7, 3, 8, 5, 3, 3, 6, 0, 8, 2, 1, 6, 4, 1, 7, 3, 4, 7, 5, 8, 1, 8, 2, 9, 1, 0, 1, 1, 9, 9, 5, 2, 8, 0, 4, 2, 8, 0, 1, 3, 9, 5, 3, 5, 4, 5, 2, 1, 7, 4, 8, 7, 6, 9, 2, 7, 2, 4, 1, 8, 3, 5, 2, 8, 8, 7, 5, 1, 5, 7, 3, 6, 3, 8, 8, 5, 0, 0, 5, 5, 0, 9, 8, 4, 2, 4, 3, 2, 1, 9, 4, 9, 6, 8, 5, 9, 3, 3, 1, 1, 7, 9, 1, 8, 5, 0, 1, 1, 1, 3, 8, 8, 7, 9, 4, 1, 9, 6, 5, 9, 9, 1, 8, 7, 0, 7, 9, 2, 6, 4, 2, 4, 6, 6, 7, 7, 8, 9, 8, 7, 5, 3, 8, 9, 3, 4, 0, 7, 4, 3, 2, 2, 5, 0, 5, 7, 9, 4, 9, 3, 2, 8, 4, 0, 5, 8, 5, 0, 4, 7, 1, 5, 1, 1, 8, 1, 5, 6, 6, 2, 9, 1, 0, 1, 3, 7, 6, 7, 2, 9, 0, 4, 1, 0, 5, 0, 5, 3, 0, 4, 4, 2, 7, 9, 7, 3, 3, 4, 0, 3, 4, 9, 2, 2, 7, 1, 9, 6, 8, 3, 0, 6, 5, 5, 3, 5, 6, 7, 8, 6, 0, 4, 5, 2, 0, 2, 1, 9, 8, 9, 0, 4, 1, 4, 4, 0, 9, 4, 0, 8, 8, 5, 1, 5, 6, 3, 4, 7, 3, 3, 1, 8, 3, 7, 4, 2, 9, 1, 2, 0, 2, 8, 8, 7, 2, 3, 6, 1, 8, 2, 0, 6, 4, 9, 9, 6, 0, 5, 6, 3, 9, 4, 7, 9, 5, 3, 8, 3, 3, 0, 4, 3, 5, 3, 5, 8, 4, 6, 8, 4, 3, 3, 6, 5, 9, 1, 4, 5, 7, 4, 1, 6, 2, 1, 7, 7, 9, 4, 5, 4, 7, 5, 2, 3, 0, 5, 8, 5, 8, 5, 2, 6, 8, 2, 6, 4, 2, 2, 8, 1, 1, 7, 2, 0, 8, 4, 9, 0, 9, 9, 0, 8, 3, 5, 2, 7, 5, 9, 9, 7, 3, 6, 2, 4, 3, 1, 3, 5, 2, 3, 3, 1, 8, 8, 5, 0, 9, 4, 3, 2, 2, 1, 2, 1, 9, 6, 8, 3, 4, 2, 9, 7, 4, 7, 2, 8, 4, 9, 1, 8, 9, 8, 0, 2, 1, 5, 5, 6, 0, 5, 1, 8, 4, 9, 5, 0, 1, 6, 4, 5, 1, 5, 6, 6, 7, 4, 7, 3, 6, 1, 5, 3, 8, 4, 7, 8, 4, 7, 8, 2, 8, 7, 9, 1, 8, 3, 2, 2, 0, 9, 2, 7, 4, 2, 6, 0, 1, 4, 6, 4, 1, 8, 1, 2, 4, 4, 0, 6, 5, 5, 0, 2, 0, 1, 0, 0, 0, 3, 0, 5, 7, 5, 9, 9, 8, 3, 7, 3, 3, 7, 9, 1, 5, 8, 2, 4, 9, 5, 1, 0, 2, 7, 4, 4, 5, 0, 8, 9, 5, 5, 0, 8, 3, 0, 0, 3, 3, 6, 3, 7, 5, 9, 3, 8, 6, 8, 9, 9, 8, 4, 5, 4, 9, 9, 2, 8, 8, 2, 3, 3, 9, 7, 6, 1, 7, 3, 9, 2, 0, 8, 3, 6, 3, 2, 5, 1, 7, 9, 7, 0, 0, 7, 0, 2, 4, 7, 4, 7, 8, 5, 6, 3, 2, 4, 8, 2, 8, 9, 3, 5, 9, 9, 7, 6, 7, 9, 4, 4, 2, 8, 1, 9, 2, 9, 6, 3, 7, 8, 8, 1, 5, 7, 6, 8, 8, 7, 6, 8, 6, 5, 6, 6, 3, 1, 7, 0, 8, 7, 2, 9, 6, 8, 3, 5, 0, 4, 1, 2, 2, 3, 9, 5, 3, 3, 6, 1, 7, 3, 5, 2, 4, 9, 8, 3, 0, 7, 4, 7, 8, 5, 0, 2, 6, 0, 2, 4, 3, 6, 9, 5, 3, 2, 8, 1, 9, 2, 6, 2, 0, 3, 4, 2, 0, 2, 6, 9, 8, 2, 1, 1, 8, 8, 6, 2, 8, 0, 0, 4, 6, 8, 7, 5, 0, 6, 7, 4, 4, 7, 1, 9, 1, 9, 1, 6, 0, 8, 7, 3, 5, 3, 0, 3, 2, 4, 4, 0, 1, 1, 6, 4, 2, 7, 1, 3, 2, 1, 3, 1, 2, 5, 3, 5, 2, 8, 4, 2, 2, 1, 3, 6, 0, 4, 1, 5, 7, 0, 3, 7, 2, 7, 2, 0, 8, 6, 8, 7, 6, 8, 5, 0, 9, 1, 9, 5, 0, 0, 3, 6, 9, 7, 3, 3, 5, 3, 7, 3, 7, 9, 7, 7, 1, 9, 9, 8, 1, 8, 2, 7, 3, 5, 8, 5, 3, 6, 6, 2, 1, 9, 1, 4, 9, 9, 4, 8, 9, 8, 8, 5, 0, 6, 5, 7, 0, 6, 8, 1, 3, 6, 0, 3, 8, 8, 4, 6, 7, 4, 8, 7, 5, 0, 7, 6, 3, 4, 6, 8, 8, 3, 3, 6, 1, 9, 4, 5, 4, 2, 2, 7, 2, 2, 8, 4, 7, 0, 1, 3, 7, 9, 3, 9, 3, 3, 1, 4, 8, 2, 1, 4, 1, 3, 3, 8, 0, 3, 7, 7, 3, 9, 7, 4, 5, 3, 4, 5, 1, 2, 2, 2, 7, 2, 0, 9, 2, 4, 3, 5, 5, 4, 3, 3, 1, 1, 6, 2, 7, 2, 2, 3, 0, 6, 0, 2, 0, 0, 0, 4, 1, 7, 6, 0, 1, 4, 5, 6, 0, 2, 0, 2, 2, 8, 0, 8, 2, 9, 4, 2, 3, 3, 9, 5, 1, 2, 5, 8, 1, 9, 1, 4, 5, 7, 8, 1, 3, 7, 3, 2, 8, 3, 0, 5, 5, 4, 2, 3, 7, 5, 8, 4, 8, 0, 2, 8, 5, 3, 5, 5, 4, 5, 7, 0, 9, 1, 6, 8, 3, 8, 2, 8, 4, 9, 7, 7, 1, 5, 3, 1, 3, 2, 0, 0, 9, 8, 5, 8, 4, 6, 3, 4, 1, 8, 4, 0, 3, 5, 6, 1, 6, 6, 8, 8, 4, 8, 3, 0, 2, 7, 1, 3, 2, 5, 2, 1, 0, 3, 7, 3, 0, 5, 5, 3, 9, 6, 9, 2, 9, 4, 5, 7, 1, 7, 7, 7, 7, 7, 9, 7, 6, 4, 2, 9, 3, 3, 5, 0, 6, 9, 3, 8, 9, 8, 4, 9, 8, 0, 8, 6, 4, 6, 1, 1, 3, 8, 5, 1, 0, 6, 8, 2, 4, 6, 5, 6, 6, 2, 2, 7, 2, 4, 7, 8, 5, 2, 2, 3, 8, 3, 6, 3, 9, 2, 5, 4, 5, 7, 5, 1, 7, 8, 2, 1, 9, 6, 2, 6, 1, 8, 1, 7, 9, 0, 7, 0, 5, 8, 6, 0, 8, 4, 5, 1, 8, 7, 8, 7, 8, 6, 7, 0, 4, 4, 8, 1, 0, 0, 3, 4, 9, 5, 2, 0, 2, 1, 2, 1, 3, 6, 2, 4, 4, 5, 1, 2, 4, 8, 4, 3, 3, 1, 4, 5, 7, 7, 0, 6, 2, 0, 5, 1, 2, 6, 9, 0, 8, 9, 6, 7, 5, 3, 1, 6, 7, 1, 5, 6, 8, 5, 5, 0, 0, 0, 2, 9, 0, 0, 1, 5, 4, 4, 6, 7, 4, 7, 5, 8, 3, 5, 8, 8, 3, 5, 7, 7, 7, 5, 7, 9, 6, 6, 5, 8, 9, 7, 9, 3, 3, 3, 7, 1, 7, 3, 0, 7, 3, 4, 7, 7, 9, 5, 1, 1, 2, 5, 2, 9, 6, 7, 4, 7, 6, 4, 1, 2, 2, 8, 4, 8, 6, 4, 2, 2, 7, 4, 3, 3, 4, 5, 0, 6, 7, 7, 4, 3, 9, 9, 5, 1, 0, 8, 3, 0, 6, 8, 0, 6, 3, 1, 1, 4, 9, 5, 8, 8, 7, 8, 9, 8, 6, 8, 8, 0, 0, 6, 3, 4, 8, 1, 9, 6, 3, 9, 1, 0, 9, 8, 9, 4, 0, 4, 6, 2, 0, 0, 7, 6, 5, 8, 4, 2, 0, 0, 4, 1, 3, 4, 2, 3, 8, 3, 7, 9, 2, 8, 5, 1, 5, 1, 1, 5, 6, 5, 7, 3, 5, 9, 3, 5, 4, 6, 1, 6, 7, 3, 5, 7, 0, 6, 7, 3, 6, 8, 8, 8, 1, 6, 8, 4, 4, 9, 9, 2, 1, 1, 4, 8, 9, 5, 3, 6, 5, 7, 5, 0, 2, 4, 4, 9, 2, 5, 6, 0, 6, 7, 4, 0, 1, 9, 2, 5, 0, 7, 3, 1, 7, 9, 8, 7, 9, 3, 4, 2, 3, 3, 8, 1, 4, 3, 3, 5, 8, 7, 9, 5, 1, 0, 0, 5, 7, 4, 6, 5, 6, 2, 5, 5, 2, 3, 7, 7, 1, 0, 4, 3, 7, 4, 3, 7, 6, 9, 8, 6, 4, 8, 4, 2, 2, 4, 6, 5, 3, 3, 4, 3, 8, 9, 2, 3, 4, 9, 5, 2, 6, 0, 1, 4, 9, 6, 2, 3, 1, 5, 8, 3, 3, 1, 3, 5, 1, 9, 1, 6, 5, 8, 7, 7, 5, 7, 5, 5, 2, 7, 6, 1, 1, 0, 7, 5, 8, 7, 4, 9, 7, 7, 8, 8, 4, 7, 7, 9, 4, 8, 4, 7, 2, 9, 9, 4, 7, 6, 2, 9, 2, 4, 5, 1, 7, 1, 5, 9, 2, 4, 0, 8, 5, 6, 7, 3, 3, 1, 0, 4, 6, 4, 6, 4, 9, 2, 9, 0, 7, 6, 3, 9, 2, 8, 6, 0, 0, 9, 8, 6, 4, 6, 2, 4, 1, 8, 7, 3, 5, 5, 3, 5, 1, 6, 9, 5, 9, 7, 7, 2, 5, 1, 3, 9, 6, 3, 0, 9, 6, 9, 4, 5, 0, 8, 1, 8, 0, 4, 3, 5, 2, 7, 4, 9, 7, 7, 4, 1, 4, 2, 8, 8, 3, 8, 9, 7, 8, 2, 9, 4, 9, 5, 1, 5, 2, 5, 4, 0, 4, 8, 3, 1, 1, 4, 0, 4, 1, 1, 2, 6, 5, 7, 9, 4, 0, 7, 7, 6, 5, 0, 4, 5, 5, 5, 2, 1, 4, 8, 4, 7, 1, 8, 0, 7, 7, 2, 8, 3, 4, 8, 0, 4, 9, 7, 8, 9, 7, 7, 3, 4, 0, 7, 8, 8, 7, 3, 0, 7, 4, 9, 0, 6, 3, 0, 4, 0, 1, 9, 0, 7, 9, 9, 5, 1, 7, 3, 5, 9, 9, 7, 4, 9, 3, 1, 3, 9, 4, 2, 7, 8, 3, 1, 2, 7, 0, 2, 4, 7, 6, 0, 3, 6, 3, 0, 4, 7, 8, 1, 2, 7, 8, 7, 6, 4, 6, 5, 0, 2, 8, 6, 4, 5, 6, 0, 1, 3, 1, 3, 9, 6, 1, 5, 7, 2, 6, 8, 4, 2, 8, 1, 7, 0, 0, 1, 2, 2, 3, 9, 4, 9, 3, 0, 8, 5, 6, 9, 8, 7, 7, 4, 1, 4, 4, 7, 7, 3, 1, 5, 1, 0, 2, 5, 1, 7, 8, 0, 4, 6, 7, 2, 9, 0, 1, 9, 6, 7, 1, 4, 4, 9, 0, 6, 9, 8, 5, 1, 8, 6, 5, 7, 0, 9, 1, 3, 5, 1, 6, 3, 4, 9, 1, 6, 5, 1, 2, 3, 7, 4, 9, 2, 1, 0, 1, 4, 1, 9, 3, 0, 7, 5, 4, 5, 9, 6, 9, 7, 6, 7, 9, 4, 5, 7, 4, 1, 5, 7, 7, 4, 3, 7, 2, 4, 7, 6, 7, 1, 1, 5, 6, 8, 7, 7, 2, 7, 5, 6, 4, 8, 5, 6, 2, 8, 0, 1, 8, 8, 2, 6, 7, 1, 9, 4, 7, 5, 7, 8, 9, 5, 7, 1, 6, 9, 0, 1, 1, 0, 6, 6, 7, 2, 7, 2, 5, 9, 7, 3, 6, 5, 0, 0, 9, 4, 9, 0, 8, 0, 8, 4, 1, 5, 6, 3, 0, 4, 6, 3, 8, 8, 1, 5, 0, 1, 6, 5, 7, 3, 9, 2, 0, 4, 3, 9, 9, 6, 6, 1, 3, 9, 0, 1, 9, 4, 5, 8, 7, 0, 6, 8, 3, 8, 7, 1, 7, 9, 9, 8, 3, 1, 8, 8, 0, 7, 0, 8, 9, 7, 4, 7, 8, 4, 8, 2, 5, 8, 0, 1, 2, 7, 9, 4, 2, 5, 8, 7, 2, 4, 8, 8, 0, 6, 5, 4, 5, 2, 5, 7, 5, 6, 6, 2, 4, 4, 9, 7, 9, 0, 5, 6, 1, 0, 8, 3, 5, 1, 3, 8, 0, 7, 5, 5, 4, 0, 7, 1, 1, 3, 7, 6, 8, 0, 7, 9, 4, 8, 8, 0, 8, 6, 1, 1, 4, 6, 4, 7, 5, 5, 9, 8, 5, 5, 8, 9, 5, 1, 0, 6, 5, 9, 6, 2, 3, 1, 1, 2, 1, 9, 8, 3, 7, 7, 2, 7, 0, 9, 7, 9, 0, 0, 3, 5, 8, 3, 3, 1, 3, 6, 8, 8, 5, 1, 8, 0, 4, 5, 8, 7, 3, 2, 1, 2, 7, 6, 8, 7, 8, 4, 0, 2, 6, 1, 0, 2, 4, 4, 7, 9, 7, 1, 7, 4, 0, 7, 2, 0, 8, 2, 3, 2, 1, 3, 8, 9, 0, 1, 1, 7, 2, 1, 0, 4, 3, 3, 9, 1, 9, 8, 1, 6, 1, 2, 9, 2, 2, 8, 9, 1, 6, 7, 1, 5, 1, 4, 3, 5, 3, 3, 9, 2, 5, 4, 8, 0, 3, 6, 3, 0, 2, 6, 2, 7, 7, 2, 6, 5, 7, 6, 1, 6, 2, 3, 4, 7, 5, 4, 8, 7, 0, 4, 7, 0, 4, 7, 4, 7, 1, 6, 7, 0, 7, 8, 7, 5, 3, 7, 7, 2, 7, 6, 8, 4, 3, 0, 2, 9, 2, 3, 8, 3, 7, 8, 2, 2, 3, 5, 3, 1, 8, 8, 2, 6, 2, 2, 2, 4, 2, 0, 9, 9, 8, 0, 1, 7, 8, 0, 7, 2, 6, 2, 3, 5, 8, 8, 8, 9, 7, 9, 7, 8, 3, 0, 1, 0, 9, 4, 7, 2, 8, 3, 0, 7, 4, 4, 4, 5, 4, 1, 2, 7, 0, 1, 4, 2, 9, 0, 9, 3, 8, 1, 1, 6, 9, 0, 7, 3, 2, 6, 6, 6, 0, 3, 6, 3, 5, 6, 8, 7, 9, 1, 1, 9, 0, 9, 3, 2, 7, 9, 9, 0, 8, 6, 3, 3, 2, 0, 5, 5, 1, 5, 3, 0, 5, 8, 7, 1, 8, 1, 7, 2, 4, 6, 4, 6, 5, 6, 5, 9, 3, 7, 6, 4, 3, 7, 3, 8, 3, 9, 2, 2, 9, 0, 7, 3, 1, 2, 4, 2, 9, 8, 5, 5, 2, 1, 2, 2, 0, 3, 0, 8, 3, 8, 0, 5, 2, 2, 3, 4, 2, 4, 4, 5, 5, 4, 1, 4, 3, 6, 2, 7, 1, 0, 2, 2, 1, 7, 4, 3, 2, 7, 7, 5, 8, 9, 8, 3, 2, 6, 7, 1, 2, 0, 9, 9, 1, 6, 0, 0, 6, 4, 8, 1, 8, 2, 8, 2, 2, 9, 0, 0, 5, 7, 2, 8, 3, 6, 1, 9, 1, 8, 2, 0, 3, 4, 2, 8, 1, 0, 9, 7, 3, 1, 3, 3, 9, 7, 7, 7, 9, 2, 8, 0, 2, 7, 0, 0, 9, 2, 0, 7, 1, 8, 6, 2, 7, 5, 9, 5, 6, 8, 7, 5, 3, 0, 1, 8, 9, 5, 8, 8, 0, 2, 4, 6, 8, 0, 2, 4, 6, 8, 0, 2, 4, 8, 7, 5, 2, 4, 1, 1, 3, 7, 7, 0, 4, 4, 4, 7, 6, 4, 8, 9, 6, 6, 7, 1, 8, 1, 9, 1, 4, 9, 2, 6, 5, 3, 3, 2, 0, 7, 1, 5, 9, 1, 3, 5, 7, 9, 1, 3, 5, 7, 9, 1, 3, 5, 7, 9, 8, 3, 4, 8, 6, 0, 7, 7, 5, 2, 0, 5, 1, 1, 3, 8, 3, 5, 9, 8, 3, 9, 4, 7, 9, 7, 9, 0, 6, 6, 0, 8, 0, 0, 4, 9, 1, 6, 9, 8, 0, 2, 4, 6, 8, 0, 2, 4, 6, 8, 0, 2, 4, 0, 6, 3, 0, 3, 3, 5, 4, 2, 4, 9, 8, 9, 5, 6, 4, 1, 4, 6, 1, 6, 7, 8, 8, 7, 2, 0, 5, 0, 5, 0, 8, 1, 2, 9, 2, 4, 2, 4, 7, 4, 9, 1, 6, 7, 0, 2, 4, 8, 0, 2, 4, 6, 8, 0, 2, 4, 6, 8, 7, 6, 7, 7, 7, 7, 0, 6, 6, 2, 5, 9, 3, 0, 4, 3, 8, 6, 8, 3, 0, 9, 3, 9, 2, 1, 2, 7, 1, 6, 1, 3, 0, 1, 1, 2, 6, 0, 9, 6, 1, 3, 5, 7, 9, 1, 3, 7, 9, 1, 3, 5, 7, 6, 2, 4, 5, 4, 8, 2, 3, 3, 2, 5, 7, 4, 6, 3, 3, 0, 3, 1, 3, 8, 0, 2, 1, 8, 7, 3, 9, 6, 4, 6, 5, 7, 9, 0, 9, 9, 3, 1, 2, 5, 7, 2, 4, 6, 8, 0, 2, 4, 6, 0, 2, 4, 6, 8, 8, 0, 5, 9, 4, 9, 8, 7, 8, 0, 5, 3, 3, 8, 4, 6, 0, 6, 1, 3, 8, 7, 4, 0, 0, 6, 7, 5, 9, 2, 9, 6, 3, 5, 9, 1, 5, 1, 3, 5, 7, 9, 1, 3, 5, 7, 9, 1, 3, 5, 7, 9, 4, 6, 7, 5, 7, 9, 9, 9, 8, 0, 8, 5, 0, 0, 2, 5, 5, 3, 1, 3, 8, 0, 2, 1, 8, 7, 3, 5, 2, 9, 6, 4, 6, 4, 5, 2, 7, 9, 0, 9, 9, 6, 3, 1, 2, 5, 7, 0, 2, 4, 6, 8, 1, 3, 5, 7, 0, 2, 4, 6, 8, 2, 2, 3, 9, 5, 7, 7, 5, 9, 4, 0, 4, 4, 7, 8, 4, 4, 8, 6, 6, 5, 2, 9, 6, 1, 0, 3, 3, 8, 4, 5, 9, 4, 1, 2, 6, 8, 1, 3, 2, 4, 1, 3, 7, 9, 1, 3, 7, 9, 1, 3, 5, 7, 7, 3, 8, 1, 2, 0, 9, 7, 9, 8, 7, 8, 3, 2, 5, 6, 3, 1, 3, 4, 4, 2, 1, 1, 1, 7, 3, 2, 7, 4, 8, 2, 6, 5, 5, 7, 7, 0, 4, 6, 0, 1, 2, 0, 1, 3, 5, 7, 9, 1, 3, 5, 7, 9, 1, 3, 5, 7, 9, 2, 2, 5, 6, 9, 5, 7, 1, 3, 7, 6, 6, 4, 5, 9, 5, 2, 8, 2, 8, 6, 3, 1, 4, 5, 9, 9, 4, 3, 0, 7, 1, 7, 2, 7, 0, 9, 8, 3, 7, 1, 4, 8, 0, 8, 7, 5, 8, 3, 6, 8, 0, 2, 6, 8, 0, 2, 4, 6, 7, 7, 3, 6, 4, 9, 2, 3, 6, 3, 6, 2, 3, 5, 7, 3, 0, 5, 8, 0, 9, 5, 7, 3, 3, 1, 3, 5, 7, 9, 1, 3, 5, 7, 0, 2, 4, 6, 8, 1, 5, 4, 7, 2, 4, 3, 2, 3, 5, 8, 9, 5, 3, 2, 7, 1, 3, 0, 0, 2, 7, 5, 1, 5, 4, 4, 3, 8, 3, 6, 2, 5, 6, 0, 0, 1, 2, 9, 1, 7, 9, 8, 7, 6, 0, 6, 2, 1, 3, 5, 7, 9, 1, 3, 5, 7, 9, 1, 3, 5, 7, 9, 6, 0, 3, 9, 7, 9, 7, 4, 7, 7, 3, 1, 9, 4, 0, 5, 6, 8, 8, 5, 6, 3, 7, 7, 2, 0, 7, 9, 9, 9, 8, 6, 2, 5, 5, 6, 4, 4, 5, 1, 3, 5, 7, 9, 1, 3, 5, 7, 9, 1, 4, 6, 8, 4, 1, 5, 4, 8, 3, 7, 2, 3, 6, 9, 8, 7, 6, 6, 9, 7, 8, 9, 3, 5, 9, 1, 3, 5, 7, 8, 9, 5, 2, 4, 5, 3, 0, 7, 2, 1, 1, 4, 1, 1, 0, 2, 4, 6, 0, 2, 4, 7, 0, 2, 4, 8, 2, 4, 7, 5, 1, 0, 2, 2, 6, 1, 7, 2, 6, 7, 9, 1, 6, 6, 9, 6, 3, 0, 8, 4, 1, 6, 4, 7, 9, 3, 4, 9, 0, 0, 2, 5, 7, 9, 1, 3, 5, 7, 9, 1, 3, 5, 7, 9, 2, 3, 1, 5, 2, 2, 3, 7, 1, 8, 1, 8, 0, 7, 8, 5, 6, 5, 4, 1, 7, 9, 3, 4, 1, 6, 0, 3, 1, 4, 6, 0, 5, 1, 8, 3, 9, 9, 6, 7, 2, 0, 4, 1, 3, 5, 7, 9, 1, 3, 8, 0, 2, 4, 6, 8, 6, 3, 1, 0, 8, 7, 0, 9, 0, 8, 9, 8, 0, 1, 5, 1, 5, 8, 3, 6, 5, 2, 0, 2, 6, 3, 3, 6, 1, 6, 7, 9, 9, 1, 3, 6]\n",
            "{0, 1, 2, 3, 4, 5, 6, 7, 8, 9}\n"
          ]
        }
      ]
    },
    {
      "cell_type": "code",
      "execution_count": 15,
      "metadata": {
        "id": "iwFKDQBzSNkA",
        "colab": {
          "base_uri": "https://localhost:8080/"
        },
        "outputId": "6e089e8b-197d-46e4-c327-d345f20f7f06"
      },
      "outputs": [
        {
          "output_type": "stream",
          "name": "stdout",
          "text": [
            "{0: 451, 1: 591, 2: 501, 3: 511, 4: 480, 5: 458, 6: 499, 7: 519, 8: 466, 9: 524}\n"
          ]
        }
      ],
      "source": [
        "# TODO - TEST Data\n",
        "test_labels = []\n",
        "for i in range(len(test_subset)):\n",
        "  test_labels.append(test_subset[i][1])\n",
        "test_num_labels = len(set(test_labels))\n",
        "# Use the original test dataset (with 10,000 images) object to obtain the number of label classes in test data\n",
        "test_loader_bar_plot = DataLoader(test_subset, batch_size=len(test_subset), shuffle=True, num_workers=0)\n",
        "\n",
        "# Creating dictionary for test dataset\n",
        "test_subset_dict = {}\n",
        "for i in range(test_num_labels):\n",
        "  test_subset_dict[i] = test_labels.count(i)\n",
        "# END TODO\n",
        "print(test_subset_dict)"
      ]
    },
    {
      "cell_type": "code",
      "execution_count": 16,
      "metadata": {
        "id": "kzUrOA8ESNkA",
        "colab": {
          "base_uri": "https://localhost:8080/"
        },
        "outputId": "169d82df-37dd-4545-c122-7286e2838648"
      },
      "outputs": [
        {
          "output_type": "stream",
          "name": "stdout",
          "text": [
            "Correct! You earned 6/6 points. You are a star!\n",
            "\n",
            "Your submission has been successfully recorded in the gradebook.\n"
          ]
        }
      ],
      "source": [
        "#Grader Cell (6 points)\n",
        "grader.grade(test_case_id = 'dataset_dict', answer = (train_num_labels, train_subset_dict, test_num_labels, test_subset_dict))"
      ]
    },
    {
      "cell_type": "markdown",
      "metadata": {
        "id": "9qy4qmuuSNkA"
      },
      "source": [
        "### 1.2.2 Visualize through bar charts (2 points - Manual Grading)\n",
        "\n",
        "Now we are going to visualize the distribution of labels using bar charts for both training and testing set which we store the distributions in their respective dictionary objects in section 1.2.1.\n",
        "\n",
        "---\n",
        "**TODO: You can use either `matplotlib` or `seaborn` for this section**\n",
        "* Create a barplot for the distributions of training labels using `train_subset_dict` with x-axis label as `Labels` and y-axis label as `Frequency`, and title as `Training set labels and corresponding frequencies`\n",
        "* Create a barplot for the distributions of testing labels using `test_subset_dict` with x-axis label as `Labels` and y-axis label as `Frequency`, and title as `Testing set labels and corresponding frequencies`\n",
        "* Add corresponding `count labels` to the barplots (i.e., if label 1 has a\n",
        "count of 1200, \"1200\" should appear above the bar corresponding to label 1)\n",
        "-  To avoid \"File Too Large\" for submission, please set figure size to (8,6).\n",
        "---\n",
        "**NOTE**:\n",
        "\n",
        "* y-axis $\\to$ Number of data points\n",
        "* x-axis $\\to$ The integer value of the labels in the MNIST dataset"
      ]
    },
    {
      "cell_type": "code",
      "execution_count": 17,
      "metadata": {
        "id": "AyzzS8y9SNkA",
        "colab": {
          "base_uri": "https://localhost:8080/",
          "height": 564
        },
        "outputId": "43758ac2-0ae5-43ad-dd6d-2638e55c22b7"
      },
      "outputs": [
        {
          "output_type": "display_data",
          "data": {
            "text/plain": [
              "<Figure size 800x600 with 1 Axes>"
            ],
            "image/png": "[encoded data removed]"
          },
          "metadata": {}
        }
      ],
      "source": [
        "# TODO: Create a barplot showing the distribution of the dataset\n",
        "# TRAIN Data\n",
        "plt.figure(figsize=(8, 6))\n",
        "plt.bar(train_subset_dict.keys(), train_subset_dict.values())\n",
        "plt.xlabel('Labels')\n",
        "plt.ylabel('Frequency')\n",
        "plt.title('Training Set VS Frequency')\n",
        "for i, val in train_subset_dict.items():\n",
        "    plt.text(i, val, str(val), horizontalalignment='center', verticalalignment='bottom')\n",
        "plt.show()"
      ]
    },
    {
      "cell_type": "code",
      "execution_count": 18,
      "metadata": {
        "id": "L8pNTb0CSNkB",
        "colab": {
          "base_uri": "https://localhost:8080/",
          "height": 564
        },
        "outputId": "92fcc7ba-b71e-4666-defa-3cf82cdce361"
      },
      "outputs": [
        {
          "output_type": "display_data",
          "data": {
            "text/plain": [
              "<Figure size 800x600 with 1 Axes>"
            ],
            "image/png": "[encoded data removed]"
          },
          "metadata": {}
        }
      ],
      "source": [
        "# TODO: Create a barplot showing the distribution of the dataset\n",
        "# TEST Data\n",
        "plt.figure(figsize=(8, 6))\n",
        "plt.bar(test_subset_dict.keys(), test_subset_dict.values())\n",
        "plt.xlabel('Labels')\n",
        "plt.ylabel('Frequency')\n",
        "plt.title('Testing Set VS Frequency')\n",
        "for i, val in test_subset_dict.items():\n",
        "    plt.text(i, val, str(val), horizontalalignment='center', verticalalignment='bottom')\n",
        "plt.show()"
      ]
    },
    {
      "cell_type": "markdown",
      "metadata": {
        "id": "xZsNFvUzSNkB"
      },
      "source": [
        "### 1.2.3 Visualize the Training Dataset! (2 points - Manual Grading)\n",
        "\n",
        "Since everything tends to make more sense when one could literally see it, we now ask you to visualize the images in the `train_dataset` given a fixed set of indices.\n",
        "\n",
        "---\n",
        "\n",
        "**TODO**\n",
        "* loop through the `train_dataset` using `sample_idxs` (the list of indices provided) using a for-loop\n",
        "* For each iteration of this for-loop:\n",
        "  * Plot the current image in grayscale from `train_dataset` indexed by current element in `sample_idxs` using matplotlib in a $2x3$ subplot tile\n",
        "  * Assign the title of each image to be their respective labels using `plt.title`\n",
        "  * Hide grid lines and axes tick labels\n",
        "  * To avoid \"File Too Large\" for submission, please set overall figure size to (8,4), not individual image.\n",
        "---\n",
        "**HINT**: use `enumerate` in for-loop initialization and apply the current loop number to the subplot\n",
        "\n",
        "**NOTE**: `train_dataset` can be indexed by `train_dataset[index]` and you should play around with the output format to get the image and labels\n",
        "\n"
      ]
    },
    {
      "cell_type": "code",
      "execution_count": 19,
      "metadata": {
        "id": "YiCn3XnXSNkB",
        "colab": {
          "base_uri": "https://localhost:8080/",
          "height": 367
        },
        "outputId": "75ef1c82-57ca-41e5-88ec-665624e7d4c7"
      },
      "outputs": [
        {
          "output_type": "display_data",
          "data": {
            "text/plain": [
              "<Figure size 800x400 with 6 Axes>"
            ],
            "image/png": "[encoded data removed]"
          },
          "metadata": {}
        }
      ],
      "source": [
        "torch.manual_seed(42)\n",
        "sample_idxs = [10, 300, 700, 2708, 5035, 8000] # DO NOT MODIFY\n",
        "\n",
        "# # TODO\n",
        "# loop through the length of tickers and keep track of index\n",
        "fig = plt.figure(figsize=(8, 4))\n",
        "for i, idx in enumerate(sample_idxs):\n",
        "    img, label = train_dataset[sample_idxs[i]]\n",
        "    plt.subplot(2, 3, i + 1)\n",
        "    plt.imshow(img.squeeze(), cmap='gray')\n",
        "    plt.title(label)\n",
        "    plt.axis('off')\n",
        "plt.show()\n",
        "\n",
        "# END TODO"
      ]
    },
    {
      "cell_type": "markdown",
      "metadata": {
        "id": "efWfR1ZFvFGw"
      },
      "source": [
        "# **Part 2:** Classification Models (Total: 79)\n",
        "\n",
        "We now have the data needed to train a multi-class object classifier. We will start simple with a logistic regression classifier as a baseline for our performance, before we move onto more complex neural networks.\n",
        "\n",
        "In this case, we are looking at the remaining part in the pipeline which were grayed out before as follows:\n",
        "\n",
        "<div>\n",
        "<img src=\"https://s2.loli.net/2023/03/30/ZCBFQvkXuoJpI8K.png\", width = \"800\"/>\n",
        "</div>\n",
        "\n",
        "Diagram Reference: [Link](https://www.kaggle.com/code/uvxy1234/cifar-10-implementation-with-pytorch)"
      ]
    },
    {
      "cell_type": "code",
      "execution_count": 19,
      "metadata": {
        "id": "UYI01gziqalC"
      },
      "outputs": [],
      "source": []
    },
    {
      "cell_type": "markdown",
      "metadata": {
        "id": "GIytVVJbm3Ih"
      },
      "source": [
        "## 2.1 Logical Logistic Regression - Baseline (Total: 15 points)\n",
        "\n",
        "Let's first try solving this problem with a Logistic Regression classifier.\n",
        "\n",
        "We will define a logistic regression model in Pytorch and train it on our training set and evaluate the performance on the test set.\n",
        "\n",
        "Logistic regression can be modelled as a function that can take in any number of inputs and constrain the output to be between 0 and 1. This means we can think of Logistic Regression as a one-layer neural network without hidden layers with Sigmoid as an activation function.\n",
        "\n",
        "Note that softmax also constrains outputs to between 0 and 1 and hence ig a softmax is carried out, sigmoid is not necessary.\n",
        "\n",
        "<div>\n",
        "<img src='https://i.stack.imgur.com/fKvva.png',width='600'/>\n",
        "</div>"
      ]
    },
    {
      "cell_type": "markdown",
      "metadata": {
        "id": "7MFlH2eL9NJ2"
      },
      "source": [
        "Diagram Reference: [Link](https://stats.stackexchange.com/questions/366707/a-logistic-regression-with-neural-network-mindset-vs-a-shallow-neural-network)"
      ]
    },
    {
      "cell_type": "markdown",
      "metadata": {
        "id": "5cVmxiP0m3In"
      },
      "source": [
        "### 2.1.1 Logistic Regression Model Architecture (5 points)\n",
        "\n",
        "We will define our first model in Pytorch. Read up about how to define and use layers in a Pytorch neural network [here](https://pytorch.org/tutorials/beginner/basics/buildmodel_tutorial.html).\n",
        "\n",
        "Our first model is a logistic regression model with the number of outputs equal to the number of classes in the model. Please implement the constructor for the `LogReg` class (the `__init__` function below) with the definition of the logistic regression model.\n",
        "\n",
        "When implementing this section, please think about what activation function would be most appropriate for logistic regression."
      ]
    },
    {
      "cell_type": "code",
      "execution_count": 20,
      "metadata": {
        "id": "8vIXliDkm3Io"
      },
      "outputs": [],
      "source": [
        "class LogReg(nn.Module):\n",
        "    def __init__(self):\n",
        "        super().__init__()\n",
        "        # TODO: initialize the neural network layers\n",
        "        self.flatten = nn.Flatten()\n",
        "        self.linear = nn.Linear(28*28, 10)\n",
        "        self.sigmoid = nn.Sigmoid()\n",
        "        # END TODO\n",
        "\n",
        "    def forward(self, x):\n",
        "        # TODO: implement the operations on input data\n",
        "        # Hint: think of the neural network architecture for logistic regression\n",
        "        x = self.flatten(x)\n",
        "        outputs = self.linear(x)\n",
        "        outputs = self.sigmoid(outputs)\n",
        "\n",
        "        # END TODO\n",
        "        return outputs"
      ]
    },
    {
      "cell_type": "markdown",
      "metadata": {
        "id": "Hd5MCDQtm3Ip"
      },
      "source": [
        "Let's print the model summary"
      ]
    },
    {
      "cell_type": "code",
      "execution_count": 21,
      "metadata": {
        "id": "BkIy0N4Wm3Iq",
        "colab": {
          "base_uri": "https://localhost:8080/"
        },
        "outputId": "38d60a13-41d6-4104-ca99-8e1f07f688fb"
      },
      "outputs": [
        {
          "output_type": "execute_result",
          "data": {
            "text/plain": [
              "LogReg(\n",
              "  (flatten): Flatten(start_dim=1, end_dim=-1)\n",
              "  (linear): Linear(in_features=784, out_features=10, bias=True)\n",
              "  (sigmoid): Sigmoid()\n",
              ")"
            ]
          },
          "metadata": {},
          "execution_count": 21
        }
      ],
      "source": [
        "LogReg()"
      ]
    },
    {
      "cell_type": "code",
      "execution_count": 22,
      "metadata": {
        "id": "aDks46ZVm3Ir",
        "colab": {
          "base_uri": "https://localhost:8080/"
        },
        "outputId": "5f7444bf-11d4-4163-d711-d28cc7309880"
      },
      "outputs": [
        {
          "output_type": "stream",
          "name": "stdout",
          "text": [
            "Correct! You earned 5/5 points. You are a star!\n",
            "\n",
            "Your submission has been successfully recorded in the gradebook.\n"
          ]
        }
      ],
      "source": [
        "#Grader Cell (5 points)\n",
        "grader.grade(test_case_id = 'logistic_regression_model', answer = str(LogReg()))"
      ]
    },
    {
      "cell_type": "markdown",
      "metadata": {
        "id": "PeRosrvOpGBj"
      },
      "source": [
        "**Notes:** Getting full credit for the above test case doesn't necessarily ensure that your model will perform well on the test dataset as it only evaluates the structure of your neural network.\n",
        "\n",
        "If you don't achieve complete credit for accuracy and loss on the test dataset, you may need to modify your architecture."
      ]
    },
    {
      "cell_type": "markdown",
      "metadata": {
        "id": "jesvQ9qBm3Ir"
      },
      "source": [
        "### 2.1.2 Training Logistic Regression Model (6 points)\n",
        "---\n",
        "**TODOs:**\n",
        "1.   Instantiate the Logistic regression to the variable `logreg`. Make sure to send this to the GPU device -- please consult the [Module 20 slides](https://docs.google.com/presentation/d/1pw9cFO30U_kI47JUZIW9COLAkM8BE8wr/edit?usp=sharing&ouid=115607071793138372214&rtpof=true&sd=true) for a primer on how to do this.\n",
        "\n",
        "2.   Set the loss criterion as `CrossEntropyLoss` (you can look up the documentation [here](https://pytorch.org/docs/stable/nn.html#loss-functions)). Note that softmax is already built into CrossEntropyLoss so if you use CrossEntropyLoss as the loss criterion, you don't need to add an additional softmax layer.\n",
        "\n",
        "3.   Fill in the missing parts in the training loop (see `#TODO` comments below)\n",
        "4.   Save the Training Accuracy for every epoch into the variable `acc_LIST_log`.\n",
        "5.   Save the Average Loss for every epoch into the variable `loss_LIST_log`.\n",
        "---\n",
        "We will use `train_loader` built in 1.1.2 to train logistic regression model.\n",
        "\n",
        "The optimizer is set as Adam -- **please do not modify the optimizer**.\n",
        "\n",
        "Hint: Remember to update the weights correctly by backpropagation, please zero out the gradients by calling `optimizer.zero_grad()` every time you call `backward()`.\n",
        "\n",
        "**Note: If the loss went up during the training, there is something wrong with the model, so you should check if the model is implemented correctly**\n",
        "\n",
        "Note: `acc_LIST_log` and `loss_LIST_log` should contain data of type float not tensor."
      ]
    },
    {
      "cell_type": "code",
      "execution_count": 23,
      "metadata": {
        "id": "tmdlh86xm3Ir",
        "colab": {
          "base_uri": "https://localhost:8080/"
        },
        "outputId": "9bb70dfd-0ab8-4022-807e-759ec4c3fb19"
      },
      "outputs": [
        {
          "output_type": "stream",
          "name": "stdout",
          "text": [
            "The loss for Epoch 0 is: 2.098858250229598, Accuracy = 45.74666666666667\n",
            "The loss for Epoch 1 is: 1.9462355461710297, Accuracy = 59.263333333333335\n",
            "The loss for Epoch 2 is: 1.8939585802651673, Accuracy = 61.27\n",
            "The loss for Epoch 3 is: 1.8666180069766827, Accuracy = 62.5\n",
            "The loss for Epoch 4 is: 1.850250244140625, Accuracy = 62.54666666666667\n",
            "The loss for Epoch 5 is: 1.8375960702835115, Accuracy = 63.39666666666667\n",
            "The loss for Epoch 6 is: 1.8259001372973802, Accuracy = 63.70333333333333\n",
            "The loss for Epoch 7 is: 1.819961753227055, Accuracy = 63.6\n",
            "The loss for Epoch 8 is: 1.813013933869059, Accuracy = 64.05333333333333\n",
            "The loss for Epoch 9 is: 1.8106948991320027, Accuracy = 63.943333333333335\n",
            "CPU times: user 6min 8s, sys: 1.39 s, total: 6min 9s\n",
            "Wall time: 6min 14s\n"
          ]
        }
      ],
      "source": [
        "%%time\n",
        "# Sending the data to device (CPU or GPU)\n",
        "# TODO: (1 of 2)\n",
        "# Step 1: instantiate the logistic regression to variable logreg\n",
        "logreg = LogReg().to(device)\n",
        "# Step 2: set the loss criterion as CrossEntropyLoss\n",
        "criterion = nn.CrossEntropyLoss()\n",
        "\n",
        "# END TODO\n",
        "optimizer = optim.Adam(logreg.parameters(), lr=1e-4) #lr - learning step\n",
        "epoch = 10\n",
        "\n",
        "loss_LIST_log = []\n",
        "acc_LIST_log = []\n",
        "\n",
        "# Train the Logistic Regression\n",
        "for epoch in range(epoch):\n",
        "  running_loss = 0.0\n",
        "  correct = 0\n",
        "  total = 0\n",
        "  for inputs, labels in train_loader:\n",
        "      labels = labels.type(torch.LongTensor) # Cast to Float\n",
        "      inputs, labels = inputs.to(device), labels.to(device)\n",
        "\n",
        "      ## TODO (2 of 2)\n",
        "      # Step 1: Reset the optimizer tensor gradient every mini-batch\n",
        "      optimizer.zero_grad()\n",
        "      # Step 2: Feed the network the train data\n",
        "      outputs = logreg(inputs)\n",
        "      # Step 3: Get the prediction using argmax\n",
        "      prediction = outputs.argmax(1)\n",
        "\n",
        "      # Step 4: Find average loss for one mini-batch of inputs\n",
        "      loss= criterion(outputs, labels)\n",
        "      # Step 5: Do a back propagation\n",
        "      loss.backward()\n",
        "      # Step 6: Update the weight using the gradients from back propagation by learning step\n",
        "      optimizer.step()\n",
        "      # Step 7: Get loss and add to accumulated loss for each epoch\n",
        "      running_loss += loss.item()\n",
        "      # Step 8: Get number of correct prediction and increment the number of correct and total predictions after this batch\n",
        "      # Hint: we need to detach the numbers from GPU to CPU, which stores accuracy and loss\n",
        "      correct += prediction.eq(labels).sum().item()\n",
        "      total += len(labels)\n",
        "  # Step 9: Calculate training accuracy for each epoch (should multiply by 100 to get percentage), store in variable called 'accuracy', and add to acc_LIST_log\n",
        "  accuracy = 100 * correct / total\n",
        "  acc_LIST_log.append(accuracy)\n",
        "  # Step 10: Get average loss for each epoch and add to loss_LIST_log\n",
        "  loss_LIST_log.append(running_loss/len(train_loader))\n",
        "  # END TODO\n",
        "\n",
        "  # print statistics\n",
        "  print(\"The loss for Epoch {} is: {}, Accuracy = {}\".format(epoch, running_loss/len(train_loader), accuracy))\n"
      ]
    },
    {
      "cell_type": "code",
      "execution_count": 24,
      "metadata": {
        "id": "SB9RkZLJj1qm"
      },
      "outputs": [],
      "source": [
        "# (if applicable)\n",
        "# In order to pass the AutoGrader, every element in \"acc_LIST_log\" should be a float.\n",
        "# If the elements are of type \"Tensor\", convert each element into type FLOAT by using .item() or .tolist()\n",
        "# To check if each element is a Tensor, print out \"acc_LIST_log\" and see if there is a Tensor() wrapped around each element.\n"
      ]
    },
    {
      "cell_type": "code",
      "execution_count": 25,
      "metadata": {
        "id": "8a3mQpqtFqd6",
        "colab": {
          "base_uri": "https://localhost:8080/"
        },
        "outputId": "987cbf49-f78b-4867-bd3a-39aada64be44"
      },
      "outputs": [
        {
          "output_type": "stream",
          "name": "stdout",
          "text": [
            "Correct! You earned 6/6 points. You are a star!\n",
            "\n",
            "Your submission has been successfully recorded in the gradebook.\n"
          ]
        }
      ],
      "source": [
        "# Grader Cell (6 points)\n",
        "grader.grade(test_case_id = 'log_train_loss', answer = (acc_LIST_log, loss_LIST_log))"
      ]
    },
    {
      "cell_type": "markdown",
      "metadata": {
        "id": "e0LrNmOvm3Is"
      },
      "source": [
        "### 2.1.3 Plotting Training Accuracy vs Epochs for Logistic Regression (2 points - Manually Graded)\n",
        "\n",
        "---\n",
        "**TODO:**\n",
        "\n",
        "Plot the training accuracy vs epochs.\n",
        "\n",
        "Chart Specifications:\n",
        "1. The accuracy should be in the y-axis and epochs in x-axis.\n",
        "2. Add chart title.\n",
        "3. Epoch label should start with 1 (for audience interpretability).\n",
        "4. To avoid \"File Too Large\" for submission, please set figure size to (5,3).\n",
        "---"
      ]
    },
    {
      "cell_type": "code",
      "execution_count": 26,
      "metadata": {
        "id": "2VpyKMjem3Is",
        "colab": {
          "base_uri": "https://localhost:8080/",
          "height": 333
        },
        "outputId": "973a9978-36e4-454c-c2c4-2fe25afb58d4"
      },
      "outputs": [
        {
          "output_type": "display_data",
          "data": {
            "text/plain": [
              "<Figure size 500x300 with 1 Axes>"
            ],
            "image/png": "[encoded data removed]"
          },
          "metadata": {}
        }
      ],
      "source": [
        "import matplotlib.pyplot as plt\n",
        "import seaborn as sns\n",
        "\n",
        "# TODO\n",
        "plt.figure(figsize=(5,3))\n",
        "plt.plot(list(range(1,len(acc_LIST_log)+1)), acc_LIST_log)\n",
        "plt.title(\"Accuracy vs Logression Epochs\")\n",
        "plt.xlabel(\"epoch\")\n",
        "plt.ylabel(\"accuracy\")\n",
        "plt.show()\n",
        "# END TODO\n"
      ]
    },
    {
      "cell_type": "markdown",
      "metadata": {
        "id": "IrJ6qz4Rm3It"
      },
      "source": [
        "### 2.1.4 Logistic Regression Model Accuracy (2 points)\n",
        "\n",
        "Calculate the Test Accuracy for the Logistic Regression Model we trained above.\n",
        "\n",
        "This should be similar to how we calculated training accuracy above."
      ]
    },
    {
      "cell_type": "code",
      "execution_count": 27,
      "metadata": {
        "id": "sbAYsblXm3It",
        "colab": {
          "base_uri": "https://localhost:8080/"
        },
        "outputId": "dadd8b04-3d1f-4f4f-f9f0-0efb9e1368c7"
      },
      "outputs": [
        {
          "output_type": "stream",
          "name": "stdout",
          "text": [
            "Test Accuracy: 64.55999755859375\n"
          ]
        }
      ],
      "source": [
        "total = 0\n",
        "correct = 0\n",
        "with torch.no_grad():\n",
        "    for images, labels in test_loader:\n",
        "        labels = labels.type(torch.LongTensor) # Cast to Float\n",
        "        images, labels = images.to(device), labels.to(device)\n",
        "\n",
        "        # TODO\n",
        "        # Get the output\n",
        "        outputs = logreg(images)\n",
        "        # Get the prediction using argmax\n",
        "        prediction = outputs.argmax(1)\n",
        "        # Get number of correct prediction and add to correct and total\n",
        "        correct += prediction.eq(labels).sum()\n",
        "        total += len(prediction)\n",
        "# Calculate test accuracy for logistic regression (should multiple by 100)\n",
        "test_acc_log = 100 * correct / total\n",
        "\n",
        "# TODO END\n",
        "print('Test Accuracy: ' + str(test_acc_log.item()))"
      ]
    },
    {
      "cell_type": "code",
      "execution_count": 28,
      "metadata": {
        "id": "Yw84YwDSm3Iu",
        "colab": {
          "base_uri": "https://localhost:8080/"
        },
        "outputId": "cf35f959-c948-4c42-85e5-a093c9760beb"
      },
      "outputs": [
        {
          "output_type": "stream",
          "name": "stdout",
          "text": [
            "Correct! You earned 2/2 points. You are a star!\n",
            "\n",
            "Your submission has been successfully recorded in the gradebook.\n"
          ]
        }
      ],
      "source": [
        "#Grader Cell (2 points)\n",
        "grader.grade(test_case_id = 'logistic_regression_test_acc', answer = test_acc_log.item())"
      ]
    },
    {
      "cell_type": "markdown",
      "metadata": {
        "id": "3YxGiHhWHM6b"
      },
      "source": [
        "## 2.2 Feedforward Neural Networks (Total: 25 points)\n",
        "\n",
        "<div>\n",
        "<img src='https://s2.loli.net/2022/11/21/dvqstVUzcQPChD1.png', width='400'/>\n",
        "</div>"
      ]
    },
    {
      "cell_type": "markdown",
      "metadata": {
        "id": "iCEd-Lj_9pGc"
      },
      "source": [
        "Diagram reference: [Link](https://en.wikipedia.org/wiki/Feedforward_neural_network)"
      ]
    },
    {
      "cell_type": "markdown",
      "metadata": {
        "id": "ycezEPcWm3Iv"
      },
      "source": [
        "Since logistic regression isn't that great at the classification problem above, we need more representation power in our model. We will now define a feedforward neural network.\n",
        "\n",
        "Complete the *FNN* class below to define a feedforward neural network with **only 1 hidden layers with ```out_features``` of 256**. Note that the last layer must have the same number of classes as the output size!\n",
        "\n",
        "When implementing this model, please think about what activation function would be most appropriate for each layer in this classifier."
      ]
    },
    {
      "cell_type": "markdown",
      "metadata": {
        "id": "QfbU0GmSm3Iv"
      },
      "source": [
        "### 2.2.1 Feedforward Neural Network Model Architecture (10 points)"
      ]
    },
    {
      "cell_type": "code",
      "execution_count": 29,
      "metadata": {
        "id": "7ZVvgyJVm3Iv"
      },
      "outputs": [],
      "source": [
        "class FNN(nn.Module):\n",
        "    def __init__(self):\n",
        "        super().__init__()\n",
        "        # TODO: initialize the neural network layers\n",
        "        self.linear_stack = nn.Sequential(\n",
        "            nn.Flatten(),\n",
        "            nn.Linear(28*28, 256),\n",
        "            nn.ReLU(),\n",
        "            nn.Linear(256, 10),\n",
        "        )\n",
        "\n",
        "        # END TODO\n",
        "\n",
        "    def forward(self, x):\n",
        "        # TODO: implement the operations on input data\n",
        "        # Hint: think of the neural network architecture for FNN\n",
        "        outputs = self.linear_stack(x)\n",
        "\n",
        "        # END TODO\n",
        "        return outputs"
      ]
    },
    {
      "cell_type": "markdown",
      "metadata": {
        "id": "5rvgkSaTm3Iw"
      },
      "source": [
        "Let's print the model summary"
      ]
    },
    {
      "cell_type": "code",
      "execution_count": 30,
      "metadata": {
        "id": "g8Voqj1-m3Iw",
        "colab": {
          "base_uri": "https://localhost:8080/"
        },
        "outputId": "7f9ecfcd-ce20-4389-9354-7ce4bb8ec523"
      },
      "outputs": [
        {
          "output_type": "execute_result",
          "data": {
            "text/plain": [
              "FNN(\n",
              "  (linear_stack): Sequential(\n",
              "    (0): Flatten(start_dim=1, end_dim=-1)\n",
              "    (1): Linear(in_features=784, out_features=256, bias=True)\n",
              "    (2): ReLU()\n",
              "    (3): Linear(in_features=256, out_features=10, bias=True)\n",
              "  )\n",
              ")"
            ]
          },
          "metadata": {},
          "execution_count": 30
        }
      ],
      "source": [
        "FNN()"
      ]
    },
    {
      "cell_type": "code",
      "execution_count": 31,
      "metadata": {
        "id": "fj0GVHf5m3Iw",
        "colab": {
          "base_uri": "https://localhost:8080/"
        },
        "outputId": "65d6c2aa-6186-40e1-e7ff-b8c16fd6255b"
      },
      "outputs": [
        {
          "output_type": "stream",
          "name": "stdout",
          "text": [
            "Correct! You earned 10/10 points. You are a star!\n",
            "\n",
            "Your submission has been successfully recorded in the gradebook.\n"
          ]
        }
      ],
      "source": [
        "#Grader Cell (10 points)\n",
        "grader.grade(test_case_id = 'feedforward_nn_model', answer = str(FNN()))"
      ]
    },
    {
      "cell_type": "markdown",
      "metadata": {
        "id": "Dy7YoUqmurFM"
      },
      "source": [
        "**Notes:** Getting full credit for the above test case doesn't necessarily ensure that your model will perform well on the test dataset as it only evaluates the structure of your neural network.\n",
        "\n",
        "If you don't achieve complete credit for accuracy and loss on the test dataset, you may need to modify your architecture such as increasing the number of hidden layers or the number of neurons in each layer."
      ]
    },
    {
      "cell_type": "markdown",
      "metadata": {
        "id": "JUaHAHLum3Iw"
      },
      "source": [
        "### 2.2.2 Training FNN Model (11 points)\n",
        "---\n",
        "TODOs\n",
        "1.   Instantiate the FNN to the variable `fnn` (make sure to send this to the device env)\n",
        "2.   Set the loss criterion to be `CrossEntropyLoss` (you can look up the documentation [here](https://pytorch.org/docs/stable/nn.html#loss-functions))\n",
        "3.   Fill in the missing parts in the training loop below.\n",
        "4.   Save the Training Accuracy for every epoch into `acc_LIST_FNN`\n",
        "5.   Save the Average Loss for every epoch into `loss_LIST_FNN`\n",
        "---\n",
        "The optimizer is set as Adam -- **please do not modify the optimizer**.\n",
        "\n",
        "Hint: Remember to update the weights correctly by backpropagation, please zero out the gradients by calling `optimizer.zero_grad()` every time you call `backward()`.\n",
        "\n",
        "**Note: If the loss went up during the training, there is something wrong with the model, so you should check if the model is implemented correctly**\n",
        "\n",
        "The following code bloack should take around 4-5 minutes to complete.\n",
        "\n",
        "Note: `acc_LIST_FNN` and `loss_LIST_FNN` should contain data of type float not tensor."
      ]
    },
    {
      "cell_type": "code",
      "execution_count": 32,
      "metadata": {
        "id": "WSechmCnm3Ix",
        "colab": {
          "base_uri": "https://localhost:8080/"
        },
        "outputId": "c6ec0286-388e-4f45-b207-56e34eb8fa93"
      },
      "outputs": [
        {
          "output_type": "stream",
          "name": "stdout",
          "text": [
            "The loss for Epoch 0 is: 1.3275431764405419, Accuracy = 59.41\n",
            "The loss for Epoch 1 is: 0.9664905336874126, Accuracy = 70.13\n",
            "The loss for Epoch 2 is: 0.8440921030827423, Accuracy = 74.10666666666667\n",
            "The loss for Epoch 3 is: 0.7538456001134315, Accuracy = 76.86666666666666\n",
            "The loss for Epoch 4 is: 0.6776557878644736, Accuracy = 79.47666666666667\n",
            "The loss for Epoch 5 is: 0.6112622060755423, Accuracy = 81.64\n",
            "The loss for Epoch 6 is: 0.5740283122067766, Accuracy = 82.89333333333333\n",
            "The loss for Epoch 7 is: 0.53150440806519, Accuracy = 84.15\n",
            "The loss for Epoch 8 is: 0.5023077613890552, Accuracy = 84.95\n",
            "The loss for Epoch 9 is: 0.4714606161247184, Accuracy = 85.8\n",
            "CPU times: user 6min 13s, sys: 1.17 s, total: 6min 14s\n",
            "Wall time: 6min 19s\n"
          ]
        }
      ],
      "source": [
        "%%time\n",
        "# Sending the data to device (CPU or GPU)\n",
        "# TODO (1 of 2)\n",
        "# Step 1: instantiate the FNN model to variable fnn\n",
        "fnn = FNN().to(device)\n",
        "# Step 2: set the loss criterion as CrossEntropyLoss\n",
        "criterion = nn.CrossEntropyLoss()\n",
        "# END TODO\n",
        "optimizer = optim.Adam(fnn.parameters(), lr=1e-4) #lr - learning step\n",
        "epoch = 10\n",
        "\n",
        "acc_LIST_FNN = []\n",
        "loss_LIST_FNN = []\n",
        "\n",
        "# Train the FNN\n",
        "for epoch in range(epoch):\n",
        "  running_loss = 0.0\n",
        "  correct = 0\n",
        "  total = 0\n",
        "  for inputs, labels in train_loader:\n",
        "      labels = labels.type(torch.LongTensor) # Cast to Long\n",
        "      inputs, labels = inputs.to(device), labels.to(device)\n",
        "\n",
        "      ## TODO (2 of 2)\n",
        "      # Step 1: Reset the optimizer tensor gradient every mini-batch\n",
        "      optimizer.zero_grad()\n",
        "      # Step 2: Feed the network the train data\n",
        "      outputs = fnn(inputs)\n",
        "      # Step 3: Get the prediction using argmax\n",
        "      prediction = outputs.argmax(1)\n",
        "      # Step 4: Find average loss for one mini-batch of inputs\n",
        "      loss = criterion(outputs, labels)\n",
        "      # Step 5: Do a back propagation\n",
        "      loss.backward()\n",
        "      # Step 6: Update the weight using the gradients from back propagation by learning step\n",
        "      optimizer.step()\n",
        "      # Step 7: Get loss and add to accumulated loss for each epoch\n",
        "      running_loss += loss.item()\n",
        "      # Step 8: Get number of correct prediction and increment the number of correct and total predictions after this batch\n",
        "      # Hint: we need to detach the numbers from GPU to CPU, which stores accuracy and loss\n",
        "      correct += prediction.eq(labels).sum().item()\n",
        "      total += len(labels)\n",
        "  # Step 9: Calculate training accuracy for each epoch (should multiply by 100 to get percentage), store in variable called 'accuracy', and add to acc_LIST_FNN\n",
        "  accuracy = 100 * correct / total\n",
        "  acc_LIST_FNN.append(accuracy)\n",
        "  # Step 10: Get average loss for each epoch and add to loss_LIST_FNN\n",
        "  loss_LIST_FNN.append(running_loss/len(train_loader))\n",
        "  # END TODO\n",
        "\n",
        "  # print statistics\n",
        "  print(\"The loss for Epoch {} is: {}, Accuracy = {}\".format(epoch, running_loss/len(train_loader), accuracy))\n"
      ]
    },
    {
      "cell_type": "code",
      "execution_count": 33,
      "metadata": {
        "id": "K4uVb6MTj6ue"
      },
      "outputs": [],
      "source": [
        "# (if applicable)\n",
        "# In order to pass the AutoGrader, every element in \"acc_LIST_FNN\" should be a float.\n",
        "# If the elements are of type \"Tensor\", convert each element into type FLOAT by using .item() or .tolist()\n",
        "# To check if each element is a Tensor, print out \"acc_LIST_FNN\" and see if there is a Tensor() wrapped around each element.\n"
      ]
    },
    {
      "cell_type": "code",
      "execution_count": 34,
      "metadata": {
        "id": "A2AHGUxHKI1_",
        "colab": {
          "base_uri": "https://localhost:8080/"
        },
        "outputId": "8c8b1954-1ab8-488b-fa77-9e431600af90"
      },
      "outputs": [
        {
          "output_type": "stream",
          "name": "stdout",
          "text": [
            "Correct! You earned 11/11 points. You are a star!\n",
            "\n",
            "Your submission has been successfully recorded in the gradebook.\n"
          ]
        }
      ],
      "source": [
        "#Grader Cell (11 points)\n",
        "grader.grade(test_case_id = 'fnn_train_loss', answer = (acc_LIST_FNN, loss_LIST_FNN))"
      ]
    },
    {
      "cell_type": "markdown",
      "metadata": {
        "id": "DY0zMmGAm3Ix"
      },
      "source": [
        "### 2.2.3 Plotting Training Accuracy vs Epochs FNN (2 points - Manually Graded)\n",
        "\n",
        "---\n",
        "**TODO:**\n",
        "\n",
        "Plot the training accuracy vs epochs.\n",
        "\n",
        "Chart Specifications:\n",
        "1. The accuracy should be in the y-axis and epochs in x-axis.\n",
        "2. Add chart title.\n",
        "3. Epoch label should start with 1 (for audience interpretability).\n",
        "4. To avoid \"File Too Large\" for submission, please set figure size to (5,3).\n",
        "---"
      ]
    },
    {
      "cell_type": "code",
      "execution_count": 35,
      "metadata": {
        "id": "vIGWgoY3m3Ix",
        "colab": {
          "base_uri": "https://localhost:8080/",
          "height": 333
        },
        "outputId": "d96ac6a9-5be1-4a67-bbff-5dd8c448112d"
      },
      "outputs": [
        {
          "output_type": "display_data",
          "data": {
            "text/plain": [
              "<Figure size 500x300 with 1 Axes>"
            ],
            "image/png": "[encoded data removed]"
          },
          "metadata": {}
        }
      ],
      "source": [
        "import matplotlib.pyplot as plt\n",
        "import seaborn as sns\n",
        "\n",
        "# TODO\n",
        "plt.figure(figsize=(5,3))\n",
        "plt.plot(list(range(1,len(acc_LIST_FNN)+1)), acc_LIST_FNN)\n",
        "plt.title(\"Accuracy vs FNN Epochs\")\n",
        "plt.xlabel(\"epoch\")\n",
        "plt.ylabel(\"accuracy\")\n",
        "plt.show()\n",
        "# END TODO\n"
      ]
    },
    {
      "cell_type": "markdown",
      "metadata": {
        "id": "_LCcYIAWm3Iy"
      },
      "source": [
        "### 2.2.4 FNN Model Accuracy(2 points)\n",
        "\n",
        "Calculate the Test Accuracy for the FNN Model we trained above (the technique for doing this is the same as computing the test accuracy for the logistic regression classifier above)."
      ]
    },
    {
      "cell_type": "code",
      "execution_count": 36,
      "metadata": {
        "id": "WAyibXsEm3Iy",
        "colab": {
          "base_uri": "https://localhost:8080/"
        },
        "outputId": "2d1acbaf-822e-45d1-8b6e-91d5d9f4ed40"
      },
      "outputs": [
        {
          "output_type": "stream",
          "name": "stdout",
          "text": [
            "Test Accuracy: 87.15999603271484\n"
          ]
        }
      ],
      "source": [
        "total = 0\n",
        "correct = 0\n",
        "with torch.no_grad():\n",
        "    for images, labels in test_loader:\n",
        "        labels = labels.type(torch.LongTensor) # Cast to Float\n",
        "        images, labels = images.to(device), labels.to(device)\n",
        "\n",
        "        # TODO\n",
        "        # Get the output\n",
        "        outputs = fnn(images)\n",
        "        # Get the prediction using argmax\n",
        "        prediction = outputs.argmax(1)\n",
        "        # Get number of correct prediction and add to correct and total\n",
        "        correct += prediction.eq(labels).sum()\n",
        "        total += len(prediction)\n",
        "\n",
        "# Calculate test accuracy for FNN (should multiple by 100)\n",
        "test_acc_FNN = 100 * correct / total\n",
        "# TODO END\n",
        "print('Test Accuracy: ' + str(test_acc_FNN.item()))"
      ]
    },
    {
      "cell_type": "code",
      "execution_count": 37,
      "metadata": {
        "id": "ypTvmlYNm3Iy",
        "colab": {
          "base_uri": "https://localhost:8080/"
        },
        "outputId": "49a0978d-50d3-4e72-c6e0-0d47ebe9bada"
      },
      "outputs": [
        {
          "output_type": "stream",
          "name": "stdout",
          "text": [
            "Correct! You earned 2/2 points. You are a star!\n",
            "\n",
            "Your submission has been successfully recorded in the gradebook.\n"
          ]
        }
      ],
      "source": [
        "#Grader Cell (2 points)\n",
        "grader.grade(test_case_id = 'feedforward_nn_acc', answer = (test_acc_FNN.item(), loss_LIST_FNN))"
      ]
    },
    {
      "cell_type": "markdown",
      "metadata": {
        "id": "9gnLzDIWGiYv"
      },
      "source": [
        "##2.3 \"Convoluted\" Convolutional Neural Networks (Total: 29 points)\n",
        "So, what are CNNs?\n",
        "\n",
        "Convolutional Neural Networks are very similar to Feedforward Neural Networks from the previous section: they are made up of neurons that have learnable weights and biases. Each neuron receives some inputs, performs a dot product and optionally follows it with a non-linearity. The whole network still expresses a single differentiable score function: from the raw image pixels on one end to class scores at the other.\n",
        "\n",
        "So what changes? ConvNet architectures make the explicit assumption that the inputs are images, which allows us to encode certain properties into the architecture. These then make the forward function more efficient to implement and vastly reduce the amount of parameters in the network.\n",
        "\n",
        "If you wanna know more about how CNNs function and see some cool visualizations, we would highly recommend this [page](https://cs231n.github.io/convolutional-networks/)\n",
        "\n",
        "<div>\n",
        "<img src='https://s2.loli.net/2022/11/21/L6pUz2chXWRGn31.png', width='800'>\n",
        "</div>"
      ]
    },
    {
      "cell_type": "markdown",
      "metadata": {
        "id": "QQoCe9-I-juy"
      },
      "source": [
        "Diagram Reference: [Link](https://www.analyticsvidhya.com/blog/2020/10/what-is-the-convolutional-neural-network-architecture/)"
      ]
    },
    {
      "cell_type": "markdown",
      "metadata": {
        "id": "TrflHaqht5dV"
      },
      "source": [
        "We will define the architecture for the CNN we will be using. The components of a CNNs are as follows:\n",
        "\n",
        "*   Convolutional Layers\n",
        "*   Pooling Layers\n",
        "*   Linear Layers\n",
        "*   Activation Functions\n",
        "\n",
        "Define a CNN model with Pytorch that contains one or more blocks, where **each block** consists of a **convolutional layer** followed by an **activation function** and a **max pool**. (For this assignment, we discourage adding three or more layers.)\n",
        "\n",
        "Then, **flatten** the output from the convolutional layers, and pass it through one or more fully connected or 'dense' layers and activation functions after all but the last layer. Note that the output shape from the last layer must be the same as the number of classes."
      ]
    },
    {
      "cell_type": "markdown",
      "metadata": {
        "id": "5hZ19uCgt5dV"
      },
      "source": [
        "### 2.3.0 Calculating Output Dimensions of Convolution and Pooling Layers (3 Points)"
      ]
    },
    {
      "cell_type": "markdown",
      "metadata": {
        "id": "QWTpcdqnt5dW"
      },
      "source": [
        "Before we start building the architecture, it's important to understand the dimensions of the feature maps produced in each of the convolution and pooling layers. We want to keep track of this information as once we get to the fully-connected layers, we need to specify the number of input parameters.\n",
        "\n",
        "Let's first build a function that will help us calculate the dimensions based on the input parameters.\n",
        "\n",
        "\n",
        "Since we are working with squared image, we will build just one function that can be used to calculate both the H (height) and W (width) of the feature map.\n",
        "\n",
        "Below is the function used to calculate the output dimension of the feature map:\n",
        "\n",
        "<div>\n",
        "<img src='https://s2.loli.net/2023/03/30/lKpjPLVHcuRC8n2.png',width='300'/>\n",
        "</div>\n",
        "\n",
        "Diagram Reference: [Link](https://pytorch.org/docs/stable/generated/torch.nn.Conv2d.html)"
      ]
    },
    {
      "cell_type": "markdown",
      "metadata": {
        "id": "7MPO8gBqecED"
      },
      "source": [
        "---\n",
        "**TODO:**\n",
        "\n",
        "Build the **feature_map_dim** function, which takes in the following four parameters and return the dimension of the output feature map.\n",
        "\n",
        "- **input_dim**: height/width of the input image\n",
        "\n",
        "- **kernel_size**: size of the convolving kernel (aka. filter)\n",
        "\n",
        "- **padding**: padding added to all four sides of the input in order to preserve the edges/borders\n",
        "\n",
        "- **stride**: Stride of the convolution, or how many shifts per kernel\n",
        "  \n",
        "ROUND DOWN if the result if a fraction.\n",
        "\n",
        "---\n",
        "\n",
        "Notice there is another parameter, \"dilation\", which is the spacing between kernel elements. We have not covered this in class; simply set it to 1.\n"
      ]
    },
    {
      "cell_type": "code",
      "execution_count": 38,
      "metadata": {
        "id": "A3drwoLht5dX"
      },
      "outputs": [],
      "source": [
        "import math\n",
        "\n",
        "def feature_map_dim(input_dim, padding, kernel_size, stride):\n",
        "  '''\n",
        "  The function takes in the following four parameters and return the dimension of the output feature map.\n",
        "\n",
        "  input_dim: height/width of the input image\n",
        "  kernel_size: size of the convolving kernel (aka. filter)\n",
        "  padding: padding added to all four sides of the input in order to preserve the edges/borders\n",
        "  stride: Stride of the convolution, or how many shifts per kernel\n",
        "\n",
        "  ROUND DOWN if the result if a fraction.\n",
        "\n",
        "  Notice there is another parameter, \"dilation\", which is the spacing between kernel elements. We have not covered this in class; simply set it to 1\n",
        "  '''\n",
        "  ## TODO:\n",
        "  output_dim = math.floor((input_dim + 2 * padding - kernel_size) / stride + 1)\n",
        "  return output_dim\n",
        "\n",
        "  ## END TODO"
      ]
    },
    {
      "cell_type": "code",
      "execution_count": 39,
      "metadata": {
        "id": "0Mtd0hHTt5dY",
        "colab": {
          "base_uri": "https://localhost:8080/"
        },
        "outputId": "fe72346c-29ad-4035-f768-97344ef2a07c"
      },
      "outputs": [
        {
          "output_type": "stream",
          "name": "stdout",
          "text": [
            "Correct! You earned 3/3 points. You are a star!\n",
            "\n",
            "Your submission has been successfully recorded in the gradebook.\n"
          ]
        }
      ],
      "source": [
        "#Grader Cell (3 points)\n",
        "grader.grade(test_case_id = 'test_func_feature_map_dim', answer = getsource(feature_map_dim))"
      ]
    },
    {
      "cell_type": "markdown",
      "metadata": {
        "id": "JCUg46_pt5dY"
      },
      "source": [
        "### 2.3.1 Convolutional Neural Network Model Architecture (12 points)"
      ]
    },
    {
      "cell_type": "markdown",
      "metadata": {
        "id": "EML6W1oVt5dY"
      },
      "source": [
        "---\n",
        "**TODOs:**\n",
        "\n",
        "`def __init__(self)`::\n",
        "1.  Initialize 1 - 3 `convolutional blocks` (consists of a convolution layer, an activation function, and a Pooling layer)\n",
        "\n",
        "2. `Flatten` the output of the convolution to a tensor\n",
        "\n",
        "3. Initialize 1-3 `fully-connected layers`\n",
        "\n",
        "`def forward(self, x)`:\n",
        "4. Build the `forward` function/path with the layers initialized in `__init__` function.\n",
        "\n",
        "---\n",
        "\n",
        "- **Note:** While parameters of convolution layers tend to vary, it is possible to use the same pooling layer and activation function in each block. If you intend to use the same parameters for these two elements, then only 1 pooling layer and 1 activation function needs to be initialized.\n",
        "- **Hint 1**: Use the `feature_map_dim` function, and the input_dim and output_dim comments to help you keep track of the input/output dimensions of each layer\n",
        "- **Hint 2**: The parameters you've calculated is particularly useful for the input dimensions for the linear layer in the first fully-connected layer.\n",
        "- **Hint 3**: Each input is a grey-scaled (1 channel) 28 x 28 image.\n",
        "- **Hint 4**: The final fully-connected layer's output dimension should be the same as the number of classes in our dataset\n"
      ]
    },
    {
      "cell_type": "code",
      "execution_count": 67,
      "metadata": {
        "id": "TtjvdlRYt5dZ"
      },
      "outputs": [],
      "source": [
        "class CNN(nn.Module):\n",
        "    def __init__(self):\n",
        "        super().__init__()\n",
        "        # TODO\n",
        "\n",
        "        # Step 1: Initialize 1 - 3 convolution blocks (consists of a convolution layer, an activation function, a MaxPooling layer)\n",
        "\n",
        "        ## you are encouraged to use the following comments to keep track of the output dimensions\n",
        "        # input dim = __ channels, with image size __ x __\n",
        "        # output dim = __ channels, with image size __ x __\n",
        "\n",
        "        # Convolution Block 1\n",
        "        self.conv1 = nn.Conv2d(in_channels=1, out_channels=32, kernel_size=3, stride=2, padding=1)\n",
        "        self.relu1 = nn.ReLU()\n",
        "        self.maxpool1 = nn.MaxPool2d(kernel_size=3, stride=2)\n",
        "\n",
        "        # Convolution Block 2\n",
        "        self.conv2 = nn.Conv2d(in_channels=32, out_channels=64, kernel_size=3, stride=2, padding=1)\n",
        "        self.relu2 = nn.ReLU()\n",
        "        self.maxpool2 = nn.MaxPool2d(kernel_size=3, stride=2)\n",
        "\n",
        "        # Convolution Block 2 ... Feel free to add 1 - 2 more convolution blocks\n",
        "        # Step 2: Flatten the 2D image into a 1D tensor\n",
        "        self.flatten = nn.Flatten()\n",
        "\n",
        "\n",
        "        # Step 3: Initialize 1-3 fully-connected layers\n",
        "        dim = feature_map_dim(28, padding=1, kernel_size=3, stride=2)\n",
        "        dim = feature_map_dim(dim, padding=0, kernel_size=3, stride=2)\n",
        "        dim = feature_map_dim(dim, padding=1, kernel_size=3, stride=2)\n",
        "        dim = feature_map_dim(dim, padding=0, kernel_size=3, stride=2)\n",
        "\n",
        "\n",
        "        self.linear = nn.Linear(dim*dim*64, 10)\n",
        "\n",
        "         # END TODO\n",
        "\n",
        "    def forward(self, x):\n",
        "        # TODO\n",
        "\n",
        "        # Step 1. Pass the images (x) through convolution block 1 and (block 2, 3 if you have built them)\n",
        "        outputs = self.conv1(x)\n",
        "        outputs = self.relu1(outputs)\n",
        "        outputs = self.maxpool1(outputs)\n",
        "        outputs = self.conv2(outputs)\n",
        "        outputs = self.relu2(outputs)\n",
        "        outputs = self.maxpool2(outputs)\n",
        "        # Step 2. Flatten the image\n",
        "        outputs = self.flatten(outputs)\n",
        "\n",
        "        # Step 3. Pass the output through the fully-connected layers (remember to include activation function(s))\n",
        "        outputs = self.linear(outputs)\n",
        "\n",
        "        # END TODO\n",
        "        return outputs"
      ]
    },
    {
      "cell_type": "markdown",
      "metadata": {
        "id": "wyo2eeWQt5dZ"
      },
      "source": [
        "Let's print out the model summary"
      ]
    },
    {
      "cell_type": "code",
      "execution_count": 68,
      "metadata": {
        "id": "r4Fs6gzjt5dZ",
        "colab": {
          "base_uri": "https://localhost:8080/"
        },
        "outputId": "a18b7166-e7e1-4605-e2c4-48314d630173"
      },
      "outputs": [
        {
          "output_type": "execute_result",
          "data": {
            "text/plain": [
              "CNN(\n",
              "  (conv1): Conv2d(1, 32, kernel_size=(3, 3), stride=(2, 2), padding=(1, 1))\n",
              "  (relu1): ReLU()\n",
              "  (maxpool1): MaxPool2d(kernel_size=3, stride=2, padding=0, dilation=1, ceil_mode=False)\n",
              "  (conv2): Conv2d(32, 64, kernel_size=(3, 3), stride=(2, 2), padding=(1, 1))\n",
              "  (relu2): ReLU()\n",
              "  (maxpool2): MaxPool2d(kernel_size=3, stride=2, padding=0, dilation=1, ceil_mode=False)\n",
              "  (flatten): Flatten(start_dim=1, end_dim=-1)\n",
              "  (linear): Linear(in_features=64, out_features=10, bias=True)\n",
              ")"
            ]
          },
          "metadata": {},
          "execution_count": 68
        }
      ],
      "source": [
        "CNN()"
      ]
    },
    {
      "cell_type": "code",
      "execution_count": 69,
      "metadata": {
        "id": "3lOd4qmEt5da",
        "colab": {
          "base_uri": "https://localhost:8080/"
        },
        "outputId": "03102d9c-9482-4621-cbb9-dc38e12f1497"
      },
      "outputs": [
        {
          "output_type": "stream",
          "name": "stdout",
          "text": [
            "Correct! You earned 12/12 points. You are a star!\n",
            "\n",
            "Your submission has been successfully recorded in the gradebook.\n"
          ]
        }
      ],
      "source": [
        "#Grader Cell (12 points)\n",
        "grader.grade(test_case_id = 'cnn_model', answer = str(CNN()))"
      ]
    },
    {
      "cell_type": "markdown",
      "metadata": {
        "id": "6O2dxIV5t5da"
      },
      "source": [
        "### 2.3.2 Training CNN Model (10 Points)\n",
        "\n",
        "---\n",
        "**TODOs**\n",
        "1.   Instantiate the CNN to the variable `cnn` (make sure to send this to the device env)\n",
        "2.   Set the criterion as a CrossEntropyLoss (you can look up the documentation [here](https://pytorch.org/docs/stable/nn.html#loss-functions))\n",
        "3.   Fill in the missing parts in the training loop.\n",
        "4.   Calculate training accuracy for each epoch (should multiply by 100 to get percentage), store in variable called `accuracy`.\n",
        "5.   Save the Training Accuracy for every epoch into `acc_LIST_CNN`\n",
        "6.   Save the Average Loss for every epoch into `loss_LIST_CNN`\n",
        "\n",
        "**Please do not modify the following set ups: **\n",
        "Optimizer: The optimizer is set as \"Adam\".\n",
        "Epoch: The epoch is set to \"10\".\n",
        "\n",
        "---\n",
        "\n",
        "**Hint:** Remember to update the weights correctly by backpropagation, please zero out the gradients by calling `optimizer.zero_grad()` every time you call `backward()`.  Please review the `Recitation 10` notebook for detailed instructions on how to perform these operations.\n",
        "\n",
        "**Note 1**: If the loss went up during the training, there is something wrong with the model, so you should check if the model is implemented correctly.\n",
        "\n",
        "**Note 2**: Typical training time takes between 5 - 10 mins.\n",
        "\n",
        "**Note 3**: `acc_LIST_CNN` and `loss_LIST_CNN` should contain data of type float not tensor."
      ]
    },
    {
      "cell_type": "code",
      "execution_count": 70,
      "metadata": {
        "id": "lW3e2k4Vt5da",
        "colab": {
          "base_uri": "https://localhost:8080/"
        },
        "outputId": "73391a89-e696-4929-a4c3-36e88b263332"
      },
      "outputs": [
        {
          "output_type": "stream",
          "name": "stdout",
          "text": [
            "The loss for Epoch 0 is: 2.1129538990032954, Accuracy = 31.166666666666668\n",
            "The loss for Epoch 1 is: 1.6473167420450303, Accuracy = 50.56333333333333\n",
            "The loss for Epoch 2 is: 1.3068425127946492, Accuracy = 61.11\n",
            "The loss for Epoch 3 is: 1.0962777981625946, Accuracy = 67.42666666666666\n",
            "The loss for Epoch 4 is: 0.9499090756180444, Accuracy = 71.66333333333333\n",
            "The loss for Epoch 5 is: 0.8466146672204105, Accuracy = 74.38333333333334\n",
            "The loss for Epoch 6 is: 0.7801779985173679, Accuracy = 76.45333333333333\n",
            "The loss for Epoch 7 is: 0.7168523976797743, Accuracy = 78.26666666666667\n",
            "The loss for Epoch 8 is: 0.6768576415108719, Accuracy = 79.32333333333334\n",
            "The loss for Epoch 9 is: 0.6250140271715517, Accuracy = 81.03333333333333\n",
            "CPU times: user 6min 18s, sys: 1.13 s, total: 6min 19s\n",
            "Wall time: 6min 26s\n"
          ]
        }
      ],
      "source": [
        "%%time\n",
        "# Sending the data to device (CPU or GPU)\n",
        "# TODO (1 of 2)\n",
        "# Step 1: instantiate the CNN model to variable cnn\n",
        "cnn = CNN().to(device)\n",
        "# Step 2: set the loss criterion as CrossEntropyLoss\n",
        "criterion = nn.CrossEntropyLoss()\n",
        "# END TODO\n",
        "optimizer = optim.Adam(cnn.parameters(), lr=1e-4) #lr - learning step\n",
        "epoch = 10\n",
        "\n",
        "acc_LIST_CNN = []\n",
        "loss_LIST_CNN = []\n",
        "\n",
        "# Train the CNN\n",
        "for epoch in range(epoch):\n",
        "  running_loss = 0.0\n",
        "  correct = 0\n",
        "  total = 0\n",
        "  for inputs, labels in train_loader:\n",
        "      labels = labels.type(torch.LongTensor) # Cast to Float\n",
        "      inputs, labels = inputs.to(device), labels.to(device)\n",
        "      ## TODO (2 of 2)\n",
        "      # Step 1: Reset the optimizer tensor gradient every mini-batch\n",
        "      optimizer.zero_grad()\n",
        "      # Step 2: Feed the network the train data\n",
        "      outputs = cnn(inputs)\n",
        "      # Step 3: Get the prediction using argmax\n",
        "      prediction = outputs.argmax(1)\n",
        "      # Step 4: Find average loss for one mini-batch of inputs\n",
        "      loss = criterion(outputs, labels)\n",
        "      # Step 5: Do a back propagation\n",
        "      loss.backward()\n",
        "      # Step 6: Update the weight using the gradients from back propagation by learning step\n",
        "      optimizer.step()\n",
        "      # Step 7: Get loss and add to accumulated loss for each epoch\n",
        "      running_loss += loss.item()\n",
        "      # Step 8: Get number of correct prediction and increment the number of correct and total predictions after this batch\n",
        "      # Hint: we need to detach the numbers from GPU to CPU, which stores accuracy and loss\n",
        "      correct += prediction.eq(labels).sum().item()\n",
        "      total += len(labels)\n",
        "  # Step 9: Calculate training accuracy for each epoch (should multiply by 100 to get percentage), store in variable called 'accuracy', and add to acc_LIST_CNN\n",
        "  accuracy = 100 * correct / total\n",
        "  acc_LIST_CNN.append(accuracy)\n",
        "  # Step 10: Get average loss for each epoch and add to loss_LIST_CNN\n",
        "  loss_LIST_CNN.append(running_loss/len(train_loader))\n",
        "  # END TODO\n",
        "\n",
        "  # print statistics\n",
        "  print(\"The loss for Epoch {} is: {}, Accuracy = {}\".format(epoch, running_loss/len(train_loader), accuracy))\n"
      ]
    },
    {
      "cell_type": "code",
      "execution_count": 71,
      "metadata": {
        "id": "HsXvPk9LkBXk"
      },
      "outputs": [],
      "source": [
        "# (if applicable)\n",
        "# In order to pass the AutoGrader, every element in \"acc_LIST_CNN\" should be a float.\n",
        "# If the elements are of type \"Tensor\", convert each element into type FLOAT by using .item() or .tolist()\n",
        "# To check if each element is a Tensor, print out \"acc_LIST_CNN\" and see if there is a Tensor() wrapped around each element.\n"
      ]
    },
    {
      "cell_type": "code",
      "execution_count": 82,
      "metadata": {
        "id": "oZ9IAUWnnO0o",
        "colab": {
          "base_uri": "https://localhost:8080/"
        },
        "outputId": "0f9f306b-bc7d-4954-991b-1f941bfb7b08"
      },
      "outputs": [
        {
          "output_type": "stream",
          "name": "stdout",
          "text": [
            "Correct! You earned 10/10 points. You are a star!\n",
            "\n",
            "Your submission has been successfully recorded in the gradebook.\n"
          ]
        }
      ],
      "source": [
        "#Grader Cell (10 points)\n",
        "grader.grade(test_case_id = 'cnn_train_loss', answer = (acc_LIST_CNN, loss_LIST_CNN))"
      ]
    },
    {
      "cell_type": "markdown",
      "metadata": {
        "id": "wPowtEwjt5db"
      },
      "source": [
        "### 2.3.3 Plotting Training Accuracy vs Epochs CNN (2 points - Manually Graded)\n",
        "\n",
        "---\n",
        "**TODO:**\n",
        "\n",
        "Plot the training accuracy vs epochs.\n",
        "\n",
        "Chart Specifications:\n",
        "1. The accuracy should be in the y-axis and epochs in x-axis.\n",
        "2. Add chart title.\n",
        "3. Epoch label should start with 1 (for audience interpretability).\n",
        "4. To avoid \"File Too Large\" for submission, please set figure size to (5,3).\n",
        "---"
      ]
    },
    {
      "cell_type": "code",
      "execution_count": 83,
      "metadata": {
        "id": "pBZOYpJJt5db",
        "colab": {
          "base_uri": "https://localhost:8080/",
          "height": 503
        },
        "outputId": "93eedfb9-d62e-498d-eb4a-ff885417d804"
      },
      "outputs": [
        {
          "output_type": "execute_result",
          "data": {
            "text/plain": [
              "<function matplotlib.pyplot.show(close=None, block=None)>"
            ],
            "text/html": [
              "<div style=\"max-width:800px; border: 1px solid var(--colab-border-color);\"><style>\n",
              "      pre.function-repr-contents {\n",
              "        overflow-x: auto;\n",
              "        padding: 8px 12px;\n",
              "        max-height: 500px;\n",
              "      }\n",
              "\n",
              "      pre.function-repr-contents.function-repr-contents-collapsed {\n",
              "        cursor: pointer;\n",
              "        max-height: 100px;\n",
              "      }\n",
              "    </style>\n",
              "    <pre style=\"white-space: initial; background:\n",
              "         var(--colab-secondary-surface-color); padding: 8px 12px;\n",
              "         border-bottom: 1px solid var(--colab-border-color);\"><b>matplotlib.pyplot.show</b><br/>def show(*args, **kwargs)</pre><pre class=\"function-repr-contents function-repr-contents-collapsed\" style=\"\"><a class=\"filepath\" style=\"display:none\" href=\"#\">/usr/local/lib/python3.10/dist-packages/matplotlib/pyplot.py</a>Display all open figures.\n",
              "\n",
              "Parameters\n",
              "----------\n",
              "block : bool, optional\n",
              "    Whether to wait for all figures to be closed before returning.\n",
              "\n",
              "    If `True` block and run the GUI main loop until all figure windows\n",
              "    are closed.\n",
              "\n",
              "    If `False` ensure that all figure windows are displayed and return\n",
              "    immediately.  In this case, you are responsible for ensuring\n",
              "    that the event loop is running to have responsive figures.\n",
              "\n",
              "    Defaults to True in non-interactive mode and to False in interactive\n",
              "    mode (see `.pyplot.isinteractive`).\n",
              "\n",
              "See Also\n",
              "--------\n",
              "ion : Enable interactive mode, which shows / updates the figure after\n",
              "      every plotting command, so that calling ``show()`` is not necessary.\n",
              "ioff : Disable interactive mode.\n",
              "savefig : Save the figure to an image file instead of showing it on screen.\n",
              "\n",
              "Notes\n",
              "-----\n",
              "**Saving figures to file and showing a window at the same time**\n",
              "\n",
              "If you want an image file as well as a user interface window, use\n",
              "`.pyplot.savefig` before `.pyplot.show`. At the end of (a blocking)\n",
              "``show()`` the figure is closed and thus unregistered from pyplot. Calling\n",
              "`.pyplot.savefig` afterwards would save a new and thus empty figure. This\n",
              "limitation of command order does not apply if the show is non-blocking or\n",
              "if you keep a reference to the figure and use `.Figure.savefig`.\n",
              "\n",
              "**Auto-show in jupyter notebooks**\n",
              "\n",
              "The jupyter backends (activated via ``%matplotlib inline``,\n",
              "``%matplotlib notebook``, or ``%matplotlib widget``), call ``show()`` at\n",
              "the end of every cell by default. Thus, you usually don&#x27;t have to call it\n",
              "explicitly there.</pre>\n",
              "      <script>\n",
              "      if (google.colab.kernel.accessAllowed && google.colab.files && google.colab.files.view) {\n",
              "        for (const element of document.querySelectorAll('.filepath')) {\n",
              "          element.style.display = 'block'\n",
              "          element.onclick = (event) => {\n",
              "            event.preventDefault();\n",
              "            event.stopPropagation();\n",
              "            google.colab.files.view(element.textContent, 482);\n",
              "          };\n",
              "        }\n",
              "      }\n",
              "      for (const element of document.querySelectorAll('.function-repr-contents')) {\n",
              "        element.onclick = (event) => {\n",
              "          event.preventDefault();\n",
              "          event.stopPropagation();\n",
              "          element.classList.toggle('function-repr-contents-collapsed');\n",
              "        };\n",
              "      }\n",
              "      </script>\n",
              "      </div>"
            ]
          },
          "metadata": {},
          "execution_count": 83
        },
        {
          "output_type": "display_data",
          "data": {
            "text/plain": [
              "<Figure size 500x300 with 1 Axes>"
            ],
            "image/png": "[encoded data removed]"
          },
          "metadata": {}
        }
      ],
      "source": [
        "import matplotlib.pyplot as plt\n",
        "import seaborn as sns\n",
        "\n",
        "# TODO\n",
        "plt.figure(figsize=(5,3))\n",
        "plt.plot(list(range(1,len(acc_LIST_CNN)+1)), acc_LIST_CNN)\n",
        "plt.title(\"Accuracy vs CNN Epochs\")\n",
        "plt.xlabel(\"epoch\")\n",
        "plt.ylabel(\"accuracy\")\n",
        "plt.show\n",
        "\n",
        "# END TODO"
      ]
    },
    {
      "cell_type": "markdown",
      "metadata": {
        "id": "wCBs-UQ0t5db"
      },
      "source": [
        "### 2.3.4 CNN Model Test Accuracy (2 points)\n",
        "\n",
        "---\n",
        "**TODO:**\n",
        "Calculate the Test Accuracy for the CNN Model we trained above. Save it to the variable named `test_acc_CNN`. The technique for doing this is the same as computing the test accuracy for the logistic regression and FNN classifiers above.\n",
        "\n",
        "---"
      ]
    },
    {
      "cell_type": "code",
      "execution_count": 84,
      "metadata": {
        "id": "-uG-m_1bt5dc",
        "colab": {
          "base_uri": "https://localhost:8080/"
        },
        "outputId": "75b858dd-8d08-4068-c426-d09774579283"
      },
      "outputs": [
        {
          "output_type": "stream",
          "name": "stdout",
          "text": [
            "Test Accuracy: 82.27999877929688\n"
          ]
        }
      ],
      "source": [
        "# TODO\n",
        "total = 0\n",
        "correct = 0\n",
        "with torch.no_grad():\n",
        "    for images, labels in test_loader:\n",
        "        labels = labels.type(torch.LongTensor) # Cast to Float\n",
        "        images, labels = images.to(device), labels.to(device)\n",
        "        # TODO\n",
        "        # Get the output\n",
        "        output = cnn(images)\n",
        "        # Get the prediction using argmax\n",
        "        prediction = output.argmax(1)\n",
        "        # Get number of correct prediction and add to correct and total\n",
        "        correct += prediction.eq(labels).sum()\n",
        "        total += len(prediction)\n",
        "\n",
        "# Calculate test accuracy for CNN (should multiple by 100)\n",
        "test_acc_CNN = 100 * correct / total\n",
        "# TODO END\n",
        "\n",
        "print(f'Test Accuracy: ' + str(test_acc_CNN.item()))"
      ]
    },
    {
      "cell_type": "code",
      "execution_count": 85,
      "metadata": {
        "id": "3iB5d4N-t5dc",
        "colab": {
          "base_uri": "https://localhost:8080/"
        },
        "outputId": "f01d4655-7a41-4b3f-b27d-99d22e84f92b"
      },
      "outputs": [
        {
          "output_type": "stream",
          "name": "stdout",
          "text": [
            "Correct! You earned 2/2 points. You are a star!\n",
            "\n",
            "Your submission has been successfully recorded in the gradebook.\n"
          ]
        }
      ],
      "source": [
        "#Grader Cell (2 points)\n",
        "grader.grade(test_case_id = 'cnn_test_acc', answer = (test_acc_CNN.item()))"
      ]
    },
    {
      "cell_type": "markdown",
      "metadata": {
        "id": "6zf6YZk3t5dc"
      },
      "source": [
        "## 2.4. Reflection (2 point - Manually Graded)\n"
      ]
    },
    {
      "cell_type": "markdown",
      "metadata": {
        "id": "rNLaEserlayE"
      },
      "source": [
        "\n",
        "Let's compare the model performance:\n",
        "\n",
        "From the test accuracies, we can see that FNN works better than Logistic Regression, and CNN works even better than FNN."
      ]
    },
    {
      "cell_type": "code",
      "execution_count": 86,
      "metadata": {
        "id": "iZCBqWa6lJSb",
        "colab": {
          "base_uri": "https://localhost:8080/"
        },
        "outputId": "a8f8898e-4b2f-427c-9285-e7244f391d27"
      },
      "outputs": [
        {
          "output_type": "stream",
          "name": "stdout",
          "text": [
            "Test Accuracy for Logistic Regression: 64.55999755859375\n",
            "Test Accuracy for FNN: 87.15999603271484\n",
            "Test Accuracy for CNN: 82.27999877929688\n"
          ]
        }
      ],
      "source": [
        "# Simply run this cell, please do not modify\n",
        "print(f'Test Accuracy for Logistic Regression: ' + str(test_acc_log.item()))\n",
        "print(f'Test Accuracy for FNN: ' + str(test_acc_FNN.item()))\n",
        "print(f'Test Accuracy for CNN: ' + str(test_acc_CNN.item()))"
      ]
    },
    {
      "cell_type": "markdown",
      "metadata": {
        "id": "qOn_Yn3R_qWE"
      },
      "source": [
        "---\n",
        "**TODO:**\n",
        "\n",
        "Now that you've build an image classification model on a relatively simple dataset, could you think of a real-world practical/complex application/use-case where digit recognition is useful?\n",
        "\n",
        "---"
      ]
    },
    {
      "cell_type": "code",
      "execution_count": 92,
      "metadata": {
        "id": "5u99LTB9jJci"
      },
      "outputs": [],
      "source": [
        "# (Manual Grading - 2 point)\n",
        "\n",
        "# Type your response in the following cell as a comment\n",
        "\n",
        "#A real world practical example is reading handwritten addresses at the post office, or reading bank checks.\n",
        "\n"
      ]
    },
    {
      "cell_type": "markdown",
      "metadata": {
        "id": "qVKpT1nRvOP8"
      },
      "source": [
        "## 2.5 Confusion Matrix (Total: 8 points)\n",
        "\n",
        "We want to give you some insight into how you can further analyze the performance of the classification model you have trained.\n",
        "\n",
        "Upto now we have only used accuracy as a measure of performance. Although accuracy is simple and widely used measure, there are drawbacks to using accuracy.\n",
        "\n",
        "Assume that we are trying to train a model to detect a rare disease from CT images of patients. For simplicity, assume that this rare disease has an incidence rate of 1%.\n",
        "\n",
        "In this situation, if we train a degenerative model which always predicts that the patient does not have the disease, the accuracy is very high, namely 99%! Obviously in this case, accuracy is not a good measure of performance of the model.\n",
        "\n",
        "This example serves to motivate confusion matrices and related metrics.\n",
        "\n",
        "A confusion matrix is defined to be $C \\times C$ 2D matrix, where $C$ is number of distinct labels in the dataset. In this matrix, the rows represent the actual labels and the columns represent the predicted labels.\n",
        "\n",
        "The $(i, j)$-th entry of the confusion matrix contains the no. of data points where the actual label is $i$ but the model predicted $j$.\n",
        "\n",
        "<div>\n",
        "<img src='https://s2.loli.net/2023/04/02/7T1e5dtYGihvrRN.png', width='600'>\n",
        "</div>\n",
        "\n",
        "The provided image is an example of a confusion matrix for binary classification (C = 2), but you can easily imagine this scaling up to C > 2.\n",
        "\n",
        "From this confusion matrix we can get all sorts of useful metrics such as False Positive Rate (FPR), False Negative Rate (FNR), Recall, Precision, etc... If you are interested in learning more about confusion matrix and related metrics [this wikipedia page](https://en.wikipedia.org/wiki/Confusion_matrix#cite_note-11) is a good place to look at.\n",
        "\n",
        "\n",
        "\n",
        "\n",
        "\n"
      ]
    },
    {
      "cell_type": "markdown",
      "metadata": {
        "id": "HAbFnMXst_7i"
      },
      "source": [
        "### 2.5.1 Create a confusion matrix (4 points)\n",
        "\n",
        "---\n",
        "\n",
        "**TODO:**\n",
        "1. For the test dataset using the CNN model you have trained above, create a confusion matrix.\n",
        "2. Save the confusion matrix as a pandas dataframe called `confusion_matrix_df`.\n",
        "\n",
        "---\n",
        "**Hint:** Look at what you've done in 2.3.4, and see if what you have done can be re-used."
      ]
    },
    {
      "cell_type": "code",
      "execution_count": 93,
      "metadata": {
        "id": "CVk7BesQt_7j"
      },
      "outputs": [],
      "source": [
        "import pandas as pd\n",
        "import numpy as np\n",
        "from sklearn.metrics import confusion_matrix\n",
        "\n",
        "# TODO\n",
        "\n",
        "def cm_generator(test_loader):\n",
        "\n",
        "  # The goal is to obtain two lists of prediction and actual labels.\n",
        "  # Then, using these two lists, create a confusion matrix dataframe\n",
        "  pred = []\n",
        "  true_label = []\n",
        "  with torch.no_grad():\n",
        "      for images, labels in test_loader:\n",
        "          labels = labels.type(torch.LongTensor)\n",
        "          images, labels = images.to(device), labels.to(device)\n",
        "          output = cnn(images)\n",
        "          prediction = output.argmax(1)\n",
        "          pred = np.concatenate((pred, prediction.cpu()))\n",
        "          true_label = np.concatenate((true_label, labels.cpu()))\n",
        "  return pd.DataFrame(confusion_matrix([x for x in true_label], [x for x in pred]))\n",
        "\n",
        "# END TODO\n"
      ]
    },
    {
      "cell_type": "code",
      "source": [
        "confusion_matrix_df = cm_generator(test_loader)\n",
        "confusion_matrix_df"
      ],
      "metadata": {
        "colab": {
          "base_uri": "https://localhost:8080/",
          "height": 363
        },
        "id": "7iRppKQaxSqz",
        "outputId": "73d9227f-d5a3-40a7-8dbb-6487a01c5264"
      },
      "execution_count": 94,
      "outputs": [
        {
          "output_type": "execute_result",
          "data": {
            "text/plain": [
              "     0    1    2    3    4    5    6    7    8    9\n",
              "0  397    0    5    0    1    8   16    4    4   16\n",
              "1    0  559   12    1    7    0    3    7    2    0\n",
              "2   15    1  371   15   16   10    6   33   16   18\n",
              "3    6    3   19  406    1   20    3   19   23   11\n",
              "4    0    5   14    2  397    4   22    1    9   26\n",
              "5    4    6    4   15    7  373   27    1   11   10\n",
              "6   11    4    1    0   19   23  434    1    3    3\n",
              "7    5   14   22    6    7    1    0  411    3   50\n",
              "8    5    4    5   11   12   22   19    2  358   28\n",
              "9   11    5    7    5   25    8    5   21   15  422"
            ],
            "text/html": [
              "\n",
              "  <div id=\"df-d9de572a-9433-48a9-aad4-f9d8bab3be57\" class=\"colab-df-container\">\n",
              "    <div>\n",
              "<style scoped>\n",
              "    .dataframe tbody tr th:only-of-type {\n",
              "        vertical-align: middle;\n",
              "    }\n",
              "\n",
              "    .dataframe tbody tr th {\n",
              "        vertical-align: top;\n",
              "    }\n",
              "\n",
              "    .dataframe thead th {\n",
              "        text-align: right;\n",
              "    }\n",
              "</style>\n",
              "<table border=\"1\" class=\"dataframe\">\n",
              "  <thead>\n",
              "    <tr style=\"text-align: right;\">\n",
              "      <th></th>\n",
              "      <th>0</th>\n",
              "      <th>1</th>\n",
              "      <th>2</th>\n",
              "      <th>3</th>\n",
              "      <th>4</th>\n",
              "      <th>5</th>\n",
              "      <th>6</th>\n",
              "      <th>7</th>\n",
              "      <th>8</th>\n",
              "      <th>9</th>\n",
              "    </tr>\n",
              "  </thead>\n",
              "  <tbody>\n",
              "    <tr>\n",
              "      <th>0</th>\n",
              "      <td>397</td>\n",
              "      <td>0</td>\n",
              "      <td>5</td>\n",
              "      <td>0</td>\n",
              "      <td>1</td>\n",
              "      <td>8</td>\n",
              "      <td>16</td>\n",
              "      <td>4</td>\n",
              "      <td>4</td>\n",
              "      <td>16</td>\n",
              "    </tr>\n",
              "    <tr>\n",
              "      <th>1</th>\n",
              "      <td>0</td>\n",
              "      <td>559</td>\n",
              "      <td>12</td>\n",
              "      <td>1</td>\n",
              "      <td>7</td>\n",
              "      <td>0</td>\n",
              "      <td>3</td>\n",
              "      <td>7</td>\n",
              "      <td>2</td>\n",
              "      <td>0</td>\n",
              "    </tr>\n",
              "    <tr>\n",
              "      <th>2</th>\n",
              "      <td>15</td>\n",
              "      <td>1</td>\n",
              "      <td>371</td>\n",
              "      <td>15</td>\n",
              "      <td>16</td>\n",
              "      <td>10</td>\n",
              "      <td>6</td>\n",
              "      <td>33</td>\n",
              "      <td>16</td>\n",
              "      <td>18</td>\n",
              "    </tr>\n",
              "    <tr>\n",
              "      <th>3</th>\n",
              "      <td>6</td>\n",
              "      <td>3</td>\n",
              "      <td>19</td>\n",
              "      <td>406</td>\n",
              "      <td>1</td>\n",
              "      <td>20</td>\n",
              "      <td>3</td>\n",
              "      <td>19</td>\n",
              "      <td>23</td>\n",
              "      <td>11</td>\n",
              "    </tr>\n",
              "    <tr>\n",
              "      <th>4</th>\n",
              "      <td>0</td>\n",
              "      <td>5</td>\n",
              "      <td>14</td>\n",
              "      <td>2</td>\n",
              "      <td>397</td>\n",
              "      <td>4</td>\n",
              "      <td>22</td>\n",
              "      <td>1</td>\n",
              "      <td>9</td>\n",
              "      <td>26</td>\n",
              "    </tr>\n",
              "    <tr>\n",
              "      <th>5</th>\n",
              "      <td>4</td>\n",
              "      <td>6</td>\n",
              "      <td>4</td>\n",
              "      <td>15</td>\n",
              "      <td>7</td>\n",
              "      <td>373</td>\n",
              "      <td>27</td>\n",
              "      <td>1</td>\n",
              "      <td>11</td>\n",
              "      <td>10</td>\n",
              "    </tr>\n",
              "    <tr>\n",
              "      <th>6</th>\n",
              "      <td>11</td>\n",
              "      <td>4</td>\n",
              "      <td>1</td>\n",
              "      <td>0</td>\n",
              "      <td>19</td>\n",
              "      <td>23</td>\n",
              "      <td>434</td>\n",
              "      <td>1</td>\n",
              "      <td>3</td>\n",
              "      <td>3</td>\n",
              "    </tr>\n",
              "    <tr>\n",
              "      <th>7</th>\n",
              "      <td>5</td>\n",
              "      <td>14</td>\n",
              "      <td>22</td>\n",
              "      <td>6</td>\n",
              "      <td>7</td>\n",
              "      <td>1</td>\n",
              "      <td>0</td>\n",
              "      <td>411</td>\n",
              "      <td>3</td>\n",
              "      <td>50</td>\n",
              "    </tr>\n",
              "    <tr>\n",
              "      <th>8</th>\n",
              "      <td>5</td>\n",
              "      <td>4</td>\n",
              "      <td>5</td>\n",
              "      <td>11</td>\n",
              "      <td>12</td>\n",
              "      <td>22</td>\n",
              "      <td>19</td>\n",
              "      <td>2</td>\n",
              "      <td>358</td>\n",
              "      <td>28</td>\n",
              "    </tr>\n",
              "    <tr>\n",
              "      <th>9</th>\n",
              "      <td>11</td>\n",
              "      <td>5</td>\n",
              "      <td>7</td>\n",
              "      <td>5</td>\n",
              "      <td>25</td>\n",
              "      <td>8</td>\n",
              "      <td>5</td>\n",
              "      <td>21</td>\n",
              "      <td>15</td>\n",
              "      <td>422</td>\n",
              "    </tr>\n",
              "  </tbody>\n",
              "</table>\n",
              "</div>\n",
              "    <div class=\"colab-df-buttons\">\n",
              "\n",
              "  <div class=\"colab-df-container\">\n",
              "    <button class=\"colab-df-convert\" onclick=\"convertToInteractive('df-d9de572a-9433-48a9-aad4-f9d8bab3be57')\"\n",
              "            title=\"Convert this dataframe to an interactive table.\"\n",
              "            style=\"display:none;\">\n",
              "\n",
              "  <svg xmlns=\"http://www.w3.org/2000/svg\" height=\"24px\" viewBox=\"0 -960 960 960\">\n",
              "    <path d=\"M120-120v-720h720v720H120Zm60-500h600v-160H180v160Zm220 220h160v-160H400v160Zm0 220h160v-160H400v160ZM180-400h160v-160H180v160Zm440 0h160v-160H620v160ZM180-180h160v-160H180v160Zm440 0h160v-160H620v160Z\"/>\n",
              "  </svg>\n",
              "    </button>\n",
              "\n",
              "  <style>\n",
              "    .colab-df-container {\n",
              "      display:flex;\n",
              "      gap: 12px;\n",
              "    }\n",
              "\n",
              "    .colab-df-convert {\n",
              "      background-color: #E8F0FE;\n",
              "      border: none;\n",
              "      border-radius: 50%;\n",
              "      cursor: pointer;\n",
              "      display: none;\n",
              "      fill: #1967D2;\n",
              "      height: 32px;\n",
              "      padding: 0 0 0 0;\n",
              "      width: 32px;\n",
              "    }\n",
              "\n",
              "    .colab-df-convert:hover {\n",
              "      background-color: #E2EBFA;\n",
              "      box-shadow: 0px 1px 2px rgba(60, 64, 67, 0.3), 0px 1px 3px 1px rgba(60, 64, 67, 0.15);\n",
              "      fill: #174EA6;\n",
              "    }\n",
              "\n",
              "    .colab-df-buttons div {\n",
              "      margin-bottom: 4px;\n",
              "    }\n",
              "\n",
              "    [theme=dark] .colab-df-convert {\n",
              "      background-color: #3B4455;\n",
              "      fill: #D2E3FC;\n",
              "    }\n",
              "\n",
              "    [theme=dark] .colab-df-convert:hover {\n",
              "      background-color: #434B5C;\n",
              "      box-shadow: 0px 1px 3px 1px rgba(0, 0, 0, 0.15);\n",
              "      filter: drop-shadow(0px 1px 2px rgba(0, 0, 0, 0.3));\n",
              "      fill: #FFFFFF;\n",
              "    }\n",
              "  </style>\n",
              "\n",
              "    <script>\n",
              "      const buttonEl =\n",
              "        document.querySelector('#df-d9de572a-9433-48a9-aad4-f9d8bab3be57 button.colab-df-convert');\n",
              "      buttonEl.style.display =\n",
              "        google.colab.kernel.accessAllowed ? 'block' : 'none';\n",
              "\n",
              "      async function convertToInteractive(key) {\n",
              "        const element = document.querySelector('#df-d9de572a-9433-48a9-aad4-f9d8bab3be57');\n",
              "        const dataTable =\n",
              "          await google.colab.kernel.invokeFunction('convertToInteractive',\n",
              "                                                    [key], {});\n",
              "        if (!dataTable) return;\n",
              "\n",
              "        const docLinkHtml = 'Like what you see? Visit the ' +\n",
              "          '<a target=\"_blank\" href=https://colab.research.google.com/notebooks/data_table.ipynb>data table notebook</a>'\n",
              "          + ' to learn more about interactive tables.';\n",
              "        element.innerHTML = '';\n",
              "        dataTable['output_type'] = 'display_data';\n",
              "        await google.colab.output.renderOutput(dataTable, element);\n",
              "        const docLink = document.createElement('div');\n",
              "        docLink.innerHTML = docLinkHtml;\n",
              "        element.appendChild(docLink);\n",
              "      }\n",
              "    </script>\n",
              "  </div>\n",
              "\n",
              "\n",
              "<div id=\"df-70e6cd1d-9116-4e56-8f1f-92b8988496bd\">\n",
              "  <button class=\"colab-df-quickchart\" onclick=\"quickchart('df-70e6cd1d-9116-4e56-8f1f-92b8988496bd')\"\n",
              "            title=\"Suggest charts\"\n",
              "            style=\"display:none;\">\n",
              "\n",
              "<svg xmlns=\"http://www.w3.org/2000/svg\" height=\"24px\"viewBox=\"0 0 24 24\"\n",
              "     width=\"24px\">\n",
              "    <g>\n",
              "        <path d=\"M19 3H5c-1.1 0-2 .9-2 2v14c0 1.1.9 2 2 2h14c1.1 0 2-.9 2-2V5c0-1.1-.9-2-2-2zM9 17H7v-7h2v7zm4 0h-2V7h2v10zm4 0h-2v-4h2v4z\"/>\n",
              "    </g>\n",
              "</svg>\n",
              "  </button>\n",
              "\n",
              "<style>\n",
              "  .colab-df-quickchart {\n",
              "      --bg-color: #E8F0FE;\n",
              "      --fill-color: #1967D2;\n",
              "      --hover-bg-color: #E2EBFA;\n",
              "      --hover-fill-color: #174EA6;\n",
              "      --disabled-fill-color: #AAA;\n",
              "      --disabled-bg-color: #DDD;\n",
              "  }\n",
              "\n",
              "  [theme=dark] .colab-df-quickchart {\n",
              "      --bg-color: #3B4455;\n",
              "      --fill-color: #D2E3FC;\n",
              "      --hover-bg-color: #434B5C;\n",
              "      --hover-fill-color: #FFFFFF;\n",
              "      --disabled-bg-color: #3B4455;\n",
              "      --disabled-fill-color: #666;\n",
              "  }\n",
              "\n",
              "  .colab-df-quickchart {\n",
              "    background-color: var(--bg-color);\n",
              "    border: none;\n",
              "    border-radius: 50%;\n",
              "    cursor: pointer;\n",
              "    display: none;\n",
              "    fill: var(--fill-color);\n",
              "    height: 32px;\n",
              "    padding: 0;\n",
              "    width: 32px;\n",
              "  }\n",
              "\n",
              "  .colab-df-quickchart:hover {\n",
              "    background-color: var(--hover-bg-color);\n",
              "    box-shadow: 0 1px 2px rgba(60, 64, 67, 0.3), 0 1px 3px 1px rgba(60, 64, 67, 0.15);\n",
              "    fill: var(--button-hover-fill-color);\n",
              "  }\n",
              "\n",
              "  .colab-df-quickchart-complete:disabled,\n",
              "  .colab-df-quickchart-complete:disabled:hover {\n",
              "    background-color: var(--disabled-bg-color);\n",
              "    fill: var(--disabled-fill-color);\n",
              "    box-shadow: none;\n",
              "  }\n",
              "\n",
              "  .colab-df-spinner {\n",
              "    border: 2px solid var(--fill-color);\n",
              "    border-color: transparent;\n",
              "    border-bottom-color: var(--fill-color);\n",
              "    animation:\n",
              "      spin 1s steps(1) infinite;\n",
              "  }\n",
              "\n",
              "  @keyframes spin {\n",
              "    0% {\n",
              "      border-color: transparent;\n",
              "      border-bottom-color: var(--fill-color);\n",
              "      border-left-color: var(--fill-color);\n",
              "    }\n",
              "    20% {\n",
              "      border-color: transparent;\n",
              "      border-left-color: var(--fill-color);\n",
              "      border-top-color: var(--fill-color);\n",
              "    }\n",
              "    30% {\n",
              "      border-color: transparent;\n",
              "      border-left-color: var(--fill-color);\n",
              "      border-top-color: var(--fill-color);\n",
              "      border-right-color: var(--fill-color);\n",
              "    }\n",
              "    40% {\n",
              "      border-color: transparent;\n",
              "      border-right-color: var(--fill-color);\n",
              "      border-top-color: var(--fill-color);\n",
              "    }\n",
              "    60% {\n",
              "      border-color: transparent;\n",
              "      border-right-color: var(--fill-color);\n",
              "    }\n",
              "    80% {\n",
              "      border-color: transparent;\n",
              "      border-right-color: var(--fill-color);\n",
              "      border-bottom-color: var(--fill-color);\n",
              "    }\n",
              "    90% {\n",
              "      border-color: transparent;\n",
              "      border-bottom-color: var(--fill-color);\n",
              "    }\n",
              "  }\n",
              "</style>\n",
              "\n",
              "  <script>\n",
              "    async function quickchart(key) {\n",
              "      const quickchartButtonEl =\n",
              "        document.querySelector('#' + key + ' button');\n",
              "      quickchartButtonEl.disabled = true;  // To prevent multiple clicks.\n",
              "      quickchartButtonEl.classList.add('colab-df-spinner');\n",
              "      try {\n",
              "        const charts = await google.colab.kernel.invokeFunction(\n",
              "            'suggestCharts', [key], {});\n",
              "      } catch (error) {\n",
              "        console.error('Error during call to suggestCharts:', error);\n",
              "      }\n",
              "      quickchartButtonEl.classList.remove('colab-df-spinner');\n",
              "      quickchartButtonEl.classList.add('colab-df-quickchart-complete');\n",
              "    }\n",
              "    (() => {\n",
              "      let quickchartButtonEl =\n",
              "        document.querySelector('#df-70e6cd1d-9116-4e56-8f1f-92b8988496bd button');\n",
              "      quickchartButtonEl.style.display =\n",
              "        google.colab.kernel.accessAllowed ? 'block' : 'none';\n",
              "    })();\n",
              "  </script>\n",
              "</div>\n",
              "\n",
              "  <div id=\"id_41a4e79d-14df-409d-8e0c-49dc23e722dd\">\n",
              "    <style>\n",
              "      .colab-df-generate {\n",
              "        background-color: #E8F0FE;\n",
              "        border: none;\n",
              "        border-radius: 50%;\n",
              "        cursor: pointer;\n",
              "        display: none;\n",
              "        fill: #1967D2;\n",
              "        height: 32px;\n",
              "        padding: 0 0 0 0;\n",
              "        width: 32px;\n",
              "      }\n",
              "\n",
              "      .colab-df-generate:hover {\n",
              "        background-color: #E2EBFA;\n",
              "        box-shadow: 0px 1px 2px rgba(60, 64, 67, 0.3), 0px 1px 3px 1px rgba(60, 64, 67, 0.15);\n",
              "        fill: #174EA6;\n",
              "      }\n",
              "\n",
              "      [theme=dark] .colab-df-generate {\n",
              "        background-color: #3B4455;\n",
              "        fill: #D2E3FC;\n",
              "      }\n",
              "\n",
              "      [theme=dark] .colab-df-generate:hover {\n",
              "        background-color: #434B5C;\n",
              "        box-shadow: 0px 1px 3px 1px rgba(0, 0, 0, 0.15);\n",
              "        filter: drop-shadow(0px 1px 2px rgba(0, 0, 0, 0.3));\n",
              "        fill: #FFFFFF;\n",
              "      }\n",
              "    </style>\n",
              "    <button class=\"colab-df-generate\" onclick=\"generateWithVariable('confusion_matrix_df')\"\n",
              "            title=\"Generate code using this dataframe.\"\n",
              "            style=\"display:none;\">\n",
              "\n",
              "  <svg xmlns=\"http://www.w3.org/2000/svg\" height=\"24px\"viewBox=\"0 0 24 24\"\n",
              "       width=\"24px\">\n",
              "    <path d=\"M7,19H8.4L18.45,9,17,7.55,7,17.6ZM5,21V16.75L18.45,3.32a2,2,0,0,1,2.83,0l1.4,1.43a1.91,1.91,0,0,1,.58,1.4,1.91,1.91,0,0,1-.58,1.4L9.25,21ZM18.45,9,17,7.55Zm-12,3A5.31,5.31,0,0,0,4.9,8.1,5.31,5.31,0,0,0,1,6.5,5.31,5.31,0,0,0,4.9,4.9,5.31,5.31,0,0,0,6.5,1,5.31,5.31,0,0,0,8.1,4.9,5.31,5.31,0,0,0,12,6.5,5.46,5.46,0,0,0,6.5,12Z\"/>\n",
              "  </svg>\n",
              "    </button>\n",
              "    <script>\n",
              "      (() => {\n",
              "      const buttonEl =\n",
              "        document.querySelector('#id_41a4e79d-14df-409d-8e0c-49dc23e722dd button.colab-df-generate');\n",
              "      buttonEl.style.display =\n",
              "        google.colab.kernel.accessAllowed ? 'block' : 'none';\n",
              "\n",
              "      buttonEl.onclick = () => {\n",
              "        google.colab.notebook.generateWithVariable('confusion_matrix_df');\n",
              "      }\n",
              "      })();\n",
              "    </script>\n",
              "  </div>\n",
              "\n",
              "    </div>\n",
              "  </div>\n"
            ],
            "application/vnd.google.colaboratory.intrinsic+json": {
              "type": "dataframe",
              "variable_name": "confusion_matrix_df",
              "summary": "{\n  \"name\": \"confusion_matrix_df\",\n  \"rows\": 10,\n  \"fields\": [\n    {\n      \"column\": 0,\n      \"properties\": {\n        \"dtype\": \"number\",\n        \"std\": 123,\n        \"min\": 0,\n        \"max\": 397,\n        \"num_unique_values\": 7,\n        \"samples\": [\n          397,\n          0,\n          11\n        ],\n        \"semantic_type\": \"\",\n        \"description\": \"\"\n      }\n    },\n    {\n      \"column\": 1,\n      \"properties\": {\n        \"dtype\": \"number\",\n        \"std\": 175,\n        \"min\": 0,\n        \"max\": 559,\n        \"num_unique_values\": 8,\n        \"samples\": [\n          559,\n          6,\n          0\n        ],\n        \"semantic_type\": \"\",\n        \"description\": \"\"\n      }\n    },\n    {\n      \"column\": 2,\n      \"properties\": {\n        \"dtype\": \"number\",\n        \"std\": 114,\n        \"min\": 1,\n        \"max\": 371,\n        \"num_unique_values\": 9,\n        \"samples\": [\n          22,\n          12,\n          4\n        ],\n        \"semantic_type\": \"\",\n        \"description\": \"\"\n      }\n    },\n    {\n      \"column\": 3,\n      \"properties\": {\n        \"dtype\": \"number\",\n        \"std\": 126,\n        \"min\": 0,\n        \"max\": 406,\n        \"num_unique_values\": 8,\n        \"samples\": [\n          1,\n          6,\n          0\n        ],\n        \"semantic_type\": \"\",\n        \"description\": \"\"\n      }\n    },\n    {\n      \"column\": 4,\n      \"properties\": {\n        \"dtype\": \"number\",\n        \"std\": 122,\n        \"min\": 1,\n        \"max\": 397,\n        \"num_unique_values\": 7,\n        \"samples\": [\n          1,\n          7,\n          12\n        ],\n        \"semantic_type\": \"\",\n        \"description\": \"\"\n      }\n    },\n    {\n      \"column\": 5,\n      \"properties\": {\n        \"dtype\": \"number\",\n        \"std\": 114,\n        \"min\": 0,\n        \"max\": 373,\n        \"num_unique_values\": 9,\n        \"samples\": [\n          1,\n          0,\n          373\n        ],\n        \"semantic_type\": \"\",\n        \"description\": \"\"\n      }\n    },\n    {\n      \"column\": 6,\n      \"properties\": {\n        \"dtype\": \"number\",\n        \"std\": 134,\n        \"min\": 0,\n        \"max\": 434,\n        \"num_unique_values\": 9,\n        \"samples\": [\n          19,\n          3,\n          434\n        ],\n        \"semantic_type\": \"\",\n        \"description\": \"\"\n      }\n    },\n    {\n      \"column\": 7,\n      \"properties\": {\n        \"dtype\": \"number\",\n        \"std\": 127,\n        \"min\": 1,\n        \"max\": 411,\n        \"num_unique_values\": 8,\n        \"samples\": [\n          7,\n          411,\n          4\n        ],\n        \"semantic_type\": \"\",\n        \"description\": \"\"\n      }\n    },\n    {\n      \"column\": 8,\n      \"properties\": {\n        \"dtype\": \"number\",\n        \"std\": 110,\n        \"min\": 2,\n        \"max\": 358,\n        \"num_unique_values\": 9,\n        \"samples\": [\n          358,\n          2,\n          11\n        ],\n        \"semantic_type\": \"\",\n        \"description\": \"\"\n      }\n    },\n    {\n      \"column\": 9,\n      \"properties\": {\n        \"dtype\": \"number\",\n        \"std\": 128,\n        \"min\": 0,\n        \"max\": 422,\n        \"num_unique_values\": 10,\n        \"samples\": [\n          28,\n          0,\n          10\n        ],\n        \"semantic_type\": \"\",\n        \"description\": \"\"\n      }\n    }\n  ]\n}"
            }
          },
          "metadata": {},
          "execution_count": 94
        }
      ]
    },
    {
      "cell_type": "code",
      "execution_count": 95,
      "metadata": {
        "id": "hsv-udDgt_7j",
        "colab": {
          "base_uri": "https://localhost:8080/"
        },
        "outputId": "666a65cc-a145-4097-a42b-4d73659d7a86"
      },
      "outputs": [
        {
          "output_type": "stream",
          "name": "stdout",
          "text": [
            "Correct! You earned 4/4 points. You are a star!\n",
            "\n",
            "Your submission has been successfully recorded in the gradebook.\n"
          ]
        }
      ],
      "source": [
        "#Grader Cell (4 points)\n",
        "import numpy as np\n",
        "grader.grade('check_confusion_matrix', (str(type(confusion_matrix_df)),\n",
        "                                        confusion_matrix_df.shape,\n",
        "                                        confusion_matrix_df.to_numpy().sum(),\n",
        "                                        np.trace(confusion_matrix_df.to_numpy())\n",
        "                                        ))"
      ]
    },
    {
      "cell_type": "markdown",
      "metadata": {
        "id": "bfz3myW0t_7k"
      },
      "source": [
        "### 2.5.2 Visualizing Confusion Matrix (4 points - Manual Grading)\n",
        "\n",
        "---\n",
        "**TODOs:**\n",
        "\n",
        "Implement the code to visualize the confusion matrix you have created above. This section will be manually graded\n",
        "\n",
        "Suggested library is using Seaborn heatmap.\n",
        "\n",
        "Chart Specifications:\n",
        "1. Each cell is labled/annotated with associated values. Take a look at the parameter \"annot\".\n",
        "2. Make sure all annotated values are in integers, and not shown in scientific notations. Use the parameter `fmt = \"g\"`.\n",
        "3. Add chart title, and axis name label (\"Actual\" and \"Predicted\". Check out which axis is associated with either label.\n",
        "4. Set map color to Green-Blue\n",
        "5. To avoid \"File Too Large\" for submission, please set figure size to (8,4).\n",
        "---\n",
        "Resource: [Seaborn Heatmap documentation](https://seaborn.pydata.org/generated/seaborn.heatmap.html )"
      ]
    },
    {
      "cell_type": "code",
      "execution_count": 96,
      "metadata": {
        "id": "zMOQnqEAt_7k",
        "colab": {
          "base_uri": "https://localhost:8080/",
          "height": 410
        },
        "outputId": "db431419-b832-492b-8185-286bf7fed534"
      },
      "outputs": [
        {
          "output_type": "display_data",
          "data": {
            "text/plain": [
              "<Figure size 800x400 with 2 Axes>"
            ],
            "image/png": "[encoded data removed]"
          },
          "metadata": {}
        }
      ],
      "source": [
        "\n",
        "# TODO\n",
        "plt.figure(figsize=(8,4))\n",
        "sns.heatmap(confusion_matrix_df.to_numpy(), annot = True, fmt = 'g', cmap=\"GnBu\")\n",
        "plt.title(\"Confusion Matrix\")\n",
        "plt.xlabel(\"Predicted\")\n",
        "plt.ylabel(\"Actual\")\n",
        "plt.show()\n",
        "\n",
        "# END TODO\n"
      ]
    },
    {
      "cell_type": "markdown",
      "metadata": {
        "id": "AXRYkQMgMfQK"
      },
      "source": [
        "# Homework Submission\n",
        "\n",
        "Good job! You have finished the homework :) The submission instructions are as follows:\n",
        "\n",
        "* **Double check** that you have the correct PennID (all numbers) in the autograder.\n",
        "\n",
        "* **Triple check** that you have all plots shown in this Colab notebook before submitting (otherwise, your submission will be subjected to a **penalty of -5 points**).\n",
        "\n",
        "*  Go to the \"File\" tab at the top left of the Colab UI, click \"Download .ipynb\" and then \"Download .py\".  **Rename** these two files to `homework5.ipynb` and `homework5.py` respectively and upload them to Gradescope.\n",
        "  - <ins>**WAIT UNTIL THE GRADESCOPE AUTOGRADER FINISHES RUNNING!**</ins> If we have to manually upload this for you after the deadline, **we will apply a penalty of -5 points** (this stacks with any other penatlies)\n",
        "\n",
        "* You must submit your notebook to receive credit. Post any issues with submission on Ed and make sure to keep in mind the late day policy.\n",
        "\n",
        "* After you submit your code, the teaching staff will manually grade your Colab notebook in order to validate the correctness of your code."
      ]
    }
  ],
  "metadata": {
    "colab": {
      "provenance": [],
      "gpuType": "T4"
    },
    "kernelspec": {
      "display_name": "Python 3",
      "name": "python3"
    },
    "language_info": {
      "name": "python"
    },
    "accelerator": "GPU"
  },
  "nbformat": 4,
  "nbformat_minor": 0
}